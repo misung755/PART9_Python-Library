{
 "cells": [
  {
   "cell_type": "markdown",
   "metadata": {
    "colab_type": "text",
    "id": "BFhIXgdYoYGp"
   },
   "source": [
    "<center><img src='https://raw.githubusercontent.com/Jangrae/img/master/title.png' width=500/></center>"
   ]
  },
  {
   "cell_type": "markdown",
   "metadata": {},
   "source": [
    "<center>- Pandas의 모든 것을 배우지 않습니다. 데이터 전처리에 대한 부분만 학습 대상이 됩니다 -</center>"
   ]
  },
  {
   "cell_type": "markdown",
   "metadata": {
    "colab_type": "text",
    "id": "DFijIAllYnVQ"
   },
   "source": [
    "# 학습 목표\n",
    "\n",
    "- 특정 값, 특정 행, 특정 열의 데이터를 조회할 수 있습니다.\n",
    "- 특정 조건을 만족하는 데이터를 조회할 수 있습니다."
   ]
  },
  {
   "cell_type": "markdown",
   "metadata": {
    "colab_type": "text",
    "id": "-sdzPN0Uwxi2"
   },
   "source": [
    "# 4. 데이터프레임 조회\n",
    "\n",
    "- 보고자 하는 데이터를 즉시 조회할 수 있도록 반복 학습과 실습을 통해 익숙해져야 합니다.\n",
    "- 데이터프레임을 대상으로 조회하는 방법은 다양합니다.\n",
    "- 각자가 편하다 느끼는 방법을 선택해 그것을 쓰면 됩니다."
   ]
  },
  {
   "cell_type": "code",
   "execution_count": 1,
   "metadata": {
    "colab": {},
    "colab_type": "code",
    "id": "0wzhP3IXYnVQ"
   },
   "outputs": [],
   "source": [
    "# 라이브러리 불러오기\n",
    "import pandas as pd\n",
    "import numpy as np"
   ]
  },
  {
   "cell_type": "markdown",
   "metadata": {
    "colab_type": "text",
    "id": "WUSoqSxcYnV5"
   },
   "source": [
    "## 4.1. 데이터 불러오기"
   ]
  },
  {
   "cell_type": "code",
   "execution_count": 2,
   "metadata": {
    "colab": {},
    "colab_type": "code",
    "id": "FfwQRjMzATka",
    "scrolled": true
   },
   "outputs": [
    {
     "data": {
      "text/html": [
       "<div>\n",
       "<style scoped>\n",
       "    .dataframe tbody tr th:only-of-type {\n",
       "        vertical-align: middle;\n",
       "    }\n",
       "\n",
       "    .dataframe tbody tr th {\n",
       "        vertical-align: top;\n",
       "    }\n",
       "\n",
       "    .dataframe thead th {\n",
       "        text-align: right;\n",
       "    }\n",
       "</style>\n",
       "<table border=\"1\" class=\"dataframe\">\n",
       "  <thead>\n",
       "    <tr style=\"text-align: right;\">\n",
       "      <th></th>\n",
       "      <th>PassengerId</th>\n",
       "      <th>Survived</th>\n",
       "      <th>Pclass</th>\n",
       "      <th>Name</th>\n",
       "      <th>Sex</th>\n",
       "      <th>Age</th>\n",
       "      <th>Fare</th>\n",
       "      <th>Embarked</th>\n",
       "    </tr>\n",
       "  </thead>\n",
       "  <tbody>\n",
       "    <tr>\n",
       "      <th>0</th>\n",
       "      <td>1</td>\n",
       "      <td>0</td>\n",
       "      <td>3</td>\n",
       "      <td>Braund, Mr. Owen Harris</td>\n",
       "      <td>male</td>\n",
       "      <td>22.0</td>\n",
       "      <td>7.2500</td>\n",
       "      <td>Southhampton</td>\n",
       "    </tr>\n",
       "    <tr>\n",
       "      <th>1</th>\n",
       "      <td>2</td>\n",
       "      <td>1</td>\n",
       "      <td>1</td>\n",
       "      <td>Cumings, Mrs. John Bradley (Florence Briggs Th...</td>\n",
       "      <td>female</td>\n",
       "      <td>38.0</td>\n",
       "      <td>71.2833</td>\n",
       "      <td>Cherbourg</td>\n",
       "    </tr>\n",
       "    <tr>\n",
       "      <th>2</th>\n",
       "      <td>3</td>\n",
       "      <td>1</td>\n",
       "      <td>3</td>\n",
       "      <td>Heikkinen, Miss. Laina</td>\n",
       "      <td>female</td>\n",
       "      <td>26.0</td>\n",
       "      <td>7.9250</td>\n",
       "      <td>Southhampton</td>\n",
       "    </tr>\n",
       "    <tr>\n",
       "      <th>3</th>\n",
       "      <td>4</td>\n",
       "      <td>1</td>\n",
       "      <td>1</td>\n",
       "      <td>Futrelle, Mrs. Jacques Heath (Lily May Peel)</td>\n",
       "      <td>female</td>\n",
       "      <td>35.0</td>\n",
       "      <td>53.1000</td>\n",
       "      <td>Southhampton</td>\n",
       "    </tr>\n",
       "    <tr>\n",
       "      <th>4</th>\n",
       "      <td>5</td>\n",
       "      <td>0</td>\n",
       "      <td>3</td>\n",
       "      <td>Allen, Mr. William Henry</td>\n",
       "      <td>male</td>\n",
       "      <td>35.0</td>\n",
       "      <td>8.0500</td>\n",
       "      <td>Southhampton</td>\n",
       "    </tr>\n",
       "  </tbody>\n",
       "</table>\n",
       "</div>"
      ],
      "text/plain": [
       "   PassengerId  Survived  Pclass  \\\n",
       "0            1         0       3   \n",
       "1            2         1       1   \n",
       "2            3         1       3   \n",
       "3            4         1       1   \n",
       "4            5         0       3   \n",
       "\n",
       "                                                Name     Sex   Age     Fare  \\\n",
       "0                            Braund, Mr. Owen Harris    male  22.0   7.2500   \n",
       "1  Cumings, Mrs. John Bradley (Florence Briggs Th...  female  38.0  71.2833   \n",
       "2                             Heikkinen, Miss. Laina  female  26.0   7.9250   \n",
       "3       Futrelle, Mrs. Jacques Heath (Lily May Peel)  female  35.0  53.1000   \n",
       "4                           Allen, Mr. William Henry    male  35.0   8.0500   \n",
       "\n",
       "       Embarked  \n",
       "0  Southhampton  \n",
       "1     Cherbourg  \n",
       "2  Southhampton  \n",
       "3  Southhampton  \n",
       "4  Southhampton  "
      ]
     },
     "execution_count": 2,
     "metadata": {},
     "output_type": "execute_result"
    }
   ],
   "source": [
    "# Titanic 데이터 불러오기\n",
    "file_path = 'https://raw.githubusercontent.com/Jangrae/csv/master/titanic_simple.csv'\n",
    "titanic = pd.read_csv(file_path, sep = ',', skipinitialspace = True)  \n",
    "titanic.head()"
   ]
  },
  {
   "cell_type": "code",
   "execution_count": 3,
   "metadata": {
    "colab": {},
    "colab_type": "code",
    "id": "5RNOXdO-ATkn",
    "scrolled": true
   },
   "outputs": [
    {
     "data": {
      "text/html": [
       "<div>\n",
       "<style scoped>\n",
       "    .dataframe tbody tr th:only-of-type {\n",
       "        vertical-align: middle;\n",
       "    }\n",
       "\n",
       "    .dataframe tbody tr th {\n",
       "        vertical-align: top;\n",
       "    }\n",
       "\n",
       "    .dataframe thead th {\n",
       "        text-align: right;\n",
       "    }\n",
       "</style>\n",
       "<table border=\"1\" class=\"dataframe\">\n",
       "  <thead>\n",
       "    <tr style=\"text-align: right;\">\n",
       "      <th></th>\n",
       "      <th>High</th>\n",
       "      <th>Low</th>\n",
       "      <th>Open</th>\n",
       "      <th>Close</th>\n",
       "      <th>Volume</th>\n",
       "      <th>Adj Close</th>\n",
       "    </tr>\n",
       "  </thead>\n",
       "  <tbody>\n",
       "    <tr>\n",
       "      <th>2000-01-03</th>\n",
       "      <td>4.017857</td>\n",
       "      <td>3.631696</td>\n",
       "      <td>3.745536</td>\n",
       "      <td>3.997768</td>\n",
       "      <td>133949200</td>\n",
       "      <td>3.470226</td>\n",
       "    </tr>\n",
       "    <tr>\n",
       "      <th>2000-01-04</th>\n",
       "      <td>3.950893</td>\n",
       "      <td>3.613839</td>\n",
       "      <td>3.866071</td>\n",
       "      <td>3.660714</td>\n",
       "      <td>128094400</td>\n",
       "      <td>3.177650</td>\n",
       "    </tr>\n",
       "    <tr>\n",
       "      <th>2000-01-05</th>\n",
       "      <td>3.948661</td>\n",
       "      <td>3.678571</td>\n",
       "      <td>3.705357</td>\n",
       "      <td>3.714286</td>\n",
       "      <td>194580400</td>\n",
       "      <td>3.224152</td>\n",
       "    </tr>\n",
       "    <tr>\n",
       "      <th>2000-01-06</th>\n",
       "      <td>3.821429</td>\n",
       "      <td>3.392857</td>\n",
       "      <td>3.790179</td>\n",
       "      <td>3.392857</td>\n",
       "      <td>191993200</td>\n",
       "      <td>2.945139</td>\n",
       "    </tr>\n",
       "    <tr>\n",
       "      <th>2000-01-07</th>\n",
       "      <td>3.607143</td>\n",
       "      <td>3.410714</td>\n",
       "      <td>3.446429</td>\n",
       "      <td>3.553571</td>\n",
       "      <td>115183600</td>\n",
       "      <td>3.084645</td>\n",
       "    </tr>\n",
       "  </tbody>\n",
       "</table>\n",
       "</div>"
      ],
      "text/plain": [
       "                High       Low      Open     Close     Volume  Adj Close\n",
       "2000-01-03  4.017857  3.631696  3.745536  3.997768  133949200   3.470226\n",
       "2000-01-04  3.950893  3.613839  3.866071  3.660714  128094400   3.177650\n",
       "2000-01-05  3.948661  3.678571  3.705357  3.714286  194580400   3.224152\n",
       "2000-01-06  3.821429  3.392857  3.790179  3.392857  191993200   2.945139\n",
       "2000-01-07  3.607143  3.410714  3.446429  3.553571  115183600   3.084645"
      ]
     },
     "execution_count": 3,
     "metadata": {},
     "output_type": "execute_result"
    }
   ],
   "source": [
    "# Stock 데이터 불러오기\n",
    "file_path = 'https://raw.githubusercontent.com/Jangrae/csv/master/stock.csv'\n",
    "stock = pd.read_csv(file_path, sep = ',', skipinitialspace = True)  \n",
    "\n",
    "# Date 열을 인덱스 열로 지정\n",
    "stock.set_index(['Date'], inplace = True)\n",
    "stock.index.name = None\n",
    "stock.head()"
   ]
  },
  {
   "cell_type": "markdown",
   "metadata": {
    "colab_type": "text",
    "id": "Mt5BqItLATk8"
   },
   "source": [
    "## 4.2. 이름으로 조회\n",
    "\n",
    "- **.loc[[행이름], [열이름]]**을 사용해 조회할 수 있습니다."
   ]
  },
  {
   "cell_type": "code",
   "execution_count": 4,
   "metadata": {
    "colab": {},
    "colab_type": "code",
    "id": "TH8CN-tiYnV6",
    "scrolled": false
   },
   "outputs": [
    {
     "data": {
      "text/html": [
       "<div>\n",
       "<style scoped>\n",
       "    .dataframe tbody tr th:only-of-type {\n",
       "        vertical-align: middle;\n",
       "    }\n",
       "\n",
       "    .dataframe tbody tr th {\n",
       "        vertical-align: top;\n",
       "    }\n",
       "\n",
       "    .dataframe thead th {\n",
       "        text-align: right;\n",
       "    }\n",
       "</style>\n",
       "<table border=\"1\" class=\"dataframe\">\n",
       "  <thead>\n",
       "    <tr style=\"text-align: right;\">\n",
       "      <th></th>\n",
       "      <th>High</th>\n",
       "      <th>Low</th>\n",
       "      <th>Open</th>\n",
       "      <th>Close</th>\n",
       "      <th>Volume</th>\n",
       "      <th>Adj Close</th>\n",
       "    </tr>\n",
       "  </thead>\n",
       "  <tbody>\n",
       "    <tr>\n",
       "      <th>2000-01-03</th>\n",
       "      <td>4.017857</td>\n",
       "      <td>3.631696</td>\n",
       "      <td>3.745536</td>\n",
       "      <td>3.997768</td>\n",
       "      <td>133949200</td>\n",
       "      <td>3.470226</td>\n",
       "    </tr>\n",
       "    <tr>\n",
       "      <th>2000-01-04</th>\n",
       "      <td>3.950893</td>\n",
       "      <td>3.613839</td>\n",
       "      <td>3.866071</td>\n",
       "      <td>3.660714</td>\n",
       "      <td>128094400</td>\n",
       "      <td>3.177650</td>\n",
       "    </tr>\n",
       "    <tr>\n",
       "      <th>2000-01-05</th>\n",
       "      <td>3.948661</td>\n",
       "      <td>3.678571</td>\n",
       "      <td>3.705357</td>\n",
       "      <td>3.714286</td>\n",
       "      <td>194580400</td>\n",
       "      <td>3.224152</td>\n",
       "    </tr>\n",
       "    <tr>\n",
       "      <th>2000-01-06</th>\n",
       "      <td>3.821429</td>\n",
       "      <td>3.392857</td>\n",
       "      <td>3.790179</td>\n",
       "      <td>3.392857</td>\n",
       "      <td>191993200</td>\n",
       "      <td>2.945139</td>\n",
       "    </tr>\n",
       "    <tr>\n",
       "      <th>2000-01-07</th>\n",
       "      <td>3.607143</td>\n",
       "      <td>3.410714</td>\n",
       "      <td>3.446429</td>\n",
       "      <td>3.553571</td>\n",
       "      <td>115183600</td>\n",
       "      <td>3.084645</td>\n",
       "    </tr>\n",
       "  </tbody>\n",
       "</table>\n",
       "</div>"
      ],
      "text/plain": [
       "                High       Low      Open     Close     Volume  Adj Close\n",
       "2000-01-03  4.017857  3.631696  3.745536  3.997768  133949200   3.470226\n",
       "2000-01-04  3.950893  3.613839  3.866071  3.660714  128094400   3.177650\n",
       "2000-01-05  3.948661  3.678571  3.705357  3.714286  194580400   3.224152\n",
       "2000-01-06  3.821429  3.392857  3.790179  3.392857  191993200   2.945139\n",
       "2000-01-07  3.607143  3.410714  3.446429  3.553571  115183600   3.084645"
      ]
     },
     "execution_count": 4,
     "metadata": {},
     "output_type": "execute_result"
    }
   ],
   "source": [
    "# 데이터프레임 확인\n",
    "stock.head()"
   ]
  },
  {
   "cell_type": "markdown",
   "metadata": {
    "colab_type": "text",
    "id": "zAUW_IsWATlL"
   },
   "source": [
    "**1) 열 조회**\n",
    "\n",
    "- **df.loc[:,['열이름']]** 형태로 조회하면 특정 열을 조회합니다.\n",
    "- 행 부분을 생략할 수는 없습니다."
   ]
  },
  {
   "cell_type": "code",
   "execution_count": 10,
   "metadata": {
    "colab": {},
    "colab_type": "code",
    "id": "lcmP48_qmiVd",
    "scrolled": false
   },
   "outputs": [
    {
     "data": {
      "text/html": [
       "<div>\n",
       "<style scoped>\n",
       "    .dataframe tbody tr th:only-of-type {\n",
       "        vertical-align: middle;\n",
       "    }\n",
       "\n",
       "    .dataframe tbody tr th {\n",
       "        vertical-align: top;\n",
       "    }\n",
       "\n",
       "    .dataframe thead th {\n",
       "        text-align: right;\n",
       "    }\n",
       "</style>\n",
       "<table border=\"1\" class=\"dataframe\">\n",
       "  <thead>\n",
       "    <tr style=\"text-align: right;\">\n",
       "      <th></th>\n",
       "      <th>Close</th>\n",
       "      <th>Open</th>\n",
       "    </tr>\n",
       "  </thead>\n",
       "  <tbody>\n",
       "    <tr>\n",
       "      <th>2000-01-03</th>\n",
       "      <td>3.997768</td>\n",
       "      <td>3.745536</td>\n",
       "    </tr>\n",
       "    <tr>\n",
       "      <th>2000-01-04</th>\n",
       "      <td>3.660714</td>\n",
       "      <td>3.866071</td>\n",
       "    </tr>\n",
       "    <tr>\n",
       "      <th>2000-01-05</th>\n",
       "      <td>3.714286</td>\n",
       "      <td>3.705357</td>\n",
       "    </tr>\n",
       "    <tr>\n",
       "      <th>2000-01-06</th>\n",
       "      <td>3.392857</td>\n",
       "      <td>3.790179</td>\n",
       "    </tr>\n",
       "    <tr>\n",
       "      <th>2000-01-07</th>\n",
       "      <td>3.553571</td>\n",
       "      <td>3.446429</td>\n",
       "    </tr>\n",
       "  </tbody>\n",
       "</table>\n",
       "</div>"
      ],
      "text/plain": [
       "               Close      Open\n",
       "2000-01-03  3.997768  3.745536\n",
       "2000-01-04  3.660714  3.866071\n",
       "2000-01-05  3.714286  3.705357\n",
       "2000-01-06  3.392857  3.790179\n",
       "2000-01-07  3.553571  3.446429"
      ]
     },
     "execution_count": 10,
     "metadata": {},
     "output_type": "execute_result"
    }
   ],
   "source": [
    "# Close 열 조회\n",
    "stock.loc[:,['Close']].head()\n",
    "stock[['Close','Open']].head()"
   ]
  },
  {
   "cell_type": "markdown",
   "metadata": {
    "colab_type": "text",
    "id": "QBMZLdy2EhD2"
   },
   "source": [
    "- **df[['열이름']]** 형태로도 많이 사용합니다. \n",
    "- 열 하나를 지정할 때는 **df['열이름']** 형태로 사용합니다."
   ]
  },
  {
   "cell_type": "code",
   "execution_count": 11,
   "metadata": {
    "colab": {},
    "colab_type": "code",
    "id": "cf2WXIVyEaJ3",
    "scrolled": false
   },
   "outputs": [
    {
     "data": {
      "text/plain": [
       "2000-01-03    3.997768\n",
       "2000-01-04    3.660714\n",
       "2000-01-05    3.714286\n",
       "2000-01-06    3.392857\n",
       "2000-01-07    3.553571\n",
       "Name: Close, dtype: float64"
      ]
     },
     "execution_count": 11,
     "metadata": {},
     "output_type": "execute_result"
    }
   ],
   "source": [
    "# Close 열 조회\n",
    "stock['Close'].head()"
   ]
  },
  {
   "cell_type": "code",
   "execution_count": 12,
   "metadata": {
    "colab": {},
    "colab_type": "code",
    "id": "at4E4ee8EWFM",
    "scrolled": false
   },
   "outputs": [
    {
     "data": {
      "text/html": [
       "<div>\n",
       "<style scoped>\n",
       "    .dataframe tbody tr th:only-of-type {\n",
       "        vertical-align: middle;\n",
       "    }\n",
       "\n",
       "    .dataframe tbody tr th {\n",
       "        vertical-align: top;\n",
       "    }\n",
       "\n",
       "    .dataframe thead th {\n",
       "        text-align: right;\n",
       "    }\n",
       "</style>\n",
       "<table border=\"1\" class=\"dataframe\">\n",
       "  <thead>\n",
       "    <tr style=\"text-align: right;\">\n",
       "      <th></th>\n",
       "      <th>Close</th>\n",
       "    </tr>\n",
       "  </thead>\n",
       "  <tbody>\n",
       "    <tr>\n",
       "      <th>2000-01-03</th>\n",
       "      <td>3.997768</td>\n",
       "    </tr>\n",
       "    <tr>\n",
       "      <th>2000-01-04</th>\n",
       "      <td>3.660714</td>\n",
       "    </tr>\n",
       "    <tr>\n",
       "      <th>2000-01-05</th>\n",
       "      <td>3.714286</td>\n",
       "    </tr>\n",
       "    <tr>\n",
       "      <th>2000-01-06</th>\n",
       "      <td>3.392857</td>\n",
       "    </tr>\n",
       "    <tr>\n",
       "      <th>2000-01-07</th>\n",
       "      <td>3.553571</td>\n",
       "    </tr>\n",
       "  </tbody>\n",
       "</table>\n",
       "</div>"
      ],
      "text/plain": [
       "               Close\n",
       "2000-01-03  3.997768\n",
       "2000-01-04  3.660714\n",
       "2000-01-05  3.714286\n",
       "2000-01-06  3.392857\n",
       "2000-01-07  3.553571"
      ]
     },
     "execution_count": 12,
     "metadata": {},
     "output_type": "execute_result"
    }
   ],
   "source": [
    "# Close 열 조회 --> 데이터프레임\n",
    "stock[['Close']].head()"
   ]
  },
  {
   "cell_type": "markdown",
   "metadata": {
    "colab_type": "text",
    "id": "v7ymk6ljE9kK"
   },
   "source": [
    "- 열 이름을 여럿 나열하여 여러 열을 조회할 수 있습니다."
   ]
  },
  {
   "cell_type": "code",
   "execution_count": 13,
   "metadata": {
    "colab": {},
    "colab_type": "code",
    "id": "yk6PNxuonXdW",
    "scrolled": false
   },
   "outputs": [
    {
     "data": {
      "text/html": [
       "<div>\n",
       "<style scoped>\n",
       "    .dataframe tbody tr th:only-of-type {\n",
       "        vertical-align: middle;\n",
       "    }\n",
       "\n",
       "    .dataframe tbody tr th {\n",
       "        vertical-align: top;\n",
       "    }\n",
       "\n",
       "    .dataframe thead th {\n",
       "        text-align: right;\n",
       "    }\n",
       "</style>\n",
       "<table border=\"1\" class=\"dataframe\">\n",
       "  <thead>\n",
       "    <tr style=\"text-align: right;\">\n",
       "      <th></th>\n",
       "      <th>Open</th>\n",
       "      <th>Close</th>\n",
       "      <th>Volume</th>\n",
       "    </tr>\n",
       "  </thead>\n",
       "  <tbody>\n",
       "    <tr>\n",
       "      <th>2000-01-03</th>\n",
       "      <td>3.745536</td>\n",
       "      <td>3.997768</td>\n",
       "      <td>133949200</td>\n",
       "    </tr>\n",
       "    <tr>\n",
       "      <th>2000-01-04</th>\n",
       "      <td>3.866071</td>\n",
       "      <td>3.660714</td>\n",
       "      <td>128094400</td>\n",
       "    </tr>\n",
       "    <tr>\n",
       "      <th>2000-01-05</th>\n",
       "      <td>3.705357</td>\n",
       "      <td>3.714286</td>\n",
       "      <td>194580400</td>\n",
       "    </tr>\n",
       "    <tr>\n",
       "      <th>2000-01-06</th>\n",
       "      <td>3.790179</td>\n",
       "      <td>3.392857</td>\n",
       "      <td>191993200</td>\n",
       "    </tr>\n",
       "    <tr>\n",
       "      <th>2000-01-07</th>\n",
       "      <td>3.446429</td>\n",
       "      <td>3.553571</td>\n",
       "      <td>115183600</td>\n",
       "    </tr>\n",
       "  </tbody>\n",
       "</table>\n",
       "</div>"
      ],
      "text/plain": [
       "                Open     Close     Volume\n",
       "2000-01-03  3.745536  3.997768  133949200\n",
       "2000-01-04  3.866071  3.660714  128094400\n",
       "2000-01-05  3.705357  3.714286  194580400\n",
       "2000-01-06  3.790179  3.392857  191993200\n",
       "2000-01-07  3.446429  3.553571  115183600"
      ]
     },
     "execution_count": 13,
     "metadata": {},
     "output_type": "execute_result"
    }
   ],
   "source": [
    "# Open, Close, Volume 열 조회\n",
    "stock[['Open', 'Close', 'Volume']].head()"
   ]
  },
  {
   "cell_type": "markdown",
   "metadata": {
    "colab_type": "text",
    "id": "jM8B340nFFys"
   },
   "source": [
    "- 범위를 지정해 조회할 수 있습니다. \n",
    "- 범위 조회는 **df.loc[:,['열이름']]** 형태를 지켜야 합니다.\n",
    "- 또한 **대괄호를 사용하면 안됩니다.**"
   ]
  },
  {
   "cell_type": "code",
   "execution_count": 14,
   "metadata": {
    "colab": {},
    "colab_type": "code",
    "id": "jMVfJcHzFFyu",
    "scrolled": false
   },
   "outputs": [
    {
     "data": {
      "text/html": [
       "<div>\n",
       "<style scoped>\n",
       "    .dataframe tbody tr th:only-of-type {\n",
       "        vertical-align: middle;\n",
       "    }\n",
       "\n",
       "    .dataframe tbody tr th {\n",
       "        vertical-align: top;\n",
       "    }\n",
       "\n",
       "    .dataframe thead th {\n",
       "        text-align: right;\n",
       "    }\n",
       "</style>\n",
       "<table border=\"1\" class=\"dataframe\">\n",
       "  <thead>\n",
       "    <tr style=\"text-align: right;\">\n",
       "      <th></th>\n",
       "      <th>High</th>\n",
       "      <th>Low</th>\n",
       "      <th>Open</th>\n",
       "      <th>Close</th>\n",
       "    </tr>\n",
       "  </thead>\n",
       "  <tbody>\n",
       "    <tr>\n",
       "      <th>2000-01-03</th>\n",
       "      <td>4.017857</td>\n",
       "      <td>3.631696</td>\n",
       "      <td>3.745536</td>\n",
       "      <td>3.997768</td>\n",
       "    </tr>\n",
       "    <tr>\n",
       "      <th>2000-01-04</th>\n",
       "      <td>3.950893</td>\n",
       "      <td>3.613839</td>\n",
       "      <td>3.866071</td>\n",
       "      <td>3.660714</td>\n",
       "    </tr>\n",
       "    <tr>\n",
       "      <th>2000-01-05</th>\n",
       "      <td>3.948661</td>\n",
       "      <td>3.678571</td>\n",
       "      <td>3.705357</td>\n",
       "      <td>3.714286</td>\n",
       "    </tr>\n",
       "    <tr>\n",
       "      <th>2000-01-06</th>\n",
       "      <td>3.821429</td>\n",
       "      <td>3.392857</td>\n",
       "      <td>3.790179</td>\n",
       "      <td>3.392857</td>\n",
       "    </tr>\n",
       "    <tr>\n",
       "      <th>2000-01-07</th>\n",
       "      <td>3.607143</td>\n",
       "      <td>3.410714</td>\n",
       "      <td>3.446429</td>\n",
       "      <td>3.553571</td>\n",
       "    </tr>\n",
       "  </tbody>\n",
       "</table>\n",
       "</div>"
      ],
      "text/plain": [
       "                High       Low      Open     Close\n",
       "2000-01-03  4.017857  3.631696  3.745536  3.997768\n",
       "2000-01-04  3.950893  3.613839  3.866071  3.660714\n",
       "2000-01-05  3.948661  3.678571  3.705357  3.714286\n",
       "2000-01-06  3.821429  3.392857  3.790179  3.392857\n",
       "2000-01-07  3.607143  3.410714  3.446429  3.553571"
      ]
     },
     "execution_count": 14,
     "metadata": {},
     "output_type": "execute_result"
    }
   ],
   "source": [
    "# Open, Close, Volume 열 조회\n",
    "stock.loc[:, 'High':'Close'].head()"
   ]
  },
  {
   "cell_type": "markdown",
   "metadata": {
    "colab_type": "text",
    "id": "mHrKYYWip4Es"
   },
   "source": [
    "<img src='https://raw.githubusercontent.com/jangrae/img/master/practice_01.png' width=120 align=\"left\"/>"
   ]
  },
  {
   "cell_type": "markdown",
   "metadata": {
    "colab_type": "text",
    "id": "-hv9haY7DLyU"
   },
   "source": [
    "titanic 데이터프레임에 대해 열을 조회하는 아래 셀 내용욜 작성해 보세요."
   ]
  },
  {
   "cell_type": "code",
   "execution_count": 15,
   "metadata": {
    "colab": {},
    "colab_type": "code",
    "id": "-VJoVHxgJQSn"
   },
   "outputs": [
    {
     "data": {
      "text/html": [
       "<div>\n",
       "<style scoped>\n",
       "    .dataframe tbody tr th:only-of-type {\n",
       "        vertical-align: middle;\n",
       "    }\n",
       "\n",
       "    .dataframe tbody tr th {\n",
       "        vertical-align: top;\n",
       "    }\n",
       "\n",
       "    .dataframe thead th {\n",
       "        text-align: right;\n",
       "    }\n",
       "</style>\n",
       "<table border=\"1\" class=\"dataframe\">\n",
       "  <thead>\n",
       "    <tr style=\"text-align: right;\">\n",
       "      <th></th>\n",
       "      <th>PassengerId</th>\n",
       "      <th>Survived</th>\n",
       "      <th>Pclass</th>\n",
       "      <th>Name</th>\n",
       "      <th>Sex</th>\n",
       "      <th>Age</th>\n",
       "      <th>Fare</th>\n",
       "      <th>Embarked</th>\n",
       "    </tr>\n",
       "  </thead>\n",
       "  <tbody>\n",
       "    <tr>\n",
       "      <th>0</th>\n",
       "      <td>1</td>\n",
       "      <td>0</td>\n",
       "      <td>3</td>\n",
       "      <td>Braund, Mr. Owen Harris</td>\n",
       "      <td>male</td>\n",
       "      <td>22.0</td>\n",
       "      <td>7.2500</td>\n",
       "      <td>Southhampton</td>\n",
       "    </tr>\n",
       "    <tr>\n",
       "      <th>1</th>\n",
       "      <td>2</td>\n",
       "      <td>1</td>\n",
       "      <td>1</td>\n",
       "      <td>Cumings, Mrs. John Bradley (Florence Briggs Th...</td>\n",
       "      <td>female</td>\n",
       "      <td>38.0</td>\n",
       "      <td>71.2833</td>\n",
       "      <td>Cherbourg</td>\n",
       "    </tr>\n",
       "    <tr>\n",
       "      <th>2</th>\n",
       "      <td>3</td>\n",
       "      <td>1</td>\n",
       "      <td>3</td>\n",
       "      <td>Heikkinen, Miss. Laina</td>\n",
       "      <td>female</td>\n",
       "      <td>26.0</td>\n",
       "      <td>7.9250</td>\n",
       "      <td>Southhampton</td>\n",
       "    </tr>\n",
       "    <tr>\n",
       "      <th>3</th>\n",
       "      <td>4</td>\n",
       "      <td>1</td>\n",
       "      <td>1</td>\n",
       "      <td>Futrelle, Mrs. Jacques Heath (Lily May Peel)</td>\n",
       "      <td>female</td>\n",
       "      <td>35.0</td>\n",
       "      <td>53.1000</td>\n",
       "      <td>Southhampton</td>\n",
       "    </tr>\n",
       "    <tr>\n",
       "      <th>4</th>\n",
       "      <td>5</td>\n",
       "      <td>0</td>\n",
       "      <td>3</td>\n",
       "      <td>Allen, Mr. William Henry</td>\n",
       "      <td>male</td>\n",
       "      <td>35.0</td>\n",
       "      <td>8.0500</td>\n",
       "      <td>Southhampton</td>\n",
       "    </tr>\n",
       "  </tbody>\n",
       "</table>\n",
       "</div>"
      ],
      "text/plain": [
       "   PassengerId  Survived  Pclass  \\\n",
       "0            1         0       3   \n",
       "1            2         1       1   \n",
       "2            3         1       3   \n",
       "3            4         1       1   \n",
       "4            5         0       3   \n",
       "\n",
       "                                                Name     Sex   Age     Fare  \\\n",
       "0                            Braund, Mr. Owen Harris    male  22.0   7.2500   \n",
       "1  Cumings, Mrs. John Bradley (Florence Briggs Th...  female  38.0  71.2833   \n",
       "2                             Heikkinen, Miss. Laina  female  26.0   7.9250   \n",
       "3       Futrelle, Mrs. Jacques Heath (Lily May Peel)  female  35.0  53.1000   \n",
       "4                           Allen, Mr. William Henry    male  35.0   8.0500   \n",
       "\n",
       "       Embarked  \n",
       "0  Southhampton  \n",
       "1     Cherbourg  \n",
       "2  Southhampton  \n",
       "3  Southhampton  \n",
       "4  Southhampton  "
      ]
     },
     "execution_count": 15,
     "metadata": {},
     "output_type": "execute_result"
    }
   ],
   "source": [
    "# 상위 5개 행 조회\n",
    "titanic.head(5)\n"
   ]
  },
  {
   "cell_type": "code",
   "execution_count": 16,
   "metadata": {
    "colab": {},
    "colab_type": "code",
    "id": "gjg3QkkOJaVT"
   },
   "outputs": [
    {
     "data": {
      "text/html": [
       "<div>\n",
       "<style scoped>\n",
       "    .dataframe tbody tr th:only-of-type {\n",
       "        vertical-align: middle;\n",
       "    }\n",
       "\n",
       "    .dataframe tbody tr th {\n",
       "        vertical-align: top;\n",
       "    }\n",
       "\n",
       "    .dataframe thead th {\n",
       "        text-align: right;\n",
       "    }\n",
       "</style>\n",
       "<table border=\"1\" class=\"dataframe\">\n",
       "  <thead>\n",
       "    <tr style=\"text-align: right;\">\n",
       "      <th></th>\n",
       "      <th>Name</th>\n",
       "      <th>Age</th>\n",
       "      <th>Pclass</th>\n",
       "    </tr>\n",
       "  </thead>\n",
       "  <tbody>\n",
       "    <tr>\n",
       "      <th>0</th>\n",
       "      <td>Braund, Mr. Owen Harris</td>\n",
       "      <td>22.0</td>\n",
       "      <td>3</td>\n",
       "    </tr>\n",
       "    <tr>\n",
       "      <th>1</th>\n",
       "      <td>Cumings, Mrs. John Bradley (Florence Briggs Th...</td>\n",
       "      <td>38.0</td>\n",
       "      <td>1</td>\n",
       "    </tr>\n",
       "    <tr>\n",
       "      <th>2</th>\n",
       "      <td>Heikkinen, Miss. Laina</td>\n",
       "      <td>26.0</td>\n",
       "      <td>3</td>\n",
       "    </tr>\n",
       "    <tr>\n",
       "      <th>3</th>\n",
       "      <td>Futrelle, Mrs. Jacques Heath (Lily May Peel)</td>\n",
       "      <td>35.0</td>\n",
       "      <td>1</td>\n",
       "    </tr>\n",
       "    <tr>\n",
       "      <th>4</th>\n",
       "      <td>Allen, Mr. William Henry</td>\n",
       "      <td>35.0</td>\n",
       "      <td>3</td>\n",
       "    </tr>\n",
       "    <tr>\n",
       "      <th>...</th>\n",
       "      <td>...</td>\n",
       "      <td>...</td>\n",
       "      <td>...</td>\n",
       "    </tr>\n",
       "    <tr>\n",
       "      <th>886</th>\n",
       "      <td>Montvila, Rev. Juozas</td>\n",
       "      <td>27.0</td>\n",
       "      <td>2</td>\n",
       "    </tr>\n",
       "    <tr>\n",
       "      <th>887</th>\n",
       "      <td>Graham, Miss. Margaret Edith</td>\n",
       "      <td>19.0</td>\n",
       "      <td>1</td>\n",
       "    </tr>\n",
       "    <tr>\n",
       "      <th>888</th>\n",
       "      <td>Johnston, Miss. Catherine Helen \"Carrie\"</td>\n",
       "      <td>NaN</td>\n",
       "      <td>3</td>\n",
       "    </tr>\n",
       "    <tr>\n",
       "      <th>889</th>\n",
       "      <td>Behr, Mr. Karl Howell</td>\n",
       "      <td>26.0</td>\n",
       "      <td>1</td>\n",
       "    </tr>\n",
       "    <tr>\n",
       "      <th>890</th>\n",
       "      <td>Dooley, Mr. Patrick</td>\n",
       "      <td>32.0</td>\n",
       "      <td>3</td>\n",
       "    </tr>\n",
       "  </tbody>\n",
       "</table>\n",
       "<p>891 rows × 3 columns</p>\n",
       "</div>"
      ],
      "text/plain": [
       "                                                  Name   Age  Pclass\n",
       "0                              Braund, Mr. Owen Harris  22.0       3\n",
       "1    Cumings, Mrs. John Bradley (Florence Briggs Th...  38.0       1\n",
       "2                               Heikkinen, Miss. Laina  26.0       3\n",
       "3         Futrelle, Mrs. Jacques Heath (Lily May Peel)  35.0       1\n",
       "4                             Allen, Mr. William Henry  35.0       3\n",
       "..                                                 ...   ...     ...\n",
       "886                              Montvila, Rev. Juozas  27.0       2\n",
       "887                       Graham, Miss. Margaret Edith  19.0       1\n",
       "888           Johnston, Miss. Catherine Helen \"Carrie\"   NaN       3\n",
       "889                              Behr, Mr. Karl Howell  26.0       1\n",
       "890                                Dooley, Mr. Patrick  32.0       3\n",
       "\n",
       "[891 rows x 3 columns]"
      ]
     },
     "execution_count": 16,
     "metadata": {},
     "output_type": "execute_result"
    }
   ],
   "source": [
    "# Name, Age, Pclass 열만 조회\n",
    "titanic[['Name', 'Age', 'Pclass']]"
   ]
  },
  {
   "cell_type": "code",
   "execution_count": 19,
   "metadata": {
    "colab": {},
    "colab_type": "code",
    "id": "AqjqXOaUJlQP"
   },
   "outputs": [
    {
     "data": {
      "text/html": [
       "<div>\n",
       "<style scoped>\n",
       "    .dataframe tbody tr th:only-of-type {\n",
       "        vertical-align: middle;\n",
       "    }\n",
       "\n",
       "    .dataframe tbody tr th {\n",
       "        vertical-align: top;\n",
       "    }\n",
       "\n",
       "    .dataframe thead th {\n",
       "        text-align: right;\n",
       "    }\n",
       "</style>\n",
       "<table border=\"1\" class=\"dataframe\">\n",
       "  <thead>\n",
       "    <tr style=\"text-align: right;\">\n",
       "      <th></th>\n",
       "      <th>Name</th>\n",
       "      <th>Age</th>\n",
       "      <th>Pclass</th>\n",
       "    </tr>\n",
       "  </thead>\n",
       "  <tbody>\n",
       "    <tr>\n",
       "      <th>845</th>\n",
       "      <td>Abbing, Mr. Anthony</td>\n",
       "      <td>42.0</td>\n",
       "      <td>3</td>\n",
       "    </tr>\n",
       "    <tr>\n",
       "      <th>746</th>\n",
       "      <td>Abbott, Mr. Rossmore Edward</td>\n",
       "      <td>16.0</td>\n",
       "      <td>3</td>\n",
       "    </tr>\n",
       "    <tr>\n",
       "      <th>279</th>\n",
       "      <td>Abbott, Mrs. Stanton (Rosa Hunt)</td>\n",
       "      <td>35.0</td>\n",
       "      <td>3</td>\n",
       "    </tr>\n",
       "    <tr>\n",
       "      <th>308</th>\n",
       "      <td>Abelson, Mr. Samuel</td>\n",
       "      <td>30.0</td>\n",
       "      <td>2</td>\n",
       "    </tr>\n",
       "    <tr>\n",
       "      <th>874</th>\n",
       "      <td>Abelson, Mrs. Samuel (Hannah Wizosky)</td>\n",
       "      <td>28.0</td>\n",
       "      <td>2</td>\n",
       "    </tr>\n",
       "    <tr>\n",
       "      <th>...</th>\n",
       "      <td>...</td>\n",
       "      <td>...</td>\n",
       "      <td>...</td>\n",
       "    </tr>\n",
       "    <tr>\n",
       "      <th>286</th>\n",
       "      <td>de Mulder, Mr. Theodore</td>\n",
       "      <td>30.0</td>\n",
       "      <td>3</td>\n",
       "    </tr>\n",
       "    <tr>\n",
       "      <th>282</th>\n",
       "      <td>de Pelsmaeker, Mr. Alfons</td>\n",
       "      <td>16.0</td>\n",
       "      <td>3</td>\n",
       "    </tr>\n",
       "    <tr>\n",
       "      <th>361</th>\n",
       "      <td>del Carlo, Mr. Sebastiano</td>\n",
       "      <td>29.0</td>\n",
       "      <td>2</td>\n",
       "    </tr>\n",
       "    <tr>\n",
       "      <th>153</th>\n",
       "      <td>van Billiard, Mr. Austin Blyler</td>\n",
       "      <td>40.5</td>\n",
       "      <td>3</td>\n",
       "    </tr>\n",
       "    <tr>\n",
       "      <th>868</th>\n",
       "      <td>van Melkebeke, Mr. Philemon</td>\n",
       "      <td>NaN</td>\n",
       "      <td>3</td>\n",
       "    </tr>\n",
       "  </tbody>\n",
       "</table>\n",
       "<p>891 rows × 3 columns</p>\n",
       "</div>"
      ],
      "text/plain": [
       "                                      Name   Age  Pclass\n",
       "845                    Abbing, Mr. Anthony  42.0       3\n",
       "746            Abbott, Mr. Rossmore Edward  16.0       3\n",
       "279       Abbott, Mrs. Stanton (Rosa Hunt)  35.0       3\n",
       "308                    Abelson, Mr. Samuel  30.0       2\n",
       "874  Abelson, Mrs. Samuel (Hannah Wizosky)  28.0       2\n",
       "..                                     ...   ...     ...\n",
       "286                de Mulder, Mr. Theodore  30.0       3\n",
       "282              de Pelsmaeker, Mr. Alfons  16.0       3\n",
       "361              del Carlo, Mr. Sebastiano  29.0       2\n",
       "153        van Billiard, Mr. Austin Blyler  40.5       3\n",
       "868            van Melkebeke, Mr. Philemon   NaN       3\n",
       "\n",
       "[891 rows x 3 columns]"
      ]
     },
     "execution_count": 19,
     "metadata": {},
     "output_type": "execute_result"
    }
   ],
   "source": [
    "# Name, Age, Pclass 열만 Name 열을 기준으로 오름차순 정렬해서 조회\n",
    "titanic[['Name', 'Age', 'Pclass']].sort_values(by='Name')"
   ]
  },
  {
   "cell_type": "code",
   "execution_count": 23,
   "metadata": {
    "colab": {},
    "colab_type": "code",
    "id": "Oy8UHSMUKPLg"
   },
   "outputs": [
    {
     "data": {
      "text/html": [
       "<div>\n",
       "<style scoped>\n",
       "    .dataframe tbody tr th:only-of-type {\n",
       "        vertical-align: middle;\n",
       "    }\n",
       "\n",
       "    .dataframe tbody tr th {\n",
       "        vertical-align: top;\n",
       "    }\n",
       "\n",
       "    .dataframe thead th {\n",
       "        text-align: right;\n",
       "    }\n",
       "</style>\n",
       "<table border=\"1\" class=\"dataframe\">\n",
       "  <thead>\n",
       "    <tr style=\"text-align: right;\">\n",
       "      <th></th>\n",
       "      <th>Survived</th>\n",
       "      <th>Pclass</th>\n",
       "      <th>Sex</th>\n",
       "      <th>Age</th>\n",
       "    </tr>\n",
       "  </thead>\n",
       "  <tbody>\n",
       "    <tr>\n",
       "      <th>0</th>\n",
       "      <td>0</td>\n",
       "      <td>3</td>\n",
       "      <td>male</td>\n",
       "      <td>22.0</td>\n",
       "    </tr>\n",
       "    <tr>\n",
       "      <th>1</th>\n",
       "      <td>1</td>\n",
       "      <td>1</td>\n",
       "      <td>female</td>\n",
       "      <td>38.0</td>\n",
       "    </tr>\n",
       "    <tr>\n",
       "      <th>2</th>\n",
       "      <td>1</td>\n",
       "      <td>3</td>\n",
       "      <td>female</td>\n",
       "      <td>26.0</td>\n",
       "    </tr>\n",
       "    <tr>\n",
       "      <th>3</th>\n",
       "      <td>1</td>\n",
       "      <td>1</td>\n",
       "      <td>female</td>\n",
       "      <td>35.0</td>\n",
       "    </tr>\n",
       "    <tr>\n",
       "      <th>4</th>\n",
       "      <td>0</td>\n",
       "      <td>3</td>\n",
       "      <td>male</td>\n",
       "      <td>35.0</td>\n",
       "    </tr>\n",
       "    <tr>\n",
       "      <th>...</th>\n",
       "      <td>...</td>\n",
       "      <td>...</td>\n",
       "      <td>...</td>\n",
       "      <td>...</td>\n",
       "    </tr>\n",
       "    <tr>\n",
       "      <th>886</th>\n",
       "      <td>0</td>\n",
       "      <td>2</td>\n",
       "      <td>male</td>\n",
       "      <td>27.0</td>\n",
       "    </tr>\n",
       "    <tr>\n",
       "      <th>887</th>\n",
       "      <td>1</td>\n",
       "      <td>1</td>\n",
       "      <td>female</td>\n",
       "      <td>19.0</td>\n",
       "    </tr>\n",
       "    <tr>\n",
       "      <th>888</th>\n",
       "      <td>0</td>\n",
       "      <td>3</td>\n",
       "      <td>female</td>\n",
       "      <td>NaN</td>\n",
       "    </tr>\n",
       "    <tr>\n",
       "      <th>889</th>\n",
       "      <td>1</td>\n",
       "      <td>1</td>\n",
       "      <td>male</td>\n",
       "      <td>26.0</td>\n",
       "    </tr>\n",
       "    <tr>\n",
       "      <th>890</th>\n",
       "      <td>0</td>\n",
       "      <td>3</td>\n",
       "      <td>male</td>\n",
       "      <td>32.0</td>\n",
       "    </tr>\n",
       "  </tbody>\n",
       "</table>\n",
       "<p>891 rows × 4 columns</p>\n",
       "</div>"
      ],
      "text/plain": [
       "     Survived  Pclass     Sex   Age\n",
       "0           0       3    male  22.0\n",
       "1           1       1  female  38.0\n",
       "2           1       3  female  26.0\n",
       "3           1       1  female  35.0\n",
       "4           0       3    male  35.0\n",
       "..        ...     ...     ...   ...\n",
       "886         0       2    male  27.0\n",
       "887         1       1  female  19.0\n",
       "888         0       3  female   NaN\n",
       "889         1       1    male  26.0\n",
       "890         0       3    male  32.0\n",
       "\n",
       "[891 rows x 4 columns]"
      ]
     },
     "execution_count": 23,
     "metadata": {},
     "output_type": "execute_result"
    }
   ],
   "source": [
    "# Survived, Pclass, Sex, Age 열만 갖는 titanic_test 데이터프레임 만들기\n",
    "titanic_test = titanic[['Survived', 'Pclass', 'Sex', 'Age']].copy() # 완전 copy\n",
    "titanic_test"
   ]
  },
  {
   "cell_type": "markdown",
   "metadata": {
    "colab_type": "text",
    "id": "eRnf8Ln1R8WY"
   },
   "source": [
    "**2) 행 조회**\n",
    "\n",
    "\n",
    "- **df.loc[[행이름]:,]** 형태로 조회하면 특정 행을 조회합니다.\n",
    "- **df.loc[[행이름]]** 형태로 **열 부분을 생략**할 수 있습니다."
   ]
  },
  {
   "cell_type": "code",
   "execution_count": 24,
   "metadata": {
    "colab": {},
    "colab_type": "code",
    "id": "KHb_11idR8Wd",
    "scrolled": false
   },
   "outputs": [
    {
     "data": {
      "text/html": [
       "<div>\n",
       "<style scoped>\n",
       "    .dataframe tbody tr th:only-of-type {\n",
       "        vertical-align: middle;\n",
       "    }\n",
       "\n",
       "    .dataframe tbody tr th {\n",
       "        vertical-align: top;\n",
       "    }\n",
       "\n",
       "    .dataframe thead th {\n",
       "        text-align: right;\n",
       "    }\n",
       "</style>\n",
       "<table border=\"1\" class=\"dataframe\">\n",
       "  <thead>\n",
       "    <tr style=\"text-align: right;\">\n",
       "      <th></th>\n",
       "      <th>High</th>\n",
       "      <th>Low</th>\n",
       "      <th>Open</th>\n",
       "      <th>Close</th>\n",
       "      <th>Volume</th>\n",
       "      <th>Adj Close</th>\n",
       "    </tr>\n",
       "  </thead>\n",
       "  <tbody>\n",
       "    <tr>\n",
       "      <th>2000-01-03</th>\n",
       "      <td>4.017857</td>\n",
       "      <td>3.631696</td>\n",
       "      <td>3.745536</td>\n",
       "      <td>3.997768</td>\n",
       "      <td>133949200</td>\n",
       "      <td>3.470226</td>\n",
       "    </tr>\n",
       "    <tr>\n",
       "      <th>2000-01-04</th>\n",
       "      <td>3.950893</td>\n",
       "      <td>3.613839</td>\n",
       "      <td>3.866071</td>\n",
       "      <td>3.660714</td>\n",
       "      <td>128094400</td>\n",
       "      <td>3.177650</td>\n",
       "    </tr>\n",
       "    <tr>\n",
       "      <th>2000-01-05</th>\n",
       "      <td>3.948661</td>\n",
       "      <td>3.678571</td>\n",
       "      <td>3.705357</td>\n",
       "      <td>3.714286</td>\n",
       "      <td>194580400</td>\n",
       "      <td>3.224152</td>\n",
       "    </tr>\n",
       "    <tr>\n",
       "      <th>2000-01-06</th>\n",
       "      <td>3.821429</td>\n",
       "      <td>3.392857</td>\n",
       "      <td>3.790179</td>\n",
       "      <td>3.392857</td>\n",
       "      <td>191993200</td>\n",
       "      <td>2.945139</td>\n",
       "    </tr>\n",
       "    <tr>\n",
       "      <th>2000-01-07</th>\n",
       "      <td>3.607143</td>\n",
       "      <td>3.410714</td>\n",
       "      <td>3.446429</td>\n",
       "      <td>3.553571</td>\n",
       "      <td>115183600</td>\n",
       "      <td>3.084645</td>\n",
       "    </tr>\n",
       "  </tbody>\n",
       "</table>\n",
       "</div>"
      ],
      "text/plain": [
       "                High       Low      Open     Close     Volume  Adj Close\n",
       "2000-01-03  4.017857  3.631696  3.745536  3.997768  133949200   3.470226\n",
       "2000-01-04  3.950893  3.613839  3.866071  3.660714  128094400   3.177650\n",
       "2000-01-05  3.948661  3.678571  3.705357  3.714286  194580400   3.224152\n",
       "2000-01-06  3.821429  3.392857  3.790179  3.392857  191993200   2.945139\n",
       "2000-01-07  3.607143  3.410714  3.446429  3.553571  115183600   3.084645"
      ]
     },
     "execution_count": 24,
     "metadata": {},
     "output_type": "execute_result"
    }
   ],
   "source": [
    "# 데이터프레임 확인\n",
    "stock.head()"
   ]
  },
  {
   "cell_type": "code",
   "execution_count": 25,
   "metadata": {
    "colab": {},
    "colab_type": "code",
    "id": "UIHo0nDxR8Wn",
    "scrolled": false
   },
   "outputs": [
    {
     "data": {
      "text/html": [
       "<div>\n",
       "<style scoped>\n",
       "    .dataframe tbody tr th:only-of-type {\n",
       "        vertical-align: middle;\n",
       "    }\n",
       "\n",
       "    .dataframe tbody tr th {\n",
       "        vertical-align: top;\n",
       "    }\n",
       "\n",
       "    .dataframe thead th {\n",
       "        text-align: right;\n",
       "    }\n",
       "</style>\n",
       "<table border=\"1\" class=\"dataframe\">\n",
       "  <thead>\n",
       "    <tr style=\"text-align: right;\">\n",
       "      <th></th>\n",
       "      <th>High</th>\n",
       "      <th>Low</th>\n",
       "      <th>Open</th>\n",
       "      <th>Close</th>\n",
       "      <th>Volume</th>\n",
       "      <th>Adj Close</th>\n",
       "    </tr>\n",
       "  </thead>\n",
       "  <tbody>\n",
       "    <tr>\n",
       "      <th>2015-01-02</th>\n",
       "      <td>111.440002</td>\n",
       "      <td>107.349999</td>\n",
       "      <td>111.389999</td>\n",
       "      <td>109.330002</td>\n",
       "      <td>53204600</td>\n",
       "      <td>100.216454</td>\n",
       "    </tr>\n",
       "  </tbody>\n",
       "</table>\n",
       "</div>"
      ],
      "text/plain": [
       "                  High         Low        Open       Close    Volume  \\\n",
       "2015-01-02  111.440002  107.349999  111.389999  109.330002  53204600   \n",
       "\n",
       "             Adj Close  \n",
       "2015-01-02  100.216454  "
      ]
     },
     "execution_count": 25,
     "metadata": {},
     "output_type": "execute_result"
    }
   ],
   "source": [
    "# Date가 '2015-01-02'인 행 조회 --> 데이터프레임\n",
    "stock.loc[['2015-01-02'], :]"
   ]
  },
  {
   "cell_type": "code",
   "execution_count": 26,
   "metadata": {
    "colab": {},
    "colab_type": "code",
    "id": "Bwz9lB9hR8Wr",
    "scrolled": false
   },
   "outputs": [
    {
     "data": {
      "text/html": [
       "<div>\n",
       "<style scoped>\n",
       "    .dataframe tbody tr th:only-of-type {\n",
       "        vertical-align: middle;\n",
       "    }\n",
       "\n",
       "    .dataframe tbody tr th {\n",
       "        vertical-align: top;\n",
       "    }\n",
       "\n",
       "    .dataframe thead th {\n",
       "        text-align: right;\n",
       "    }\n",
       "</style>\n",
       "<table border=\"1\" class=\"dataframe\">\n",
       "  <thead>\n",
       "    <tr style=\"text-align: right;\">\n",
       "      <th></th>\n",
       "      <th>High</th>\n",
       "      <th>Low</th>\n",
       "      <th>Open</th>\n",
       "      <th>Close</th>\n",
       "      <th>Volume</th>\n",
       "      <th>Adj Close</th>\n",
       "    </tr>\n",
       "  </thead>\n",
       "  <tbody>\n",
       "    <tr>\n",
       "      <th>2015-01-02</th>\n",
       "      <td>111.440002</td>\n",
       "      <td>107.349999</td>\n",
       "      <td>111.389999</td>\n",
       "      <td>109.330002</td>\n",
       "      <td>53204600</td>\n",
       "      <td>100.216454</td>\n",
       "    </tr>\n",
       "    <tr>\n",
       "      <th>2015-01-06</th>\n",
       "      <td>107.430000</td>\n",
       "      <td>104.629997</td>\n",
       "      <td>106.540001</td>\n",
       "      <td>106.260002</td>\n",
       "      <td>65797100</td>\n",
       "      <td>97.402374</td>\n",
       "    </tr>\n",
       "    <tr>\n",
       "      <th>2015-01-08</th>\n",
       "      <td>112.150001</td>\n",
       "      <td>108.699997</td>\n",
       "      <td>109.230003</td>\n",
       "      <td>111.889999</td>\n",
       "      <td>59364500</td>\n",
       "      <td>102.563072</td>\n",
       "    </tr>\n",
       "  </tbody>\n",
       "</table>\n",
       "</div>"
      ],
      "text/plain": [
       "                  High         Low        Open       Close    Volume  \\\n",
       "2015-01-02  111.440002  107.349999  111.389999  109.330002  53204600   \n",
       "2015-01-06  107.430000  104.629997  106.540001  106.260002  65797100   \n",
       "2015-01-08  112.150001  108.699997  109.230003  111.889999  59364500   \n",
       "\n",
       "             Adj Close  \n",
       "2015-01-02  100.216454  \n",
       "2015-01-06   97.402374  \n",
       "2015-01-08  102.563072  "
      ]
     },
     "execution_count": 26,
     "metadata": {},
     "output_type": "execute_result"
    }
   ],
   "source": [
    "# Date가 '2015-01-02', '2015-01-06', '2015-01-08'인 행 조회\n",
    "stock.loc[['2015-01-02', '2015-01-06', '2015-01-08'], :]"
   ]
  },
  {
   "cell_type": "markdown",
   "metadata": {
    "colab_type": "text",
    "id": "tgfnBUZRR8Wv"
   },
   "source": [
    "- 범위 조회(범위 마지막 값도 조회 결과에 포함됨)"
   ]
  },
  {
   "cell_type": "code",
   "execution_count": 27,
   "metadata": {
    "colab": {},
    "colab_type": "code",
    "id": "mhwBUjeDR8Wv",
    "scrolled": true
   },
   "outputs": [
    {
     "data": {
      "text/html": [
       "<div>\n",
       "<style scoped>\n",
       "    .dataframe tbody tr th:only-of-type {\n",
       "        vertical-align: middle;\n",
       "    }\n",
       "\n",
       "    .dataframe tbody tr th {\n",
       "        vertical-align: top;\n",
       "    }\n",
       "\n",
       "    .dataframe thead th {\n",
       "        text-align: right;\n",
       "    }\n",
       "</style>\n",
       "<table border=\"1\" class=\"dataframe\">\n",
       "  <thead>\n",
       "    <tr style=\"text-align: right;\">\n",
       "      <th></th>\n",
       "      <th>High</th>\n",
       "      <th>Low</th>\n",
       "      <th>Open</th>\n",
       "      <th>Close</th>\n",
       "      <th>Volume</th>\n",
       "      <th>Adj Close</th>\n",
       "    </tr>\n",
       "  </thead>\n",
       "  <tbody>\n",
       "    <tr>\n",
       "      <th>2015-01-02</th>\n",
       "      <td>111.440002</td>\n",
       "      <td>107.349999</td>\n",
       "      <td>111.389999</td>\n",
       "      <td>109.330002</td>\n",
       "      <td>53204600</td>\n",
       "      <td>100.216454</td>\n",
       "    </tr>\n",
       "    <tr>\n",
       "      <th>2015-01-05</th>\n",
       "      <td>108.650001</td>\n",
       "      <td>105.410004</td>\n",
       "      <td>108.290001</td>\n",
       "      <td>106.250000</td>\n",
       "      <td>64285500</td>\n",
       "      <td>97.393181</td>\n",
       "    </tr>\n",
       "    <tr>\n",
       "      <th>2015-01-06</th>\n",
       "      <td>107.430000</td>\n",
       "      <td>104.629997</td>\n",
       "      <td>106.540001</td>\n",
       "      <td>106.260002</td>\n",
       "      <td>65797100</td>\n",
       "      <td>97.402374</td>\n",
       "    </tr>\n",
       "    <tr>\n",
       "      <th>2015-01-07</th>\n",
       "      <td>108.199997</td>\n",
       "      <td>106.699997</td>\n",
       "      <td>107.199997</td>\n",
       "      <td>107.750000</td>\n",
       "      <td>40105900</td>\n",
       "      <td>98.768150</td>\n",
       "    </tr>\n",
       "    <tr>\n",
       "      <th>2015-01-08</th>\n",
       "      <td>112.150001</td>\n",
       "      <td>108.699997</td>\n",
       "      <td>109.230003</td>\n",
       "      <td>111.889999</td>\n",
       "      <td>59364500</td>\n",
       "      <td>102.563072</td>\n",
       "    </tr>\n",
       "  </tbody>\n",
       "</table>\n",
       "</div>"
      ],
      "text/plain": [
       "                  High         Low        Open       Close    Volume  \\\n",
       "2015-01-02  111.440002  107.349999  111.389999  109.330002  53204600   \n",
       "2015-01-05  108.650001  105.410004  108.290001  106.250000  64285500   \n",
       "2015-01-06  107.430000  104.629997  106.540001  106.260002  65797100   \n",
       "2015-01-07  108.199997  106.699997  107.199997  107.750000  40105900   \n",
       "2015-01-08  112.150001  108.699997  109.230003  111.889999  59364500   \n",
       "\n",
       "             Adj Close  \n",
       "2015-01-02  100.216454  \n",
       "2015-01-05   97.393181  \n",
       "2015-01-06   97.402374  \n",
       "2015-01-07   98.768150  \n",
       "2015-01-08  102.563072  "
      ]
     },
     "execution_count": 27,
     "metadata": {},
     "output_type": "execute_result"
    }
   ],
   "source": [
    "# Date가 '2015-01-02' ~ '2015-01-08'인 행 조회\n",
    "stock.loc['2015-01-02':'2015-01-08', :]"
   ]
  },
  {
   "cell_type": "markdown",
   "metadata": {
    "colab_type": "text",
    "id": "uJMe5JswS6nU"
   },
   "source": [
    "**3) 행, 열 조회**\n",
    "\n",
    "- **df.loc[[행이름]:[열이름]]** 형태로 조회하면 특정 행의  특정 열을 조회합니다.\n"
   ]
  },
  {
   "cell_type": "code",
   "execution_count": 28,
   "metadata": {
    "colab": {},
    "colab_type": "code",
    "id": "RkVRqVr2ATos",
    "scrolled": false
   },
   "outputs": [
    {
     "data": {
      "text/html": [
       "<div>\n",
       "<style scoped>\n",
       "    .dataframe tbody tr th:only-of-type {\n",
       "        vertical-align: middle;\n",
       "    }\n",
       "\n",
       "    .dataframe tbody tr th {\n",
       "        vertical-align: top;\n",
       "    }\n",
       "\n",
       "    .dataframe thead th {\n",
       "        text-align: right;\n",
       "    }\n",
       "</style>\n",
       "<table border=\"1\" class=\"dataframe\">\n",
       "  <thead>\n",
       "    <tr style=\"text-align: right;\">\n",
       "      <th></th>\n",
       "      <th>Close</th>\n",
       "    </tr>\n",
       "  </thead>\n",
       "  <tbody>\n",
       "    <tr>\n",
       "      <th>2015-01-02</th>\n",
       "      <td>109.330002</td>\n",
       "    </tr>\n",
       "  </tbody>\n",
       "</table>\n",
       "</div>"
      ],
      "text/plain": [
       "                 Close\n",
       "2015-01-02  109.330002"
      ]
     },
     "execution_count": 28,
     "metadata": {},
     "output_type": "execute_result"
    }
   ],
   "source": [
    "# Date가 '2015-01-02'인 행의 Close 열\n",
    "stock.loc[['2015-01-02'], ['Close']] "
   ]
  },
  {
   "cell_type": "code",
   "execution_count": 29,
   "metadata": {
    "colab": {},
    "colab_type": "code",
    "id": "RfGUpQ2IATo3",
    "scrolled": true
   },
   "outputs": [
    {
     "data": {
      "text/html": [
       "<div>\n",
       "<style scoped>\n",
       "    .dataframe tbody tr th:only-of-type {\n",
       "        vertical-align: middle;\n",
       "    }\n",
       "\n",
       "    .dataframe tbody tr th {\n",
       "        vertical-align: top;\n",
       "    }\n",
       "\n",
       "    .dataframe thead th {\n",
       "        text-align: right;\n",
       "    }\n",
       "</style>\n",
       "<table border=\"1\" class=\"dataframe\">\n",
       "  <thead>\n",
       "    <tr style=\"text-align: right;\">\n",
       "      <th></th>\n",
       "      <th>Open</th>\n",
       "      <th>Close</th>\n",
       "    </tr>\n",
       "  </thead>\n",
       "  <tbody>\n",
       "    <tr>\n",
       "      <th>2015-01-02</th>\n",
       "      <td>111.389999</td>\n",
       "      <td>109.330002</td>\n",
       "    </tr>\n",
       "    <tr>\n",
       "      <th>2015-01-05</th>\n",
       "      <td>108.290001</td>\n",
       "      <td>106.250000</td>\n",
       "    </tr>\n",
       "    <tr>\n",
       "      <th>2015-01-06</th>\n",
       "      <td>106.540001</td>\n",
       "      <td>106.260002</td>\n",
       "    </tr>\n",
       "    <tr>\n",
       "      <th>2015-01-07</th>\n",
       "      <td>107.199997</td>\n",
       "      <td>107.750000</td>\n",
       "    </tr>\n",
       "    <tr>\n",
       "      <th>2015-01-08</th>\n",
       "      <td>109.230003</td>\n",
       "      <td>111.889999</td>\n",
       "    </tr>\n",
       "  </tbody>\n",
       "</table>\n",
       "</div>"
      ],
      "text/plain": [
       "                  Open       Close\n",
       "2015-01-02  111.389999  109.330002\n",
       "2015-01-05  108.290001  106.250000\n",
       "2015-01-06  106.540001  106.260002\n",
       "2015-01-07  107.199997  107.750000\n",
       "2015-01-08  109.230003  111.889999"
      ]
     },
     "execution_count": 29,
     "metadata": {},
     "output_type": "execute_result"
    }
   ],
   "source": [
    "# Date가 '2015-01-02' ~ '2015-01-08' 인 행의 Open ~ Close 열\n",
    "stock.loc['2015-01-02':'2015-01-08', 'Open':'Close']"
   ]
  },
  {
   "cell_type": "code",
   "execution_count": 30,
   "metadata": {
    "colab": {},
    "colab_type": "code",
    "id": "fJtM21PlATo-",
    "scrolled": true
   },
   "outputs": [
    {
     "data": {
      "text/html": [
       "<div>\n",
       "<style scoped>\n",
       "    .dataframe tbody tr th:only-of-type {\n",
       "        vertical-align: middle;\n",
       "    }\n",
       "\n",
       "    .dataframe tbody tr th {\n",
       "        vertical-align: top;\n",
       "    }\n",
       "\n",
       "    .dataframe thead th {\n",
       "        text-align: right;\n",
       "    }\n",
       "</style>\n",
       "<table border=\"1\" class=\"dataframe\">\n",
       "  <thead>\n",
       "    <tr style=\"text-align: right;\">\n",
       "      <th></th>\n",
       "      <th>Open</th>\n",
       "      <th>Close</th>\n",
       "      <th>Volume</th>\n",
       "    </tr>\n",
       "  </thead>\n",
       "  <tbody>\n",
       "    <tr>\n",
       "      <th>2015-01-02</th>\n",
       "      <td>111.389999</td>\n",
       "      <td>109.330002</td>\n",
       "      <td>53204600</td>\n",
       "    </tr>\n",
       "    <tr>\n",
       "      <th>2015-01-05</th>\n",
       "      <td>108.290001</td>\n",
       "      <td>106.250000</td>\n",
       "      <td>64285500</td>\n",
       "    </tr>\n",
       "    <tr>\n",
       "      <th>2015-01-06</th>\n",
       "      <td>106.540001</td>\n",
       "      <td>106.260002</td>\n",
       "      <td>65797100</td>\n",
       "    </tr>\n",
       "    <tr>\n",
       "      <th>2015-01-07</th>\n",
       "      <td>107.199997</td>\n",
       "      <td>107.750000</td>\n",
       "      <td>40105900</td>\n",
       "    </tr>\n",
       "    <tr>\n",
       "      <th>2015-01-08</th>\n",
       "      <td>109.230003</td>\n",
       "      <td>111.889999</td>\n",
       "      <td>59364500</td>\n",
       "    </tr>\n",
       "  </tbody>\n",
       "</table>\n",
       "</div>"
      ],
      "text/plain": [
       "                  Open       Close    Volume\n",
       "2015-01-02  111.389999  109.330002  53204600\n",
       "2015-01-05  108.290001  106.250000  64285500\n",
       "2015-01-06  106.540001  106.260002  65797100\n",
       "2015-01-07  107.199997  107.750000  40105900\n",
       "2015-01-08  109.230003  111.889999  59364500"
      ]
     },
     "execution_count": 30,
     "metadata": {},
     "output_type": "execute_result"
    }
   ],
   "source": [
    "# Date가 2015-01-02' ~ '2015-01-08'인 행의 Open, Close, Volume 열\n",
    "stock.loc['2015-01-02':'2015-01-08', ['Open', 'Close', 'Volume']]"
   ]
  },
  {
   "cell_type": "code",
   "execution_count": 31,
   "metadata": {
    "colab": {},
    "colab_type": "code",
    "id": "5rXLqMbnATpI",
    "scrolled": true
   },
   "outputs": [
    {
     "data": {
      "text/html": [
       "<div>\n",
       "<style scoped>\n",
       "    .dataframe tbody tr th:only-of-type {\n",
       "        vertical-align: middle;\n",
       "    }\n",
       "\n",
       "    .dataframe tbody tr th {\n",
       "        vertical-align: top;\n",
       "    }\n",
       "\n",
       "    .dataframe thead th {\n",
       "        text-align: right;\n",
       "    }\n",
       "</style>\n",
       "<table border=\"1\" class=\"dataframe\">\n",
       "  <thead>\n",
       "    <tr style=\"text-align: right;\">\n",
       "      <th></th>\n",
       "      <th>Open</th>\n",
       "      <th>Close</th>\n",
       "      <th>Volume</th>\n",
       "    </tr>\n",
       "  </thead>\n",
       "  <tbody>\n",
       "    <tr>\n",
       "      <th>2015-01-02</th>\n",
       "      <td>111.389999</td>\n",
       "      <td>109.330002</td>\n",
       "      <td>53204600</td>\n",
       "    </tr>\n",
       "    <tr>\n",
       "      <th>2015-01-08</th>\n",
       "      <td>109.230003</td>\n",
       "      <td>111.889999</td>\n",
       "      <td>59364500</td>\n",
       "    </tr>\n",
       "  </tbody>\n",
       "</table>\n",
       "</div>"
      ],
      "text/plain": [
       "                  Open       Close    Volume\n",
       "2015-01-02  111.389999  109.330002  53204600\n",
       "2015-01-08  109.230003  111.889999  59364500"
      ]
     },
     "execution_count": 31,
     "metadata": {},
     "output_type": "execute_result"
    }
   ],
   "source": [
    "# Date가 '2015-01-02','2015-01-08'인 행의 Open, Close, Volume 열 \n",
    "stock.loc[['2015-01-02','2015-01-08'], ['Open', 'Close', 'Volume']]"
   ]
  },
  {
   "cell_type": "code",
   "execution_count": 32,
   "metadata": {
    "colab": {},
    "colab_type": "code",
    "id": "NWV6fFxz2k7Y"
   },
   "outputs": [
    {
     "data": {
      "text/html": [
       "<div>\n",
       "<style scoped>\n",
       "    .dataframe tbody tr th:only-of-type {\n",
       "        vertical-align: middle;\n",
       "    }\n",
       "\n",
       "    .dataframe tbody tr th {\n",
       "        vertical-align: top;\n",
       "    }\n",
       "\n",
       "    .dataframe thead th {\n",
       "        text-align: right;\n",
       "    }\n",
       "</style>\n",
       "<table border=\"1\" class=\"dataframe\">\n",
       "  <thead>\n",
       "    <tr style=\"text-align: right;\">\n",
       "      <th></th>\n",
       "      <th>Open</th>\n",
       "      <th>Close</th>\n",
       "      <th>Volume</th>\n",
       "    </tr>\n",
       "  </thead>\n",
       "  <tbody>\n",
       "    <tr>\n",
       "      <th>2019-01-02</th>\n",
       "      <td>154.889999</td>\n",
       "      <td>157.919998</td>\n",
       "      <td>37039700</td>\n",
       "    </tr>\n",
       "    <tr>\n",
       "      <th>2019-01-03</th>\n",
       "      <td>143.979996</td>\n",
       "      <td>142.190002</td>\n",
       "      <td>91312200</td>\n",
       "    </tr>\n",
       "    <tr>\n",
       "      <th>2019-01-04</th>\n",
       "      <td>144.529999</td>\n",
       "      <td>148.259995</td>\n",
       "      <td>58607100</td>\n",
       "    </tr>\n",
       "    <tr>\n",
       "      <th>2019-01-07</th>\n",
       "      <td>148.699997</td>\n",
       "      <td>147.929993</td>\n",
       "      <td>54777800</td>\n",
       "    </tr>\n",
       "    <tr>\n",
       "      <th>2019-01-08</th>\n",
       "      <td>149.559998</td>\n",
       "      <td>150.750000</td>\n",
       "      <td>41025300</td>\n",
       "    </tr>\n",
       "    <tr>\n",
       "      <th>...</th>\n",
       "      <td>...</td>\n",
       "      <td>...</td>\n",
       "      <td>...</td>\n",
       "    </tr>\n",
       "    <tr>\n",
       "      <th>2019-12-24</th>\n",
       "      <td>284.690002</td>\n",
       "      <td>284.269989</td>\n",
       "      <td>12119700</td>\n",
       "    </tr>\n",
       "    <tr>\n",
       "      <th>2019-12-26</th>\n",
       "      <td>284.820007</td>\n",
       "      <td>289.910004</td>\n",
       "      <td>23280300</td>\n",
       "    </tr>\n",
       "    <tr>\n",
       "      <th>2019-12-27</th>\n",
       "      <td>291.119995</td>\n",
       "      <td>289.799988</td>\n",
       "      <td>36566500</td>\n",
       "    </tr>\n",
       "    <tr>\n",
       "      <th>2019-12-30</th>\n",
       "      <td>289.459992</td>\n",
       "      <td>291.519989</td>\n",
       "      <td>36028600</td>\n",
       "    </tr>\n",
       "    <tr>\n",
       "      <th>2019-12-31</th>\n",
       "      <td>289.929993</td>\n",
       "      <td>293.649994</td>\n",
       "      <td>25201400</td>\n",
       "    </tr>\n",
       "  </tbody>\n",
       "</table>\n",
       "<p>252 rows × 3 columns</p>\n",
       "</div>"
      ],
      "text/plain": [
       "                  Open       Close    Volume\n",
       "2019-01-02  154.889999  157.919998  37039700\n",
       "2019-01-03  143.979996  142.190002  91312200\n",
       "2019-01-04  144.529999  148.259995  58607100\n",
       "2019-01-07  148.699997  147.929993  54777800\n",
       "2019-01-08  149.559998  150.750000  41025300\n",
       "...                ...         ...       ...\n",
       "2019-12-24  284.690002  284.269989  12119700\n",
       "2019-12-26  284.820007  289.910004  23280300\n",
       "2019-12-27  291.119995  289.799988  36566500\n",
       "2019-12-30  289.459992  291.519989  36028600\n",
       "2019-12-31  289.929993  293.649994  25201400\n",
       "\n",
       "[252 rows x 3 columns]"
      ]
     },
     "execution_count": 32,
     "metadata": {},
     "output_type": "execute_result"
    }
   ],
   "source": [
    "# Date가 '2019-01-01' 부터 모든 행의 Open, Close, Volume 열 \n",
    "stock.loc['2019-01-01':, ['Open', 'Close', 'Volume']] "
   ]
  },
  {
   "cell_type": "code",
   "execution_count": 39,
   "metadata": {},
   "outputs": [
    {
     "data": {
      "text/plain": [
       "<matplotlib.axes._subplots.AxesSubplot at 0x199f305a188>"
      ]
     },
     "execution_count": 39,
     "metadata": {},
     "output_type": "execute_result"
    },
    {
     "data": {
      "image/png": "[encoded data removed]",
      "text/plain": [
       "<Figure size 432x288 with 1 Axes>"
      ]
     },
     "metadata": {
      "needs_background": "light"
     },
     "output_type": "display_data"
    }
   ],
   "source": [
    "stock.loc['2019-10-01':'2019-10-31',['High','Low','Close']].plot()"
   ]
  },
  {
   "cell_type": "markdown",
   "metadata": {
    "colab_type": "text",
    "id": "-giVKAv7fHSW"
   },
   "source": [
    "<img src='https://raw.githubusercontent.com/jangrae/img/master/practice_01.png' width=120 align=\"left\"/>"
   ]
  },
  {
   "cell_type": "markdown",
   "metadata": {
    "colab_type": "text",
    "id": "53cFdwjTMeK2"
   },
   "source": [
    "stock 데이터프레임에 대해 행을 조회하는 아래 셀 내용욜 수정하거나 작성해 보세요."
   ]
  },
  {
   "cell_type": "code",
   "execution_count": 43,
   "metadata": {
    "colab": {},
    "colab_type": "code",
    "id": "mjEbaobJMzIN",
    "scrolled": false
   },
   "outputs": [
    {
     "data": {
      "text/html": [
       "<div>\n",
       "<style scoped>\n",
       "    .dataframe tbody tr th:only-of-type {\n",
       "        vertical-align: middle;\n",
       "    }\n",
       "\n",
       "    .dataframe tbody tr th {\n",
       "        vertical-align: top;\n",
       "    }\n",
       "\n",
       "    .dataframe thead th {\n",
       "        text-align: right;\n",
       "    }\n",
       "</style>\n",
       "<table border=\"1\" class=\"dataframe\">\n",
       "  <thead>\n",
       "    <tr style=\"text-align: right;\">\n",
       "      <th></th>\n",
       "      <th>High</th>\n",
       "      <th>Low</th>\n",
       "      <th>Open</th>\n",
       "      <th>Close</th>\n",
       "      <th>Volume</th>\n",
       "      <th>Adj Close</th>\n",
       "    </tr>\n",
       "  </thead>\n",
       "  <tbody>\n",
       "    <tr>\n",
       "      <th>2018-01-02</th>\n",
       "      <td>172.300003</td>\n",
       "      <td>169.259995</td>\n",
       "      <td>170.160004</td>\n",
       "      <td>172.259995</td>\n",
       "      <td>25555900</td>\n",
       "      <td>166.804016</td>\n",
       "    </tr>\n",
       "    <tr>\n",
       "      <th>2018-01-03</th>\n",
       "      <td>174.550003</td>\n",
       "      <td>171.960007</td>\n",
       "      <td>172.529999</td>\n",
       "      <td>172.229996</td>\n",
       "      <td>29517900</td>\n",
       "      <td>166.774963</td>\n",
       "    </tr>\n",
       "    <tr>\n",
       "      <th>2018-01-04</th>\n",
       "      <td>173.470001</td>\n",
       "      <td>172.080002</td>\n",
       "      <td>172.539993</td>\n",
       "      <td>173.029999</td>\n",
       "      <td>22434600</td>\n",
       "      <td>167.549622</td>\n",
       "    </tr>\n",
       "    <tr>\n",
       "      <th>2018-01-05</th>\n",
       "      <td>175.369995</td>\n",
       "      <td>173.050003</td>\n",
       "      <td>173.440002</td>\n",
       "      <td>175.000000</td>\n",
       "      <td>23660000</td>\n",
       "      <td>169.457214</td>\n",
       "    </tr>\n",
       "    <tr>\n",
       "      <th>2018-01-08</th>\n",
       "      <td>175.610001</td>\n",
       "      <td>173.929993</td>\n",
       "      <td>174.350006</td>\n",
       "      <td>174.350006</td>\n",
       "      <td>20567800</td>\n",
       "      <td>168.827820</td>\n",
       "    </tr>\n",
       "    <tr>\n",
       "      <th>...</th>\n",
       "      <td>...</td>\n",
       "      <td>...</td>\n",
       "      <td>...</td>\n",
       "      <td>...</td>\n",
       "      <td>...</td>\n",
       "      <td>...</td>\n",
       "    </tr>\n",
       "    <tr>\n",
       "      <th>2018-12-24</th>\n",
       "      <td>151.550003</td>\n",
       "      <td>146.589996</td>\n",
       "      <td>148.149994</td>\n",
       "      <td>146.830002</td>\n",
       "      <td>37169200</td>\n",
       "      <td>144.314041</td>\n",
       "    </tr>\n",
       "    <tr>\n",
       "      <th>2018-12-26</th>\n",
       "      <td>157.229996</td>\n",
       "      <td>146.720001</td>\n",
       "      <td>148.300003</td>\n",
       "      <td>157.169998</td>\n",
       "      <td>58582500</td>\n",
       "      <td>154.476852</td>\n",
       "    </tr>\n",
       "    <tr>\n",
       "      <th>2018-12-27</th>\n",
       "      <td>156.770004</td>\n",
       "      <td>150.070007</td>\n",
       "      <td>155.839996</td>\n",
       "      <td>156.149994</td>\n",
       "      <td>53117100</td>\n",
       "      <td>153.474335</td>\n",
       "    </tr>\n",
       "    <tr>\n",
       "      <th>2018-12-28</th>\n",
       "      <td>158.520004</td>\n",
       "      <td>154.550003</td>\n",
       "      <td>157.500000</td>\n",
       "      <td>156.229996</td>\n",
       "      <td>42291400</td>\n",
       "      <td>153.552978</td>\n",
       "    </tr>\n",
       "    <tr>\n",
       "      <th>2018-12-31</th>\n",
       "      <td>159.360001</td>\n",
       "      <td>156.479996</td>\n",
       "      <td>158.529999</td>\n",
       "      <td>157.740005</td>\n",
       "      <td>35003500</td>\n",
       "      <td>155.037109</td>\n",
       "    </tr>\n",
       "  </tbody>\n",
       "</table>\n",
       "<p>251 rows × 6 columns</p>\n",
       "</div>"
      ],
      "text/plain": [
       "                  High         Low        Open       Close    Volume  \\\n",
       "2018-01-02  172.300003  169.259995  170.160004  172.259995  25555900   \n",
       "2018-01-03  174.550003  171.960007  172.529999  172.229996  29517900   \n",
       "2018-01-04  173.470001  172.080002  172.539993  173.029999  22434600   \n",
       "2018-01-05  175.369995  173.050003  173.440002  175.000000  23660000   \n",
       "2018-01-08  175.610001  173.929993  174.350006  174.350006  20567800   \n",
       "...                ...         ...         ...         ...       ...   \n",
       "2018-12-24  151.550003  146.589996  148.149994  146.830002  37169200   \n",
       "2018-12-26  157.229996  146.720001  148.300003  157.169998  58582500   \n",
       "2018-12-27  156.770004  150.070007  155.839996  156.149994  53117100   \n",
       "2018-12-28  158.520004  154.550003  157.500000  156.229996  42291400   \n",
       "2018-12-31  159.360001  156.479996  158.529999  157.740005  35003500   \n",
       "\n",
       "             Adj Close  \n",
       "2018-01-02  166.804016  \n",
       "2018-01-03  166.774963  \n",
       "2018-01-04  167.549622  \n",
       "2018-01-05  169.457214  \n",
       "2018-01-08  168.827820  \n",
       "...                ...  \n",
       "2018-12-24  144.314041  \n",
       "2018-12-26  154.476852  \n",
       "2018-12-27  153.474335  \n",
       "2018-12-28  153.552978  \n",
       "2018-12-31  155.037109  \n",
       "\n",
       "[251 rows x 6 columns]"
      ]
     },
     "execution_count": 43,
     "metadata": {},
     "output_type": "execute_result"
    }
   ],
   "source": [
    "# 2018년 데이터 만 조회(수정 필요)\n",
    "stock.loc['2018-01-01':'2018-12-31', :]\n"
   ]
  },
  {
   "cell_type": "code",
   "execution_count": 47,
   "metadata": {
    "colab": {},
    "colab_type": "code",
    "id": "lTZCyTJfNHOQ"
   },
   "outputs": [
    {
     "data": {
      "text/html": [
       "<div>\n",
       "<style scoped>\n",
       "    .dataframe tbody tr th:only-of-type {\n",
       "        vertical-align: middle;\n",
       "    }\n",
       "\n",
       "    .dataframe tbody tr th {\n",
       "        vertical-align: top;\n",
       "    }\n",
       "\n",
       "    .dataframe thead th {\n",
       "        text-align: right;\n",
       "    }\n",
       "</style>\n",
       "<table border=\"1\" class=\"dataframe\">\n",
       "  <thead>\n",
       "    <tr style=\"text-align: right;\">\n",
       "      <th></th>\n",
       "      <th>High</th>\n",
       "      <th>Low</th>\n",
       "      <th>Open</th>\n",
       "      <th>Close</th>\n",
       "      <th>Volume</th>\n",
       "      <th>Adj Close</th>\n",
       "    </tr>\n",
       "  </thead>\n",
       "  <tbody>\n",
       "    <tr>\n",
       "      <th>2019-01-02</th>\n",
       "      <td>158.850006</td>\n",
       "      <td>154.229996</td>\n",
       "      <td>154.889999</td>\n",
       "      <td>157.919998</td>\n",
       "      <td>37039700</td>\n",
       "      <td>155.214004</td>\n",
       "    </tr>\n",
       "    <tr>\n",
       "      <th>2019-01-03</th>\n",
       "      <td>145.720001</td>\n",
       "      <td>142.000000</td>\n",
       "      <td>143.979996</td>\n",
       "      <td>142.190002</td>\n",
       "      <td>91312200</td>\n",
       "      <td>139.753540</td>\n",
       "    </tr>\n",
       "    <tr>\n",
       "      <th>2019-01-04</th>\n",
       "      <td>148.550003</td>\n",
       "      <td>143.800003</td>\n",
       "      <td>144.529999</td>\n",
       "      <td>148.259995</td>\n",
       "      <td>58607100</td>\n",
       "      <td>145.719513</td>\n",
       "    </tr>\n",
       "    <tr>\n",
       "      <th>2019-01-07</th>\n",
       "      <td>148.830002</td>\n",
       "      <td>145.899994</td>\n",
       "      <td>148.699997</td>\n",
       "      <td>147.929993</td>\n",
       "      <td>54777800</td>\n",
       "      <td>145.395203</td>\n",
       "    </tr>\n",
       "    <tr>\n",
       "      <th>2019-01-08</th>\n",
       "      <td>151.820007</td>\n",
       "      <td>148.520004</td>\n",
       "      <td>149.559998</td>\n",
       "      <td>150.750000</td>\n",
       "      <td>41025300</td>\n",
       "      <td>148.166870</td>\n",
       "    </tr>\n",
       "    <tr>\n",
       "      <th>...</th>\n",
       "      <td>...</td>\n",
       "      <td>...</td>\n",
       "      <td>...</td>\n",
       "      <td>...</td>\n",
       "      <td>...</td>\n",
       "      <td>...</td>\n",
       "    </tr>\n",
       "    <tr>\n",
       "      <th>2019-12-24</th>\n",
       "      <td>284.890015</td>\n",
       "      <td>282.920013</td>\n",
       "      <td>284.690002</td>\n",
       "      <td>284.269989</td>\n",
       "      <td>12119700</td>\n",
       "      <td>283.596924</td>\n",
       "    </tr>\n",
       "    <tr>\n",
       "      <th>2019-12-26</th>\n",
       "      <td>289.980011</td>\n",
       "      <td>284.700012</td>\n",
       "      <td>284.820007</td>\n",
       "      <td>289.910004</td>\n",
       "      <td>23280300</td>\n",
       "      <td>289.223602</td>\n",
       "    </tr>\n",
       "    <tr>\n",
       "      <th>2019-12-27</th>\n",
       "      <td>293.970001</td>\n",
       "      <td>288.119995</td>\n",
       "      <td>291.119995</td>\n",
       "      <td>289.799988</td>\n",
       "      <td>36566500</td>\n",
       "      <td>289.113831</td>\n",
       "    </tr>\n",
       "    <tr>\n",
       "      <th>2019-12-30</th>\n",
       "      <td>292.690002</td>\n",
       "      <td>285.220001</td>\n",
       "      <td>289.459992</td>\n",
       "      <td>291.519989</td>\n",
       "      <td>36028600</td>\n",
       "      <td>290.829773</td>\n",
       "    </tr>\n",
       "    <tr>\n",
       "      <th>2019-12-31</th>\n",
       "      <td>293.679993</td>\n",
       "      <td>289.519989</td>\n",
       "      <td>289.929993</td>\n",
       "      <td>293.649994</td>\n",
       "      <td>25201400</td>\n",
       "      <td>292.954712</td>\n",
       "    </tr>\n",
       "  </tbody>\n",
       "</table>\n",
       "<p>252 rows × 6 columns</p>\n",
       "</div>"
      ],
      "text/plain": [
       "                  High         Low        Open       Close    Volume  \\\n",
       "2019-01-02  158.850006  154.229996  154.889999  157.919998  37039700   \n",
       "2019-01-03  145.720001  142.000000  143.979996  142.190002  91312200   \n",
       "2019-01-04  148.550003  143.800003  144.529999  148.259995  58607100   \n",
       "2019-01-07  148.830002  145.899994  148.699997  147.929993  54777800   \n",
       "2019-01-08  151.820007  148.520004  149.559998  150.750000  41025300   \n",
       "...                ...         ...         ...         ...       ...   \n",
       "2019-12-24  284.890015  282.920013  284.690002  284.269989  12119700   \n",
       "2019-12-26  289.980011  284.700012  284.820007  289.910004  23280300   \n",
       "2019-12-27  293.970001  288.119995  291.119995  289.799988  36566500   \n",
       "2019-12-30  292.690002  285.220001  289.459992  291.519989  36028600   \n",
       "2019-12-31  293.679993  289.519989  289.929993  293.649994  25201400   \n",
       "\n",
       "             Adj Close  \n",
       "2019-01-02  155.214004  \n",
       "2019-01-03  139.753540  \n",
       "2019-01-04  145.719513  \n",
       "2019-01-07  145.395203  \n",
       "2019-01-08  148.166870  \n",
       "...                ...  \n",
       "2019-12-24  283.596924  \n",
       "2019-12-26  289.223602  \n",
       "2019-12-27  289.113831  \n",
       "2019-12-30  290.829773  \n",
       "2019-12-31  292.954712  \n",
       "\n",
       "[252 rows x 6 columns]"
      ]
     },
     "execution_count": 47,
     "metadata": {},
     "output_type": "execute_result"
    }
   ],
   "source": [
    "# 2019년 데이터만 갖는 stock_2019 데이터프레임 만들기\n",
    "stock_2019 = stock.loc['2019-01-01':'2019-12-31']\n",
    "stock_2019"
   ]
  },
  {
   "cell_type": "markdown",
   "metadata": {
    "colab_type": "text",
    "id": "qxuITDywOjkY"
   },
   "source": [
    "2019년 12월 High, Low, Open, Close 데이터만 갖는 **stock_201912** 데이터프레임을 만들어 보세요."
   ]
  },
  {
   "cell_type": "code",
   "execution_count": 50,
   "metadata": {
    "colab": {},
    "colab_type": "code",
    "id": "L-Yih73lOjki"
   },
   "outputs": [
    {
     "data": {
      "text/html": [
       "<div>\n",
       "<style scoped>\n",
       "    .dataframe tbody tr th:only-of-type {\n",
       "        vertical-align: middle;\n",
       "    }\n",
       "\n",
       "    .dataframe tbody tr th {\n",
       "        vertical-align: top;\n",
       "    }\n",
       "\n",
       "    .dataframe thead th {\n",
       "        text-align: right;\n",
       "    }\n",
       "</style>\n",
       "<table border=\"1\" class=\"dataframe\">\n",
       "  <thead>\n",
       "    <tr style=\"text-align: right;\">\n",
       "      <th></th>\n",
       "      <th>High</th>\n",
       "      <th>Low</th>\n",
       "      <th>Open</th>\n",
       "      <th>Close</th>\n",
       "    </tr>\n",
       "  </thead>\n",
       "  <tbody>\n",
       "    <tr>\n",
       "      <th>2019-12-02</th>\n",
       "      <td>268.250000</td>\n",
       "      <td>263.450012</td>\n",
       "      <td>267.269989</td>\n",
       "      <td>264.160004</td>\n",
       "    </tr>\n",
       "    <tr>\n",
       "      <th>2019-12-03</th>\n",
       "      <td>259.529999</td>\n",
       "      <td>256.290008</td>\n",
       "      <td>258.309998</td>\n",
       "      <td>259.450012</td>\n",
       "    </tr>\n",
       "    <tr>\n",
       "      <th>2019-12-04</th>\n",
       "      <td>263.309998</td>\n",
       "      <td>260.679993</td>\n",
       "      <td>261.070007</td>\n",
       "      <td>261.739990</td>\n",
       "    </tr>\n",
       "    <tr>\n",
       "      <th>2019-12-05</th>\n",
       "      <td>265.890015</td>\n",
       "      <td>262.730011</td>\n",
       "      <td>263.790008</td>\n",
       "      <td>265.579987</td>\n",
       "    </tr>\n",
       "    <tr>\n",
       "      <th>2019-12-06</th>\n",
       "      <td>271.000000</td>\n",
       "      <td>267.299988</td>\n",
       "      <td>267.480011</td>\n",
       "      <td>270.709992</td>\n",
       "    </tr>\n",
       "    <tr>\n",
       "      <th>2019-12-09</th>\n",
       "      <td>270.799988</td>\n",
       "      <td>264.910004</td>\n",
       "      <td>270.000000</td>\n",
       "      <td>266.920013</td>\n",
       "    </tr>\n",
       "    <tr>\n",
       "      <th>2019-12-10</th>\n",
       "      <td>270.070007</td>\n",
       "      <td>265.859985</td>\n",
       "      <td>268.600006</td>\n",
       "      <td>268.480011</td>\n",
       "    </tr>\n",
       "    <tr>\n",
       "      <th>2019-12-11</th>\n",
       "      <td>271.100006</td>\n",
       "      <td>268.500000</td>\n",
       "      <td>268.809998</td>\n",
       "      <td>270.769989</td>\n",
       "    </tr>\n",
       "    <tr>\n",
       "      <th>2019-12-12</th>\n",
       "      <td>272.559998</td>\n",
       "      <td>267.320007</td>\n",
       "      <td>267.779999</td>\n",
       "      <td>271.459992</td>\n",
       "    </tr>\n",
       "    <tr>\n",
       "      <th>2019-12-13</th>\n",
       "      <td>275.299988</td>\n",
       "      <td>270.929993</td>\n",
       "      <td>271.459992</td>\n",
       "      <td>275.149994</td>\n",
       "    </tr>\n",
       "    <tr>\n",
       "      <th>2019-12-16</th>\n",
       "      <td>280.790008</td>\n",
       "      <td>276.980011</td>\n",
       "      <td>277.000000</td>\n",
       "      <td>279.859985</td>\n",
       "    </tr>\n",
       "    <tr>\n",
       "      <th>2019-12-17</th>\n",
       "      <td>281.769989</td>\n",
       "      <td>278.799988</td>\n",
       "      <td>279.570007</td>\n",
       "      <td>280.410004</td>\n",
       "    </tr>\n",
       "    <tr>\n",
       "      <th>2019-12-18</th>\n",
       "      <td>281.899994</td>\n",
       "      <td>279.119995</td>\n",
       "      <td>279.799988</td>\n",
       "      <td>279.739990</td>\n",
       "    </tr>\n",
       "    <tr>\n",
       "      <th>2019-12-19</th>\n",
       "      <td>281.179993</td>\n",
       "      <td>278.950012</td>\n",
       "      <td>279.500000</td>\n",
       "      <td>280.019989</td>\n",
       "    </tr>\n",
       "    <tr>\n",
       "      <th>2019-12-20</th>\n",
       "      <td>282.649994</td>\n",
       "      <td>278.559998</td>\n",
       "      <td>282.230011</td>\n",
       "      <td>279.440002</td>\n",
       "    </tr>\n",
       "    <tr>\n",
       "      <th>2019-12-23</th>\n",
       "      <td>284.250000</td>\n",
       "      <td>280.369995</td>\n",
       "      <td>280.529999</td>\n",
       "      <td>284.000000</td>\n",
       "    </tr>\n",
       "    <tr>\n",
       "      <th>2019-12-24</th>\n",
       "      <td>284.890015</td>\n",
       "      <td>282.920013</td>\n",
       "      <td>284.690002</td>\n",
       "      <td>284.269989</td>\n",
       "    </tr>\n",
       "    <tr>\n",
       "      <th>2019-12-26</th>\n",
       "      <td>289.980011</td>\n",
       "      <td>284.700012</td>\n",
       "      <td>284.820007</td>\n",
       "      <td>289.910004</td>\n",
       "    </tr>\n",
       "    <tr>\n",
       "      <th>2019-12-27</th>\n",
       "      <td>293.970001</td>\n",
       "      <td>288.119995</td>\n",
       "      <td>291.119995</td>\n",
       "      <td>289.799988</td>\n",
       "    </tr>\n",
       "    <tr>\n",
       "      <th>2019-12-30</th>\n",
       "      <td>292.690002</td>\n",
       "      <td>285.220001</td>\n",
       "      <td>289.459992</td>\n",
       "      <td>291.519989</td>\n",
       "    </tr>\n",
       "    <tr>\n",
       "      <th>2019-12-31</th>\n",
       "      <td>293.679993</td>\n",
       "      <td>289.519989</td>\n",
       "      <td>289.929993</td>\n",
       "      <td>293.649994</td>\n",
       "    </tr>\n",
       "  </tbody>\n",
       "</table>\n",
       "</div>"
      ],
      "text/plain": [
       "                  High         Low        Open       Close\n",
       "2019-12-02  268.250000  263.450012  267.269989  264.160004\n",
       "2019-12-03  259.529999  256.290008  258.309998  259.450012\n",
       "2019-12-04  263.309998  260.679993  261.070007  261.739990\n",
       "2019-12-05  265.890015  262.730011  263.790008  265.579987\n",
       "2019-12-06  271.000000  267.299988  267.480011  270.709992\n",
       "2019-12-09  270.799988  264.910004  270.000000  266.920013\n",
       "2019-12-10  270.070007  265.859985  268.600006  268.480011\n",
       "2019-12-11  271.100006  268.500000  268.809998  270.769989\n",
       "2019-12-12  272.559998  267.320007  267.779999  271.459992\n",
       "2019-12-13  275.299988  270.929993  271.459992  275.149994\n",
       "2019-12-16  280.790008  276.980011  277.000000  279.859985\n",
       "2019-12-17  281.769989  278.799988  279.570007  280.410004\n",
       "2019-12-18  281.899994  279.119995  279.799988  279.739990\n",
       "2019-12-19  281.179993  278.950012  279.500000  280.019989\n",
       "2019-12-20  282.649994  278.559998  282.230011  279.440002\n",
       "2019-12-23  284.250000  280.369995  280.529999  284.000000\n",
       "2019-12-24  284.890015  282.920013  284.690002  284.269989\n",
       "2019-12-26  289.980011  284.700012  284.820007  289.910004\n",
       "2019-12-27  293.970001  288.119995  291.119995  289.799988\n",
       "2019-12-30  292.690002  285.220001  289.459992  291.519989\n",
       "2019-12-31  293.679993  289.519989  289.929993  293.649994"
      ]
     },
     "execution_count": 50,
     "metadata": {},
     "output_type": "execute_result"
    }
   ],
   "source": [
    "# stock_201912 데이터프레임 만들기\n",
    "stock_201912 = stock.loc['2019-12-01':'2019-12-31', ['High','Low','Open','Close']]\n",
    "stock_201912"
   ]
  },
  {
   "cell_type": "code",
   "execution_count": 51,
   "metadata": {
    "colab": {},
    "colab_type": "code",
    "id": "2svPAwJUPNjg"
   },
   "outputs": [
    {
     "data": {
      "text/plain": [
       "<matplotlib.axes._subplots.AxesSubplot at 0x199f31c0188>"
      ]
     },
     "execution_count": 51,
     "metadata": {},
     "output_type": "execute_result"
    },
    {
     "data": {
      "image/png": "[encoded data removed]",
      "text/plain": [
       "<Figure size 432x288 with 1 Axes>"
      ]
     },
     "metadata": {
      "needs_background": "light"
     },
     "output_type": "display_data"
    }
   ],
   "source": [
    "# stock_201912 데이터프레임을 만든 후 다음 코드를 실행해 보세요.\n",
    "stock_201912.plot()\n"
   ]
  },
  {
   "cell_type": "markdown",
   "metadata": {
    "colab_type": "text",
    "id": "XSLcVdoPATmR"
   },
   "source": [
    "## 4.3. 위치로 조회\n",
    "\n",
    "- **df.iloc[[행번호],[열번호]]** 형태로 사용해 조회할 수 있습니다.\n",
    "- 행 번호, 열 번호를 지정하는 차이 외에는 .loc[]와 사용 방법이 같습니다.\n",
    "- 범위 조회시 범위 마지막 값은 조회 결과에 포함되지 않습니다."
   ]
  },
  {
   "cell_type": "code",
   "execution_count": 54,
   "metadata": {
    "colab": {},
    "colab_type": "code",
    "id": "4zZt72P8ATmU",
    "scrolled": false
   },
   "outputs": [
    {
     "data": {
      "text/html": [
       "<div>\n",
       "<style scoped>\n",
       "    .dataframe tbody tr th:only-of-type {\n",
       "        vertical-align: middle;\n",
       "    }\n",
       "\n",
       "    .dataframe tbody tr th {\n",
       "        vertical-align: top;\n",
       "    }\n",
       "\n",
       "    .dataframe thead th {\n",
       "        text-align: right;\n",
       "    }\n",
       "</style>\n",
       "<table border=\"1\" class=\"dataframe\">\n",
       "  <thead>\n",
       "    <tr style=\"text-align: right;\">\n",
       "      <th></th>\n",
       "      <th>High</th>\n",
       "      <th>Low</th>\n",
       "      <th>Open</th>\n",
       "      <th>Close</th>\n",
       "      <th>Volume</th>\n",
       "      <th>Adj Close</th>\n",
       "    </tr>\n",
       "  </thead>\n",
       "  <tbody>\n",
       "    <tr>\n",
       "      <th>2000-01-03</th>\n",
       "      <td>4.017857</td>\n",
       "      <td>3.631696</td>\n",
       "      <td>3.745536</td>\n",
       "      <td>3.997768</td>\n",
       "      <td>133949200</td>\n",
       "      <td>3.470226</td>\n",
       "    </tr>\n",
       "    <tr>\n",
       "      <th>2000-01-04</th>\n",
       "      <td>3.950893</td>\n",
       "      <td>3.613839</td>\n",
       "      <td>3.866071</td>\n",
       "      <td>3.660714</td>\n",
       "      <td>128094400</td>\n",
       "      <td>3.177650</td>\n",
       "    </tr>\n",
       "    <tr>\n",
       "      <th>2000-01-05</th>\n",
       "      <td>3.948661</td>\n",
       "      <td>3.678571</td>\n",
       "      <td>3.705357</td>\n",
       "      <td>3.714286</td>\n",
       "      <td>194580400</td>\n",
       "      <td>3.224152</td>\n",
       "    </tr>\n",
       "    <tr>\n",
       "      <th>2000-01-06</th>\n",
       "      <td>3.821429</td>\n",
       "      <td>3.392857</td>\n",
       "      <td>3.790179</td>\n",
       "      <td>3.392857</td>\n",
       "      <td>191993200</td>\n",
       "      <td>2.945139</td>\n",
       "    </tr>\n",
       "    <tr>\n",
       "      <th>2000-01-07</th>\n",
       "      <td>3.607143</td>\n",
       "      <td>3.410714</td>\n",
       "      <td>3.446429</td>\n",
       "      <td>3.553571</td>\n",
       "      <td>115183600</td>\n",
       "      <td>3.084645</td>\n",
       "    </tr>\n",
       "  </tbody>\n",
       "</table>\n",
       "</div>"
      ],
      "text/plain": [
       "                High       Low      Open     Close     Volume  Adj Close\n",
       "2000-01-03  4.017857  3.631696  3.745536  3.997768  133949200   3.470226\n",
       "2000-01-04  3.950893  3.613839  3.866071  3.660714  128094400   3.177650\n",
       "2000-01-05  3.948661  3.678571  3.705357  3.714286  194580400   3.224152\n",
       "2000-01-06  3.821429  3.392857  3.790179  3.392857  191993200   2.945139\n",
       "2000-01-07  3.607143  3.410714  3.446429  3.553571  115183600   3.084645"
      ]
     },
     "execution_count": 54,
     "metadata": {},
     "output_type": "execute_result"
    }
   ],
   "source": [
    "# 데이터프레임 확인\n",
    "stock.head()"
   ]
  },
  {
   "cell_type": "code",
   "execution_count": 55,
   "metadata": {
    "colab": {},
    "colab_type": "code",
    "id": "gLL3x8wWYnV_",
    "scrolled": false
   },
   "outputs": [
    {
     "data": {
      "text/plain": [
       "High         4.017857e+00\n",
       "Low          3.631696e+00\n",
       "Open         3.745536e+00\n",
       "Close        3.997768e+00\n",
       "Volume       1.339492e+08\n",
       "Adj Close    3.470226e+00\n",
       "Name: 2000-01-03, dtype: float64"
      ]
     },
     "execution_count": 55,
     "metadata": {},
     "output_type": "execute_result"
    }
   ],
   "source": [
    "# 첫 번째 행 조회 --> 시리즈\n",
    "stock.iloc[0]"
   ]
  },
  {
   "cell_type": "code",
   "execution_count": 56,
   "metadata": {
    "colab": {},
    "colab_type": "code",
    "id": "Qwl8U7kzATmn",
    "scrolled": false
   },
   "outputs": [
    {
     "data": {
      "text/plain": [
       "High         3.950893e+00\n",
       "Low          3.613839e+00\n",
       "Open         3.866071e+00\n",
       "Close        3.660714e+00\n",
       "Volume       1.280944e+08\n",
       "Adj Close    3.177650e+00\n",
       "Name: 2000-01-04, dtype: float64"
      ]
     },
     "execution_count": 56,
     "metadata": {},
     "output_type": "execute_result"
    }
   ],
   "source": [
    "# 두 번째 행 조회 --> 시리즈\n",
    "stock.iloc[1]"
   ]
  },
  {
   "cell_type": "code",
   "execution_count": 57,
   "metadata": {
    "colab": {},
    "colab_type": "code",
    "id": "zIc6qOiWATmx",
    "scrolled": false
   },
   "outputs": [
    {
     "data": {
      "text/html": [
       "<div>\n",
       "<style scoped>\n",
       "    .dataframe tbody tr th:only-of-type {\n",
       "        vertical-align: middle;\n",
       "    }\n",
       "\n",
       "    .dataframe tbody tr th {\n",
       "        vertical-align: top;\n",
       "    }\n",
       "\n",
       "    .dataframe thead th {\n",
       "        text-align: right;\n",
       "    }\n",
       "</style>\n",
       "<table border=\"1\" class=\"dataframe\">\n",
       "  <thead>\n",
       "    <tr style=\"text-align: right;\">\n",
       "      <th></th>\n",
       "      <th>High</th>\n",
       "      <th>Low</th>\n",
       "      <th>Open</th>\n",
       "      <th>Close</th>\n",
       "      <th>Volume</th>\n",
       "      <th>Adj Close</th>\n",
       "    </tr>\n",
       "  </thead>\n",
       "  <tbody>\n",
       "    <tr>\n",
       "      <th>2000-01-04</th>\n",
       "      <td>3.950893</td>\n",
       "      <td>3.613839</td>\n",
       "      <td>3.866071</td>\n",
       "      <td>3.660714</td>\n",
       "      <td>128094400</td>\n",
       "      <td>3.17765</td>\n",
       "    </tr>\n",
       "  </tbody>\n",
       "</table>\n",
       "</div>"
      ],
      "text/plain": [
       "                High       Low      Open     Close     Volume  Adj Close\n",
       "2000-01-04  3.950893  3.613839  3.866071  3.660714  128094400    3.17765"
      ]
     },
     "execution_count": 57,
     "metadata": {},
     "output_type": "execute_result"
    }
   ],
   "source": [
    "# 두 번째 행 조회\n",
    "stock.iloc[[1]]"
   ]
  },
  {
   "cell_type": "code",
   "execution_count": 58,
   "metadata": {
    "colab": {},
    "colab_type": "code",
    "id": "etId8BH_Uq86",
    "scrolled": false
   },
   "outputs": [
    {
     "data": {
      "text/html": [
       "<div>\n",
       "<style scoped>\n",
       "    .dataframe tbody tr th:only-of-type {\n",
       "        vertical-align: middle;\n",
       "    }\n",
       "\n",
       "    .dataframe tbody tr th {\n",
       "        vertical-align: top;\n",
       "    }\n",
       "\n",
       "    .dataframe thead th {\n",
       "        text-align: right;\n",
       "    }\n",
       "</style>\n",
       "<table border=\"1\" class=\"dataframe\">\n",
       "  <thead>\n",
       "    <tr style=\"text-align: right;\">\n",
       "      <th></th>\n",
       "      <th>Low</th>\n",
       "    </tr>\n",
       "  </thead>\n",
       "  <tbody>\n",
       "    <tr>\n",
       "      <th>2000-01-03</th>\n",
       "      <td>3.631696</td>\n",
       "    </tr>\n",
       "    <tr>\n",
       "      <th>2000-01-04</th>\n",
       "      <td>3.613839</td>\n",
       "    </tr>\n",
       "    <tr>\n",
       "      <th>2000-01-05</th>\n",
       "      <td>3.678571</td>\n",
       "    </tr>\n",
       "    <tr>\n",
       "      <th>2000-01-06</th>\n",
       "      <td>3.392857</td>\n",
       "    </tr>\n",
       "    <tr>\n",
       "      <th>2000-01-07</th>\n",
       "      <td>3.410714</td>\n",
       "    </tr>\n",
       "    <tr>\n",
       "      <th>...</th>\n",
       "      <td>...</td>\n",
       "    </tr>\n",
       "    <tr>\n",
       "      <th>2019-12-24</th>\n",
       "      <td>282.920013</td>\n",
       "    </tr>\n",
       "    <tr>\n",
       "      <th>2019-12-26</th>\n",
       "      <td>284.700012</td>\n",
       "    </tr>\n",
       "    <tr>\n",
       "      <th>2019-12-27</th>\n",
       "      <td>288.119995</td>\n",
       "    </tr>\n",
       "    <tr>\n",
       "      <th>2019-12-30</th>\n",
       "      <td>285.220001</td>\n",
       "    </tr>\n",
       "    <tr>\n",
       "      <th>2019-12-31</th>\n",
       "      <td>289.519989</td>\n",
       "    </tr>\n",
       "  </tbody>\n",
       "</table>\n",
       "<p>5031 rows × 1 columns</p>\n",
       "</div>"
      ],
      "text/plain": [
       "                   Low\n",
       "2000-01-03    3.631696\n",
       "2000-01-04    3.613839\n",
       "2000-01-05    3.678571\n",
       "2000-01-06    3.392857\n",
       "2000-01-07    3.410714\n",
       "...                ...\n",
       "2019-12-24  282.920013\n",
       "2019-12-26  284.700012\n",
       "2019-12-27  288.119995\n",
       "2019-12-30  285.220001\n",
       "2019-12-31  289.519989\n",
       "\n",
       "[5031 rows x 1 columns]"
      ]
     },
     "execution_count": 58,
     "metadata": {},
     "output_type": "execute_result"
    }
   ],
   "source": [
    "# 두 번째 열 조회\n",
    "stock.iloc[:, [1]]"
   ]
  },
  {
   "cell_type": "code",
   "execution_count": 59,
   "metadata": {
    "colab": {},
    "colab_type": "code",
    "id": "WfWkmaQOATm4",
    "scrolled": false
   },
   "outputs": [
    {
     "data": {
      "text/html": [
       "<div>\n",
       "<style scoped>\n",
       "    .dataframe tbody tr th:only-of-type {\n",
       "        vertical-align: middle;\n",
       "    }\n",
       "\n",
       "    .dataframe tbody tr th {\n",
       "        vertical-align: top;\n",
       "    }\n",
       "\n",
       "    .dataframe thead th {\n",
       "        text-align: right;\n",
       "    }\n",
       "</style>\n",
       "<table border=\"1\" class=\"dataframe\">\n",
       "  <thead>\n",
       "    <tr style=\"text-align: right;\">\n",
       "      <th></th>\n",
       "      <th>High</th>\n",
       "      <th>Low</th>\n",
       "      <th>Open</th>\n",
       "      <th>Close</th>\n",
       "      <th>Volume</th>\n",
       "      <th>Adj Close</th>\n",
       "    </tr>\n",
       "  </thead>\n",
       "  <tbody>\n",
       "    <tr>\n",
       "      <th>2000-01-03</th>\n",
       "      <td>4.017857</td>\n",
       "      <td>3.631696</td>\n",
       "      <td>3.745536</td>\n",
       "      <td>3.997768</td>\n",
       "      <td>133949200</td>\n",
       "      <td>3.470226</td>\n",
       "    </tr>\n",
       "    <tr>\n",
       "      <th>2000-01-05</th>\n",
       "      <td>3.948661</td>\n",
       "      <td>3.678571</td>\n",
       "      <td>3.705357</td>\n",
       "      <td>3.714286</td>\n",
       "      <td>194580400</td>\n",
       "      <td>3.224152</td>\n",
       "    </tr>\n",
       "    <tr>\n",
       "      <th>2000-01-07</th>\n",
       "      <td>3.607143</td>\n",
       "      <td>3.410714</td>\n",
       "      <td>3.446429</td>\n",
       "      <td>3.553571</td>\n",
       "      <td>115183600</td>\n",
       "      <td>3.084645</td>\n",
       "    </tr>\n",
       "  </tbody>\n",
       "</table>\n",
       "</div>"
      ],
      "text/plain": [
       "                High       Low      Open     Close     Volume  Adj Close\n",
       "2000-01-03  4.017857  3.631696  3.745536  3.997768  133949200   3.470226\n",
       "2000-01-05  3.948661  3.678571  3.705357  3.714286  194580400   3.224152\n",
       "2000-01-07  3.607143  3.410714  3.446429  3.553571  115183600   3.084645"
      ]
     },
     "execution_count": 59,
     "metadata": {},
     "output_type": "execute_result"
    }
   ],
   "source": [
    "# 첫 번쨰, 세 번쨰, 다섯 번째 행 조회\n",
    "stock.iloc[[0, 2, 4]]"
   ]
  },
  {
   "cell_type": "code",
   "execution_count": 60,
   "metadata": {
    "colab": {},
    "colab_type": "code",
    "id": "PMXMj8iNYnWB",
    "scrolled": true
   },
   "outputs": [
    {
     "data": {
      "text/html": [
       "<div>\n",
       "<style scoped>\n",
       "    .dataframe tbody tr th:only-of-type {\n",
       "        vertical-align: middle;\n",
       "    }\n",
       "\n",
       "    .dataframe tbody tr th {\n",
       "        vertical-align: top;\n",
       "    }\n",
       "\n",
       "    .dataframe thead th {\n",
       "        text-align: right;\n",
       "    }\n",
       "</style>\n",
       "<table border=\"1\" class=\"dataframe\">\n",
       "  <thead>\n",
       "    <tr style=\"text-align: right;\">\n",
       "      <th></th>\n",
       "      <th>High</th>\n",
       "      <th>Low</th>\n",
       "      <th>Open</th>\n",
       "      <th>Close</th>\n",
       "      <th>Volume</th>\n",
       "      <th>Adj Close</th>\n",
       "    </tr>\n",
       "  </thead>\n",
       "  <tbody>\n",
       "    <tr>\n",
       "      <th>2000-01-03</th>\n",
       "      <td>4.017857</td>\n",
       "      <td>3.631696</td>\n",
       "      <td>3.745536</td>\n",
       "      <td>3.997768</td>\n",
       "      <td>133949200</td>\n",
       "      <td>3.470226</td>\n",
       "    </tr>\n",
       "    <tr>\n",
       "      <th>2000-01-04</th>\n",
       "      <td>3.950893</td>\n",
       "      <td>3.613839</td>\n",
       "      <td>3.866071</td>\n",
       "      <td>3.660714</td>\n",
       "      <td>128094400</td>\n",
       "      <td>3.177650</td>\n",
       "    </tr>\n",
       "    <tr>\n",
       "      <th>2000-01-05</th>\n",
       "      <td>3.948661</td>\n",
       "      <td>3.678571</td>\n",
       "      <td>3.705357</td>\n",
       "      <td>3.714286</td>\n",
       "      <td>194580400</td>\n",
       "      <td>3.224152</td>\n",
       "    </tr>\n",
       "  </tbody>\n",
       "</table>\n",
       "</div>"
      ],
      "text/plain": [
       "                High       Low      Open     Close     Volume  Adj Close\n",
       "2000-01-03  4.017857  3.631696  3.745536  3.997768  133949200   3.470226\n",
       "2000-01-04  3.950893  3.613839  3.866071  3.660714  128094400   3.177650\n",
       "2000-01-05  3.948661  3.678571  3.705357  3.714286  194580400   3.224152"
      ]
     },
     "execution_count": 60,
     "metadata": {},
     "output_type": "execute_result"
    }
   ],
   "source": [
    "# 첫 번째 ~ 세 번째 행 조회\n",
    "stock.iloc[0:3]"
   ]
  },
  {
   "cell_type": "code",
   "execution_count": 61,
   "metadata": {
    "colab": {},
    "colab_type": "code",
    "id": "CHSzzG-MU0Lg",
    "scrolled": true
   },
   "outputs": [
    {
     "data": {
      "text/html": [
       "<div>\n",
       "<style scoped>\n",
       "    .dataframe tbody tr th:only-of-type {\n",
       "        vertical-align: middle;\n",
       "    }\n",
       "\n",
       "    .dataframe tbody tr th {\n",
       "        vertical-align: top;\n",
       "    }\n",
       "\n",
       "    .dataframe thead th {\n",
       "        text-align: right;\n",
       "    }\n",
       "</style>\n",
       "<table border=\"1\" class=\"dataframe\">\n",
       "  <thead>\n",
       "    <tr style=\"text-align: right;\">\n",
       "      <th></th>\n",
       "      <th>High</th>\n",
       "      <th>Low</th>\n",
       "      <th>Open</th>\n",
       "    </tr>\n",
       "  </thead>\n",
       "  <tbody>\n",
       "    <tr>\n",
       "      <th>2000-01-03</th>\n",
       "      <td>4.017857</td>\n",
       "      <td>3.631696</td>\n",
       "      <td>3.745536</td>\n",
       "    </tr>\n",
       "    <tr>\n",
       "      <th>2000-01-04</th>\n",
       "      <td>3.950893</td>\n",
       "      <td>3.613839</td>\n",
       "      <td>3.866071</td>\n",
       "    </tr>\n",
       "    <tr>\n",
       "      <th>2000-01-05</th>\n",
       "      <td>3.948661</td>\n",
       "      <td>3.678571</td>\n",
       "      <td>3.705357</td>\n",
       "    </tr>\n",
       "    <tr>\n",
       "      <th>2000-01-06</th>\n",
       "      <td>3.821429</td>\n",
       "      <td>3.392857</td>\n",
       "      <td>3.790179</td>\n",
       "    </tr>\n",
       "    <tr>\n",
       "      <th>2000-01-07</th>\n",
       "      <td>3.607143</td>\n",
       "      <td>3.410714</td>\n",
       "      <td>3.446429</td>\n",
       "    </tr>\n",
       "    <tr>\n",
       "      <th>...</th>\n",
       "      <td>...</td>\n",
       "      <td>...</td>\n",
       "      <td>...</td>\n",
       "    </tr>\n",
       "    <tr>\n",
       "      <th>2019-12-24</th>\n",
       "      <td>284.890015</td>\n",
       "      <td>282.920013</td>\n",
       "      <td>284.690002</td>\n",
       "    </tr>\n",
       "    <tr>\n",
       "      <th>2019-12-26</th>\n",
       "      <td>289.980011</td>\n",
       "      <td>284.700012</td>\n",
       "      <td>284.820007</td>\n",
       "    </tr>\n",
       "    <tr>\n",
       "      <th>2019-12-27</th>\n",
       "      <td>293.970001</td>\n",
       "      <td>288.119995</td>\n",
       "      <td>291.119995</td>\n",
       "    </tr>\n",
       "    <tr>\n",
       "      <th>2019-12-30</th>\n",
       "      <td>292.690002</td>\n",
       "      <td>285.220001</td>\n",
       "      <td>289.459992</td>\n",
       "    </tr>\n",
       "    <tr>\n",
       "      <th>2019-12-31</th>\n",
       "      <td>293.679993</td>\n",
       "      <td>289.519989</td>\n",
       "      <td>289.929993</td>\n",
       "    </tr>\n",
       "  </tbody>\n",
       "</table>\n",
       "<p>5031 rows × 3 columns</p>\n",
       "</div>"
      ],
      "text/plain": [
       "                  High         Low        Open\n",
       "2000-01-03    4.017857    3.631696    3.745536\n",
       "2000-01-04    3.950893    3.613839    3.866071\n",
       "2000-01-05    3.948661    3.678571    3.705357\n",
       "2000-01-06    3.821429    3.392857    3.790179\n",
       "2000-01-07    3.607143    3.410714    3.446429\n",
       "...                ...         ...         ...\n",
       "2019-12-24  284.890015  282.920013  284.690002\n",
       "2019-12-26  289.980011  284.700012  284.820007\n",
       "2019-12-27  293.970001  288.119995  291.119995\n",
       "2019-12-30  292.690002  285.220001  289.459992\n",
       "2019-12-31  293.679993  289.519989  289.929993\n",
       "\n",
       "[5031 rows x 3 columns]"
      ]
     },
     "execution_count": 61,
     "metadata": {},
     "output_type": "execute_result"
    }
   ],
   "source": [
    "# 첫 번째 ~ 세 번째 열 조회\n",
    "stock.iloc[:, 0:3]"
   ]
  },
  {
   "cell_type": "code",
   "execution_count": 62,
   "metadata": {
    "colab": {},
    "colab_type": "code",
    "id": "a_nVnXpMAosw"
   },
   "outputs": [
    {
     "data": {
      "text/html": [
       "<div>\n",
       "<style scoped>\n",
       "    .dataframe tbody tr th:only-of-type {\n",
       "        vertical-align: middle;\n",
       "    }\n",
       "\n",
       "    .dataframe tbody tr th {\n",
       "        vertical-align: top;\n",
       "    }\n",
       "\n",
       "    .dataframe thead th {\n",
       "        text-align: right;\n",
       "    }\n",
       "</style>\n",
       "<table border=\"1\" class=\"dataframe\">\n",
       "  <thead>\n",
       "    <tr style=\"text-align: right;\">\n",
       "      <th></th>\n",
       "      <th>High</th>\n",
       "      <th>Low</th>\n",
       "      <th>Open</th>\n",
       "      <th>Close</th>\n",
       "      <th>Volume</th>\n",
       "      <th>Adj Close</th>\n",
       "    </tr>\n",
       "  </thead>\n",
       "  <tbody>\n",
       "    <tr>\n",
       "      <th>2000-01-03</th>\n",
       "      <td>4.017857</td>\n",
       "      <td>3.631696</td>\n",
       "      <td>3.745536</td>\n",
       "      <td>3.997768</td>\n",
       "      <td>133949200</td>\n",
       "      <td>3.470226</td>\n",
       "    </tr>\n",
       "    <tr>\n",
       "      <th>2000-01-06</th>\n",
       "      <td>3.821429</td>\n",
       "      <td>3.392857</td>\n",
       "      <td>3.790179</td>\n",
       "      <td>3.392857</td>\n",
       "      <td>191993200</td>\n",
       "      <td>2.945139</td>\n",
       "    </tr>\n",
       "    <tr>\n",
       "      <th>2000-01-11</th>\n",
       "      <td>3.549107</td>\n",
       "      <td>3.232143</td>\n",
       "      <td>3.426339</td>\n",
       "      <td>3.312500</td>\n",
       "      <td>110387200</td>\n",
       "      <td>2.875386</td>\n",
       "    </tr>\n",
       "    <tr>\n",
       "      <th>2000-01-14</th>\n",
       "      <td>3.651786</td>\n",
       "      <td>3.549107</td>\n",
       "      <td>3.571429</td>\n",
       "      <td>3.587054</td>\n",
       "      <td>97594000</td>\n",
       "      <td>3.113708</td>\n",
       "    </tr>\n",
       "    <tr>\n",
       "      <th>2000-01-20</th>\n",
       "      <td>4.339286</td>\n",
       "      <td>4.053571</td>\n",
       "      <td>4.125000</td>\n",
       "      <td>4.053571</td>\n",
       "      <td>457783200</td>\n",
       "      <td>3.518665</td>\n",
       "    </tr>\n",
       "    <tr>\n",
       "      <th>...</th>\n",
       "      <td>...</td>\n",
       "      <td>...</td>\n",
       "      <td>...</td>\n",
       "      <td>...</td>\n",
       "      <td>...</td>\n",
       "      <td>...</td>\n",
       "    </tr>\n",
       "    <tr>\n",
       "      <th>2019-12-10</th>\n",
       "      <td>270.070007</td>\n",
       "      <td>265.859985</td>\n",
       "      <td>268.600006</td>\n",
       "      <td>268.480011</td>\n",
       "      <td>22605100</td>\n",
       "      <td>267.844330</td>\n",
       "    </tr>\n",
       "    <tr>\n",
       "      <th>2019-12-13</th>\n",
       "      <td>275.299988</td>\n",
       "      <td>270.929993</td>\n",
       "      <td>271.459992</td>\n",
       "      <td>275.149994</td>\n",
       "      <td>33396900</td>\n",
       "      <td>274.498535</td>\n",
       "    </tr>\n",
       "    <tr>\n",
       "      <th>2019-12-18</th>\n",
       "      <td>281.899994</td>\n",
       "      <td>279.119995</td>\n",
       "      <td>279.799988</td>\n",
       "      <td>279.739990</td>\n",
       "      <td>29007100</td>\n",
       "      <td>279.077667</td>\n",
       "    </tr>\n",
       "    <tr>\n",
       "      <th>2019-12-23</th>\n",
       "      <td>284.250000</td>\n",
       "      <td>280.369995</td>\n",
       "      <td>280.529999</td>\n",
       "      <td>284.000000</td>\n",
       "      <td>24643000</td>\n",
       "      <td>283.327576</td>\n",
       "    </tr>\n",
       "    <tr>\n",
       "      <th>2019-12-27</th>\n",
       "      <td>293.970001</td>\n",
       "      <td>288.119995</td>\n",
       "      <td>291.119995</td>\n",
       "      <td>289.799988</td>\n",
       "      <td>36566500</td>\n",
       "      <td>289.113831</td>\n",
       "    </tr>\n",
       "  </tbody>\n",
       "</table>\n",
       "<p>1677 rows × 6 columns</p>\n",
       "</div>"
      ],
      "text/plain": [
       "                  High         Low        Open       Close     Volume  \\\n",
       "2000-01-03    4.017857    3.631696    3.745536    3.997768  133949200   \n",
       "2000-01-06    3.821429    3.392857    3.790179    3.392857  191993200   \n",
       "2000-01-11    3.549107    3.232143    3.426339    3.312500  110387200   \n",
       "2000-01-14    3.651786    3.549107    3.571429    3.587054   97594000   \n",
       "2000-01-20    4.339286    4.053571    4.125000    4.053571  457783200   \n",
       "...                ...         ...         ...         ...        ...   \n",
       "2019-12-10  270.070007  265.859985  268.600006  268.480011   22605100   \n",
       "2019-12-13  275.299988  270.929993  271.459992  275.149994   33396900   \n",
       "2019-12-18  281.899994  279.119995  279.799988  279.739990   29007100   \n",
       "2019-12-23  284.250000  280.369995  280.529999  284.000000   24643000   \n",
       "2019-12-27  293.970001  288.119995  291.119995  289.799988   36566500   \n",
       "\n",
       "             Adj Close  \n",
       "2000-01-03    3.470226  \n",
       "2000-01-06    2.945139  \n",
       "2000-01-11    2.875386  \n",
       "2000-01-14    3.113708  \n",
       "2000-01-20    3.518665  \n",
       "...                ...  \n",
       "2019-12-10  267.844330  \n",
       "2019-12-13  274.498535  \n",
       "2019-12-18  279.077667  \n",
       "2019-12-23  283.327576  \n",
       "2019-12-27  289.113831  \n",
       "\n",
       "[1677 rows x 6 columns]"
      ]
     },
     "execution_count": 62,
     "metadata": {},
     "output_type": "execute_result"
    }
   ],
   "source": [
    "# 3의 배수인 행 조회\n",
    "stock.iloc[::3]"
   ]
  },
  {
   "cell_type": "markdown",
   "metadata": {
    "colab_type": "text",
    "id": "xts277eMfLiS"
   },
   "source": [
    "<img src='https://raw.githubusercontent.com/jangrae/img/master/practice_01.png' width=120 align=\"left\"/>"
   ]
  },
  {
   "cell_type": "markdown",
   "metadata": {
    "colab_type": "text",
    "id": "og2JswI0p7GJ"
   },
   "source": [
    "다음 셀들을 실행하면서 그 의미를 확인해 보세요."
   ]
  },
  {
   "cell_type": "code",
   "execution_count": 63,
   "metadata": {
    "colab": {},
    "colab_type": "code",
    "id": "3_YNehA3YnWD",
    "scrolled": false
   },
   "outputs": [
    {
     "data": {
      "text/plain": [
       "3.613839388"
      ]
     },
     "execution_count": 63,
     "metadata": {},
     "output_type": "execute_result"
    }
   ],
   "source": [
    "stock.iloc[1, 1]"
   ]
  },
  {
   "cell_type": "code",
   "execution_count": 64,
   "metadata": {
    "colab": {},
    "colab_type": "code",
    "id": "iXzmU4Yxpy1U"
   },
   "outputs": [
    {
     "data": {
      "text/plain": [
       "3.177650213"
      ]
     },
     "execution_count": 64,
     "metadata": {},
     "output_type": "execute_result"
    }
   ],
   "source": [
    "stock.iloc[1, -1]"
   ]
  },
  {
   "cell_type": "code",
   "execution_count": 65,
   "metadata": {
    "colab": {},
    "colab_type": "code",
    "id": "hOcph2gbYnWF",
    "scrolled": false
   },
   "outputs": [
    {
     "data": {
      "text/html": [
       "<div>\n",
       "<style scoped>\n",
       "    .dataframe tbody tr th:only-of-type {\n",
       "        vertical-align: middle;\n",
       "    }\n",
       "\n",
       "    .dataframe tbody tr th {\n",
       "        vertical-align: top;\n",
       "    }\n",
       "\n",
       "    .dataframe thead th {\n",
       "        text-align: right;\n",
       "    }\n",
       "</style>\n",
       "<table border=\"1\" class=\"dataframe\">\n",
       "  <thead>\n",
       "    <tr style=\"text-align: right;\">\n",
       "      <th></th>\n",
       "      <th>High</th>\n",
       "      <th>Low</th>\n",
       "      <th>Open</th>\n",
       "    </tr>\n",
       "  </thead>\n",
       "  <tbody>\n",
       "    <tr>\n",
       "      <th>2000-01-03</th>\n",
       "      <td>4.017857</td>\n",
       "      <td>3.631696</td>\n",
       "      <td>3.745536</td>\n",
       "    </tr>\n",
       "    <tr>\n",
       "      <th>2000-01-04</th>\n",
       "      <td>3.950893</td>\n",
       "      <td>3.613839</td>\n",
       "      <td>3.866071</td>\n",
       "    </tr>\n",
       "    <tr>\n",
       "      <th>2000-01-05</th>\n",
       "      <td>3.948661</td>\n",
       "      <td>3.678571</td>\n",
       "      <td>3.705357</td>\n",
       "    </tr>\n",
       "    <tr>\n",
       "      <th>2000-01-06</th>\n",
       "      <td>3.821429</td>\n",
       "      <td>3.392857</td>\n",
       "      <td>3.790179</td>\n",
       "    </tr>\n",
       "  </tbody>\n",
       "</table>\n",
       "</div>"
      ],
      "text/plain": [
       "                High       Low      Open\n",
       "2000-01-03  4.017857  3.631696  3.745536\n",
       "2000-01-04  3.950893  3.613839  3.866071\n",
       "2000-01-05  3.948661  3.678571  3.705357\n",
       "2000-01-06  3.821429  3.392857  3.790179"
      ]
     },
     "execution_count": 65,
     "metadata": {},
     "output_type": "execute_result"
    }
   ],
   "source": [
    "stock.iloc[0:4, 0:3]"
   ]
  },
  {
   "cell_type": "code",
   "execution_count": 66,
   "metadata": {
    "colab": {},
    "colab_type": "code",
    "id": "noORxk5RwJ0l"
   },
   "outputs": [
    {
     "data": {
      "text/html": [
       "<div>\n",
       "<style scoped>\n",
       "    .dataframe tbody tr th:only-of-type {\n",
       "        vertical-align: middle;\n",
       "    }\n",
       "\n",
       "    .dataframe tbody tr th {\n",
       "        vertical-align: top;\n",
       "    }\n",
       "\n",
       "    .dataframe thead th {\n",
       "        text-align: right;\n",
       "    }\n",
       "</style>\n",
       "<table border=\"1\" class=\"dataframe\">\n",
       "  <thead>\n",
       "    <tr style=\"text-align: right;\">\n",
       "      <th></th>\n",
       "      <th>High</th>\n",
       "      <th>Open</th>\n",
       "      <th>Volume</th>\n",
       "    </tr>\n",
       "  </thead>\n",
       "  <tbody>\n",
       "    <tr>\n",
       "      <th>2000-01-03</th>\n",
       "      <td>4.017857</td>\n",
       "      <td>3.745536</td>\n",
       "      <td>133949200</td>\n",
       "    </tr>\n",
       "    <tr>\n",
       "      <th>2000-01-04</th>\n",
       "      <td>3.950893</td>\n",
       "      <td>3.866071</td>\n",
       "      <td>128094400</td>\n",
       "    </tr>\n",
       "    <tr>\n",
       "      <th>2000-01-05</th>\n",
       "      <td>3.948661</td>\n",
       "      <td>3.705357</td>\n",
       "      <td>194580400</td>\n",
       "    </tr>\n",
       "    <tr>\n",
       "      <th>2000-01-06</th>\n",
       "      <td>3.821429</td>\n",
       "      <td>3.790179</td>\n",
       "      <td>191993200</td>\n",
       "    </tr>\n",
       "  </tbody>\n",
       "</table>\n",
       "</div>"
      ],
      "text/plain": [
       "                High      Open     Volume\n",
       "2000-01-03  4.017857  3.745536  133949200\n",
       "2000-01-04  3.950893  3.866071  128094400\n",
       "2000-01-05  3.948661  3.705357  194580400\n",
       "2000-01-06  3.821429  3.790179  191993200"
      ]
     },
     "execution_count": 66,
     "metadata": {},
     "output_type": "execute_result"
    }
   ],
   "source": [
    "stock.iloc[0:4, [0, 2, 4]]"
   ]
  },
  {
   "cell_type": "code",
   "execution_count": 67,
   "metadata": {
    "colab": {},
    "colab_type": "code",
    "id": "B2evPNDrAJyB"
   },
   "outputs": [
    {
     "data": {
      "text/html": [
       "<div>\n",
       "<style scoped>\n",
       "    .dataframe tbody tr th:only-of-type {\n",
       "        vertical-align: middle;\n",
       "    }\n",
       "\n",
       "    .dataframe tbody tr th {\n",
       "        vertical-align: top;\n",
       "    }\n",
       "\n",
       "    .dataframe thead th {\n",
       "        text-align: right;\n",
       "    }\n",
       "</style>\n",
       "<table border=\"1\" class=\"dataframe\">\n",
       "  <thead>\n",
       "    <tr style=\"text-align: right;\">\n",
       "      <th></th>\n",
       "      <th>High</th>\n",
       "      <th>Open</th>\n",
       "      <th>Volume</th>\n",
       "    </tr>\n",
       "  </thead>\n",
       "  <tbody>\n",
       "    <tr>\n",
       "      <th>2000-01-03</th>\n",
       "      <td>4.017857</td>\n",
       "      <td>3.745536</td>\n",
       "      <td>133949200</td>\n",
       "    </tr>\n",
       "    <tr>\n",
       "      <th>2000-01-06</th>\n",
       "      <td>3.821429</td>\n",
       "      <td>3.790179</td>\n",
       "      <td>191993200</td>\n",
       "    </tr>\n",
       "    <tr>\n",
       "      <th>2000-01-11</th>\n",
       "      <td>3.549107</td>\n",
       "      <td>3.426339</td>\n",
       "      <td>110387200</td>\n",
       "    </tr>\n",
       "    <tr>\n",
       "      <th>2000-01-14</th>\n",
       "      <td>3.651786</td>\n",
       "      <td>3.571429</td>\n",
       "      <td>97594000</td>\n",
       "    </tr>\n",
       "    <tr>\n",
       "      <th>2000-01-20</th>\n",
       "      <td>4.339286</td>\n",
       "      <td>4.125000</td>\n",
       "      <td>457783200</td>\n",
       "    </tr>\n",
       "    <tr>\n",
       "      <th>...</th>\n",
       "      <td>...</td>\n",
       "      <td>...</td>\n",
       "      <td>...</td>\n",
       "    </tr>\n",
       "    <tr>\n",
       "      <th>2019-12-10</th>\n",
       "      <td>270.070007</td>\n",
       "      <td>268.600006</td>\n",
       "      <td>22605100</td>\n",
       "    </tr>\n",
       "    <tr>\n",
       "      <th>2019-12-13</th>\n",
       "      <td>275.299988</td>\n",
       "      <td>271.459992</td>\n",
       "      <td>33396900</td>\n",
       "    </tr>\n",
       "    <tr>\n",
       "      <th>2019-12-18</th>\n",
       "      <td>281.899994</td>\n",
       "      <td>279.799988</td>\n",
       "      <td>29007100</td>\n",
       "    </tr>\n",
       "    <tr>\n",
       "      <th>2019-12-23</th>\n",
       "      <td>284.250000</td>\n",
       "      <td>280.529999</td>\n",
       "      <td>24643000</td>\n",
       "    </tr>\n",
       "    <tr>\n",
       "      <th>2019-12-27</th>\n",
       "      <td>293.970001</td>\n",
       "      <td>291.119995</td>\n",
       "      <td>36566500</td>\n",
       "    </tr>\n",
       "  </tbody>\n",
       "</table>\n",
       "<p>1677 rows × 3 columns</p>\n",
       "</div>"
      ],
      "text/plain": [
       "                  High        Open     Volume\n",
       "2000-01-03    4.017857    3.745536  133949200\n",
       "2000-01-06    3.821429    3.790179  191993200\n",
       "2000-01-11    3.549107    3.426339  110387200\n",
       "2000-01-14    3.651786    3.571429   97594000\n",
       "2000-01-20    4.339286    4.125000  457783200\n",
       "...                ...         ...        ...\n",
       "2019-12-10  270.070007  268.600006   22605100\n",
       "2019-12-13  275.299988  271.459992   33396900\n",
       "2019-12-18  281.899994  279.799988   29007100\n",
       "2019-12-23  284.250000  280.529999   24643000\n",
       "2019-12-27  293.970001  291.119995   36566500\n",
       "\n",
       "[1677 rows x 3 columns]"
      ]
     },
     "execution_count": 67,
     "metadata": {},
     "output_type": "execute_result"
    }
   ],
   "source": [
    "stock.iloc[::3, [0, 2, 4]]"
   ]
  },
  {
   "cell_type": "code",
   "execution_count": 68,
   "metadata": {
    "colab": {},
    "colab_type": "code",
    "id": "AHOsUFgppfdW"
   },
   "outputs": [
    {
     "data": {
      "text/html": [
       "<div>\n",
       "<style scoped>\n",
       "    .dataframe tbody tr th:only-of-type {\n",
       "        vertical-align: middle;\n",
       "    }\n",
       "\n",
       "    .dataframe tbody tr th {\n",
       "        vertical-align: top;\n",
       "    }\n",
       "\n",
       "    .dataframe thead th {\n",
       "        text-align: right;\n",
       "    }\n",
       "</style>\n",
       "<table border=\"1\" class=\"dataframe\">\n",
       "  <thead>\n",
       "    <tr style=\"text-align: right;\">\n",
       "      <th></th>\n",
       "      <th>High</th>\n",
       "      <th>Low</th>\n",
       "      <th>Open</th>\n",
       "      <th>Close</th>\n",
       "      <th>Volume</th>\n",
       "      <th>Adj Close</th>\n",
       "    </tr>\n",
       "  </thead>\n",
       "  <tbody>\n",
       "    <tr>\n",
       "      <th>2019-12-24</th>\n",
       "      <td>284.890015</td>\n",
       "      <td>282.920013</td>\n",
       "      <td>284.690002</td>\n",
       "      <td>284.269989</td>\n",
       "      <td>12119700</td>\n",
       "      <td>283.596924</td>\n",
       "    </tr>\n",
       "    <tr>\n",
       "      <th>2019-12-26</th>\n",
       "      <td>289.980011</td>\n",
       "      <td>284.700012</td>\n",
       "      <td>284.820007</td>\n",
       "      <td>289.910004</td>\n",
       "      <td>23280300</td>\n",
       "      <td>289.223602</td>\n",
       "    </tr>\n",
       "    <tr>\n",
       "      <th>2019-12-27</th>\n",
       "      <td>293.970001</td>\n",
       "      <td>288.119995</td>\n",
       "      <td>291.119995</td>\n",
       "      <td>289.799988</td>\n",
       "      <td>36566500</td>\n",
       "      <td>289.113831</td>\n",
       "    </tr>\n",
       "    <tr>\n",
       "      <th>2019-12-30</th>\n",
       "      <td>292.690002</td>\n",
       "      <td>285.220001</td>\n",
       "      <td>289.459992</td>\n",
       "      <td>291.519989</td>\n",
       "      <td>36028600</td>\n",
       "      <td>290.829773</td>\n",
       "    </tr>\n",
       "  </tbody>\n",
       "</table>\n",
       "</div>"
      ],
      "text/plain": [
       "                  High         Low        Open       Close    Volume  \\\n",
       "2019-12-24  284.890015  282.920013  284.690002  284.269989  12119700   \n",
       "2019-12-26  289.980011  284.700012  284.820007  289.910004  23280300   \n",
       "2019-12-27  293.970001  288.119995  291.119995  289.799988  36566500   \n",
       "2019-12-30  292.690002  285.220001  289.459992  291.519989  36028600   \n",
       "\n",
       "             Adj Close  \n",
       "2019-12-24  283.596924  \n",
       "2019-12-26  289.223602  \n",
       "2019-12-27  289.113831  \n",
       "2019-12-30  290.829773  "
      ]
     },
     "execution_count": 68,
     "metadata": {},
     "output_type": "execute_result"
    }
   ],
   "source": [
    "stock.iloc[-5:-1]"
   ]
  },
  {
   "cell_type": "markdown",
   "metadata": {
    "colab_type": "text",
    "id": "OK5DYqPYwxnB"
   },
   "source": [
    "## 4.4. 조건으로 조회\n",
    "\n",
    "- **df.loc[조건]** 형태로 조건을 지정해 조건에 만족하는 데이터만 조회할 수 있습니다.\n",
    "- 우선 조건이 제대로 판단이 되는지 확인한 후 그 **조건을 대 괄호 안에** 넣으면 됩니다."
   ]
  },
  {
   "cell_type": "code",
   "execution_count": 69,
   "metadata": {
    "colab": {},
    "colab_type": "code",
    "id": "iSseIGX0ATpj",
    "scrolled": true
   },
   "outputs": [
    {
     "data": {
      "text/html": [
       "<div>\n",
       "<style scoped>\n",
       "    .dataframe tbody tr th:only-of-type {\n",
       "        vertical-align: middle;\n",
       "    }\n",
       "\n",
       "    .dataframe tbody tr th {\n",
       "        vertical-align: top;\n",
       "    }\n",
       "\n",
       "    .dataframe thead th {\n",
       "        text-align: right;\n",
       "    }\n",
       "</style>\n",
       "<table border=\"1\" class=\"dataframe\">\n",
       "  <thead>\n",
       "    <tr style=\"text-align: right;\">\n",
       "      <th></th>\n",
       "      <th>admit</th>\n",
       "      <th>gre</th>\n",
       "      <th>gpa</th>\n",
       "      <th>rank</th>\n",
       "    </tr>\n",
       "  </thead>\n",
       "  <tbody>\n",
       "    <tr>\n",
       "      <th>0</th>\n",
       "      <td>0</td>\n",
       "      <td>380</td>\n",
       "      <td>3.61</td>\n",
       "      <td>3</td>\n",
       "    </tr>\n",
       "    <tr>\n",
       "      <th>1</th>\n",
       "      <td>1</td>\n",
       "      <td>660</td>\n",
       "      <td>3.67</td>\n",
       "      <td>3</td>\n",
       "    </tr>\n",
       "    <tr>\n",
       "      <th>2</th>\n",
       "      <td>1</td>\n",
       "      <td>800</td>\n",
       "      <td>4.00</td>\n",
       "      <td>1</td>\n",
       "    </tr>\n",
       "    <tr>\n",
       "      <th>3</th>\n",
       "      <td>1</td>\n",
       "      <td>640</td>\n",
       "      <td>3.19</td>\n",
       "      <td>4</td>\n",
       "    </tr>\n",
       "    <tr>\n",
       "      <th>4</th>\n",
       "      <td>0</td>\n",
       "      <td>520</td>\n",
       "      <td>2.93</td>\n",
       "      <td>4</td>\n",
       "    </tr>\n",
       "  </tbody>\n",
       "</table>\n",
       "</div>"
      ],
      "text/plain": [
       "   admit  gre   gpa  rank\n",
       "0      0  380  3.61     3\n",
       "1      1  660  3.67     3\n",
       "2      1  800  4.00     1\n",
       "3      1  640  3.19     4\n",
       "4      0  520  2.93     4"
      ]
     },
     "execution_count": 69,
     "metadata": {},
     "output_type": "execute_result"
    }
   ],
   "source": [
    "file_path ='../csv/Graduate_apply.csv'\n",
    "graduate = pd.read_csv(file_path)\n",
    "# 데이터프레임 확인\n",
    "graduate.head()"
   ]
  },
  {
   "cell_type": "markdown",
   "metadata": {
    "colab_type": "text",
    "id": "HK5RKnbLATpo"
   },
   "source": [
    "**1) 조건 확인**"
   ]
  },
  {
   "cell_type": "code",
   "execution_count": 70,
   "metadata": {
    "colab": {},
    "colab_type": "code",
    "id": "0F1Hu1buYnWG",
    "scrolled": false
   },
   "outputs": [
    {
     "data": {
      "text/plain": [
       "0       True\n",
       "1       True\n",
       "2       True\n",
       "3      False\n",
       "4      False\n",
       "       ...  \n",
       "395     True\n",
       "396    False\n",
       "397    False\n",
       "398     True\n",
       "399     True\n",
       "Name: gpa, Length: 400, dtype: bool"
      ]
     },
     "execution_count": 70,
     "metadata": {},
     "output_type": "execute_result"
    }
   ],
   "source": [
    "# 조건을 비교한 결과(True/False) 값으로 반환됨\n",
    "graduate['gpa'] > 3.5"
   ]
  },
  {
   "cell_type": "markdown",
   "metadata": {
    "colab_type": "text",
    "id": "60zsY0EGATpv"
   },
   "source": [
    "**2) 단일 조건을 반족하는 행 조회**"
   ]
  },
  {
   "cell_type": "code",
   "execution_count": 71,
   "metadata": {
    "colab": {},
    "colab_type": "code",
    "id": "Kp2lBEDTYnWI",
    "scrolled": true
   },
   "outputs": [
    {
     "data": {
      "text/html": [
       "<div>\n",
       "<style scoped>\n",
       "    .dataframe tbody tr th:only-of-type {\n",
       "        vertical-align: middle;\n",
       "    }\n",
       "\n",
       "    .dataframe tbody tr th {\n",
       "        vertical-align: top;\n",
       "    }\n",
       "\n",
       "    .dataframe thead th {\n",
       "        text-align: right;\n",
       "    }\n",
       "</style>\n",
       "<table border=\"1\" class=\"dataframe\">\n",
       "  <thead>\n",
       "    <tr style=\"text-align: right;\">\n",
       "      <th></th>\n",
       "      <th>admit</th>\n",
       "      <th>gre</th>\n",
       "      <th>gpa</th>\n",
       "      <th>rank</th>\n",
       "    </tr>\n",
       "  </thead>\n",
       "  <tbody>\n",
       "    <tr>\n",
       "      <th>0</th>\n",
       "      <td>0</td>\n",
       "      <td>380</td>\n",
       "      <td>3.61</td>\n",
       "      <td>3</td>\n",
       "    </tr>\n",
       "    <tr>\n",
       "      <th>1</th>\n",
       "      <td>1</td>\n",
       "      <td>660</td>\n",
       "      <td>3.67</td>\n",
       "      <td>3</td>\n",
       "    </tr>\n",
       "    <tr>\n",
       "      <th>2</th>\n",
       "      <td>1</td>\n",
       "      <td>800</td>\n",
       "      <td>4.00</td>\n",
       "      <td>1</td>\n",
       "    </tr>\n",
       "    <tr>\n",
       "      <th>9</th>\n",
       "      <td>0</td>\n",
       "      <td>700</td>\n",
       "      <td>3.92</td>\n",
       "      <td>2</td>\n",
       "    </tr>\n",
       "    <tr>\n",
       "      <th>10</th>\n",
       "      <td>0</td>\n",
       "      <td>800</td>\n",
       "      <td>4.00</td>\n",
       "      <td>4</td>\n",
       "    </tr>\n",
       "  </tbody>\n",
       "</table>\n",
       "</div>"
      ],
      "text/plain": [
       "    admit  gre   gpa  rank\n",
       "0       0  380  3.61     3\n",
       "1       1  660  3.67     3\n",
       "2       1  800  4.00     1\n",
       "9       0  700  3.92     2\n",
       "10      0  800  4.00     4"
      ]
     },
     "execution_count": 71,
     "metadata": {},
     "output_type": "execute_result"
    }
   ],
   "source": [
    "# 조건을 비교한 결과 True 인 값 조회\n",
    "graduate.loc[graduate['gpa'] > 3.5].head()"
   ]
  },
  {
   "cell_type": "markdown",
   "metadata": {
    "colab_type": "text",
    "id": "JkiA7cEsATq9"
   },
   "source": [
    "**3) 여러 조건을 만족하는 행 조회**\n",
    "\n",
    "- [ ]안에 조건을 여러개 연결할 때 **and와 or 대신에 &와 |**를 사용해야 합니다.\n",
    "- 그리고 각 조건들은 **(조건1) & (조건2)** 형태로 괄호로 묶어야 합니다."
   ]
  },
  {
   "cell_type": "code",
   "execution_count": 72,
   "metadata": {
    "colab": {},
    "colab_type": "code",
    "id": "Vj3YKKw3YnWL",
    "scrolled": true
   },
   "outputs": [
    {
     "data": {
      "text/html": [
       "<div>\n",
       "<style scoped>\n",
       "    .dataframe tbody tr th:only-of-type {\n",
       "        vertical-align: middle;\n",
       "    }\n",
       "\n",
       "    .dataframe tbody tr th {\n",
       "        vertical-align: top;\n",
       "    }\n",
       "\n",
       "    .dataframe thead th {\n",
       "        text-align: right;\n",
       "    }\n",
       "</style>\n",
       "<table border=\"1\" class=\"dataframe\">\n",
       "  <thead>\n",
       "    <tr style=\"text-align: right;\">\n",
       "      <th></th>\n",
       "      <th>admit</th>\n",
       "      <th>gre</th>\n",
       "      <th>gpa</th>\n",
       "      <th>rank</th>\n",
       "    </tr>\n",
       "  </thead>\n",
       "  <tbody>\n",
       "    <tr>\n",
       "      <th>0</th>\n",
       "      <td>0</td>\n",
       "      <td>380</td>\n",
       "      <td>3.61</td>\n",
       "      <td>3</td>\n",
       "    </tr>\n",
       "    <tr>\n",
       "      <th>1</th>\n",
       "      <td>1</td>\n",
       "      <td>660</td>\n",
       "      <td>3.67</td>\n",
       "      <td>3</td>\n",
       "    </tr>\n",
       "    <tr>\n",
       "      <th>8</th>\n",
       "      <td>1</td>\n",
       "      <td>540</td>\n",
       "      <td>3.39</td>\n",
       "      <td>3</td>\n",
       "    </tr>\n",
       "    <tr>\n",
       "      <th>15</th>\n",
       "      <td>0</td>\n",
       "      <td>480</td>\n",
       "      <td>3.44</td>\n",
       "      <td>3</td>\n",
       "    </tr>\n",
       "    <tr>\n",
       "      <th>20</th>\n",
       "      <td>0</td>\n",
       "      <td>500</td>\n",
       "      <td>3.17</td>\n",
       "      <td>3</td>\n",
       "    </tr>\n",
       "  </tbody>\n",
       "</table>\n",
       "</div>"
      ],
      "text/plain": [
       "    admit  gre   gpa  rank\n",
       "0       0  380  3.61     3\n",
       "1       1  660  3.67     3\n",
       "8       1  540  3.39     3\n",
       "15      0  480  3.44     3\n",
       "20      0  500  3.17     3"
      ]
     },
     "execution_count": 72,
     "metadata": {},
     "output_type": "execute_result"
    }
   ],
   "source": [
    "# and 조건으로 여러 조건 함께 조회\n",
    "graduate.loc[(graduate['gpa'] > 3.0) & (graduate['rank'] == 3)].head()"
   ]
  },
  {
   "cell_type": "code",
   "execution_count": 73,
   "metadata": {
    "colab": {},
    "colab_type": "code",
    "id": "KN6bdUHgLM1C",
    "scrolled": false
   },
   "outputs": [
    {
     "data": {
      "text/html": [
       "<div>\n",
       "<style scoped>\n",
       "    .dataframe tbody tr th:only-of-type {\n",
       "        vertical-align: middle;\n",
       "    }\n",
       "\n",
       "    .dataframe tbody tr th {\n",
       "        vertical-align: top;\n",
       "    }\n",
       "\n",
       "    .dataframe thead th {\n",
       "        text-align: right;\n",
       "    }\n",
       "</style>\n",
       "<table border=\"1\" class=\"dataframe\">\n",
       "  <thead>\n",
       "    <tr style=\"text-align: right;\">\n",
       "      <th></th>\n",
       "      <th>admit</th>\n",
       "      <th>gre</th>\n",
       "      <th>gpa</th>\n",
       "      <th>rank</th>\n",
       "    </tr>\n",
       "  </thead>\n",
       "  <tbody>\n",
       "    <tr>\n",
       "      <th>0</th>\n",
       "      <td>0</td>\n",
       "      <td>380</td>\n",
       "      <td>3.61</td>\n",
       "      <td>3</td>\n",
       "    </tr>\n",
       "    <tr>\n",
       "      <th>1</th>\n",
       "      <td>1</td>\n",
       "      <td>660</td>\n",
       "      <td>3.67</td>\n",
       "      <td>3</td>\n",
       "    </tr>\n",
       "    <tr>\n",
       "      <th>2</th>\n",
       "      <td>1</td>\n",
       "      <td>800</td>\n",
       "      <td>4.00</td>\n",
       "      <td>1</td>\n",
       "    </tr>\n",
       "    <tr>\n",
       "      <th>3</th>\n",
       "      <td>1</td>\n",
       "      <td>640</td>\n",
       "      <td>3.19</td>\n",
       "      <td>4</td>\n",
       "    </tr>\n",
       "    <tr>\n",
       "      <th>7</th>\n",
       "      <td>0</td>\n",
       "      <td>400</td>\n",
       "      <td>3.08</td>\n",
       "      <td>2</td>\n",
       "    </tr>\n",
       "  </tbody>\n",
       "</table>\n",
       "</div>"
      ],
      "text/plain": [
       "   admit  gre   gpa  rank\n",
       "0      0  380  3.61     3\n",
       "1      1  660  3.67     3\n",
       "2      1  800  4.00     1\n",
       "3      1  640  3.19     4\n",
       "7      0  400  3.08     2"
      ]
     },
     "execution_count": 73,
     "metadata": {},
     "output_type": "execute_result"
    }
   ],
   "source": [
    "# or 조건으로 여러 조건 함께 조회\n",
    "graduate.loc[(graduate['gpa'] > 3.0) | (graduate['rank'] == 3)].head()"
   ]
  },
  {
   "cell_type": "markdown",
   "metadata": {
    "colab_type": "text",
    "id": "uiFKTXgA2OLW"
   },
   "source": [
    "**4) 편리한 isin(), between() 메소드**"
   ]
  },
  {
   "cell_type": "markdown",
   "metadata": {
    "colab_type": "text",
    "id": "yX-zLmdNATqp"
   },
   "source": [
    "- **isin([값1, 값2, 값3])**: 값1 또는 값2 또는 값3인 데이터만 조회합니다."
   ]
  },
  {
   "cell_type": "code",
   "execution_count": 74,
   "metadata": {
    "colab": {},
    "colab_type": "code",
    "id": "QcvToTXBYnWJ"
   },
   "outputs": [
    {
     "data": {
      "text/html": [
       "<div>\n",
       "<style scoped>\n",
       "    .dataframe tbody tr th:only-of-type {\n",
       "        vertical-align: middle;\n",
       "    }\n",
       "\n",
       "    .dataframe tbody tr th {\n",
       "        vertical-align: top;\n",
       "    }\n",
       "\n",
       "    .dataframe thead th {\n",
       "        text-align: right;\n",
       "    }\n",
       "</style>\n",
       "<table border=\"1\" class=\"dataframe\">\n",
       "  <thead>\n",
       "    <tr style=\"text-align: right;\">\n",
       "      <th></th>\n",
       "      <th>admit</th>\n",
       "      <th>gre</th>\n",
       "      <th>gpa</th>\n",
       "      <th>rank</th>\n",
       "    </tr>\n",
       "  </thead>\n",
       "  <tbody>\n",
       "    <tr>\n",
       "      <th>2</th>\n",
       "      <td>1</td>\n",
       "      <td>800</td>\n",
       "      <td>4.00</td>\n",
       "      <td>1</td>\n",
       "    </tr>\n",
       "    <tr>\n",
       "      <th>5</th>\n",
       "      <td>1</td>\n",
       "      <td>760</td>\n",
       "      <td>3.00</td>\n",
       "      <td>2</td>\n",
       "    </tr>\n",
       "    <tr>\n",
       "      <th>6</th>\n",
       "      <td>1</td>\n",
       "      <td>560</td>\n",
       "      <td>2.98</td>\n",
       "      <td>1</td>\n",
       "    </tr>\n",
       "    <tr>\n",
       "      <th>7</th>\n",
       "      <td>0</td>\n",
       "      <td>400</td>\n",
       "      <td>3.08</td>\n",
       "      <td>2</td>\n",
       "    </tr>\n",
       "    <tr>\n",
       "      <th>9</th>\n",
       "      <td>0</td>\n",
       "      <td>700</td>\n",
       "      <td>3.92</td>\n",
       "      <td>2</td>\n",
       "    </tr>\n",
       "  </tbody>\n",
       "</table>\n",
       "</div>"
      ],
      "text/plain": [
       "   admit  gre   gpa  rank\n",
       "2      1  800  4.00     1\n",
       "5      1  760  3.00     2\n",
       "6      1  560  2.98     1\n",
       "7      0  400  3.08     2\n",
       "9      0  700  3.92     2"
      ]
     },
     "execution_count": 74,
     "metadata": {},
     "output_type": "execute_result"
    }
   ],
   "source": [
    "# 여러 값을 한꺼번에 나열해서 비교\n",
    "graduate.loc[graduate['rank'].isin([1, 2])].head()"
   ]
  },
  {
   "cell_type": "code",
   "execution_count": 75,
   "metadata": {
    "colab": {},
    "colab_type": "code",
    "id": "LJV566VUwxnO"
   },
   "outputs": [
    {
     "data": {
      "text/html": [
       "<div>\n",
       "<style scoped>\n",
       "    .dataframe tbody tr th:only-of-type {\n",
       "        vertical-align: middle;\n",
       "    }\n",
       "\n",
       "    .dataframe tbody tr th {\n",
       "        vertical-align: top;\n",
       "    }\n",
       "\n",
       "    .dataframe thead th {\n",
       "        text-align: right;\n",
       "    }\n",
       "</style>\n",
       "<table border=\"1\" class=\"dataframe\">\n",
       "  <thead>\n",
       "    <tr style=\"text-align: right;\">\n",
       "      <th></th>\n",
       "      <th>admit</th>\n",
       "      <th>gre</th>\n",
       "      <th>gpa</th>\n",
       "      <th>rank</th>\n",
       "    </tr>\n",
       "  </thead>\n",
       "  <tbody>\n",
       "    <tr>\n",
       "      <th>2</th>\n",
       "      <td>1</td>\n",
       "      <td>800</td>\n",
       "      <td>4.00</td>\n",
       "      <td>1</td>\n",
       "    </tr>\n",
       "    <tr>\n",
       "      <th>5</th>\n",
       "      <td>1</td>\n",
       "      <td>760</td>\n",
       "      <td>3.00</td>\n",
       "      <td>2</td>\n",
       "    </tr>\n",
       "    <tr>\n",
       "      <th>6</th>\n",
       "      <td>1</td>\n",
       "      <td>560</td>\n",
       "      <td>2.98</td>\n",
       "      <td>1</td>\n",
       "    </tr>\n",
       "    <tr>\n",
       "      <th>7</th>\n",
       "      <td>0</td>\n",
       "      <td>400</td>\n",
       "      <td>3.08</td>\n",
       "      <td>2</td>\n",
       "    </tr>\n",
       "    <tr>\n",
       "      <th>9</th>\n",
       "      <td>0</td>\n",
       "      <td>700</td>\n",
       "      <td>3.92</td>\n",
       "      <td>2</td>\n",
       "    </tr>\n",
       "  </tbody>\n",
       "</table>\n",
       "</div>"
      ],
      "text/plain": [
       "   admit  gre   gpa  rank\n",
       "2      1  800  4.00     1\n",
       "5      1  760  3.00     2\n",
       "6      1  560  2.98     1\n",
       "7      0  400  3.08     2\n",
       "9      0  700  3.92     2"
      ]
     },
     "execution_count": 75,
     "metadata": {},
     "output_type": "execute_result"
    }
   ],
   "source": [
    "# 위 문장을 분리하면\n",
    "graduate.loc[(graduate['rank'] == 1) | (graduate['rank'] == 2)].head()"
   ]
  },
  {
   "cell_type": "markdown",
   "metadata": {
    "colab_type": "text",
    "id": "tEv4D7z_3kBn"
   },
   "source": [
    "- **between(값1, 값2)**: 값1 ~ 값2까지 범위안의 데이터만 조회합니다."
   ]
  },
  {
   "cell_type": "code",
   "execution_count": 76,
   "metadata": {
    "colab": {},
    "colab_type": "code",
    "id": "IvnE4lU12L2H"
   },
   "outputs": [
    {
     "data": {
      "text/html": [
       "<div>\n",
       "<style scoped>\n",
       "    .dataframe tbody tr th:only-of-type {\n",
       "        vertical-align: middle;\n",
       "    }\n",
       "\n",
       "    .dataframe tbody tr th {\n",
       "        vertical-align: top;\n",
       "    }\n",
       "\n",
       "    .dataframe thead th {\n",
       "        text-align: right;\n",
       "    }\n",
       "</style>\n",
       "<table border=\"1\" class=\"dataframe\">\n",
       "  <thead>\n",
       "    <tr style=\"text-align: right;\">\n",
       "      <th></th>\n",
       "      <th>admit</th>\n",
       "      <th>gre</th>\n",
       "      <th>gpa</th>\n",
       "      <th>rank</th>\n",
       "    </tr>\n",
       "  </thead>\n",
       "  <tbody>\n",
       "    <tr>\n",
       "      <th>0</th>\n",
       "      <td>0</td>\n",
       "      <td>380</td>\n",
       "      <td>3.61</td>\n",
       "      <td>3</td>\n",
       "    </tr>\n",
       "    <tr>\n",
       "      <th>1</th>\n",
       "      <td>1</td>\n",
       "      <td>660</td>\n",
       "      <td>3.67</td>\n",
       "      <td>3</td>\n",
       "    </tr>\n",
       "    <tr>\n",
       "      <th>2</th>\n",
       "      <td>1</td>\n",
       "      <td>800</td>\n",
       "      <td>4.00</td>\n",
       "      <td>1</td>\n",
       "    </tr>\n",
       "    <tr>\n",
       "      <th>5</th>\n",
       "      <td>1</td>\n",
       "      <td>760</td>\n",
       "      <td>3.00</td>\n",
       "      <td>2</td>\n",
       "    </tr>\n",
       "    <tr>\n",
       "      <th>6</th>\n",
       "      <td>1</td>\n",
       "      <td>560</td>\n",
       "      <td>2.98</td>\n",
       "      <td>1</td>\n",
       "    </tr>\n",
       "  </tbody>\n",
       "</table>\n",
       "</div>"
      ],
      "text/plain": [
       "   admit  gre   gpa  rank\n",
       "0      0  380  3.61     3\n",
       "1      1  660  3.67     3\n",
       "2      1  800  4.00     1\n",
       "5      1  760  3.00     2\n",
       "6      1  560  2.98     1"
      ]
     },
     "execution_count": 76,
     "metadata": {},
     "output_type": "execute_result"
    }
   ],
   "source": [
    "# 어디부터 어디까지 범위를 한 번에 지정\n",
    "graduate.loc[graduate['rank'].between(1, 3)].head()"
   ]
  },
  {
   "cell_type": "code",
   "execution_count": null,
   "metadata": {
    "colab": {},
    "colab_type": "code",
    "id": "9Qw8PEVn4dBd"
   },
   "outputs": [],
   "source": [
    "# 위 문장을 분리하면\n",
    "graduate.loc[(graduate['rank'] >= 1) & (graduate['rank'] <= 3)].head()"
   ]
  },
  {
   "cell_type": "markdown",
   "metadata": {
    "colab_type": "text",
    "id": "NOAU79x5ATrR"
   },
   "source": [
    "**5) 조건을 만족하는 행의 일부 열 조회**\n",
    "\n",
    "- **df.loc[조건, ['열']]** 형태로 열 하나, 또는 **df.loc[조건, ['열1', '열2']]** 형태로 여러 열을 조회합니다."
   ]
  },
  {
   "cell_type": "code",
   "execution_count": 77,
   "metadata": {
    "colab": {},
    "colab_type": "code",
    "id": "YP0xnwhwATrS",
    "scrolled": false
   },
   "outputs": [
    {
     "data": {
      "text/html": [
       "<div>\n",
       "<style scoped>\n",
       "    .dataframe tbody tr th:only-of-type {\n",
       "        vertical-align: middle;\n",
       "    }\n",
       "\n",
       "    .dataframe tbody tr th {\n",
       "        vertical-align: top;\n",
       "    }\n",
       "\n",
       "    .dataframe thead th {\n",
       "        text-align: right;\n",
       "    }\n",
       "</style>\n",
       "<table border=\"1\" class=\"dataframe\">\n",
       "  <thead>\n",
       "    <tr style=\"text-align: right;\">\n",
       "      <th></th>\n",
       "      <th>gre</th>\n",
       "    </tr>\n",
       "  </thead>\n",
       "  <tbody>\n",
       "    <tr>\n",
       "      <th>0</th>\n",
       "      <td>380</td>\n",
       "    </tr>\n",
       "    <tr>\n",
       "      <th>1</th>\n",
       "      <td>660</td>\n",
       "    </tr>\n",
       "    <tr>\n",
       "      <th>2</th>\n",
       "      <td>800</td>\n",
       "    </tr>\n",
       "    <tr>\n",
       "      <th>3</th>\n",
       "      <td>640</td>\n",
       "    </tr>\n",
       "    <tr>\n",
       "      <th>7</th>\n",
       "      <td>400</td>\n",
       "    </tr>\n",
       "  </tbody>\n",
       "</table>\n",
       "</div>"
      ],
      "text/plain": [
       "   gre\n",
       "0  380\n",
       "1  660\n",
       "2  800\n",
       "3  640\n",
       "7  400"
      ]
     },
     "execution_count": 77,
     "metadata": {},
     "output_type": "execute_result"
    }
   ],
   "source": [
    "# 조건에 맞는 하나의 열 조회\n",
    "graduate.loc[graduate['gpa'] > 3.0, ['gre']].head()"
   ]
  },
  {
   "cell_type": "code",
   "execution_count": 78,
   "metadata": {
    "colab": {},
    "colab_type": "code",
    "id": "Ik6uFmsyi8FQ"
   },
   "outputs": [
    {
     "data": {
      "text/html": [
       "<div>\n",
       "<style scoped>\n",
       "    .dataframe tbody tr th:only-of-type {\n",
       "        vertical-align: middle;\n",
       "    }\n",
       "\n",
       "    .dataframe tbody tr th {\n",
       "        vertical-align: top;\n",
       "    }\n",
       "\n",
       "    .dataframe thead th {\n",
       "        text-align: right;\n",
       "    }\n",
       "</style>\n",
       "<table border=\"1\" class=\"dataframe\">\n",
       "  <thead>\n",
       "    <tr style=\"text-align: right;\">\n",
       "      <th></th>\n",
       "      <th>admit</th>\n",
       "      <th>gpa</th>\n",
       "      <th>gre</th>\n",
       "    </tr>\n",
       "  </thead>\n",
       "  <tbody>\n",
       "    <tr>\n",
       "      <th>0</th>\n",
       "      <td>0</td>\n",
       "      <td>3.61</td>\n",
       "      <td>380</td>\n",
       "    </tr>\n",
       "    <tr>\n",
       "      <th>1</th>\n",
       "      <td>1</td>\n",
       "      <td>3.67</td>\n",
       "      <td>660</td>\n",
       "    </tr>\n",
       "    <tr>\n",
       "      <th>2</th>\n",
       "      <td>1</td>\n",
       "      <td>4.00</td>\n",
       "      <td>800</td>\n",
       "    </tr>\n",
       "    <tr>\n",
       "      <th>3</th>\n",
       "      <td>1</td>\n",
       "      <td>3.19</td>\n",
       "      <td>640</td>\n",
       "    </tr>\n",
       "    <tr>\n",
       "      <th>7</th>\n",
       "      <td>0</td>\n",
       "      <td>3.08</td>\n",
       "      <td>400</td>\n",
       "    </tr>\n",
       "  </tbody>\n",
       "</table>\n",
       "</div>"
      ],
      "text/plain": [
       "   admit   gpa  gre\n",
       "0      0  3.61  380\n",
       "1      1  3.67  660\n",
       "2      1  4.00  800\n",
       "3      1  3.19  640\n",
       "7      0  3.08  400"
      ]
     },
     "execution_count": 78,
     "metadata": {},
     "output_type": "execute_result"
    }
   ],
   "source": [
    "# 조건에 맞는 여러 열 조회\n",
    "graduate.loc[graduate['gpa'] > 3.0, ['admit', 'gpa', 'gre']].head()"
   ]
  },
  {
   "cell_type": "markdown",
   "metadata": {
    "colab_type": "text",
    "id": "UkLbbWM3fQ5l"
   },
   "source": [
    "<img src='https://raw.githubusercontent.com/jangrae/img/master/practice_01.png' width=120 align=\"left\"/>"
   ]
  },
  {
   "cell_type": "markdown",
   "metadata": {
    "colab_type": "text",
    "id": "IIUsRn8cRqcu"
   },
   "source": [
    "Close가 Low와 같은 행의 High, Low, Open, Close만 앞의 5행만 조회해 보세요."
   ]
  },
  {
   "cell_type": "code",
   "execution_count": 81,
   "metadata": {
    "colab": {},
    "colab_type": "code",
    "id": "5xp3pJWvRYR7"
   },
   "outputs": [
    {
     "data": {
      "text/html": [
       "<div>\n",
       "<style scoped>\n",
       "    .dataframe tbody tr th:only-of-type {\n",
       "        vertical-align: middle;\n",
       "    }\n",
       "\n",
       "    .dataframe tbody tr th {\n",
       "        vertical-align: top;\n",
       "    }\n",
       "\n",
       "    .dataframe thead th {\n",
       "        text-align: right;\n",
       "    }\n",
       "</style>\n",
       "<table border=\"1\" class=\"dataframe\">\n",
       "  <thead>\n",
       "    <tr style=\"text-align: right;\">\n",
       "      <th></th>\n",
       "      <th>High</th>\n",
       "      <th>Low</th>\n",
       "      <th>Open</th>\n",
       "      <th>Close</th>\n",
       "    </tr>\n",
       "  </thead>\n",
       "  <tbody>\n",
       "    <tr>\n",
       "      <th>2000-01-06</th>\n",
       "      <td>3.821429</td>\n",
       "      <td>3.392857</td>\n",
       "      <td>3.790179</td>\n",
       "      <td>3.392857</td>\n",
       "    </tr>\n",
       "    <tr>\n",
       "      <th>2000-01-20</th>\n",
       "      <td>4.339286</td>\n",
       "      <td>4.053571</td>\n",
       "      <td>4.125000</td>\n",
       "      <td>4.053571</td>\n",
       "    </tr>\n",
       "    <tr>\n",
       "      <th>2000-11-10</th>\n",
       "      <td>1.419643</td>\n",
       "      <td>1.361607</td>\n",
       "      <td>1.382812</td>\n",
       "      <td>1.361607</td>\n",
       "    </tr>\n",
       "    <tr>\n",
       "      <th>2000-12-14</th>\n",
       "      <td>1.089286</td>\n",
       "      <td>1.031250</td>\n",
       "      <td>1.073661</td>\n",
       "      <td>1.031250</td>\n",
       "    </tr>\n",
       "    <tr>\n",
       "      <th>2000-12-19</th>\n",
       "      <td>1.089286</td>\n",
       "      <td>1.000000</td>\n",
       "      <td>1.026786</td>\n",
       "      <td>1.000000</td>\n",
       "    </tr>\n",
       "  </tbody>\n",
       "</table>\n",
       "</div>"
      ],
      "text/plain": [
       "                High       Low      Open     Close\n",
       "2000-01-06  3.821429  3.392857  3.790179  3.392857\n",
       "2000-01-20  4.339286  4.053571  4.125000  4.053571\n",
       "2000-11-10  1.419643  1.361607  1.382812  1.361607\n",
       "2000-12-14  1.089286  1.031250  1.073661  1.031250\n",
       "2000-12-19  1.089286  1.000000  1.026786  1.000000"
      ]
     },
     "execution_count": 81,
     "metadata": {},
     "output_type": "execute_result"
    }
   ],
   "source": [
    "# Close와 Low가 같은 5개 행 조회\n",
    "stock.head()\n",
    "stock.loc[stock['Close'] == stock['Low'],['High','Low','Open','Close']].head()"
   ]
  },
  {
   "cell_type": "markdown",
   "metadata": {
    "colab_type": "text",
    "id": "5wRgdk13CxBK"
   },
   "source": [
    "Close가 가장 큰 High, Low, Open, Close를 조회해 보세요."
   ]
  },
  {
   "cell_type": "code",
   "execution_count": 94,
   "metadata": {
    "colab": {},
    "colab_type": "code",
    "id": "5834KrpGCxBK"
   },
   "outputs": [
    {
     "data": {
      "text/html": [
       "<div>\n",
       "<style scoped>\n",
       "    .dataframe tbody tr th:only-of-type {\n",
       "        vertical-align: middle;\n",
       "    }\n",
       "\n",
       "    .dataframe tbody tr th {\n",
       "        vertical-align: top;\n",
       "    }\n",
       "\n",
       "    .dataframe thead th {\n",
       "        text-align: right;\n",
       "    }\n",
       "</style>\n",
       "<table border=\"1\" class=\"dataframe\">\n",
       "  <thead>\n",
       "    <tr style=\"text-align: right;\">\n",
       "      <th></th>\n",
       "      <th>High</th>\n",
       "      <th>Low</th>\n",
       "      <th>Open</th>\n",
       "      <th>Close</th>\n",
       "    </tr>\n",
       "  </thead>\n",
       "  <tbody>\n",
       "    <tr>\n",
       "      <th>2019-12-31</th>\n",
       "      <td>293.679993</td>\n",
       "      <td>289.519989</td>\n",
       "      <td>289.929993</td>\n",
       "      <td>293.649994</td>\n",
       "    </tr>\n",
       "  </tbody>\n",
       "</table>\n",
       "</div>"
      ],
      "text/plain": [
       "                  High         Low        Open       Close\n",
       "2019-12-31  293.679993  289.519989  289.929993  293.649994"
      ]
     },
     "execution_count": 94,
     "metadata": {},
     "output_type": "execute_result"
    }
   ],
   "source": [
    "# Close가 가장 큰 행 조회\n",
    "\n",
    "stock.loc[stock['Close'] == stock['Close'].max(), ['High', 'Low', 'Open', 'Close']]"
   ]
  },
  {
   "cell_type": "markdown",
   "metadata": {
    "colab_type": "text",
    "id": "EPiksGMbwxnX"
   },
   "source": [
    "**6) 문자열에 있는 특정 문자 검색**\n",
    "\n",
    "- **contains()** 메소드를 사용해 문자열 포함 여부를 조건으로 지정할 수 있습니다."
   ]
  },
  {
   "cell_type": "code",
   "execution_count": 95,
   "metadata": {
    "colab": {},
    "colab_type": "code",
    "id": "Uvy6x0hHg55P"
   },
   "outputs": [
    {
     "data": {
      "text/html": [
       "<div>\n",
       "<style scoped>\n",
       "    .dataframe tbody tr th:only-of-type {\n",
       "        vertical-align: middle;\n",
       "    }\n",
       "\n",
       "    .dataframe tbody tr th {\n",
       "        vertical-align: top;\n",
       "    }\n",
       "\n",
       "    .dataframe thead th {\n",
       "        text-align: right;\n",
       "    }\n",
       "</style>\n",
       "<table border=\"1\" class=\"dataframe\">\n",
       "  <thead>\n",
       "    <tr style=\"text-align: right;\">\n",
       "      <th></th>\n",
       "      <th>PassengerId</th>\n",
       "      <th>Survived</th>\n",
       "      <th>Pclass</th>\n",
       "      <th>Name</th>\n",
       "      <th>Sex</th>\n",
       "      <th>Age</th>\n",
       "      <th>Fare</th>\n",
       "      <th>Embarked</th>\n",
       "    </tr>\n",
       "  </thead>\n",
       "  <tbody>\n",
       "    <tr>\n",
       "      <th>0</th>\n",
       "      <td>1</td>\n",
       "      <td>0</td>\n",
       "      <td>3</td>\n",
       "      <td>Braund, Mr. Owen Harris</td>\n",
       "      <td>male</td>\n",
       "      <td>22.0</td>\n",
       "      <td>7.2500</td>\n",
       "      <td>Southhampton</td>\n",
       "    </tr>\n",
       "    <tr>\n",
       "      <th>1</th>\n",
       "      <td>2</td>\n",
       "      <td>1</td>\n",
       "      <td>1</td>\n",
       "      <td>Cumings, Mrs. John Bradley (Florence Briggs Th...</td>\n",
       "      <td>female</td>\n",
       "      <td>38.0</td>\n",
       "      <td>71.2833</td>\n",
       "      <td>Cherbourg</td>\n",
       "    </tr>\n",
       "    <tr>\n",
       "      <th>2</th>\n",
       "      <td>3</td>\n",
       "      <td>1</td>\n",
       "      <td>3</td>\n",
       "      <td>Heikkinen, Miss. Laina</td>\n",
       "      <td>female</td>\n",
       "      <td>26.0</td>\n",
       "      <td>7.9250</td>\n",
       "      <td>Southhampton</td>\n",
       "    </tr>\n",
       "    <tr>\n",
       "      <th>3</th>\n",
       "      <td>4</td>\n",
       "      <td>1</td>\n",
       "      <td>1</td>\n",
       "      <td>Futrelle, Mrs. Jacques Heath (Lily May Peel)</td>\n",
       "      <td>female</td>\n",
       "      <td>35.0</td>\n",
       "      <td>53.1000</td>\n",
       "      <td>Southhampton</td>\n",
       "    </tr>\n",
       "    <tr>\n",
       "      <th>4</th>\n",
       "      <td>5</td>\n",
       "      <td>0</td>\n",
       "      <td>3</td>\n",
       "      <td>Allen, Mr. William Henry</td>\n",
       "      <td>male</td>\n",
       "      <td>35.0</td>\n",
       "      <td>8.0500</td>\n",
       "      <td>Southhampton</td>\n",
       "    </tr>\n",
       "  </tbody>\n",
       "</table>\n",
       "</div>"
      ],
      "text/plain": [
       "   PassengerId  Survived  Pclass  \\\n",
       "0            1         0       3   \n",
       "1            2         1       1   \n",
       "2            3         1       3   \n",
       "3            4         1       1   \n",
       "4            5         0       3   \n",
       "\n",
       "                                                Name     Sex   Age     Fare  \\\n",
       "0                            Braund, Mr. Owen Harris    male  22.0   7.2500   \n",
       "1  Cumings, Mrs. John Bradley (Florence Briggs Th...  female  38.0  71.2833   \n",
       "2                             Heikkinen, Miss. Laina  female  26.0   7.9250   \n",
       "3       Futrelle, Mrs. Jacques Heath (Lily May Peel)  female  35.0  53.1000   \n",
       "4                           Allen, Mr. William Henry    male  35.0   8.0500   \n",
       "\n",
       "       Embarked  \n",
       "0  Southhampton  \n",
       "1     Cherbourg  \n",
       "2  Southhampton  \n",
       "3  Southhampton  \n",
       "4  Southhampton  "
      ]
     },
     "execution_count": 95,
     "metadata": {},
     "output_type": "execute_result"
    }
   ],
   "source": [
    "# 데이터프레임 확인\n",
    "titanic.head()"
   ]
  },
  {
   "cell_type": "code",
   "execution_count": 96,
   "metadata": {
    "colab": {},
    "colab_type": "code",
    "id": "Qy0bmDjGg0GD"
   },
   "outputs": [
    {
     "data": {
      "text/plain": [
       "0      False\n",
       "1      False\n",
       "2      False\n",
       "3       True\n",
       "4      False\n",
       "       ...  \n",
       "886    False\n",
       "887    False\n",
       "888    False\n",
       "889    False\n",
       "890    False\n",
       "Name: Name, Length: 891, dtype: bool"
      ]
     },
     "execution_count": 96,
     "metadata": {},
     "output_type": "execute_result"
    }
   ],
   "source": [
    "# 조건문 작성\n",
    "titanic['Name'].str.contains('May')"
   ]
  },
  {
   "cell_type": "code",
   "execution_count": 97,
   "metadata": {
    "colab": {},
    "colab_type": "code",
    "id": "TuGmmLdmhMSM"
   },
   "outputs": [
    {
     "data": {
      "text/html": [
       "<div>\n",
       "<style scoped>\n",
       "    .dataframe tbody tr th:only-of-type {\n",
       "        vertical-align: middle;\n",
       "    }\n",
       "\n",
       "    .dataframe tbody tr th {\n",
       "        vertical-align: top;\n",
       "    }\n",
       "\n",
       "    .dataframe thead th {\n",
       "        text-align: right;\n",
       "    }\n",
       "</style>\n",
       "<table border=\"1\" class=\"dataframe\">\n",
       "  <thead>\n",
       "    <tr style=\"text-align: right;\">\n",
       "      <th></th>\n",
       "      <th>PassengerId</th>\n",
       "      <th>Survived</th>\n",
       "      <th>Pclass</th>\n",
       "      <th>Name</th>\n",
       "      <th>Sex</th>\n",
       "      <th>Age</th>\n",
       "      <th>Fare</th>\n",
       "      <th>Embarked</th>\n",
       "    </tr>\n",
       "  </thead>\n",
       "  <tbody>\n",
       "    <tr>\n",
       "      <th>3</th>\n",
       "      <td>4</td>\n",
       "      <td>1</td>\n",
       "      <td>1</td>\n",
       "      <td>Futrelle, Mrs. Jacques Heath (Lily May Peel)</td>\n",
       "      <td>female</td>\n",
       "      <td>35.0</td>\n",
       "      <td>53.1000</td>\n",
       "      <td>Southhampton</td>\n",
       "    </tr>\n",
       "    <tr>\n",
       "      <th>256</th>\n",
       "      <td>257</td>\n",
       "      <td>1</td>\n",
       "      <td>1</td>\n",
       "      <td>Thorne, Mrs. Gertrude Maybelle</td>\n",
       "      <td>female</td>\n",
       "      <td>NaN</td>\n",
       "      <td>79.2000</td>\n",
       "      <td>Cherbourg</td>\n",
       "    </tr>\n",
       "    <tr>\n",
       "      <th>530</th>\n",
       "      <td>531</td>\n",
       "      <td>1</td>\n",
       "      <td>2</td>\n",
       "      <td>Quick, Miss. Phyllis May</td>\n",
       "      <td>female</td>\n",
       "      <td>2.0</td>\n",
       "      <td>26.0000</td>\n",
       "      <td>Southhampton</td>\n",
       "    </tr>\n",
       "    <tr>\n",
       "      <th>710</th>\n",
       "      <td>711</td>\n",
       "      <td>1</td>\n",
       "      <td>1</td>\n",
       "      <td>Mayne, Mlle. Berthe Antonine (\"Mrs de Villiers\")</td>\n",
       "      <td>female</td>\n",
       "      <td>24.0</td>\n",
       "      <td>49.5042</td>\n",
       "      <td>Cherbourg</td>\n",
       "    </tr>\n",
       "  </tbody>\n",
       "</table>\n",
       "</div>"
      ],
      "text/plain": [
       "     PassengerId  Survived  Pclass  \\\n",
       "3              4         1       1   \n",
       "256          257         1       1   \n",
       "530          531         1       2   \n",
       "710          711         1       1   \n",
       "\n",
       "                                                 Name     Sex   Age     Fare  \\\n",
       "3        Futrelle, Mrs. Jacques Heath (Lily May Peel)  female  35.0  53.1000   \n",
       "256                    Thorne, Mrs. Gertrude Maybelle  female   NaN  79.2000   \n",
       "530                          Quick, Miss. Phyllis May  female   2.0  26.0000   \n",
       "710  Mayne, Mlle. Berthe Antonine (\"Mrs de Villiers\")  female  24.0  49.5042   \n",
       "\n",
       "         Embarked  \n",
       "3    Southhampton  \n",
       "256     Cherbourg  \n",
       "530  Southhampton  \n",
       "710     Cherbourg  "
      ]
     },
     "execution_count": 97,
     "metadata": {},
     "output_type": "execute_result"
    }
   ],
   "source": [
    "# 조건을 만족하는 행 찾기\n",
    "titanic.loc[titanic['Name'].str.contains('May')]"
   ]
  },
  {
   "cell_type": "markdown",
   "metadata": {
    "colab_type": "text",
    "id": "po7MS1EwXovc"
   },
   "source": [
    "## 4.5. 기본 집계"
   ]
  },
  {
   "cell_type": "markdown",
   "metadata": {
    "colab_type": "text",
    "id": "DZwznq_YPFcP"
   },
   "source": [
    "### 4.5.1. 고유값 확인\n",
    "\n",
    "- 범주형 열(열이 가진 값이 일정한 값인 경우, 성별, 등급 등)인지 확인하는 대표적인 방법입니다."
   ]
  },
  {
   "cell_type": "code",
   "execution_count": 98,
   "metadata": {
    "colab": {},
    "colab_type": "code",
    "id": "A0c6CMhbEpSX"
   },
   "outputs": [
    {
     "data": {
      "text/plain": [
       "array(['Southhampton', 'Cherbourg', 'Queenstown', nan], dtype=object)"
      ]
     },
     "execution_count": 98,
     "metadata": {},
     "output_type": "execute_result"
    }
   ],
   "source": [
    "# Embarked 열 고유값 확인\n",
    "titanic['Embarked'].unique()"
   ]
  },
  {
   "cell_type": "code",
   "execution_count": 99,
   "metadata": {
    "colab": {},
    "colab_type": "code",
    "id": "-Q-y5ii8OnRp"
   },
   "outputs": [
    {
     "data": {
      "text/plain": [
       "Southhampton    644\n",
       "Cherbourg       168\n",
       "Queenstown       77\n",
       "Name: Embarked, dtype: int64"
      ]
     },
     "execution_count": 99,
     "metadata": {},
     "output_type": "execute_result"
    }
   ],
   "source": [
    "# Embarked 열 고유값 개수 확인, NaN 값 제외\n",
    "titanic['Embarked'].value_counts()"
   ]
  },
  {
   "cell_type": "code",
   "execution_count": 100,
   "metadata": {
    "colab": {},
    "colab_type": "code",
    "id": "PQT-C8GPXS7F"
   },
   "outputs": [
    {
     "data": {
      "text/plain": [
       "Southhampton    644\n",
       "Cherbourg       168\n",
       "Queenstown       77\n",
       "NaN               2\n",
       "Name: Embarked, dtype: int64"
      ]
     },
     "execution_count": 100,
     "metadata": {},
     "output_type": "execute_result"
    }
   ],
   "source": [
    "# Embarked 열 고유값 개수 확인, NaN값 포함\n",
    "titanic['Embarked'].value_counts(dropna=False)"
   ]
  },
  {
   "cell_type": "code",
   "execution_count": 101,
   "metadata": {
    "colab": {},
    "colab_type": "code",
    "id": "r14W1fvuPQHx"
   },
   "outputs": [
    {
     "data": {
      "text/plain": [
       "3    491\n",
       "1    216\n",
       "2    184\n",
       "Name: Pclass, dtype: int64"
      ]
     },
     "execution_count": 101,
     "metadata": {},
     "output_type": "execute_result"
    }
   ],
   "source": [
    "# Pclass 열 고유값 개수 확인\n",
    "titanic['Pclass'].value_counts(dropna=False)"
   ]
  },
  {
   "cell_type": "markdown",
   "metadata": {
    "colab_type": "text",
    "id": "imj3o34pP5J3"
   },
   "source": [
    "### 4.5.2. 기본 통계 함수 사용\n",
    "\n",
    "- 데이터를 1차 집계 한 후 분석을 진행하는 경우가 많으므로 필히 알라두어야 할 내용입니다.\n",
    "- 이후에 배우는 Groupby 기능에서 같이 사용됩니다."
   ]
  },
  {
   "cell_type": "markdown",
   "metadata": {
    "colab_type": "text",
    "id": "erkdhbRHRCK2"
   },
   "source": [
    "**1) 합, 평균값**"
   ]
  },
  {
   "cell_type": "code",
   "execution_count": 102,
   "metadata": {
    "colab": {},
    "colab_type": "code",
    "id": "4TkxQvh-QFuC"
   },
   "outputs": [
    {
     "data": {
      "text/plain": [
       "PassengerId                                               397386\n",
       "Survived                                                     342\n",
       "Pclass                                                      2057\n",
       "Name           Braund, Mr. Owen HarrisCumings, Mrs. John Brad...\n",
       "Sex            malefemalefemalefemalemalemalemalemalefemalefe...\n",
       "Age                                                      21205.2\n",
       "Fare                                                     28693.9\n",
       "dtype: object"
      ]
     },
     "execution_count": 102,
     "metadata": {},
     "output_type": "execute_result"
    }
   ],
   "source": [
    "# 모든 열 합계 조회\n",
    "titanic.sum()"
   ]
  },
  {
   "cell_type": "code",
   "execution_count": 103,
   "metadata": {
    "colab": {},
    "colab_type": "code",
    "id": "q1dXybktA8i6"
   },
   "outputs": [
    {
     "data": {
      "text/plain": [
       "PassengerId    446.000000\n",
       "Survived         0.383838\n",
       "Pclass           2.308642\n",
       "Age             29.699118\n",
       "Fare            32.204208\n",
       "dtype: float64"
      ]
     },
     "execution_count": 103,
     "metadata": {},
     "output_type": "execute_result"
    }
   ],
   "source": [
    "# 모든 열 평균값 조회(숫자만)\n",
    "titanic.mean()"
   ]
  },
  {
   "cell_type": "code",
   "execution_count": 104,
   "metadata": {
    "colab": {},
    "colab_type": "code",
    "id": "gCTaAoghOtFd"
   },
   "outputs": [
    {
     "data": {
      "text/plain": [
       "28693.9493"
      ]
     },
     "execution_count": 104,
     "metadata": {},
     "output_type": "execute_result"
    }
   ],
   "source": [
    "# Fare 열 합계 조회\n",
    "titanic['Fare'].sum()"
   ]
  },
  {
   "cell_type": "code",
   "execution_count": 105,
   "metadata": {
    "colab": {},
    "colab_type": "code",
    "id": "EN1swYgLBDTI"
   },
   "outputs": [
    {
     "data": {
      "text/plain": [
       "Age     29.699118\n",
       "Fare    32.204208\n",
       "dtype: float64"
      ]
     },
     "execution_count": 105,
     "metadata": {},
     "output_type": "execute_result"
    }
   ],
   "source": [
    "# Age, Fare 열 평균값 확인\n",
    "titanic[['Age', 'Fare']].mean()"
   ]
  },
  {
   "cell_type": "markdown",
   "metadata": {
    "colab_type": "text",
    "id": "fKGAzhyMSki2"
   },
   "source": [
    "**2) 최댓값, 최솟값**"
   ]
  },
  {
   "cell_type": "code",
   "execution_count": 106,
   "metadata": {
    "colab": {},
    "colab_type": "code",
    "id": "3_bkgnbbSrSe"
   },
   "outputs": [
    {
     "data": {
      "text/plain": [
       "PassengerId                            891\n",
       "Survived                                 1\n",
       "Pclass                                   3\n",
       "Name           van Melkebeke, Mr. Philemon\n",
       "Sex                                   male\n",
       "Age                                     80\n",
       "Fare                               512.329\n",
       "dtype: object"
      ]
     },
     "execution_count": 106,
     "metadata": {},
     "output_type": "execute_result"
    }
   ],
   "source": [
    "# 모든 열 최댓값 조회\n",
    "titanic.max()"
   ]
  },
  {
   "cell_type": "code",
   "execution_count": 107,
   "metadata": {
    "colab": {},
    "colab_type": "code",
    "id": "HW_HYJYWBMxZ"
   },
   "outputs": [
    {
     "data": {
      "text/plain": [
       "PassengerId                      1\n",
       "Survived                         0\n",
       "Pclass                           1\n",
       "Name           Abbing, Mr. Anthony\n",
       "Sex                         female\n",
       "Age                           0.42\n",
       "Fare                             0\n",
       "dtype: object"
      ]
     },
     "execution_count": 107,
     "metadata": {},
     "output_type": "execute_result"
    }
   ],
   "source": [
    "# 모든 행 최솟값 조회\n",
    "titanic.min()"
   ]
  },
  {
   "cell_type": "code",
   "execution_count": 108,
   "metadata": {
    "colab": {},
    "colab_type": "code",
    "id": "uSatNX0BBNpe"
   },
   "outputs": [
    {
     "data": {
      "text/plain": [
       "512.3292"
      ]
     },
     "execution_count": 108,
     "metadata": {},
     "output_type": "execute_result"
    }
   ],
   "source": [
    "# Fare 열 최댓값 조회\n",
    "titanic['Fare'].max()"
   ]
  },
  {
   "cell_type": "code",
   "execution_count": 109,
   "metadata": {
    "colab": {},
    "colab_type": "code",
    "id": "7LIP3lZnBPde"
   },
   "outputs": [
    {
     "data": {
      "text/plain": [
       "Age     0.42\n",
       "Fare    0.00\n",
       "dtype: float64"
      ]
     },
     "execution_count": 109,
     "metadata": {},
     "output_type": "execute_result"
    }
   ],
   "source": [
    "# Age, Fare 열 최솟값 조회\n",
    "titanic[['Age', 'Fare']].min()"
   ]
  },
  {
   "cell_type": "markdown",
   "metadata": {
    "colab_type": "text",
    "id": "rc24C5p1KN5E"
   },
   "source": [
    "## <center>수고하셨습니다.</center>\n",
    "<center><img src='https://raw.githubusercontent.com/Jangrae/img/master/end.png' width=200/></center>"
   ]
  }
 ],
 "metadata": {
  "colab": {
   "collapsed_sections": [],
   "name": "04 데이터프레임 조회.ipynb",
   "provenance": []
  },
  "kernelspec": {
   "display_name": "Python 3",
   "language": "python",
   "name": "python3"
  },
  "language_info": {
   "codemirror_mode": {
    "name": "ipython",
    "version": 3
   },
   "file_extension": ".py",
   "mimetype": "text/x-python",
   "name": "python",
   "nbconvert_exporter": "python",
   "pygments_lexer": "ipython3",
   "version": "3.7.6"
  }
 },
 "nbformat": 4,
 "nbformat_minor": 1
}
