{
 "cells": [
  {
   "cell_type": "markdown",
   "metadata": {
    "colab_type": "text",
    "id": "BFhIXgdYoYGp"
   },
   "source": [
    "<center><img src='https://raw.githubusercontent.com/Jangrae/img/master/title.png' width=500/></center>"
   ]
  },
  {
   "cell_type": "markdown",
   "metadata": {},
   "source": [
    "<center>- Pandas의 모든 것을 배우지 않습니다. 데이터 전처리에 대한 부분만 학습 대상이 됩니다 -</center>"
   ]
  },
  {
   "cell_type": "markdown",
   "metadata": {
    "colab_type": "text",
    "id": "DFijIAllYnVQ"
   },
   "source": [
    "# 학습 목표\n",
    "\n",
    "- Rolling과 Shift의 기능을 이해합니다.\n",
    "- Rolling과 Shift 기능을 사용해 필요한 데이터를 추가할 수 있습니다."
   ]
  },
  {
   "cell_type": "markdown",
   "metadata": {
    "colab_type": "text",
    "id": "jdMTalYEHiAi"
   },
   "source": [
    "# 9. Rolling & Shift"
   ]
  },
  {
   "cell_type": "markdown",
   "metadata": {
    "colab_type": "text",
    "id": "pGgDw4GxAT53"
   },
   "source": [
    "- 시계열 데이터에 대해서 이동 평균값을 구하거나, 행을 Shift(이동) 시킬 때 주로 사용합니다."
   ]
  },
  {
   "cell_type": "markdown",
   "metadata": {
    "colab_type": "text",
    "id": "pVA7IdO9AysF"
   },
   "source": [
    "<img src='https://raw.githubusercontent.com/Jangrae/img/master/rolling_shift.png' width=550, align=\"left\"/>"
   ]
  },
  {
   "cell_type": "code",
   "execution_count": 1,
   "metadata": {
    "colab": {},
    "colab_type": "code",
    "id": "lBvje6W7AysI"
   },
   "outputs": [],
   "source": [
    "# 라이브러리 불러오기\n",
    "import pandas as pd\n",
    "import numpy as np\n",
    "import matplotlib.pyplot as plt"
   ]
  },
  {
   "cell_type": "code",
   "execution_count": 2,
   "metadata": {
    "colab": {},
    "colab_type": "code",
    "id": "6XZbGn8AIMz7",
    "scrolled": true
   },
   "outputs": [
    {
     "data": {
      "text/html": [
       "<div>\n",
       "<style scoped>\n",
       "    .dataframe tbody tr th:only-of-type {\n",
       "        vertical-align: middle;\n",
       "    }\n",
       "\n",
       "    .dataframe tbody tr th {\n",
       "        vertical-align: top;\n",
       "    }\n",
       "\n",
       "    .dataframe thead th {\n",
       "        text-align: right;\n",
       "    }\n",
       "</style>\n",
       "<table border=\"1\" class=\"dataframe\">\n",
       "  <thead>\n",
       "    <tr style=\"text-align: right;\">\n",
       "      <th></th>\n",
       "      <th>Date</th>\n",
       "      <th>High</th>\n",
       "      <th>Low</th>\n",
       "      <th>Open</th>\n",
       "      <th>Close</th>\n",
       "      <th>Volume</th>\n",
       "      <th>Adj Close</th>\n",
       "    </tr>\n",
       "  </thead>\n",
       "  <tbody>\n",
       "    <tr>\n",
       "      <th>0</th>\n",
       "      <td>2000-01-03</td>\n",
       "      <td>4.017857</td>\n",
       "      <td>3.631696</td>\n",
       "      <td>3.745536</td>\n",
       "      <td>3.997768</td>\n",
       "      <td>133949200</td>\n",
       "      <td>3.470226</td>\n",
       "    </tr>\n",
       "    <tr>\n",
       "      <th>1</th>\n",
       "      <td>2000-01-04</td>\n",
       "      <td>3.950893</td>\n",
       "      <td>3.613839</td>\n",
       "      <td>3.866071</td>\n",
       "      <td>3.660714</td>\n",
       "      <td>128094400</td>\n",
       "      <td>3.177650</td>\n",
       "    </tr>\n",
       "    <tr>\n",
       "      <th>2</th>\n",
       "      <td>2000-01-05</td>\n",
       "      <td>3.948661</td>\n",
       "      <td>3.678571</td>\n",
       "      <td>3.705357</td>\n",
       "      <td>3.714286</td>\n",
       "      <td>194580400</td>\n",
       "      <td>3.224152</td>\n",
       "    </tr>\n",
       "    <tr>\n",
       "      <th>3</th>\n",
       "      <td>2000-01-06</td>\n",
       "      <td>3.821429</td>\n",
       "      <td>3.392857</td>\n",
       "      <td>3.790179</td>\n",
       "      <td>3.392857</td>\n",
       "      <td>191993200</td>\n",
       "      <td>2.945139</td>\n",
       "    </tr>\n",
       "    <tr>\n",
       "      <th>4</th>\n",
       "      <td>2000-01-07</td>\n",
       "      <td>3.607143</td>\n",
       "      <td>3.410714</td>\n",
       "      <td>3.446429</td>\n",
       "      <td>3.553571</td>\n",
       "      <td>115183600</td>\n",
       "      <td>3.084645</td>\n",
       "    </tr>\n",
       "  </tbody>\n",
       "</table>\n",
       "</div>"
      ],
      "text/plain": [
       "         Date      High       Low      Open     Close     Volume  Adj Close\n",
       "0  2000-01-03  4.017857  3.631696  3.745536  3.997768  133949200   3.470226\n",
       "1  2000-01-04  3.950893  3.613839  3.866071  3.660714  128094400   3.177650\n",
       "2  2000-01-05  3.948661  3.678571  3.705357  3.714286  194580400   3.224152\n",
       "3  2000-01-06  3.821429  3.392857  3.790179  3.392857  191993200   2.945139\n",
       "4  2000-01-07  3.607143  3.410714  3.446429  3.553571  115183600   3.084645"
      ]
     },
     "execution_count": 2,
     "metadata": {},
     "output_type": "execute_result"
    }
   ],
   "source": [
    "# 파일 불러오기\n",
    "file_path = 'https://raw.githubusercontent.com/Jangrae/csv/master/stock.csv'\n",
    "stock = pd.read_csv(file_path, sep = ',', skipinitialspace = True)  \n",
    "stock.head()"
   ]
  },
  {
   "cell_type": "code",
   "execution_count": 3,
   "metadata": {
    "colab": {},
    "colab_type": "code",
    "id": "VoMpIZBHI3i3"
   },
   "outputs": [
    {
     "data": {
      "text/html": [
       "<div>\n",
       "<style scoped>\n",
       "    .dataframe tbody tr th:only-of-type {\n",
       "        vertical-align: middle;\n",
       "    }\n",
       "\n",
       "    .dataframe tbody tr th {\n",
       "        vertical-align: top;\n",
       "    }\n",
       "\n",
       "    .dataframe thead th {\n",
       "        text-align: right;\n",
       "    }\n",
       "</style>\n",
       "<table border=\"1\" class=\"dataframe\">\n",
       "  <thead>\n",
       "    <tr style=\"text-align: right;\">\n",
       "      <th></th>\n",
       "      <th>Date</th>\n",
       "      <th>Close</th>\n",
       "      <th>Volume</th>\n",
       "    </tr>\n",
       "  </thead>\n",
       "  <tbody>\n",
       "    <tr>\n",
       "      <th>0</th>\n",
       "      <td>2000-01-03</td>\n",
       "      <td>3.997768</td>\n",
       "      <td>133949200</td>\n",
       "    </tr>\n",
       "    <tr>\n",
       "      <th>1</th>\n",
       "      <td>2000-01-04</td>\n",
       "      <td>3.660714</td>\n",
       "      <td>128094400</td>\n",
       "    </tr>\n",
       "    <tr>\n",
       "      <th>2</th>\n",
       "      <td>2000-01-05</td>\n",
       "      <td>3.714286</td>\n",
       "      <td>194580400</td>\n",
       "    </tr>\n",
       "    <tr>\n",
       "      <th>3</th>\n",
       "      <td>2000-01-06</td>\n",
       "      <td>3.392857</td>\n",
       "      <td>191993200</td>\n",
       "    </tr>\n",
       "    <tr>\n",
       "      <th>4</th>\n",
       "      <td>2000-01-07</td>\n",
       "      <td>3.553571</td>\n",
       "      <td>115183600</td>\n",
       "    </tr>\n",
       "    <tr>\n",
       "      <th>5</th>\n",
       "      <td>2000-01-10</td>\n",
       "      <td>3.491071</td>\n",
       "      <td>126266000</td>\n",
       "    </tr>\n",
       "    <tr>\n",
       "      <th>6</th>\n",
       "      <td>2000-01-11</td>\n",
       "      <td>3.312500</td>\n",
       "      <td>110387200</td>\n",
       "    </tr>\n",
       "    <tr>\n",
       "      <th>7</th>\n",
       "      <td>2000-01-12</td>\n",
       "      <td>3.113839</td>\n",
       "      <td>244017200</td>\n",
       "    </tr>\n",
       "    <tr>\n",
       "      <th>8</th>\n",
       "      <td>2000-01-13</td>\n",
       "      <td>3.455357</td>\n",
       "      <td>258171200</td>\n",
       "    </tr>\n",
       "    <tr>\n",
       "      <th>9</th>\n",
       "      <td>2000-01-14</td>\n",
       "      <td>3.587054</td>\n",
       "      <td>97594000</td>\n",
       "    </tr>\n",
       "  </tbody>\n",
       "</table>\n",
       "</div>"
      ],
      "text/plain": [
       "         Date     Close     Volume\n",
       "0  2000-01-03  3.997768  133949200\n",
       "1  2000-01-04  3.660714  128094400\n",
       "2  2000-01-05  3.714286  194580400\n",
       "3  2000-01-06  3.392857  191993200\n",
       "4  2000-01-07  3.553571  115183600\n",
       "5  2000-01-10  3.491071  126266000\n",
       "6  2000-01-11  3.312500  110387200\n",
       "7  2000-01-12  3.113839  244017200\n",
       "8  2000-01-13  3.455357  258171200\n",
       "9  2000-01-14  3.587054   97594000"
      ]
     },
     "execution_count": 3,
     "metadata": {},
     "output_type": "execute_result"
    }
   ],
   "source": [
    "# Date, Close, Volume 열만을 남기기\n",
    "#stock.drop(['Open', 'High', 'Low', 'Adj Close'], axis=1, inplace=True)\n",
    "stock = stock[['Date', 'Close', 'Volume']]\n",
    "stock.head(10)"
   ]
  },
  {
   "cell_type": "markdown",
   "metadata": {
    "colab_type": "text",
    "id": "1AsWEvh1YDp6"
   },
   "source": [
    "## 9.1.  Rolling\n",
    "\n",
    "- **rolling()** 메소드를 사용해 현재 행을 기준으로 앞의 몇 행을 묶어 집계할 지 설정합니다.\n",
    "- **rolling(3).mean()**와 같이 하면 현재 행을 포함해 세 행의 평균을 계산합니다."
   ]
  },
  {
   "cell_type": "code",
   "execution_count": null,
   "metadata": {
    "colab": {},
    "colab_type": "code",
    "id": "RS02mHVksPMH"
   },
   "outputs": [],
   "source": [
    "# 기준일 포함하여 과거 3일의 평균을 데이터프레임에 붙이기\n",
    "stock['Close'].rolling(3).mean()"
   ]
  },
  {
   "cell_type": "code",
   "execution_count": null,
   "metadata": {
    "colab": {},
    "colab_type": "code",
    "id": "jOVuKQfWJxKD",
    "scrolled": true
   },
   "outputs": [],
   "source": [
    "# 기준일 포함하여 과거 3일의 평균을 데이터프레임에 붙이기\n",
    "stock['Close_lag3_1'] = stock['Close'].rolling(3).mean()\n",
    "stock.head(10)"
   ]
  },
  {
   "cell_type": "markdown",
   "metadata": {
    "colab_type": "text",
    "id": "MznS91AVvCU3"
   },
   "source": [
    "**[참고]어디에 쓰려고?**\n",
    "\n",
    "- Rolling과 Shift 로 얻어진 결과를 사용해 다양한 분석을 할 수 있습니다.\n",
    "- 주식의 경우 최근 3일간의 평균 종가와 오늘의 종자를 비교할 수 있습니다."
   ]
  },
  {
   "cell_type": "code",
   "execution_count": null,
   "metadata": {
    "colab": {},
    "colab_type": "code",
    "id": "EdQC0oxvt9tD"
   },
   "outputs": [],
   "source": [
    "# 선 그래프 그리기\n",
    "stock.plot(rot=60, x='Date', y=['Close','Close_lag3_1'])\n",
    "plt.show()"
   ]
  },
  {
   "cell_type": "code",
   "execution_count": null,
   "metadata": {
    "colab": {},
    "colab_type": "code",
    "id": "foK16AsOAytd"
   },
   "outputs": [],
   "source": [
    "# 2019년 1월 데이터프레임 만들기\n",
    "stock_new = stock.loc[stock['Date'].between('2019-01-01','2019-01-31')]\n",
    "\n",
    "# 선 그래프 그리기\n",
    "stock_new.plot(rot=60, x='Date', y=['Close','Close_lag3_1'])\n",
    "plt.show()"
   ]
  },
  {
   "cell_type": "markdown",
   "metadata": {
    "colab_type": "text",
    "id": "H_4avt3OYH_L"
   },
   "source": [
    "## 9.2. Shift\n",
    "\n",
    "- shift() 메소드를 사용해 특정 열의 값이 표시되는 위치를 앞 또는 뒤로 이동할 수 있습니다.\n",
    "- **stock['Close_lag3_1'].shift(1)**와 같이 하면 Close_lag3_1 열 값을 뒤로 하나 이동하라는 의미입니다."
   ]
  },
  {
   "cell_type": "code",
   "execution_count": null,
   "metadata": {
    "colab": {},
    "colab_type": "code",
    "id": "mz9N4tFSAyts"
   },
   "outputs": [],
   "source": [
    "# 데이터프레임 확인\n",
    "stock.head(10)"
   ]
  },
  {
   "cell_type": "code",
   "execution_count": null,
   "metadata": {
    "colab": {},
    "colab_type": "code",
    "id": "RY5yqFjWwxrV",
    "scrolled": true
   },
   "outputs": [],
   "source": [
    "# shift()안에 숫자를 변경하면서 기능 확인, default = 1\n",
    "stock['Close_lag3_2'] = stock['Close_lag3_1'].shift(1) \n",
    "stock.head(10)"
   ]
  },
  {
   "cell_type": "markdown",
   "metadata": {
    "colab_type": "text",
    "id": "gO6ZZOISYKcE"
   },
   "source": [
    "## 9.3. Rolling & Shift\n",
    "\n",
    "- rolling() 메소드와 shift() 메소드를 같이 사용할 수 있습니다.\n",
    "- 의미은 앞의 내용과 같습니다."
   ]
  },
  {
   "cell_type": "code",
   "execution_count": null,
   "metadata": {
    "colab": {},
    "colab_type": "code",
    "id": "nUe2EIA8wxrZ"
   },
   "outputs": [],
   "source": [
    "# 이동평균(Rolling)과 하루 뒤로 미루는(Shift) 작업을 한꺼번에 하려면\n",
    "stock['Close_lag3_3'] = stock['Close'].rolling(3).mean().shift(1)\n",
    "stock.head(10)"
   ]
  },
  {
   "cell_type": "markdown",
   "metadata": {
    "colab_type": "text",
    "id": "ZFW4p8VeR557"
   },
   "source": [
    "**[참고] min_periods 사용**\n",
    "\n",
    "- 이전의 결과들을 보면 3개 행을 집계하므로 앞 두 행은 NaN 값을 갖습니다.\n",
    "- **min_periods** 옵션을 사용해 몇 개 행만 가져도 결괏값을 갖게 할 수 있습니다."
   ]
  },
  {
   "cell_type": "code",
   "execution_count": null,
   "metadata": {
    "colab": {},
    "colab_type": "code",
    "id": "Cjn_ZMMLRt0_"
   },
   "outputs": [],
   "source": [
    "# 값이 몇 개이면 계산을 할 지 지정, min_perios = 1 --> 값이 하나라도 있으면 계산\n",
    "stock['Close_lag3_4'] = stock['Close'].rolling(3, min_periods=1).mean()\n",
    "stock.head(8)"
   ]
  },
  {
   "cell_type": "markdown",
   "metadata": {
    "colab_type": "text",
    "id": "KqOHu2W4C_0R"
   },
   "source": [
    "## <center>수고하셨습니다.</center>\n",
    "<center><img src='https://raw.githubusercontent.com/Jangrae/img/master/end.png' width=200/></center>"
   ]
  }
 ],
 "metadata": {
  "colab": {
   "collapsed_sections": [],
   "name": "09 데이터프레임 롤링 시프트.ipynb",
   "provenance": []
  },
  "kernelspec": {
   "display_name": "Python 3",
   "language": "python",
   "name": "python3"
  },
  "language_info": {
   "codemirror_mode": {
    "name": "ipython",
    "version": 3
   },
   "file_extension": ".py",
   "mimetype": "text/x-python",
   "name": "python",
   "nbconvert_exporter": "python",
   "pygments_lexer": "ipython3",
   "version": "3.7.6"
  }
 },
 "nbformat": 4,
 "nbformat_minor": 1
}
