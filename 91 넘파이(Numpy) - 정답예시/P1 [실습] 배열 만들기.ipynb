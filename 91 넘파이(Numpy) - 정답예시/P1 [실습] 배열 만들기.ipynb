{
 "cells": [
  {
   "cell_type": "markdown",
   "metadata": {
    "colab_type": "text",
    "id": "1CVOOe62Vqvv"
   },
   "source": [
    "<center><img src='https://raw.githubusercontent.com/Jangrae/img/master/title.png' width=500/><center>"
   ]
  },
  {
   "cell_type": "markdown",
   "metadata": {
    "colab_type": "text",
    "id": "BFhIXgdYoYGp"
   },
   "source": [
    "<center><img src='https://raw.githubusercontent.com/Jangrae/img/master/practice.png' width=300/></center>"
   ]
  },
  {
   "cell_type": "markdown",
   "metadata": {
    "colab_type": "text",
    "id": "0k4oSwxPBwXi"
   },
   "source": [
    "# 실습 목표\n",
    "\n",
    "- 1, 2, 3차원 배열을 만들 수 있습니다.\n",
    "- 배열의 크기(Shape)를 확인할 수 있습니다.\n",
    "- Reshape 기능으로 배열 크기를 바꿀 수 있습니다."
   ]
  },
  {
   "cell_type": "markdown",
   "metadata": {
    "colab_type": "text",
    "id": "IAxTpJCOVqxX"
   },
   "source": [
    "# P1. [실습] 배열 만들기"
   ]
  },
  {
   "cell_type": "markdown",
   "metadata": {
    "colab_type": "text",
    "id": "sh0fGNc7VqxY"
   },
   "source": [
    "1) numpy 라이브러리를 np 별칭을 주어 불러오세요."
   ]
  },
  {
   "cell_type": "code",
   "execution_count": 1,
   "metadata": {
    "colab": {},
    "colab_type": "code",
    "id": "QBxfYJR8Vqv1"
   },
   "outputs": [],
   "source": [
    "# 라이브러리 불러오기\n",
    "import numpy as np"
   ]
  },
  {
   "cell_type": "markdown",
   "metadata": {
    "colab_type": "text",
    "id": "sh0fGNc7VqxY"
   },
   "source": [
    "2) a 리스트를 사용해 **np_01** 배열을 생성하세요"
   ]
  },
  {
   "cell_type": "code",
   "execution_count": 0,
   "metadata": {
    "colab": {},
    "colab_type": "code",
    "id": "WaJlK_bZVqxZ"
   },
   "outputs": [],
   "source": [
    "# 리스트 만들기\n",
    "a = [1, 2, 3, 4, 5, 6]\n",
    "\n",
    "# 배열 만들기\n",
    "np_01 = np.array(a)\n",
    "\n",
    "# 확인\n",
    "print(np_01)"
   ]
  },
  {
   "cell_type": "markdown",
   "metadata": {
    "colab_type": "text",
    "id": "06rhCgTeVqxb"
   },
   "source": [
    "3) np_01의 크기를 확인하세요."
   ]
  },
  {
   "cell_type": "code",
   "execution_count": 0,
   "metadata": {
    "colab": {},
    "colab_type": "code",
    "id": "zzhPeZH_Vqxd"
   },
   "outputs": [],
   "source": [
    "# 배열 크기 확인\n",
    "np_01.shape"
   ]
  },
  {
   "cell_type": "markdown",
   "metadata": {
    "colab_type": "text",
    "id": "IbfCrjDCVqxf"
   },
   "source": [
    "4) np_01의 크기를 **(6, 1)**로 변환하여 **np_02**에 넣으세요."
   ]
  },
  {
   "cell_type": "code",
   "execution_count": 0,
   "metadata": {
    "colab": {},
    "colab_type": "code",
    "id": "IhQKfajCVqxf"
   },
   "outputs": [],
   "source": [
    "# 6 x 1 형태로 변경\n",
    "np_02 = np_01.reshape(6, 1)"
   ]
  },
  {
   "cell_type": "markdown",
   "metadata": {
    "colab_type": "text",
    "id": "wMUQ2lITVqxg"
   },
   "source": [
    "5) np_01의 크기를 **(1, 6)**로 변환하여 **np_03**에 넣으세요."
   ]
  },
  {
   "cell_type": "code",
   "execution_count": 0,
   "metadata": {
    "colab": {},
    "colab_type": "code",
    "id": "pqHytlceVqxh"
   },
   "outputs": [],
   "source": [
    "# 1 x 6 형태로 변경\n",
    "np_03 = np_01.reshape(1, 6)"
   ]
  },
  {
   "cell_type": "markdown",
   "metadata": {
    "colab_type": "text",
    "id": "nfM56Zl1Vqxi"
   },
   "source": [
    "6) np_01의 크기를 **(-1, 2)**로 변환하여 **np_04**에 넣으세요."
   ]
  },
  {
   "cell_type": "code",
   "execution_count": 0,
   "metadata": {
    "colab": {},
    "colab_type": "code",
    "id": "pfe0BGtQVqxi"
   },
   "outputs": [],
   "source": [
    "# -1 x 2 형태로 변경\n",
    "np_04 = np_01.reshape(-1, 2)"
   ]
  },
  {
   "cell_type": "markdown",
   "metadata": {
    "colab_type": "text",
    "id": "go-F8CLFVqxj"
   },
   "source": [
    "7) np_01, np_02, np_03, np_04의 **크기**와 **값**을 확인하세요."
   ]
  },
  {
   "cell_type": "code",
   "execution_count": 0,
   "metadata": {
    "colab": {},
    "colab_type": "code",
    "id": "b5-10lNbVqxk"
   },
   "outputs": [],
   "source": [
    "# np_01 크기 확인\n",
    "print(np_01.shape)\n",
    "\n",
    "# np_01 값 확인\n",
    "print(np_01)"
   ]
  },
  {
   "cell_type": "code",
   "execution_count": 0,
   "metadata": {
    "colab": {},
    "colab_type": "code",
    "id": "IZC0Ne-cBwYu"
   },
   "outputs": [],
   "source": [
    "# np_02 크기 확인\n",
    "print(np_02.shape)\n",
    "\n",
    "# np_02 값 확인\n",
    "print(np_02)"
   ]
  },
  {
   "cell_type": "code",
   "execution_count": 0,
   "metadata": {
    "colab": {},
    "colab_type": "code",
    "id": "n-uK8-vjBwY4"
   },
   "outputs": [],
   "source": [
    "# np_03 크기 확인\n",
    "print(np_03.shape)\n",
    "\n",
    "# np_03 값 확인\n",
    "print(np_03)"
   ]
  },
  {
   "cell_type": "code",
   "execution_count": 0,
   "metadata": {
    "colab": {},
    "colab_type": "code",
    "id": "2-ZSCEdEBwZE"
   },
   "outputs": [],
   "source": [
    "# np_04 크기 확인\n",
    "print(np_04.shape)\n",
    "\n",
    "# np_04 값 확인\n",
    "print(np_04)"
   ]
  },
  {
   "cell_type": "markdown",
   "metadata": {
    "colab_type": "text",
    "id": "06VKstxBVqxm"
   },
   "source": [
    "8) 랜덤값으로 채운 **12 x 6** 형태의 2차원 배열을 생성하여 **np_sample** 변수로 선언하세요."
   ]
  },
  {
   "cell_type": "code",
   "execution_count": 0,
   "metadata": {
    "colab": {},
    "colab_type": "code",
    "id": "xITAWrqaVqxm",
    "scrolled": false
   },
   "outputs": [],
   "source": [
    "# 12 x 6 형태의 2차원 배열 만들기\n",
    "np_sample = np.random.random((12, 6))\n",
    "\n",
    "# 크기 확인\n",
    "print(np_sample.shape)\n",
    "\n",
    "# 값 확인\n",
    "print(np_sample)"
   ]
  },
  {
   "cell_type": "markdown",
   "metadata": {
    "colab_type": "text",
    "id": "UpTF21pTCbZy"
   },
   "source": [
    "9) np_sample 배열을 24 x ? 형태로 변경하세요."
   ]
  },
  {
   "cell_type": "code",
   "execution_count": 0,
   "metadata": {
    "colab": {},
    "colab_type": "code",
    "id": "U4u-jtjhCbZ2",
    "scrolled": false
   },
   "outputs": [],
   "source": [
    "# 24 x ? 형태의 2차원 배열 만들기\n",
    "np_sample = np_sample.reshape((24, -1))\n",
    "\n",
    "# 크기 확인\n",
    "print(np_sample.shape)\n",
    "\n",
    "# 값 확인\n",
    "print(np_sample)"
   ]
  },
  {
   "cell_type": "markdown",
   "metadata": {
    "colab_type": "text",
    "id": "KqOHu2W4C_0R"
   },
   "source": [
    "## <center>수고하셨습니다.</center>\n",
    "<center><img src='https://raw.githubusercontent.com/Jangrae/img/master/end.png' width=200/></center>"
   ]
  }
 ],
 "metadata": {
  "colab": {
   "collapsed_sections": [],
   "name": "P1 [실습] 배열 만들기.ipynb",
   "provenance": []
  },
  "kernelspec": {
   "display_name": "Python 3",
   "language": "python",
   "name": "python3"
  },
  "language_info": {
   "codemirror_mode": {
    "name": "ipython",
    "version": 3
   },
   "file_extension": ".py",
   "mimetype": "text/x-python",
   "name": "python",
   "nbconvert_exporter": "python",
   "pygments_lexer": "ipython3",
   "version": "3.7.6"
  }
 },
 "nbformat": 4,
 "nbformat_minor": 1
}
