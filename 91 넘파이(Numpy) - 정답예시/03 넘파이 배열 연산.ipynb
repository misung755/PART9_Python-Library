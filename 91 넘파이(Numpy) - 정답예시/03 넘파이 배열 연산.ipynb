{
 "cells": [
  {
   "cell_type": "markdown",
   "metadata": {
    "colab_type": "text",
    "id": "1CVOOe62Vqvv"
   },
   "source": [
    "<center><img src='https://raw.githubusercontent.com/Jangrae/img/master/title.png' width=500/><center>"
   ]
  },
  {
   "cell_type": "markdown",
   "metadata": {},
   "source": [
    "<center>- Numpy의 모든 것을 배우지 않습니다. 데이터 전처리에 대한 부분만 학습 대상이 됩니다 -</center>"
   ]
  },
  {
   "cell_type": "markdown",
   "metadata": {
    "colab_type": "text",
    "id": "7mCiTQDn-APj"
   },
   "source": [
    "# 학습 목표\n",
    "\n",
    "- 배열 사이의 기본적인 연산을 수행할 수 있습니다.\n",
    "- 전치 행렬의 의미를 이해합니다.\n",
    "- Shuffling과 Samplig 개념을 이해하고 활용할 수 있습니다.\n",
    "- 여러 배열을 하나로 연결할 수 있습니다."
   ]
  },
  {
   "cell_type": "markdown",
   "metadata": {
    "colab_type": "text",
    "id": "1E9DkwINVqy2"
   },
   "source": [
    "# 3. 배열 연산\n",
    "\n",
    "- 배열 사이의 더하기, 빼기, 곱하기, 나누기 등은 이해하기 쉽습니다.\n",
    "- 하지만 행렬 곱, 행렬 합등의 연산은 악갼의 수학적 지식이 필요합니다.\n",
    "- 행렬 연산은 선형 대수를 위한 것이므로 설명을 생략합니다."
   ]
  },
  {
   "cell_type": "code",
   "execution_count": 0,
   "metadata": {
    "colab": {},
    "colab_type": "code",
    "id": "j77aGCED-APo"
   },
   "outputs": [],
   "source": [
    "# 라이브러리 불러오기\n",
    "import numpy as np"
   ]
  },
  {
   "cell_type": "markdown",
   "metadata": {
    "colab_type": "text",
    "id": "n-X5IPBxVqy3"
   },
   "source": [
    "## 3.1. 기본 연산\n",
    "\n",
    "- 리스트와는 달리 각 요소 사이의 기본 연산이 가능합니다.\n",
    "- 이런 연산이 목적으로 배열을 사용하기도 합니다."
   ]
  },
  {
   "cell_type": "markdown",
   "metadata": {
    "colab_type": "text",
    "id": "p0iEEcGMcoot"
   },
   "source": [
    "<img src='https://raw.githubusercontent.com/Jangrae/img/master/array_operator.png' width=500 align=\"left\"/>"
   ]
  },
  {
   "cell_type": "code",
   "execution_count": 0,
   "metadata": {
    "colab": {},
    "colab_type": "code",
    "id": "c1XI1tZqVqy3"
   },
   "outputs": [],
   "source": [
    "# 두 개의 2 x 2 형태의 2차원 배열 만들기\n",
    "x = np.array([[1, 2], [3, 4]], dtype = np.int32)\n",
    "y = np.array([[5, 6], [7, 8]], dtype = np.int32)\n",
    "\n",
    "# 확인\n",
    "print(x)\n",
    "print(y)"
   ]
  },
  {
   "cell_type": "markdown",
   "metadata": {
    "colab_type": "text",
    "id": "E-ekP4S5uWQE"
   },
   "source": [
    "**1) 배열 더하기**\n",
    "\n",
    "- \\+ 또는 **dp.add()** 함수를 사용합니다."
   ]
  },
  {
   "cell_type": "code",
   "execution_count": 0,
   "metadata": {
    "colab": {},
    "colab_type": "code",
    "id": "Wqiwa0LSVqy4"
   },
   "outputs": [],
   "source": [
    "# 배열 더하기\n",
    "print(x + y)\n",
    "\n",
    "# 또는\n",
    "print(np.add(x, y))"
   ]
  },
  {
   "cell_type": "markdown",
   "metadata": {
    "colab_type": "text",
    "id": "00AMA90ouj59"
   },
   "source": [
    "**2) 배열 뺴기**\n",
    "\n",
    "- \\- 또는 **np.subtract()** 함수를 사용합니다."
   ]
  },
  {
   "cell_type": "code",
   "execution_count": 0,
   "metadata": {
    "colab": {},
    "colab_type": "code",
    "id": "1y0US63EVqy5"
   },
   "outputs": [],
   "source": [
    "# 배열 빼기\n",
    "print(x - y)\n",
    "\n",
    "# 또는\n",
    "print(np.subtract(x, y))"
   ]
  },
  {
   "cell_type": "markdown",
   "metadata": {
    "colab_type": "text",
    "id": "xxXkVAzNuZ6n"
   },
   "source": [
    "**3) 배열 곱하기**\n",
    "\n",
    "- \\* 또는 **np.multiply()** 함수를 사용합니다."
   ]
  },
  {
   "cell_type": "code",
   "execution_count": 0,
   "metadata": {
    "colab": {},
    "colab_type": "code",
    "id": "b6Vbf3qDVqy6"
   },
   "outputs": [],
   "source": [
    "# 배열 곱하기\n",
    "print(x * y)\n",
    "\n",
    "# 또는\n",
    "print(np.multiply(x, y))"
   ]
  },
  {
   "cell_type": "markdown",
   "metadata": {
    "colab_type": "text",
    "id": "bB_Gr_AHucL4"
   },
   "source": [
    "**4) 배열 나누기**\n",
    "\n",
    "- \\/ 또는 **np.divide()** 함수를 사용합니다."
   ]
  },
  {
   "cell_type": "code",
   "execution_count": 0,
   "metadata": {
    "colab": {},
    "colab_type": "code",
    "id": "bRTZEgBLVqy6"
   },
   "outputs": [],
   "source": [
    "# 배열 나누기\n",
    "print(x / y)\n",
    "\n",
    "# 또는\n",
    "print(np.divide(x, y))"
   ]
  },
  {
   "cell_type": "markdown",
   "metadata": {
    "colab_type": "text",
    "id": "lx7YMmtBueZB"
   },
   "source": [
    "**5) 배열 제곱**\n",
    "\n",
    "- \\** 또는 **np.power()** 함수를 사용합니다."
   ]
  },
  {
   "cell_type": "code",
   "execution_count": 0,
   "metadata": {
    "colab": {},
    "colab_type": "code",
    "id": "btaO6o1dVqy7"
   },
   "outputs": [],
   "source": [
    "# 배열 y 제곱\n",
    "print(x ** y)\n",
    "\n",
    "# 또는\n",
    "print(np.power(x, y))"
   ]
  },
  {
   "cell_type": "code",
   "execution_count": 0,
   "metadata": {
    "colab": {},
    "colab_type": "code",
    "id": "PgmwzPNv-AQl"
   },
   "outputs": [],
   "source": [
    "# 배열 제곱\n",
    "print(x ** 2)"
   ]
  },
  {
   "cell_type": "code",
   "execution_count": 0,
   "metadata": {
    "colab": {},
    "colab_type": "code",
    "id": "g6d_4j2i-AQr"
   },
   "outputs": [],
   "source": [
    "# 배열 제곱\n",
    "print(np.power(x, 2))"
   ]
  },
  {
   "cell_type": "markdown",
   "metadata": {
    "colab_type": "text",
    "id": "mKV_6WShuuW7"
   },
   "source": [
    "**6) 배열 제곱근**\n",
    "\n",
    "- **np.sqrt()** 함수를 사용합니다."
   ]
  },
  {
   "cell_type": "code",
   "execution_count": 0,
   "metadata": {
    "colab": {},
    "colab_type": "code",
    "id": "Cyko2icyusIg"
   },
   "outputs": [],
   "source": [
    "# 배열 제곱근\n",
    "print(np.sqrt(x))"
   ]
  },
  {
   "cell_type": "markdown",
   "metadata": {
    "colab_type": "text",
    "id": "au8QRL_MVqy9"
   },
   "source": [
    "## 3.2. 리스트와 배열이 다른 점\n",
    "\n",
    "- 리스트의 더하기 곱하기 연산은 배열의 더하기 곱하기 연산과 완전히 다릅니다.\n",
    "- 예를 들어 리스트는 나눌 수 없지만 배열은 나눌 수 있습니다."
   ]
  },
  {
   "cell_type": "code",
   "execution_count": 0,
   "metadata": {
    "colab": {},
    "colab_type": "code",
    "id": "bi_EK0IoVqy_"
   },
   "outputs": [],
   "source": [
    "# 리스트와 배열 만들기\n",
    "python_list = [1, 2, 3]\n",
    "numpy_array = np.array([1, 2, 3])"
   ]
  },
  {
   "cell_type": "code",
   "execution_count": 0,
   "metadata": {
    "colab": {},
    "colab_type": "code",
    "id": "tw9imYos-AQ9",
    "scrolled": true
   },
   "outputs": [],
   "source": [
    "# 리스트 연산\n",
    "print(python_list + python_list)\n",
    "print(python_list * 3)"
   ]
  },
  {
   "cell_type": "code",
   "execution_count": 0,
   "metadata": {
    "colab": {},
    "colab_type": "code",
    "id": "44J1T-x6-ARD",
    "scrolled": true
   },
   "outputs": [],
   "source": [
    "# 배열 연산\n",
    "print(numpy_array + numpy_array)\n",
    "print(numpy_array * 3)"
   ]
  },
  {
   "cell_type": "code",
   "execution_count": 0,
   "metadata": {
    "colab": {},
    "colab_type": "code",
    "id": "d6o0FxrrVqzA",
    "scrolled": true
   },
   "outputs": [],
   "source": [
    "# 리스트는 나누거나 제곱할 수 없음\n",
    "height = [1.73, 1.68, 1.71, 1.89, 1.79]\n",
    "weight = [65.4, 59.2, 63.6, 88.4, 68.7]\n",
    "\n",
    "print(weight / height ** 2)\n",
    "#TypeError: unsupported operand type(s) for **: 'list' and 'int'"
   ]
  },
  {
   "cell_type": "code",
   "execution_count": 0,
   "metadata": {
    "colab": {},
    "colab_type": "code",
    "id": "PfP-bJaTVqzB",
    "scrolled": true
   },
   "outputs": [],
   "source": [
    "# 배열은 요소끼리 나누거나 제곱할 수 있음\n",
    "np_height = np.array(height)\n",
    "np_weight = np.array(weight)\n",
    "\n",
    "print(np_weight / np_height ** 2)"
   ]
  },
  {
   "cell_type": "markdown",
   "metadata": {
    "colab_type": "text",
    "id": "D-QTaLIAVqzM"
   },
   "source": [
    "## 3.3. 전치행렬\n",
    "\n",
    "- **행과 열을 교환**하여 얻는 행렬을 전치행렬입니다.\n",
    "- **주 대각선**을 축으로 하는 **반사 대칭**을 가하여 얻는 행렬입니다."
   ]
  },
  {
   "cell_type": "markdown",
   "metadata": {
    "colab_type": "text",
    "id": "8PX5i7yhcX72"
   },
   "source": [
    "<img src='https://raw.githubusercontent.com/Jangrae/img/master/matrix4.png' width=600 align=\"left\"/>"
   ]
  },
  {
   "cell_type": "code",
   "execution_count": 0,
   "metadata": {
    "colab": {},
    "colab_type": "code",
    "id": "IriNE8DjVqzM"
   },
   "outputs": [],
   "source": [
    "# 1 x 4 형태의 2차원 배열 만들기\n",
    "a = np.array([1, 2, 3, 4], ndmin = 2)\n",
    "\n",
    "# 확인\n",
    "print(a.shape)\n",
    "print(a)"
   ]
  },
  {
   "cell_type": "code",
   "execution_count": 0,
   "metadata": {
    "colab": {},
    "colab_type": "code",
    "id": "pAq5VvO-VqzO"
   },
   "outputs": [],
   "source": [
    "# 전치행렬 \n",
    "print(a.T)"
   ]
  },
  {
   "cell_type": "code",
   "execution_count": 0,
   "metadata": {
    "colab": {},
    "colab_type": "code",
    "id": "tY1EXcrVVqzQ"
   },
   "outputs": [],
   "source": [
    "# 2 x 2 형태의 2차원 배열 만들기 \n",
    "a = np.array([[1, 2], \n",
    "              [3, 4]])\n",
    "\n",
    "# 확인\n",
    "print(a)"
   ]
  },
  {
   "cell_type": "code",
   "execution_count": 0,
   "metadata": {
    "colab": {},
    "colab_type": "code",
    "id": "XACryGrX-ARu"
   },
   "outputs": [],
   "source": [
    "# 전치행렬\n",
    "print(a.T)"
   ]
  },
  {
   "cell_type": "code",
   "execution_count": 0,
   "metadata": {
    "colab": {},
    "colab_type": "code",
    "id": "vFCJhM3MVqzS"
   },
   "outputs": [],
   "source": [
    "# 3 x 2 형태의 2차원 배열 만들기 \n",
    "a = np.array([[1, 2], \n",
    "              [3, 4],\n",
    "              [5, 6]])\n",
    "\n",
    "# 확인\n",
    "print(a)"
   ]
  },
  {
   "cell_type": "code",
   "execution_count": 0,
   "metadata": {
    "colab": {},
    "colab_type": "code",
    "id": "vVML_fvv-AR4"
   },
   "outputs": [],
   "source": [
    "# 전치행렬\n",
    "print(a.T)"
   ]
  },
  {
   "cell_type": "code",
   "execution_count": 0,
   "metadata": {
    "colab": {},
    "colab_type": "code",
    "id": "HogWURDjVqzS"
   },
   "outputs": [],
   "source": [
    "# 1차원 배열은 전치행렬이 의미가 없음\n",
    "a = np.array([1, 2 ,3])\n",
    "print(a)"
   ]
  },
  {
   "cell_type": "code",
   "execution_count": 0,
   "metadata": {
    "colab": {},
    "colab_type": "code",
    "id": "d1yWAybF-ASK"
   },
   "outputs": [],
   "source": [
    "# 전치행렬?\n",
    "print(a.T)"
   ]
  },
  {
   "cell_type": "markdown",
   "metadata": {
    "colab_type": "text",
    "id": "EVY48AwzVqzc"
   },
   "source": [
    "## 3.4. Shuffle\n",
    "\n",
    "- **np.random.shuffle()** 함수를 사용해 배열을 섞어 임의 순서의 배열을 얻을 수 있습니다."
   ]
  },
  {
   "cell_type": "markdown",
   "metadata": {
    "colab_type": "text",
    "id": "wtgf9tKqVqzc"
   },
   "source": [
    "**1) 1차원 배열 섞기**\n",
    "\n",
    "- 우선 1차원 배열을 섞어봅시다."
   ]
  },
  {
   "cell_type": "code",
   "execution_count": 0,
   "metadata": {
    "colab": {},
    "colab_type": "code",
    "id": "sO2ttw0PVqzd"
   },
   "outputs": [],
   "source": [
    "# 1차원 배열 만들기\n",
    "a = np.array([1, 2, 3, 4, 5])"
   ]
  },
  {
   "cell_type": "code",
   "execution_count": 0,
   "metadata": {
    "colab": {},
    "colab_type": "code",
    "id": "Rrr__A7L-ASa"
   },
   "outputs": [],
   "source": [
    "# 배열 섞기\n",
    "np.random.shuffle(a)\n",
    "print(a)"
   ]
  },
  {
   "cell_type": "markdown",
   "metadata": {
    "colab_type": "text",
    "id": "3aj-3lgFVqzd"
   },
   "source": [
    "**2) 2차원 배열 섞기**\n",
    "\n",
    "- 모든 요소를 섞지는 못합니다.\n",
    "- 단지 행 기준으로 섞어주며, 행 안의 요소는 섞이지 않습니다. "
   ]
  },
  {
   "cell_type": "code",
   "execution_count": 0,
   "metadata": {
    "colab": {},
    "colab_type": "code",
    "id": "B5IUjSpkVqzf"
   },
   "outputs": [],
   "source": [
    "# 2차원 배열 만들기\n",
    "a = np.array([[1, 2, 3], [4, 5, 6], [7, 8, 9]])"
   ]
  },
  {
   "cell_type": "code",
   "execution_count": 0,
   "metadata": {
    "colab": {},
    "colab_type": "code",
    "id": "YAsHx3vA-ASt"
   },
   "outputs": [],
   "source": [
    "# 배열 섞기\n",
    "np.random.shuffle(a)\n",
    "print(a)"
   ]
  },
  {
   "cell_type": "markdown",
   "metadata": {
    "colab_type": "text",
    "id": "7e9FwEVDVqzg"
   },
   "source": [
    "**3) csv 파일 읽어와 섞기**\n",
    "\n",
    "- 당연히 파일에서 데이터를 읽어와 만든 배열도 섞을 수 있습니다."
   ]
  },
  {
   "cell_type": "code",
   "execution_count": 0,
   "metadata": {
    "colab": {},
    "colab_type": "code",
    "id": "5kJMBIUQVqzg"
   },
   "outputs": [],
   "source": [
    "# 파일에서 데이터 가져오기\n",
    "file_path = 'https://raw.githubusercontent.com/Jangrae/csv/master/Graduate_apply.csv'\n",
    "data = np.genfromtxt(file_path, delimiter=\",\", names=True)\n",
    "\n",
    "# 10개 확인\n",
    "print(data[0:10])"
   ]
  },
  {
   "cell_type": "code",
   "execution_count": 0,
   "metadata": {
    "colab": {},
    "colab_type": "code",
    "id": "RAiDosexVqzh",
    "scrolled": true
   },
   "outputs": [],
   "source": [
    "# Shuffle (이 셀을 Ctrl + Enter로 반복실행)\n",
    "np.random.shuffle(data)\n",
    "\n",
    "# 10개 확인\n",
    "print(data[0:10])"
   ]
  },
  {
   "cell_type": "markdown",
   "metadata": {
    "colab_type": "text",
    "id": "xAukFU4AVqzi"
   },
   "source": [
    "**[참고] 리스트 섞기**\n",
    "\n",
    "- 배열 뿐만이 아니라 리스트도 섞을 수 있습니다."
   ]
  },
  {
   "cell_type": "code",
   "execution_count": 0,
   "metadata": {
    "colab": {},
    "colab_type": "code",
    "id": "rYPhkVu_Vqzi"
   },
   "outputs": [],
   "source": [
    "# 리스트 만들기\n",
    "a = [1, 2, 3, 4, 5]"
   ]
  },
  {
   "cell_type": "code",
   "execution_count": 0,
   "metadata": {
    "colab": {},
    "colab_type": "code",
    "id": "qHzOTTmx-ATI"
   },
   "outputs": [],
   "source": [
    "# 리스트 섞기\n",
    "np.random.shuffle(a)\n",
    "print(a)"
   ]
  },
  {
   "cell_type": "markdown",
   "metadata": {
    "colab_type": "text",
    "id": "4qEuBE4y-ATQ"
   },
   "source": [
    "**[참고] 두 배열 같은 순서로 섞기**\n",
    "\n",
    "- 섞기는 임의의 순서로 이루어지므로 같은 요소를 갖는 두 배열의 섞인 결과가 달라집니다.\n",
    "- 만일 두 배열을 갖는 순서로 섞으려고 한다면 약간의 트릭이 필요합니다.\n",
    "- **np.arrange([시작,] 끝 [,스텝])** 형태로 임의의 정수를 갖는 1차원 배열을 만들 수 있습니다."
   ]
  },
  {
   "cell_type": "code",
   "execution_count": 2,
   "metadata": {
    "colab": {
     "base_uri": "https://localhost:8080/",
     "height": 207
    },
    "colab_type": "code",
    "executionInfo": {
     "elapsed": 1745,
     "status": "error",
     "timestamp": 1589335860873,
     "user": {
      "displayName": "이장래",
      "photoUrl": "https://lh3.googleusercontent.com/a-/AOh14GiAr2j2I1wKToLVmH4sVTSNBanYH4IL0jaxOtYU=s64",
      "userId": "01217686459280251442"
     },
     "user_tz": -540
    },
    "id": "KKy5UrJSCt-j",
    "outputId": "13e801ea-e651-41b3-df80-308466aa12e2"
   },
   "outputs": [
    {
     "ename": "TypeError",
     "evalue": "ignored",
     "output_type": "error",
     "traceback": [
      "\u001b[0;31m---------------------------------------------------------------------------\u001b[0m",
      "\u001b[0;31mTypeError\u001b[0m                                 Traceback (most recent call last)",
      "\u001b[0;32m<ipython-input-2-1fee19996963>\u001b[0m in \u001b[0;36m<module>\u001b[0;34m()\u001b[0m\n\u001b[1;32m      1\u001b[0m \u001b[0;31m# np.arrange() 사용 예\u001b[0m\u001b[0;34m\u001b[0m\u001b[0;34m\u001b[0m\u001b[0;34m\u001b[0m\u001b[0m\n\u001b[0;32m----> 2\u001b[0;31m \u001b[0ma\u001b[0m \u001b[0;34m=\u001b[0m \u001b[0mnp\u001b[0m\u001b[0;34m.\u001b[0m\u001b[0marange\u001b[0m\u001b[0;34m(\u001b[0m\u001b[0;36m1\u001b[0m\u001b[0;34m,\u001b[0m \u001b[0;36m10\u001b[0m\u001b[0;34m,\u001b[0m \u001b[0;34m(\u001b[0m\u001b[0;36m2\u001b[0m\u001b[0;34m,\u001b[0m \u001b[0;36m5\u001b[0m\u001b[0;34m)\u001b[0m\u001b[0;34m)\u001b[0m\u001b[0;34m\u001b[0m\u001b[0;34m\u001b[0m\u001b[0m\n\u001b[0m\u001b[1;32m      3\u001b[0m \u001b[0mprint\u001b[0m\u001b[0;34m(\u001b[0m\u001b[0ma\u001b[0m\u001b[0;34m)\u001b[0m\u001b[0;34m\u001b[0m\u001b[0;34m\u001b[0m\u001b[0m\n",
      "\u001b[0;31mTypeError\u001b[0m: unsupported operand type(s) for /: 'int' and 'tuple'"
     ]
    }
   ],
   "source": [
    "# np.arrange() 사용 예\n",
    "a = np.arange(1, 10)\n",
    "print(a)"
   ]
  },
  {
   "cell_type": "code",
   "execution_count": 0,
   "metadata": {
    "colab": {},
    "colab_type": "code",
    "id": "zX8rX97p-ATT"
   },
   "outputs": [],
   "source": [
    "# 두 개의 배열 만들기\n",
    "a = np.arange(1, 11)\n",
    "b = np.arange(11, 21)\n",
    "print(a)\n",
    "print(b)"
   ]
  },
  {
   "cell_type": "code",
   "execution_count": 0,
   "metadata": {
    "colab": {},
    "colab_type": "code",
    "id": "3GDJFPYQ-ATZ"
   },
   "outputs": [],
   "source": [
    "# 배열 형태 확인\n",
    "print(a.shape)\n",
    "print(a.shape[0])"
   ]
  },
  {
   "cell_type": "markdown",
   "metadata": {
    "colab_type": "text",
    "id": "qj-NVThb-ATe"
   },
   "source": [
    "- 두 배열의 개수만큼 정수를 갖는 배열을 만들고 이 배열을 섞어줍니다."
   ]
  },
  {
   "cell_type": "code",
   "execution_count": 0,
   "metadata": {
    "colab": {},
    "colab_type": "code",
    "id": "8eYyEOhG-ATf"
   },
   "outputs": [],
   "source": [
    "# 요소 개수만큼 정수를 갖는 배열 만들기\n",
    "s = np.arange(a.shape[0])\n",
    "print(s)"
   ]
  },
  {
   "cell_type": "code",
   "execution_count": 0,
   "metadata": {
    "colab": {},
    "colab_type": "code",
    "id": "37Axg0YJ-ATj"
   },
   "outputs": [],
   "source": [
    "# 배열 섞기\n",
    "np.random.shuffle(s)\n",
    "print(s)"
   ]
  },
  {
   "cell_type": "markdown",
   "metadata": {
    "colab_type": "text",
    "id": "WpGqQxe5-ATt"
   },
   "source": [
    "- 그리고 섞인 배열의 정수로 기존 두 배열을 조회하면 같은 순서로 섞인 결과가 됩니다."
   ]
  },
  {
   "cell_type": "code",
   "execution_count": 0,
   "metadata": {
    "colab": {},
    "colab_type": "code",
    "id": "bvRCmXgX-ATu"
   },
   "outputs": [],
   "source": [
    "# 기존 배열 섞기\n",
    "a = a[s]\n",
    "b = b[s]\n",
    "print(a)\n",
    "print(b)"
   ]
  },
  {
   "cell_type": "markdown",
   "metadata": {
    "colab_type": "text",
    "id": "x5pWlYlZVqzi"
   },
   "source": [
    "## 3.5. Sampling\n",
    "\n",
    "- **np.random.choice()** 함수로 지정한 개수의 임의의 요소를 갖는 배열을 만들 수 있습니다.\n",
    "- **np.random.choice(어디서, 얼마나, 어떻게)** 형식을 기억하세요."
   ]
  },
  {
   "cell_type": "code",
   "execution_count": 0,
   "metadata": {
    "colab": {},
    "colab_type": "code",
    "id": "AR1y2Uu8Vqzj",
    "scrolled": true
   },
   "outputs": [],
   "source": [
    "file_path = 'https://raw.githubusercontent.com/Jangrae/csv/master/Graduate_apply.csv'\n",
    "data = np.genfromtxt(file_path, delimiter=\",\", names=True)\n",
    "data.shape"
   ]
  },
  {
   "cell_type": "code",
   "execution_count": 0,
   "metadata": {
    "colab": {},
    "colab_type": "code",
    "id": "nZKeJAhxVqzj"
   },
   "outputs": [],
   "source": [
    "# 임의의 4개 요소 추출\n",
    "print(np.random.choice(data, 4))"
   ]
  },
  {
   "cell_type": "markdown",
   "metadata": {
    "colab_type": "text",
    "id": "p8RrCb1VVqzk"
   },
   "source": [
    "**[참고] 복원 추출과 비복원 추출**\n",
    "\n",
    "- 복원 추출: 추출 된 요소을 다시 배열에 추가한 후 추출합니다.(기본값)\n",
    "- 비복원 추출: 기존 배열 요소에서만 추출합니다."
   ]
  },
  {
   "cell_type": "markdown",
   "metadata": {
    "colab_type": "text",
    "id": "cMZtOAFk-AUB"
   },
   "source": [
    "<img src='https://raw.githubusercontent.com/Jangrae/img/master/random_choice.png' width=500 align=\"left\"/>"
   ]
  },
  {
   "cell_type": "markdown",
   "metadata": {
    "colab_type": "text",
    "id": "pyQIgI_Svhh3"
   },
   "source": [
    "**1) 복원 추출**\n",
    "\n",
    "- **np.arange(10)**는 0부터 9까지 정수를 갖는 배열을 만듭니다.\n",
    "- np.arange() 함수는 유용하게 사용니 꼭 기억하세요."
   ]
  },
  {
   "cell_type": "code",
   "execution_count": 0,
   "metadata": {
    "colab": {},
    "colab_type": "code",
    "id": "k9VoiGSQ-AUE"
   },
   "outputs": [],
   "source": [
    "a = np.arange(10)\n",
    "print(a)"
   ]
  },
  {
   "cell_type": "code",
   "execution_count": 0,
   "metadata": {
    "colab": {},
    "colab_type": "code",
    "id": "USAfcSCbVqzk"
   },
   "outputs": [],
   "source": [
    "print(np.random.choice(a, 4))"
   ]
  },
  {
   "cell_type": "markdown",
   "metadata": {
    "colab_type": "text",
    "id": "Fdfl23krvmJo"
   },
   "source": [
    "**2) 비복원 추출**"
   ]
  },
  {
   "cell_type": "code",
   "execution_count": 0,
   "metadata": {
    "colab": {},
    "colab_type": "code",
    "id": "smFmhUjb-AUQ"
   },
   "outputs": [],
   "source": [
    "# 비복원추출\n",
    "print(np.random.choice(a, 4, replace=False))"
   ]
  },
  {
   "cell_type": "code",
   "execution_count": 0,
   "metadata": {
    "colab": {},
    "colab_type": "code",
    "id": "KzKjYuZ2Vqzn"
   },
   "outputs": [],
   "source": [
    "# 위 코드는 다음과 같음\n",
    "print(np.random.choice(10, 4, replace=False))"
   ]
  },
  {
   "cell_type": "markdown",
   "metadata": {
    "colab_type": "text",
    "id": "UrSzUyywVqzo"
   },
   "source": [
    "## 3.6. Split\n",
    "\n",
    "- 하나의 배열을 여러 배열로 나눌 수 있습니다.\n",
    "- 머신러닝에서 하나의 데이터 셋에서 학습용, 검증용, 평가용 데이터로 분리할 때 많이 사용합니다."
   ]
  },
  {
   "cell_type": "code",
   "execution_count": 0,
   "metadata": {
    "colab": {},
    "colab_type": "code",
    "id": "pm5m9T3c-AUa",
    "scrolled": true
   },
   "outputs": [],
   "source": [
    "file_path = 'https://raw.githubusercontent.com/Jangrae/csv/master/Graduate_apply.csv'\n",
    "data = np.genfromtxt(file_path, delimiter=\",\", names=True)\n",
    "data.shape"
   ]
  },
  {
   "cell_type": "code",
   "execution_count": 0,
   "metadata": {
    "colab": {},
    "colab_type": "code",
    "id": "TkPswlzMVqzo"
   },
   "outputs": [],
   "source": [
    "# 100개씩 분할(Split)\n",
    "s1, s2, s3, s4 = data[:100], data[100:200], data[200:300], data[300:]"
   ]
  },
  {
   "cell_type": "code",
   "execution_count": 0,
   "metadata": {
    "colab": {},
    "colab_type": "code",
    "id": "DhEHdtKr-AUi"
   },
   "outputs": [],
   "source": [
    "# 갯수 확인\n",
    "print(len(s1))\n",
    "print(len(s2))\n",
    "print(len(s3))\n",
    "print(len(s4))"
   ]
  },
  {
   "cell_type": "code",
   "execution_count": 0,
   "metadata": {
    "colab": {},
    "colab_type": "code",
    "id": "JbGfB3OB-AUl"
   },
   "outputs": [],
   "source": [
    "# 내용 확인\n",
    "print(s1)"
   ]
  },
  {
   "cell_type": "markdown",
   "metadata": {
    "colab_type": "text",
    "id": "xs_g0E0q-AUq"
   },
   "source": [
    "## 3.7. 배열 연결\n",
    "\n",
    "- **np.r_[...]**를 사용해 여러 배열을 행으로 연결할 수 있습니다.\n",
    "- **np.c_[...]**를 사용해 여러 배열을 열로 연결할 수 있습니다."
   ]
  },
  {
   "cell_type": "markdown",
   "metadata": {
    "colab_type": "text",
    "id": "iXBca81W-AUs"
   },
   "source": [
    "**1) 배열 만들기**"
   ]
  },
  {
   "cell_type": "code",
   "execution_count": 5,
   "metadata": {
    "colab": {
     "base_uri": "https://localhost:8080/",
     "height": 35
    },
    "colab_type": "code",
    "executionInfo": {
     "elapsed": 1839,
     "status": "ok",
     "timestamp": 1589341568200,
     "user": {
      "displayName": "이장래",
      "photoUrl": "https://lh3.googleusercontent.com/a-/AOh14GiAr2j2I1wKToLVmH4sVTSNBanYH4IL0jaxOtYU=s64",
      "userId": "01217686459280251442"
     },
     "user_tz": -540
    },
    "id": "bMxpOrkb-AUt",
    "outputId": "37ea9c2e-a350-4179-860a-a63976294a13",
    "scrolled": true
   },
   "outputs": [
    {
     "name": "stdout",
     "output_type": "stream",
     "text": [
      "[7 8 7]\n"
     ]
    }
   ],
   "source": [
    "a1 = np.array(np.random.randint(1, 10, (3, )))\n",
    "print(a1)"
   ]
  },
  {
   "cell_type": "code",
   "execution_count": 0,
   "metadata": {
    "colab": {},
    "colab_type": "code",
    "id": "lZHwRCY2-AUz",
    "scrolled": true
   },
   "outputs": [],
   "source": [
    "a2 = np.array(np.random.randint(1, 10, (3, 4)))\n",
    "print(a2)"
   ]
  },
  {
   "cell_type": "code",
   "execution_count": 0,
   "metadata": {
    "colab": {},
    "colab_type": "code",
    "id": "vnvwdyMG-AU6",
    "scrolled": false
   },
   "outputs": [],
   "source": [
    "a3 = np.array(np.random.randint(1, 10, (3, 4)))\n",
    "print(a3)"
   ]
  },
  {
   "cell_type": "markdown",
   "metadata": {
    "colab_type": "text",
    "id": "vzEFS7h9-AVC"
   },
   "source": [
    "**2) 행에 연결**"
   ]
  },
  {
   "cell_type": "code",
   "execution_count": 0,
   "metadata": {
    "colab": {},
    "colab_type": "code",
    "id": "2mXI9hnV-AVD",
    "scrolled": true
   },
   "outputs": [],
   "source": [
    "print(np.r_[a1, a2])"
   ]
  },
  {
   "cell_type": "code",
   "execution_count": 0,
   "metadata": {
    "colab": {},
    "colab_type": "code",
    "id": "aIlHr-vL-AVG",
    "scrolled": true
   },
   "outputs": [],
   "source": [
    "print(np.r_[a1, a2, a3])"
   ]
  },
  {
   "cell_type": "markdown",
   "metadata": {
    "colab_type": "text",
    "id": "jQQesex2-AVJ"
   },
   "source": [
    "**3) 열에 연결**"
   ]
  },
  {
   "cell_type": "code",
   "execution_count": 0,
   "metadata": {
    "colab": {},
    "colab_type": "code",
    "id": "9lmjP13S-AVK",
    "scrolled": false
   },
   "outputs": [],
   "source": [
    "print(np.c_[a1, a2])"
   ]
  },
  {
   "cell_type": "code",
   "execution_count": 0,
   "metadata": {
    "colab": {},
    "colab_type": "code",
    "id": "phUdj7-Y-AVN",
    "scrolled": false
   },
   "outputs": [],
   "source": [
    "print(np.c_[a1, a2, a3])"
   ]
  },
  {
   "cell_type": "markdown",
   "metadata": {
    "colab_type": "text",
    "id": "KqOHu2W4C_0R"
   },
   "source": [
    "## <center>수고하셨습니다.</center>\n",
    "<center><img src='https://raw.githubusercontent.com/Jangrae/img/master/end.png' width=200/></center>"
   ]
  }
 ],
 "metadata": {
  "colab": {
   "collapsed_sections": [],
   "name": "03 넘파이 배열 연산.ipynb",
   "provenance": []
  },
  "kernelspec": {
   "display_name": "Python 3",
   "language": "python",
   "name": "python3"
  },
  "language_info": {
   "codemirror_mode": {
    "name": "ipython",
    "version": 3
   },
   "file_extension": ".py",
   "mimetype": "text/x-python",
   "name": "python",
   "nbconvert_exporter": "python",
   "pygments_lexer": "ipython3",
   "version": "3.7.6"
  }
 },
 "nbformat": 4,
 "nbformat_minor": 1
}
