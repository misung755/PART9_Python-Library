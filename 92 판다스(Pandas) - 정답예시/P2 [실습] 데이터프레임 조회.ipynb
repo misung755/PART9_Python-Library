{
 "cells": [
  {
   "cell_type": "markdown",
   "metadata": {
    "colab_type": "text",
    "id": "BFhIXgdYoYGp"
   },
   "source": [
    "<center><img src='https://raw.githubusercontent.com/Jangrae/img/master/title.png' width=500/></center>"
   ]
  },
  {
   "cell_type": "markdown",
   "metadata": {
    "colab_type": "text",
    "id": "Qde8QCkNWnTj"
   },
   "source": [
    "<center><img src='https://raw.githubusercontent.com/Jangrae/img/master/practice.png' width=300/></center>"
   ]
  },
  {
   "cell_type": "markdown",
   "metadata": {
    "colab_type": "text",
    "id": "-icG4pzIWnTk"
   },
   "source": [
    "# 실습 목표\n",
    "\n",
    "- CSV 파일에서 데이터를 읽어올 수 있습니다.\n",
    "- 조건에 맞는 데이터를 조회할 수 있습니다."
   ]
  },
  {
   "cell_type": "markdown",
   "metadata": {
    "colab_type": "text",
    "id": "-sdzPN0Uwxi2"
   },
   "source": [
    "# P2. [실습] 데이터프레임 조회"
   ]
  },
  {
   "cell_type": "markdown",
   "metadata": {},
   "source": [
    "1) pandas, numpy 라이브러리를 불러오세요."
   ]
  },
  {
   "cell_type": "code",
   "execution_count": null,
   "metadata": {
    "colab": {},
    "colab_type": "code",
    "id": "oN9BR9E4LA8y"
   },
   "outputs": [],
   "source": [
    "# 라이브러리 불러오기\n",
    "import pandas as pd\n",
    "import numpy as np"
   ]
  },
  {
   "cell_type": "markdown",
   "metadata": {
    "colab_type": "text",
    "id": "MSI7TDJqLOuu"
   },
   "source": [
    "2) 다음 파일을 읽어 **graduate**, **titanic** 데이터프레임을 만드세요.\n",
    "- 'https://raw.githubusercontent.com/Jangrae/csv/master/Graduate_apply.csv'\n",
    "- 'https://raw.githubusercontent.com/Jangrae/csv/master/titanic_simple.csv'"
   ]
  },
  {
   "cell_type": "code",
   "execution_count": null,
   "metadata": {
    "colab": {},
    "colab_type": "code",
    "id": "brN0YxzRLjzK",
    "scrolled": false
   },
   "outputs": [],
   "source": [
    "# graduate 데이터프레임 만들기\n",
    "file_path = 'https://raw.githubusercontent.com/Jangrae/csv/master/Graduate_apply.csv'\n",
    "graduate = pd.read_csv(file_path, sep = ',')\n",
    "graduate.head()"
   ]
  },
  {
   "cell_type": "code",
   "execution_count": null,
   "metadata": {
    "colab": {},
    "colab_type": "code",
    "id": "NhGzdquFM-yW"
   },
   "outputs": [],
   "source": [
    "# titanic 데이터프레임 만들기\n",
    "file_path = 'https://raw.githubusercontent.com/Jangrae/csv/master/titanic_simple.csv'\n",
    "titanic = pd.read_csv(file_path, sep = ',')\n",
    "titanic.head()"
   ]
  },
  {
   "cell_type": "markdown",
   "metadata": {
    "colab_type": "text",
    "id": "BHbPvRq_LwV8"
   },
   "source": [
    "### graduate 데이터프레임 사용"
   ]
  },
  {
   "cell_type": "markdown",
   "metadata": {
    "colab_type": "text",
    "id": "0FlziGWML113"
   },
   "source": [
    "3) **unique()** 메소드를 사용해 rank 열에 어떤 값들이 들어 있는 지 확인하세요."
   ]
  },
  {
   "cell_type": "code",
   "execution_count": null,
   "metadata": {
    "colab": {},
    "colab_type": "code",
    "id": "wo7NCADBwxne"
   },
   "outputs": [],
   "source": [
    "# rank 값 확인\n",
    "graduate['rank'].unique()"
   ]
  },
  {
   "cell_type": "markdown",
   "metadata": {
    "colab_type": "text",
    "id": "zxCJWKytWnUM"
   },
   "source": [
    "4) **mean()** 메소드를 사용해 gre 열의 평균을 구하세요."
   ]
  },
  {
   "cell_type": "code",
   "execution_count": null,
   "metadata": {
    "colab": {},
    "colab_type": "code",
    "id": "UZK4A7xtWnUN"
   },
   "outputs": [],
   "source": [
    "# gre 평균\n",
    "graduate['gre'].mean()"
   ]
  },
  {
   "cell_type": "markdown",
   "metadata": {
    "colab_type": "text",
    "id": "uRS1ADKhL_VS"
   },
   "source": [
    "5) gre 값이 평균 이상이면서 rank가 4인 사람을 조회하세요."
   ]
  },
  {
   "cell_type": "code",
   "execution_count": null,
   "metadata": {
    "colab": {},
    "colab_type": "code",
    "id": "U22tWnCrwxnp",
    "scrolled": false
   },
   "outputs": [],
   "source": [
    "# gre 값이 gre 평균 이상이고 rank가 4인 사람\n",
    "avg_gre = graduate['gre'].mean()\n",
    "graduate[(graduate['gre'] >= avg_gre) & (graduate['rank'] == 4)]"
   ]
  },
  {
   "cell_type": "markdown",
   "metadata": {
    "colab_type": "text",
    "id": "JP2nwNdcMFaU"
   },
   "source": [
    "## titanic 데이터프레임 사용"
   ]
  },
  {
   "cell_type": "markdown",
   "metadata": {
    "colab_type": "text",
    "id": "OuuUNMa8ML4c"
   },
   "source": [
    "6) Age가 10살 이하인 탑승객을 조회하세요."
   ]
  },
  {
   "cell_type": "code",
   "execution_count": null,
   "metadata": {
    "colab": {},
    "colab_type": "code",
    "id": "SzziqOVDwxns",
    "scrolled": false
   },
   "outputs": [],
   "source": [
    "# Age가 10 이하인 탑승객 조회\n",
    "titanic[titanic['Age'] <= 10]"
   ]
  },
  {
   "cell_type": "markdown",
   "metadata": {
    "colab_type": "text",
    "id": "E1DKTjrfMO4B"
   },
   "source": [
    "7) 여자(Female)이면서, 탑승지역(Embarked)이 Southhampton 인 사람을 조회하세요."
   ]
  },
  {
   "cell_type": "code",
   "execution_count": null,
   "metadata": {
    "colab": {},
    "colab_type": "code",
    "id": "Gr6YbubAwxnw",
    "scrolled": true
   },
   "outputs": [],
   "source": [
    "# 조건에 맞는 행 조회\n",
    "titanic[(titanic['Sex'] == 'female') & (titanic['Embarked'] == 'Southhampton')]"
   ]
  },
  {
   "cell_type": "markdown",
   "metadata": {
    "colab_type": "text",
    "id": "yzCTG6QsMR4p"
   },
   "source": [
    "8) 6번에 해당되는 사람의 평균 나이는 어떻게 되나요?"
   ]
  },
  {
   "cell_type": "code",
   "execution_count": null,
   "metadata": {
    "colab": {},
    "colab_type": "code",
    "id": "l6vBt-YZwxnz"
   },
   "outputs": [],
   "source": [
    "# 조건에 맞는 행의 특정 열 평균 구하기\n",
    "titanic[(titanic['Sex'] == 'female') & (titanic['Embarked'] == 'Southhampton')]['Age'].mean()"
   ]
  },
  {
   "cell_type": "markdown",
   "metadata": {
    "colab_type": "text",
    "id": "rc24C5p1KN5E"
   },
   "source": [
    "## <center>수고하셨습니다.</center>\n",
    "<center><img src='https://raw.githubusercontent.com/Jangrae/img/master/end.png' width=200/></center>"
   ]
  }
 ],
 "metadata": {
  "colab": {
   "collapsed_sections": [],
   "name": "P2 [실습] 데이터프레임 조회.ipynb",
   "provenance": []
  },
  "kernelspec": {
   "display_name": "Python 3",
   "language": "python",
   "name": "python3"
  },
  "language_info": {
   "codemirror_mode": {
    "name": "ipython",
    "version": 3
   },
   "file_extension": ".py",
   "mimetype": "text/x-python",
   "name": "python",
   "nbconvert_exporter": "python",
   "pygments_lexer": "ipython3",
   "version": "3.7.6"
  }
 },
 "nbformat": 4,
 "nbformat_minor": 1
}
