{
 "cells": [
  {
   "cell_type": "markdown",
   "metadata": {
    "colab_type": "text",
    "id": "BFhIXgdYoYGp"
   },
   "source": [
    "<center><img src='https://raw.githubusercontent.com/Jangrae/img/master/title.png' width=500/></center>"
   ]
  },
  {
   "cell_type": "markdown",
   "metadata": {},
   "source": [
    "<center>- Pandas의 모든 것을 배우지 않습니다. 데이터 전처리에 대한 부분만 학습 대상이 됩니다 -</center>"
   ]
  },
  {
   "cell_type": "markdown",
   "metadata": {
    "colab_type": "text",
    "id": "DFijIAllYnVQ"
   },
   "source": [
    "# 학습 목표\n",
    "\n",
    "- 다양한 조인 방법을 이해합니다.\n",
    "- 두 데이터프레임 사이의 조인을 수행할 수 있습니다."
   ]
  },
  {
   "cell_type": "markdown",
   "metadata": {
    "colab_type": "text",
    "id": "0Cq3lmVb5oj2"
   },
   "source": [
    "# 8. 데이터프레임 조인\n",
    "\n",
    "- 두 데이터프레임을 지정한 키 값을 기준으로 병합할 수 있습니다.\n",
    "- **join()** 메소드도 있지만 더 많은 옵션을 가진 **merge()** 함수를 사용합니다."
   ]
  },
  {
   "cell_type": "markdown",
   "metadata": {
    "colab_type": "text",
    "id": "KqOHu2W4C_0R"
   },
   "source": [
    "<img src='https://raw.githubusercontent.com/Jangrae/img/master/join.png' width=600, align=\"left\"/>"
   ]
  },
  {
   "cell_type": "code",
   "execution_count": null,
   "metadata": {
    "colab": {},
    "colab_type": "code",
    "id": "DnUuJEQCF50p"
   },
   "outputs": [],
   "source": [
    "# 라이브러리 불러오기\n",
    "import numpy as np\n",
    "import pandas as pd\n",
    "import matplotlib.pyplot as plt"
   ]
  },
  {
   "cell_type": "code",
   "execution_count": null,
   "metadata": {
    "colab": {},
    "colab_type": "code",
    "id": "j3W8uI_blhYb",
    "scrolled": false
   },
   "outputs": [],
   "source": [
    "# 파일 읽어오기\n",
    "file_path = 'https://raw.githubusercontent.com/Jangrae/csv/master/Graduate_apply.csv'\n",
    "graduate = pd.read_csv(file_path, sep=',', skipinitialspace=True)  \n",
    "graduate.head()"
   ]
  },
  {
   "cell_type": "markdown",
   "metadata": {
    "colab_type": "text",
    "id": "_6vBGHP2bsfJ"
   },
   "source": [
    "## 8.1. 한 개의 열을 기준으로 조인"
   ]
  },
  {
   "cell_type": "code",
   "execution_count": null,
   "metadata": {
    "colab": {},
    "colab_type": "code",
    "id": "qE9uXpyO6XGq",
    "scrolled": true
   },
   "outputs": [],
   "source": [
    "# rank별 gre, gpa 평균 구하기\n",
    "gr_mean = graduate.groupby(by='rank', as_index=False)[['gre', 'gpa']].mean()\n",
    "gr_mean.rename(columns={'gre':'gre_mean', 'gpa':'gpa_mean'}, inplace=True)\n",
    "\n",
    "# 확인\n",
    "gr_mean"
   ]
  },
  {
   "cell_type": "code",
   "execution_count": null,
   "metadata": {
    "colab": {},
    "colab_type": "code",
    "id": "-HCmIf8I7kDx",
    "scrolled": true
   },
   "outputs": [],
   "source": [
    "# rank별 count 구하기\n",
    "gr_count = graduate.groupby(by='rank', as_index=False)['gre'].count()\n",
    "gr_count.rename(columns={'gre':'count'}, inplace=True)\n",
    "\n",
    "# 확인\n",
    "gr_count"
   ]
  },
  {
   "cell_type": "markdown",
   "metadata": {
    "colab_type": "text",
    "id": "pzDmPyRvGdUv"
   },
   "source": [
    "- **on='rank'** 형태로 조인 기준이 되는 열을 지정합니다."
   ]
  },
  {
   "cell_type": "code",
   "execution_count": null,
   "metadata": {
    "colab": {},
    "colab_type": "code",
    "id": "j5DGezR_GTc6",
    "scrolled": false
   },
   "outputs": [],
   "source": [
    "# 하나의 열을 기준으로 조인\n",
    "graduate_new = pd.merge(gr_mean, gr_count, on='rank', how='inner') \n",
    "\n",
    "# 확인\n",
    "graduate_new"
   ]
  },
  {
   "cell_type": "markdown",
   "metadata": {
    "colab_type": "text",
    "id": "DwasywKZAT4m"
   },
   "source": [
    "## 8.2. 여려 열을 기준으로 조인"
   ]
  },
  {
   "cell_type": "code",
   "execution_count": null,
   "metadata": {
    "colab": {},
    "colab_type": "code",
    "id": "6XFhsDRnHRXW",
    "scrolled": false
   },
   "outputs": [],
   "source": [
    "# rank, admit별 gre, gpa 평균 구하기\n",
    "gr_mean = graduate.groupby(by=['rank', 'admit'], as_index=False)[['gre', 'gpa']].mean()\n",
    "gr_mean.rename(columns={'gre':'gre_mean', 'gpa':'gpa_mean'}, inplace=True)\n",
    "\n",
    "# 확인\n",
    "gr_mean"
   ]
  },
  {
   "cell_type": "code",
   "execution_count": null,
   "metadata": {
    "colab": {},
    "colab_type": "code",
    "id": "79OKecOWHZY6",
    "scrolled": true
   },
   "outputs": [],
   "source": [
    "# rank, admit별 gre 갯수 구하기\n",
    "gr_count = graduate.groupby(by=['rank','admit'], as_index=False)['gre'].count()\n",
    "gr_count.rename(columns={'gre':'count'}, inplace=True)\n",
    "\n",
    "# 확인\n",
    "gr_count"
   ]
  },
  {
   "cell_type": "markdown",
   "metadata": {
    "colab_type": "text",
    "id": "LdTEUlOf9KaK"
   },
   "source": [
    "- **on=['rank', 'admit']** 형태로 조인 기준이 되는 열을 지정합니다. "
   ]
  },
  {
   "cell_type": "code",
   "execution_count": null,
   "metadata": {
    "colab": {},
    "colab_type": "code",
    "id": "1Q7NhY-CuYxz",
    "scrolled": true
   },
   "outputs": [],
   "source": [
    "# 여러 열을 기준으로 조인\n",
    "graduate_new = pd.merge(gr_mean, gr_count, how='inner', on=['rank','admit'])\n",
    "\n",
    "# 확인\n",
    "graduate_new"
   ]
  },
  {
   "cell_type": "markdown",
   "metadata": {
    "colab_type": "text",
    "id": "DhPu7SO138pD"
   },
   "source": [
    "## <center>수고하셨습니다.</center>\n",
    "<center><img src='https://raw.githubusercontent.com/Jangrae/img/master/end.png' width=200/></center>"
   ]
  }
 ],
 "metadata": {
  "colab": {
   "collapsed_sections": [],
   "name": "08 데이터프레임 조인.ipynb",
   "provenance": []
  },
  "kernelspec": {
   "display_name": "Python 3",
   "language": "python",
   "name": "python3"
  },
  "language_info": {
   "codemirror_mode": {
    "name": "ipython",
    "version": 3
   },
   "file_extension": ".py",
   "mimetype": "text/x-python",
   "name": "python",
   "nbconvert_exporter": "python",
   "pygments_lexer": "ipython3",
   "version": "3.7.6"
  }
 },
 "nbformat": 4,
 "nbformat_minor": 1
}
