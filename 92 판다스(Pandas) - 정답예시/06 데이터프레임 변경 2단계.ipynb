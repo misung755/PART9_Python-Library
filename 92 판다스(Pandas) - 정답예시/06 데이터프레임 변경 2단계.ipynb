{
 "cells": [
  {
   "cell_type": "markdown",
   "metadata": {
    "colab_type": "text",
    "id": "BFhIXgdYoYGp"
   },
   "source": [
    "<center><img src='https://raw.githubusercontent.com/Jangrae/img/master/title.png' width=500/></center>"
   ]
  },
  {
   "cell_type": "markdown",
   "metadata": {},
   "source": [
    "<center>- Pandas의 모든 것을 배우지 않습니다. 데이터 전처리에 대한 부분만 학습 대상이 됩니다 -</center>"
   ]
  },
  {
   "cell_type": "markdown",
   "metadata": {
    "colab_type": "text",
    "id": "DFijIAllYnVQ"
   },
   "source": [
    "# 학습 목표\n",
    "\n",
    "- 다양한 방법으로 결측치(NaN 값) 존재 여부를 확인할 수 있습니다.\n",
    "- 결측치를 제거하거나 다른 값으로 채울 수 있습니다.\n",
    "- 중복된 데이터를 확인하여 제거할 수 있습니다.\n",
    "- 가변수를 만들어 기존 데이터프레임에 연결할 수 있습니다.\n",
    "- 깔끔한 데이터를 만들기 위해 데이터 재 구조화 작업을 할 수 있습니다."
   ]
  },
  {
   "cell_type": "markdown",
   "metadata": {
    "colab_type": "text",
    "id": "ZoUvgjsPk2N_"
   },
   "source": [
    "# 6. 데이터프레임 변경 - 2단계\n",
    "\n",
    "- 정확한 데이터 분석을 위해서는 정확한 데이터가 준비되어야 합니다.\n",
    "- 정확한 데이터 준비를 위해 누락된 데이터나 중복 데이터를 제거하는 전처리 작업이 필요합니다."
   ]
  },
  {
   "cell_type": "code",
   "execution_count": null,
   "metadata": {
    "colab": {},
    "colab_type": "code",
    "id": "-apqIbv7AryQ"
   },
   "outputs": [],
   "source": [
    "# 라이브러리 불러오기\n",
    "import pandas as pd\n",
    "import numpy as np"
   ]
  },
  {
   "cell_type": "markdown",
   "metadata": {
    "colab_type": "text",
    "id": "aEBr4Fa_fyPK"
   },
   "source": [
    "## 6.1. 결측치 처리\n",
    "\n",
    "- NaN 값, 즉 결측치는 정확한 분석을 방해합니다.\n",
    "- NaN 값을 만나면 오류가 발생하는 함수도 있습니다.\n",
    "- NaN 값은 제거하든지 다른 값(예를 들면 평균값)으로 채워야 합니다."
   ]
  },
  {
   "cell_type": "code",
   "execution_count": null,
   "metadata": {
    "colab": {},
    "colab_type": "code",
    "id": "JidNhJ9BAxZH"
   },
   "outputs": [],
   "source": [
    "# titanic 데이터 읽어오기\n",
    "file_path = 'https://raw.githubusercontent.com/Jangrae/csv/master/titanic_simple.csv'\n",
    "titanic = pd.read_csv(file_path, sep = ',',) \n",
    "titanic.head()"
   ]
  },
  {
   "cell_type": "markdown",
   "metadata": {
    "colab_type": "text",
    "id": "ym9R9OVegJpd"
   },
   "source": [
    "### 6.1.1. 결측치 찾기\n",
    "\n",
    "- 결측치 존재 여부를 확인하고 이를 어떻게 처리할 지 방법을 결정해야 합니다.\n",
    "- 결측치를 확인할 수 있는 방법은 참 많습니다."
   ]
  },
  {
   "cell_type": "markdown",
   "metadata": {
    "colab_type": "text",
    "id": "r342ajaBiM4D"
   },
   "source": [
    "**1) info() 메소드로 확인**\n",
    "- 다른 열의 데이터 개수와 비교하여 결측치 존재 여부를 알 수 있습니다."
   ]
  },
  {
   "cell_type": "code",
   "execution_count": null,
   "metadata": {
    "colab": {},
    "colab_type": "code",
    "id": "QJtmOEpjgSEO"
   },
   "outputs": [],
   "source": [
    "# 열 정보 확인\n",
    "titanic.info()"
   ]
  },
  {
   "cell_type": "markdown",
   "metadata": {
    "colab_type": "text",
    "id": "WxW9pZz6hMz7"
   },
   "source": [
    "**2) count() 메소드로 확인**\n",
    "\n",
    "- 다른 열의 데이터 개수와 비교하여 결측치 존재 여부를 알 수 있습니다."
   ]
  },
  {
   "cell_type": "code",
   "execution_count": null,
   "metadata": {},
   "outputs": [],
   "source": [
    "# 열 데이터 개수 확인\n",
    "titanic.count()"
   ]
  },
  {
   "cell_type": "markdown",
   "metadata": {
    "colab_type": "text",
    "id": "WxW9pZz6hMz7"
   },
   "source": [
    "**3) value_counts() 메소드로 확인**\n",
    "\n",
    "- 필히 **dropna=False** 옵션을 지정해야 결측치가 확인됩니다."
   ]
  },
  {
   "cell_type": "code",
   "execution_count": null,
   "metadata": {
    "colab": {},
    "colab_type": "code",
    "id": "0lwb38Hdg3Cg"
   },
   "outputs": [],
   "source": [
    "# Age 열 데이터 별 개수 확인\n",
    "titanic['Age'].value_counts(dropna=False)"
   ]
  },
  {
   "cell_type": "markdown",
   "metadata": {
    "colab_type": "text",
    "id": "qLZ-WjMLhk3P"
   },
   "source": [
    "**4) isnull(), notnull() 메소드 사용**\n",
    "\n",
    "- **isnull()** 메소드: 결측치면 True, 유효한 값이면 False를 반환합니다.\n",
    "- **notnull()** 메소드: 결측치면 False, 유효한 값이면 True를 반환합니다.\n"
   ]
  },
  {
   "cell_type": "code",
   "execution_count": null,
   "metadata": {
    "colab": {},
    "colab_type": "code",
    "id": "EjMy9QB5dwtp",
    "scrolled": true
   },
   "outputs": [],
   "source": [
    "# 전체 데이터 중에서 결측치는 True로 표시\n",
    "titanic.isnull()"
   ]
  },
  {
   "cell_type": "markdown",
   "metadata": {},
   "source": [
    "- True의 개수를 확인하는 것도 의미가 있습니다."
   ]
  },
  {
   "cell_type": "code",
   "execution_count": null,
   "metadata": {
    "colab": {},
    "colab_type": "code",
    "id": "EjMy9QB5dwtp"
   },
   "outputs": [],
   "source": [
    "# 전체 데이터 중에서 결측치는 True 인 값 개수\n",
    "titanic.isnull().sum()"
   ]
  },
  {
   "cell_type": "markdown",
   "metadata": {
    "colab_type": "text",
    "id": "Gj-SaA5akWAT"
   },
   "source": [
    "### 6.1.2. 결측치 제거\n",
    "\n",
    "- **dropna()** 메소드로 결측치가 있는 열이나 행을 제거할 수 있습니다.\n",
    "- inplacce=True 옵션을 지정해 해당 데이터프레임을 변경할 수 있습니다."
   ]
  },
  {
   "cell_type": "markdown",
   "metadata": {
    "colab_type": "text",
    "id": "l_k-OqWXqhN-"
   },
   "source": [
    "**1) 결측치가 하나라도 있으면 제거**"
   ]
  },
  {
   "cell_type": "code",
   "execution_count": null,
   "metadata": {
    "colab": {},
    "colab_type": "code",
    "id": "KUMVEY7EsxQO"
   },
   "outputs": [],
   "source": [
    "# 결측치가 하나라도 있는 행 제거\n",
    "titanic2 = titanic.copy()\n",
    "titanic2.dropna(inplace=True)\n",
    "titanic2.info()"
   ]
  },
  {
   "cell_type": "code",
   "execution_count": null,
   "metadata": {
    "colab": {},
    "colab_type": "code",
    "id": "qxnVGzBijLr6",
    "scrolled": true
   },
   "outputs": [],
   "source": [
    "# Age 열에 결측치가  있는 행 제거\n",
    "titanic2 = titanic.copy()\n",
    "titanic2.dropna(subset=['Age'], inplace=True)\n",
    "titanic2.info()"
   ]
  },
  {
   "cell_type": "code",
   "execution_count": null,
   "metadata": {
    "colab": {},
    "colab_type": "code",
    "id": "qxnVGzBijLr6",
    "scrolled": true
   },
   "outputs": [],
   "source": [
    "# Embarked 열에 결측치가  있는 행 제거\n",
    "titanic2 = titanic.copy()\n",
    "titanic2.dropna(subset=['Embarked'], inplace=True)\n",
    "titanic2.info()"
   ]
  },
  {
   "cell_type": "markdown",
   "metadata": {
    "colab_type": "text",
    "id": "cYaThcUMuP6u"
   },
   "source": [
    "### 6.1.3. 결측치 채우기\n",
    "\n",
    "- **fillna()** 메소드를 사용해 결측치를 다른 값으로 채울 수 있습니다."
   ]
  },
  {
   "cell_type": "markdown",
   "metadata": {
    "colab_type": "text",
    "id": "DanX5zk-viHI"
   },
   "source": [
    "**1) 평균값으로 채우기**\n",
    "\n",
    "- 결측치가 있는 열의 평균값을 구한 후 결측치를 그 값으로 채웁니다."
   ]
  },
  {
   "cell_type": "code",
   "execution_count": null,
   "metadata": {
    "colab": {},
    "colab_type": "code",
    "id": "3LqSXjUrxXmU"
   },
   "outputs": [],
   "source": [
    "# 데이터프레임 복사\n",
    "titanic2 = titanic.copy()\n",
    "\n",
    "# Age 평균 구하기\n",
    "mean_age = titanic2['Age'].mean()\n",
    "\n",
    "# 누락된 값을 평균값으로 채우기\n",
    "titanic2['Age'].fillna(mean_age, inplace=True)\n",
    "titanic2.info()"
   ]
  },
  {
   "cell_type": "markdown",
   "metadata": {
    "colab_type": "text",
    "id": "LVEYd6Thvp4r"
   },
   "source": [
    "**2) 가장 많이 나타나는 값으로 채우기**\n",
    "\n",
    "- 결측치가 있는 열의 가장 빈도가 높은 값을 구한 후 결측치를 그 값으로 채웁니다.\n",
    "- **idxmax()** 메소드를 사용해 가장 많이 나타나는 값을 찾을 수 있습니다."
   ]
  },
  {
   "cell_type": "code",
   "execution_count": null,
   "metadata": {
    "colab": {},
    "colab_type": "code",
    "id": "qATwW8d1zMJx"
   },
   "outputs": [],
   "source": [
    "# 가장 빈도가 높은 Embarked 열 값 구하기\n",
    "most_freq_Embarked = titanic2['Embarked'].value_counts(dropna=True).idxmax()\n",
    "print(most_freq_Embarked)"
   ]
  },
  {
   "cell_type": "code",
   "execution_count": null,
   "metadata": {
    "colab": {},
    "colab_type": "code",
    "id": "5p2wArHGjLsz"
   },
   "outputs": [],
   "source": [
    "# 결측치를 가장 빈도가 높은 값으로 채우기\n",
    "titanic2['Embarked'].fillna(most_freq_Embarked, inplace=True)\n",
    "titanic2.info()"
   ]
  },
  {
   "cell_type": "markdown",
   "metadata": {
    "colab_type": "text",
    "id": "ll4fBPfWsSyc"
   },
   "source": [
    "**3) 직전 행의 값 또는 바로 다음 행의 값으로 채우기**\n",
    "\n",
    "- 결측치를 바로 앞의 값이나 바로 다음에 나오는 값으로 채웁니다.\n",
    "- **method='ffill'**: 바로 앞의 값으로 변경\n",
    "- **method='bfill'**: 바로 다음 값으로 채움"
   ]
  },
  {
   "cell_type": "code",
   "execution_count": null,
   "metadata": {
    "colab": {},
    "colab_type": "code",
    "id": "AF9q0GZ4smrR"
   },
   "outputs": [],
   "source": [
    "# 데이터프레임 복사\n",
    "titanic2 = titanic.copy()\n",
    "\n",
    "# Age 열의 누락된 값을 바로 앞의 값으로 채우기\n",
    "titanic2['Age'].fillna(method='ffill', inplace=True)\n",
    "\n",
    "# Embarked 열의 누락된 값을 바로 뒤의 값으로 채우기\n",
    "titanic2['Embarked'].fillna(method='bfill', inplace=True)\n",
    "\n",
    "# 확인\n",
    "titanic2.info()"
   ]
  },
  {
   "cell_type": "markdown",
   "metadata": {
    "colab_type": "text",
    "id": "1pPFQQOjiQPw"
   },
   "source": [
    "**4) 결측치를 특정 값으로 채우기**"
   ]
  },
  {
   "cell_type": "markdown",
   "metadata": {
    "colab_type": "text",
    "id": "hQjMdjVTw6qB"
   },
   "source": [
    "- 필요하다면 모든 결측치를 특정 값으로 채웁니다."
   ]
  },
  {
   "cell_type": "code",
   "execution_count": null,
   "metadata": {
    "colab": {},
    "colab_type": "code",
    "id": "ZnDQPgyMiTKd"
   },
   "outputs": [],
   "source": [
    "# 데이터프레임 복사\n",
    "titanic2 = titanic.copy()\n",
    "\n",
    "# 모든 누락된 값을 0으로 채우기\n",
    "# titanic2.fillna(0, inplace=True)\n",
    "\n",
    "# Age 열의 누락된 값을  0 으로 채우기\n",
    "titanic2['Age'].fillna(0, inplace=True)\n",
    "titanic2.info()"
   ]
  },
  {
   "cell_type": "markdown",
   "metadata": {
    "colab_type": "text",
    "id": "mHrKYYWip4Es"
   },
   "source": [
    "<img src='https://raw.githubusercontent.com/jangrae/img/master/practice_01.png' width=120 align=\"left\"/>"
   ]
  },
  {
   "cell_type": "markdown",
   "metadata": {
    "colab_type": "text",
    "id": "6fnjRkd_FNUh"
   },
   "source": [
    "다음에 주어진 데이터프레임을 확인한 후 이어지는 셀을 완성해 보세요."
   ]
  },
  {
   "cell_type": "code",
   "execution_count": null,
   "metadata": {
    "colab": {},
    "colab_type": "code",
    "id": "I1asgGupFNUj"
   },
   "outputs": [],
   "source": [
    "# 데이터프레임 만들기\n",
    "dict = {'이름': ['나처럼', '즐거운', '사람이', '누구요'],\n",
    "        '나이': [32, np.nan, 28, np.nan],\n",
    "        '1월': [45600, np.nan, 46000, 50000],\n",
    "        '2월': [56000, 23000, np.nan, 45000],\n",
    "        '3월': [52000, 33000, 39000, 49000],\n",
    "        }\n",
    "\n",
    "df_test = pd.DataFrame(dict, index=['C001', 'C002', 'C003', 'C004'])\n",
    "df_test.head()"
   ]
  },
  {
   "cell_type": "code",
   "execution_count": null,
   "metadata": {
    "colab": {},
    "colab_type": "code",
    "id": "lwmJJ58_FipY"
   },
   "outputs": [],
   "source": [
    "# 나이 결측치는 모두 25로 변경\n",
    "df_test['나이'].fillna(25, inplace=True)\n",
    "\n",
    "# 확인\n",
    "df_test.head()"
   ]
  },
  {
   "cell_type": "code",
   "execution_count": null,
   "metadata": {
    "colab": {},
    "colab_type": "code",
    "id": "IEVsuQ9KGPvr"
   },
   "outputs": [],
   "source": [
    "# 1월, 2월, 3월 결측치는 각 월의 평균으로 채우기\n",
    "mean_1 = df_test['1월'].mean()\n",
    "mean_2 = df_test['2월'].mean()\n",
    "mean_3 = df_test['3월'].mean()\n",
    "\n",
    "df_test['1월'].fillna(mean_1, inplace=True)\n",
    "df_test['2월'].fillna(mean_2, inplace=True)\n",
    "df_test['3월'].fillna(mean_3, inplace=True)\n",
    "\n",
    "# 확인\n",
    "df_test.head()"
   ]
  },
  {
   "cell_type": "code",
   "execution_count": null,
   "metadata": {
    "colab": {},
    "colab_type": "code",
    "id": "ys8f-NQzHNBg"
   },
   "outputs": [],
   "source": [
    "# 숫자는 모두 정수로 변경\n",
    "df_test['나이'] = df_test['나이'].astype(int)\n",
    "df_test['1월'] = df_test['1월'].astype(int)\n",
    "df_test['2월'] = df_test['2월'].astype(int)\n",
    "df_test['3월'] = df_test['3월'].astype(int)\n",
    "\n",
    "# 확인\n",
    "df_test.head()"
   ]
  },
  {
   "cell_type": "markdown",
   "metadata": {
    "colab_type": "text",
    "id": "9sLOPbKugeBx"
   },
   "source": [
    "## 6.2. 중복된 데이터 처리\n",
    "\n",
    "- 중복된 데이터는 분석 결과를 왜곡할 수 있으므로 중복 데이터에 대한 전처리가 필요합니다."
   ]
  },
  {
   "cell_type": "markdown",
   "metadata": {
    "colab_type": "text",
    "id": "5dcf1Gt0xaAA"
   },
   "source": [
    "### 6.2.1. 중복 데이터 확인\n",
    "\n",
    "- **duplicated()** 메소드로 중복된 행을 찾을 수 있습니다.\n",
    "- **keep='first'**를 지정하면 앞쪽 행을 유지할 목적으로 중복을 확인합니다.\n",
    "- **keep='last'**를 지정하면 뒤쪽 행을 유지할 목적으로 중복을 확인합니다.\n",
    "- 전체 열이 중복된 행, 또는 일부 열이 중복된 행을 찾을 수 있습니다."
   ]
  },
  {
   "cell_type": "code",
   "execution_count": null,
   "metadata": {
    "colab": {},
    "colab_type": "code",
    "id": "jVWedVZ1BQCB"
   },
   "outputs": [],
   "source": [
    "# 리스트로 데이터프레임 만들기\n",
    "src = [[1, 2, 3, 4, np.nan],\n",
    "       [1, 3, 5, 7, 9],\n",
    "       [1, 2, 3, 4, np.nan],\n",
    "       [1, 2, 3, 4, np.nan],\n",
    "       [1, 3, 5, 7, 9],\n",
    "       [2, 4, 6, 8, 0]]\n",
    "df = pd.DataFrame(src, columns=list('ABCDE'))\n",
    "df.head(10)"
   ]
  },
  {
   "cell_type": "markdown",
   "metadata": {
    "colab_type": "text",
    "id": "DduF28S2HfwR"
   },
   "source": [
    "**1) 모든 열이 중복된 행 찾기**"
   ]
  },
  {
   "cell_type": "code",
   "execution_count": null,
   "metadata": {
    "colab": {},
    "colab_type": "code",
    "id": "McwnQtRtBPR8"
   },
   "outputs": [],
   "source": [
    "# 모든 열 값이 중복되는 행 확인\n",
    "df.duplicated()"
   ]
  },
  {
   "cell_type": "code",
   "execution_count": null,
   "metadata": {
    "colab": {},
    "colab_type": "code",
    "id": "NM_5OPYvCKcv"
   },
   "outputs": [],
   "source": [
    "# 앞쪽 행을 유지할 목적으로 모든 열 값이 중복되는 행 확인, 위 결과와 같음\n",
    "df.duplicated(keep='first')"
   ]
  },
  {
   "cell_type": "code",
   "execution_count": null,
   "metadata": {
    "colab": {},
    "colab_type": "code",
    "id": "ZvHs8kZWCXb-"
   },
   "outputs": [],
   "source": [
    "# 뒤쪽 행을 유지할 목적으로 모든 열 값이 중복되는 행 확인\n",
    "df.duplicated(keep='last')"
   ]
  },
  {
   "cell_type": "markdown",
   "metadata": {
    "colab_type": "text",
    "id": "Gqs1EweqHkmd"
   },
   "source": [
    "**2) 일부 열이 중복된 행 찾기**"
   ]
  },
  {
   "cell_type": "code",
   "execution_count": null,
   "metadata": {
    "colab": {},
    "colab_type": "code",
    "id": "XIIBnYl5BPwf"
   },
   "outputs": [],
   "source": [
    "# 앞쪽 행을 유지할 목적으로 'A' 열 값이 중복되는 데이터 확인\n",
    "df.duplicated(subset='A', keep='first')"
   ]
  },
  {
   "cell_type": "markdown",
   "metadata": {
    "colab_type": "text",
    "id": "Ip56V7gjxf3u"
   },
   "source": [
    "### 6.2.2. 중복 데이터 제거\n",
    "\n",
    "- **drop_duplicates()** 메소드로 중복된 행을 제거할 수 있습니다.\n",
    "- **keep='first'**를 지정하면 앞쪽 행을 유지하고 뒤쪽 행을 제거합니다.\n",
    "- **keep='last'**를 지정하면 뒤쪽 행을 유지하고 앞쪽 행을 제거합니다.\n",
    "- 전체 열이 중복된 행, 또는 일부 열이 중복된 행을 제거할 수 있습니다."
   ]
  },
  {
   "cell_type": "code",
   "execution_count": null,
   "metadata": {
    "colab": {},
    "colab_type": "code",
    "id": "8RHl-A03BPCf"
   },
   "outputs": [],
   "source": [
    "# 앞 데이터를 유지하면서 모든 열 값이 중복되는 행 제거\n",
    "df.drop_duplicates(keep='first', inplace=True)\n",
    "df.head(10)"
   ]
  },
  {
   "cell_type": "code",
   "execution_count": null,
   "metadata": {
    "colab": {},
    "colab_type": "code",
    "id": "_YYxZCCEETog"
   },
   "outputs": [],
   "source": [
    "# 인덱스 초기화\n",
    "df.reset_index(inplace=True, drop=True)\n",
    "df.head(10)"
   ]
  },
  {
   "cell_type": "markdown",
   "metadata": {
    "colab_type": "text",
    "id": "v-vk2g5sfnKs"
   },
   "source": [
    "<img src='https://raw.githubusercontent.com/jangrae/img/master/practice_01.png' width=120 align=\"left\"/>"
   ]
  },
  {
   "cell_type": "markdown",
   "metadata": {
    "colab_type": "text",
    "id": "rZZG4WZEgo7q"
   },
   "source": [
    "아래 주어진 코드를 실행헤 titanic 데이터프레임에 중복된 행을 만든 후 이어지는 셀의 코드를 작성해 보세요."
   ]
  },
  {
   "cell_type": "code",
   "execution_count": null,
   "metadata": {
    "colab": {},
    "colab_type": "code",
    "id": "XN5_GERAyKI0"
   },
   "outputs": [],
   "source": [
    "# titanic 데이터 읽어오기\n",
    "file_path = 'https://raw.githubusercontent.com/Jangrae/csv/master/titanic_simple.csv'\n",
    "titanic = pd.read_csv(file_path, sep = ',',) \n",
    "\n",
    "# 테스트를 위해 중복된 행을 갖는 데이터프레임 만들기\n",
    "titanic = pd.concat([titanic,titanic.head(4)])\n",
    "titanic.reset_index(drop=True, inplace=True)\n",
    "titanic.tail(10)"
   ]
  },
  {
   "cell_type": "code",
   "execution_count": null,
   "metadata": {
    "colab": {},
    "colab_type": "code",
    "id": "J_cLaA28yOne"
   },
   "outputs": [],
   "source": [
    "# 앞쪽 행을 유지할 목적으로 중복된 행 찾기\n",
    "titanic.duplicated(keep='first')"
   ]
  },
  {
   "cell_type": "code",
   "execution_count": null,
   "metadata": {
    "colab": {},
    "colab_type": "code",
    "id": "nyCF3B5F2CXL"
   },
   "outputs": [],
   "source": [
    "# 뒤쪽 행을 유지할 목적으로 중복된 행 찾기\n",
    "titanic.duplicated(keep='last')"
   ]
  },
  {
   "cell_type": "code",
   "execution_count": null,
   "metadata": {
    "colab": {},
    "colab_type": "code",
    "id": "rdexQufd1vDe"
   },
   "outputs": [],
   "source": [
    "# 뒤에 오는 중복 행을 제거\n",
    "titanic = titanic.drop_duplicates(keep='first')\n",
    "titanic.tail(10)"
   ]
  },
  {
   "cell_type": "markdown",
   "metadata": {
    "colab_type": "text",
    "id": "czlgqmyGwxoh"
   },
   "source": [
    "## 6.3. 가변수(Dummy Variable) 만들기\n",
    "\n",
    "- 가변수는 일정하게 정해진 범위의 값을 갖는 데이터(범주형 데이터)를 숫자로 변환한 것입니다.\n",
    "- **get_dummies()** 함수를 사용해서 가변수를 쉽게 만들 수 있습니다."
   ]
  },
  {
   "cell_type": "markdown",
   "metadata": {
    "colab_type": "text",
    "id": "5kxTbz6yjLvq"
   },
   "source": [
    "<img src='https://raw.githubusercontent.com/Jangrae/img/master/dummy_variable.png' width=400 align=\"left\"/>"
   ]
  },
  {
   "cell_type": "code",
   "execution_count": null,
   "metadata": {
    "colab": {},
    "colab_type": "code",
    "id": "6N6AXLjD5jyM"
   },
   "outputs": [],
   "source": [
    "# 파일 불러오기\n",
    "file_path = 'https://raw.githubusercontent.com/jangrae/csv/master/Graduate_apply.csv'\n",
    "graduate = pd.read_csv(file_path)\n",
    "graduate.head()"
   ]
  },
  {
   "cell_type": "markdown",
   "metadata": {
    "colab_type": "text",
    "id": "oaDbIM-ssveE"
   },
   "source": [
    "**1) 데이터 확인**\n",
    "\n",
    "- 범주형 여부를 우선 확인해야 합니다."
   ]
  },
  {
   "cell_type": "code",
   "execution_count": null,
   "metadata": {
    "colab": {},
    "colab_type": "code",
    "id": "viBEuv5gYnWi"
   },
   "outputs": [],
   "source": [
    "# 데이터프레임 내용 확인\n",
    "graduate.head()"
   ]
  },
  {
   "cell_type": "code",
   "execution_count": null,
   "metadata": {
    "colab": {},
    "colab_type": "code",
    "id": "7AjpUuqCIR8n"
   },
   "outputs": [],
   "source": [
    "# rank 열에 어떤 값들이 몇 개씩 있나 확인\n",
    "graduate['rank'].value_counts()"
   ]
  },
  {
   "cell_type": "markdown",
   "metadata": {
    "colab_type": "text",
    "id": "QR8txXtbATyd"
   },
   "source": [
    "**2) 가변수 만들기**\n",
    "\n",
    "- 가변수를 만들 때 **prefix** 옵션을 사용해 새로 만들어지는 열의 이름을 제어할 수 있습니다."
   ]
  },
  {
   "cell_type": "code",
   "execution_count": null,
   "metadata": {
    "colab": {},
    "colab_type": "code",
    "id": "X5p93pqcwxoo",
    "scrolled": true
   },
   "outputs": [],
   "source": [
    "# rank 열은 범주형이므로 더미 변수로 변환\n",
    "#graduate_rank = pd.get_dummies(graduate['rank'], prefix='r',)\n",
    "graduate_rank = pd.get_dummies(graduate['rank'])\n",
    "graduate_rank.head()"
   ]
  },
  {
   "cell_type": "markdown",
   "metadata": {
    "colab_type": "text",
    "id": "KyAbqs_aATyy"
   },
   "source": [
    "**3) 원래 데이터프레임과 합치기**\n",
    "\n",
    "- 가변수 자체 만으로는 큰 의미가 없으니, 기존 데이터프레임에 새로운 열로 연결합니다.\n",
    "- 데이터프레임 연결은 **concat()** 함수를 사용합니다.\n",
    "- **axis=1** 옵션은 열 방향, 즉 가로 방향으로 연결하라는 의미입니다."
   ]
  },
  {
   "cell_type": "code",
   "execution_count": null,
   "metadata": {
    "colab": {},
    "colab_type": "code",
    "id": "MEtxi5eIRHKC",
    "scrolled": true
   },
   "outputs": [],
   "source": [
    "# Dummy 데이터를 원래 데이터프레임과 합치기\n",
    "graduate_new = pd.concat([graduate, graduate_rank], axis=1)\n",
    "graduate_new.head()"
   ]
  },
  {
   "cell_type": "markdown",
   "metadata": {
    "colab_type": "text",
    "id": "av6t7aduATzD"
   },
   "source": [
    "**4) 일부 열 제거**\n",
    "\n",
    "- 가변수가 새로운 열이 되어 기존 열은 의미가 없으니 삭제합니다. \n",
    "- **drop()** 메소드에 **axis=1** 옵션을 주어 열을 삭제합니다."
   ]
  },
  {
   "cell_type": "code",
   "execution_count": null,
   "metadata": {
    "colab": {},
    "colab_type": "code",
    "id": "w7nA3F_cRIJx",
    "scrolled": true
   },
   "outputs": [],
   "source": [
    "# Rank 열 제거\n",
    "graduate_new.drop('rank', axis=1, inplace=True)\n",
    "graduate_new.head()"
   ]
  },
  {
   "cell_type": "markdown",
   "metadata": {
    "colab_type": "text",
    "id": "z3yMbK3lwxor"
   },
   "source": [
    "**5) 열 이름 변경**\n",
    "\n",
    "- **rename()** 메소드를 사용해 가변수 열 이름을 인식하기 쉬운 이름으로 변경합니다. "
   ]
  },
  {
   "cell_type": "code",
   "execution_count": null,
   "metadata": {
    "colab": {},
    "colab_type": "code",
    "id": "IFJInPriATzo",
    "scrolled": false
   },
   "outputs": [],
   "source": [
    "# rename() 함수로 열 이름 변경\n",
    "graduate_new.rename(columns= {1: 'rank1', \n",
    "                              2: 'rank2', \n",
    "                              3: 'rank3', \n",
    "                              4: 'rank4'}, inplace=True)\n",
    "\n",
    "# 확인\n",
    "graduate_new.head()"
   ]
  },
  {
   "cell_type": "markdown",
   "metadata": {
    "colab_type": "text",
    "id": "xvfBmk_zjLwV"
   },
   "source": [
    "## 6.4. 데이터 재 구조화\n",
    "\n",
    "- 가끔은 열 이름이 데이터의 의미를 가지는 경우가 있습니다.\n",
    "- 이런 경우 열 이름에서 데이터를 추출해 행으로 내려야 합니다.(Unpivot 이라고 함).\n",
    "- **melt()** 함수를 사용해서 이러한 처리를 할 수 있으며, 이러한 작업을 데이터 재 구조화라 부릅니다."
   ]
  },
  {
   "cell_type": "markdown",
   "metadata": {
    "colab_type": "text",
    "id": "kJVe-MbqjLwX"
   },
   "source": [
    "### 6.4.1. Melt"
   ]
  },
  {
   "cell_type": "code",
   "execution_count": null,
   "metadata": {
    "colab": {},
    "colab_type": "code",
    "id": "d9J-AZpzjLwa",
    "scrolled": false
   },
   "outputs": [],
   "source": [
    "# 파일 불러오기\n",
    "file_path = 'https://raw.githubusercontent.com/jangrae/csv/master/pew.csv'\n",
    "pew = pd.read_csv(file_path)\n",
    "pew.head(5)"
   ]
  },
  {
   "cell_type": "markdown",
   "metadata": {
    "colab_type": "text",
    "id": "qDWxOcxFjLwg"
   },
   "source": [
    "- 위 데이터는 수입과 종교의 관계를 보여줍니다.\n",
    "- 표시된 결과의 열 이름 $10-20k 등은 수입을 의미합니다.\n",
    "- melt() 함수를 사용해 이 값을 행의 데이터로 내려봅니다.\n",
    "- **id_vars** 옵션에 고정될 열을 지정합니다."
   ]
  },
  {
   "cell_type": "code",
   "execution_count": null,
   "metadata": {
    "colab": {},
    "colab_type": "code",
    "id": "ngODvFknjLwh",
    "scrolled": true
   },
   "outputs": [],
   "source": [
    "# Unpivot 수행\n",
    "pew_long = pd.melt(pew, id_vars='religion')\n",
    "pew_long.head()"
   ]
  },
  {
   "cell_type": "markdown",
   "metadata": {
    "colab_type": "text",
    "id": "kS03mZh1jLwx"
   },
   "source": [
    "- **variable** 열이 수입(기존의 열 이름)을 갖는 열로 만들어 졌고, **value** 열이 원래 값을 가지면서 만들어졌습니다.\n",
    "- 필요하다면 다음과 같이 새로 만들어지는 열 이름을 지정할 수 있습니다.\n",
    "- **var_name** 옵션에는 variable을 대신 할 이름, **value_name** 옵션에는 value를 대신 할 이름을 지정합니다."
   ]
  },
  {
   "cell_type": "code",
   "execution_count": null,
   "metadata": {
    "colab": {},
    "colab_type": "code",
    "id": "gkQ2QgMZjLw0",
    "scrolled": true
   },
   "outputs": [],
   "source": [
    "# 열 이름 지정하기\n",
    "pew_long = pd.melt(pew, id_vars='religion', var_name='income', value_name='count')\n",
    "pew_long.head()"
   ]
  },
  {
   "cell_type": "markdown",
   "metadata": {
    "colab_type": "text",
    "id": "vsCw60g7jLw7"
   },
   "source": [
    "### 6.4.2. Unmelt\n",
    "\n",
    "- 다시 원래 형태로 바꾸고 싶다면 **pivot()** 메소드를 사용합니다.\n",
    "- **index** 옵션에 기준이 되는 열, **columns** 옵션에 열 이름이 될 열, **values** 옵션에 값이 될 열을 지정합니다."
   ]
  },
  {
   "cell_type": "code",
   "execution_count": null,
   "metadata": {
    "colab": {},
    "colab_type": "code",
    "id": "WGdx8UL9jLw9",
    "scrolled": true
   },
   "outputs": [],
   "source": [
    "# Pivot 수행\n",
    "pew_wide = pew_long.pivot(index='religion', columns='income', values='count')\n",
    "pew_wide.head()"
   ]
  },
  {
   "cell_type": "markdown",
   "metadata": {
    "colab_type": "text",
    "id": "NeeTkD-pjLxL"
   },
   "source": [
    "- **reset_index()** 메소드를 사용해 인덱스를 초기화 합니다."
   ]
  },
  {
   "cell_type": "code",
   "execution_count": null,
   "metadata": {
    "colab": {},
    "colab_type": "code",
    "id": "8tSr2lGFjLxM"
   },
   "outputs": [],
   "source": [
    "# 인덱스 초기화\n",
    "pew_wide.reset_index(inplace=True)\n",
    "pew_wide.head()"
   ]
  },
  {
   "cell_type": "markdown",
   "metadata": {
    "colab_type": "text",
    "id": "Lh7WhyT0jLxS"
   },
   "source": [
    "- 인덱스 값 위의 income은 열들을 대표하는 이름입니다.\n",
    "- **columns.name** 속성을 **None**으로 변경해서 이 이름을 제거할 수 있습니다."
   ]
  },
  {
   "cell_type": "code",
   "execution_count": null,
   "metadata": {
    "colab": {},
    "colab_type": "code",
    "id": "ppo7EjMAjLxT"
   },
   "outputs": [],
   "source": [
    "# 열을 대표하는 이름 제거\n",
    "pew_wide.columns.name = None\n",
    "pew_wide.head()"
   ]
  },
  {
   "cell_type": "markdown",
   "metadata": {
    "colab_type": "text",
    "id": "KqOHu2W4C_0R"
   },
   "source": [
    "## <center>수고하셨습니다.</center>\n",
    "<center><img src='https://raw.githubusercontent.com/Jangrae/img/master/end.png' width=200/></center>"
   ]
  }
 ],
 "metadata": {
  "colab": {
   "collapsed_sections": [],
   "name": "06 데이터프레임 변경 2단계.ipynb",
   "provenance": []
  },
  "kernelspec": {
   "display_name": "Python 3",
   "language": "python",
   "name": "python3"
  },
  "language_info": {
   "codemirror_mode": {
    "name": "ipython",
    "version": 3
   },
   "file_extension": ".py",
   "mimetype": "text/x-python",
   "name": "python",
   "nbconvert_exporter": "python",
   "pygments_lexer": "ipython3",
   "version": "3.7.6"
  }
 },
 "nbformat": 4,
 "nbformat_minor": 1
}
