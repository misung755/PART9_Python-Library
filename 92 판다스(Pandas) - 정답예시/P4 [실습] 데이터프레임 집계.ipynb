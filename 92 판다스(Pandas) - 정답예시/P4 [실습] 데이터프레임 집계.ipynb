{
 "cells": [
  {
   "cell_type": "markdown",
   "metadata": {
    "colab_type": "text",
    "id": "BFhIXgdYoYGp"
   },
   "source": [
    "<center><img src='https://raw.githubusercontent.com/Jangrae/img/master/title.png' width=500/></center>"
   ]
  },
  {
   "cell_type": "markdown",
   "metadata": {
    "colab_type": "text",
    "id": "d6jVPeiR2MK_"
   },
   "source": [
    "<center><img src='https://raw.githubusercontent.com/Jangrae/img/master/practice.png' width=300/></center>"
   ]
  },
  {
   "cell_type": "markdown",
   "metadata": {
    "colab_type": "text",
    "id": "XPR35vIu2MLB"
   },
   "source": [
    "# 실습 목표\n",
    "\n",
    "- 데이터를 집계할 수 있습니다.\n",
    "- 열 이름을 바꿀 수 있습니다.\n",
    "- 데이터프레임을 연결할 수 있습니다."
   ]
  },
  {
   "cell_type": "markdown",
   "metadata": {
    "colab_type": "text",
    "id": "66oW1jgUMp_O"
   },
   "source": [
    "# P4. [실습] 데이터프레임 집계"
   ]
  },
  {
   "cell_type": "code",
   "execution_count": null,
   "metadata": {
    "colab": {},
    "colab_type": "code",
    "id": "ZmkWTtrveLXy"
   },
   "outputs": [],
   "source": [
    "# 라이브러리와 불러오기\n",
    "import pandas as pd\n",
    "import numpy as np\n",
    "import matplotlib.pyplot as plt"
   ]
  },
  {
   "cell_type": "code",
   "execution_count": null,
   "metadata": {
    "colab": {},
    "colab_type": "code",
    "id": "b302Oclm2MLK"
   },
   "outputs": [],
   "source": [
    "# 파일 읽어오기\n",
    "graduate_file = 'https://raw.githubusercontent.com/Jangrae/csv/master/Graduate_apply.csv'\n",
    "titanic_file = 'https://raw.githubusercontent.com/Jangrae/csv/master/titanic_simple.csv'\n",
    "\n",
    "graduate = pd.read_csv(graduate_file, sep = ',') \n",
    "titanic = pd.read_csv(titanic_file, sep = ',') "
   ]
  },
  {
   "cell_type": "markdown",
   "metadata": {
    "colab_type": "text",
    "id": "WX2vk0oJdWcR"
   },
   "source": [
    "## graduate 데이터프레임 사용"
   ]
  },
  {
   "cell_type": "markdown",
   "metadata": {
    "colab_type": "text",
    "id": "q54YGz7Hddml"
   },
   "source": [
    "1) **groupby()** 메소드를 사용해 rank, admit 별 gre의 최댓값을 집계해서 **df_max** 데이터프레임을 만드세요."
   ]
  },
  {
   "cell_type": "code",
   "execution_count": null,
   "metadata": {
    "colab": {},
    "colab_type": "code",
    "id": "TXBGWEXIM3XQ",
    "scrolled": true
   },
   "outputs": [],
   "source": [
    "# rank, admit 별 gre의 최댓값\n",
    "df_max = graduate.groupby(by=['rank', 'admit'], as_index=False)['gre'].max()\n",
    "\n",
    "# 확인\n",
    "df_max.head()"
   ]
  },
  {
   "cell_type": "markdown",
   "metadata": {
    "colab_type": "text",
    "id": "B1-_d6SAdj_Z"
   },
   "source": [
    "2) **rename()** 메소드를 사용해 df_max 데이터프레임의 gre 열 이름을 gre_max로 변경하세요."
   ]
  },
  {
   "cell_type": "code",
   "execution_count": null,
   "metadata": {
    "colab": {},
    "colab_type": "code",
    "id": "AktDgm4XwxqG",
    "scrolled": true
   },
   "outputs": [],
   "source": [
    "# df_max 열 이름 변경: gre --> gre_max\n",
    "df_max.rename(columns={'gre':'gre_max'}, inplace=True)\n",
    "\n",
    "# 확인\n",
    "df_max.head()"
   ]
  },
  {
   "cell_type": "markdown",
   "metadata": {
    "colab_type": "text",
    "id": "3pYF_Lm8dnom"
   },
   "source": [
    "3) rank, admit 별 gre의 최솟값을 집계해서 **df_min** 데이터프레임을 만드세요."
   ]
  },
  {
   "cell_type": "code",
   "execution_count": null,
   "metadata": {
    "colab": {},
    "colab_type": "code",
    "id": "7aRPc12QwxqJ",
    "scrolled": true
   },
   "outputs": [],
   "source": [
    "# rank, admit 별 gre의 최솟값\n",
    "df_min = graduate.groupby(by=['rank', 'admit'], as_index=False)['gre'].min()\n",
    "\n",
    "# 확인\n",
    "df_min.head()"
   ]
  },
  {
   "cell_type": "markdown",
   "metadata": {
    "colab_type": "text",
    "id": "G141Z9-Sdx0k"
   },
   "source": [
    "4) df_min 데이터프레임의 gre 열 이름을열 이름을 gre_min으로 변경하세요."
   ]
  },
  {
   "cell_type": "code",
   "execution_count": null,
   "metadata": {
    "colab": {},
    "colab_type": "code",
    "id": "wPpCfFs3wxqL",
    "scrolled": true
   },
   "outputs": [],
   "source": [
    "# df_max 열 이름 변경: gre --> gre_min\n",
    "df_min.rename(columns={'gre':'gre_min'}, inplace=True)\n",
    "\n",
    "# 확인\n",
    "df_min.head()"
   ]
  },
  {
   "cell_type": "markdown",
   "metadata": {
    "colab_type": "text",
    "id": "PohdO-1hd1yj"
   },
   "source": [
    "5) **concat()** 함수를 사용해 df_max, df_min 데이터프레임을 붙여 **df_graduate** 데이터프레임을 만드세요.\n",
    "\n",
    "- 단, rank, admit, gre_max, gre_min을 갖는 데이터프레임이 되게 하세요."
   ]
  },
  {
   "cell_type": "code",
   "execution_count": null,
   "metadata": {
    "colab": {},
    "colab_type": "code",
    "id": "hgk3PH3MwxqN",
    "scrolled": true
   },
   "outputs": [],
   "source": [
    "# 데이터프레임 연결\n",
    "df_graduate = pd.concat([df_max, df_min['gre_min']], axis=1)\n",
    "\n",
    "# 확인\n",
    "df_graduate.head()"
   ]
  },
  {
   "cell_type": "markdown",
   "metadata": {
    "colab_type": "text",
    "id": "4EUHDxJmd6ST"
   },
   "source": [
    "6) gre_max에서 gre_min을 뺀 결괏값을 df_graduate 데이터프레임에 **gre_range** 열로 추가하세요."
   ]
  },
  {
   "cell_type": "code",
   "execution_count": null,
   "metadata": {
    "colab": {},
    "colab_type": "code",
    "id": "dA0IRgCTwxqQ",
    "scrolled": true
   },
   "outputs": [],
   "source": [
    "# gre_range 열 추가\n",
    "df_graduate['gre_range'] = df_graduate['gre_max'] - df_graduate['gre_min']\n",
    "\n",
    "# 확인\n",
    "df_graduate.head()"
   ]
  },
  {
   "cell_type": "markdown",
   "metadata": {
    "colab_type": "text",
    "id": "NzXCc_Nhd_NO"
   },
   "source": [
    "## titanic 데이터프레임 사용"
   ]
  },
  {
   "cell_type": "markdown",
   "metadata": {
    "colab_type": "text",
    "id": "Wm4Cw_FKeD54"
   },
   "source": [
    "7) 탑승지역(Embarked)별, 성별별, 평균 나이를 조회하세요."
   ]
  },
  {
   "cell_type": "code",
   "execution_count": null,
   "metadata": {
    "colab": {},
    "colab_type": "code",
    "id": "aP0fHTlCwxqY",
    "scrolled": true
   },
   "outputs": [],
   "source": [
    "# 탑승지역별, 성별별, 평균 나이\n",
    "titanic.groupby(by=['Embarked', 'Sex'], as_index=False)['Age'].mean()"
   ]
  },
  {
   "cell_type": "markdown",
   "metadata": {
    "colab_type": "text",
    "id": "1L2H5QuFeHZp"
   },
   "source": [
    "8) 객실등급별, 탑승지역별, 승객 수를 조회하세요."
   ]
  },
  {
   "cell_type": "code",
   "execution_count": null,
   "metadata": {
    "colab": {},
    "colab_type": "code",
    "id": "20Ebj_c4wxqe",
    "scrolled": true
   },
   "outputs": [],
   "source": [
    "# 객실등급별, 탑승지역별, 승객 수\n",
    "titanic.groupby(by=['Pclass', 'Embarked'], as_index=False)['PassengerId'].count()"
   ]
  },
  {
   "cell_type": "markdown",
   "metadata": {
    "colab_type": "text",
    "id": "KqOHu2W4C_0R"
   },
   "source": [
    "## <center>수고하셨습니다.</center>\n",
    "<center><img src='https://raw.githubusercontent.com/Jangrae/img/master/end.png' width=200/></center>"
   ]
  }
 ],
 "metadata": {
  "colab": {
   "collapsed_sections": [],
   "name": "P4 [실습] 데이터프레임 집계.ipynb",
   "provenance": []
  },
  "kernelspec": {
   "display_name": "Python 3",
   "language": "python",
   "name": "python3"
  },
  "language_info": {
   "codemirror_mode": {
    "name": "ipython",
    "version": 3
   },
   "file_extension": ".py",
   "mimetype": "text/x-python",
   "name": "python",
   "nbconvert_exporter": "python",
   "pygments_lexer": "ipython3",
   "version": "3.7.6"
  }
 },
 "nbformat": 4,
 "nbformat_minor": 1
}
