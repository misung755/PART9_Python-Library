{
 "cells": [
  {
   "cell_type": "markdown",
   "metadata": {
    "colab_type": "text",
    "id": "BFhIXgdYoYGp"
   },
   "source": [
    "<center><img src='https://raw.githubusercontent.com/Jangrae/img/master/title.png' width=500/></center>"
   ]
  },
  {
   "cell_type": "markdown",
   "metadata": {},
   "source": [
    "<center>- Pandas의 모든 것을 배우지 않습니다. 데이터 전처리에 대한 부분만 학습 대상이 됩니다 -</center>"
   ]
  },
  {
   "cell_type": "markdown",
   "metadata": {
    "colab_type": "text",
    "id": "DFijIAllYnVQ"
   },
   "source": [
    "# 학습 목표\n",
    "\n",
    "- 특정 값, 특정 행, 특정 열의 데이터를 조회할 수 있습니다.\n",
    "- 특정 조건을 만족하는 데이터를 조회할 수 있습니다."
   ]
  },
  {
   "cell_type": "markdown",
   "metadata": {
    "colab_type": "text",
    "id": "-sdzPN0Uwxi2"
   },
   "source": [
    "# 4. 데이터프레임 조회\n",
    "\n",
    "- 보고자 하는 데이터를 즉시 조회할 수 있도록 반복 학습과 실습을 통해 익숙해져야 합니다.\n",
    "- 데이터프레임을 대상으로 조회하는 방법은 다양합니다.\n",
    "- 각자가 편하다 느끼는 방법을 선택해 그것을 쓰면 됩니다."
   ]
  },
  {
   "cell_type": "code",
   "execution_count": null,
   "metadata": {
    "colab": {},
    "colab_type": "code",
    "id": "0wzhP3IXYnVQ"
   },
   "outputs": [],
   "source": [
    "# 라이브러리 불러오기\n",
    "import pandas as pd\n",
    "import numpy as np"
   ]
  },
  {
   "cell_type": "markdown",
   "metadata": {
    "colab_type": "text",
    "id": "WUSoqSxcYnV5"
   },
   "source": [
    "## 4.1. 데이터 불러오기"
   ]
  },
  {
   "cell_type": "code",
   "execution_count": null,
   "metadata": {
    "colab": {},
    "colab_type": "code",
    "id": "FfwQRjMzATka",
    "scrolled": true
   },
   "outputs": [],
   "source": [
    "# Titanic 데이터 불러오기\n",
    "file_path = 'https://raw.githubusercontent.com/Jangrae/csv/master/titanic_simple.csv'\n",
    "titanic = pd.read_csv(file_path, sep = ',', skipinitialspace = True)  \n",
    "titanic.head()"
   ]
  },
  {
   "cell_type": "code",
   "execution_count": null,
   "metadata": {
    "colab": {},
    "colab_type": "code",
    "id": "5RNOXdO-ATkn",
    "scrolled": true
   },
   "outputs": [],
   "source": [
    "# Stock 데이터 불러오기\n",
    "file_path = 'https://raw.githubusercontent.com/Jangrae/csv/master/stock.csv'\n",
    "stock = pd.read_csv(file_path, sep = ',', skipinitialspace = True)  \n",
    "\n",
    "# Date 열을 인덱스 열로 지정\n",
    "stock.set_index(['Date'], inplace = True)\n",
    "stock.index.name = None\n",
    "stock.head()"
   ]
  },
  {
   "cell_type": "markdown",
   "metadata": {
    "colab_type": "text",
    "id": "Mt5BqItLATk8"
   },
   "source": [
    "## 4.2. 이름으로 조회\n",
    "\n",
    "- **.loc[[행이름], [열이름]]**을 사용해 조회할 수 있습니다."
   ]
  },
  {
   "cell_type": "code",
   "execution_count": null,
   "metadata": {
    "colab": {},
    "colab_type": "code",
    "id": "TH8CN-tiYnV6",
    "scrolled": false
   },
   "outputs": [],
   "source": [
    "# 데이터프레임 확인\n",
    "stock.head()"
   ]
  },
  {
   "cell_type": "markdown",
   "metadata": {
    "colab_type": "text",
    "id": "zAUW_IsWATlL"
   },
   "source": [
    "**1) 열 조회**\n",
    "\n",
    "- **df.loc[:,['열이름']]** 형태로 조회하면 특정 열을 조회합니다.\n",
    "- 행 부분을 생략할 수는 없습니다."
   ]
  },
  {
   "cell_type": "code",
   "execution_count": null,
   "metadata": {
    "colab": {},
    "colab_type": "code",
    "id": "lcmP48_qmiVd",
    "scrolled": false
   },
   "outputs": [],
   "source": [
    "# Close 열 조회\n",
    "stock.loc[:,['Close']].head()"
   ]
  },
  {
   "cell_type": "markdown",
   "metadata": {
    "colab_type": "text",
    "id": "QBMZLdy2EhD2"
   },
   "source": [
    "- **df[['열이름']]** 형태로도 많이 사용합니다. \n",
    "- 열 하나를 지정할 때는 **df['열이름']** 형태로 사용합니다."
   ]
  },
  {
   "cell_type": "code",
   "execution_count": null,
   "metadata": {
    "colab": {},
    "colab_type": "code",
    "id": "cf2WXIVyEaJ3",
    "scrolled": false
   },
   "outputs": [],
   "source": [
    "# Close 열 조회\n",
    "stock['Close'].head()"
   ]
  },
  {
   "cell_type": "code",
   "execution_count": null,
   "metadata": {
    "colab": {},
    "colab_type": "code",
    "id": "at4E4ee8EWFM",
    "scrolled": false
   },
   "outputs": [],
   "source": [
    "# Close 열 조회 --> 데이터프레임\n",
    "stock[['Close']].head()"
   ]
  },
  {
   "cell_type": "markdown",
   "metadata": {
    "colab_type": "text",
    "id": "v7ymk6ljE9kK"
   },
   "source": [
    "- 열 이름을 여럿 나열하여 여러 열을 조회할 수 있습니다."
   ]
  },
  {
   "cell_type": "code",
   "execution_count": null,
   "metadata": {
    "colab": {},
    "colab_type": "code",
    "id": "yk6PNxuonXdW",
    "scrolled": false
   },
   "outputs": [],
   "source": [
    "# Open, Close, Volume 열 조회\n",
    "stock[['Open', 'Close', 'Volume']].head()"
   ]
  },
  {
   "cell_type": "markdown",
   "metadata": {
    "colab_type": "text",
    "id": "jM8B340nFFys"
   },
   "source": [
    "- 범위를 지정해 조회할 수 있습니다. \n",
    "- 범위 조회는 **df.loc[:,['열이름']]** 형태를 지켜야 합니다.\n",
    "- 또한 **대괄호를 사용하면 안됩니다.**"
   ]
  },
  {
   "cell_type": "code",
   "execution_count": null,
   "metadata": {
    "colab": {},
    "colab_type": "code",
    "id": "jMVfJcHzFFyu",
    "scrolled": false
   },
   "outputs": [],
   "source": [
    "# Open, Close, Volume 열 조회\n",
    "stock.loc[:, 'High':'Close'].head()"
   ]
  },
  {
   "cell_type": "markdown",
   "metadata": {
    "colab_type": "text",
    "id": "mHrKYYWip4Es"
   },
   "source": [
    "<img src='https://raw.githubusercontent.com/jangrae/img/master/practice_01.png' width=120 align=\"left\"/>"
   ]
  },
  {
   "cell_type": "markdown",
   "metadata": {
    "colab_type": "text",
    "id": "-hv9haY7DLyU"
   },
   "source": [
    "titanic 데이터프레임에 대해 열을 조회하는 아래 셀 내용욜 작성해 보세요."
   ]
  },
  {
   "cell_type": "code",
   "execution_count": null,
   "metadata": {
    "colab": {},
    "colab_type": "code",
    "id": "-VJoVHxgJQSn"
   },
   "outputs": [],
   "source": [
    "# 상위 5개 행 조회\n",
    "titanic.head()"
   ]
  },
  {
   "cell_type": "code",
   "execution_count": null,
   "metadata": {
    "colab": {},
    "colab_type": "code",
    "id": "gjg3QkkOJaVT"
   },
   "outputs": [],
   "source": [
    "# Name, Age, Pclass 열만 조회\n",
    "titanic[['Name', 'Age', 'Pclass']]"
   ]
  },
  {
   "cell_type": "code",
   "execution_count": null,
   "metadata": {
    "colab": {},
    "colab_type": "code",
    "id": "AqjqXOaUJlQP"
   },
   "outputs": [],
   "source": [
    "# Name, Age, Pclass 열만 Name 열을 기준으로 오름차순 정렬해서 조회\n",
    "titanic[['Name', 'Age', 'Pclass']].sort_values(by='Name')"
   ]
  },
  {
   "cell_type": "code",
   "execution_count": null,
   "metadata": {
    "colab": {},
    "colab_type": "code",
    "id": "Oy8UHSMUKPLg"
   },
   "outputs": [],
   "source": [
    "# Survived, Pclass, Sex, Age 열만 갖는 titanic_test 데이터프레임 만들기\n",
    "titanic_test = titanic[['Survived', 'Pclass', 'Sex', 'Age']]\n",
    "titanic_test.head()"
   ]
  },
  {
   "cell_type": "markdown",
   "metadata": {
    "colab_type": "text",
    "id": "eRnf8Ln1R8WY"
   },
   "source": [
    "**2) 행 조회**\n",
    "\n",
    "\n",
    "- **df.loc[[행이름]:,]** 형태로 조회하면 특정 행을 조회합니다.\n",
    "- **df.loc[[행이름]]** 형태로 **열 부분을 생략**할 수 있습니다."
   ]
  },
  {
   "cell_type": "code",
   "execution_count": null,
   "metadata": {
    "colab": {},
    "colab_type": "code",
    "id": "KHb_11idR8Wd",
    "scrolled": false
   },
   "outputs": [],
   "source": [
    "# 데이터프레임 확인\n",
    "stock.head()"
   ]
  },
  {
   "cell_type": "code",
   "execution_count": null,
   "metadata": {
    "colab": {},
    "colab_type": "code",
    "id": "UIHo0nDxR8Wn",
    "scrolled": false
   },
   "outputs": [],
   "source": [
    "# Date가 '2015-01-02'인 행 조회 --> 데이터프레임\n",
    "stock.loc[['2015-01-02'], :]"
   ]
  },
  {
   "cell_type": "code",
   "execution_count": null,
   "metadata": {
    "colab": {},
    "colab_type": "code",
    "id": "Bwz9lB9hR8Wr",
    "scrolled": false
   },
   "outputs": [],
   "source": [
    "# Date가 '2015-01-02', '2015-01-06', '2015-01-08'인 행 조회\n",
    "stock.loc[['2015-01-02', '2015-01-06', '2015-01-08'], :]"
   ]
  },
  {
   "cell_type": "markdown",
   "metadata": {
    "colab_type": "text",
    "id": "tgfnBUZRR8Wv"
   },
   "source": [
    "- 범위 조회(범위 마지막 값도 조회 결과에 포함됨)"
   ]
  },
  {
   "cell_type": "code",
   "execution_count": null,
   "metadata": {
    "colab": {},
    "colab_type": "code",
    "id": "mhwBUjeDR8Wv",
    "scrolled": true
   },
   "outputs": [],
   "source": [
    "# Date가 '2015-01-02' ~ '2015-01-08'인 행 조회\n",
    "stock.loc['2015-01-02':'2015-01-08', :]"
   ]
  },
  {
   "cell_type": "markdown",
   "metadata": {
    "colab_type": "text",
    "id": "uJMe5JswS6nU"
   },
   "source": [
    "**3) 행, 열 조회**\n",
    "\n",
    "- **df.loc[[행이름]:[열이름]]** 형태로 조회하면 특정 행의  특정 열을 조회합니다.\n"
   ]
  },
  {
   "cell_type": "code",
   "execution_count": null,
   "metadata": {
    "colab": {},
    "colab_type": "code",
    "id": "RkVRqVr2ATos",
    "scrolled": false
   },
   "outputs": [],
   "source": [
    "# Date가 '2015-01-02'인 행의 Close 열\n",
    "stock.loc[['2015-01-02'], ['Close']] "
   ]
  },
  {
   "cell_type": "code",
   "execution_count": null,
   "metadata": {
    "colab": {},
    "colab_type": "code",
    "id": "RfGUpQ2IATo3",
    "scrolled": true
   },
   "outputs": [],
   "source": [
    "# Date가 '2015-01-02' ~ '2015-01-08' 인 행의 Open ~ Close 열\n",
    "stock.loc['2015-01-02':'2015-01-08', 'Open':'Close']"
   ]
  },
  {
   "cell_type": "code",
   "execution_count": null,
   "metadata": {
    "colab": {},
    "colab_type": "code",
    "id": "fJtM21PlATo-",
    "scrolled": true
   },
   "outputs": [],
   "source": [
    "# Date가 2015-01-02' ~ '2015-01-08'인 행의 Open, Close, Volume 열\n",
    "stock.loc['2015-01-02':'2015-01-08', ['Open', 'Close', 'Volume']]"
   ]
  },
  {
   "cell_type": "code",
   "execution_count": null,
   "metadata": {
    "colab": {},
    "colab_type": "code",
    "id": "5rXLqMbnATpI",
    "scrolled": true
   },
   "outputs": [],
   "source": [
    "# Date가 '2015-01-02','2015-01-08'인 행의 Open, Close, Volume 열 \n",
    "stock.loc[['2015-01-02','2015-01-08'], ['Open', 'Close', 'Volume']]"
   ]
  },
  {
   "cell_type": "code",
   "execution_count": null,
   "metadata": {
    "colab": {},
    "colab_type": "code",
    "id": "NWV6fFxz2k7Y"
   },
   "outputs": [],
   "source": [
    "# Date가 '2019-01-01' 부터 모든 행의 Open, Close, Volume 열 \n",
    "stock.loc['2019-01-01':, ['Open', 'Close', 'Volume']] "
   ]
  },
  {
   "cell_type": "markdown",
   "metadata": {
    "colab_type": "text",
    "id": "-giVKAv7fHSW"
   },
   "source": [
    "<img src='https://raw.githubusercontent.com/jangrae/img/master/practice_01.png' width=120 align=\"left\"/>"
   ]
  },
  {
   "cell_type": "markdown",
   "metadata": {
    "colab_type": "text",
    "id": "53cFdwjTMeK2"
   },
   "source": [
    "stock 데이터프레임에 대해 행을 조회하는 아래 셀 내용욜 수정하거나 작성해 보세요."
   ]
  },
  {
   "cell_type": "code",
   "execution_count": null,
   "metadata": {
    "colab": {},
    "colab_type": "code",
    "id": "mjEbaobJMzIN",
    "scrolled": false
   },
   "outputs": [],
   "source": [
    "# 2018년 데이터 만 조회(수정 필요)\n",
    "stock.loc['2018']"
   ]
  },
  {
   "cell_type": "code",
   "execution_count": null,
   "metadata": {
    "colab": {},
    "colab_type": "code",
    "id": "lTZCyTJfNHOQ"
   },
   "outputs": [],
   "source": [
    "# 2019년 데이터만 갖는 stock_2019 데이터프레임 만들기\n",
    "stock_2019 = stock.loc['2019-01-01':'2019-12-31']\n",
    "stock_2019.head()"
   ]
  },
  {
   "cell_type": "markdown",
   "metadata": {
    "colab_type": "text",
    "id": "qxuITDywOjkY"
   },
   "source": [
    "2019년 12월 High, Low, Open, Close 데이터만 갖는 **stock_201912** 데이터프레임을 만들어 보세요."
   ]
  },
  {
   "cell_type": "code",
   "execution_count": null,
   "metadata": {
    "colab": {},
    "colab_type": "code",
    "id": "L-Yih73lOjki"
   },
   "outputs": [],
   "source": [
    "stock_201912 = stock.loc['2019-12-01':'2019-12-31', ['High', 'Low', 'Open', 'Close']]\n",
    "stock_201912"
   ]
  },
  {
   "cell_type": "code",
   "execution_count": null,
   "metadata": {
    "colab": {},
    "colab_type": "code",
    "id": "2svPAwJUPNjg"
   },
   "outputs": [],
   "source": [
    "# stock_201912 데이터프레임을 만든 후 다음 코드를 실행해 보세요.\n",
    "stock_201912.plot()"
   ]
  },
  {
   "cell_type": "code",
   "execution_count": null,
   "metadata": {},
   "outputs": [],
   "source": [
    "stock.head()"
   ]
  },
  {
   "cell_type": "markdown",
   "metadata": {
    "colab_type": "text",
    "id": "XSLcVdoPATmR"
   },
   "source": [
    "## 4.3. 위치로 조회\n",
    "\n",
    "- **df.iloc[[행번호],[열번호]]** 형태로 사용해 조회할 수 있습니다.\n",
    "- 행 번호, 열 번호를 지정하는 차이 외에는 .loc[]와 사용 방법이 같습니다.\n",
    "- 범위 조회시 범위 마지막 값은 조회 결과에 포함되지 않습니다."
   ]
  },
  {
   "cell_type": "code",
   "execution_count": null,
   "metadata": {
    "colab": {},
    "colab_type": "code",
    "id": "4zZt72P8ATmU",
    "scrolled": false
   },
   "outputs": [],
   "source": [
    "# 데이터프레임 확인\n",
    "stock.head()"
   ]
  },
  {
   "cell_type": "code",
   "execution_count": null,
   "metadata": {
    "colab": {},
    "colab_type": "code",
    "id": "gLL3x8wWYnV_",
    "scrolled": false
   },
   "outputs": [],
   "source": [
    "# 첫 번째 행 조회 --> 시리즈\n",
    "stock.iloc[0]"
   ]
  },
  {
   "cell_type": "code",
   "execution_count": null,
   "metadata": {
    "colab": {},
    "colab_type": "code",
    "id": "Qwl8U7kzATmn",
    "scrolled": false
   },
   "outputs": [],
   "source": [
    "# 두 번째 행 조회 --> 시리즈\n",
    "stock.iloc[1]"
   ]
  },
  {
   "cell_type": "code",
   "execution_count": null,
   "metadata": {
    "colab": {},
    "colab_type": "code",
    "id": "zIc6qOiWATmx",
    "scrolled": false
   },
   "outputs": [],
   "source": [
    "# 두 번째 행 조회\n",
    "stock.iloc[[1]]"
   ]
  },
  {
   "cell_type": "code",
   "execution_count": null,
   "metadata": {
    "colab": {},
    "colab_type": "code",
    "id": "etId8BH_Uq86",
    "scrolled": false
   },
   "outputs": [],
   "source": [
    "# 두 번째 열 조회\n",
    "stock.iloc[:, [1]]"
   ]
  },
  {
   "cell_type": "code",
   "execution_count": null,
   "metadata": {
    "colab": {},
    "colab_type": "code",
    "id": "WfWkmaQOATm4",
    "scrolled": false
   },
   "outputs": [],
   "source": [
    "# 첫 번쨰, 세 번쨰, 다섯 번째 행 조회\n",
    "stock.iloc[[0, 2, 4]]"
   ]
  },
  {
   "cell_type": "code",
   "execution_count": null,
   "metadata": {
    "colab": {},
    "colab_type": "code",
    "id": "PMXMj8iNYnWB",
    "scrolled": true
   },
   "outputs": [],
   "source": [
    "# 첫 번째 ~ 세 번째 행 조회\n",
    "stock.iloc[0:3]"
   ]
  },
  {
   "cell_type": "code",
   "execution_count": null,
   "metadata": {
    "colab": {},
    "colab_type": "code",
    "id": "CHSzzG-MU0Lg",
    "scrolled": false
   },
   "outputs": [],
   "source": [
    "# 첫 번째 ~ 세 번째 열 조회\n",
    "stock.iloc[:, 0:3]"
   ]
  },
  {
   "cell_type": "code",
   "execution_count": null,
   "metadata": {
    "colab": {},
    "colab_type": "code",
    "id": "a_nVnXpMAosw"
   },
   "outputs": [],
   "source": [
    "# 3의 배수인 행 조회\n",
    "stock.iloc[::3]"
   ]
  },
  {
   "cell_type": "markdown",
   "metadata": {
    "colab_type": "text",
    "id": "xts277eMfLiS"
   },
   "source": [
    "<img src='https://raw.githubusercontent.com/jangrae/img/master/practice_01.png' width=120 align=\"left\"/>"
   ]
  },
  {
   "cell_type": "markdown",
   "metadata": {
    "colab_type": "text",
    "id": "og2JswI0p7GJ"
   },
   "source": [
    "다음 셀들을 실행하면서 그 의미를 확인해 보세요."
   ]
  },
  {
   "cell_type": "code",
   "execution_count": null,
   "metadata": {
    "colab": {},
    "colab_type": "code",
    "id": "3_YNehA3YnWD",
    "scrolled": false
   },
   "outputs": [],
   "source": [
    "stock.iloc[1, 1]"
   ]
  },
  {
   "cell_type": "code",
   "execution_count": null,
   "metadata": {
    "colab": {},
    "colab_type": "code",
    "id": "iXzmU4Yxpy1U"
   },
   "outputs": [],
   "source": [
    "stock.iloc[1, -1]"
   ]
  },
  {
   "cell_type": "code",
   "execution_count": null,
   "metadata": {
    "colab": {},
    "colab_type": "code",
    "id": "hOcph2gbYnWF",
    "scrolled": false
   },
   "outputs": [],
   "source": [
    "stock.iloc[0:4, 0:3]"
   ]
  },
  {
   "cell_type": "code",
   "execution_count": null,
   "metadata": {
    "colab": {},
    "colab_type": "code",
    "id": "noORxk5RwJ0l"
   },
   "outputs": [],
   "source": [
    "stock.iloc[0:4, [0, 2, 4]]"
   ]
  },
  {
   "cell_type": "code",
   "execution_count": null,
   "metadata": {
    "colab": {},
    "colab_type": "code",
    "id": "B2evPNDrAJyB"
   },
   "outputs": [],
   "source": [
    "stock.iloc[::3, [0, 2, 4]]"
   ]
  },
  {
   "cell_type": "code",
   "execution_count": null,
   "metadata": {
    "colab": {},
    "colab_type": "code",
    "id": "AHOsUFgppfdW"
   },
   "outputs": [],
   "source": [
    "stock.iloc[-5:-1]"
   ]
  },
  {
   "cell_type": "markdown",
   "metadata": {
    "colab_type": "text",
    "id": "OK5DYqPYwxnB"
   },
   "source": [
    "## 4.4. 조건으로 조회\n",
    "\n",
    "- **df.loc[조건]** 형태로 조건을 지정해 조건에 만족하는 데이터만 조회할 수 있습니다.\n",
    "- 우선 조건이 제대로 판단이 되는지 확인한 후 그 **조건을 대 괄호 안에** 넣으면 됩니다."
   ]
  },
  {
   "cell_type": "code",
   "execution_count": null,
   "metadata": {},
   "outputs": [],
   "source": [
    "file_path = 'https://raw.githubusercontent.com/Jangrae/csv/master/Graduate_apply.csv'\n",
    "graduate = pd.read_csv(file_path)"
   ]
  },
  {
   "cell_type": "code",
   "execution_count": null,
   "metadata": {
    "colab": {},
    "colab_type": "code",
    "id": "iSseIGX0ATpj",
    "scrolled": true
   },
   "outputs": [],
   "source": [
    "# 데이터프레임 확인\n",
    "graduate.head()"
   ]
  },
  {
   "cell_type": "markdown",
   "metadata": {
    "colab_type": "text",
    "id": "HK5RKnbLATpo"
   },
   "source": [
    "**1) 조건 확인**"
   ]
  },
  {
   "cell_type": "code",
   "execution_count": null,
   "metadata": {
    "colab": {},
    "colab_type": "code",
    "id": "0F1Hu1buYnWG",
    "scrolled": false
   },
   "outputs": [],
   "source": [
    "# 조건을 비교한 결과(True/False) 값으로 반환됨\n",
    "graduate['gpa'] > 3.5"
   ]
  },
  {
   "cell_type": "markdown",
   "metadata": {
    "colab_type": "text",
    "id": "60zsY0EGATpv"
   },
   "source": [
    "**2) 단일 조건을 반족하는 행 조회**"
   ]
  },
  {
   "cell_type": "code",
   "execution_count": null,
   "metadata": {
    "colab": {},
    "colab_type": "code",
    "id": "Kp2lBEDTYnWI",
    "scrolled": true
   },
   "outputs": [],
   "source": [
    "# 조건을 비교한 결과 True 인 값 조회\n",
    "graduate.loc[graduate['gpa'] > 3.5].head()"
   ]
  },
  {
   "cell_type": "markdown",
   "metadata": {
    "colab_type": "text",
    "id": "JkiA7cEsATq9"
   },
   "source": [
    "**3) 여러 조건을 만족하는 행 조회**\n",
    "\n",
    "- [ ]안에 조건을 여러개 연결할 때 **and와 or 대신에 &와 |**를 사용해야 합니다.\n",
    "- 그리고 각 조건들은 **(조건1) & (조건2)** 형태로 괄호로 묶어야 합니다."
   ]
  },
  {
   "cell_type": "code",
   "execution_count": null,
   "metadata": {
    "colab": {},
    "colab_type": "code",
    "id": "Vj3YKKw3YnWL",
    "scrolled": true
   },
   "outputs": [],
   "source": [
    "# and 조건으로 여러 조건 함께 조회\n",
    "graduate.loc[(graduate['gpa'] > 3.0) & (graduate['rank'] == 3)].head()"
   ]
  },
  {
   "cell_type": "code",
   "execution_count": null,
   "metadata": {
    "colab": {},
    "colab_type": "code",
    "id": "KN6bdUHgLM1C",
    "scrolled": false
   },
   "outputs": [],
   "source": [
    "# or 조건으로 여러 조건 함께 조회\n",
    "graduate.loc[(graduate['gpa'] > 3.0) | (graduate['rank'] == 3)].head()"
   ]
  },
  {
   "cell_type": "markdown",
   "metadata": {
    "colab_type": "text",
    "id": "uiFKTXgA2OLW"
   },
   "source": [
    "**4) 편리한 isin(), between() 메소드**"
   ]
  },
  {
   "cell_type": "markdown",
   "metadata": {
    "colab_type": "text",
    "id": "yX-zLmdNATqp"
   },
   "source": [
    "- **isin([값1, 값2, 값3])**: 값1 또는 값2 또는 값3인 데이터만 조회합니다."
   ]
  },
  {
   "cell_type": "code",
   "execution_count": null,
   "metadata": {
    "colab": {},
    "colab_type": "code",
    "id": "QcvToTXBYnWJ"
   },
   "outputs": [],
   "source": [
    "# 여러 값을 한꺼번에 나열해서 비교\n",
    "graduate.loc[graduate['rank'].isin([1, 2])].head()"
   ]
  },
  {
   "cell_type": "code",
   "execution_count": null,
   "metadata": {
    "colab": {},
    "colab_type": "code",
    "id": "LJV566VUwxnO"
   },
   "outputs": [],
   "source": [
    "# 위 문장을 분리하면\n",
    "graduate.loc[(graduate['rank'] == 1) | (graduate['rank'] == 2)].head()"
   ]
  },
  {
   "cell_type": "markdown",
   "metadata": {
    "colab_type": "text",
    "id": "tEv4D7z_3kBn"
   },
   "source": [
    "- **between(값1, 값2)**: 값1 ~ 값2까지 범위안의 데이터만 조회합니다."
   ]
  },
  {
   "cell_type": "code",
   "execution_count": null,
   "metadata": {
    "colab": {},
    "colab_type": "code",
    "id": "IvnE4lU12L2H"
   },
   "outputs": [],
   "source": [
    "# 어디부터 어디까지 범위를 한 번에 지정\n",
    "graduate.loc[graduate['rank'].between(1, 3)].head()"
   ]
  },
  {
   "cell_type": "code",
   "execution_count": null,
   "metadata": {
    "colab": {},
    "colab_type": "code",
    "id": "9Qw8PEVn4dBd"
   },
   "outputs": [],
   "source": [
    "# 위 문장을 분리하면\n",
    "graduate.loc[(graduate['rank'] >= 1) & (graduate['rank'] <= 3)].head()"
   ]
  },
  {
   "cell_type": "markdown",
   "metadata": {
    "colab_type": "text",
    "id": "NOAU79x5ATrR"
   },
   "source": [
    "**5) 조건을 만족하는 행의 일부 열 조회**\n",
    "\n",
    "- **df.loc[조건, ['열']]** 형태로 열 하나, 또는 **df.loc[조건, ['열1', '열2']]** 형태로 여러 열을 조회합니다."
   ]
  },
  {
   "cell_type": "code",
   "execution_count": null,
   "metadata": {
    "colab": {},
    "colab_type": "code",
    "id": "YP0xnwhwATrS",
    "scrolled": false
   },
   "outputs": [],
   "source": [
    "# 조건에 맞는 하나의 열 조회\n",
    "graduate.loc[graduate['gpa'] > 3.0, ['gre']].head()"
   ]
  },
  {
   "cell_type": "code",
   "execution_count": null,
   "metadata": {
    "colab": {},
    "colab_type": "code",
    "id": "Ik6uFmsyi8FQ"
   },
   "outputs": [],
   "source": [
    "# 조건에 맞는 여러 열 조회\n",
    "graduate.loc[graduate['gpa'] > 3.0, ['admit', 'gpa', 'gre']].head()"
   ]
  },
  {
   "cell_type": "markdown",
   "metadata": {
    "colab_type": "text",
    "id": "UkLbbWM3fQ5l"
   },
   "source": [
    "<img src='https://raw.githubusercontent.com/jangrae/img/master/practice_01.png' width=120 align=\"left\"/>"
   ]
  },
  {
   "cell_type": "markdown",
   "metadata": {
    "colab_type": "text",
    "id": "IIUsRn8cRqcu"
   },
   "source": [
    "Close가 Low와 같은 행의 High, Low, Open, Close만 앞의 5행만 조회해 보세요."
   ]
  },
  {
   "cell_type": "code",
   "execution_count": null,
   "metadata": {
    "colab": {},
    "colab_type": "code",
    "id": "5xp3pJWvRYR7"
   },
   "outputs": [],
   "source": [
    "# Close와 Low가 같은 5개 행 조회\n",
    "stock.loc[stock['Close'] == stock['Low'], ['High', 'Low', 'Open', 'Close']].head(5)"
   ]
  },
  {
   "cell_type": "markdown",
   "metadata": {
    "colab_type": "text",
    "id": "5wRgdk13CxBK"
   },
   "source": [
    "Close가 가장 큰 High, Low, Open, Close를 조회해 보세요."
   ]
  },
  {
   "cell_type": "code",
   "execution_count": null,
   "metadata": {
    "colab": {},
    "colab_type": "code",
    "id": "5834KrpGCxBK"
   },
   "outputs": [],
   "source": [
    "# Close가 가장 큰 행 조회\n",
    "stock.loc[stock['Close'] == stock['Close'].max(), ['High', 'Low', 'Open', 'Close']]"
   ]
  },
  {
   "cell_type": "markdown",
   "metadata": {
    "colab_type": "text",
    "id": "EPiksGMbwxnX"
   },
   "source": [
    "**6) 문자열에 있는 특정 문자 검색**\n",
    "\n",
    "- **contains()** 메소드를 사용해 문자열 포함 여부를 조건으로 지정할 수 있습니다."
   ]
  },
  {
   "cell_type": "code",
   "execution_count": null,
   "metadata": {
    "colab": {},
    "colab_type": "code",
    "id": "Uvy6x0hHg55P"
   },
   "outputs": [],
   "source": [
    "# 데이터프레임 확인\n",
    "titanic.head()"
   ]
  },
  {
   "cell_type": "code",
   "execution_count": null,
   "metadata": {
    "colab": {},
    "colab_type": "code",
    "id": "Qy0bmDjGg0GD"
   },
   "outputs": [],
   "source": [
    "# 조건문 작성\n",
    "titanic['Name'].str.contains('May')"
   ]
  },
  {
   "cell_type": "code",
   "execution_count": null,
   "metadata": {
    "colab": {},
    "colab_type": "code",
    "id": "TuGmmLdmhMSM"
   },
   "outputs": [],
   "source": [
    "# 조건을 만족하는 행 찾기\n",
    "titanic.loc[titanic['Name'].str.contains('May')]"
   ]
  },
  {
   "cell_type": "markdown",
   "metadata": {
    "colab_type": "text",
    "id": "po7MS1EwXovc"
   },
   "source": [
    "## 4.5. 기본 집계"
   ]
  },
  {
   "cell_type": "markdown",
   "metadata": {
    "colab_type": "text",
    "id": "DZwznq_YPFcP"
   },
   "source": [
    "### 4.5.1. 고유값 확인\n",
    "\n",
    "- 범주형 열(열이 가진 값이 일정한 값인 경우, 성별, 등급 등)인지 확인하는 대표적인 방법입니다."
   ]
  },
  {
   "cell_type": "code",
   "execution_count": null,
   "metadata": {
    "colab": {},
    "colab_type": "code",
    "id": "A0c6CMhbEpSX"
   },
   "outputs": [],
   "source": [
    "# Embarked 열 고유값 확인\n",
    "titanic['Embarked'].unique()"
   ]
  },
  {
   "cell_type": "code",
   "execution_count": null,
   "metadata": {
    "colab": {},
    "colab_type": "code",
    "id": "-Q-y5ii8OnRp"
   },
   "outputs": [],
   "source": [
    "# Embarked 열 고유값 개수 확인, NaN 값 제외\n",
    "titanic['Embarked'].value_counts()"
   ]
  },
  {
   "cell_type": "code",
   "execution_count": null,
   "metadata": {
    "colab": {},
    "colab_type": "code",
    "id": "PQT-C8GPXS7F"
   },
   "outputs": [],
   "source": [
    "# Embarked 열 고유값 개수 확인, NaN값 포함\n",
    "titanic['Embarked'].value_counts(dropna=False)"
   ]
  },
  {
   "cell_type": "code",
   "execution_count": null,
   "metadata": {
    "colab": {},
    "colab_type": "code",
    "id": "r14W1fvuPQHx"
   },
   "outputs": [],
   "source": [
    "# Pclass 열 고유값 개수 확인\n",
    "titanic['Pclass'].value_counts(dropna=False)"
   ]
  },
  {
   "cell_type": "markdown",
   "metadata": {
    "colab_type": "text",
    "id": "imj3o34pP5J3"
   },
   "source": [
    "### 4.5.2. 기본 통계 함수 사용\n",
    "\n",
    "- 데이터를 1차 집계 한 후 분석을 진행하는 경우가 많으므로 필히 알라두어야 할 내용입니다.\n",
    "- 이후에 배우는 Groupby 기능에서 같이 사용됩니다."
   ]
  },
  {
   "cell_type": "markdown",
   "metadata": {
    "colab_type": "text",
    "id": "erkdhbRHRCK2"
   },
   "source": [
    "**1) 합, 평균값**"
   ]
  },
  {
   "cell_type": "code",
   "execution_count": null,
   "metadata": {
    "colab": {},
    "colab_type": "code",
    "id": "4TkxQvh-QFuC"
   },
   "outputs": [],
   "source": [
    "# 모든 열 합계 조회\n",
    "titanic.sum()"
   ]
  },
  {
   "cell_type": "code",
   "execution_count": null,
   "metadata": {
    "colab": {},
    "colab_type": "code",
    "id": "q1dXybktA8i6"
   },
   "outputs": [],
   "source": [
    "# 모든 열 평균값 조회\n",
    "titanic.mean()"
   ]
  },
  {
   "cell_type": "code",
   "execution_count": null,
   "metadata": {
    "colab": {},
    "colab_type": "code",
    "id": "gCTaAoghOtFd"
   },
   "outputs": [],
   "source": [
    "# Fare 열 합계 조회\n",
    "titanic['Fare'].sum()"
   ]
  },
  {
   "cell_type": "code",
   "execution_count": null,
   "metadata": {
    "colab": {},
    "colab_type": "code",
    "id": "EN1swYgLBDTI"
   },
   "outputs": [],
   "source": [
    "# Age, Fare 열 평균값 확인\n",
    "titanic[['Age', 'Fare']].mean()"
   ]
  },
  {
   "cell_type": "markdown",
   "metadata": {
    "colab_type": "text",
    "id": "fKGAzhyMSki2"
   },
   "source": [
    "**2) 최댓값, 최솟값**"
   ]
  },
  {
   "cell_type": "code",
   "execution_count": null,
   "metadata": {
    "colab": {},
    "colab_type": "code",
    "id": "3_bkgnbbSrSe"
   },
   "outputs": [],
   "source": [
    "# 모든 열 최댓값 조회\n",
    "titanic.max()"
   ]
  },
  {
   "cell_type": "code",
   "execution_count": null,
   "metadata": {
    "colab": {},
    "colab_type": "code",
    "id": "HW_HYJYWBMxZ"
   },
   "outputs": [],
   "source": [
    "# 모든 행 최솟값 조회\n",
    "titanic.min()"
   ]
  },
  {
   "cell_type": "code",
   "execution_count": null,
   "metadata": {
    "colab": {},
    "colab_type": "code",
    "id": "uSatNX0BBNpe"
   },
   "outputs": [],
   "source": [
    "# Fare 열 최댓값 조회\n",
    "titanic['Fare'].max()"
   ]
  },
  {
   "cell_type": "code",
   "execution_count": null,
   "metadata": {
    "colab": {},
    "colab_type": "code",
    "id": "7LIP3lZnBPde"
   },
   "outputs": [],
   "source": [
    "# Age, Fare 열 최솟값 조회\n",
    "titanic[['Age', 'Fare']].min()"
   ]
  },
  {
   "cell_type": "markdown",
   "metadata": {
    "colab_type": "text",
    "id": "rc24C5p1KN5E"
   },
   "source": [
    "## <center>수고하셨습니다.</center>\n",
    "<center><img src='https://raw.githubusercontent.com/Jangrae/img/master/end.png' width=200/></center>"
   ]
  }
 ],
 "metadata": {
  "colab": {
   "collapsed_sections": [],
   "name": "04 데이터프레임 조회.ipynb",
   "provenance": []
  },
  "kernelspec": {
   "display_name": "Python 3",
   "language": "python",
   "name": "python3"
  },
  "language_info": {
   "codemirror_mode": {
    "name": "ipython",
    "version": 3
   },
   "file_extension": ".py",
   "mimetype": "text/x-python",
   "name": "python",
   "nbconvert_exporter": "python",
   "pygments_lexer": "ipython3",
   "version": "3.7.6"
  }
 },
 "nbformat": 4,
 "nbformat_minor": 1
}
