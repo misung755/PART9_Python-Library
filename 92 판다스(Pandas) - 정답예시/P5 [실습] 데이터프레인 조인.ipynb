{
 "cells": [
  {
   "cell_type": "markdown",
   "metadata": {
    "colab_type": "text",
    "id": "BFhIXgdYoYGp"
   },
   "source": [
    "<center><img src='https://raw.githubusercontent.com/Jangrae/img/master/title.png' width=500/></center>"
   ]
  },
  {
   "cell_type": "markdown",
   "metadata": {
    "colab_type": "text",
    "id": "ZL7qtmsDGtwk"
   },
   "source": [
    "<center><img src='https://raw.githubusercontent.com/Jangrae/img/master/practice.png' width=300/></center>"
   ]
  },
  {
   "cell_type": "markdown",
   "metadata": {
    "colab_type": "text",
    "id": "8f_GOwiqGtwl"
   },
   "source": [
    "# 실습 목표\n",
    "\n",
    "- 데이터를 집계할 수 있습니다.\n",
    "- 열 이름을 바꿀 수 있습니다.\n",
    "- 데이터프레임을 조인할 수 있습니다."
   ]
  },
  {
   "cell_type": "markdown",
   "metadata": {
    "colab_type": "text",
    "id": "L14aTzDENWv3"
   },
   "source": [
    "# P5. [실습] 데이터프레임 조인"
   ]
  },
  {
   "cell_type": "code",
   "execution_count": null,
   "metadata": {
    "colab": {},
    "colab_type": "code",
    "id": "Q1Z0Gzo1jmEY"
   },
   "outputs": [],
   "source": [
    "# 라이브러리 불러오기\n",
    "import pandas as pd\n",
    "import numpy as np\n",
    "import matplotlib.pyplot as plt"
   ]
  },
  {
   "cell_type": "code",
   "execution_count": null,
   "metadata": {
    "colab": {},
    "colab_type": "code",
    "id": "LTO6BRAiGtwp"
   },
   "outputs": [],
   "source": [
    "# 파일 불러오기\n",
    "file_path = 'https://raw.githubusercontent.com/Jangrae/csv/master/Graduate_apply.csv'\n",
    "graduate = pd.read_csv(file_path, sep = ',', skipinitialspace = True) \n",
    "\n",
    "file_path = 'https://raw.githubusercontent.com/Jangrae/csv/master/titanic_simple.csv'\n",
    "titanic = pd.read_csv(file_path, sep = ',', skipinitialspace = True) "
   ]
  },
  {
   "cell_type": "markdown",
   "metadata": {
    "colab_type": "text",
    "id": "835Jajwnji1L"
   },
   "source": [
    "## graduate 데이터프레임 사용"
   ]
  },
  {
   "cell_type": "markdown",
   "metadata": {
    "colab_type": "text",
    "id": "R-PlkBKxjBsW"
   },
   "source": [
    "1) **groupby()** 메소드를 사용해 rank 별 gre, gpa 최댓값을 집계해서 **df_max** 데이터프레임을 만드세요."
   ]
  },
  {
   "cell_type": "code",
   "execution_count": null,
   "metadata": {
    "colab": {},
    "colab_type": "code",
    "id": "5uBLKPN_wxq8"
   },
   "outputs": [],
   "source": [
    "# 집계\n",
    "df_max = graduate.groupby(by='rank', as_index=False)[['gre','gpa']].max()\n",
    "\n",
    "# 확인\n",
    "df_max.head()"
   ]
  },
  {
   "cell_type": "markdown",
   "metadata": {
    "colab_type": "text",
    "id": "kUIvFmEWGtwv"
   },
   "source": [
    "2) **rename()** 메소드를 사용해 df_max 데이터프레임의 열 gre, gpa를 각각 gre_max, gpa_max로 변경하세요."
   ]
  },
  {
   "cell_type": "code",
   "execution_count": null,
   "metadata": {
    "colab": {},
    "colab_type": "code",
    "id": "kXaXQG4qGtwv"
   },
   "outputs": [],
   "source": [
    "# 열 이름 변경\n",
    "df_max.rename(columns={'gre':'gre_max', 'gpa':'gpa_max'}, inplace=True)\n",
    "\n",
    "# 확인\n",
    "df_max.head()"
   ]
  },
  {
   "cell_type": "markdown",
   "metadata": {
    "colab_type": "text",
    "id": "n0yzwwWwjNNb"
   },
   "source": [
    "3) rank 별 gre, gpa 최솟값을 집계해서 **df_min** 데이터프레임을 만드세요."
   ]
  },
  {
   "cell_type": "code",
   "execution_count": null,
   "metadata": {
    "colab": {},
    "colab_type": "code",
    "id": "TaejXlLZwxrD"
   },
   "outputs": [],
   "source": [
    "# 집계\n",
    "df_min = graduate.groupby(by='rank', as_index=False)[['gre','gpa']].min()\n",
    "\n",
    "# 확인\n",
    "df_min.head()"
   ]
  },
  {
   "cell_type": "markdown",
   "metadata": {
    "colab_type": "text",
    "id": "p-zYtOsTGtw0"
   },
   "source": [
    "4) df_min 데이터프레임의 열 gre, gpa를 각각 gre_min, gpa_min로 변경하세요."
   ]
  },
  {
   "cell_type": "code",
   "execution_count": null,
   "metadata": {
    "colab": {},
    "colab_type": "code",
    "id": "IVz9Y7x3Gtw1"
   },
   "outputs": [],
   "source": [
    "# 열 이름 변경\n",
    "df_min.rename(columns = {'gre':'gre_min', 'gpa':'gpa_min'},inplace=True)\n",
    "\n",
    "# 확인\n",
    "df_min.head()"
   ]
  },
  {
   "cell_type": "markdown",
   "metadata": {
    "colab_type": "text",
    "id": "6vPZMsXUjUih"
   },
   "source": [
    "5) **merge()** 함수를 사용해 df_max, df_min 데이터프레임을 inner 조인한 결과를 갖는 **df_graduate** 데이터프레임을 만드세요."
   ]
  },
  {
   "cell_type": "code",
   "execution_count": null,
   "metadata": {
    "colab": {},
    "colab_type": "code",
    "id": "Qc4ap82mwxrH"
   },
   "outputs": [],
   "source": [
    "# 조인\n",
    "df_graduate = pd.merge(df_max, df_min, on='rank', how='inner')\n",
    "\n",
    "#확인\n",
    "df_graduate.head()"
   ]
  },
  {
   "cell_type": "markdown",
   "metadata": {
    "colab_type": "text",
    "id": "OtFGubJVjZM6"
   },
   "source": [
    "## titanic 데이터프레임 사용"
   ]
  },
  {
   "cell_type": "markdown",
   "metadata": {
    "colab_type": "text",
    "id": "U-_2jBRQjdpi"
   },
   "source": [
    "4) 탑승지역, 성별 별 평균 나이, 최소 나이, 최대 나이를 갖는 데이터프레임을 각각 만들고 조회하세요.\n",
    "\n",
    "- 데이터프레임 이름은 df_mean, df_max, df_min이 되게 하세요."
   ]
  },
  {
   "cell_type": "code",
   "execution_count": null,
   "metadata": {
    "colab": {},
    "colab_type": "code",
    "id": "b1mgvjxjwxrJ"
   },
   "outputs": [],
   "source": [
    "# df_mean 만들기\n",
    "df_mean = titanic.groupby(by=['Embarked', 'Sex'], as_index=False)['Age'].mean()\n",
    "\n",
    "# 확인\n",
    "df_mean.head()"
   ]
  },
  {
   "cell_type": "code",
   "execution_count": null,
   "metadata": {
    "colab": {},
    "colab_type": "code",
    "id": "VR8gPiFHGtw8"
   },
   "outputs": [],
   "source": [
    "# df_max 만들기\n",
    "df_max = titanic.groupby(by=['Embarked', 'Sex'], as_index=False)['Age'].max()\n",
    "\n",
    "# 확인\n",
    "df_max.head()"
   ]
  },
  {
   "cell_type": "code",
   "execution_count": null,
   "metadata": {
    "colab": {},
    "colab_type": "code",
    "id": "zYUk1UeFGtw_"
   },
   "outputs": [],
   "source": [
    "# df_min 만들기\n",
    "df_min = titanic.groupby(by=['Embarked', 'Sex'], as_index=False)['Age'].min()\n",
    "\n",
    "# 확인\n",
    "df_min.head()"
   ]
  },
  {
   "cell_type": "markdown",
   "metadata": {
    "colab_type": "text",
    "id": "2zXHOrDxGtxB"
   },
   "source": [
    "5) df_mean, df_max, df_min 데이터프레임의 Age 열 이름을 각각 age_mean, age_max, age_min으로 바꾸세요."
   ]
  },
  {
   "cell_type": "code",
   "execution_count": null,
   "metadata": {
    "colab": {},
    "colab_type": "code",
    "id": "4GTWBGMxGtxB"
   },
   "outputs": [],
   "source": [
    "# df_mean 열 이름 변경: Age --> Age_mean\n",
    "df_mean.rename(columns={'Age':'Age_mean'}, inplace=True)\n",
    "\n",
    "# 확인\n",
    "df_mean.head()"
   ]
  },
  {
   "cell_type": "code",
   "execution_count": null,
   "metadata": {
    "colab": {},
    "colab_type": "code",
    "id": "4HZkVboJGtxE",
    "scrolled": true
   },
   "outputs": [],
   "source": [
    "# df_max 열 이름 변경: Age --> Age_max\n",
    "df_max.rename(columns={'Age':'Age_max'}, inplace=True)\n",
    "\n",
    "# 확인\n",
    "df_max.head()"
   ]
  },
  {
   "cell_type": "code",
   "execution_count": null,
   "metadata": {
    "colab": {},
    "colab_type": "code",
    "id": "5imUi-miGtxG"
   },
   "outputs": [],
   "source": [
    "# df_min 열 이름 변경: Age --> Age_min\n",
    "df_min.rename(columns={'Age':'Age_min'}, inplace=True)\n",
    "\n",
    "# 확인\n",
    "df_min.head()"
   ]
  },
  {
   "cell_type": "markdown",
   "metadata": {
    "colab_type": "text",
    "id": "ofV97U6UGtxI"
   },
   "source": [
    "6) df_mean, df_max, df_min 데이터프레임을 조인해서 **df_titanic** 데이터프레임을 만드세요."
   ]
  },
  {
   "cell_type": "code",
   "execution_count": null,
   "metadata": {
    "colab": {},
    "colab_type": "code",
    "id": "Nt5uh4qqGtxI"
   },
   "outputs": [],
   "source": [
    "# 조인\n",
    "df_titanic = pd.merge(pd.merge(df_mean, df_max), df_min)\n",
    "\n",
    "# 확인\n",
    "df_titanic.head(10)"
   ]
  },
  {
   "cell_type": "markdown",
   "metadata": {
    "colab_type": "text",
    "id": "KqOHu2W4C_0R"
   },
   "source": [
    "## <center>수고하셨습니다.</center>\n",
    "<center><img src='https://raw.githubusercontent.com/Jangrae/img/master/end.png' width=200/></center>"
   ]
  }
 ],
 "metadata": {
  "colab": {
   "collapsed_sections": [],
   "name": "P5 [실습] 데이터프레인 조인.ipynb",
   "provenance": []
  },
  "kernelspec": {
   "display_name": "Python 3",
   "language": "python",
   "name": "python3"
  },
  "language_info": {
   "codemirror_mode": {
    "name": "ipython",
    "version": 3
   },
   "file_extension": ".py",
   "mimetype": "text/x-python",
   "name": "python",
   "nbconvert_exporter": "python",
   "pygments_lexer": "ipython3",
   "version": "3.7.6"
  }
 },
 "nbformat": 4,
 "nbformat_minor": 1
}
