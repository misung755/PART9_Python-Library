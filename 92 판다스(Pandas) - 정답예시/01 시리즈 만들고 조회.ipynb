{
 "cells": [
  {
   "cell_type": "markdown",
   "metadata": {
    "colab_type": "text",
    "id": "BFhIXgdYoYGp"
   },
   "source": [
    "<center><img src='https://raw.githubusercontent.com/Jangrae/img/master/title.png' width=500/></center>"
   ]
  },
  {
   "cell_type": "markdown",
   "metadata": {},
   "source": [
    "<center>- Pandas의 모든 것을 배우지 않습니다. 데이터 전처리에 대한 부분만 학습 대상이 됩니다 -</center>"
   ]
  },
  {
   "cell_type": "markdown",
   "metadata": {
    "colab_type": "text",
    "id": "DFijIAllYnVQ"
   },
   "source": [
    "# 학습 목표\n",
    "\n",
    "- 시리즈와 데이터프레임 차이를 이해합니다.\n",
    "- 리스트와 딕셔너리에서 시리즈를 만들 수 있습니다.\n",
    "- 시리즈의 인덱스를 변경하거나 초기화할 수 있습니다.\n",
    "- 시리즈에 대한 기본 정보를 확인할 수 있습니다.\n",
    "- 시리즈를 대상으로 기본적인 조회와 연산을 할 수 있습니다."
   ]
  },
  {
   "cell_type": "markdown",
   "metadata": {
    "colab_type": "text",
    "id": "MD6G-h7bIHmx"
   },
   "source": [
    "# 0. 소개\n",
    "\n",
    "- Pandas는 파이썬 언어로 데이터 분석을 쉽게 할 수 있는 데이터 구조와 기능을 제공합니다.\n",
    "- Pandas 기능들을 사용하면 데이터 분석 과정 중 하나인 **데이터 전처리**를 쉽게 할 수 있습니다.\n",
    "- 머신러닝 또는 딥러닝 분야를 공부하려면 꼭 알아야 하는 **데이터 분석 필수 라이브러리**입니다."
   ]
  },
  {
   "cell_type": "markdown",
   "metadata": {
    "colab_type": "text",
    "id": "sRa8AQq-IHmy"
   },
   "source": [
    "## 시리즈와 데이터프레임\n",
    "\n",
    "- **시리즈**는 **하나의 열**을 가지며, **데이터프레임**은 **하나 이상의 열**을 가짐이 가장 큰 차이입니다.\n",
    "- 아래 이미지처럼 **시리즈를 여러 개 합쳐진 것이 데이터프레임**이라고 할 수 있습니다."
   ]
  },
  {
   "cell_type": "markdown",
   "metadata": {
    "colab_type": "text",
    "id": "0MkXLk6lIHmz"
   },
   "source": [
    "<img src='https://raw.githubusercontent.com/Jangrae/img/master/series_dataframe.png' width=600 align=\"left\"/>"
   ]
  },
  {
   "cell_type": "markdown",
   "metadata": {
    "colab_type": "text",
    "id": "fclG3AdOwxiX"
   },
   "source": [
    "# 1. 시리즈"
   ]
  },
  {
   "cell_type": "markdown",
   "metadata": {
    "colab_type": "text",
    "id": "gzR7U9FjIHm2"
   },
   "source": [
    "- 시리즈는 데이터프레임과 더불어 Pandas가 제공하는 자료구조 중 하나입니다.\n",
    "- 시리즈는 **인덱스(Index)와 값(Value)으로 구성**됩니다.\n",
    "- 키(Key)와 값(values)으로 구성되는 딕셔너리와 형태가 유사합니다.\n",
    "- 데이터프레임에 대한 정보, 일부 데이터 또는 집계 결과가 시리즈 형태를 갖는 경우가 많습니다."
   ]
  },
  {
   "cell_type": "markdown",
   "metadata": {
    "colab_type": "text",
    "id": "wzQkFpt8IHm3"
   },
   "source": [
    "<img src='https://raw.githubusercontent.com/Jangrae/img/master/series.png' width=400 align=\"left\"/>"
   ]
  },
  {
   "cell_type": "markdown",
   "metadata": {
    "colab_type": "text",
    "id": "rW04KXA9IHm4"
   },
   "source": [
    "- Pandas를 사용하려면 **pandas 라이브러리**를 불러와야 하며 일반적으로 **pd** 별칭을 사용합니다.\n",
    "- Numpy 기능도 종종 필요하므로 **numpy 라이브러리**를 **np** 별칭을 주어 불러옵니다."
   ]
  },
  {
   "cell_type": "code",
   "execution_count": null,
   "metadata": {
    "colab": {},
    "colab_type": "code",
    "id": "0wzhP3IXYnVQ"
   },
   "outputs": [],
   "source": [
    "# 라이브러리 불러오기\n",
    "import pandas as pd\n",
    "import numpy as np"
   ]
  },
  {
   "cell_type": "markdown",
   "metadata": {
    "colab_type": "text",
    "id": "4VnU7aq-IRh5"
   },
   "source": [
    "## 1.1. 시리즈 만들기\n",
    "\n",
    "- 다른 자료형을 **pd.Series()** 함수를 사용해 시리즈로 변환할 수 있습니다.\n",
    "- series()가 아니고 첫 글자가 대문자로 시작하는 <font color='red'>**S**</font>eries()임에 주의해야 합니다."
   ]
  },
  {
   "cell_type": "markdown",
   "metadata": {
    "colab_type": "text",
    "id": "tb3z0CaLIJKa"
   },
   "source": [
    "### 1.1.1 인덱스 지정하지 않고 만들기"
   ]
  },
  {
   "cell_type": "markdown",
   "metadata": {
    "colab_type": "text",
    "id": "g0YUzltYsmoN"
   },
   "source": [
    "**1) 리스트로 만들기**\n",
    "\n",
    "- 인덱스를 지정하지 않으면 **0부터 시작하는 행 번호가 인덱스 값이 됩니다.** "
   ]
  },
  {
   "cell_type": "code",
   "execution_count": null,
   "metadata": {
    "colab": {},
    "colab_type": "code",
    "id": "HM0oHU2cIJKb",
    "scrolled": true
   },
   "outputs": [],
   "source": [
    "# 리스트 만들기\n",
    "list_stock = [92300, 94300, 92100, 92400, 92600]\n",
    "\n",
    "# 시리즈 만들기\n",
    "stock = pd.Series(list_stock)\n",
    "stock"
   ]
  },
  {
   "cell_type": "markdown",
   "metadata": {
    "colab_type": "text",
    "id": "-hv9haY7DLyU"
   },
   "source": [
    "<img src='https://raw.githubusercontent.com/jangrae/img/master/practice_01.png' width=120 align=\"left\"/>"
   ]
  },
  {
   "cell_type": "markdown",
   "metadata": {
    "colab_type": "text",
    "id": "gEnLBSXEdnqo"
   },
   "source": [
    "아래 주어진 정보로 시리즈를 만들고 확인해 보세요."
   ]
  },
  {
   "cell_type": "code",
   "execution_count": null,
   "metadata": {
    "colab": {},
    "colab_type": "code",
    "id": "hclrraNXGspw"
   },
   "outputs": [],
   "source": [
    "# [80, 75, 100, 90, 80]\n",
    "\n",
    "# score1 시리즈 만들기\n",
    "score1 = pd.Series([80, 75, 100, 90, 80])\n",
    "\n",
    "# 시리즈 확인\n",
    "score1"
   ]
  },
  {
   "cell_type": "markdown",
   "metadata": {
    "colab_type": "text",
    "id": "gEnLBSXEdnqo"
   },
   "source": [
    "아래 주어진 리스트로 시리즈를 만들고 확인해 보세요."
   ]
  },
  {
   "cell_type": "code",
   "execution_count": null,
   "metadata": {
    "colab": {},
    "colab_type": "code",
    "id": "hclrraNXGspw"
   },
   "outputs": [],
   "source": [
    "# 리스트 만들기\n",
    "score_list = [80, 75, 100, 90, 80]\n",
    "\n",
    "# score2 시리즈 만들기\n",
    "score2 = pd.Series(score_list)\n",
    "\n",
    "# 시리즈 확인\n",
    "score2"
   ]
  },
  {
   "cell_type": "markdown",
   "metadata": {
    "colab_type": "text",
    "id": "PzbpSh9ssvpK"
   },
   "source": [
    "**2) 딕셔너리로 만들기**\n",
    "\n",
    "- 기본적으로 **딕셔너리의 키**가 **시리즈의 인덱스**로 사용됩니다."
   ]
  },
  {
   "cell_type": "markdown",
   "metadata": {
    "colab_type": "text",
    "id": "LRgAnqyvsvpM"
   },
   "source": [
    "<img src='https://raw.githubusercontent.com/Jangrae/img/master/dic_series.png' width=400 align=\"left\"/>"
   ]
  },
  {
   "cell_type": "code",
   "execution_count": null,
   "metadata": {
    "colab": {},
    "colab_type": "code",
    "id": "ZF57rd0DsvpO",
    "scrolled": true
   },
   "outputs": [],
   "source": [
    "# 딕셔너리 만들기\n",
    "dict_stock = {'2019-02-15': 92300, \n",
    "              '2019-02-16': 94300, \n",
    "              '2019-02-17': 92100, \n",
    "              '2019-02-18': 92400, \n",
    "              '2019-02-19': 92600}\n",
    "dict_stock"
   ]
  },
  {
   "cell_type": "code",
   "execution_count": null,
   "metadata": {
    "colab": {},
    "colab_type": "code",
    "id": "5Pa7L9BJsvpV"
   },
   "outputs": [],
   "source": [
    "# 시리즈 만들기\n",
    "stock = pd.Series(dict_stock)\n",
    "stock"
   ]
  },
  {
   "cell_type": "markdown",
   "metadata": {
    "colab_type": "text",
    "id": "Zp2o-c44IJKW"
   },
   "source": [
    "### 1.1.2. 인덱스 지정해서 만들기\n",
    "- **index** 옵션에 인덱스로 사용할 데이터를 지정할 수 있습니다.\n",
    "- 날짜 데이터를 인덱스로 지정하는 경우가 많습니다."
   ]
  },
  {
   "cell_type": "code",
   "execution_count": null,
   "metadata": {
    "colab": {},
    "colab_type": "code",
    "id": "oAdpFgSDIJKX",
    "scrolled": true
   },
   "outputs": [],
   "source": [
    "# 리스트 만들기\n",
    "list_stock = [92300, 94300, 92100, 92400, 92600]\n",
    "dates = ['2019-02-15', '2019-02-16', '2019-02-17', '2019-02-18', '2019-02-19']\n",
    "\n",
    "# 시리즈 만들기\n",
    "stock = pd.Series(list_stock, index=dates)\n",
    "stock"
   ]
  },
  {
   "cell_type": "markdown",
   "metadata": {
    "colab_type": "text",
    "id": "6hIYfnNDphEy"
   },
   "source": [
    "<img src='https://raw.githubusercontent.com/jangrae/img/master/practice_01.png' width=120 align=\"left\"/>"
   ]
  },
  {
   "cell_type": "markdown",
   "metadata": {
    "colab_type": "text",
    "id": "tkSNuCnHdrue"
   },
   "source": [
    "아래 주어진 두 리스트를 값과 인덱스로 갖는 시리즈를 만들고 확인해 보세요."
   ]
  },
  {
   "cell_type": "code",
   "execution_count": null,
   "metadata": {
    "colab": {},
    "colab_type": "code",
    "id": "3quT-h7UJSvU"
   },
   "outputs": [],
   "source": [
    "# 리스트 만들기\n",
    "list_score = [80, 75, 100, 90, 80]\n",
    "list_index = ['홍길동', '한사랑', '일지매', '박여인', '강우동']\n",
    "\n",
    "# 시리즈 만들기\n",
    "score = pd.Series(list_score, index=list_index)\n",
    "\n",
    "# 시리즈 확인\n",
    "score"
   ]
  },
  {
   "cell_type": "markdown",
   "metadata": {
    "colab_type": "text",
    "id": "JZNtedr2Rf-q"
   },
   "source": [
    "### 1.1.3. 인덱스 변경과 초기화\n",
    "\n",
    "- 기존 인덱스를 새로운 값으로 변경하거나 초기화할 수 있습니다.\n"
   ]
  },
  {
   "cell_type": "markdown",
   "metadata": {
    "colab_type": "text",
    "id": "MMRKI9zHwTEw"
   },
   "source": [
    "**1) 인덱스 변경**\n",
    "\n",
    "- 시리즈의 기존 인덱스는 **index** 속성을 변경해 바꿀 수 있습니다."
   ]
  },
  {
   "cell_type": "code",
   "execution_count": null,
   "metadata": {
    "colab": {},
    "colab_type": "code",
    "id": "PiRbkig5Q7j_"
   },
   "outputs": [],
   "source": [
    "# 시리즈 만들기\n",
    "stock = pd.Series([92300, 94300, 92100, 92400, 92600])\n",
    "stock"
   ]
  },
  {
   "cell_type": "markdown",
   "metadata": {
    "colab_type": "text",
    "id": "uDM8SDq_IHoy"
   },
   "source": [
    "- 인덱스 값을 날짜 데이터로 바꾸어봅니다."
   ]
  },
  {
   "cell_type": "code",
   "execution_count": null,
   "metadata": {
    "colab": {},
    "colab_type": "code",
    "id": "81WOZh9qJB1s"
   },
   "outputs": [],
   "source": [
    "# 인덱스 변경\n",
    "dates = ['2019-02-15', '2019-02-16', '2019-02-17', '2019-02-18', '2019-02-19']\n",
    "stock.index=dates\n",
    "stock"
   ]
  },
  {
   "cell_type": "markdown",
   "metadata": {
    "colab_type": "text",
    "id": "yOvf7ObCSabd"
   },
   "source": [
    "**2) 인덱스 초기화**\n",
    "\n",
    "- **reset_index()** 메소드를 사용해 인덱스를 행 번호에 기반한 정수 값으로 초기화 할 수 있습니다.\n",
    "- **drop=True** 옵션을 지정해 기존 인덱스를 버리게 해야 합니다.\n",
    "- **시리즈**는 값을 갖는 **열이 하나**이므로 기존 인덱스를 버리지 않으면 데이터프레임으로 바뀝니다.\n",
    "- **데이터프레임**은 **여러 열**을 가지므로 기존 인덱스를 버리지 않고 일반 열로 남길 수 있습니다."
   ]
  },
  {
   "cell_type": "code",
   "execution_count": null,
   "metadata": {
    "colab": {},
    "colab_type": "code",
    "id": "Ea4zNNBLR43L"
   },
   "outputs": [],
   "source": [
    "# 인덱스 초기화\n",
    "stock = stock.reset_index(drop=True)\n",
    "print(stock)"
   ]
  },
  {
   "cell_type": "markdown",
   "metadata": {
    "colab_type": "text",
    "id": "LDmVvEMyKQGJ"
   },
   "source": [
    "- reset_index() 메소드에는 **inplace** 옵션이 있습니다.\n",
    "- **inplace=True**를 지정하면 시리즈에 실제로 반영이 됩니다."
   ]
  },
  {
   "cell_type": "code",
   "execution_count": null,
   "metadata": {
    "colab": {},
    "colab_type": "code",
    "id": "6sOubPayKT-3"
   },
   "outputs": [],
   "source": [
    "# 인덱스 초기화\n",
    "stock.reset_index(drop=True, inplace=True)\n",
    "print(stock)"
   ]
  },
  {
   "cell_type": "markdown",
   "metadata": {
    "colab_type": "text",
    "id": "W4HAegH9IJLi"
   },
   "source": [
    "## 1.2. 인덱스, 값, 자료형, 크기 확인\n",
    "\n",
    "- 다음과 같은 속성으로 시리즈에 대한 정보를 확인합니다.\n",
    "- 이 방법은 이후 **데이터프레임에서 동일하게 적용**됩니다.\n",
    "- **index** 속성 → 인덱스 확인\n",
    "- **values** 속성 → 값 확인\n",
    "- **dtype** 속성 → 데이터 형식 확인\n",
    "- **shape** 속성 → 크기(=행 개수) 확인 "
   ]
  },
  {
   "cell_type": "code",
   "execution_count": null,
   "metadata": {
    "colab": {},
    "colab_type": "code",
    "id": "pA5MaEGKIJLf",
    "scrolled": false
   },
   "outputs": [],
   "source": [
    "# 딕셔너리 만들기\n",
    "dict_stock = {'2019-02-15': 92300, \n",
    "              '2019-02-16': 94300, \n",
    "              '2019-02-17': 92100, \n",
    "              '2019-02-18': 92400, \n",
    "              '2019-02-19': 92600}\n",
    "# 시리즈 만들기\n",
    "stock = pd.Series(dict_stock)\n",
    "stock"
   ]
  },
  {
   "cell_type": "code",
   "execution_count": null,
   "metadata": {
    "colab": {},
    "colab_type": "code",
    "id": "E4OVRoRxKNB3",
    "scrolled": false
   },
   "outputs": [],
   "source": [
    "# 인덱스 확인\n",
    "stock.index"
   ]
  },
  {
   "cell_type": "code",
   "execution_count": null,
   "metadata": {
    "colab": {},
    "colab_type": "code",
    "id": "-kty64W3Z31w"
   },
   "outputs": [],
   "source": [
    "# 값 확인\n",
    "stock.values"
   ]
  },
  {
   "cell_type": "code",
   "execution_count": null,
   "metadata": {
    "colab": {},
    "colab_type": "code",
    "id": "XEHt8VbeZ4mw"
   },
   "outputs": [],
   "source": [
    "# 자료형 확인\n",
    "stock.dtype"
   ]
  },
  {
   "cell_type": "code",
   "execution_count": null,
   "metadata": {
    "colab": {},
    "colab_type": "code",
    "id": "5iGFF4ZqIHqR"
   },
   "outputs": [],
   "source": [
    "# 크기 확인\n",
    "stock.shape"
   ]
  },
  {
   "cell_type": "code",
   "execution_count": null,
   "metadata": {
    "colab": {},
    "colab_type": "code",
    "id": "_3rbM41zIHqY"
   },
   "outputs": [],
   "source": [
    "# 행수 확인\n",
    "stock.shape[0]"
   ]
  },
  {
   "cell_type": "markdown",
   "metadata": {
    "colab_type": "text",
    "id": "0WVmUCDiRAXk"
   },
   "source": [
    "## 1.3. 인덱싱과 슬라이싱\n",
    "\n",
    "- 시리즈는 열이 하나이므로 인덱싱과 슬라이싱 방법이 단순합니다."
   ]
  },
  {
   "cell_type": "code",
   "execution_count": null,
   "metadata": {
    "colab": {},
    "colab_type": "code",
    "id": "7s2lbik9RMxB",
    "scrolled": true
   },
   "outputs": [],
   "source": [
    "# 시리즈 만들기\n",
    "dates = ['2019-02-15', '2019-02-16','2019-02-17','2019-02-18','2019-02-19']\n",
    "stock = pd.Series([92300, 94300, 92100, 92400, 92600], index=dates)\n",
    "stock"
   ]
  },
  {
   "cell_type": "markdown",
   "metadata": {
    "colab_type": "text",
    "id": "qDh6B2aOSFGd"
   },
   "source": [
    "### 1.3.1. 상위, 하위 n개 행 조회\n",
    "\n",
    "- 상위 n개의 행 조회할 때는 **head()** 메소드를 사용합니다.\n",
    "- 하위 n개의 행 조회할 때는 **tail()** 메소드를 사용합니다.\n",
    "- 괄호 안에 개수를 지정하시 않으면 5개 행이 기본적으로 조회됩니다."
   ]
  },
  {
   "cell_type": "code",
   "execution_count": null,
   "metadata": {
    "colab": {},
    "colab_type": "code",
    "id": "fUGc702aRdlb",
    "scrolled": true
   },
   "outputs": [],
   "source": [
    "# 상위 2개 행조회\n",
    "stock.head(2)"
   ]
  },
  {
   "cell_type": "code",
   "execution_count": null,
   "metadata": {
    "colab": {},
    "colab_type": "code",
    "id": "gL79F-NyIHqw",
    "scrolled": true
   },
   "outputs": [],
   "source": [
    "# 하위 2개 행 조회\n",
    "stock.tail(2)"
   ]
  },
  {
   "cell_type": "code",
   "execution_count": null,
   "metadata": {
    "colab": {},
    "colab_type": "code",
    "id": "A9JvQ9DIIHq2",
    "scrolled": true
   },
   "outputs": [],
   "source": [
    "# 상위 5개 행 조회\n",
    "stock.head()"
   ]
  },
  {
   "cell_type": "markdown",
   "metadata": {
    "colab_type": "text",
    "id": "WG46_xLoIHrA"
   },
   "source": [
    "### 1.3.2. 인덱싱\n",
    "\n",
    "- **행 번호** 또는 **인덱스 이름**을 사용해 조회할 수 있습니다.\n",
    "- 참고로 인덱스 이름, 인덱스 값, 인덱스 레이블 모두 같은 의미로 사용됩니다."
   ]
  },
  {
   "cell_type": "markdown",
   "metadata": {
    "colab_type": "text",
    "id": "hEJ6IER2x2IE"
   },
   "source": [
    "**1) 값 조회**\n",
    "\n",
    "- **[...]** 형태로 대괄호 한 겹을 사용해 조회하면 특정 값이 조회 됩니다."
   ]
  },
  {
   "cell_type": "code",
   "execution_count": null,
   "metadata": {
    "colab": {},
    "colab_type": "code",
    "id": "sLCxzZQ2IHrC",
    "scrolled": true
   },
   "outputs": [],
   "source": [
    "# 첫째 행 값 조회\n",
    "stock[0]"
   ]
  },
  {
   "cell_type": "code",
   "execution_count": null,
   "metadata": {
    "colab": {},
    "colab_type": "code",
    "id": "T4XVQ6jSIHrH",
    "scrolled": true
   },
   "outputs": [],
   "source": [
    "# 마지막 행 값 조회\n",
    "stock[-1]"
   ]
  },
  {
   "cell_type": "code",
   "execution_count": null,
   "metadata": {
    "colab": {},
    "colab_type": "code",
    "id": "hX9kd5qPah58"
   },
   "outputs": [],
   "source": [
    "# '2019-02-15' 값 조회\n",
    "stock['2019-02-15']"
   ]
  },
  {
   "cell_type": "code",
   "execution_count": null,
   "metadata": {
    "colab": {},
    "colab_type": "code",
    "id": "PJd5dtNyIHrT"
   },
   "outputs": [],
   "source": [
    "# '2019-02-19' 값 조회\n",
    "stock['2019-02-19']"
   ]
  },
  {
   "cell_type": "markdown",
   "metadata": {
    "colab_type": "text",
    "id": "Z173NiyYuEX2"
   },
   "source": [
    "<img src='https://raw.githubusercontent.com/jangrae/img/master/practice_01.png' width=120 align=\"left\"/>"
   ]
  },
  {
   "cell_type": "markdown",
   "metadata": {
    "colab_type": "text",
    "id": "qA1yx0dTeNd2"
   },
   "source": [
    "아래 주어진 요구사항에 맞게 조회해 보세요."
   ]
  },
  {
   "cell_type": "code",
   "execution_count": null,
   "metadata": {
    "colab": {},
    "colab_type": "code",
    "id": "ec1nTxIbt_GB"
   },
   "outputs": [],
   "source": [
    "# 셋째 행 값 조회\n",
    "stock[2]"
   ]
  },
  {
   "cell_type": "code",
   "execution_count": null,
   "metadata": {
    "colab": {},
    "colab_type": "code",
    "id": "KJQ3skrIuTm9"
   },
   "outputs": [],
   "source": [
    "# '2019-02-18' 값 조회\n",
    "stock['2019-02-18']"
   ]
  },
  {
   "cell_type": "markdown",
   "metadata": {
    "colab_type": "text",
    "id": "ceMf1DC4IJL4"
   },
   "source": [
    "**2) 행 조회**\n",
    "\n",
    "- **[ [...] ]** 형태로 대괄호 두 겹을 사용하면 행이 조회됩니다."
   ]
  },
  {
   "cell_type": "code",
   "execution_count": null,
   "metadata": {
    "colab": {},
    "colab_type": "code",
    "id": "3x9d9zYpIJL4",
    "scrolled": false
   },
   "outputs": [],
   "source": [
    "# 시리즈 확인\n",
    "stock"
   ]
  },
  {
   "cell_type": "code",
   "execution_count": null,
   "metadata": {
    "colab": {},
    "colab_type": "code",
    "id": "2G85iN80sLEb"
   },
   "outputs": [],
   "source": [
    "# 첫째 행 조회\n",
    "stock[[0]]"
   ]
  },
  {
   "cell_type": "code",
   "execution_count": null,
   "metadata": {
    "colab": {},
    "colab_type": "code",
    "id": "U9SMc4Q8sMw9"
   },
   "outputs": [],
   "source": [
    "# 첫쨰, 셋째 행 조회\n",
    "stock[[0, 2]]"
   ]
  },
  {
   "cell_type": "code",
   "execution_count": null,
   "metadata": {
    "colab": {},
    "colab_type": "code",
    "id": "FO4-DSejsNzX"
   },
   "outputs": [],
   "source": [
    "# '2019-02-15' 행 조회\n",
    "stock[['2019-02-15']]"
   ]
  },
  {
   "cell_type": "code",
   "execution_count": null,
   "metadata": {
    "colab": {},
    "colab_type": "code",
    "id": "xXFXw5OpvOaR"
   },
   "outputs": [],
   "source": [
    "# '2019-02-15', '2019-02-19' 행 조회\n",
    "stock[['2019-02-15', '2019-02-19']]"
   ]
  },
  {
   "cell_type": "markdown",
   "metadata": {
    "colab_type": "text",
    "id": "_3lyaFZHvfI4"
   },
   "source": [
    "<img src='https://raw.githubusercontent.com/jangrae/img/master/practice_01.png' width=120 align=\"left\"/>"
   ]
  },
  {
   "cell_type": "markdown",
   "metadata": {
    "colab_type": "text",
    "id": "marOgxJoeQcx"
   },
   "source": [
    "아래 주어진 요구사항에 맞게 조회해 보세요."
   ]
  },
  {
   "cell_type": "code",
   "execution_count": null,
   "metadata": {
    "colab": {},
    "colab_type": "code",
    "id": "Glri06bYvfI5"
   },
   "outputs": [],
   "source": [
    "# 마지막 행 조회\n",
    "stock[[-1]]"
   ]
  },
  {
   "cell_type": "code",
   "execution_count": null,
   "metadata": {
    "colab": {},
    "colab_type": "code",
    "id": "z75f6d5fvuVu"
   },
   "outputs": [],
   "source": [
    "# 첫째 행, 마지막 행 조회\n",
    "stock[[0, -1]]"
   ]
  },
  {
   "cell_type": "code",
   "execution_count": null,
   "metadata": {
    "colab": {},
    "colab_type": "code",
    "id": "57FY1QOsvfI9"
   },
   "outputs": [],
   "source": [
    "# '2019-02-15', '2019-02-17', '2019-02-19' 행 조회\n",
    "stock[['2019-02-15', '2019-02-17', '2019-02-19']]"
   ]
  },
  {
   "cell_type": "markdown",
   "metadata": {
    "colab_type": "text",
    "id": "xK4zDu1zIJL7"
   },
   "source": [
    "### 1.3.3. 슬라이싱\n",
    "\n",
    "- 범위를 지정해 슬라이싱 할 수 있습니다."
   ]
  },
  {
   "cell_type": "code",
   "execution_count": null,
   "metadata": {
    "colab": {},
    "colab_type": "code",
    "id": "1PLWNiR8s_3c",
    "scrolled": true
   },
   "outputs": [],
   "source": [
    "# 시리즈 확인\n",
    "stock"
   ]
  },
  {
   "cell_type": "markdown",
   "metadata": {},
   "source": [
    "- 범위의 미자막 값은 결과에 포함되지 않습니다."
   ]
  },
  {
   "cell_type": "code",
   "execution_count": null,
   "metadata": {
    "colab": {},
    "colab_type": "code",
    "id": "UiTsyuHEIJL-",
    "scrolled": true
   },
   "outputs": [],
   "source": [
    "# 첫째 행 ~ 셋째 행  조회\n",
    "stock[0:3]"
   ]
  },
  {
   "cell_type": "markdown",
   "metadata": {},
   "source": [
    "- 인덱스 값을 지정하면 범위의 마지막 값도 결과에 포함이 됩니다."
   ]
  },
  {
   "cell_type": "code",
   "execution_count": null,
   "metadata": {
    "colab": {},
    "colab_type": "code",
    "id": "bsCkaSPXtCuF"
   },
   "outputs": [],
   "source": [
    "# 2018-02-15 ~ 2018-02-17 행 조회\n",
    "stock['2019-02-15':'2019-02-17']"
   ]
  },
  {
   "cell_type": "markdown",
   "metadata": {
    "colab_type": "text",
    "id": "WByd-MmzyXOE"
   },
   "source": [
    "<img src='https://raw.githubusercontent.com/jangrae/img/master/practice_01.png' width=120 align=\"left\"/>"
   ]
  },
  {
   "cell_type": "markdown",
   "metadata": {
    "colab_type": "text",
    "id": "4KRCcy-AeS5h"
   },
   "source": [
    "아래 주어진 요구사항에 맞게 조회해 보세요."
   ]
  },
  {
   "cell_type": "code",
   "execution_count": null,
   "metadata": {
    "colab": {},
    "colab_type": "code",
    "id": "FjkUAb4CyXOF",
    "scrolled": true
   },
   "outputs": [],
   "source": [
    "# 맨 뒤 세 개 행 조회\n",
    "stock[-3:]"
   ]
  },
  {
   "cell_type": "code",
   "execution_count": null,
   "metadata": {
    "colab": {},
    "colab_type": "code",
    "id": "vD8FpjMFyXOH",
    "scrolled": true
   },
   "outputs": [],
   "source": [
    "# 첫째 행부터 두 개 행\n",
    "stock[0:2]"
   ]
  },
  {
   "cell_type": "code",
   "execution_count": null,
   "metadata": {
    "colab": {},
    "colab_type": "code",
    "id": "_DiOBuyayXOI",
    "scrolled": true
   },
   "outputs": [],
   "source": [
    "# '2019-02-16' ~ '2019-02-19' 행 조회\n",
    "stock['2019-02-16':'2019-02-19']"
   ]
  },
  {
   "cell_type": "markdown",
   "metadata": {
    "colab_type": "text",
    "id": "yLNgkdDiwxie"
   },
   "source": [
    "## 1.4. 시리즈 연산\n",
    "\n",
    "- 시리즈 사이의 인덱스 값 순서가 달라도, 인덱스 값을 기준으로 연산이 됩니다.\n",
    "- 매치되는 인덱스를 찾지 못하면 값이 결과 값은 NaN이 됩니다."
   ]
  },
  {
   "cell_type": "code",
   "execution_count": null,
   "metadata": {
    "colab": {},
    "colab_type": "code",
    "id": "_ZOpmzkewxil",
    "scrolled": false
   },
   "outputs": [],
   "source": [
    "# 시리즈 만들기\n",
    "score_math1 = pd.Series([80, 85, 85, 75], index = ['홍길동', '한사랑', '일지매', '박여인'])\n",
    "score_math1"
   ]
  },
  {
   "cell_type": "markdown",
   "metadata": {
    "colab_type": "text",
    "id": "hOV93tdQalbo"
   },
   "source": [
    "**1) 숫자와의 연산**\n",
    "\n",
    "- 시리즈가 갖는 값에 특정 값을 더하거나 빼는 등의 연산이 가능합니다.\n",
    "- 단순히 더하고 빼주면 됩니다."
   ]
  },
  {
   "cell_type": "code",
   "execution_count": null,
   "metadata": {
    "colab": {},
    "colab_type": "code",
    "id": "lNcskfsoIJMx",
    "scrolled": true
   },
   "outputs": [],
   "source": [
    "# 시리즈에 10 더라기\n",
    "score_math1 + 10"
   ]
  },
  {
   "cell_type": "code",
   "execution_count": null,
   "metadata": {
    "colab": {},
    "colab_type": "code",
    "id": "m0mOIRFwKpIF"
   },
   "outputs": [],
   "source": [
    "# 100에서 시리즈 빼기\n",
    "100 - score_math1"
   ]
  },
  {
   "cell_type": "markdown",
   "metadata": {
    "colab_type": "text",
    "id": "B5pnWYyHarBB"
   },
   "source": [
    "**2) 시리즈  사이의 연산**\n",
    "\n",
    "- 시리즈 간의 연산도 단순히 더하거나 빼주면 됩니다."
   ]
  },
  {
   "cell_type": "code",
   "execution_count": null,
   "metadata": {
    "colab": {},
    "colab_type": "code",
    "id": "36gqyoKEIHs5",
    "scrolled": false
   },
   "outputs": [],
   "source": [
    "# 시리즈 만들기\n",
    "score_math1 = pd.Series([80, 85, 85, 75], index = ['홍길동', '한사랑', '일지매', '박여인'])\n",
    "score_math1"
   ]
  },
  {
   "cell_type": "code",
   "execution_count": null,
   "metadata": {
    "colab": {},
    "colab_type": "code",
    "id": "Oz-fNGub40AU"
   },
   "outputs": [],
   "source": [
    "# 시리즈 만들기\n",
    "score_math2 = pd.Series([85, 90, 95], index = ['홍길동', '일지매', '한사랑'])\n",
    "score_math2"
   ]
  },
  {
   "cell_type": "code",
   "execution_count": null,
   "metadata": {
    "colab": {},
    "colab_type": "code",
    "id": "rsAoAPEMajeQ"
   },
   "outputs": [],
   "source": [
    "# 시리즈 더하기\n",
    "score_math1 + score_math2"
   ]
  },
  {
   "cell_type": "code",
   "execution_count": null,
   "metadata": {
    "colab": {},
    "colab_type": "code",
    "id": "2uP_hEOOakS9"
   },
   "outputs": [],
   "source": [
    "$ 시리즈 빼기\n",
    "score_math2 - score_math1"
   ]
  },
  {
   "cell_type": "markdown",
   "metadata": {
    "colab_type": "text",
    "id": "RkcSL1GsKBwx"
   },
   "source": [
    "## <center>수고하셨습니다.</center>\n",
    "<center><img src='https://raw.githubusercontent.com/Jangrae/img/master/end.png' width=200/></center>"
   ]
  }
 ],
 "metadata": {
  "colab": {
   "collapsed_sections": [],
   "name": "01 시리즈 만들고 조회.ipynb",
   "provenance": []
  },
  "kernelspec": {
   "display_name": "Python 3",
   "language": "python",
   "name": "python3"
  },
  "language_info": {
   "codemirror_mode": {
    "name": "ipython",
    "version": 3
   },
   "file_extension": ".py",
   "mimetype": "text/x-python",
   "name": "python",
   "nbconvert_exporter": "python",
   "pygments_lexer": "ipython3",
   "version": "3.7.6"
  }
 },
 "nbformat": 4,
 "nbformat_minor": 1
}
