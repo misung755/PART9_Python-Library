{
 "cells": [
  {
   "cell_type": "markdown",
   "metadata": {
    "colab_type": "text",
    "id": "BFhIXgdYoYGp"
   },
   "source": [
    "<center><img src='https://raw.githubusercontent.com/Jangrae/img/master/title.png' width=500/></center>"
   ]
  },
  {
   "cell_type": "markdown",
   "metadata": {},
   "source": [
    "<center>- Pandas의 모든 것을 배우지 않습니다. 데이터 전처리에 대한 부분만 학습 대상이 됩니다 -</center>"
   ]
  },
  {
   "cell_type": "markdown",
   "metadata": {
    "colab_type": "text",
    "id": "DFijIAllYnVQ"
   },
   "source": [
    "# 학습 목표\n",
    "\n",
    "- 특정 값, 특정 행, 특정 열의 데이터를 변경할 수 있습니다.\n",
    "- 특정 열을 삭제할 수 있습니다.\n",
    "- 열 이름을 변경할 수 있습니다."
   ]
  },
  {
   "cell_type": "markdown",
   "metadata": {
    "colab_type": "text",
    "id": "0kW6dzBFYnWW"
   },
   "source": [
    "# 5. 데이터프레임 변경 - 1단계\n",
    "\n",
    "- 데이터 전처리를 위해 꼭 익혀두어야 할 내용입니다.\n",
    "- 반복 학습과 실습을 통해서 익숙해져야 합니다."
   ]
  },
  {
   "cell_type": "code",
   "execution_count": null,
   "metadata": {
    "colab": {},
    "colab_type": "code",
    "id": "b9NraxWDnYr1"
   },
   "outputs": [],
   "source": [
    "# 라이브러리 불러오기\n",
    "import pandas as pd\n",
    "import numpy as np"
   ]
  },
  {
   "cell_type": "markdown",
   "metadata": {
    "colab_type": "text",
    "id": "eejPha-7ATt2"
   },
   "source": [
    "## 5.1. 값 변경"
   ]
  },
  {
   "cell_type": "markdown",
   "metadata": {
    "colab_type": "text",
    "id": "H-EN_jHpeYhc"
   },
   "source": [
    "**1) 기본 변경**\n",
    "\n",
    "- 이전에 배운 방법으로 대상 데이터를 **찾아** 확인한 후 **변경**합니다."
   ]
  },
  {
   "cell_type": "code",
   "execution_count": null,
   "metadata": {
    "colab": {
     "base_uri": "https://localhost:8080/",
     "height": 172
    },
    "colab_type": "code",
    "executionInfo": {
     "elapsed": 2585,
     "status": "ok",
     "timestamp": 1589432506053,
     "user": {
      "displayName": "이장래",
      "photoUrl": "https://lh3.googleusercontent.com/a-/AOh14GiAr2j2I1wKToLVmH4sVTSNBanYH4IL0jaxOtYU=s64",
      "userId": "01217686459280251442"
     },
     "user_tz": -540
    },
    "id": "4waLvZGSwxn6",
    "outputId": "b3e325c1-6c99-493b-ff65-c7c6f73cd7a8",
    "scrolled": true
   },
   "outputs": [],
   "source": [
    "# 데이터프레임 만들기\n",
    "dict = {'이름': ['홍길동', '한사랑', '일지매', '박여인'],\n",
    "        '등급': ['Gold', 'Bronze', 'Silver', 'Gold'],\n",
    "        '점수': [56000, 23000, 44000, 52000]}\n",
    "\n",
    "df = pd.DataFrame(dict, index=['1번', '2번', '3번', '4번'])\n",
    "df.head()"
   ]
  },
  {
   "cell_type": "code",
   "execution_count": null,
   "metadata": {
    "colab": {
     "base_uri": "https://localhost:8080/",
     "height": 172
    },
    "colab_type": "code",
    "executionInfo": {
     "elapsed": 2582,
     "status": "ok",
     "timestamp": 1589432506054,
     "user": {
      "displayName": "이장래",
      "photoUrl": "https://lh3.googleusercontent.com/a-/AOh14GiAr2j2I1wKToLVmH4sVTSNBanYH4IL0jaxOtYU=s64",
      "userId": "01217686459280251442"
     },
     "user_tz": -540
    },
    "id": "2l0CYSapdcgC",
    "outputId": "ebe49f6c-7757-4a05-a784-1f931ef0c66f"
   },
   "outputs": [],
   "source": [
    "# 점수 열에 10 곱하기\n",
    "df['점수'] = df['점수'] * 10\n",
    "df.head()"
   ]
  },
  {
   "cell_type": "code",
   "execution_count": null,
   "metadata": {
    "colab": {
     "base_uri": "https://localhost:8080/",
     "height": 172
    },
    "colab_type": "code",
    "executionInfo": {
     "elapsed": 2580,
     "status": "ok",
     "timestamp": 1589432506055,
     "user": {
      "displayName": "이장래",
      "photoUrl": "https://lh3.googleusercontent.com/a-/AOh14GiAr2j2I1wKToLVmH4sVTSNBanYH4IL0jaxOtYU=s64",
      "userId": "01217686459280251442"
     },
     "user_tz": -540
    },
    "id": "qeUasveBYnWX",
    "outputId": "f40b5b2e-792d-4800-f3f4-b946118556ae",
    "scrolled": false
   },
   "outputs": [],
   "source": [
    "# 이름 열 변경\n",
    "df['이름'] = df['이름'] + '님' \n",
    "df.head()"
   ]
  },
  {
   "cell_type": "code",
   "execution_count": null,
   "metadata": {
    "colab": {
     "base_uri": "https://localhost:8080/",
     "height": 172
    },
    "colab_type": "code",
    "executionInfo": {
     "elapsed": 2578,
     "status": "ok",
     "timestamp": 1589432506057,
     "user": {
      "displayName": "이장래",
      "photoUrl": "https://lh3.googleusercontent.com/a-/AOh14GiAr2j2I1wKToLVmH4sVTSNBanYH4IL0jaxOtYU=s64",
      "userId": "01217686459280251442"
     },
     "user_tz": -540
    },
    "id": "WRHZgE8hd2c1",
    "outputId": "fd8e6341-41e3-4831-9597-8de1aa78f59d",
    "scrolled": false
   },
   "outputs": [],
   "source": [
    "# 2번 이름을 '두사람님'으로 변경\n",
    "df.loc['2번', ['이름']] = '두사랑님' \n",
    "df.head()"
   ]
  },
  {
   "cell_type": "code",
   "execution_count": null,
   "metadata": {
    "colab": {
     "base_uri": "https://localhost:8080/",
     "height": 172
    },
    "colab_type": "code",
    "executionInfo": {
     "elapsed": 2575,
     "status": "ok",
     "timestamp": 1589432506058,
     "user": {
      "displayName": "이장래",
      "photoUrl": "https://lh3.googleusercontent.com/a-/AOh14GiAr2j2I1wKToLVmH4sVTSNBanYH4IL0jaxOtYU=s64",
      "userId": "01217686459280251442"
     },
     "user_tz": -540
    },
    "id": "m8rgWOCSwxoO",
    "outputId": "48204b2d-c8e6-4273-8df9-418c60a1e2ed",
    "scrolled": false
   },
   "outputs": [],
   "source": [
    "# 1번 ~ 3번 점수를 모두 0으로 변경\n",
    "df.loc['1번':'3번', ['점수']] = 0\n",
    "df.head()"
   ]
  },
  {
   "cell_type": "code",
   "execution_count": null,
   "metadata": {
    "colab": {
     "base_uri": "https://localhost:8080/",
     "height": 172
    },
    "colab_type": "code",
    "executionInfo": {
     "elapsed": 2573,
     "status": "ok",
     "timestamp": 1589432506060,
     "user": {
      "displayName": "이장래",
      "photoUrl": "https://lh3.googleusercontent.com/a-/AOh14GiAr2j2I1wKToLVmH4sVTSNBanYH4IL0jaxOtYU=s64",
      "userId": "01217686459280251442"
     },
     "user_tz": -540
    },
    "id": "DjfIOL-iATub",
    "outputId": "6ceb1710-8af6-4cb5-bb7a-b3a0301e481f",
    "scrolled": false
   },
   "outputs": [],
   "source": [
    "# 1번 ~ 3번 점수를 각각 10000, 20000, 30000으로 변경\n",
    "df.loc['1번':'3번', ['점수']] = [10000, 20000, 30000]\n",
    "df.head()"
   ]
  },
  {
   "cell_type": "code",
   "execution_count": null,
   "metadata": {
    "colab": {
     "base_uri": "https://localhost:8080/",
     "height": 172
    },
    "colab_type": "code",
    "executionInfo": {
     "elapsed": 2571,
     "status": "ok",
     "timestamp": 1589432506061,
     "user": {
      "displayName": "이장래",
      "photoUrl": "https://lh3.googleusercontent.com/a-/AOh14GiAr2j2I1wKToLVmH4sVTSNBanYH4IL0jaxOtYU=s64",
      "userId": "01217686459280251442"
     },
     "user_tz": -540
    },
    "id": "OjIGUQVOATun",
    "outputId": "14b3d0c6-d173-441f-9f1b-a68915c2a902",
    "scrolled": false
   },
   "outputs": [],
   "source": [
    "# 1번 ~ 3번 등급과 점수를 모두 NaN으로 변경\n",
    "df.loc['1번':'3번', ['등급','점수']] = np.nan\n",
    "df.head()"
   ]
  },
  {
   "cell_type": "code",
   "execution_count": null,
   "metadata": {
    "colab": {
     "base_uri": "https://localhost:8080/",
     "height": 172
    },
    "colab_type": "code",
    "executionInfo": {
     "elapsed": 2568,
     "status": "ok",
     "timestamp": 1589432506062,
     "user": {
      "displayName": "이장래",
      "photoUrl": "https://lh3.googleusercontent.com/a-/AOh14GiAr2j2I1wKToLVmH4sVTSNBanYH4IL0jaxOtYU=s64",
      "userId": "01217686459280251442"
     },
     "user_tz": -540
    },
    "id": "Ezc2z0VXATus",
    "outputId": "e8ac61ab-7b49-4010-eb35-74f5770519fd",
    "scrolled": false
   },
   "outputs": [],
   "source": [
    "# 1번 ~ 3번 모두 등급은 NaN, 점수는 0으로 변경\n",
    "df.loc['1번':'3번', ['등급','점수']] = [np.nan, 0]\n",
    "df.head()"
   ]
  },
  {
   "cell_type": "code",
   "execution_count": null,
   "metadata": {
    "colab": {
     "base_uri": "https://localhost:8080/",
     "height": 172
    },
    "colab_type": "code",
    "executionInfo": {
     "elapsed": 2566,
     "status": "ok",
     "timestamp": 1589432506063,
     "user": {
      "displayName": "이장래",
      "photoUrl": "https://lh3.googleusercontent.com/a-/AOh14GiAr2j2I1wKToLVmH4sVTSNBanYH4IL0jaxOtYU=s64",
      "userId": "01217686459280251442"
     },
     "user_tz": -540
    },
    "id": "Yz62o26qATux",
    "outputId": "39e721cd-0d62-4367-c245-8187e7807ad3",
    "scrolled": false
   },
   "outputs": [],
   "source": [
    "# 1번 ~ 3번 등급과 점수를 지정한 값으로 각각 변경\n",
    "df.loc['1번':'3번', ['등급','점수']] = [['Gold', 56000], ['Bronze', 23000], ['Silver', 44000]]\n",
    "df.head()"
   ]
  },
  {
   "cell_type": "markdown",
   "metadata": {
    "colab_type": "text",
    "id": "eZc1bdQJC4LG"
   },
   "source": [
    "**2) map() 메소드 사용**\n",
    "\n",
    "- **map()** 메소드를 사용하면 쉽게 범주형 데이터를 다른 값으로 변경을 할 수 있습니다.\n",
    "- 단, **하나의 열에 대해서만 사용**할 수 있습니다."
   ]
  },
  {
   "cell_type": "code",
   "execution_count": null,
   "metadata": {
    "colab": {
     "base_uri": "https://localhost:8080/",
     "height": 172
    },
    "colab_type": "code",
    "executionInfo": {
     "elapsed": 2564,
     "status": "ok",
     "timestamp": 1589432506065,
     "user": {
      "displayName": "이장래",
      "photoUrl": "https://lh3.googleusercontent.com/a-/AOh14GiAr2j2I1wKToLVmH4sVTSNBanYH4IL0jaxOtYU=s64",
      "userId": "01217686459280251442"
     },
     "user_tz": -540
    },
    "id": "4hrVesMODylm",
    "outputId": "35f7e0b1-f62a-4041-8623-1a99efe0ea78"
   },
   "outputs": [],
   "source": [
    "# 데이터프레임 만들기\n",
    "dict = {'이름': ['홍길동', '한사랑', '일지매', '박여인'],\n",
    "        '가입일': ['2019-01-15', '2019-05-01', '2020-01-15', '2020-02-12'],\n",
    "        '등급': ['Gold', 'Bronze', 'Silver', 'Gold'],\n",
    "        '점수': [56000, 23000, 44000, 52000]}\n",
    "\n",
    "df = pd.DataFrame(dict, index=['1번', '2번', '3번', '4번'])\n",
    "df.head()"
   ]
  },
  {
   "cell_type": "markdown",
   "metadata": {
    "colab_type": "text",
    "id": "zYVUKM1lFokz"
   },
   "source": [
    "- Gold → Diamond / Silver → Emerald / Bronze → Garnet"
   ]
  },
  {
   "cell_type": "code",
   "execution_count": null,
   "metadata": {
    "colab": {
     "base_uri": "https://localhost:8080/",
     "height": 172
    },
    "colab_type": "code",
    "executionInfo": {
     "elapsed": 2563,
     "status": "ok",
     "timestamp": 1589432506067,
     "user": {
      "displayName": "이장래",
      "photoUrl": "https://lh3.googleusercontent.com/a-/AOh14GiAr2j2I1wKToLVmH4sVTSNBanYH4IL0jaxOtYU=s64",
      "userId": "01217686459280251442"
     },
     "user_tz": -540
    },
    "id": "OJMr6a3OC8EH",
    "outputId": "c88435d4-4c26-4cb0-ed1d-39f34d579647"
   },
   "outputs": [],
   "source": [
    "# 경우에 따른 값 변경\n",
    "df['등급'] = df['등급'].map({'Gold': 'Diamond', 'Silver': 'Emerald', 'Bronze': 'Garnet'})\n",
    "df.head()"
   ]
  },
  {
   "cell_type": "markdown",
   "metadata": {
    "colab_type": "text",
    "id": "mHrKYYWip4Es"
   },
   "source": [
    "<img src='https://raw.githubusercontent.com/jangrae/img/master/practice_01.png' width=120 align=\"left\"/>"
   ]
  },
  {
   "cell_type": "markdown",
   "metadata": {
    "colab_type": "text",
    "id": "a9BiL6Vc2_xT"
   },
   "source": [
    "다음에 주어진 데이터프레임을 확인한 후 이어지는 셀을 완성해 보세요."
   ]
  },
  {
   "cell_type": "code",
   "execution_count": null,
   "metadata": {
    "colab": {
     "base_uri": "https://localhost:8080/",
     "height": 172
    },
    "colab_type": "code",
    "executionInfo": {
     "elapsed": 2561,
     "status": "ok",
     "timestamp": 1589432506068,
     "user": {
      "displayName": "이장래",
      "photoUrl": "https://lh3.googleusercontent.com/a-/AOh14GiAr2j2I1wKToLVmH4sVTSNBanYH4IL0jaxOtYU=s64",
      "userId": "01217686459280251442"
     },
     "user_tz": -540
    },
    "id": "xYvPsONY3IXW",
    "outputId": "bb302b53-c59d-42e1-d825-6b0c27bacfe8"
   },
   "outputs": [],
   "source": [
    "# 데이터프레임 만들기\n",
    "dict = {'이름': ['나처럼', '즐거운', '사람이', '누구요'],\n",
    "        '1월': [45600, 20000, 46000, 50000],\n",
    "        '2월': [56000, 23000, 44000, 45000],\n",
    "        '3월': [52000, 33000, 39000, 49000],\n",
    "        }\n",
    "\n",
    "df_test = pd.DataFrame(dict, index=['C001', 'C002', 'C003', 'C004'])\n",
    "df_test.head()"
   ]
  },
  {
   "cell_type": "code",
   "execution_count": null,
   "metadata": {
    "colab": {
     "base_uri": "https://localhost:8080/",
     "height": 172
    },
    "colab_type": "code",
    "executionInfo": {
     "elapsed": 2558,
     "status": "ok",
     "timestamp": 1589432506069,
     "user": {
      "displayName": "이장래",
      "photoUrl": "https://lh3.googleusercontent.com/a-/AOh14GiAr2j2I1wKToLVmH4sVTSNBanYH4IL0jaxOtYU=s64",
      "userId": "01217686459280251442"
     },
     "user_tz": -540
    },
    "id": "gq2pQXqX53A3",
    "outputId": "27c7d82c-231a-48e1-b4cb-5353ee268cdf"
   },
   "outputs": [],
   "source": [
    "# 1월 실적에서 5000씩 뺴기\n",
    "df_test['1월'] = df_test['1월'] - 5000\n",
    "\n",
    "# 확인\n",
    "df_test.head()"
   ]
  },
  {
   "cell_type": "code",
   "execution_count": null,
   "metadata": {
    "colab": {
     "base_uri": "https://localhost:8080/",
     "height": 172
    },
    "colab_type": "code",
    "executionInfo": {
     "elapsed": 2555,
     "status": "ok",
     "timestamp": 1589432506069,
     "user": {
      "displayName": "이장래",
      "photoUrl": "https://lh3.googleusercontent.com/a-/AOh14GiAr2j2I1wKToLVmH4sVTSNBanYH4IL0jaxOtYU=s64",
      "userId": "01217686459280251442"
     },
     "user_tz": -540
    },
    "id": "zHGA0rcre4gR",
    "outputId": "bc73a2d1-896d-446c-9183-04a937f69fef"
   },
   "outputs": [],
   "source": [
    "# C002 이름을 '행복한'으로 변경\n",
    "df_test.loc['C002', ['이름']] = '행복한'\n",
    "\n",
    "# 확인\n",
    "df_test.head()"
   ]
  },
  {
   "cell_type": "code",
   "execution_count": null,
   "metadata": {
    "colab": {
     "base_uri": "https://localhost:8080/",
     "height": 172
    },
    "colab_type": "code",
    "executionInfo": {
     "elapsed": 2553,
     "status": "ok",
     "timestamp": 1589432506070,
     "user": {
      "displayName": "이장래",
      "photoUrl": "https://lh3.googleusercontent.com/a-/AOh14GiAr2j2I1wKToLVmH4sVTSNBanYH4IL0jaxOtYU=s64",
      "userId": "01217686459280251442"
     },
     "user_tz": -540
    },
    "id": "XG9EjUb56bzE",
    "outputId": "41f15221-373f-4dfd-b5e8-91d091884587"
   },
   "outputs": [],
   "source": [
    "# C001 3월 실적을 55000으로 변경\n",
    "df_test.loc['C001', ['3월']] = 55000\n",
    "\n",
    "# 확인\n",
    "df_test.head()"
   ]
  },
  {
   "cell_type": "markdown",
   "metadata": {
    "colab_type": "text",
    "id": "BCBZOe4UATv2"
   },
   "source": [
    "## 5.2. 열 이름 변경\n",
    "\n",
    "- 기존 데이터프레임의 열 이름을 적절히 변경해야 할 경우가 있습니다.\n",
    "- 또는 집계 결과를 가진 열 이름을 이해하기 쉽게 변경해야 할 경우도 있습니다."
   ]
  },
  {
   "cell_type": "code",
   "execution_count": null,
   "metadata": {
    "colab": {
     "base_uri": "https://localhost:8080/",
     "height": 172
    },
    "colab_type": "code",
    "executionInfo": {
     "elapsed": 2551,
     "status": "ok",
     "timestamp": 1589432506071,
     "user": {
      "displayName": "이장래",
      "photoUrl": "https://lh3.googleusercontent.com/a-/AOh14GiAr2j2I1wKToLVmH4sVTSNBanYH4IL0jaxOtYU=s64",
      "userId": "01217686459280251442"
     },
     "user_tz": -540
    },
    "id": "H4-NCvHTATv6",
    "outputId": "29c4f8f8-5ad5-435a-99d0-6dd4d461df93",
    "scrolled": false
   },
   "outputs": [],
   "source": [
    "# 데이터프레임 만들기\n",
    "dict = {'이름': ['홍길동', '한사랑', '일지매', '박여인'],\n",
    "        'Level': ['Gold', 'Bronze', 'Silver', 'Gold'],\n",
    "        'Score': [56000, 23000, 44000, 52000]}\n",
    "\n",
    "df = pd.DataFrame(dict, index=['1번', '2번', '3번', '4번'])\n",
    "df.head()"
   ]
  },
  {
   "cell_type": "markdown",
   "metadata": {
    "colab_type": "text",
    "id": "MTGNl_DxATwH"
   },
   "source": [
    "**1) 모든 열 이름 변경**\n",
    "\n",
    "- 모든 열 이름을 변경할 때는 **columns** 속성을 변경합니다."
   ]
  },
  {
   "cell_type": "code",
   "execution_count": null,
   "metadata": {
    "colab": {
     "base_uri": "https://localhost:8080/",
     "height": 172
    },
    "colab_type": "code",
    "executionInfo": {
     "elapsed": 2547,
     "status": "ok",
     "timestamp": 1589432506071,
     "user": {
      "displayName": "이장래",
      "photoUrl": "https://lh3.googleusercontent.com/a-/AOh14GiAr2j2I1wKToLVmH4sVTSNBanYH4IL0jaxOtYU=s64",
      "userId": "01217686459280251442"
     },
     "user_tz": -540
    },
    "id": "EkoPSqHOwxo1",
    "outputId": "0ff5feb2-1b92-4b2a-e6e0-b50add8a05c3",
    "scrolled": false
   },
   "outputs": [],
   "source": [
    "# 전체 변경\n",
    "df.columns = ['이름', '등급', '점수']\n",
    "df.head()"
   ]
  },
  {
   "cell_type": "markdown",
   "metadata": {
    "colab_type": "text",
    "id": "wE9-dcnOATwT"
   },
   "source": [
    "**2) 일부 열 이름 변경**\n",
    "\n",
    "- **rename()** 함수를 사용해 변경 전후의 열 이름을 딕셔너리 형태로 나열하는 방법으로 변경합니다."
   ]
  },
  {
   "cell_type": "code",
   "execution_count": null,
   "metadata": {
    "colab": {
     "base_uri": "https://localhost:8080/",
     "height": 172
    },
    "colab_type": "code",
    "executionInfo": {
     "elapsed": 2545,
     "status": "ok",
     "timestamp": 1589432506072,
     "user": {
      "displayName": "이장래",
      "photoUrl": "https://lh3.googleusercontent.com/a-/AOh14GiAr2j2I1wKToLVmH4sVTSNBanYH4IL0jaxOtYU=s64",
      "userId": "01217686459280251442"
     },
     "user_tz": -540
    },
    "id": "nIBQUaLbwxo7",
    "outputId": "5af2ddc9-1ad5-4f2f-94ff-fcf83a36bb69",
    "scrolled": false
   },
   "outputs": [],
   "source": [
    "# rename() 함수로 열 이름 변경 가능\n",
    "df.rename(columns={'이름': 'Name', '등급': 'Level', '점수': 'Score'}, inplace=True)\n",
    "df.head()"
   ]
  },
  {
   "cell_type": "markdown",
   "metadata": {
    "colab_type": "text",
    "id": "705oIgrVATwZ"
   },
   "source": [
    "## 5.3. 열 추가\n",
    "\n",
    "- 새로운 열을 추가하여 기존 데이터에서 계산된 결괏값을 저장해야할 경우가 있습니다."
   ]
  },
  {
   "cell_type": "code",
   "execution_count": null,
   "metadata": {
    "colab": {
     "base_uri": "https://localhost:8080/",
     "height": 172
    },
    "colab_type": "code",
    "executionInfo": {
     "elapsed": 2543,
     "status": "ok",
     "timestamp": 1589432506073,
     "user": {
      "displayName": "이장래",
      "photoUrl": "https://lh3.googleusercontent.com/a-/AOh14GiAr2j2I1wKToLVmH4sVTSNBanYH4IL0jaxOtYU=s64",
      "userId": "01217686459280251442"
     },
     "user_tz": -540
    },
    "id": "voBvMiAHATwa",
    "outputId": "3e7f8056-8b60-457b-e3fe-d4bf3d7088e7",
    "scrolled": true
   },
   "outputs": [],
   "source": [
    "# 데이터프레임 만들기\n",
    "dict = {'이름': ['홍길동', '한사랑', '일지매', '박여인'],\n",
    "        '등급': ['Gold', 'Bronze', 'Silver', 'Gold'],\n",
    "        '점수': [56000, 23000, 44000, 52000]}\n",
    "\n",
    "df = pd.DataFrame(dict, index=['1번', '2번', '3번', '4번'])\n",
    "df.head()"
   ]
  },
  {
   "cell_type": "markdown",
   "metadata": {
    "colab_type": "text",
    "id": "UKvJJvleATwd"
   },
   "source": [
    "**1) 맨 뒤에 열 추가**\n",
    "\n",
    "- **없는 열를 변경**하면 그 **열이 추가**됩니다.\n",
    "- 맨 뒤 열로 추가되며, 원하는 위치에 열을 추가할 수는 없습니다."
   ]
  },
  {
   "cell_type": "code",
   "execution_count": null,
   "metadata": {
    "colab": {
     "base_uri": "https://localhost:8080/",
     "height": 172
    },
    "colab_type": "code",
    "executionInfo": {
     "elapsed": 2540,
     "status": "ok",
     "timestamp": 1589432506074,
     "user": {
      "displayName": "이장래",
      "photoUrl": "https://lh3.googleusercontent.com/a-/AOh14GiAr2j2I1wKToLVmH4sVTSNBanYH4IL0jaxOtYU=s64",
      "userId": "01217686459280251442"
     },
     "user_tz": -540
    },
    "id": "exm3SjSAwxpB",
    "outputId": "1294400d-3175-4ad8-dc48-da134fa76a1c",
    "scrolled": false
   },
   "outputs": [],
   "source": [
    "# 맨 뒤에 0으로 채워진 열 추가\n",
    "df['포인트2'] = 0 \n",
    "df.head()"
   ]
  },
  {
   "cell_type": "markdown",
   "metadata": {
    "colab_type": "text",
    "id": "CU3q3twSATwh"
   },
   "source": [
    "**2) 지정한 위치에 열 추가**\n",
    "\n",
    "- **insert()** 함수를 사용하면 원하는 위치에 열을 추가할 수 있습니다.\n",
    "- **allow_duplicates** 옵션으로 같은 이름의 열이 있으면 추가할 지의 여부를 지정합니다."
   ]
  },
  {
   "cell_type": "code",
   "execution_count": null,
   "metadata": {
    "colab": {
     "base_uri": "https://localhost:8080/",
     "height": 172
    },
    "colab_type": "code",
    "executionInfo": {
     "elapsed": 2537,
     "status": "ok",
     "timestamp": 1589432506074,
     "user": {
      "displayName": "이장래",
      "photoUrl": "https://lh3.googleusercontent.com/a-/AOh14GiAr2j2I1wKToLVmH4sVTSNBanYH4IL0jaxOtYU=s64",
      "userId": "01217686459280251442"
     },
     "user_tz": -540
    },
    "id": "B1bWf2j8ATwi",
    "outputId": "aab86d4d-d9d9-445c-a4ca-ae78b5b21377",
    "scrolled": true
   },
   "outputs": [],
   "source": [
    "# 포인트2 열 앞에 0으로 채워진 새로운 열 추가\n",
    "df.insert(3, '포인트1', 0, allow_duplicates=True)\n",
    "df.head()"
   ]
  },
  {
   "cell_type": "code",
   "execution_count": null,
   "metadata": {
    "colab": {
     "base_uri": "https://localhost:8080/",
     "height": 172
    },
    "colab_type": "code",
    "executionInfo": {
     "elapsed": 2535,
     "status": "ok",
     "timestamp": 1589432506075,
     "user": {
      "displayName": "이장래",
      "photoUrl": "https://lh3.googleusercontent.com/a-/AOh14GiAr2j2I1wKToLVmH4sVTSNBanYH4IL0jaxOtYU=s64",
      "userId": "01217686459280251442"
     },
     "user_tz": -540
    },
    "id": "izcnfrBgATwm",
    "outputId": "1aec2a3f-f443-46c8-b26c-0df211041c07",
    "scrolled": true
   },
   "outputs": [],
   "source": [
    "# 추가된 열에 계산 값 넣기\n",
    "df['포인트1'] = df['점수'] * 0.01\n",
    "df['포인트2'] = df['포인트1'] * 0.1\n",
    "df.head()"
   ]
  },
  {
   "cell_type": "markdown",
   "metadata": {
    "colab_type": "text",
    "id": "lidhWqNZATw1"
   },
   "source": [
    "**3) 계산된 값을 갖는 열 추가**\n",
    "\n",
    "- 열을 추가한 후 그 열에 계산 결과를 넣는 방법보다 더 간결한 방법입니다."
   ]
  },
  {
   "cell_type": "code",
   "execution_count": null,
   "metadata": {
    "colab": {
     "base_uri": "https://localhost:8080/",
     "height": 172
    },
    "colab_type": "code",
    "executionInfo": {
     "elapsed": 2533,
     "status": "ok",
     "timestamp": 1589432506076,
     "user": {
      "displayName": "이장래",
      "photoUrl": "https://lh3.googleusercontent.com/a-/AOh14GiAr2j2I1wKToLVmH4sVTSNBanYH4IL0jaxOtYU=s64",
      "userId": "01217686459280251442"
     },
     "user_tz": -540
    },
    "id": "EsXD6gb6ATw2",
    "outputId": "6125db43-b82f-4444-ddf0-2269235f7b0d",
    "scrolled": true
   },
   "outputs": [],
   "source": [
    "# 계산된 값을 갖는 새로운 열을 맨 뒤에 추가\n",
    "df['포인트3'] = df['포인트2'] * 0.1\n",
    "df['최종점수'] = df['점수'] + df['포인트1'] + df['포인트2'] + df['포인트3']\n",
    "\n",
    "# 정수 형으로 변환\n",
    "df['최종점수'] = df['최종점수'].astype(int)\n",
    "df.head()"
   ]
  },
  {
   "cell_type": "markdown",
   "metadata": {
    "colab_type": "text",
    "id": "bl6mG6JgATw5"
   },
   "source": [
    "## 5.4. 열 삭제\n",
    "\n",
    "- 분석에 의미가 없는 열은 제거하여 데이터 크기를 줄이는 것이 좋습니다.\n",
    "- 불필요한 데이터는 분석을 방해하는 요인이 됩니다."
   ]
  },
  {
   "cell_type": "code",
   "execution_count": null,
   "metadata": {
    "colab": {
     "base_uri": "https://localhost:8080/",
     "height": 172
    },
    "colab_type": "code",
    "executionInfo": {
     "elapsed": 3747,
     "status": "ok",
     "timestamp": 1589432507293,
     "user": {
      "displayName": "이장래",
      "photoUrl": "https://lh3.googleusercontent.com/a-/AOh14GiAr2j2I1wKToLVmH4sVTSNBanYH4IL0jaxOtYU=s64",
      "userId": "01217686459280251442"
     },
     "user_tz": -540
    },
    "id": "kVhYkxTFATw6",
    "outputId": "6db6f614-ec54-469d-94bf-368211dee5f9",
    "scrolled": true
   },
   "outputs": [],
   "source": [
    "# 데이터프레임 만들기\n",
    "dict = {'이름': ['홍길동', '한사랑', '일지매', '박여인'],\n",
    "        '성별': ['남', '여', '남', '여'],\n",
    "        '나이': [25, 27, 31, 26],\n",
    "        '등급': ['Gold', 'Bronze', 'Silver', 'Gold'],\n",
    "        '점수': [56000, 23000, 44000, 52000]}\n",
    "\n",
    "df = pd.DataFrame(dict, index=['1번', '2번', '3번', '4번'])\n",
    "df.head()"
   ]
  },
  {
   "cell_type": "markdown",
   "metadata": {
    "colab_type": "text",
    "id": "YxCLRWcTATxC"
   },
   "source": [
    "**1) 열 하나 삭제**\n",
    "\n",
    "- **drop()** 메소드를 사용해 열을 삭제합니다.\n",
    "- axis=0: 행 삭제(기본 값) \n",
    "- axis=1: 열 삭제\n"
   ]
  },
  {
   "cell_type": "code",
   "execution_count": null,
   "metadata": {
    "colab": {
     "base_uri": "https://localhost:8080/",
     "height": 172
    },
    "colab_type": "code",
    "executionInfo": {
     "elapsed": 3745,
     "status": "ok",
     "timestamp": 1589432507295,
     "user": {
      "displayName": "이장래",
      "photoUrl": "https://lh3.googleusercontent.com/a-/AOh14GiAr2j2I1wKToLVmH4sVTSNBanYH4IL0jaxOtYU=s64",
      "userId": "01217686459280251442"
     },
     "user_tz": -540
    },
    "id": "IllnJ5JfATxD",
    "outputId": "8c5430ef-a5b0-48ea-b943-e1bcb1ec7f82",
    "scrolled": false
   },
   "outputs": [],
   "source": [
    "# 열 하나 삭제\n",
    "df.drop('성별', axis=1, inplace=True)\n",
    "df.head()"
   ]
  },
  {
   "cell_type": "markdown",
   "metadata": {
    "colab_type": "text",
    "id": "TFmpd24DATxI"
   },
   "source": [
    "**2) 여러 열 삭제**"
   ]
  },
  {
   "cell_type": "code",
   "execution_count": null,
   "metadata": {
    "colab": {
     "base_uri": "https://localhost:8080/",
     "height": 172
    },
    "colab_type": "code",
    "executionInfo": {
     "elapsed": 3742,
     "status": "ok",
     "timestamp": 1589432507295,
     "user": {
      "displayName": "이장래",
      "photoUrl": "https://lh3.googleusercontent.com/a-/AOh14GiAr2j2I1wKToLVmH4sVTSNBanYH4IL0jaxOtYU=s64",
      "userId": "01217686459280251442"
     },
     "user_tz": -540
    },
    "id": "4P_cuUeOATxK",
    "outputId": "3dcc95ca-1c8f-484b-94bc-be661a583e17",
    "scrolled": true
   },
   "outputs": [],
   "source": [
    "# 열 두 개 삭제\n",
    "df.drop(['나이','등급'], axis=1, inplace=True)\n",
    "df.head()"
   ]
  },
  {
   "cell_type": "markdown",
   "metadata": {
    "colab_type": "text",
    "id": "HJoGM2SpfbZc"
   },
   "source": [
    "<img src='https://raw.githubusercontent.com/jangrae/img/master/practice_01.png' width=120 align=\"left\"/>"
   ]
  },
  {
   "cell_type": "markdown",
   "metadata": {
    "colab_type": "text",
    "id": "aKjvOLj88Oiu"
   },
   "source": [
    "다음에 주어진 데이터프레임을 확인한 후 이어지는 셀을 완성해 보세요."
   ]
  },
  {
   "cell_type": "code",
   "execution_count": null,
   "metadata": {
    "colab": {
     "base_uri": "https://localhost:8080/",
     "height": 172
    },
    "colab_type": "code",
    "executionInfo": {
     "elapsed": 1182,
     "status": "ok",
     "timestamp": 1589432509647,
     "user": {
      "displayName": "이장래",
      "photoUrl": "https://lh3.googleusercontent.com/a-/AOh14GiAr2j2I1wKToLVmH4sVTSNBanYH4IL0jaxOtYU=s64",
      "userId": "01217686459280251442"
     },
     "user_tz": -540
    },
    "id": "8xcjOvdJ8Oiy",
    "outputId": "e53c2216-a006-4cfb-b0d0-7795e5673987",
    "scrolled": true
   },
   "outputs": [],
   "source": [
    "# 데이터프레임 만들기\n",
    "dict = {'이름': ['나처럼', '즐거운', '사람이', '누구요'],\n",
    "        '나이': [32, 36, 28, 33],\n",
    "        '1월': [45600, 20000, 46000, 50000],\n",
    "        '2월': [56000, 23000, 44000, 45000],\n",
    "        '3월': [52000, 33000, 39000, 49000],\n",
    "        }\n",
    "\n",
    "df_test = pd.DataFrame(dict, index=['C001', 'C002', 'C003', 'C004'])\n",
    "df_test.head()"
   ]
  },
  {
   "cell_type": "code",
   "execution_count": null,
   "metadata": {
    "colab": {
     "base_uri": "https://localhost:8080/",
     "height": 172
    },
    "colab_type": "code",
    "executionInfo": {
     "elapsed": 1386,
     "status": "ok",
     "timestamp": 1589432513825,
     "user": {
      "displayName": "이장래",
      "photoUrl": "https://lh3.googleusercontent.com/a-/AOh14GiAr2j2I1wKToLVmH4sVTSNBanYH4IL0jaxOtYU=s64",
      "userId": "01217686459280251442"
     },
     "user_tz": -540
    },
    "id": "KjoXAk1W8Q4c",
    "outputId": "4b0566a2-5f5d-4564-a527-0fe331cb0fe6",
    "scrolled": true
   },
   "outputs": [],
   "source": [
    "# 열 이름을 'Name', 'Age', 'Jan', 'Feb', 'Mar' 로 변경\n",
    "df_test.columns = ['Name', 'Age', 'Jan', 'Feb', 'Mar']\n",
    "\n",
    "# 확인\n",
    "df_test.head()"
   ]
  },
  {
   "cell_type": "code",
   "execution_count": null,
   "metadata": {
    "colab": {
     "base_uri": "https://localhost:8080/",
     "height": 172
    },
    "colab_type": "code",
    "executionInfo": {
     "elapsed": 1157,
     "status": "ok",
     "timestamp": 1589432577998,
     "user": {
      "displayName": "이장래",
      "photoUrl": "https://lh3.googleusercontent.com/a-/AOh14GiAr2j2I1wKToLVmH4sVTSNBanYH4IL0jaxOtYU=s64",
      "userId": "01217686459280251442"
     },
     "user_tz": -540
    },
    "id": "6t32n73P8vYK",
    "outputId": "57e8e7f7-7f6e-40f8-a883-2364f417d72f",
    "scrolled": true
   },
   "outputs": [],
   "source": [
    "# 0으로 채워진 Mean 열 추가\n",
    "df_test['Mean'] = 0\n",
    "\n",
    "# 확인\n",
    "df_test.head()"
   ]
  },
  {
   "cell_type": "code",
   "execution_count": null,
   "metadata": {
    "colab": {},
    "colab_type": "code",
    "id": "Za6zhXEp9ox4",
    "scrolled": true
   },
   "outputs": [],
   "source": [
    "# NaN으로 채워진 Total 열 추가\n",
    "df_test['Total'] = np.nan\n",
    "\n",
    "# 확인\n",
    "df_test.head()"
   ]
  },
  {
   "cell_type": "code",
   "execution_count": null,
   "metadata": {
    "colab": {},
    "colab_type": "code",
    "id": "YMiCpwo_-SW8",
    "scrolled": true
   },
   "outputs": [],
   "source": [
    "# Age 열 제거\n",
    "df_test.drop('Age', axis=1, inplace=True)\n",
    "\n",
    "# 확인\n",
    "df_test.head()"
   ]
  },
  {
   "cell_type": "code",
   "execution_count": null,
   "metadata": {
    "scrolled": true
   },
   "outputs": [],
   "source": [
    "# Total 열에 Jan + Feb + Mar 계산 결과 저장\n",
    "df_test['Total'] = df_test['Jan'] + df_test['Feb'] + df_test['Mar']\n",
    "\n",
    "# 확인\n",
    "df_test.head()"
   ]
  },
  {
   "cell_type": "code",
   "execution_count": null,
   "metadata": {
    "scrolled": true
   },
   "outputs": [],
   "source": [
    "# Mean 열에 평균 저장\n",
    "df_test['Mean'] = df_test['Total'] / 3\n",
    "\n",
    "# 확인\n",
    "df_test.head()"
   ]
  },
  {
   "cell_type": "code",
   "execution_count": null,
   "metadata": {
    "scrolled": true
   },
   "outputs": [],
   "source": [
    "# Mean 열 데이터 형식을 정수로 변경\n",
    "df_test['Mean'] = df_test['Mean'].astype(int)\n",
    "\n",
    "# 확인\n",
    "df_test.head()"
   ]
  },
  {
   "cell_type": "markdown",
   "metadata": {
    "colab_type": "text",
    "id": "qnTIz7a_ATxb"
   },
   "source": [
    "## 5.5. 행 추가"
   ]
  },
  {
   "cell_type": "code",
   "execution_count": null,
   "metadata": {
    "colab": {},
    "colab_type": "code",
    "id": "1dx_xpt2ATxc",
    "scrolled": false
   },
   "outputs": [],
   "source": [
    "# 데이터프레임 만들기\n",
    "dict = {'이름': ['홍길동', '한사랑', '일지매', '박여인'],\n",
    "        '등급': ['Gold', 'Bronze', 'Silver', 'Gold'],\n",
    "        '점수': [56000, 23000, 44000, 52000]}\n",
    "\n",
    "df = pd.DataFrame(dict, index=['1번', '2번', '3번', '4번'])\n",
    "df.head()"
   ]
  },
  {
   "cell_type": "markdown",
   "metadata": {
    "colab_type": "text",
    "id": "FrrNhLVqATxf"
   },
   "source": [
    "**1) 한 행 추가**\n",
    "\n",
    "- 기존에 없는 인덱스 이름을 지정해 변경하면 새로운 행이 추가되는 결과가 됩니디.\n",
    "- 없으면 추가하라! 열도 마찬가지임을 앞에서 살펴 봤습니다."
   ]
  },
  {
   "cell_type": "code",
   "execution_count": null,
   "metadata": {
    "colab": {},
    "colab_type": "code",
    "id": "nvxzPennATxh",
    "scrolled": true
   },
   "outputs": [],
   "source": [
    "df.loc['5번'] = ['강우동', 'Silver', 43000]\n",
    "df.head(10)"
   ]
  },
  {
   "cell_type": "markdown",
   "metadata": {
    "colab_type": "text",
    "id": "mRCZpR31ATxk"
   },
   "source": [
    "**2) 데이터프레임을 추가**\n",
    "- **append()** 함수 사용해 다른 데이터프레임을 행으로 추가할 수 있습니다."
   ]
  },
  {
   "cell_type": "code",
   "execution_count": null,
   "metadata": {
    "colab": {},
    "colab_type": "code",
    "id": "KXEY0O_fATxm",
    "scrolled": true
   },
   "outputs": [],
   "source": [
    "# 데이터프레임 만들기\n",
    "dict = {'이름': ['한국인', '나도야'],\n",
    "        '등급': ['Silver', 'Bronze'],\n",
    "        '점수': [47000, 28000]}\n",
    "\n",
    "df_new = pd.DataFrame(dict, index=['6번', '7번'])\n",
    "df_new.head()"
   ]
  },
  {
   "cell_type": "code",
   "execution_count": null,
   "metadata": {
    "colab": {},
    "colab_type": "code",
    "id": "DvYKyhOpATxr",
    "scrolled": true
   },
   "outputs": [],
   "source": [
    "# 기존 데이터프레임에 새로 만든 데이터프레임 추가\n",
    "df = df.append(df_new)\n",
    "df.head(10)"
   ]
  },
  {
   "cell_type": "markdown",
   "metadata": {
    "colab_type": "text",
    "id": "xakVagKSATxx"
   },
   "source": [
    "## 5.6. 행 삭제"
   ]
  },
  {
   "cell_type": "code",
   "execution_count": null,
   "metadata": {
    "colab": {},
    "colab_type": "code",
    "id": "Yna64jfNATxy",
    "scrolled": true
   },
   "outputs": [],
   "source": [
    "# 데이터프레임 만들기\n",
    "dict = {'이름': ['홍길동', '한사랑', '일지매', '박여인'],\n",
    "        '등급': ['Gold', 'Bronze', 'Silver', 'Gold'],\n",
    "        '점수': [56000, 23000, 44000, 52000]}\n",
    "\n",
    "df = pd.DataFrame(dict, index=['1번', '2번', '3번', '4번'])\n",
    "df.head()"
   ]
  },
  {
   "cell_type": "markdown",
   "metadata": {
    "colab_type": "text",
    "id": "O9cf7q3NATx4"
   },
   "source": [
    "**1) 정수형 위치 인덱스로 삭제**"
   ]
  },
  {
   "cell_type": "code",
   "execution_count": null,
   "metadata": {
    "colab": {},
    "colab_type": "code",
    "id": "5R8bGNd8ATx8",
    "scrolled": true
   },
   "outputs": [],
   "source": [
    "df.drop(df.index[3], inplace=True)\n",
    "df.head()"
   ]
  },
  {
   "cell_type": "markdown",
   "metadata": {
    "colab_type": "text",
    "id": "vPRRZpZQATx-"
   },
   "source": [
    "**2) 인덱스 이름으로 삭제**\n",
    "\n",
    "- axis=0 옵션 생략 가능"
   ]
  },
  {
   "cell_type": "code",
   "execution_count": null,
   "metadata": {
    "colab": {},
    "colab_type": "code",
    "id": "tF8p1oEIATyA",
    "scrolled": false
   },
   "outputs": [],
   "source": [
    "df.drop('3번', axis=0, inplace=True)\n",
    "df.head()"
   ]
  },
  {
   "cell_type": "markdown",
   "metadata": {
    "colab_type": "text",
    "id": "Vapph_kPATyF"
   },
   "source": [
    "**3) 조건 지정해 삭제**\n",
    "\n",
    "- 삭제할 행의 인덱스 정보를 먼저 확인한 후 drop() 함수로 삭제합니다."
   ]
  },
  {
   "cell_type": "code",
   "execution_count": null,
   "metadata": {
    "colab": {},
    "colab_type": "code",
    "id": "euZBXrHvATyM",
    "scrolled": false
   },
   "outputs": [],
   "source": [
    "del_idx = df[df['등급'] == 'Gold'].index\n",
    "df.drop(del_idx, inplace=True)\n",
    "df.head()"
   ]
  },
  {
   "cell_type": "markdown",
   "metadata": {
    "colab_type": "text",
    "id": "sfKGGA5DATyV"
   },
   "source": [
    "**4) 모든 행 삭제**"
   ]
  },
  {
   "cell_type": "code",
   "execution_count": null,
   "metadata": {
    "colab": {},
    "colab_type": "code",
    "id": "GNHRWc3CHXFW",
    "scrolled": false
   },
   "outputs": [],
   "source": [
    "# 아무것도 선택하지 않은 것을 다시 데이터프레임으로 지정\n",
    "df = df.iloc[0:0]\n",
    "df.head()"
   ]
  },
  {
   "cell_type": "markdown",
   "metadata": {
    "colab_type": "text",
    "id": "ns8U_nq-b2fi"
   },
   "source": [
    "**5) 데이터프레임 완전 삭제**\n",
    "\n",
    "- **del** 문으로 데이터프레임을 완전히 제거할 수 있습니다."
   ]
  },
  {
   "cell_type": "code",
   "execution_count": null,
   "metadata": {
    "colab": {},
    "colab_type": "code",
    "id": "o_cju7lMbuyv"
   },
   "outputs": [],
   "source": [
    "del df"
   ]
  },
  {
   "cell_type": "markdown",
   "metadata": {
    "colab_type": "text",
    "id": "w2RmT91mfeWI"
   },
   "source": [
    "<img src='https://raw.githubusercontent.com/jangrae/img/master/practice_01.png' width=120 align=\"left\"/>"
   ]
  },
  {
   "cell_type": "markdown",
   "metadata": {
    "colab_type": "text",
    "id": "fbeMe81A_h4o"
   },
   "source": [
    "다음에 주어진 데이터프레임을 확인한 후 이어지는 셀을 완성해 보세요."
   ]
  },
  {
   "cell_type": "code",
   "execution_count": null,
   "metadata": {
    "colab": {},
    "colab_type": "code",
    "id": "F7BbF0QP_h4w"
   },
   "outputs": [],
   "source": [
    "# 데이터프레임 만들기\n",
    "dict = {'이름': ['나처럼', '즐거운', '사람이', '누구요'],\n",
    "        '나이': [32, 36, 28, 33],\n",
    "        '1월': [45600, 20000, 46000, 50000],\n",
    "        '2월': [56000, 23000, 44000, 45000],\n",
    "        '3월': [52000, 33000, 39000, 49000],\n",
    "        }\n",
    "\n",
    "df_test = pd.DataFrame(dict, index=['C001', 'C002', 'C003', 'C004'])\n",
    "df_test.head()"
   ]
  },
  {
   "cell_type": "code",
   "execution_count": null,
   "metadata": {
    "colab": {},
    "colab_type": "code",
    "id": "5MWmtlro_kNs"
   },
   "outputs": [],
   "source": [
    "# C005, '모두다', 20, 45000, 48000, 43000  추가\n",
    "df_test.loc['C005'] = ['모두다', 20, 45000, 48000, 43000]\n",
    "\n",
    "# 확인\n",
    "df_test"
   ]
  },
  {
   "cell_type": "code",
   "execution_count": null,
   "metadata": {
    "colab": {},
    "colab_type": "code",
    "id": "dFPoaj0TArhA"
   },
   "outputs": [],
   "source": [
    "# C004 행 삭제\n",
    "df_test.drop('C004', axis=0, inplace=True)\n",
    "\n",
    "# 확인\n",
    "df_test"
   ]
  },
  {
   "cell_type": "code",
   "execution_count": null,
   "metadata": {
    "colab": {},
    "colab_type": "code",
    "id": "dBpc9DmRAwkZ"
   },
   "outputs": [],
   "source": [
    "# C004, '어쩌면', 33, 50000, 45000, 49000  추가\n",
    "df_test.loc['C004'] = ['어쩌면', 20, 45000, 48000, 43000]\n",
    "\n",
    "# 확인\n",
    "df_test"
   ]
  },
  {
   "cell_type": "code",
   "execution_count": null,
   "metadata": {
    "colab": {},
    "colab_type": "code",
    "id": "COCXe-MLBK6z"
   },
   "outputs": [],
   "source": [
    "# 인덱스 재정렬\n",
    "df_test.sort_index(inplace=True)\n",
    "\n",
    "# 확인\n",
    "df_test"
   ]
  },
  {
   "cell_type": "markdown",
   "metadata": {
    "colab_type": "text",
    "id": "KqOHu2W4C_0R"
   },
   "source": [
    "## <center>수고하셨습니다.</center>\n",
    "<center><img src='https://raw.githubusercontent.com/Jangrae/img/master/end.png' width=200/></center>"
   ]
  }
 ],
 "metadata": {
  "colab": {
   "collapsed_sections": [],
   "name": "05 데이터프레임 변경 1단계.ipynb",
   "provenance": []
  },
  "kernelspec": {
   "display_name": "Python 3",
   "language": "python",
   "name": "python3"
  },
  "language_info": {
   "codemirror_mode": {
    "name": "ipython",
    "version": 3
   },
   "file_extension": ".py",
   "mimetype": "text/x-python",
   "name": "python",
   "nbconvert_exporter": "python",
   "pygments_lexer": "ipython3",
   "version": "3.7.6"
  }
 },
 "nbformat": 4,
 "nbformat_minor": 1
}
