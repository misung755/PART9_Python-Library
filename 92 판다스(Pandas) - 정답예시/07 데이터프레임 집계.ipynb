{
 "cells": [
  {
   "cell_type": "markdown",
   "metadata": {
    "colab_type": "text",
    "id": "BFhIXgdYoYGp"
   },
   "source": [
    "<center><img src='https://raw.githubusercontent.com/Jangrae/img/master/title.png' width=500/></center>"
   ]
  },
  {
   "cell_type": "markdown",
   "metadata": {},
   "source": [
    "<center>- Pandas의 모든 것을 배우지 않습니다. 데이터 전처리에 대한 부분만 학습 대상이 됩니다 -</center>"
   ]
  },
  {
   "cell_type": "markdown",
   "metadata": {
    "colab_type": "text",
    "id": "DFijIAllYnVQ"
   },
   "source": [
    "# 학습 목표\n",
    "\n",
    "- 데이터프레임을 대상으로 기본적인 집계를 할 수 있습니다.\n",
    "- 여러 데이터프레임을 연결할 수 있습니다."
   ]
  },
  {
   "cell_type": "markdown",
   "metadata": {
    "colab_type": "text",
    "id": "hElggTFXYnWj"
   },
   "source": [
    "# 7. 데이터프레임 집계\n",
    "\n",
    "- 데이터프레임은 관계형 데이터베이스와 같은 집계가 가능합니다.\n",
    "- 상세 데이터가 아닌 집계된 데이터에 대한 분석이 자주 요구되므로 익숙해져야 할 내용입니다."
   ]
  },
  {
   "cell_type": "code",
   "execution_count": null,
   "metadata": {
    "colab": {},
    "colab_type": "code",
    "id": "DnUuJEQCF50p"
   },
   "outputs": [],
   "source": [
    "# 라이브러리 불러오기\n",
    "import numpy as np\n",
    "import pandas as pd\n",
    "import matplotlib.pyplot as plt"
   ]
  },
  {
   "cell_type": "markdown",
   "metadata": {
    "colab_type": "text",
    "id": "QiqL2q7spSvA"
   },
   "source": [
    "## 7.1. Groupby\n",
    "\n",
    "- 관계형 데이터베이스의 GROUP BY와 너무나 유사한 기능입니다.\n",
    "- sum(), mean(), max(), min(), count() 등 메소드를 사용해 특정 열을 기준으로 집계합니다.\n",
    "- 평균을 구하는 메소드가 avg()가 아닌 mean() 임을 주의하기 바랍니다."
   ]
  },
  {
   "cell_type": "code",
   "execution_count": null,
   "metadata": {
    "colab": {},
    "colab_type": "code",
    "id": "SOiVUXk_nlEl",
    "scrolled": false
   },
   "outputs": [],
   "source": [
    "# 파일 읽어오기\n",
    "file_path = 'https://raw.githubusercontent.com/Jangrae/csv/master/Graduate_apply.csv'\n",
    "graduate = pd.read_csv(file_path, sep=',', skipinitialspace=True)  \n",
    "graduate.head()"
   ]
  },
  {
   "cell_type": "markdown",
   "metadata": {
    "colab_type": "text",
    "id": "GvU3HPURzDQB"
   },
   "source": [
    "### 7.1.1. 합 구하기\n",
    "\n",
    "- **as_index=True**를 설정(기본값)하면 집계 기준이 되는 열이 인덱스 열이 됩니다.\n",
    "- **['gre'].sum()**과 같이 하면 결과가 **시리즈**가 됩니다.\n",
    "- **[['gre']].sum()**과 같이 하면 결과가 **데이터프레임**이 됩니다.\n"
   ]
  },
  {
   "cell_type": "code",
   "execution_count": null,
   "metadata": {
    "colab": {},
    "colab_type": "code",
    "id": "BJzZz0mWBVxR",
    "scrolled": false
   },
   "outputs": [],
   "source": [
    "# rank별 gre 합 조회 --> 시리즈\n",
    "graduate.groupby(by='rank', as_index=True)['gre'].sum()"
   ]
  },
  {
   "cell_type": "code",
   "execution_count": null,
   "metadata": {
    "colab": {},
    "colab_type": "code",
    "id": "rL59cj9zMWGK",
    "scrolled": true
   },
   "outputs": [],
   "source": [
    "# rank별 gre 합 조회 --> 데이터프레임\n",
    "graduate.groupby(by='rank', as_index=True)[['gre']].sum()"
   ]
  },
  {
   "cell_type": "markdown",
   "metadata": {
    "colab_type": "text",
    "id": "b1fedxMnMWGN"
   },
   "source": [
    "- **as_index=False**를 설정하면 행 번호를 기반으로 한 정수 값이 인덱스로 설정됩니다."
   ]
  },
  {
   "cell_type": "code",
   "execution_count": null,
   "metadata": {
    "colab": {},
    "colab_type": "code",
    "id": "oS0fzfrjMWGN",
    "scrolled": false
   },
   "outputs": [],
   "source": [
    "# rank별 gre 합 조회\n",
    "graduate.groupby(by='rank', as_index=False)['gre'].sum()"
   ]
  },
  {
   "cell_type": "markdown",
   "metadata": {
    "colab_type": "text",
    "id": "j4SHaUmUvHuw"
   },
   "source": [
    "- 집계 결과를 새로운 데이터프레임으로 선언하여 사용하는 경우가 많습니다.\n",
    "- 집계된 결과를 반복해서 사용하거나, 분석 대상이 되는 경우 데이터프레임으로 선언함이 유익합니다."
   ]
  },
  {
   "cell_type": "code",
   "execution_count": null,
   "metadata": {
    "colab": {},
    "colab_type": "code",
    "id": "jpbF5fzEvq6y",
    "scrolled": false
   },
   "outputs": [],
   "source": [
    "# rank별 gre 합 조회\n",
    "gr_sum = graduate.groupby(by='rank', as_index=False)['gre'].sum()\n",
    "gr_sum"
   ]
  },
  {
   "cell_type": "code",
   "execution_count": null,
   "metadata": {
    "colab": {},
    "colab_type": "code",
    "id": "FxBMlfMDv9xe"
   },
   "outputs": [],
   "source": [
    "# bar chart 표시\n",
    "gr_sum.plot(kind='bar', x='rank', y='gre')\n",
    "plt.show()"
   ]
  },
  {
   "cell_type": "markdown",
   "metadata": {
    "colab_type": "text",
    "id": "s1d2Tsg-MWGP"
   },
   "source": [
    "- 여러 열에 대한 집계를 같이 할 수 있습니다.\n",
    "- **[['gre', 'gpa']].sum()**과 같이 여려 열을 [[  ]] 안에 나열하면 됩니다."
   ]
  },
  {
   "cell_type": "code",
   "execution_count": null,
   "metadata": {
    "colab": {},
    "colab_type": "code",
    "id": "3C72p33Q6vlH",
    "scrolled": true
   },
   "outputs": [],
   "source": [
    "# rank별 gre와 gpa 합 조회\n",
    "gr_sum = graduate.groupby(by='rank', as_index=False)[['gre', 'gpa']].sum()\n",
    "gr_sum"
   ]
  },
  {
   "cell_type": "markdown",
   "metadata": {
    "colab_type": "text",
    "id": "bi0EMGbFMWGS"
   },
   "source": [
    "- sum() 메소드 앞에 아무 열도 지정하지 않으면 모든 열에 대한 집계가 수행됩니다."
   ]
  },
  {
   "cell_type": "code",
   "execution_count": null,
   "metadata": {
    "colab": {},
    "colab_type": "code",
    "id": "92w6S2_N61zC",
    "scrolled": true
   },
   "outputs": [],
   "source": [
    "# rank별 나머지 열들 합 조회\n",
    "gr_sum = graduate.groupby(by='rank', as_index=False).sum()\n",
    "gr_sum"
   ]
  },
  {
   "cell_type": "markdown",
   "metadata": {
    "colab_type": "text",
    "id": "fEMrK4DNMWGV"
   },
   "source": [
    "- **by=['rank', 'admit']** 과 같이 집계 기준 열을 여럿 설정할 수도 있습니다."
   ]
  },
  {
   "cell_type": "code",
   "execution_count": null,
   "metadata": {
    "colab": {},
    "colab_type": "code",
    "id": "MIoL7ZmzMWGV",
    "scrolled": true
   },
   "outputs": [],
   "source": [
    "# rank별 나머지 열들 합 조회\n",
    "gr_sum = graduate.groupby(by=['rank', 'admit'], as_index=False).sum()\n",
    "gr_sum"
   ]
  },
  {
   "cell_type": "markdown",
   "metadata": {
    "colab_type": "text",
    "id": "rP3CmU_3zI3v"
   },
   "source": [
    "### 7.1.2 평균, 최댓값, 최솟값, 개수 구하기 구하기"
   ]
  },
  {
   "cell_type": "markdown",
   "metadata": {
    "colab_type": "text",
    "id": "nGVYuTxiMWGX"
   },
   "source": [
    "- **mean()** 메소드를 사용한다는 것 외에는 모든 것이 위 내용과 같습니다."
   ]
  },
  {
   "cell_type": "code",
   "execution_count": null,
   "metadata": {
    "colab": {},
    "colab_type": "code",
    "id": "rzMjSolBAT1I",
    "scrolled": true
   },
   "outputs": [],
   "source": [
    "# rank별 gre 평균 조회\n",
    "gr_mean = graduate.groupby(by='rank', as_index=False)['gre'].mean()  \n",
    "gr_mean"
   ]
  },
  {
   "cell_type": "code",
   "execution_count": null,
   "metadata": {
    "colab": {},
    "colab_type": "code",
    "id": "b3b1ncd684_k",
    "scrolled": true
   },
   "outputs": [],
   "source": [
    "# rank + admit 별 나머지 모든 열 평균 조회\n",
    "gr_mean = graduate.groupby(by=['rank', 'admit'], as_index=False).mean()  \n",
    "gr_mean"
   ]
  },
  {
   "cell_type": "markdown",
   "metadata": {
    "colab_type": "text",
    "id": "QgerAdV9MWGe"
   },
   "source": [
    "- 최댓값, 최솟값, 개수도 메소드 차이만 있지, 사용 방법은 같습니다."
   ]
  },
  {
   "cell_type": "code",
   "execution_count": null,
   "metadata": {
    "colab": {},
    "colab_type": "code",
    "id": "MRcezH4uuvA9",
    "scrolled": true
   },
   "outputs": [],
   "source": [
    "# rank별 gre 최댓값 조회\n",
    "gr_max = graduate.groupby(by='rank', as_index=False)['gre'].max()  \n",
    "gr_max"
   ]
  },
  {
   "cell_type": "code",
   "execution_count": null,
   "metadata": {
    "colab": {},
    "colab_type": "code",
    "id": "NJfXOoAzuzyq",
    "scrolled": true
   },
   "outputs": [],
   "source": [
    "# rank별 gre 최솟값 조회\n",
    "gr_min = graduate.groupby(by='rank', as_index=False)['gre'].min()  \n",
    "gr_min"
   ]
  },
  {
   "cell_type": "code",
   "execution_count": null,
   "metadata": {
    "colab": {},
    "colab_type": "code",
    "id": "o8CMfttXAT1S",
    "scrolled": true
   },
   "outputs": [],
   "source": [
    "# rank별 gre 개수 조회\n",
    "gr_count = graduate.groupby(by='rank', as_index=False)['gre'].count()\n",
    "gr_count"
   ]
  },
  {
   "cell_type": "markdown",
   "metadata": {
    "colab_type": "text",
    "id": "TKXSGj6GW2sU"
   },
   "source": [
    "## 7.2. Concat\n",
    "\n",
    "- **concat()** 함수를 사용해 **인덱스 값을 기준으로** 두 데이터프레임을 가로 또는 세로로 합칠 수 있습니다.\n",
    "- **axis=1** 옵션을 지정해 가로로 합칠 수 있습니다.\n",
    "- **axis=0** 옵션을 지정해 세로로 합힐 수 있습니다.(기본값)"
   ]
  },
  {
   "cell_type": "markdown",
   "metadata": {
    "colab_type": "text",
    "id": "KqOHu2W4C_0R"
   },
   "source": [
    "<img src='https://raw.githubusercontent.com/Jangrae/img/master/concat_ax1.png' width=500, align=\"left\"/>"
   ]
  },
  {
   "cell_type": "markdown",
   "metadata": {
    "colab_type": "text",
    "id": "PSmjf_uLMWGw"
   },
   "source": [
    "<img src='https://raw.githubusercontent.com/Jangrae/img/master/concat_ax0.png' width=400, align=\"left\"/>"
   ]
  },
  {
   "cell_type": "markdown",
   "metadata": {
    "colab_type": "text",
    "id": "tFRb5ULFAT1l"
   },
   "source": [
    "**1) 집계 결과를 갖는 데이터 프레임 만들기**"
   ]
  },
  {
   "cell_type": "markdown",
   "metadata": {
    "colab_type": "text",
    "id": "INdeCYsrMWG5"
   },
   "source": [
    "- 우선 **평균**을 구해 새로운 데이터프레임으로 선언했습니다."
   ]
  },
  {
   "cell_type": "code",
   "execution_count": null,
   "metadata": {
    "colab": {},
    "colab_type": "code",
    "id": "50rc3HRevz-p",
    "scrolled": false
   },
   "outputs": [],
   "source": [
    "# rank별 admit별 gre와 gpa 평균 조회\n",
    "graduate1 = graduate.groupby(by=['rank', 'admit'], as_index=False)[['gre', 'gpa']].mean()\n",
    "graduate1.head()"
   ]
  },
  {
   "cell_type": "markdown",
   "metadata": {
    "colab_type": "text",
    "id": "HOecuYEaMWG7"
   },
   "source": [
    "- 이어서 **개수**를 구해 새로운 데이터프레임으로 선언했습니다."
   ]
  },
  {
   "cell_type": "code",
   "execution_count": null,
   "metadata": {
    "colab": {},
    "colab_type": "code",
    "id": "KG1Fa-rG5Qpd",
    "scrolled": false
   },
   "outputs": [],
   "source": [
    "# rank별 admit 별 count 조회\n",
    "graduate2 = graduate.groupby(by=['rank', 'admit'], as_index=False)['gre'].count()\n",
    "graduate2.head()"
   ]
  },
  {
   "cell_type": "markdown",
   "metadata": {
    "colab_type": "text",
    "id": "RvThzPSFn4lN"
   },
   "source": [
    "**2) 열 이름 변경**"
   ]
  },
  {
   "cell_type": "markdown",
   "metadata": {
    "colab_type": "text",
    "id": "IcN1qdlaMWG9"
   },
   "source": [
    "- 새롭게 만든 두 데이터프레임의 열 이름을 집계 결과임을 알기 쉽게 변경합니다."
   ]
  },
  {
   "cell_type": "code",
   "execution_count": null,
   "metadata": {
    "colab": {},
    "colab_type": "code",
    "id": "91kd-ozonv4B",
    "scrolled": false
   },
   "outputs": [],
   "source": [
    "# 열 이름 변경\n",
    "graduate1.rename(columns={'gre':'gre_mean', 'gpa':'gpa_mean'}, inplace=True)\n",
    "graduate1.head()"
   ]
  },
  {
   "cell_type": "code",
   "execution_count": null,
   "metadata": {
    "colab": {},
    "colab_type": "code",
    "id": "8j5EnRl-nv4O",
    "scrolled": false
   },
   "outputs": [],
   "source": [
    "# 열 이름 변경\n",
    "graduate2.rename(columns={'gre':'count'}, inplace=True)\n",
    "graduate2.head()"
   ]
  },
  {
   "cell_type": "markdown",
   "metadata": {
    "colab_type": "text",
    "id": "e2QtLRzgJSfv"
   },
   "source": [
    "**3) 데이터프레임 가로로 합치기**\n",
    "\n",
    "- 이제 **concat()** 함수를 사용해 두 데이터프레임을 합쳐봅니다.\n",
    "- 가로로 합치므로 **axis=1** 옵션을 필히 지정해야 합니다."
   ]
  },
  {
   "cell_type": "code",
   "execution_count": null,
   "metadata": {
    "colab": {},
    "colab_type": "code",
    "id": "e2JTK2AzJPvI",
    "scrolled": false
   },
   "outputs": [],
   "source": [
    "# 모든 열 합치기\n",
    "graduate_new = pd.concat([graduate1, graduate2], axis=1)\n",
    "graduate_new"
   ]
  },
  {
   "cell_type": "markdown",
   "metadata": {
    "colab_type": "text",
    "id": "vHu-2HCgMWHE"
   },
   "source": [
    "- 중복된 열이 있어 혼란스럽다면, 몇몇 열만 선택해서 합칠 수 있습니다."
   ]
  },
  {
   "cell_type": "code",
   "execution_count": null,
   "metadata": {
    "colab": {},
    "colab_type": "code",
    "id": "Ikt7STg4JPTv",
    "scrolled": false
   },
   "outputs": [],
   "source": [
    "# 일부 열 합치기\n",
    "graduate_new = pd.concat([graduate1, graduate2['count']], axis=1)\n",
    "graduate_new"
   ]
  },
  {
   "cell_type": "markdown",
   "metadata": {
    "colab_type": "text",
    "id": "qJfEO905MWHe"
   },
   "source": [
    "## <center>수고하셨습니다.</center>\n",
    "<center><img src='https://raw.githubusercontent.com/Jangrae/img/master/end.png' width=200/></center>"
   ]
  }
 ],
 "metadata": {
  "colab": {
   "collapsed_sections": [],
   "name": "07 데이터프레임 집계.ipynb",
   "provenance": []
  },
  "kernelspec": {
   "display_name": "Python 3",
   "language": "python",
   "name": "python3"
  },
  "language_info": {
   "codemirror_mode": {
    "name": "ipython",
    "version": 3
   },
   "file_extension": ".py",
   "mimetype": "text/x-python",
   "name": "python",
   "nbconvert_exporter": "python",
   "pygments_lexer": "ipython3",
   "version": "3.7.6"
  }
 },
 "nbformat": 4,
 "nbformat_minor": 1
}
