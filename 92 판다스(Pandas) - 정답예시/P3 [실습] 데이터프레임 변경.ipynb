{
 "cells": [
  {
   "cell_type": "markdown",
   "metadata": {
    "colab_type": "text",
    "id": "BFhIXgdYoYGp"
   },
   "source": [
    "<center><img src='https://raw.githubusercontent.com/Jangrae/img/master/title.png' width=500/></center>"
   ]
  },
  {
   "cell_type": "markdown",
   "metadata": {
    "colab_type": "text",
    "id": "YXxggwKZPyYB"
   },
   "source": [
    "<center><img src='https://raw.githubusercontent.com/Jangrae/img/master/practice.png' width=300/></center>"
   ]
  },
  {
   "cell_type": "markdown",
   "metadata": {
    "colab_type": "text",
    "id": "uRG2unicPyYC"
   },
   "source": [
    "# 실습 목표\n",
    "\n",
    "- CSV 파일에서 데이터를 읽어올 수 있습니다.\n",
    "- 가변수(Dummy Variable)를 만들 수 있습니다.\n",
    "- 열 이름을 바꿀 수 있습니다.\n",
    "- 결측치 정보를 확인하고 제거하거나 다른 값으로 채울 수 있습니다."
   ]
  },
  {
   "cell_type": "markdown",
   "metadata": {
    "colab_type": "text",
    "id": "PcLUjkq0wxpF"
   },
   "source": [
    "# P3. 데이터프레임 변경"
   ]
  },
  {
   "cell_type": "markdown",
   "metadata": {},
   "source": [
    "1) pandas, numpy 라이브러리를 불러오세요."
   ]
  },
  {
   "cell_type": "code",
   "execution_count": null,
   "metadata": {
    "colab": {},
    "colab_type": "code",
    "id": "8hZaRpngVhlS"
   },
   "outputs": [],
   "source": [
    "# 라이브러리 불러오기\n",
    "import pandas as pd\n",
    "import numpy as np"
   ]
  },
  {
   "cell_type": "markdown",
   "metadata": {
    "colab_type": "text",
    "id": "swByQenKUAXS"
   },
   "source": [
    "2) 'titanic_simple.csv' 파일을 불러와 데이터프레임 **titanic**을 만드세요.\n",
    "\n",
    "- 파일 경로: 'https://raw.githubusercontent.com/Jangrae/csv/master/titanic_simple.csv'"
   ]
  },
  {
   "cell_type": "code",
   "execution_count": null,
   "metadata": {
    "colab": {},
    "colab_type": "code",
    "id": "zFm_DPTaUdqQ"
   },
   "outputs": [],
   "source": [
    "# 파일 읽어오기\n",
    "file_path = 'https://raw.githubusercontent.com/Jangrae/csv/master/titanic_simple.csv'\n",
    "titanic = pd.read_csv(file_path, sep = ',')\n",
    "\n",
    "# 확인\n",
    "titanic.head()"
   ]
  },
  {
   "cell_type": "markdown",
   "metadata": {
    "colab_type": "text",
    "id": "KYLBolspUF5w"
   },
   "source": [
    "3) **drop()** 메소드를 사용해 Name 열을 삭제하세요."
   ]
  },
  {
   "cell_type": "code",
   "execution_count": null,
   "metadata": {
    "colab": {},
    "colab_type": "code",
    "id": "MeOZAUVZUepV",
    "scrolled": true
   },
   "outputs": [],
   "source": [
    "# Name 열 삭제\n",
    "titanic.drop('Name', axis=1, inplace=True)\n",
    "\n",
    "# 확인\n",
    "titanic.head()"
   ]
  },
  {
   "cell_type": "markdown",
   "metadata": {
    "colab_type": "text",
    "id": "4rzZuQebULwE"
   },
   "source": [
    "4) **pd.get_dummies()** 함수로 Pclass 열의 Dummy Variable을 pclass_Dummy 데이터프레임으로 선언하세요."
   ]
  },
  {
   "cell_type": "code",
   "execution_count": null,
   "metadata": {
    "colab": {},
    "colab_type": "code",
    "id": "uQL8uIyJwxpG"
   },
   "outputs": [],
   "source": [
    "# Dummy Variable 만들기\n",
    "pclass_Dummy = pd.get_dummies(titanic['Pclass'])\n",
    "\n",
    "# 확인\n",
    "titanic_pclass.head()"
   ]
  },
  {
   "cell_type": "markdown",
   "metadata": {},
   "source": [
    "5) pclass_Dummy 데이터프레임을 **pd.concat()** 함수를 사용해 titanic 데이터프레임에 붙이세요."
   ]
  },
  {
   "cell_type": "code",
   "execution_count": null,
   "metadata": {
    "colab": {},
    "colab_type": "code",
    "id": "X_TqcT7PPyYO",
    "scrolled": true
   },
   "outputs": [],
   "source": [
    "# 기존 데이터프레임에 붙이기\n",
    "titanic = pd.concat([titanic, pclass_Dummy], axis=1)\n",
    "\n",
    "# 확인\n",
    "titanic.head()"
   ]
  },
  {
   "cell_type": "markdown",
   "metadata": {},
   "source": [
    "6) 의미가 없어진 Pclass 열을 제거하세요."
   ]
  },
  {
   "cell_type": "code",
   "execution_count": null,
   "metadata": {},
   "outputs": [],
   "source": [
    "# pClass 열 제거\n",
    "titanic.drop('Pclass', axis=1, inplace=True)\n",
    "\n",
    "# 확인\n",
    "titanic.head()"
   ]
  },
  {
   "cell_type": "markdown",
   "metadata": {
    "colab_type": "text",
    "id": "CGQfXOMlUV57"
   },
   "source": [
    "6) **rename()** 메소드를 사용해 Dummy Variable로 추가한 열 이름을 Pclass_1, Pclass_2, Pclass_3 로 바꾸세요."
   ]
  },
  {
   "cell_type": "code",
   "execution_count": null,
   "metadata": {
    "colab": {},
    "colab_type": "code",
    "id": "8GsdJsXGaHRw"
   },
   "outputs": [],
   "source": [
    "# 열 이름 변경\n",
    "titanic.rename(columns = {1:'Pclass_1', 2: 'Pclass_2', 3: 'Pclass_3'}, inplace=True)\n",
    "\n",
    "# 확인\n",
    "titanic.head()"
   ]
  },
  {
   "cell_type": "markdown",
   "metadata": {
    "colab_type": "text",
    "id": "tX5MoKm7PyYT"
   },
   "source": [
    "7) **value_counts()** 메소드를 사용해 Age 열에 NaN 값을 포함해서 어떤 값이 몇 개씩 있는지 확인하세요."
   ]
  },
  {
   "cell_type": "code",
   "execution_count": null,
   "metadata": {
    "colab": {},
    "colab_type": "code",
    "id": "Bt4X4l89PyYU",
    "scrolled": true
   },
   "outputs": [],
   "source": [
    "# Age 열 값 개수 확인\n",
    "titanic['Age'].value_counts(dropna=False)"
   ]
  },
  {
   "cell_type": "markdown",
   "metadata": {
    "colab_type": "text",
    "id": "UfnBDOrJPyYW"
   },
   "source": [
    "8) **dropna()** 메소드로 Age 열이 NaN인 행은 삭제한 후 위 7)번 코드를 수행해 NaN값이 없어짐을 확인하세요."
   ]
  },
  {
   "cell_type": "code",
   "execution_count": null,
   "metadata": {
    "colab": {},
    "colab_type": "code",
    "id": "sFKQKieUPyYW"
   },
   "outputs": [],
   "source": [
    "# Age 열 값이 NaN인 행 삭제\n",
    "titanic.dropna(subset=['Age'],  inplace=True)"
   ]
  },
  {
   "cell_type": "markdown",
   "metadata": {
    "colab_type": "text",
    "id": "YS_VJoMPPyYY"
   },
   "source": [
    "9) **info()** 메소드를 사용해 아직도 NaN 값이 있는 열이 있는지 확인하세요."
   ]
  },
  {
   "cell_type": "code",
   "execution_count": null,
   "metadata": {
    "colab": {},
    "colab_type": "code",
    "id": "nIRs90QiPyYZ"
   },
   "outputs": [],
   "source": [
    "# 행 정보 확인\n",
    "titanic.info()"
   ]
  },
  {
   "cell_type": "markdown",
   "metadata": {
    "colab_type": "text",
    "id": "XucyrWkFPyYb"
   },
   "source": [
    "10) **fillna()** 메소드를 사용해 Embarked 열의 NaN 값은 Southhampton로 채우세요."
   ]
  },
  {
   "cell_type": "code",
   "execution_count": null,
   "metadata": {
    "colab": {},
    "colab_type": "code",
    "id": "vwjej9baPyYb"
   },
   "outputs": [],
   "source": [
    "# NaN 값 채우기\n",
    "titanic['Embarked'].fillna('Southhampton', inplace=True)    "
   ]
  },
  {
   "cell_type": "markdown",
   "metadata": {
    "colab_type": "text",
    "id": "pO75l4vmPyYd"
   },
   "source": [
    "11) **value_counts()** 메소드를 사용해서 Embarked 열에 NaN 값이 있는지 확인하세요."
   ]
  },
  {
   "cell_type": "code",
   "execution_count": null,
   "metadata": {
    "colab": {},
    "colab_type": "code",
    "id": "swjMlG2wPyYe"
   },
   "outputs": [],
   "source": [
    "# 확인\n",
    "titanic['Embarked'].value_counts(dropna=False)"
   ]
  },
  {
   "cell_type": "markdown",
   "metadata": {
    "colab_type": "text",
    "id": "KqOHu2W4C_0R"
   },
   "source": [
    "## <center>수고하셨습니다.</center>\n",
    "<center><img src='https://raw.githubusercontent.com/Jangrae/img/master/end.png' width=200/></center>"
   ]
  }
 ],
 "metadata": {
  "colab": {
   "collapsed_sections": [],
   "name": "P3 [실습] 데이터프레임 변경.ipynb",
   "provenance": []
  },
  "kernelspec": {
   "display_name": "Python 3",
   "language": "python",
   "name": "python3"
  },
  "language_info": {
   "codemirror_mode": {
    "name": "ipython",
    "version": 3
   },
   "file_extension": ".py",
   "mimetype": "text/x-python",
   "name": "python",
   "nbconvert_exporter": "python",
   "pygments_lexer": "ipython3",
   "version": "3.7.6"
  }
 },
 "nbformat": 4,
 "nbformat_minor": 1
}
