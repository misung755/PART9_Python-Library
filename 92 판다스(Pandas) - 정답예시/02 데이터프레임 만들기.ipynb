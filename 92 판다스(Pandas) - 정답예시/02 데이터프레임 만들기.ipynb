{
 "cells": [
  {
   "cell_type": "markdown",
   "metadata": {
    "colab_type": "text",
    "id": "BFhIXgdYoYGp"
   },
   "source": [
    "<center><img src='https://raw.githubusercontent.com/Jangrae/img/master/title.png' width=500/></center>"
   ]
  },
  {
   "cell_type": "markdown",
   "metadata": {},
   "source": [
    "<center>- Pandas의 모든 것을 배우지 않습니다. 데이터 전처리에 대한 부분만 학습 대상이 됩니다 -</center>"
   ]
  },
  {
   "cell_type": "markdown",
   "metadata": {
    "colab_type": "text",
    "id": "DFijIAllYnVQ"
   },
   "source": [
    "# 학습 목표\n",
    "\n",
    "- 리스트와 딕셔너리에서 데이터프레임을 만들 수 있습니다.\n",
    "- 파일에서 읽어와 데이터프레임을 만들 수 있습니다.\n",
    "- 임의의 값을 갖는 데이터프레임을 만들 수 있습니다.\n",
    "- 데이터프레임의 인덱스를 변경하거나 초기화 할 수 있습니다."
   ]
  },
  {
   "cell_type": "markdown",
   "metadata": {
    "colab_type": "text",
    "id": "-sdzPN0Uwxi2"
   },
   "source": [
    "# 2. 데이터프레임 만들기\n",
    "\n",
    "- 데이터프레임은 시리즈와는 달리 **하나 이상의 열**을 갖는 형태입니다.\n",
    "- 일반적으로 접하게 되는 **테이블** 형태, **엑셀** 형태로 생각하시면 됩니다."
   ]
  },
  {
   "cell_type": "markdown",
   "metadata": {
    "colab_type": "text",
    "id": "WG4VtwXoOW6H"
   },
   "source": [
    "<img src='https://raw.githubusercontent.com/Jangrae/img/master/dataframe.png' width=750 align=\"left\"/>"
   ]
  },
  {
   "cell_type": "markdown",
   "metadata": {
    "colab_type": "text",
    "id": "QrENSAvgIJNE"
   },
   "source": [
    "- 직접 만들 수 있으나 보통은 파일(csv 또는 엑셀 파일 등) 또는 DB에서 읽어옵니다.\n",
    "- 데이터프레임을 만들 때 인덱스를 지정하는 부분은 시리즈와 같은 개념입니다."
   ]
  },
  {
   "cell_type": "code",
   "execution_count": null,
   "metadata": {
    "colab": {},
    "colab_type": "code",
    "id": "iyOaNXcnOW6J"
   },
   "outputs": [],
   "source": [
    "# 라이브러리 불러오기\n",
    "import pandas as pd\n",
    "import numpy as np\n",
    "import matplotlib.pyplot as plt"
   ]
  },
  {
   "cell_type": "markdown",
   "metadata": {
    "colab_type": "text",
    "id": "ETVUejBgIJNL"
   },
   "source": [
    "## 2.1. 데이터프레임 만들기\n",
    "\n",
    "- **pd.DataFrame()** 함수를 사용해 데이터프레임을 만듭니다.\n",
    "- 데이터프레임을 만들 때 **열 이름**을 직접 지정할 수 있습니다.\n",
    "- 열 이름을 지정하지 않으면 **열 번호**에 기반한 정수(0, 1, 2...)가 열 이름이 됩니다."
   ]
  },
  {
   "cell_type": "markdown",
   "metadata": {
    "colab_type": "text",
    "id": "OAikNLPcIJNm"
   },
   "source": [
    "### 2.1.1. 딕셔너리로 만들기\n",
    "\n",
    "- 딕셔너리로 데이터프레임을 만들면 딕셔너리의 **키**가 **열 이름**이 됩니다.\n",
    "- 인덱스를 지정하지 않으면 행 번호가 인덱스 값이 됩니다."
   ]
  },
  {
   "cell_type": "code",
   "execution_count": null,
   "metadata": {
    "colab": {
     "base_uri": "https://localhost:8080/",
     "height": 73
    },
    "colab_type": "code",
    "executionInfo": {
     "elapsed": 2062,
     "status": "ok",
     "timestamp": 1589409426773,
     "user": {
      "displayName": "이장래",
      "photoUrl": "https://lh3.googleusercontent.com/a-/AOh14GiAr2j2I1wKToLVmH4sVTSNBanYH4IL0jaxOtYU=s64",
      "userId": "01217686459280251442"
     },
     "user_tz": -540
    },
    "id": "6LkPm72OYnVU",
    "outputId": "dc720038-bc79-4f30-abe1-1f5c87d78d52"
   },
   "outputs": [],
   "source": [
    "# 딕셔너리 만들기\n",
    "dict = {'이름': ['홍길동', '한사랑', '일지매', '박여인'],\n",
    "        '등급': ['Gold', 'Bronze', 'Silver', 'Gold'],\n",
    "        '점수': [56000, 23000, 44000, 52000]}\n",
    "dict"
   ]
  },
  {
   "cell_type": "code",
   "execution_count": null,
   "metadata": {
    "colab": {
     "base_uri": "https://localhost:8080/",
     "height": 171
    },
    "colab_type": "code",
    "executionInfo": {
     "elapsed": 2058,
     "status": "ok",
     "timestamp": 1589409426774,
     "user": {
      "displayName": "이장래",
      "photoUrl": "https://lh3.googleusercontent.com/a-/AOh14GiAr2j2I1wKToLVmH4sVTSNBanYH4IL0jaxOtYU=s64",
      "userId": "01217686459280251442"
     },
     "user_tz": -540
    },
    "id": "zxpku5yMOW6u",
    "outputId": "842d6be2-88d2-4d4c-a203-dc2f8f3f48e3",
    "scrolled": true
   },
   "outputs": [],
   "source": [
    "# 데이터프레임 만들기\n",
    "df = pd.DataFrame(dict)\n",
    "df.head()"
   ]
  },
  {
   "cell_type": "markdown",
   "metadata": {
    "colab_type": "text",
    "id": "cQv7wUpVIJNu"
   },
   "source": [
    "- 필요하면 인덱스를 별도로 지정할 수 있습니다."
   ]
  },
  {
   "cell_type": "code",
   "execution_count": null,
   "metadata": {
    "colab": {
     "base_uri": "https://localhost:8080/",
     "height": 171
    },
    "colab_type": "code",
    "executionInfo": {
     "elapsed": 2053,
     "status": "ok",
     "timestamp": 1589409426774,
     "user": {
      "displayName": "이장래",
      "photoUrl": "https://lh3.googleusercontent.com/a-/AOh14GiAr2j2I1wKToLVmH4sVTSNBanYH4IL0jaxOtYU=s64",
      "userId": "01217686459280251442"
     },
     "user_tz": -540
    },
    "id": "tVcRYGYbIJNu",
    "outputId": "5a17c7b1-8718-46dd-b379-edc803b4a027",
    "scrolled": true
   },
   "outputs": [],
   "source": [
    "# 딕셔너리 만들기\n",
    "dict = {\n",
    "   '이름': ['홍길동', '한사랑', '일지매', '박여인'],\n",
    "   '등급': ['Gold', 'Bronze', 'Silver', 'Gold'],\n",
    "   '점수': [56000, 23000, 44000, 52000]\n",
    "}\n",
    "\n",
    "# 데이터프레임 만들기(인덱스 지정함)\n",
    "df = pd.DataFrame(dict, index=['C0001', 'C0002', 'C0003', 'C0004'])\n",
    "df.head()"
   ]
  },
  {
   "cell_type": "markdown",
   "metadata": {
    "colab_type": "text",
    "id": "r04u5zL5IJNM"
   },
   "source": [
    "### 2.1.2. 리스트로  만들기\n",
    "\n",
    "- 인덱스를 지정하지 않으면 행 번호가 인덱스 값, 열 번호가 열 이름이 됩니다."
   ]
  },
  {
   "cell_type": "code",
   "execution_count": null,
   "metadata": {
    "colab": {
     "base_uri": "https://localhost:8080/",
     "height": 202
    },
    "colab_type": "code",
    "executionInfo": {
     "elapsed": 2049,
     "status": "ok",
     "timestamp": 1589409426775,
     "user": {
      "displayName": "이장래",
      "photoUrl": "https://lh3.googleusercontent.com/a-/AOh14GiAr2j2I1wKToLVmH4sVTSNBanYH4IL0jaxOtYU=s64",
      "userId": "01217686459280251442"
     },
     "user_tz": -540
    },
    "id": "5dF7MDMy789A",
    "outputId": "8b717166-906b-4c6e-b8bd-3027b04213b7"
   },
   "outputs": [],
   "source": [
    "# 리스트 만들기\n",
    "stock = [[94500, 92100, 92200, 92300],\n",
    "         [96500, 93200, 95900, 94300],\n",
    "         [93400, 91900, 93400, 92100],\n",
    "         [94200, 92100, 94100, 92400],\n",
    "         [94500, 92500, 94300, 92600]]\n",
    "\n",
    "# 데이터프레임 만들기\n",
    "df = pd.DataFrame(stock)\n",
    "df.head()"
   ]
  },
  {
   "cell_type": "markdown",
   "metadata": {
    "colab_type": "text",
    "id": "yvPx1jl2IJNT"
   },
   "source": [
    "- 필요하면 인덱스와 열 이름을 별도로 지정할 수 있습니다."
   ]
  },
  {
   "cell_type": "code",
   "execution_count": null,
   "metadata": {
    "colab": {
     "base_uri": "https://localhost:8080/",
     "height": 202
    },
    "colab_type": "code",
    "executionInfo": {
     "elapsed": 2046,
     "status": "ok",
     "timestamp": 1589409426776,
     "user": {
      "displayName": "이장래",
      "photoUrl": "https://lh3.googleusercontent.com/a-/AOh14GiAr2j2I1wKToLVmH4sVTSNBanYH4IL0jaxOtYU=s64",
      "userId": "01217686459280251442"
     },
     "user_tz": -540
    },
    "id": "_C8hqRoUAMUe",
    "outputId": "75291eca-4e95-417d-b0a4-cb73ad034836"
   },
   "outputs": [],
   "source": [
    "# 리스트 만들기\n",
    "stock = [[94500, 92100, 92200, 92300],\n",
    "         [96500, 93200, 95900, 94300],\n",
    "         [93400, 91900, 93400, 92100],\n",
    "         [94200, 92100, 94100, 92400],\n",
    "         [94500, 92500, 94300, 92600]]\n",
    "dates = ['2019-02-15', '2019-02-16', '2019-02-17', '2019-02-18', '2019-02-19']\n",
    "names = ['High', 'Low', 'Open', 'Close']\n",
    "\n",
    "# 데이터프레임 만들기\n",
    "df = pd.DataFrame(stock, index=dates, columns=names)\n",
    "df.head()"
   ]
  },
  {
   "cell_type": "markdown",
   "metadata": {
    "colab_type": "text",
    "id": "mHrKYYWip4Es"
   },
   "source": [
    "<img src='https://raw.githubusercontent.com/jangrae/img/master/practice_01.png' width=120 align=\"left\"/>"
   ]
  },
  {
   "cell_type": "markdown",
   "metadata": {
    "colab_type": "text",
    "id": "Wotn0whsemUH"
   },
   "source": [
    "아래 주어진 리스트와 인덱스 정보를 사용해 데이터프레임 score1을 만들고 확인해 보세요. 단, 열 이름은 나름대로 설정하세요."
   ]
  },
  {
   "cell_type": "code",
   "execution_count": null,
   "metadata": {
    "colab": {},
    "colab_type": "code",
    "id": "aTYL9_dRR2JP",
    "scrolled": false
   },
   "outputs": [],
   "source": [
    "# 리스트 만들기\n",
    "list_score = [80, 75, 100, 90, 80]\n",
    "list_index = ['홍길동', '한사랑', '일지매', '박여인', '강우동']\n",
    "\n",
    "# 데이터프레임 만들기\n",
    "score1 = pd.DataFrame(list_score, index=list_index, columns=['점수'])\n",
    "\n",
    "# 확인\n",
    "score1"
   ]
  },
  {
   "cell_type": "markdown",
   "metadata": {
    "colab_type": "text",
    "id": "Wotn0whsemUH"
   },
   "source": [
    "아래 주어진 리스트와 인덱스 정보를 사용해 데이터프레임 score2를 만들고 확인해 보세요. 단, 열 이름은 나름대로 설정하세요."
   ]
  },
  {
   "cell_type": "code",
   "execution_count": null,
   "metadata": {
    "colab": {},
    "colab_type": "code",
    "id": "aTYL9_dRR2JP",
    "scrolled": false
   },
   "outputs": [],
   "source": [
    "# 리스트 만들기\n",
    "list_score = [[80, 75, 100, 90, 80],\n",
    "              [85, 95,  90, 85, 85],\n",
    "              [90, 70,  80, 95, 75]]\n",
    "list_index = ['홍길동', '한사랑', '일지매']\n",
    "\n",
    "# 데이터프레임 만들기\n",
    "score2 = pd.DataFrame(list_score, index=list_index, columns=['국어', '영어', '수학', '과학', '사회'])\n",
    "\n",
    "# 확인\n",
    "score2"
   ]
  },
  {
   "cell_type": "markdown",
   "metadata": {
    "colab_type": "text",
    "id": "zGDF1AkjIJOX"
   },
   "source": [
    "## 2.2. CSV파일 읽어오기"
   ]
  },
  {
   "cell_type": "markdown",
   "metadata": {
    "colab_type": "text",
    "id": "nYVxNjvFIJOX"
   },
   "source": [
    "- 분석용 데이터는 대부분 파일에서 읽어 가져옵니다.\n",
    "- **read_csv()** 함수를 사용해서 CSV 파일에서 데이터를 읽어옵니다.\n",
    "\n",
    "**[중요옵션]**\n",
    "- sep: 구분자 지정(기본값 = 콤마)\n",
    "- header: 헤더가 될 행 번호 지정(기본값 = 0)\n",
    "- index_col: 인덱스 열 지정(기본값 = False)\n",
    "- names: 열 이름으로 사용할 문자열 리스트\n",
    "- skiprows: 처음 몇 줄을 무시할 것인지 지정, 리스트로 지정 가능"
   ]
  },
  {
   "cell_type": "markdown",
   "metadata": {},
   "source": [
    "**[참고] titanic_simple.csv**"
   ]
  },
  {
   "cell_type": "markdown",
   "metadata": {
    "colab_type": "text",
    "id": "mHrKYYWip4Es"
   },
   "source": [
    "<img src='https://raw.githubusercontent.com/jangrae/img/master/titanic_simple.png' width=760 align=\"left\"/>"
   ]
  },
  {
   "cell_type": "code",
   "execution_count": null,
   "metadata": {
    "colab": {
     "base_uri": "https://localhost:8080/",
     "height": 355
    },
    "colab_type": "code",
    "executionInfo": {
     "elapsed": 2040,
     "status": "ok",
     "timestamp": 1589409426777,
     "user": {
      "displayName": "이장래",
      "photoUrl": "https://lh3.googleusercontent.com/a-/AOh14GiAr2j2I1wKToLVmH4sVTSNBanYH4IL0jaxOtYU=s64",
      "userId": "01217686459280251442"
     },
     "user_tz": -540
    },
    "id": "DIY8NYXGIJOZ",
    "outputId": "36626fb6-07d6-4655-db4e-3c31371a7fba",
    "scrolled": false
   },
   "outputs": [],
   "source": [
    "# Titanic 데이터 불러오기\n",
    "file_path = 'https://raw.githubusercontent.com/Jangrae/csv/master/titanic_simple.csv'\n",
    "titanic = pd.read_csv(file_path, sep = ',', header=0, index_col=False)  \n",
    "titanic.head(10)"
   ]
  },
  {
   "cell_type": "code",
   "execution_count": null,
   "metadata": {
    "colab": {
     "base_uri": "https://localhost:8080/",
     "height": 386
    },
    "colab_type": "code",
    "executionInfo": {
     "elapsed": 2038,
     "status": "ok",
     "timestamp": 1589409426778,
     "user": {
      "displayName": "이장래",
      "photoUrl": "https://lh3.googleusercontent.com/a-/AOh14GiAr2j2I1wKToLVmH4sVTSNBanYH4IL0jaxOtYU=s64",
      "userId": "01217686459280251442"
     },
     "user_tz": -540
    },
    "id": "JzBC7JipOW6-",
    "outputId": "3bd12e0c-596c-45e3-f8b6-eda4721b6591",
    "scrolled": true
   },
   "outputs": [],
   "source": [
    "# 인덱스 열 지정, 몇몇 행 무시하고 불러오기\n",
    "file_path = 'https://raw.githubusercontent.com/Jangrae/csv/master/titanic_simple.csv'\n",
    "titanic = pd.read_csv(file_path, sep = ',', index_col='PassengerId', skiprows=[1, 3, 5])  \n",
    "titanic.head(10)"
   ]
  },
  {
   "cell_type": "markdown",
   "metadata": {
    "colab_type": "text",
    "id": "xSWBmU_Yeu5A"
   },
   "source": [
    "<img src='https://raw.githubusercontent.com/jangrae/img/master/practice_01.png' width=120 align=\"left\"/>"
   ]
  },
  {
   "cell_type": "markdown",
   "metadata": {
    "colab_type": "text",
    "id": "5eXsOBxDqcoP"
   },
   "source": [
    "아래 주어진 경로의 파일에서 데이터를 읽어와 데이터프레임 graduate 만들어 보세요.\n",
    "\n",
    "- 파일 경로: 'https://raw.githubusercontent.com/Jangrae/csv/master/Graduate_apply.csv'"
   ]
  },
  {
   "cell_type": "code",
   "execution_count": null,
   "metadata": {
    "colab": {},
    "colab_type": "code",
    "id": "Oa9sLGQ8IJOb",
    "scrolled": false
   },
   "outputs": [],
   "source": [
    "# 파일에서 데이터 읽어와 데이터프레임 만들기\n",
    "file_path = 'https://raw.githubusercontent.com/Jangrae/csv/master/Graduate_apply.csv'\n",
    "graduate = pd.read_csv(file_path, sep = ',', header=0, index_col=False)  \n",
    "graduate.head(10)\n",
    "\n",
    "# 확인\n",
    "graduate.head()"
   ]
  },
  {
   "cell_type": "markdown",
   "metadata": {
    "colab_type": "text",
    "id": "Lv5DeZMzp6mr"
   },
   "source": [
    "## 2.3. 임의의 값을 갖는 데이터프레임 만들기\n",
    "\n",
    "- 테스트용 데이터프레임을 만들 때 많이 사용하니 익혀두는 것이 좋습니다."
   ]
  },
  {
   "cell_type": "markdown",
   "metadata": {
    "colab_type": "text",
    "id": "iDdxKRKw2Sku"
   },
   "source": [
    "**[참고] 난수 발생 방법**\n",
    "\n",
    "- random.**rand()**: 0부터 1사이의 균일 분포 임의 실수\n",
    "- random.**randn()**: 가우시안 표준 정규 분포 임의 실수\n",
    "- random.**randint()**: 균일 분포의 임의 정수"
   ]
  },
  {
   "cell_type": "markdown",
   "metadata": {
    "colab_type": "text",
    "id": "irzIW1wcIJOo"
   },
   "source": [
    "**1) 임의의 실수값**\n",
    "\n",
    "- 일정 기간의 날짜 데이터를 만들어 내는 **date_range()** 함수도 기억하기 바랍니다."
   ]
  },
  {
   "cell_type": "code",
   "execution_count": null,
   "metadata": {
    "colab": {},
    "colab_type": "code",
    "id": "O3iY6NpZp5_k"
   },
   "outputs": [],
   "source": [
    "# 2020-02-01 부터 날짜 10개 만들기b\n",
    "dates = pd.date_range('20200201', periods=10)\n",
    "\n",
    "# 임의의 실수를 갖는 10 x 4 형태의 2차원 배열 만들기\n",
    "nums = np.random.randn(10, 4)\n",
    "\n",
    "# 데이터프레임 만들기\n",
    "df = pd.DataFrame(nums, index=dates, columns=list('ABCD'))\n",
    "df.head(10)"
   ]
  },
  {
   "cell_type": "markdown",
   "metadata": {
    "colab_type": "text",
    "id": "Pns7D5fKIJOs"
   },
   "source": [
    "**2) 임의의 정수값**"
   ]
  },
  {
   "cell_type": "code",
   "execution_count": null,
   "metadata": {
    "colab": {},
    "colab_type": "code",
    "id": "0un0nA-vqILp"
   },
   "outputs": [],
   "source": [
    "# 2020-02-01 부터 10개이 날짜 만들기\n",
    "dates = pd.date_range('20200201', periods=10)\n",
    "\n",
    "# 지정한 범위 내의 임의의 정수를 갖는 10 x 4 형태의 2차원 배열 만들기\n",
    "nums = np.random.randint(100000, 200000, size=(10, 4))\n",
    "\n",
    "# 데이터프레임 만들기\n",
    "df = pd.DataFrame(nums, index=dates, columns=list(['col1', 'col2', 'col3', 'col4']))\n",
    "df.head(10)"
   ]
  },
  {
   "cell_type": "markdown",
   "metadata": {
    "colab_type": "text",
    "id": "taC_061cIJOx"
   },
   "source": [
    "## 2.4. 인덱스 다시 설정\n",
    "\n",
    "- 일반 열을 인덱스 열로 설정하거나, 위치 인덱스로 초기화 할 수 있습니다."
   ]
  },
  {
   "cell_type": "code",
   "execution_count": null,
   "metadata": {
    "colab": {},
    "colab_type": "code",
    "id": "3jg1iaYOmcl_"
   },
   "outputs": [],
   "source": [
    "# stock 데이터 불러오기\n",
    "file_path = 'https://raw.githubusercontent.com/jangrae/csv/master/stock.csv'\n",
    "stock = pd.read_csv(file_path, sep = ',', skipinitialspace = True)  \n",
    "stock.head(10)"
   ]
  },
  {
   "cell_type": "markdown",
   "metadata": {
    "colab_type": "text",
    "id": "atOZO4zakLOc"
   },
   "source": [
    "**1) 일반 열을 인덱스로 지정**\n",
    "\n",
    "- 파일을 불러올 때 **index_col** 옵션을 사용해 인덱스 열을 선택할 수 있습니다.\n",
    "- 파일을 불러온 후에 **set_index()** 메소드를 사용해 인덱스 열을 설정할 수 있습니다."
   ]
  },
  {
   "cell_type": "code",
   "execution_count": null,
   "metadata": {
    "colab": {},
    "colab_type": "code",
    "id": "lZPICPMAmvxD"
   },
   "outputs": [],
   "source": [
    "# 기존 열 중에서 인덱스열 선택\n",
    "stock.set_index('Date', inplace=True)\n",
    "stock.head()"
   ]
  },
  {
   "cell_type": "markdown",
   "metadata": {
    "colab_type": "text",
    "id": "2rdGVeQ-QK_e"
   },
   "source": [
    "**2) 인덱스 이름 삭제**"
   ]
  },
  {
   "cell_type": "code",
   "execution_count": null,
   "metadata": {
    "colab": {},
    "colab_type": "code",
    "id": "_6a3Z_YtPwED"
   },
   "outputs": [],
   "source": [
    "stock.index.name = None\n",
    "stock.head()"
   ]
  },
  {
   "cell_type": "markdown",
   "metadata": {
    "colab_type": "text",
    "id": "6YBSTyDhlGnS"
   },
   "source": [
    "**3) 인덱스 초기화**\n",
    "\n",
    "- **reset_index()** 메소드를 사용해 행 번호에 기반한 정수 값으로 인덱스를 초기화 할 수 있습니다.\n",
    "- **drop=True**를 설정하면 기존 인덱스열을 일반 열로 가져오지 않고 버립니다.(기본값=False)"
   ]
  },
  {
   "cell_type": "code",
   "execution_count": null,
   "metadata": {
    "colab": {},
    "colab_type": "code",
    "id": "cmHauKBZnFNS"
   },
   "outputs": [],
   "source": [
    "# 인덱스열을 일반열로 바꾸고 기본 인덱스(0, 1, 2,..) 열 추가\n",
    "stock.reset_index(drop=False, inplace=True)\n",
    "stock.head()"
   ]
  },
  {
   "cell_type": "markdown",
   "metadata": {
    "colab_type": "text",
    "id": "0HIv2VMIQnYb"
   },
   "source": [
    "- 열 이름 변경"
   ]
  },
  {
   "cell_type": "code",
   "execution_count": null,
   "metadata": {
    "colab": {},
    "colab_type": "code",
    "id": "zfWeMsPvQSRw",
    "scrolled": true
   },
   "outputs": [],
   "source": [
    "stock.rename(columns={'index': 'Date'}, inplace=True)\n",
    "stock.head()"
   ]
  },
  {
   "cell_type": "markdown",
   "metadata": {
    "colab_type": "text",
    "id": "yohTkqw2ex7e"
   },
   "source": [
    "<img src='https://raw.githubusercontent.com/jangrae/img/master/practice_01.png' width=120 align=\"left\"/>"
   ]
  },
  {
   "cell_type": "markdown",
   "metadata": {
    "colab_type": "text",
    "id": "NqG5hTOrqjpi"
   },
   "source": [
    "아래 주어진 데이터프레임을 확인하고, 이어지는 셀에 코드를 완성해 보세요."
   ]
  },
  {
   "cell_type": "code",
   "execution_count": null,
   "metadata": {
    "colab": {},
    "colab_type": "code",
    "id": "cATzMkRgX5p8"
   },
   "outputs": [],
   "source": [
    "# 데이터프레임 만들기\n",
    "dates = pd.date_range('20200201', periods=10)\n",
    "nums = np.random.randn(10, 4)\n",
    "df = pd.DataFrame(nums, index=dates, columns=list('ABCD'))\n",
    "df.head()"
   ]
  },
  {
   "cell_type": "code",
   "execution_count": null,
   "metadata": {
    "colab": {},
    "colab_type": "code",
    "id": "D-X_tx_cYnfj"
   },
   "outputs": [],
   "source": [
    "# 인덱스를 정수형 위치 인덱스로 초기화\n",
    "df.reset_index(drop=False, inplace=True)\n",
    "\n",
    "# 확인\n",
    "df.head()"
   ]
  },
  {
   "cell_type": "code",
   "execution_count": null,
   "metadata": {
    "colab": {},
    "colab_type": "code",
    "id": "RnPMufha44kk"
   },
   "outputs": [],
   "source": [
    "# 날짜 열 이름을 Date로 변경\n",
    "df.rename(columns={'index': 'Date'}, inplace=True)\n",
    "\n",
    "# 확인\n",
    "df.head()"
   ]
  },
  {
   "cell_type": "code",
   "execution_count": null,
   "metadata": {
    "colab": {},
    "colab_type": "code",
    "id": "QdC8wQLEYr2w"
   },
   "outputs": [],
   "source": [
    "# 인덱스를 날짜 데이터가 있는 열로 다시 변경\n",
    "df.set_index('Date', inplace=True)\n",
    "\n",
    "# 확인\n",
    "df.head()"
   ]
  },
  {
   "cell_type": "code",
   "execution_count": null,
   "metadata": {
    "colab": {},
    "colab_type": "code",
    "id": "8ymSLbqjOW8K"
   },
   "outputs": [],
   "source": [
    "# 인덱스 이름 삭제\n",
    "df.index.name = None\n",
    "\n",
    "# 확인\n",
    "df.head()"
   ]
  },
  {
   "cell_type": "markdown",
   "metadata": {
    "colab_type": "text",
    "id": "zPb7_mq4od5p"
   },
   "source": [
    "## <center>수고하셨습니다</center>\n",
    "<center><img src='https://raw.githubusercontent.com/Jangrae/img/master/end.png' width=200/></center>"
   ]
  }
 ],
 "metadata": {
  "colab": {
   "collapsed_sections": [],
   "name": "02 데이터프레임 만들기.ipynb",
   "provenance": []
  },
  "kernelspec": {
   "display_name": "Python 3",
   "language": "python",
   "name": "python3"
  },
  "language_info": {
   "codemirror_mode": {
    "name": "ipython",
    "version": 3
   },
   "file_extension": ".py",
   "mimetype": "text/x-python",
   "name": "python",
   "nbconvert_exporter": "python",
   "pygments_lexer": "ipython3",
   "version": "3.7.6"
  }
 },
 "nbformat": 4,
 "nbformat_minor": 1
}
