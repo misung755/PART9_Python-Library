{
 "cells": [
  {
   "cell_type": "markdown",
   "metadata": {
    "colab_type": "text",
    "id": "BFhIXgdYoYGp"
   },
   "source": [
    "<center><img src='https://raw.githubusercontent.com/Jangrae/img/master/title.png' width=500/></center>"
   ]
  },
  {
   "cell_type": "markdown",
   "metadata": {},
   "source": [
    "<center>- Pandas의 모든 것을 배우지 않습니다. 데이터 전처리에 대한 부분만 학습 대상이 됩니다 -</center>"
   ]
  },
  {
   "cell_type": "markdown",
   "metadata": {
    "colab_type": "text",
    "id": "DFijIAllYnVQ"
   },
   "source": [
    "# 학습 목표\n",
    "\n",
    "- 데이터프레임에 대한 다양한 정보를 확인해 데이터를 이해할 수 있습니다.\n",
    "- 특히 결측치(NaN값) 존재 여부를 확인할 수 있습니다.\n",
    "- 기본적인 집계 함수를 사용해 데이터를 이해할 수 있습니다.\n",
    "- 데이터프레임을 원하는 순서로 정렬해 데이터를 확인할 수 있습니다."
   ]
  },
  {
   "cell_type": "markdown",
   "metadata": {
    "colab_type": "text",
    "id": "-sdzPN0Uwxi2"
   },
   "source": [
    "# 3. 데이터프레임 정보 확인"
   ]
  },
  {
   "cell_type": "markdown",
   "metadata": {
    "colab_type": "text",
    "id": "-RYoYWk-YnVc"
   },
   "source": [
    "- 파일에서 불러온 데이터의 크기, 내용, 분포, 누락된 값 등을 확인할 수 있어야 합니다.\n",
    "- 확인된 내용을 통해 데이터 전처리 필요 여부를 결정합니다.\n",
    "- 데이터를 알아야 데이터를 분석할 수 있습니다."
   ]
  },
  {
   "cell_type": "code",
   "execution_count": null,
   "metadata": {
    "colab": {},
    "colab_type": "code",
    "id": "siCMN2lzSelq"
   },
   "outputs": [],
   "source": [
    "# 라이브러리 불러오기\n",
    "import pandas as pd\n",
    "import numpy as np"
   ]
  },
  {
   "cell_type": "code",
   "execution_count": null,
   "metadata": {
    "colab": {},
    "colab_type": "code",
    "id": "i-hbJbQnH_tC"
   },
   "outputs": [],
   "source": [
    "# Titanic 데이터 불러오기\n",
    "file_path = 'https://raw.githubusercontent.com/Jangrae/csv/master/titanic_simple.csv'\n",
    "titanic = pd.read_csv(file_path, sep=',', skipinitialspace=True)  \n",
    "titanic.head()"
   ]
  },
  {
   "cell_type": "markdown",
   "metadata": {
    "colab_type": "text",
    "id": "pYIMdO6BeBaH"
   },
   "source": [
    "**[참고] 우선 익숙해져야 할 것들**\n",
    "\n",
    "- shape: 데이터프레임 크기\n",
    "- index: 인덱스 정보 확인\n",
    "- values: 값 정보 확인\n",
    "- columns: 열 정보 확인\n",
    "- dtypes: 열 자료형 확인\n",
    "- info(): 열에 대한 상세한 정보 확인\n",
    "- describe(): 기초통계정보 확인"
   ]
  },
  {
   "cell_type": "markdown",
   "metadata": {
    "colab_type": "text",
    "id": "ut-2PJEa3ES4"
   },
   "source": [
    "## 3.1. 앞, 뒤 일부 데이터, 크기 확인\n",
    "\n",
    "- **head(*n*), tail(*n*)** 메소드를 사용해 앞 뒤 데이터를 확인합니다.\n",
    "- 갯수를 지정하지 않으면 기본적으로 5개 행이 조회됩니다."
   ]
  },
  {
   "cell_type": "markdown",
   "metadata": {
    "colab_type": "text",
    "id": "xifu7T7TsCYu"
   },
   "source": [
    "**1) 앞쪽 데이터 확인**"
   ]
  },
  {
   "cell_type": "code",
   "execution_count": null,
   "metadata": {
    "colab": {},
    "colab_type": "code",
    "id": "3V0T5qwfYnVd",
    "scrolled": true
   },
   "outputs": [],
   "source": [
    "# 첫 5개 행 데이터\n",
    "titanic.head()"
   ]
  },
  {
   "cell_type": "code",
   "execution_count": null,
   "metadata": {
    "colab": {},
    "colab_type": "code",
    "id": "TVoWootyIJPU",
    "scrolled": true
   },
   "outputs": [],
   "source": [
    "# 첫 10개 행 데이터\n",
    "titanic.head(10)"
   ]
  },
  {
   "cell_type": "markdown",
   "metadata": {
    "colab_type": "text",
    "id": "-vHvSJQhsFht"
   },
   "source": [
    "**2) 뒤쪽 데이터 확인**"
   ]
  },
  {
   "cell_type": "code",
   "execution_count": null,
   "metadata": {
    "colab": {},
    "colab_type": "code",
    "id": "2agjyJgBYnVf"
   },
   "outputs": [],
   "source": [
    "# 마지막 5개 행 데이터\n",
    "titanic.tail()"
   ]
  },
  {
   "cell_type": "code",
   "execution_count": null,
   "metadata": {
    "colab": {},
    "colab_type": "code",
    "id": "-Qr9hq-SsV70"
   },
   "outputs": [],
   "source": [
    "# 마지막 3개 행 데이터\n",
    "titanic.tail(3)"
   ]
  },
  {
   "cell_type": "markdown",
   "metadata": {
    "colab_type": "text",
    "id": "6lBnFI3xsJRR"
   },
   "source": [
    "**3) 크기 확인**\n",
    "\n",
    "- **(rows, cols)** 값을 갖는 **튜플** 형태로 확인이 가능합니다.\n",
    "- 데이터를 분석할 때 처리할 **데이터 양을 확인**하는 목적으로 많이 사용 합니다."
   ]
  },
  {
   "cell_type": "code",
   "execution_count": null,
   "metadata": {
    "colab": {},
    "colab_type": "code",
    "id": "EYh2NhMSYnVh"
   },
   "outputs": [],
   "source": [
    "# 데이터프레임 행수와 열수 확인\n",
    "titanic.shape"
   ]
  },
  {
   "cell_type": "code",
   "execution_count": null,
   "metadata": {
    "colab": {},
    "colab_type": "code",
    "id": "etKhBR-sAanD"
   },
   "outputs": [],
   "source": [
    "# 데이터프레임 행수 확인\n",
    "titanic.shape[0]"
   ]
  },
  {
   "cell_type": "code",
   "execution_count": null,
   "metadata": {
    "colab": {},
    "colab_type": "code",
    "id": "AJdBQQ5-AanF"
   },
   "outputs": [],
   "source": [
    "# 데이터프레임 열수 확인\n",
    "titanic.shape[1]"
   ]
  },
  {
   "cell_type": "markdown",
   "metadata": {
    "colab_type": "text",
    "id": "Lf1-5iz_wxkT"
   },
   "source": [
    "## 3.2. 열, 행 정보 보기"
   ]
  },
  {
   "cell_type": "markdown",
   "metadata": {
    "colab_type": "text",
    "id": "DKmBgIFtIJPa"
   },
   "source": [
    "**1) 인덱스 확인**"
   ]
  },
  {
   "cell_type": "code",
   "execution_count": null,
   "metadata": {
    "colab": {},
    "colab_type": "code",
    "id": "iGMPPsVZmO_J"
   },
   "outputs": [],
   "source": [
    "titanic.index"
   ]
  },
  {
   "cell_type": "markdown",
   "metadata": {
    "colab_type": "text",
    "id": "2yAu6hjGmqX5"
   },
   "source": [
    "**2) 값 확인**"
   ]
  },
  {
   "cell_type": "code",
   "execution_count": null,
   "metadata": {
    "colab": {},
    "colab_type": "code",
    "id": "DK_uz55rmRRM"
   },
   "outputs": [],
   "source": [
    "titanic.values"
   ]
  },
  {
   "cell_type": "markdown",
   "metadata": {
    "colab_type": "text",
    "id": "moM8H3EnmtsP"
   },
   "source": [
    "**3) 열 확인**"
   ]
  },
  {
   "cell_type": "code",
   "execution_count": null,
   "metadata": {
    "colab": {},
    "colab_type": "code",
    "id": "YZp-NPIQYnVl",
    "scrolled": false
   },
   "outputs": [],
   "source": [
    "titanic.columns"
   ]
  },
  {
   "cell_type": "markdown",
   "metadata": {
    "colab_type": "text",
    "id": "03NTnomXIJPc"
   },
   "source": [
    "**4) 자료형 확인**\n",
    "- int64: 정수형 데이터(int)\n",
    "- float64: 실수형 데이터(float)\n",
    "- object: 문자열 데이터(string)"
   ]
  },
  {
   "cell_type": "code",
   "execution_count": null,
   "metadata": {
    "colab": {},
    "colab_type": "code",
    "id": "mJbpIbz2YnVn",
    "scrolled": true
   },
   "outputs": [],
   "source": [
    "# 각 열의 자료형 확인\n",
    "titanic.dtypes"
   ]
  },
  {
   "cell_type": "markdown",
   "metadata": {
    "colab_type": "text",
    "id": "xWlJzR1SOaf8"
   },
   "source": [
    "**5) 자료형, NaN가 아닌 개수, 데이터 형식 동시 확인**"
   ]
  },
  {
   "cell_type": "code",
   "execution_count": null,
   "metadata": {
    "colab": {},
    "colab_type": "code",
    "id": "EdnNtSWNsucm"
   },
   "outputs": [],
   "source": [
    "# 열에 대한 좀더 자세한 정보 확인\n",
    "titanic.info()"
   ]
  },
  {
   "cell_type": "code",
   "execution_count": null,
   "metadata": {
    "colab": {},
    "colab_type": "code",
    "id": "APiUIt17_vi9"
   },
   "outputs": [],
   "source": [
    "# 열 이름과 자료형만 확인\n",
    "titanic.info(null_counts=False)"
   ]
  },
  {
   "cell_type": "markdown",
   "metadata": {
    "colab_type": "text",
    "id": "ZdTxUS47IJPe"
   },
   "source": [
    "**6) 기초 통계 정보 보기**\n",
    "- 개수(count), 평균(mean), 표준편차(std), 최솟값(min), 중간값(25%, 50%, 75%), 최댓값(max)을 표시합니다."
   ]
  },
  {
   "cell_type": "code",
   "execution_count": null,
   "metadata": {
    "colab": {},
    "colab_type": "code",
    "id": "8Z8rhBNBYnVw",
    "scrolled": true
   },
   "outputs": [],
   "source": [
    "# 기초통계량\n",
    "titanic.describe()"
   ]
  },
  {
   "cell_type": "markdown",
   "metadata": {
    "colab_type": "text",
    "id": "7d32vCo6wxk0"
   },
   "source": [
    "## 3.3. 정렬해서 보기\n",
    "\n",
    "- **sort_index()** 메소드: **인덱스**를 기준으로 정렬합니다.\n",
    "- **sort_values()** 메소드: **특정 열**을 기준으로 정렬합니다"
   ]
  },
  {
   "cell_type": "markdown",
   "metadata": {
    "colab_type": "text",
    "id": "ODaVW7agIJPl"
   },
   "source": [
    "**1) 인덱스를 기준으로 정렬**"
   ]
  },
  {
   "cell_type": "code",
   "execution_count": null,
   "metadata": {
    "colab": {},
    "colab_type": "code",
    "id": "8p2my8OBIJPj",
    "scrolled": false
   },
   "outputs": [],
   "source": [
    "# 데이터프레임 확인\n",
    "titanic.head()"
   ]
  },
  {
   "cell_type": "code",
   "execution_count": null,
   "metadata": {
    "colab": {},
    "colab_type": "code",
    "id": "XtYZ3ykzYnVz",
    "scrolled": false
   },
   "outputs": [],
   "source": [
    "# 인덱스로 내림차순 정렬\n",
    "titanic.sort_index(ascending=False)"
   ]
  },
  {
   "cell_type": "markdown",
   "metadata": {
    "colab_type": "text",
    "id": "tnxARMlCIJPs"
   },
   "source": [
    "**2) 열 값을 기준으로 정렬**"
   ]
  },
  {
   "cell_type": "code",
   "execution_count": null,
   "metadata": {
    "colab": {},
    "colab_type": "code",
    "id": "b54Sod9nYnV2",
    "scrolled": false
   },
   "outputs": [],
   "source": [
    "# Fare 열의 값으로 정렬\n",
    "titanic.sort_values(by='Fare', ascending=False)"
   ]
  },
  {
   "cell_type": "code",
   "execution_count": null,
   "metadata": {
    "colab": {},
    "colab_type": "code",
    "id": "YSsGC3B8IJPv",
    "scrolled": false
   },
   "outputs": [],
   "source": [
    "# Fare, Age 열의 값으로 정렬\n",
    "titanic.sort_values(by=['Fare', 'Age'], ascending=[False, True])"
   ]
  },
  {
   "cell_type": "markdown",
   "metadata": {
    "colab_type": "text",
    "id": "mHrKYYWip4Es"
   },
   "source": [
    "<img src='https://raw.githubusercontent.com/jangrae/img/master/practice_01.png' width=120 align=\"left\"/>"
   ]
  },
  {
   "cell_type": "markdown",
   "metadata": {
    "colab_type": "text",
    "id": "rmJOgZthqrvh"
   },
   "source": [
    "아래 주어진 데이터프레임을 확인하고, 이어지는 셀에 코드를 완성해 보세요."
   ]
  },
  {
   "cell_type": "code",
   "execution_count": null,
   "metadata": {
    "colab": {},
    "colab_type": "code",
    "id": "SqqSa2ePc7NS"
   },
   "outputs": [],
   "source": [
    "# 데이터프레임 만들기\n",
    "dates = pd.date_range('20200201', periods=10)\n",
    "nums = np.random.randn(10, 4)\n",
    "df = pd.DataFrame(nums, index=dates, columns=list('ABCD'))\n",
    "df.head()"
   ]
  },
  {
   "cell_type": "code",
   "execution_count": null,
   "metadata": {
    "colab": {},
    "colab_type": "code",
    "id": "QOXydA00dARV"
   },
   "outputs": [],
   "source": [
    "# 날짜를 기준으로 내림차순 정렬해서 보기\n",
    "df.sort_index(ascending=False)"
   ]
  },
  {
   "cell_type": "code",
   "execution_count": null,
   "metadata": {
    "colab": {},
    "colab_type": "code",
    "id": "QSX7JM7PdRJp"
   },
   "outputs": [],
   "source": [
    "# A열을 기준으로 내림차순 정렬해서 보기\n",
    "df.sort_values(by=['A'], ascending=False)"
   ]
  },
  {
   "cell_type": "code",
   "execution_count": null,
   "metadata": {
    "colab": {},
    "colab_type": "code",
    "id": "cweFVhKmo0Aj"
   },
   "outputs": [],
   "source": [
    "# B열을 기준으로 오름차순 정렬해서 보기\n",
    "df.sort_values(by=['B'], ascending=True)"
   ]
  },
  {
   "cell_type": "code",
   "execution_count": null,
   "metadata": {
    "colab": {},
    "colab_type": "code",
    "id": "eSqkI0sxo0Gr"
   },
   "outputs": [],
   "source": [
    "# C열을 기준으로 내림차순 정렬해서 보기\n",
    "df.sort_values(by=['C'], ascending=False)"
   ]
  },
  {
   "cell_type": "code",
   "execution_count": null,
   "metadata": {
    "colab": {},
    "colab_type": "code",
    "id": "p5CojrYMoz8g"
   },
   "outputs": [],
   "source": [
    "# D열을 기준으로 오름차순 정렬해서 보기\n",
    "df.sort_values(by=['D'], ascending=True)"
   ]
  },
  {
   "cell_type": "markdown",
   "metadata": {
    "colab_type": "text",
    "id": "zPb7_mq4od5p"
   },
   "source": [
    "## <center>수고하셨습니다</center>\n",
    "<center><img src='https://raw.githubusercontent.com/Jangrae/img/master/end.png' width=200/></center>"
   ]
  }
 ],
 "metadata": {
  "colab": {
   "collapsed_sections": [],
   "name": "03 데이터프레임 정보 확인.ipynb",
   "provenance": []
  },
  "kernelspec": {
   "display_name": "Python 3",
   "language": "python",
   "name": "python3"
  },
  "language_info": {
   "codemirror_mode": {
    "name": "ipython",
    "version": 3
   },
   "file_extension": ".py",
   "mimetype": "text/x-python",
   "name": "python",
   "nbconvert_exporter": "python",
   "pygments_lexer": "ipython3",
   "version": "3.7.6"
  }
 },
 "nbformat": 4,
 "nbformat_minor": 1
}
