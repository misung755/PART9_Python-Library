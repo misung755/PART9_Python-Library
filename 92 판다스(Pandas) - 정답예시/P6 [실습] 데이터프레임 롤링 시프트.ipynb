{
 "cells": [
  {
   "cell_type": "markdown",
   "metadata": {
    "colab_type": "text",
    "id": "BFhIXgdYoYGp"
   },
   "source": [
    "<center><img src='https://raw.githubusercontent.com/Jangrae/img/master/title.png' width=500/></center>"
   ]
  },
  {
   "cell_type": "markdown",
   "metadata": {
    "colab_type": "text",
    "id": "2Y1A2_eVB-Q0"
   },
   "source": [
    "<center><img src='https://raw.githubusercontent.com/Jangrae/img/master/practice.png' width=300/></center>"
   ]
  },
  {
   "cell_type": "markdown",
   "metadata": {
    "colab_type": "text",
    "id": "FnFIQcHrB-Q2"
   },
   "source": [
    "# 실습 목표\n",
    "\n",
    "- 롤링 기능을 사용해 이동 평균, 누적합 등을 조회할 수 있습니다.\n",
    "- 시프트 기능을 사용해 표시되는 행 위치를 다르게 할 수 있습니다.\n",
    "- 롤링 시프트 결과를 기존 데이터프레임에 새로운 열로 추가할 수 있습니다."
   ]
  },
  {
   "cell_type": "markdown",
   "metadata": {
    "colab_type": "text",
    "id": "4aefGZ-GInlR"
   },
   "source": [
    "# P6. [실습] 데이터프레임 롤링 시프트\n"
   ]
  },
  {
   "cell_type": "code",
   "execution_count": null,
   "metadata": {
    "colab": {},
    "colab_type": "code",
    "id": "b46u7om7LInB"
   },
   "outputs": [],
   "source": [
    "# 라이브러리와 파일 불러오기\n",
    "import pandas as pd\n",
    "import numpy as np\n",
    "import matplotlib.pyplot as plt"
   ]
  },
  {
   "cell_type": "code",
   "execution_count": null,
   "metadata": {
    "colab": {},
    "colab_type": "code",
    "id": "5xUG91RFB-RA"
   },
   "outputs": [],
   "source": [
    "# 파일 읽어오기\n",
    "file_path = 'https://raw.githubusercontent.com/Jangrae/csv/master/stock.csv'\n",
    "stock = pd.read_csv(file_path, sep = ',') \n",
    "stock.head()"
   ]
  },
  {
   "cell_type": "markdown",
   "metadata": {
    "colab_type": "text",
    "id": "UvjlUiVxCVqQ"
   },
   "source": [
    "1) stock 데이터프레임에서 Adj Close 열을 제거하세요."
   ]
  },
  {
   "cell_type": "code",
   "execution_count": null,
   "metadata": {
    "colab": {},
    "colab_type": "code",
    "id": "sEA1Eeu4CarG"
   },
   "outputs": [],
   "source": [
    "# Adj Close 열 제거\n",
    "stock.drop('Adj Close', axis=1, inplace=True)\n",
    "\n",
    "# 확인\n",
    "stock.head()"
   ]
  },
  {
   "cell_type": "markdown",
   "metadata": {
    "colab_type": "text",
    "id": "OI_w1tC1-RFV"
   },
   "source": [
    "2) **rolling()** 메소드를 사용해 3일 이동 최대 주가를 갖는 Close_lag3_1 열을 추가하세요."
   ]
  },
  {
   "cell_type": "code",
   "execution_count": null,
   "metadata": {
    "colab": {},
    "colab_type": "code",
    "id": "D3IDbDFywxrh"
   },
   "outputs": [],
   "source": [
    "# 3일 이동 최대 주가\n",
    "stock['Close_lag3_1'] = stock['Close'].rolling(3).max()\n",
    "\n",
    "# 확인\n",
    "stock.head(10)"
   ]
  },
  {
   "cell_type": "markdown",
   "metadata": {
    "colab_type": "text",
    "id": "Lc7SaCSB-Wib"
   },
   "source": [
    "3) **rolling()**, **shift()** 메소드를 사용해 기준일을 포함하지 않은 과거 3일의 최대 주가를 갖는 Close_lag3_2 열을 추가하세요."
   ]
  },
  {
   "cell_type": "code",
   "execution_count": null,
   "metadata": {
    "colab": {},
    "colab_type": "code",
    "id": "bz3MLaILwxrl"
   },
   "outputs": [],
   "source": [
    "# 과거 3일의 최대 주가\n",
    "stock['Close_lag3_2'] = stock['Close'].rolling(3).max().shift(1)\n",
    "\n",
    "# 확인\n",
    "stock.head(10)"
   ]
  },
  {
   "cell_type": "markdown",
   "metadata": {
    "colab_type": "text",
    "id": "y0WJstrj-aQP"
   },
   "source": [
    "4) 기준일을 포함하지 않은 과거 7일 평균 거래량을 갖는 Volume_lag7 열을 추가하세요."
   ]
  },
  {
   "cell_type": "code",
   "execution_count": null,
   "metadata": {
    "colab": {},
    "colab_type": "code",
    "id": "7XSxeLVrwxrq"
   },
   "outputs": [],
   "source": [
    "# 과거 7일 평균 거래량\n",
    "stock['Volume_lag7'] = stock['Volume'].rolling(7).mean().shift(1)\n",
    "\n",
    "# 확인\n",
    "stock.head(10)"
   ]
  },
  {
   "cell_type": "markdown",
   "metadata": {
    "colab_type": "text",
    "id": "rF8iEqBSDQM7"
   },
   "source": [
    "5) stock 데이터프레임에서 2018년 데이터만 가져와 **stock2018** 데이터프레임을 만드세요."
   ]
  },
  {
   "cell_type": "code",
   "execution_count": null,
   "metadata": {
    "colab": {},
    "colab_type": "code",
    "id": "dfjCgWkEDbMI"
   },
   "outputs": [],
   "source": [
    "# 2018년 데이터 가져오기\n",
    "stock2018 = stock[stock['Date'].between('2018-01-01', '2018-12-31')].copy()\n",
    "\n",
    "# 확인\n",
    "stock2018.head()"
   ]
  },
  {
   "cell_type": "markdown",
   "metadata": {
    "colab_type": "text",
    "id": "f4WD_FEZD_tq"
   },
   "source": [
    "6) stock2018 데이터프레임의 인덱스를 초기화 하세요."
   ]
  },
  {
   "cell_type": "code",
   "execution_count": null,
   "metadata": {
    "colab": {},
    "colab_type": "code",
    "id": "kdiBd2ZQEE_H"
   },
   "outputs": [],
   "source": [
    "# 인덱스 초기화\n",
    "stock2018.reset_index(drop=True, inplace=True)\n",
    "\n",
    "# 확인\n",
    "stock2018.head()"
   ]
  },
  {
   "cell_type": "markdown",
   "metadata": {
    "colab_type": "text",
    "id": "KqOHu2W4C_0R"
   },
   "source": [
    "## <center>수고하셨습니다.</center>\n",
    "<center><img src='https://raw.githubusercontent.com/Jangrae/img/master/end.png' width=200/></center>"
   ]
  }
 ],
 "metadata": {
  "colab": {
   "collapsed_sections": [],
   "name": "P6 [실습] 데이터프레임 롤링 시프트.ipynb",
   "provenance": []
  },
  "kernelspec": {
   "display_name": "Python 3",
   "language": "python",
   "name": "python3"
  },
  "language_info": {
   "codemirror_mode": {
    "name": "ipython",
    "version": 3
   },
   "file_extension": ".py",
   "mimetype": "text/x-python",
   "name": "python",
   "nbconvert_exporter": "python",
   "pygments_lexer": "ipython3",
   "version": "3.7.6"
  }
 },
 "nbformat": 4,
 "nbformat_minor": 1
}
