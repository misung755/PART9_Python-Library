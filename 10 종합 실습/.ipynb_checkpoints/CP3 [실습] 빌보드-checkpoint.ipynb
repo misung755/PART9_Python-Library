{
 "cells": [
  {
   "cell_type": "markdown",
   "metadata": {
    "colab_type": "text",
    "id": "E-qoYWgOC_yk"
   },
   "source": [
    "<center><img src='https://raw.githubusercontent.com/Jangrae/img/master/title.png' width=500/></center>"
   ]
  },
  {
   "cell_type": "markdown",
   "metadata": {
    "colab_type": "text",
    "id": "BFhIXgdYoYGp"
   },
   "source": [
    "<center><img src='https://raw.githubusercontent.com/Jangrae/img/master/practice.png' width=300/></center>"
   ]
  },
  {
   "cell_type": "markdown",
   "metadata": {
    "colab_type": "text",
    "id": "Nkw-jfYoFBTc"
   },
   "source": [
    "# CP3. [실습] 데이터 전처리와 시각화: 빌보드"
   ]
  },
  {
   "cell_type": "markdown",
   "metadata": {
    "colab_type": "text",
    "id": "8eeyGNRdMIBJ"
   },
   "source": [
    "- 본 실습은 간단한 데이터 시각화 방법을 직접 체험하기 위한 것입니다.\n",
    "- 차트를 화려하게 꾸미는데 목적을 두지 말고 전처리 부분에 중점을 두는 것이 좋습니다.\n",
    "- 우선 다음과 같은 과정으로 데이터 시각화를 수행함으로 알고 진행하기 바랍니다."
   ]
  },
  {
   "cell_type": "markdown",
   "metadata": {
    "colab_type": "text",
    "id": "INAthB_AMIBL"
   },
   "source": [
    "<img src='https://raw.githubusercontent.com/Jangrae/img/master/visualization.png' width=\"650\" align=\"left\">"
   ]
  },
  {
   "cell_type": "code",
   "execution_count": 1,
   "metadata": {
    "colab": {},
    "colab_type": "code",
    "id": "UoGi0wbYFFvO"
   },
   "outputs": [],
   "source": [
    "# 라이브러리 불러오기\n",
    "import numpy as np\n",
    "import pandas as pd\n",
    "import matplotlib.pyplot as plt\n",
    "\n",
    "%matplotlib inline   \n",
    "%config InlineBackend.figure_format = 'retina'"
   ]
  },
  {
   "cell_type": "markdown",
   "metadata": {
    "colab_type": "text",
    "id": "ZwtQ2RY_MIBT"
   },
   "source": [
    "## 1. 데이터 불러오기\n",
    "\n",
    "- **read_csv()** 함수를 사용해 분석할 데이터를 csv 파일에서 불러옵니다.\n",
    "- billboard 데이터 셋은 2000년 빌보드 차드 정보입니다.\n",
    "- 파일 경로: 'https://raw.githubusercontent.com/Jangrae/csv/master/billboard.csv'"
   ]
  },
  {
   "cell_type": "code",
   "execution_count": 3,
   "metadata": {
    "colab": {},
    "colab_type": "code",
    "id": "lWg2YOL4MIBU"
   },
   "outputs": [],
   "source": [
    "# billboard\n",
    "file_path = 'https://raw.githubusercontent.com/Jangrae/csv/master/billboard.csv'\n",
    "billboard = pd.read_csv(file_path)"
   ]
  },
  {
   "cell_type": "markdown",
   "metadata": {
    "colab_type": "text",
    "id": "Ft7Tn-DfMIBb"
   },
   "source": [
    "## 2. 데이터 확인\n",
    "\n",
    "- 데이터를 알아야 데이터를 분석할 수 있습니다.\n",
    "- 우선 분석할 데이터가 어떤 형태의 데이터인지 확인합니다."
   ]
  },
  {
   "cell_type": "markdown",
   "metadata": {
    "colab_type": "text",
    "id": "cMlj2g4AMIBd"
   },
   "source": [
    "**1) 상위/하위 데이터 확인**\n",
    "\n",
    "- **head()**, **tail()** 메소드로 상/하위 데이터를 확인합니다."
   ]
  },
  {
   "cell_type": "code",
   "execution_count": 4,
   "metadata": {
    "colab": {},
    "colab_type": "code",
    "id": "3IxEFcOkMIBe",
    "scrolled": false
   },
   "outputs": [
    {
     "data": {
      "text/html": [
       "<div>\n",
       "<style scoped>\n",
       "    .dataframe tbody tr th:only-of-type {\n",
       "        vertical-align: middle;\n",
       "    }\n",
       "\n",
       "    .dataframe tbody tr th {\n",
       "        vertical-align: top;\n",
       "    }\n",
       "\n",
       "    .dataframe thead th {\n",
       "        text-align: right;\n",
       "    }\n",
       "</style>\n",
       "<table border=\"1\" class=\"dataframe\">\n",
       "  <thead>\n",
       "    <tr style=\"text-align: right;\">\n",
       "      <th></th>\n",
       "      <th>year</th>\n",
       "      <th>artist.inverted</th>\n",
       "      <th>track</th>\n",
       "      <th>time</th>\n",
       "      <th>genre</th>\n",
       "      <th>date.entered</th>\n",
       "      <th>date.peaked</th>\n",
       "      <th>x1st.week</th>\n",
       "      <th>x2nd.week</th>\n",
       "      <th>x3rd.week</th>\n",
       "      <th>...</th>\n",
       "      <th>x67th.week</th>\n",
       "      <th>x68th.week</th>\n",
       "      <th>x69th.week</th>\n",
       "      <th>x70th.week</th>\n",
       "      <th>x71st.week</th>\n",
       "      <th>x72nd.week</th>\n",
       "      <th>x73rd.week</th>\n",
       "      <th>x74th.week</th>\n",
       "      <th>x75th.week</th>\n",
       "      <th>x76th.week</th>\n",
       "    </tr>\n",
       "  </thead>\n",
       "  <tbody>\n",
       "    <tr>\n",
       "      <th>0</th>\n",
       "      <td>2000</td>\n",
       "      <td>Destiny's Child</td>\n",
       "      <td>Independent Women Part I</td>\n",
       "      <td>3:38</td>\n",
       "      <td>Rock</td>\n",
       "      <td>2000-09-23</td>\n",
       "      <td>2000-11-18</td>\n",
       "      <td>78</td>\n",
       "      <td>63.0</td>\n",
       "      <td>49.0</td>\n",
       "      <td>...</td>\n",
       "      <td>NaN</td>\n",
       "      <td>NaN</td>\n",
       "      <td>NaN</td>\n",
       "      <td>NaN</td>\n",
       "      <td>NaN</td>\n",
       "      <td>NaN</td>\n",
       "      <td>NaN</td>\n",
       "      <td>NaN</td>\n",
       "      <td>NaN</td>\n",
       "      <td>NaN</td>\n",
       "    </tr>\n",
       "    <tr>\n",
       "      <th>1</th>\n",
       "      <td>2000</td>\n",
       "      <td>Santana</td>\n",
       "      <td>Maria, Maria</td>\n",
       "      <td>4:18</td>\n",
       "      <td>Rock</td>\n",
       "      <td>2000-02-12</td>\n",
       "      <td>2000-04-08</td>\n",
       "      <td>15</td>\n",
       "      <td>8.0</td>\n",
       "      <td>6.0</td>\n",
       "      <td>...</td>\n",
       "      <td>NaN</td>\n",
       "      <td>NaN</td>\n",
       "      <td>NaN</td>\n",
       "      <td>NaN</td>\n",
       "      <td>NaN</td>\n",
       "      <td>NaN</td>\n",
       "      <td>NaN</td>\n",
       "      <td>NaN</td>\n",
       "      <td>NaN</td>\n",
       "      <td>NaN</td>\n",
       "    </tr>\n",
       "    <tr>\n",
       "      <th>2</th>\n",
       "      <td>2000</td>\n",
       "      <td>Savage Garden</td>\n",
       "      <td>I Knew I Loved You</td>\n",
       "      <td>4:07</td>\n",
       "      <td>Rock</td>\n",
       "      <td>1999-10-23</td>\n",
       "      <td>2000-01-29</td>\n",
       "      <td>71</td>\n",
       "      <td>48.0</td>\n",
       "      <td>43.0</td>\n",
       "      <td>...</td>\n",
       "      <td>NaN</td>\n",
       "      <td>NaN</td>\n",
       "      <td>NaN</td>\n",
       "      <td>NaN</td>\n",
       "      <td>NaN</td>\n",
       "      <td>NaN</td>\n",
       "      <td>NaN</td>\n",
       "      <td>NaN</td>\n",
       "      <td>NaN</td>\n",
       "      <td>NaN</td>\n",
       "    </tr>\n",
       "    <tr>\n",
       "      <th>3</th>\n",
       "      <td>2000</td>\n",
       "      <td>Madonna</td>\n",
       "      <td>Music</td>\n",
       "      <td>3:45</td>\n",
       "      <td>Rock</td>\n",
       "      <td>2000-08-12</td>\n",
       "      <td>2000-09-16</td>\n",
       "      <td>41</td>\n",
       "      <td>23.0</td>\n",
       "      <td>18.0</td>\n",
       "      <td>...</td>\n",
       "      <td>NaN</td>\n",
       "      <td>NaN</td>\n",
       "      <td>NaN</td>\n",
       "      <td>NaN</td>\n",
       "      <td>NaN</td>\n",
       "      <td>NaN</td>\n",
       "      <td>NaN</td>\n",
       "      <td>NaN</td>\n",
       "      <td>NaN</td>\n",
       "      <td>NaN</td>\n",
       "    </tr>\n",
       "    <tr>\n",
       "      <th>4</th>\n",
       "      <td>2000</td>\n",
       "      <td>Aguilera, Christina</td>\n",
       "      <td>Come On Over Baby (All I Want Is You)</td>\n",
       "      <td>3:38</td>\n",
       "      <td>Rock</td>\n",
       "      <td>2000-08-05</td>\n",
       "      <td>2000-10-14</td>\n",
       "      <td>57</td>\n",
       "      <td>47.0</td>\n",
       "      <td>45.0</td>\n",
       "      <td>...</td>\n",
       "      <td>NaN</td>\n",
       "      <td>NaN</td>\n",
       "      <td>NaN</td>\n",
       "      <td>NaN</td>\n",
       "      <td>NaN</td>\n",
       "      <td>NaN</td>\n",
       "      <td>NaN</td>\n",
       "      <td>NaN</td>\n",
       "      <td>NaN</td>\n",
       "      <td>NaN</td>\n",
       "    </tr>\n",
       "  </tbody>\n",
       "</table>\n",
       "<p>5 rows × 83 columns</p>\n",
       "</div>"
      ],
      "text/plain": [
       "   year      artist.inverted                                  track  time  \\\n",
       "0  2000      Destiny's Child               Independent Women Part I  3:38   \n",
       "1  2000              Santana                           Maria, Maria  4:18   \n",
       "2  2000        Savage Garden                     I Knew I Loved You  4:07   \n",
       "3  2000              Madonna                                  Music  3:45   \n",
       "4  2000  Aguilera, Christina  Come On Over Baby (All I Want Is You)  3:38   \n",
       "\n",
       "  genre date.entered date.peaked  x1st.week  x2nd.week  x3rd.week  ...  \\\n",
       "0  Rock   2000-09-23  2000-11-18         78       63.0       49.0  ...   \n",
       "1  Rock   2000-02-12  2000-04-08         15        8.0        6.0  ...   \n",
       "2  Rock   1999-10-23  2000-01-29         71       48.0       43.0  ...   \n",
       "3  Rock   2000-08-12  2000-09-16         41       23.0       18.0  ...   \n",
       "4  Rock   2000-08-05  2000-10-14         57       47.0       45.0  ...   \n",
       "\n",
       "   x67th.week  x68th.week  x69th.week  x70th.week  x71st.week  x72nd.week  \\\n",
       "0         NaN         NaN         NaN         NaN         NaN         NaN   \n",
       "1         NaN         NaN         NaN         NaN         NaN         NaN   \n",
       "2         NaN         NaN         NaN         NaN         NaN         NaN   \n",
       "3         NaN         NaN         NaN         NaN         NaN         NaN   \n",
       "4         NaN         NaN         NaN         NaN         NaN         NaN   \n",
       "\n",
       "   x73rd.week  x74th.week  x75th.week  x76th.week  \n",
       "0         NaN         NaN         NaN         NaN  \n",
       "1         NaN         NaN         NaN         NaN  \n",
       "2         NaN         NaN         NaN         NaN  \n",
       "3         NaN         NaN         NaN         NaN  \n",
       "4         NaN         NaN         NaN         NaN  \n",
       "\n",
       "[5 rows x 83 columns]"
      ]
     },
     "execution_count": 4,
     "metadata": {},
     "output_type": "execute_result"
    }
   ],
   "source": [
    "# 상위 5개 행 확인\n",
    "billboard.head()"
   ]
  },
  {
   "cell_type": "code",
   "execution_count": null,
   "metadata": {
    "colab": {},
    "colab_type": "code",
    "id": "qPeRgXV7MIBj",
    "scrolled": false
   },
   "outputs": [],
   "source": [
    "# 하위 5개 행 확인\n"
   ]
  },
  {
   "cell_type": "markdown",
   "metadata": {
    "colab_type": "text",
    "id": "iOd3Wuq6MIBo"
   },
   "source": [
    "**2) 열 데이터 개수, NaN 값 여부 확인**\n",
    "\n",
    "- **info()** 메소드로 각 열의 값 개수, **NaN**값 포함 여부를 확인합니다.\n",
    "- NaN값이 포함되어 있으면 결측치에 대한 해결(제거 또는 변경)이 필요합니다."
   ]
  },
  {
   "cell_type": "code",
   "execution_count": null,
   "metadata": {
    "colab": {},
    "colab_type": "code",
    "id": "BOHV_cACMIBp",
    "scrolled": false
   },
   "outputs": [],
   "source": [
    "# 열 정보, NaN 값 포함 여부 확인\n"
   ]
  },
  {
   "cell_type": "markdown",
   "metadata": {
    "colab_type": "text",
    "id": "mYk9A-6hMIBv"
   },
   "source": [
    "**3) 기초 통계 정보 확인**\n",
    "\n",
    "- **describe()** 메소드를 사용해 기초 통계 정보를 확인합니다."
   ]
  },
  {
   "cell_type": "code",
   "execution_count": null,
   "metadata": {
    "colab": {},
    "colab_type": "code",
    "id": "b_GY8cjcMIBw",
    "scrolled": true
   },
   "outputs": [],
   "source": [
    "# 기초 통계 정보 확인\n"
   ]
  },
  {
   "cell_type": "markdown",
   "metadata": {
    "colab_type": "text",
    "id": "qWeoPaHkMIB1"
   },
   "source": [
    "**4) 질문**\n",
    "\n",
    "- billboard 데이터가 분석하기에 적절한 형태인가요?\n",
    "- billboard 데이터에 대해 어떤 분석이 의미가 있을까요?\n",
    "- 분석에 걸림돌이 될 만한 것은 무엇일까요?\n",
    "- 분석을 위해 우선 어떤 처리를 해야 할까요?"
   ]
  },
  {
   "cell_type": "markdown",
   "metadata": {
    "colab_type": "text",
    "id": "Nzkb7WhmMIB2"
   },
   "source": [
    "## 3. 데이터 전처리\n",
    "\n",
    "- NaN 값이 포함된 열이 있으면 제거하거나 다른 값으로 채워야 합니다.\n",
    "- 중복된 데이터는 정확한 분석을 방해하므로 제거해야 합니다.\n",
    "- 기타 데이터에 방해가 되는 요소를 전처리 과정에서 제거합니다."
   ]
  },
  {
   "cell_type": "markdown",
   "metadata": {
    "colab_type": "text",
    "id": "v7ryY3p_MIB3"
   },
   "source": [
    "**1) 재 구조화**\n",
    "\n",
    "- **x1st.week** 형태의 열 이름에 주에 대한 정보가 포함되어 있습니다.\n",
    "- 우선 **Melt()** 함수를 사용해 이 열을 행의 값으로 내려야 합니다.\n",
    "- year, artist.inverted, track, time, genre, date.entered, date.peaked 열이 고정 열이 되어야 합니다.\n",
    "- 몇 주인지 정보는 **week**, 순위는 **rank** 열로 만들어지도록 합니다. "
   ]
  },
  {
   "cell_type": "code",
   "execution_count": null,
   "metadata": {
    "colab": {},
    "colab_type": "code",
    "id": "lxFYu3CcMIB4"
   },
   "outputs": [],
   "source": [
    "# 재 구조화\n",
    "id_vars = ['year','artist.inverted','track','time','genre','date.entered','date.peaked']\n",
    "\n",
    "\n",
    "# 확인\n",
    "billboard_long.head()"
   ]
  },
  {
   "cell_type": "markdown",
   "metadata": {
    "colab_type": "text",
    "id": "Q5MScckfMIB8"
   },
   "source": [
    "**2) 결측치 제거**\n",
    "\n",
    "- info() 메소드로 확인해 보면 rank 열에 결측치가 많이 있습니다.\n",
    "- NaN 값은 빌보드 TOP 100을 벗어났다는 의미입니다. "
   ]
  },
  {
   "cell_type": "code",
   "execution_count": null,
   "metadata": {
    "colab": {},
    "colab_type": "code",
    "id": "VitO5zjsMIB9"
   },
   "outputs": [],
   "source": [
    "# 열 정보 확인\n"
   ]
  },
  {
   "cell_type": "markdown",
   "metadata": {
    "colab_type": "text",
    "id": "MK82po9rMICC"
   },
   "source": [
    "- rank 열이 NaN 값인 행은 순위권에 들지 못해 의미가 없으니 **dropna()** 메소드를 사용해 결측치를 제거합니다."
   ]
  },
  {
   "cell_type": "code",
   "execution_count": null,
   "metadata": {
    "colab": {},
    "colab_type": "code",
    "id": "PZzbmItQMICD"
   },
   "outputs": [],
   "source": [
    "# 결측치 제거\n"
   ]
  },
  {
   "cell_type": "code",
   "execution_count": null,
   "metadata": {
    "colab": {},
    "colab_type": "code",
    "id": "WRZ7WrM5MICI"
   },
   "outputs": [],
   "source": [
    "# 다시 확인\n",
    "billboard_long.info()"
   ]
  },
  {
   "cell_type": "markdown",
   "metadata": {
    "colab_type": "text",
    "id": "Cl0hqSclMICN"
   },
   "source": [
    "**3) 문자열에서 정수 추출**\n",
    "\n",
    "- 문자열에서 숫자를 뽑을 때는 정규식을 사용해야 합니다.\n",
    "- 다음 코드가 간단한 예를 보여줍니다. 이 방법을 사용해 숫자를 추출합니다."
   ]
  },
  {
   "cell_type": "code",
   "execution_count": null,
   "metadata": {
    "colab": {},
    "colab_type": "code",
    "id": "5nnkMN7EMICO"
   },
   "outputs": [],
   "source": [
    "# 문자열에서 정수 추출하기\n",
    "a = pd.Series(['a1bc', 'abc13k', '119', '43a2'])\n",
    "a.str.extract('(\\d+)')"
   ]
  },
  {
   "cell_type": "markdown",
   "metadata": {
    "colab_type": "text",
    "id": "EXelp_tRMICT"
   },
   "source": [
    "- **week**에서 숫자만 추출해서 다시 week 열에 저장합니다.\n",
    "- 문자열 메소드를 데이터프레임 열에 사용할 때는 **str.메소드()** 형태가 되어야 합니다."
   ]
  },
  {
   "cell_type": "code",
   "execution_count": null,
   "metadata": {
    "colab": {},
    "colab_type": "code",
    "id": "cxOEWAHKMICU",
    "scrolled": true
   },
   "outputs": [],
   "source": [
    "# 숫자 추출\n",
    "\n",
    "\n",
    "# 확인\n",
    "billboard_long.head()"
   ]
  },
  {
   "cell_type": "markdown",
   "metadata": {
    "colab_type": "text",
    "id": "Qu4QDvk3MICY"
   },
   "source": [
    "**4) 데이터 형식 변경**\n",
    "- **week**, **rank**는 **astype()** 메소드를 사용해 **정수형**으로 변경합니다."
   ]
  },
  {
   "cell_type": "code",
   "execution_count": null,
   "metadata": {
    "colab": {},
    "colab_type": "code",
    "id": "vFkrf517MICZ",
    "scrolled": true
   },
   "outputs": [],
   "source": [
    "# 숫자 추출, 정수 변환\n",
    "\n",
    "\n",
    "# 확인\n",
    "billboard_long.head()"
   ]
  },
  {
   "cell_type": "markdown",
   "metadata": {
    "colab_type": "text",
    "id": "9tf5O1hyMICe"
   },
   "source": [
    "**5) 인덱스 초기화**\n",
    "\n",
    "- 중간에 결측치가 제거되면서 인덱스에 구멍이 있을겁니다.\n",
    "- 깔끔한 데이터를 위해 인덱스를 초기화 합니다."
   ]
  },
  {
   "cell_type": "code",
   "execution_count": null,
   "metadata": {
    "colab": {},
    "colab_type": "code",
    "id": "tpx4JoGQMICf"
   },
   "outputs": [],
   "source": [
    "# 인덱스 초기화\n"
   ]
  },
  {
   "cell_type": "code",
   "execution_count": null,
   "metadata": {
    "colab": {},
    "colab_type": "code",
    "id": "UQF4UUbMMICk"
   },
   "outputs": [],
   "source": [
    "# 확인\n",
    "billboard_long.info()"
   ]
  },
  {
   "cell_type": "markdown",
   "metadata": {
    "colab_type": "text",
    "id": "tR4bM8ggMICo"
   },
   "source": [
    "## 4. [옵션]데이터 시각화\n",
    "\n",
    "- 이제 전처리가 진행된 데이터를 시각화해서 분석합니다."
   ]
  },
  {
   "cell_type": "markdown",
   "metadata": {
    "colab_type": "text",
    "id": "BsdSn_xGMICp"
   },
   "source": [
    "**1) Maria, Maria 순위 변동**\n",
    "\n",
    "- Maria, Maria 순위 변동을 라인 그래프로 표시해 봅니다."
   ]
  },
  {
   "cell_type": "markdown",
   "metadata": {
    "colab_type": "text",
    "id": "PzmCmix0MICq"
   },
   "source": [
    "<img src=\"https://upload.wikimedia.org/wikipedia/en/f/fd/Mariamaria_santana_singlecover.jpg\" align=\"left\"/>"
   ]
  },
  {
   "cell_type": "code",
   "execution_count": null,
   "metadata": {
    "colab": {},
    "colab_type": "code",
    "id": "TSCH6A6gMICq",
    "scrolled": true
   },
   "outputs": [],
   "source": [
    "# Maria, Maria 차트 변동\n",
    "billboard_long[billboard_long['track'] == 'Maria, Maria'].plot(kind='line', y='rank')\n",
    "plt.show()"
   ]
  },
  {
   "cell_type": "markdown",
   "metadata": {
    "colab_type": "text",
    "id": "Rv68PQ4XMICv"
   },
   "source": [
    "**2) Music 순위 변동**\n",
    "\n",
    "- Music 순위 변동을 라인 그래프로 표시해 봅니다."
   ]
  },
  {
   "cell_type": "markdown",
   "metadata": {
    "colab_type": "text",
    "id": "PktqzGTUMICv"
   },
   "source": [
    "<img src = \"https://upload.wikimedia.org/wikipedia/en/f/f3/Madonna%2C_Music_single_cover.png\" align=\"left\"/>"
   ]
  },
  {
   "cell_type": "code",
   "execution_count": null,
   "metadata": {
    "colab": {},
    "colab_type": "code",
    "id": "WaXJPwWWMICw"
   },
   "outputs": [],
   "source": [
    "# Music 차트 변동\n",
    "billboard_long[billboard_long['track'] == 'Music'].plot(kind='line', y='rank')\n",
    "plt.show()"
   ]
  },
  {
   "cell_type": "markdown",
   "metadata": {
    "colab_type": "text",
    "id": "p_TOZaQ3MIC0"
   },
   "source": [
    "**[참고] y 축 뒤집기**\n",
    "\n",
    "- 1등이 위로 올라가야 의미가 있어 보일듯 합니다.\n",
    "- **plt.gca().invert_yaxis()** 처럼 하면 y 축이 뒤집어 표시됩니다."
   ]
  },
  {
   "cell_type": "code",
   "execution_count": null,
   "metadata": {
    "colab": {},
    "colab_type": "code",
    "id": "2g73_tuNMIC1"
   },
   "outputs": [],
   "source": [
    "# Music 차트 변동\n",
    "billboard_long[billboard_long['track'] == 'Music'].plot(kind='line', y='rank')\n",
    "plt.gca().invert_yaxis()\n",
    "plt.show()"
   ]
  },
  {
   "cell_type": "markdown",
   "metadata": {
    "colab_type": "text",
    "id": "veaAeoTsMIC6"
   },
   "source": [
    "## 5. 의미 찾기\n",
    "\n",
    "- 데이터 분석을 제대로 하려면 제대로된 데이터가 있어야 합니다.\n",
    "- 다양한 전처리 방법을 사용해 분석이 용이한 형태로 데이터를 변경해야 합니다.\n",
    "- melt() 함수 사용 방법을 꼭 기억하시기 바랍니다."
   ]
  },
  {
   "cell_type": "markdown",
   "metadata": {
    "colab_type": "text",
    "id": "KqOHu2W4C_0R"
   },
   "source": [
    "## <center>수고하셨습니다.</center>\n",
    "<center><img src='https://raw.githubusercontent.com/Jangrae/img/master/end.png' width=200/></center>"
   ]
  }
 ],
 "metadata": {
  "colab": {
   "collapsed_sections": [],
   "name": "CP2 [실습] 빌보드.ipynb",
   "provenance": []
  },
  "kernelspec": {
   "display_name": "Python 3",
   "language": "python",
   "name": "python3"
  },
  "language_info": {
   "codemirror_mode": {
    "name": "ipython",
    "version": 3
   },
   "file_extension": ".py",
   "mimetype": "text/x-python",
   "name": "python",
   "nbconvert_exporter": "python",
   "pygments_lexer": "ipython3",
   "version": "3.7.6"
  }
 },
 "nbformat": 4,
 "nbformat_minor": 1
}
