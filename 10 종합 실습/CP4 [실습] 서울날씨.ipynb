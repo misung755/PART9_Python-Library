{
 "cells": [
  {
   "cell_type": "markdown",
   "metadata": {
    "colab_type": "text",
    "id": "E-qoYWgOC_yk"
   },
   "source": [
    "<center><img src='https://raw.githubusercontent.com/Jangrae/img/master/title.png' width=500/></center>"
   ]
  },
  {
   "cell_type": "markdown",
   "metadata": {
    "colab_type": "text",
    "id": "BFhIXgdYoYGp"
   },
   "source": [
    "<center><img src='https://raw.githubusercontent.com/Jangrae/img/master/practice.png' width=300/></center>"
   ]
  },
  {
   "cell_type": "markdown",
   "metadata": {
    "colab_type": "text",
    "id": "Nkw-jfYoFBTc"
   },
   "source": [
    "# CP4. [실습] 데이터 전처리와 시각화: 서울날씨"
   ]
  },
  {
   "cell_type": "markdown",
   "metadata": {
    "colab_type": "text",
    "id": "ZNVrLK3_MQZf"
   },
   "source": [
    "- 본 실습은 간단한 데이터 시각화 방법을 직접 체험하기 위한 것입니다.\n",
    "- 차트를 화려하게 꾸미는데 목적을 두지 말고 전처리 부분에 중점을 두는 것이 좋습니다.\n",
    "- 우선 다음과 같은 과정으로 데이터 시각화를 수행함으로 알고 진행하기 바랍니다."
   ]
  },
  {
   "cell_type": "markdown",
   "metadata": {
    "colab_type": "text",
    "id": "RNXV6T7wMQZg"
   },
   "source": [
    "<img src='https://raw.githubusercontent.com/Jangrae/img/master/visualization.png' width=\"650\" align=\"left\">"
   ]
  },
  {
   "cell_type": "code",
   "execution_count": null,
   "metadata": {
    "colab": {},
    "colab_type": "code",
    "id": "UoGi0wbYFFvO"
   },
   "outputs": [],
   "source": [
    "# 라이브러리 불러오기\n",
    "import numpy as np\n",
    "import pandas as pd\n",
    "import matplotlib.pyplot as plt\n",
    "\n",
    "%matplotlib inline   \n",
    "%config InlineBackend.figure_format = 'retina'"
   ]
  },
  {
   "cell_type": "markdown",
   "metadata": {
    "colab_type": "text",
    "id": "wKdEZDnMMQZv"
   },
   "source": [
    "## 1. 데이터 불러오기\n",
    "\n",
    "- **read_csv()** 함수를 사용해 분석할 데이터를 csv 파일에서 불러옵니다.\n",
    "- seoul_temp 데이터 셋은 2000.01 ~ 2019.11 서울시 날씨에 대한 정보입니다.\n",
    "- 파일 경로: 'https://raw.githubusercontent.com/Jangrae/csv/master/seoul_temp.csv'"
   ]
  },
  {
   "cell_type": "code",
   "execution_count": null,
   "metadata": {
    "colab": {},
    "colab_type": "code",
    "id": "LNStTaE2MQZx"
   },
   "outputs": [],
   "source": [
    "# seoul\n",
    "file_path = 'https://raw.githubusercontent.com/Jangrae/csv/master/seoul_temp.csv'\n",
    "seoul = pd.read_csv(file_path)"
   ]
  },
  {
   "cell_type": "markdown",
   "metadata": {
    "colab_type": "text",
    "id": "YrY5DxHCMQZ7"
   },
   "source": [
    "## 2. 데이터 확인\n",
    "\n",
    "- 데이터를 알아야 데이터를 분석할 수 있습니다.\n",
    "- 우선 분석할 데이터가 어떤 형태의 데이터인지 확인합니다."
   ]
  },
  {
   "cell_type": "markdown",
   "metadata": {
    "colab_type": "text",
    "id": "oocn-fm4MQZ9"
   },
   "source": [
    "**1) 상위/하위 데이터 확인**\n",
    "\n",
    "- **head()**, **tail()** 메소드로 상/하위 데이터를 확인합니다."
   ]
  },
  {
   "cell_type": "code",
   "execution_count": null,
   "metadata": {
    "colab": {},
    "colab_type": "code",
    "id": "C0LAEKAEMQaA",
    "scrolled": true
   },
   "outputs": [],
   "source": [
    "# 상위 5개 행 확인\n"
   ]
  },
  {
   "cell_type": "code",
   "execution_count": null,
   "metadata": {
    "colab": {},
    "colab_type": "code",
    "id": "Y3-5icbqMQaJ",
    "scrolled": true
   },
   "outputs": [],
   "source": [
    "# 하위 5개 행 확인\n"
   ]
  },
  {
   "cell_type": "markdown",
   "metadata": {
    "colab_type": "text",
    "id": "2KjaG-LjMQaR"
   },
   "source": [
    "**2) 열 데이터 개수, NaN 값 여부 확인**\n",
    "\n",
    "- **info()** 메소드로 각 열의 값 개수, **NaN**값 포함 여부를 확인합니다.\n",
    "- NaN값이 포함되어 있으면 결측치에 대한 해결(제거 또는 변경)이 필요합니다."
   ]
  },
  {
   "cell_type": "code",
   "execution_count": null,
   "metadata": {
    "colab": {},
    "colab_type": "code",
    "id": "nE1PSKWnMQaS",
    "scrolled": true
   },
   "outputs": [],
   "source": [
    "# 열 정보, NaN 값 포함 여부 확인\n"
   ]
  },
  {
   "cell_type": "markdown",
   "metadata": {
    "colab_type": "text",
    "id": "vdk67ldzMQad"
   },
   "source": [
    "**3) 기초 통계 정보 확인**\n",
    "\n",
    "- **describe()** 메소드를 사용해 기초 통계 정보를 확인합니다."
   ]
  },
  {
   "cell_type": "code",
   "execution_count": null,
   "metadata": {
    "colab": {},
    "colab_type": "code",
    "id": "cujtqb0gMQaf",
    "scrolled": true
   },
   "outputs": [],
   "source": [
    "# 기초 통계 정보 확인\n"
   ]
  },
  {
   "cell_type": "markdown",
   "metadata": {
    "colab_type": "text",
    "id": "cfSmSMpUMQap"
   },
   "source": [
    "**4) 질문**\n",
    "\n",
    "- seoul 데이터가 분석하기에 적절한 형태인가요?\n",
    "- seoul 데이터에 대해 어떤 분석이 의미가 있을까요?\n",
    "- 분석에 걸림돌이 될 만한 것은 무엇일까요?\n",
    "- 분석을 위해 우선 어떤 처리를 해야 할까요?"
   ]
  },
  {
   "cell_type": "markdown",
   "metadata": {
    "colab_type": "text",
    "id": "mbQQ_3XmMQar"
   },
   "source": [
    "## 3. 데이터 전처리\n",
    "\n",
    "- NaN 값이 포함된 열이 있으면 제거하거나 다른 값으로 채워야 합니다.\n",
    "- 중복된 데이터는 정확한 분석을 방해하므로 제거해야 합니다.\n",
    "- 기타 데이터에 방해가 되는 요소를 전처리 과정에서 제거합니다."
   ]
  },
  {
   "cell_type": "markdown",
   "metadata": {
    "colab_type": "text",
    "id": "AopuceA6MQat"
   },
   "source": [
    "**1) 결측치 삭제**\n",
    "\n",
    "- NaN 값이 많은 2000년은 분석에서 제외하기 위해 dropna() 메소드로 삭제합니다."
   ]
  },
  {
   "cell_type": "code",
   "execution_count": null,
   "metadata": {
    "colab": {},
    "colab_type": "code",
    "id": "_XmnYVYOMQbT",
    "scrolled": false
   },
   "outputs": [],
   "source": [
    "# NaN 값을 갖는 행 삭제\n",
    "\n",
    "\n",
    "# 확인\n",
    "seoul.info()"
   ]
  },
  {
   "cell_type": "markdown",
   "metadata": {
    "colab_type": "text",
    "id": "ZJfw6z-vMQba"
   },
   "source": [
    "**2) 중복 행 삭제**\n",
    "\n",
    "- 중복된 행이 있으면 삭제해야 합니다.\n",
    "- 우선 중복된 행이 있는지 확인합니다."
   ]
  },
  {
   "cell_type": "code",
   "execution_count": null,
   "metadata": {
    "colab": {},
    "colab_type": "code",
    "id": "CvU91JOMMQbb"
   },
   "outputs": [],
   "source": [
    "# 중복 행 개수 확인\n"
   ]
  },
  {
   "cell_type": "code",
   "execution_count": null,
   "metadata": {
    "colab": {},
    "colab_type": "code",
    "id": "FAxrdlSmMQbj",
    "scrolled": true
   },
   "outputs": [],
   "source": [
    "# 종복 행 삭제\n",
    "\n",
    "\n",
    "# 확인\n",
    "seoul.info()"
   ]
  },
  {
   "cell_type": "markdown",
   "metadata": {
    "colab_type": "text",
    "id": "6eJqGc0sMQbs"
   },
   "source": [
    "**3) 인덱스 재정렬**\n",
    "\n",
    "- 몇 몇 행이 제거되면서 인덱스 값에 구멍이 생겼습니다.\n",
    "- 깔끔한 데이터를 위해 인덱스를 초기화 합니다."
   ]
  },
  {
   "cell_type": "code",
   "execution_count": null,
   "metadata": {
    "colab": {},
    "colab_type": "code",
    "id": "vnmX74KxMQbu",
    "scrolled": false
   },
   "outputs": [],
   "source": [
    "# 인덱스 재정렬\n",
    "\n",
    "\n",
    "# 확인\n",
    "seoul.head()"
   ]
  },
  {
   "cell_type": "markdown",
   "metadata": {
    "colab_type": "text",
    "id": "RCfh3AhWMQb4"
   },
   "source": [
    "## 4. 데이터 추가\n",
    "\n",
    "- 분석에 필요한 데이터가 항상 제공되는 것은 아닙니다.\n",
    "- 분석을 위해 필요한 데이터를 직접 만들어야 하는 경우가 많습니다.\n",
    "- 기존 데이터를 사용해 새로운 데이터를 만들 수 있으면 좋습니다."
   ]
  },
  {
   "cell_type": "markdown",
   "metadata": {
    "colab_type": "text",
    "id": "euaApzSTMQb5"
   },
   "source": [
    "**1) 열 추가**\n",
    "\n",
    "- **year_month** 열을 점(.)을 구분자로 하여 **year** 열과 **month** 열로 분리합니다.\n",
    "- 우선 실수형인 year_month를 문자열 형식으로 바꿉니다."
   ]
  },
  {
   "cell_type": "code",
   "execution_count": null,
   "metadata": {
    "colab": {},
    "colab_type": "code",
    "id": "aHBCaR6sMQb7",
    "scrolled": true
   },
   "outputs": [],
   "source": [
    "# 문자열 형식으로 변경\n",
    "\n",
    "\n",
    "# 확인\n",
    "seoul.head(12)"
   ]
  },
  {
   "cell_type": "markdown",
   "metadata": {
    "colab_type": "text",
    "id": "RC6SrvrWY5yV"
   },
   "source": [
    "- **2001.10**이 **2001.1**이 되었으니 뒷 공백을 0으로 채워야 합니다.\n",
    "- **ljust()** 메소드는 전체 길이를 지정하고 빈 공간을 어떤 값으로 채울지 지정할 수 있습니다."
   ]
  },
  {
   "cell_type": "code",
   "execution_count": null,
   "metadata": {
    "colab": {},
    "colab_type": "code",
    "id": "avoWF7HkYb6o",
    "scrolled": true
   },
   "outputs": [],
   "source": [
    "# 7자리로 변경하고 우측 공백을 0으로 채우기\n",
    "\n",
    "\n",
    "# 확인\n",
    "seoul.head(12)"
   ]
  },
  {
   "cell_type": "markdown",
   "metadata": {
    "colab_type": "text",
    "id": "86KJ4mElMQcF"
   },
   "source": [
    "- 구분자를 기준으로 문자열을 분리하는 것을 **split()** 메소드를 사용합니다.\n",
    "- 데이터프레임 열에 대한 문자열 메소드 사용은 **str.메소드()** 형태로 해야 합니다.\n",
    "- 문자열을 분리해 **year**, **month** 열을 새로 만듭니다."
   ]
  },
  {
   "cell_type": "code",
   "execution_count": null,
   "metadata": {
    "colab": {},
    "colab_type": "code",
    "id": "LX_8JNG8MQcR",
    "scrolled": true
   },
   "outputs": [],
   "source": [
    "# year, month 열 추가\n",
    "\n",
    "\n",
    "\n",
    "# 확인\n",
    "seoul.head()"
   ]
  },
  {
   "cell_type": "markdown",
   "metadata": {
    "colab_type": "text",
    "id": "MKeQLkn1XNXn"
   },
   "source": [
    "- year, month 열 데이터 형식을 **정수로 변경**합니다."
   ]
  },
  {
   "cell_type": "code",
   "execution_count": null,
   "metadata": {
    "colab": {},
    "colab_type": "code",
    "id": "M6MsIo4YXLfj",
    "scrolled": true
   },
   "outputs": [],
   "source": [
    "# year, month 열 데이터 형식 변경\n",
    "\n",
    "\n",
    "\n",
    "# 확인\n",
    "seoul.info()"
   ]
  },
  {
   "cell_type": "markdown",
   "metadata": {
    "colab_type": "text",
    "id": "pSlj0kbiMQcZ"
   },
   "source": [
    "**2) 불필요한 열 삭제**\n",
    "\n",
    "- **year_month** 열은 더 이상 필요가 없으니 과감히 삭제합니다."
   ]
  },
  {
   "cell_type": "code",
   "execution_count": null,
   "metadata": {
    "colab": {},
    "colab_type": "code",
    "id": "iNqfVxudMQcb",
    "scrolled": true
   },
   "outputs": [],
   "source": [
    "# year_month 열 삭제\n",
    "\n",
    "\n",
    "# 확인\n",
    "seoul.head()"
   ]
  },
  {
   "cell_type": "markdown",
   "metadata": {
    "colab_type": "text",
    "id": "O973S5ecMQci"
   },
   "source": [
    "**3) 열 순서 바꾸기**\n",
    "\n",
    "- 더 깔끔한 데이터를 위해 year, month 열을 맨 앞으로 가져옵니다."
   ]
  },
  {
   "cell_type": "code",
   "execution_count": null,
   "metadata": {
    "colab": {},
    "colab_type": "code",
    "id": "jGiMh34wMQcj",
    "scrolled": false
   },
   "outputs": [],
   "source": [
    "# 열 순서 변경\n",
    "col_list = ['year', 'month', 'avg_temp', 'avg_max_temp', 'max_temp', 'avg_min_temp', \n",
    "            'min_temp', 'rain', 'humidity', 'wind']\n",
    "\n",
    "\n",
    "# 확인\n",
    "seoul.head()"
   ]
  },
  {
   "cell_type": "markdown",
   "metadata": {
    "colab_type": "text",
    "id": "u7mtJ4gBMQco"
   },
   "source": [
    "## 5. [옵션] 데이터 시각화\n",
    "\n",
    "- 이제 전처리가 진행된 데이터를 시각화해서 분석합니다."
   ]
  },
  {
   "cell_type": "markdown",
   "metadata": {
    "colab_type": "text",
    "id": "Tao4ItpnMQcq"
   },
   "source": [
    "**1) 2018년 최고/최저 기온**\n",
    "\n",
    "- 2018년 최고 기온과 최저 기온을 표시해 봅니다."
   ]
  },
  {
   "cell_type": "code",
   "execution_count": null,
   "metadata": {
    "colab": {},
    "colab_type": "code",
    "id": "z1dbj5kIMQct"
   },
   "outputs": [],
   "source": [
    "# 2018년 최고/최저 기온\n",
    "seoul[seoul['year'] == 2018].plot(kind='line', x='month', y=['min_temp', 'max_temp'])\n",
    "plt.xticks(range(1, 13))\n",
    "plt.show()"
   ]
  },
  {
   "cell_type": "markdown",
   "metadata": {
    "colab_type": "text",
    "id": "J_VyXNECMQc2"
   },
   "source": [
    "**2) 연도별 최고기온 변화**\n",
    "\n",
    "- 연도별 최고기온 변화를 표시해 봅니다."
   ]
  },
  {
   "cell_type": "code",
   "execution_count": null,
   "metadata": {
    "colab": {},
    "colab_type": "code",
    "id": "9yWAlAz_MQc4",
    "scrolled": true
   },
   "outputs": [],
   "source": [
    "# 연도별 평균기온 변화\n",
    "seoul.groupby(by='year')['max_temp'].max().plot(kind='line', figsize=(10, 5))\n",
    "plt.xticks(range(2000, 2020))\n",
    "plt.show()"
   ]
  },
  {
   "cell_type": "markdown",
   "metadata": {
    "colab_type": "text",
    "id": "2izsOXktMQdA"
   },
   "source": [
    "**3) 연도별 최대 강수량 변화**\n",
    "\n",
    "- 연도별 최대 강수량 변화를 표시해 봅니다."
   ]
  },
  {
   "cell_type": "code",
   "execution_count": null,
   "metadata": {
    "colab": {},
    "colab_type": "code",
    "id": "w1qt8b3MMQdC",
    "scrolled": false
   },
   "outputs": [],
   "source": [
    "# 연도별 최대강수량 변화\n",
    "seoul.groupby(by='year')['rain'].max().plot(kind='line', figsize=(10, 5))\n",
    "plt.xticks(range(2000, 2020))\n",
    "plt.show()"
   ]
  },
  {
   "cell_type": "markdown",
   "metadata": {
    "colab_type": "text",
    "id": "WgDbRUArMQdK"
   },
   "source": [
    "**[참고] 한반도 가뭄과 장마**\n",
    "\n",
    "- 2014-15년 한반도 가뭄: https://ko.wikipedia.org/wiki/2014-15%EB%85%84_%ED%95%9C%EB%B0%98%EB%8F%84_%EA%B0%80%EB%AD%84\n",
    "- 사진으로 본 3년 만에 찾아온 '장마다운 장마’: https://www.hankookilbo.com/News/Read/201707031786220550"
   ]
  },
  {
   "cell_type": "markdown",
   "metadata": {
    "colab_type": "text",
    "id": "CbRp5_6hMQdM"
   },
   "source": [
    "**4) 연도별 최대/최저기온 변화**\n",
    "\n",
    "- 연도별 최고기온과 최저기온을 집계해 concat() 함수로 연결해 표시합니다."
   ]
  },
  {
   "cell_type": "code",
   "execution_count": null,
   "metadata": {
    "colab": {},
    "colab_type": "code",
    "id": "F8GPQ1ICMQdO"
   },
   "outputs": [],
   "source": [
    "# 연도별 최고기온\n",
    "s_max = seoul.groupby(by='year')['max_temp'].max()"
   ]
  },
  {
   "cell_type": "code",
   "execution_count": null,
   "metadata": {
    "colab": {},
    "colab_type": "code",
    "id": "GY67pz-SMQdW"
   },
   "outputs": [],
   "source": [
    "# 연도별 최저기온\n",
    "s_min = seoul.groupby(by='year')['min_temp'].min()"
   ]
  },
  {
   "cell_type": "code",
   "execution_count": null,
   "metadata": {
    "colab": {},
    "colab_type": "code",
    "id": "tekEK8qEMQdl"
   },
   "outputs": [],
   "source": [
    "# concat()으로 연결\n",
    "s_max_min = pd.concat([s_max, s_min], axis=1)"
   ]
  },
  {
   "cell_type": "code",
   "execution_count": null,
   "metadata": {
    "colab": {},
    "colab_type": "code",
    "id": "BuuoGUiYMQdt"
   },
   "outputs": [],
   "source": [
    "# 연도별 최고/최저 기온\n",
    "s_max_min.plot(kind='line', figsize=(10, 5))\n",
    "plt.xticks(range(2000, 2020))\n",
    "plt.show()"
   ]
  },
  {
   "cell_type": "markdown",
   "metadata": {
    "colab_type": "text",
    "id": "ih47xeE6MQd1"
   },
   "source": [
    "## 6. 의미 찾기"
   ]
  },
  {
   "cell_type": "markdown",
   "metadata": {
    "colab_type": "text",
    "id": "ysyWCB6bMQd3"
   },
   "source": [
    "- 데이터 분석을 제대로 하려면 제대로된 데이터가 있어야 합니다.\n",
    "- 다양한 전처리 방법을 사용해 분석이 용이한 형태로 데이터를 변경해야 합니다.\n",
    "- 기존 데이터를 활용해 새로운 데이터를 만들 수 있어야 합니다.\n",
    "- 같은 처리를 반복해 수행하면서 충분히 익숙해져야 합니다.\n",
    "- 서울의 기온을 분석하면서 과거 한반도의 가움과 장마를 다시 보게 되었습니다."
   ]
  },
  {
   "cell_type": "markdown",
   "metadata": {
    "colab_type": "text",
    "id": "KqOHu2W4C_0R"
   },
   "source": [
    "## <center>수고하셨습니다.</center>\n",
    "<center><img src='https://raw.githubusercontent.com/Jangrae/img/master/end.png' width=200/></center>"
   ]
  }
 ],
 "metadata": {
  "colab": {
   "collapsed_sections": [],
   "name": "CP3 [실습] 서울날씨.ipynb",
   "provenance": []
  },
  "kernelspec": {
   "display_name": "Python 3",
   "language": "python",
   "name": "python3"
  },
  "language_info": {
   "codemirror_mode": {
    "name": "ipython",
    "version": 3
   },
   "file_extension": ".py",
   "mimetype": "text/x-python",
   "name": "python",
   "nbconvert_exporter": "python",
   "pygments_lexer": "ipython3",
   "version": "3.7.6"
  }
 },
 "nbformat": 4,
 "nbformat_minor": 1
}
