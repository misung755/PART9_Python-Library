{
 "cells": [
  {
   "cell_type": "markdown",
   "metadata": {
    "colab_type": "text",
    "id": "E-qoYWgOC_yk"
   },
   "source": [
    "<center><img src='https://raw.githubusercontent.com/Jangrae/img/master/title.png' width=500/></center>"
   ]
  },
  {
   "cell_type": "markdown",
   "metadata": {
    "colab_type": "text",
    "id": "BFhIXgdYoYGp"
   },
   "source": [
    "<center><img src='https://raw.githubusercontent.com/Jangrae/img/master/practice.png' width=300/></center>"
   ]
  },
  {
   "cell_type": "markdown",
   "metadata": {
    "colab_type": "text",
    "id": "Nkw-jfYoFBTc"
   },
   "source": [
    "# CP6. [실습] 데이터 전처리와 시각화: 서울인구"
   ]
  },
  {
   "cell_type": "markdown",
   "metadata": {
    "colab_type": "text",
    "id": "Nkw-jfYoFBTc"
   },
   "source": [
    "- 본 실습은 간단한 데이터 시각화 방법을 직접 체험하기 위한 것입니다.\n",
    "- 차트를 화려하게 꾸미는데 목적을 두지 말고 전처리 부분에 중점을 두는 것이 좋습니다.\n",
    "- 우선 다음과 같은 과정으로 데이터 시각화를 수행함으로 알고 진행하기 바랍니다."
   ]
  },
  {
   "cell_type": "markdown",
   "metadata": {},
   "source": [
    "<img src='https://raw.githubusercontent.com/Jangrae/img/master/visualization.png' width=\"650\" align=\"left\">"
   ]
  },
  {
   "cell_type": "code",
   "execution_count": null,
   "metadata": {
    "colab": {},
    "colab_type": "code",
    "id": "UoGi0wbYFFvO"
   },
   "outputs": [],
   "source": [
    "# 라이브러리 불러오기\n",
    "import numpy as np\n",
    "import pandas as pd\n",
    "import matplotlib.pyplot as plt\n",
    "import matplotlib.image as mpimg\n",
    "\n",
    "%matplotlib inline   \n",
    "%config InlineBackend.figure_format = 'retina'"
   ]
  },
  {
   "cell_type": "markdown",
   "metadata": {},
   "source": [
    "## 1. 데이터 불러오기\n",
    "\n",
    "- 분석할 데이터를 csv 파일에서 불러옵니다.\n",
    "- seoul01, seoul02, seoul03은 1995~2018년 서울시 남녀 인구 정보정보입니다.\n",
    "- 전체, 내국인, 외국인 인구로 파일이 분리되어 있습니다.\n",
    "- 파일 경로: 'https://raw.githubusercontent.com/Jangrae/csv/master/seoul_pop01.csv'\n",
    "- 파일 경로: 'https://raw.githubusercontent.com/Jangrae/csv/master/seoul_pop02.csv'\n",
    "- 파일 경로: 'https://raw.githubusercontent.com/Jangrae/csv/master/seoul_pop03.csv'"
   ]
  },
  {
   "cell_type": "code",
   "execution_count": null,
   "metadata": {},
   "outputs": [],
   "source": [
    "# 서울인구(전체)\n",
    "file_path = 'https://raw.githubusercontent.com/Jangrae/csv/master/seoul_pop01.csv'\n",
    "seoul01 = pd.read_csv(file_path)"
   ]
  },
  {
   "cell_type": "code",
   "execution_count": null,
   "metadata": {},
   "outputs": [],
   "source": [
    "# 서울인구(내국인)\n",
    "file_path = 'https://raw.githubusercontent.com/Jangrae/csv/master/seoul_pop02.csv'\n",
    "seoul02 = pd.read_csv(file_path)"
   ]
  },
  {
   "cell_type": "code",
   "execution_count": null,
   "metadata": {},
   "outputs": [],
   "source": [
    "# 서울인구(외국인)\n",
    "file_path = 'https://raw.githubusercontent.com/Jangrae/csv/master/seoul_pop03.csv'\n",
    "seoul03 = pd.read_csv(file_path)"
   ]
  },
  {
   "cell_type": "markdown",
   "metadata": {},
   "source": [
    "## 2. 데이터 확인\n",
    "\n",
    "- 데이터를 알아야 데이터를 분석할 수 있습니다.\n",
    "- 우선 분석할 데이터가 어떤 형태의 데이터인지 확인합니다."
   ]
  },
  {
   "cell_type": "markdown",
   "metadata": {},
   "source": [
    "**1) 상위/하위 데이터 확인**\n",
    "\n",
    "- **head()**, **tail()** 메소드로 상/하위 데이터를 확인합니다."
   ]
  },
  {
   "cell_type": "markdown",
   "metadata": {},
   "source": [
    "**seoul01: 서울시 남녀 인구(외국인+내국인)**"
   ]
  },
  {
   "cell_type": "code",
   "execution_count": null,
   "metadata": {
    "scrolled": true
   },
   "outputs": [],
   "source": [
    "# 상위 5개 행 확인\n"
   ]
  },
  {
   "cell_type": "code",
   "execution_count": null,
   "metadata": {
    "scrolled": true
   },
   "outputs": [],
   "source": [
    "# 하위 5개 행 확인\n"
   ]
  },
  {
   "cell_type": "markdown",
   "metadata": {},
   "source": [
    "**seoul02: 서울시 남녀 내국인 인구**"
   ]
  },
  {
   "cell_type": "code",
   "execution_count": null,
   "metadata": {
    "scrolled": true
   },
   "outputs": [],
   "source": [
    "# 상위 5개 행 확인\n"
   ]
  },
  {
   "cell_type": "code",
   "execution_count": null,
   "metadata": {
    "scrolled": false
   },
   "outputs": [],
   "source": [
    "# 하위 5개 행 확인\n"
   ]
  },
  {
   "cell_type": "markdown",
   "metadata": {},
   "source": [
    "**seoul03: 서울시 남녀 외국인 인구**"
   ]
  },
  {
   "cell_type": "code",
   "execution_count": null,
   "metadata": {
    "scrolled": true
   },
   "outputs": [],
   "source": [
    "# 상위 5개 행 확인\n"
   ]
  },
  {
   "cell_type": "code",
   "execution_count": null,
   "metadata": {
    "scrolled": true
   },
   "outputs": [],
   "source": [
    "# 하위 5개 행 확인\n"
   ]
  },
  {
   "cell_type": "markdown",
   "metadata": {},
   "source": [
    "**2) 열 데이터 개수, NaN 값 여부 확인**\n",
    "\n",
    "- **info()** 메소드로 각 열의 값 개수, **NaN**값 포함 여부를 확인합니다.\n",
    "- NaN값이 포함되어 있으면 결측치에 대한 해결(제거 또는 변경)이 필요합니다."
   ]
  },
  {
   "cell_type": "code",
   "execution_count": null,
   "metadata": {
    "scrolled": true
   },
   "outputs": [],
   "source": [
    "# 열 정보, NaN 값 포함 여부 확인\n"
   ]
  },
  {
   "cell_type": "markdown",
   "metadata": {},
   "source": [
    "**3) 기초 통계 정보 확인**\n",
    "\n",
    "- **describe()** 메소드를 사용해 기초 통계 정보를 확인합니다."
   ]
  },
  {
   "cell_type": "markdown",
   "metadata": {},
   "source": [
    "**seoul01**"
   ]
  },
  {
   "cell_type": "code",
   "execution_count": null,
   "metadata": {
    "scrolled": true
   },
   "outputs": [],
   "source": [
    "# 기초 통계 정보 확인\n"
   ]
  },
  {
   "cell_type": "markdown",
   "metadata": {},
   "source": [
    "**seoul02**"
   ]
  },
  {
   "cell_type": "code",
   "execution_count": null,
   "metadata": {
    "scrolled": true
   },
   "outputs": [],
   "source": [
    "# 기초 통계 정보 확인\n"
   ]
  },
  {
   "cell_type": "markdown",
   "metadata": {},
   "source": [
    "**seoul03**"
   ]
  },
  {
   "cell_type": "code",
   "execution_count": null,
   "metadata": {
    "scrolled": true
   },
   "outputs": [],
   "source": [
    "# 기초 통계 정보 확인\n"
   ]
  },
  {
   "cell_type": "markdown",
   "metadata": {},
   "source": [
    "**4) 질문**\n",
    "\n",
    "- seoul01, 02, 03 데이터가 분석하기에 적절한 형태인가요?\n",
    "- seoul01, 02, 03 데이터에 대해 어떤 분석이 의미가 있을까요?\n",
    "- 분석에 걸림돌이 될 만한 것은 무엇일까요?\n",
    "- 분석을 위해 우선 어떤 처리를 해야 할까요?"
   ]
  },
  {
   "cell_type": "markdown",
   "metadata": {},
   "source": [
    "## 3. 데이터 전처리\n",
    "\n",
    "- NaN 값이 포함된 열이 있으면 제거하거나 다른 값으로 채워야 합니다.\n",
    "- 중복된 데이터는 정확한 분석을 방해하므로 제거해야 합니다.\n",
    "- 기타 데이터에 방해가 되는 요소를 전처리 과정에서 제거합니다."
   ]
  },
  {
   "cell_type": "markdown",
   "metadata": {},
   "source": [
    "## 4. 데이터 추가\n",
    "\n",
    "- 분석에 필요한 데이터가 항상 제공되는 것은 아닙니다.\n",
    "- 분석을 위해 필요한 데이터를 직접 만들어야 하는 경우가 많습니다.\n",
    "- 기존 데이터를 사용해 새로운 데이터를 만들 수 있으면 좋습니다."
   ]
  },
  {
   "cell_type": "markdown",
   "metadata": {},
   "source": [
    "**1) 데이터 조인**\n",
    "\n",
    "- 데이터가 세 개로 나뉘어 있어 분석이 번거로울 것입니다.\n",
    "- 세 개의 데이터를 year를 기준으로 조인해서 하나로 만듭니다.\n",
    "- 우선 outer join을 한 결과를 살피기로 합니다.\n",
    "- 조인된 결과 데이터프레임 이름은 seoul로 합니다."
   ]
  },
  {
   "cell_type": "markdown",
   "metadata": {},
   "source": [
    "**seoul01, seoul02 조인**\n",
    "\n",
    "- 우선 **seoul01**, **seoul02**를 조인해서 **seoul** 데이터프레임을 만듭니다.\n",
    "- **pd.merge()** 함수를 사용해 조인합니다.\n",
    "- **on='year'**를 지정해 year 열을 기준으로 조인합니다.\n",
    "- **how='outer'**를 지정해 outer 조인을 합니다.\n",
    "- 열 이름은 나중에 한 번에 바꾸도록 합니다."
   ]
  },
  {
   "cell_type": "code",
   "execution_count": null,
   "metadata": {},
   "outputs": [],
   "source": [
    "# seoul01, seoul02 outer join\n",
    "\n",
    "\n",
    "# 확인\n",
    "seoul.head(10)"
   ]
  },
  {
   "cell_type": "markdown",
   "metadata": {},
   "source": [
    "**seoul, seoul03 조인**\n",
    "\n",
    "- 이제 **seoul**, **seoul02**를 조인해서 **seoul** 데이터프레임을 다시 만듭니다.\n",
    "- **on='year'**를 지정해 year열을 기준으로 조인합니다.\n",
    "- **how='outer'**를 지정해 outer 조인을 합니다."
   ]
  },
  {
   "cell_type": "code",
   "execution_count": null,
   "metadata": {},
   "outputs": [],
   "source": [
    "# seoul, seoul02 outer join\n",
    "\n",
    "\n",
    "# 확인\n",
    "seoul.head(10)"
   ]
  },
  {
   "cell_type": "markdown",
   "metadata": {},
   "source": [
    "**2) 열 이름 변경**\n",
    "\n",
    "- 열 이름의 _x, _y로는 의미를 알 수 없으니, 열 이름을 적절히 수정합니다.\n",
    "- male_x --> male, female_x --> female\n",
    "- male_y --> k_male, female_y --> k_female\n",
    "- male --> f_male, female --> f_female"
   ]
  },
  {
   "cell_type": "code",
   "execution_count": null,
   "metadata": {
    "scrolled": true
   },
   "outputs": [],
   "source": [
    "# 열 이름 변경\n",
    "\n",
    "\n",
    "\n",
    "# 확인\n",
    "seoul.head(10)"
   ]
  },
  {
   "cell_type": "markdown",
   "metadata": {},
   "source": [
    "**3) NaN 값 제거**\n",
    "\n",
    "- 전체 인구는 1995~1999년 데이터가 있지만, 내국인, 외국인 분류의 경우는 없습니다.\n",
    "- 1995~1999년 데이터는 버리기로 합시다.\n",
    "- 앞의 과정에서 inner join을 했으면 1995~1999년 데이터는 자동으로 삭제되었을 겁니다."
   ]
  },
  {
   "cell_type": "code",
   "execution_count": null,
   "metadata": {},
   "outputs": [],
   "source": [
    "# NaN이 있는 행 제거\n",
    "\n",
    "\n",
    "# NaN값 존재 여부 확인\n",
    "seoul.info()"
   ]
  },
  {
   "cell_type": "markdown",
   "metadata": {},
   "source": [
    "**4) 데이터 형식 변경**\n",
    "\n",
    "- k_male, k_female, f_male, f_female 열도 정수 형식으로 바꿉니다."
   ]
  },
  {
   "cell_type": "code",
   "execution_count": null,
   "metadata": {},
   "outputs": [],
   "source": [
    "# 데이터 형식 바꾸기\n",
    "\n",
    "\n",
    "\n",
    "# 확인\n",
    "seoul.info()"
   ]
  },
  {
   "cell_type": "code",
   "execution_count": null,
   "metadata": {},
   "outputs": [],
   "source": [
    "# 최종 결과 확인\n",
    "seoul.head(10)"
   ]
  },
  {
   "cell_type": "markdown",
   "metadata": {},
   "source": [
    "## 5. [옵션] 데이터 시각화\n",
    "\n",
    "- 이제 전처리가 진행된 데이터를 시각화해서 분석합니다.\n",
    "- 본 실습에서는 간단한 Line Graph를 표시해 보는 것을 목표로 합니다."
   ]
  },
  {
   "cell_type": "markdown",
   "metadata": {},
   "source": [
    "**1) 서울시 전체 인구 증감**\n",
    "\n",
    "- 서울시 전체 인구가 어떻게 변하는지 확인해 봅니다."
   ]
  },
  {
   "cell_type": "code",
   "execution_count": null,
   "metadata": {
    "scrolled": false
   },
   "outputs": [],
   "source": [
    "# 서울 전체 인구수 변화\n",
    "seoul.plot(kind='line', x='year', y=['male', 'female'])\n",
    "plt.xticks(range(2000, 2019, 2))\n",
    "plt.show()"
   ]
  },
  {
   "cell_type": "markdown",
   "metadata": {},
   "source": [
    "**2) 서울 내국인 인구 증감**\n",
    "\n",
    "- 서울시 내국인 인구가 어떻게 변하는지 확인해 봅니다."
   ]
  },
  {
   "cell_type": "code",
   "execution_count": null,
   "metadata": {
    "scrolled": false
   },
   "outputs": [],
   "source": [
    "# 서울 내국인 인구수 변화\n",
    "seoul.plot(kind='line', x='year', y=['k_male', 'k_female'])\n",
    "plt.xticks(range(2000, 2019, 2))\n",
    "plt.show()"
   ]
  },
  {
   "cell_type": "markdown",
   "metadata": {},
   "source": [
    "**3) 서울 외국인 인구 증감**\n",
    "\n",
    "- 서울시 외국인 인구가 어떻게 변하는지 확인해 봅니다."
   ]
  },
  {
   "cell_type": "code",
   "execution_count": null,
   "metadata": {
    "scrolled": false
   },
   "outputs": [],
   "source": [
    "# 서울 외국인 인구수 변화\n",
    "seoul.plot(kind='line', x='year', y=['f_male', 'f_female'])\n",
    "plt.xticks(range(2000, 2019, 2))\n",
    "plt.show()"
   ]
  },
  {
   "cell_type": "markdown",
   "metadata": {},
   "source": [
    "## 6. 의미 찾기"
   ]
  },
  {
   "cell_type": "markdown",
   "metadata": {},
   "source": [
    "- 데이터 분석을 제대로 하려면 제대로된 데이터가 있어야 합니다.\n",
    "- 다양한 전처리 방법을 사용해 분석이 용이한 형태로 데이터를 변경해야 합니다.\n",
    "- 기존 데이터를 활용해 새로운 데이터를 만들 수 있어야 합니다.\n",
    "- 필요한 데이터가 서로 다른 파일로 나뉘어 있을 때 모두 읽어와 조인해야 합니다."
   ]
  },
  {
   "cell_type": "markdown",
   "metadata": {
    "colab_type": "text",
    "id": "KqOHu2W4C_0R"
   },
   "source": [
    "## <center>수고하셨습니다.</center>\n",
    "<center><img src='https://raw.githubusercontent.com/Jangrae/img/master/end.png' width=200/></center>"
   ]
  }
 ],
 "metadata": {
  "colab": {
   "authorship_tag": "ABX9TyM2dmgOZBHG3DQaoi7IOs84",
   "collapsed_sections": [],
   "name": "01 Matplotlib.ipynb",
   "provenance": []
  },
  "kernelspec": {
   "display_name": "Python 3",
   "language": "python",
   "name": "python3"
  },
  "language_info": {
   "codemirror_mode": {
    "name": "ipython",
    "version": 3
   },
   "file_extension": ".py",
   "mimetype": "text/x-python",
   "name": "python",
   "nbconvert_exporter": "python",
   "pygments_lexer": "ipython3",
   "version": "3.7.6"
  }
 },
 "nbformat": 4,
 "nbformat_minor": 1
}
