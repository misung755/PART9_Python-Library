{
 "cells": [
  {
   "cell_type": "markdown",
   "metadata": {
    "colab_type": "text",
    "id": "E-qoYWgOC_yk"
   },
   "source": [
    "<center><img src='https://raw.githubusercontent.com/Jangrae/img/master/title.png' width=500/></center>"
   ]
  },
  {
   "cell_type": "markdown",
   "metadata": {
    "colab_type": "text",
    "id": "BFhIXgdYoYGp"
   },
   "source": [
    "<center><img src='https://raw.githubusercontent.com/Jangrae/img/master/practice.png' width=300/></center>"
   ]
  },
  {
   "cell_type": "markdown",
   "metadata": {
    "colab_type": "text",
    "id": "Nkw-jfYoFBTc"
   },
   "source": [
    "# CP5. [실습] 데이터 전처리와 시각화: 주가분석\n",
    "- 본 실습은 간단한 데이터 시각화 방법을 직접 체험하기 위한 것입니다.\n",
    "- 차트를 화려하게 꾸미는데 목적을 두지 말고 전처리 부분에 중점을 두는 것이 좋습니다.\n",
    "- 우선 다음과 같은 과정으로 데이터 시각화를 수행함으로 알고 진행하기 바랍니다."
   ]
  },
  {
   "cell_type": "markdown",
   "metadata": {
    "colab_type": "text",
    "id": "iNnu1M6ilOpF"
   },
   "source": [
    "<img src='https://raw.githubusercontent.com/Jangrae/img/master/visualization.png' width=\"650\" align=\"left\">"
   ]
  },
  {
   "cell_type": "code",
   "execution_count": 1,
   "metadata": {
    "colab": {},
    "colab_type": "code",
    "id": "UoGi0wbYFFvO"
   },
   "outputs": [],
   "source": [
    "# 라이브러리 불러오기\n",
    "import numpy as np\n",
    "import pandas as pd\n",
    "import matplotlib.pyplot as plt\n",
    "import matplotlib.image as mpimg\n",
    "\n",
    "%matplotlib inline   \n",
    "%config InlineBackend.figure_format = 'retina'"
   ]
  },
  {
   "cell_type": "markdown",
   "metadata": {
    "colab_type": "text",
    "id": "DDcw8LeflOpJ"
   },
   "source": [
    "## 1. 데이터 불러오기\n",
    "\n",
    "- read_csv() 함수를 사용해 분석할 데이터를 csv 파일에서 불러옵니다.\n",
    "- stock 데이터 셋은 2000 ~ 2019년 해외 A기업 주식정보입니다.\n",
    "- 데이터프레임 이름은 **stock**으로 합니다.\n",
    "- 날짜 정보를 손쉽게 처리하기 위해 **pd.to_datetime()** 함수를 사용해 **Date** 열은 **datetime** 형식으로 변경합니다.\n",
    "- 파일 경로: 'https://raw.githubusercontent.com/Jangrae/csv/master/stock.csv'"
   ]
  },
  {
   "cell_type": "code",
   "execution_count": 8,
   "metadata": {
    "colab": {},
    "colab_type": "code",
    "id": "c_wVUFL_lOpJ"
   },
   "outputs": [],
   "source": [
    "# stock\n",
    "file_path = 'https://raw.githubusercontent.com/Jangrae/csv/master/stock.csv'\n",
    "stock = pd.read_csv(file_path)\n",
    "\n",
    "# datetime 형으로 변경\n",
    "stock.Date = pd.to_datetime(stock.Date)"
   ]
  },
  {
   "cell_type": "markdown",
   "metadata": {
    "colab_type": "text",
    "id": "5aUrg3o8lOpM"
   },
   "source": [
    "## 2. 데이터 확인\n",
    "\n",
    "- 데이터를 알아야 데이터를 분석할 수 있습니다.\n",
    "- 우선 분석할 데이터가 어떤 형태의 데이터인지 확인합니다."
   ]
  },
  {
   "cell_type": "markdown",
   "metadata": {
    "colab_type": "text",
    "id": "Uy-UxLijlOpN"
   },
   "source": [
    "**1) 상위/하위 데이터 확인**\n",
    "\n",
    "- **head()**, **tail()** 메소드로 상/하위 데이터를 확인합니다."
   ]
  },
  {
   "cell_type": "code",
   "execution_count": 3,
   "metadata": {
    "colab": {},
    "colab_type": "code",
    "id": "5GFfHGjOlOpN",
    "scrolled": true
   },
   "outputs": [
    {
     "data": {
      "text/html": [
       "<div>\n",
       "<style scoped>\n",
       "    .dataframe tbody tr th:only-of-type {\n",
       "        vertical-align: middle;\n",
       "    }\n",
       "\n",
       "    .dataframe tbody tr th {\n",
       "        vertical-align: top;\n",
       "    }\n",
       "\n",
       "    .dataframe thead th {\n",
       "        text-align: right;\n",
       "    }\n",
       "</style>\n",
       "<table border=\"1\" class=\"dataframe\">\n",
       "  <thead>\n",
       "    <tr style=\"text-align: right;\">\n",
       "      <th></th>\n",
       "      <th>Date</th>\n",
       "      <th>High</th>\n",
       "      <th>Low</th>\n",
       "      <th>Open</th>\n",
       "      <th>Close</th>\n",
       "      <th>Volume</th>\n",
       "      <th>Adj Close</th>\n",
       "    </tr>\n",
       "  </thead>\n",
       "  <tbody>\n",
       "    <tr>\n",
       "      <th>0</th>\n",
       "      <td>2000-01-03</td>\n",
       "      <td>4.017857</td>\n",
       "      <td>3.631696</td>\n",
       "      <td>3.745536</td>\n",
       "      <td>3.997768</td>\n",
       "      <td>133949200</td>\n",
       "      <td>3.470226</td>\n",
       "    </tr>\n",
       "    <tr>\n",
       "      <th>1</th>\n",
       "      <td>2000-01-04</td>\n",
       "      <td>3.950893</td>\n",
       "      <td>3.613839</td>\n",
       "      <td>3.866071</td>\n",
       "      <td>3.660714</td>\n",
       "      <td>128094400</td>\n",
       "      <td>3.177650</td>\n",
       "    </tr>\n",
       "    <tr>\n",
       "      <th>2</th>\n",
       "      <td>2000-01-05</td>\n",
       "      <td>3.948661</td>\n",
       "      <td>3.678571</td>\n",
       "      <td>3.705357</td>\n",
       "      <td>3.714286</td>\n",
       "      <td>194580400</td>\n",
       "      <td>3.224152</td>\n",
       "    </tr>\n",
       "    <tr>\n",
       "      <th>3</th>\n",
       "      <td>2000-01-06</td>\n",
       "      <td>3.821429</td>\n",
       "      <td>3.392857</td>\n",
       "      <td>3.790179</td>\n",
       "      <td>3.392857</td>\n",
       "      <td>191993200</td>\n",
       "      <td>2.945139</td>\n",
       "    </tr>\n",
       "    <tr>\n",
       "      <th>4</th>\n",
       "      <td>2000-01-07</td>\n",
       "      <td>3.607143</td>\n",
       "      <td>3.410714</td>\n",
       "      <td>3.446429</td>\n",
       "      <td>3.553571</td>\n",
       "      <td>115183600</td>\n",
       "      <td>3.084645</td>\n",
       "    </tr>\n",
       "  </tbody>\n",
       "</table>\n",
       "</div>"
      ],
      "text/plain": [
       "        Date      High       Low      Open     Close     Volume  Adj Close\n",
       "0 2000-01-03  4.017857  3.631696  3.745536  3.997768  133949200   3.470226\n",
       "1 2000-01-04  3.950893  3.613839  3.866071  3.660714  128094400   3.177650\n",
       "2 2000-01-05  3.948661  3.678571  3.705357  3.714286  194580400   3.224152\n",
       "3 2000-01-06  3.821429  3.392857  3.790179  3.392857  191993200   2.945139\n",
       "4 2000-01-07  3.607143  3.410714  3.446429  3.553571  115183600   3.084645"
      ]
     },
     "execution_count": 3,
     "metadata": {},
     "output_type": "execute_result"
    }
   ],
   "source": [
    "# 상위 5개 행 확인\n",
    "stock.head()"
   ]
  },
  {
   "cell_type": "code",
   "execution_count": 4,
   "metadata": {
    "colab": {},
    "colab_type": "code",
    "id": "KlN7h_krlOpQ",
    "scrolled": true
   },
   "outputs": [
    {
     "data": {
      "text/html": [
       "<div>\n",
       "<style scoped>\n",
       "    .dataframe tbody tr th:only-of-type {\n",
       "        vertical-align: middle;\n",
       "    }\n",
       "\n",
       "    .dataframe tbody tr th {\n",
       "        vertical-align: top;\n",
       "    }\n",
       "\n",
       "    .dataframe thead th {\n",
       "        text-align: right;\n",
       "    }\n",
       "</style>\n",
       "<table border=\"1\" class=\"dataframe\">\n",
       "  <thead>\n",
       "    <tr style=\"text-align: right;\">\n",
       "      <th></th>\n",
       "      <th>Date</th>\n",
       "      <th>High</th>\n",
       "      <th>Low</th>\n",
       "      <th>Open</th>\n",
       "      <th>Close</th>\n",
       "      <th>Volume</th>\n",
       "      <th>Adj Close</th>\n",
       "    </tr>\n",
       "  </thead>\n",
       "  <tbody>\n",
       "    <tr>\n",
       "      <th>5026</th>\n",
       "      <td>2019-12-24</td>\n",
       "      <td>284.890015</td>\n",
       "      <td>282.920013</td>\n",
       "      <td>284.690002</td>\n",
       "      <td>284.269989</td>\n",
       "      <td>12119700</td>\n",
       "      <td>283.596924</td>\n",
       "    </tr>\n",
       "    <tr>\n",
       "      <th>5027</th>\n",
       "      <td>2019-12-26</td>\n",
       "      <td>289.980011</td>\n",
       "      <td>284.700012</td>\n",
       "      <td>284.820007</td>\n",
       "      <td>289.910004</td>\n",
       "      <td>23280300</td>\n",
       "      <td>289.223602</td>\n",
       "    </tr>\n",
       "    <tr>\n",
       "      <th>5028</th>\n",
       "      <td>2019-12-27</td>\n",
       "      <td>293.970001</td>\n",
       "      <td>288.119995</td>\n",
       "      <td>291.119995</td>\n",
       "      <td>289.799988</td>\n",
       "      <td>36566500</td>\n",
       "      <td>289.113831</td>\n",
       "    </tr>\n",
       "    <tr>\n",
       "      <th>5029</th>\n",
       "      <td>2019-12-30</td>\n",
       "      <td>292.690002</td>\n",
       "      <td>285.220001</td>\n",
       "      <td>289.459992</td>\n",
       "      <td>291.519989</td>\n",
       "      <td>36028600</td>\n",
       "      <td>290.829773</td>\n",
       "    </tr>\n",
       "    <tr>\n",
       "      <th>5030</th>\n",
       "      <td>2019-12-31</td>\n",
       "      <td>293.679993</td>\n",
       "      <td>289.519989</td>\n",
       "      <td>289.929993</td>\n",
       "      <td>293.649994</td>\n",
       "      <td>25201400</td>\n",
       "      <td>292.954712</td>\n",
       "    </tr>\n",
       "  </tbody>\n",
       "</table>\n",
       "</div>"
      ],
      "text/plain": [
       "           Date        High         Low        Open       Close    Volume  \\\n",
       "5026 2019-12-24  284.890015  282.920013  284.690002  284.269989  12119700   \n",
       "5027 2019-12-26  289.980011  284.700012  284.820007  289.910004  23280300   \n",
       "5028 2019-12-27  293.970001  288.119995  291.119995  289.799988  36566500   \n",
       "5029 2019-12-30  292.690002  285.220001  289.459992  291.519989  36028600   \n",
       "5030 2019-12-31  293.679993  289.519989  289.929993  293.649994  25201400   \n",
       "\n",
       "       Adj Close  \n",
       "5026  283.596924  \n",
       "5027  289.223602  \n",
       "5028  289.113831  \n",
       "5029  290.829773  \n",
       "5030  292.954712  "
      ]
     },
     "execution_count": 4,
     "metadata": {},
     "output_type": "execute_result"
    }
   ],
   "source": [
    "# 하위 5개 행 확인\n",
    "stock.tail()"
   ]
  },
  {
   "cell_type": "markdown",
   "metadata": {
    "colab_type": "text",
    "id": "2JvXoWaHlOpS"
   },
   "source": [
    "**2) 열 데이터 개수, NaN 값 여부 확인**\n",
    "\n",
    "- **info()** 메소드로 각 열의 값 개수, **NaN**값 포함 여부를 확인합니다.\n",
    "- NaN값이 포함되어 있으면 결측치에 대한 해결(제거 또는 변경)이 필요합니다."
   ]
  },
  {
   "cell_type": "code",
   "execution_count": 5,
   "metadata": {
    "colab": {},
    "colab_type": "code",
    "id": "tg7MNNN2lOpS",
    "scrolled": true
   },
   "outputs": [
    {
     "name": "stdout",
     "output_type": "stream",
     "text": [
      "<class 'pandas.core.frame.DataFrame'>\n",
      "RangeIndex: 5031 entries, 0 to 5030\n",
      "Data columns (total 7 columns):\n",
      " #   Column     Non-Null Count  Dtype         \n",
      "---  ------     --------------  -----         \n",
      " 0   Date       5031 non-null   datetime64[ns]\n",
      " 1   High       5031 non-null   float64       \n",
      " 2   Low        5031 non-null   float64       \n",
      " 3   Open       5031 non-null   float64       \n",
      " 4   Close      5031 non-null   float64       \n",
      " 5   Volume     5031 non-null   int64         \n",
      " 6   Adj Close  5031 non-null   float64       \n",
      "dtypes: datetime64[ns](1), float64(5), int64(1)\n",
      "memory usage: 275.3 KB\n"
     ]
    }
   ],
   "source": [
    "# 열 정보, NaN 값 포함 여부 확인\n",
    "stock.info()"
   ]
  },
  {
   "cell_type": "markdown",
   "metadata": {
    "colab_type": "text",
    "id": "L-LQSiHPlOpV"
   },
   "source": [
    "**3) 기초 통계 정보 확인**\n",
    "\n",
    "- **describe()** 메소드를 사용해 기초 통계 정보를 확인합니다."
   ]
  },
  {
   "cell_type": "code",
   "execution_count": 6,
   "metadata": {
    "colab": {},
    "colab_type": "code",
    "id": "IEzqtTRAlOpV",
    "scrolled": false
   },
   "outputs": [
    {
     "data": {
      "text/html": [
       "<div>\n",
       "<style scoped>\n",
       "    .dataframe tbody tr th:only-of-type {\n",
       "        vertical-align: middle;\n",
       "    }\n",
       "\n",
       "    .dataframe tbody tr th {\n",
       "        vertical-align: top;\n",
       "    }\n",
       "\n",
       "    .dataframe thead th {\n",
       "        text-align: right;\n",
       "    }\n",
       "</style>\n",
       "<table border=\"1\" class=\"dataframe\">\n",
       "  <thead>\n",
       "    <tr style=\"text-align: right;\">\n",
       "      <th></th>\n",
       "      <th>High</th>\n",
       "      <th>Low</th>\n",
       "      <th>Open</th>\n",
       "      <th>Close</th>\n",
       "      <th>Volume</th>\n",
       "      <th>Adj Close</th>\n",
       "    </tr>\n",
       "  </thead>\n",
       "  <tbody>\n",
       "    <tr>\n",
       "      <th>count</th>\n",
       "      <td>5031.000000</td>\n",
       "      <td>5031.000000</td>\n",
       "      <td>5031.000000</td>\n",
       "      <td>5031.000000</td>\n",
       "      <td>5.031000e+03</td>\n",
       "      <td>5031.000000</td>\n",
       "    </tr>\n",
       "    <tr>\n",
       "      <th>mean</th>\n",
       "      <td>60.052092</td>\n",
       "      <td>58.916362</td>\n",
       "      <td>59.493094</td>\n",
       "      <td>59.503741</td>\n",
       "      <td>1.149430e+08</td>\n",
       "      <td>55.667863</td>\n",
       "    </tr>\n",
       "    <tr>\n",
       "      <th>std</th>\n",
       "      <td>65.302285</td>\n",
       "      <td>64.235383</td>\n",
       "      <td>64.752822</td>\n",
       "      <td>64.800571</td>\n",
       "      <td>9.877368e+07</td>\n",
       "      <td>63.229538</td>\n",
       "    </tr>\n",
       "    <tr>\n",
       "      <th>min</th>\n",
       "      <td>0.942143</td>\n",
       "      <td>0.908571</td>\n",
       "      <td>0.927857</td>\n",
       "      <td>0.937143</td>\n",
       "      <td>9.835000e+06</td>\n",
       "      <td>0.813478</td>\n",
       "    </tr>\n",
       "    <tr>\n",
       "      <th>25%</th>\n",
       "      <td>5.007500</td>\n",
       "      <td>4.784431</td>\n",
       "      <td>4.907679</td>\n",
       "      <td>4.907143</td>\n",
       "      <td>4.724460e+07</td>\n",
       "      <td>4.259600</td>\n",
       "    </tr>\n",
       "    <tr>\n",
       "      <th>50%</th>\n",
       "      <td>29.242857</td>\n",
       "      <td>28.585714</td>\n",
       "      <td>28.911428</td>\n",
       "      <td>28.925714</td>\n",
       "      <td>8.732500e+07</td>\n",
       "      <td>25.108700</td>\n",
       "    </tr>\n",
       "    <tr>\n",
       "      <th>75%</th>\n",
       "      <td>100.276428</td>\n",
       "      <td>98.385002</td>\n",
       "      <td>99.165001</td>\n",
       "      <td>99.480000</td>\n",
       "      <td>1.516658e+08</td>\n",
       "      <td>91.943821</td>\n",
       "    </tr>\n",
       "    <tr>\n",
       "      <th>max</th>\n",
       "      <td>293.970001</td>\n",
       "      <td>289.519989</td>\n",
       "      <td>291.119995</td>\n",
       "      <td>293.649994</td>\n",
       "      <td>1.855410e+09</td>\n",
       "      <td>292.954712</td>\n",
       "    </tr>\n",
       "  </tbody>\n",
       "</table>\n",
       "</div>"
      ],
      "text/plain": [
       "              High          Low         Open        Close        Volume  \\\n",
       "count  5031.000000  5031.000000  5031.000000  5031.000000  5.031000e+03   \n",
       "mean     60.052092    58.916362    59.493094    59.503741  1.149430e+08   \n",
       "std      65.302285    64.235383    64.752822    64.800571  9.877368e+07   \n",
       "min       0.942143     0.908571     0.927857     0.937143  9.835000e+06   \n",
       "25%       5.007500     4.784431     4.907679     4.907143  4.724460e+07   \n",
       "50%      29.242857    28.585714    28.911428    28.925714  8.732500e+07   \n",
       "75%     100.276428    98.385002    99.165001    99.480000  1.516658e+08   \n",
       "max     293.970001   289.519989   291.119995   293.649994  1.855410e+09   \n",
       "\n",
       "         Adj Close  \n",
       "count  5031.000000  \n",
       "mean     55.667863  \n",
       "std      63.229538  \n",
       "min       0.813478  \n",
       "25%       4.259600  \n",
       "50%      25.108700  \n",
       "75%      91.943821  \n",
       "max     292.954712  "
      ]
     },
     "execution_count": 6,
     "metadata": {},
     "output_type": "execute_result"
    }
   ],
   "source": [
    "# 기초 통계 정보 확인\n",
    "stock.describe()"
   ]
  },
  {
   "cell_type": "markdown",
   "metadata": {
    "colab_type": "text",
    "id": "8W9pDfntlOpY"
   },
   "source": [
    "**4) 질문**\n",
    "\n",
    "- stock 데이터가 분석하기에 적절한 형태인가요?\n",
    "- stock 데이터에 대해 어떤 분석이 의미가 있을까요?\n",
    "- 분석에 걸림돌이 될 만한 것은 무엇일까요?\n",
    "- 분석을 위해 우선 어떤 처리를 해야 할까요?"
   ]
  },
  {
   "cell_type": "markdown",
   "metadata": {
    "colab_type": "text",
    "id": "ATbffYlRlOpY"
   },
   "source": [
    "## 3. 데이터 전처리\n",
    "\n",
    "- NaN 값이 포함된 열이 있으면 제거하거나 다른 값으로 채워야 합니다.\n",
    "- 중복된 데이터는 정확한 분석을 방해하므로 제거해야 합니다.\n",
    "- 기타 데이터에 방해가 되는 요소를 전처리 과정에서 제거합니다."
   ]
  },
  {
   "cell_type": "markdown",
   "metadata": {
    "colab_type": "text",
    "id": "GZeryrINlOpZ"
   },
   "source": [
    "**1) 불필요한 열 제거**\n",
    "\n",
    "- 분석에 불필요한 열은 과감히 제거합니다.\n",
    "- 본 예제에서는 Volume, Adj Close 열을 의미 없다고 간주하고 제거합니다."
   ]
  },
  {
   "cell_type": "code",
   "execution_count": 9,
   "metadata": {
    "colab": {
     "base_uri": "https://localhost:8080/",
     "height": 201
    },
    "colab_type": "code",
    "executionInfo": {
     "elapsed": 2957,
     "status": "ok",
     "timestamp": 1588915709776,
     "user": {
      "displayName": "이장래",
      "photoUrl": "https://lh3.googleusercontent.com/a-/AOh14GiAr2j2I1wKToLVmH4sVTSNBanYH4IL0jaxOtYU=s64",
      "userId": "01217686459280251442"
     },
     "user_tz": -540
    },
    "id": "KenT85XKlOpZ",
    "outputId": "55c7e80d-602f-40db-9205-76fcb9625cfd",
    "scrolled": true
   },
   "outputs": [
    {
     "data": {
      "text/html": [
       "<div>\n",
       "<style scoped>\n",
       "    .dataframe tbody tr th:only-of-type {\n",
       "        vertical-align: middle;\n",
       "    }\n",
       "\n",
       "    .dataframe tbody tr th {\n",
       "        vertical-align: top;\n",
       "    }\n",
       "\n",
       "    .dataframe thead th {\n",
       "        text-align: right;\n",
       "    }\n",
       "</style>\n",
       "<table border=\"1\" class=\"dataframe\">\n",
       "  <thead>\n",
       "    <tr style=\"text-align: right;\">\n",
       "      <th></th>\n",
       "      <th>Date</th>\n",
       "      <th>High</th>\n",
       "      <th>Low</th>\n",
       "      <th>Open</th>\n",
       "      <th>Close</th>\n",
       "    </tr>\n",
       "  </thead>\n",
       "  <tbody>\n",
       "    <tr>\n",
       "      <th>0</th>\n",
       "      <td>2000-01-03</td>\n",
       "      <td>4.017857</td>\n",
       "      <td>3.631696</td>\n",
       "      <td>3.745536</td>\n",
       "      <td>3.997768</td>\n",
       "    </tr>\n",
       "    <tr>\n",
       "      <th>1</th>\n",
       "      <td>2000-01-04</td>\n",
       "      <td>3.950893</td>\n",
       "      <td>3.613839</td>\n",
       "      <td>3.866071</td>\n",
       "      <td>3.660714</td>\n",
       "    </tr>\n",
       "    <tr>\n",
       "      <th>2</th>\n",
       "      <td>2000-01-05</td>\n",
       "      <td>3.948661</td>\n",
       "      <td>3.678571</td>\n",
       "      <td>3.705357</td>\n",
       "      <td>3.714286</td>\n",
       "    </tr>\n",
       "    <tr>\n",
       "      <th>3</th>\n",
       "      <td>2000-01-06</td>\n",
       "      <td>3.821429</td>\n",
       "      <td>3.392857</td>\n",
       "      <td>3.790179</td>\n",
       "      <td>3.392857</td>\n",
       "    </tr>\n",
       "    <tr>\n",
       "      <th>4</th>\n",
       "      <td>2000-01-07</td>\n",
       "      <td>3.607143</td>\n",
       "      <td>3.410714</td>\n",
       "      <td>3.446429</td>\n",
       "      <td>3.553571</td>\n",
       "    </tr>\n",
       "  </tbody>\n",
       "</table>\n",
       "</div>"
      ],
      "text/plain": [
       "        Date      High       Low      Open     Close\n",
       "0 2000-01-03  4.017857  3.631696  3.745536  3.997768\n",
       "1 2000-01-04  3.950893  3.613839  3.866071  3.660714\n",
       "2 2000-01-05  3.948661  3.678571  3.705357  3.714286\n",
       "3 2000-01-06  3.821429  3.392857  3.790179  3.392857\n",
       "4 2000-01-07  3.607143  3.410714  3.446429  3.553571"
      ]
     },
     "execution_count": 9,
     "metadata": {},
     "output_type": "execute_result"
    }
   ],
   "source": [
    "# Volume, Adj Close 열 제거\n",
    "stock.drop(['Volume','Adj Close'], axis=1, inplace=True)\n",
    "\n",
    "# 확인\n",
    "stock.head()"
   ]
  },
  {
   "cell_type": "markdown",
   "metadata": {
    "colab_type": "text",
    "id": "QeDgxLYQlOpb"
   },
   "source": [
    "**2) 열 이름 변경**\n",
    "\n",
    "- 이후 분석을 위해 열 이름을 쉽게 이해햘 수 있는 이름으로 변경합니다.\n",
    "- 대소문자를 구분하므로 대문자인지 소문자인지 고민하지 않기 위해 소문자만 사용하는 것이 좋습니다.\n",
    "- 열 이름 변경은 일반적으로 **rename()** 메소드를 사용합니다.\n",
    "- 하지만 많은 열, 특히 모든 열 이름을 바꿀 때는 **columns** 속성을 바꾸는 게 더 쉽습니다."
   ]
  },
  {
   "cell_type": "code",
   "execution_count": 10,
   "metadata": {
    "colab": {
     "base_uri": "https://localhost:8080/",
     "height": 201
    },
    "colab_type": "code",
    "executionInfo": {
     "elapsed": 1304,
     "status": "ok",
     "timestamp": 1588915711182,
     "user": {
      "displayName": "이장래",
      "photoUrl": "https://lh3.googleusercontent.com/a-/AOh14GiAr2j2I1wKToLVmH4sVTSNBanYH4IL0jaxOtYU=s64",
      "userId": "01217686459280251442"
     },
     "user_tz": -540
    },
    "id": "7t7WyJkrlOpb",
    "outputId": "cabf7bd4-f552-4a8a-ca13-7e7d9cce0f66",
    "scrolled": true
   },
   "outputs": [
    {
     "data": {
      "text/html": [
       "<div>\n",
       "<style scoped>\n",
       "    .dataframe tbody tr th:only-of-type {\n",
       "        vertical-align: middle;\n",
       "    }\n",
       "\n",
       "    .dataframe tbody tr th {\n",
       "        vertical-align: top;\n",
       "    }\n",
       "\n",
       "    .dataframe thead th {\n",
       "        text-align: right;\n",
       "    }\n",
       "</style>\n",
       "<table border=\"1\" class=\"dataframe\">\n",
       "  <thead>\n",
       "    <tr style=\"text-align: right;\">\n",
       "      <th></th>\n",
       "      <th>date</th>\n",
       "      <th>high</th>\n",
       "      <th>low</th>\n",
       "      <th>open</th>\n",
       "      <th>close</th>\n",
       "    </tr>\n",
       "  </thead>\n",
       "  <tbody>\n",
       "    <tr>\n",
       "      <th>0</th>\n",
       "      <td>2000-01-03</td>\n",
       "      <td>4.017857</td>\n",
       "      <td>3.631696</td>\n",
       "      <td>3.745536</td>\n",
       "      <td>3.997768</td>\n",
       "    </tr>\n",
       "    <tr>\n",
       "      <th>1</th>\n",
       "      <td>2000-01-04</td>\n",
       "      <td>3.950893</td>\n",
       "      <td>3.613839</td>\n",
       "      <td>3.866071</td>\n",
       "      <td>3.660714</td>\n",
       "    </tr>\n",
       "    <tr>\n",
       "      <th>2</th>\n",
       "      <td>2000-01-05</td>\n",
       "      <td>3.948661</td>\n",
       "      <td>3.678571</td>\n",
       "      <td>3.705357</td>\n",
       "      <td>3.714286</td>\n",
       "    </tr>\n",
       "    <tr>\n",
       "      <th>3</th>\n",
       "      <td>2000-01-06</td>\n",
       "      <td>3.821429</td>\n",
       "      <td>3.392857</td>\n",
       "      <td>3.790179</td>\n",
       "      <td>3.392857</td>\n",
       "    </tr>\n",
       "    <tr>\n",
       "      <th>4</th>\n",
       "      <td>2000-01-07</td>\n",
       "      <td>3.607143</td>\n",
       "      <td>3.410714</td>\n",
       "      <td>3.446429</td>\n",
       "      <td>3.553571</td>\n",
       "    </tr>\n",
       "  </tbody>\n",
       "</table>\n",
       "</div>"
      ],
      "text/plain": [
       "        date      high       low      open     close\n",
       "0 2000-01-03  4.017857  3.631696  3.745536  3.997768\n",
       "1 2000-01-04  3.950893  3.613839  3.866071  3.660714\n",
       "2 2000-01-05  3.948661  3.678571  3.705357  3.714286\n",
       "3 2000-01-06  3.821429  3.392857  3.790179  3.392857\n",
       "4 2000-01-07  3.607143  3.410714  3.446429  3.553571"
      ]
     },
     "execution_count": 10,
     "metadata": {},
     "output_type": "execute_result"
    }
   ],
   "source": [
    "# 열 이름 변경\n",
    "stock.columns = ['date', 'high', 'low', 'open', 'close'] \n",
    "\n",
    "# 확인\n",
    "stock.head()"
   ]
  },
  {
   "cell_type": "markdown",
   "metadata": {
    "colab_type": "text",
    "id": "A5hnuenTlOpd"
   },
   "source": [
    "**3) 대상 데이터 줄이기**\n",
    "\n",
    "- 전체 데이터가 분석 대상이 아니라면 필요한 데이터만 별도로 추출합니다.\n",
    "- 2000 ~ 2019년 데이터 중에서 **2015 ~ 2019** 데이터만 사용하기로 합니다.\n",
    "- stock 데이터프레임은 그대로 두고 **stock1519** 데이터프레임을 만들도록 합니다.\n",
    "- 일부 데이터만 추출해 새로운 데이터프레임으로 복사할 떄는 **.copy()**를 맨 뒤에 붙입니다."
   ]
  },
  {
   "cell_type": "code",
   "execution_count": 11,
   "metadata": {
    "colab": {},
    "colab_type": "code",
    "id": "TlGtLpnylOpe"
   },
   "outputs": [],
   "source": [
    "# 2015~2019 데이터 추출\n",
    "stock1519 = stock[stock['date'].between('2015-01-01','2019-12-31')].copy()"
   ]
  },
  {
   "cell_type": "code",
   "execution_count": 12,
   "metadata": {
    "colab": {
     "base_uri": "https://localhost:8080/",
     "height": 414
    },
    "colab_type": "code",
    "executionInfo": {
     "elapsed": 889,
     "status": "ok",
     "timestamp": 1588915741912,
     "user": {
      "displayName": "이장래",
      "photoUrl": "https://lh3.googleusercontent.com/a-/AOh14GiAr2j2I1wKToLVmH4sVTSNBanYH4IL0jaxOtYU=s64",
      "userId": "01217686459280251442"
     },
     "user_tz": -540
    },
    "id": "kzzBWfe_wgzX",
    "outputId": "2b85bcac-c3c7-460f-dce0-642e8ac3e50f"
   },
   "outputs": [
    {
     "data": {
      "text/html": [
       "<div>\n",
       "<style scoped>\n",
       "    .dataframe tbody tr th:only-of-type {\n",
       "        vertical-align: middle;\n",
       "    }\n",
       "\n",
       "    .dataframe tbody tr th {\n",
       "        vertical-align: top;\n",
       "    }\n",
       "\n",
       "    .dataframe thead th {\n",
       "        text-align: right;\n",
       "    }\n",
       "</style>\n",
       "<table border=\"1\" class=\"dataframe\">\n",
       "  <thead>\n",
       "    <tr style=\"text-align: right;\">\n",
       "      <th></th>\n",
       "      <th>date</th>\n",
       "      <th>high</th>\n",
       "      <th>low</th>\n",
       "      <th>open</th>\n",
       "      <th>close</th>\n",
       "    </tr>\n",
       "  </thead>\n",
       "  <tbody>\n",
       "    <tr>\n",
       "      <th>3773</th>\n",
       "      <td>2015-01-02</td>\n",
       "      <td>111.440002</td>\n",
       "      <td>107.349999</td>\n",
       "      <td>111.389999</td>\n",
       "      <td>109.330002</td>\n",
       "    </tr>\n",
       "    <tr>\n",
       "      <th>3774</th>\n",
       "      <td>2015-01-05</td>\n",
       "      <td>108.650001</td>\n",
       "      <td>105.410004</td>\n",
       "      <td>108.290001</td>\n",
       "      <td>106.250000</td>\n",
       "    </tr>\n",
       "    <tr>\n",
       "      <th>3775</th>\n",
       "      <td>2015-01-06</td>\n",
       "      <td>107.430000</td>\n",
       "      <td>104.629997</td>\n",
       "      <td>106.540001</td>\n",
       "      <td>106.260002</td>\n",
       "    </tr>\n",
       "    <tr>\n",
       "      <th>3776</th>\n",
       "      <td>2015-01-07</td>\n",
       "      <td>108.199997</td>\n",
       "      <td>106.699997</td>\n",
       "      <td>107.199997</td>\n",
       "      <td>107.750000</td>\n",
       "    </tr>\n",
       "    <tr>\n",
       "      <th>3777</th>\n",
       "      <td>2015-01-08</td>\n",
       "      <td>112.150001</td>\n",
       "      <td>108.699997</td>\n",
       "      <td>109.230003</td>\n",
       "      <td>111.889999</td>\n",
       "    </tr>\n",
       "    <tr>\n",
       "      <th>...</th>\n",
       "      <td>...</td>\n",
       "      <td>...</td>\n",
       "      <td>...</td>\n",
       "      <td>...</td>\n",
       "      <td>...</td>\n",
       "    </tr>\n",
       "    <tr>\n",
       "      <th>5026</th>\n",
       "      <td>2019-12-24</td>\n",
       "      <td>284.890015</td>\n",
       "      <td>282.920013</td>\n",
       "      <td>284.690002</td>\n",
       "      <td>284.269989</td>\n",
       "    </tr>\n",
       "    <tr>\n",
       "      <th>5027</th>\n",
       "      <td>2019-12-26</td>\n",
       "      <td>289.980011</td>\n",
       "      <td>284.700012</td>\n",
       "      <td>284.820007</td>\n",
       "      <td>289.910004</td>\n",
       "    </tr>\n",
       "    <tr>\n",
       "      <th>5028</th>\n",
       "      <td>2019-12-27</td>\n",
       "      <td>293.970001</td>\n",
       "      <td>288.119995</td>\n",
       "      <td>291.119995</td>\n",
       "      <td>289.799988</td>\n",
       "    </tr>\n",
       "    <tr>\n",
       "      <th>5029</th>\n",
       "      <td>2019-12-30</td>\n",
       "      <td>292.690002</td>\n",
       "      <td>285.220001</td>\n",
       "      <td>289.459992</td>\n",
       "      <td>291.519989</td>\n",
       "    </tr>\n",
       "    <tr>\n",
       "      <th>5030</th>\n",
       "      <td>2019-12-31</td>\n",
       "      <td>293.679993</td>\n",
       "      <td>289.519989</td>\n",
       "      <td>289.929993</td>\n",
       "      <td>293.649994</td>\n",
       "    </tr>\n",
       "  </tbody>\n",
       "</table>\n",
       "<p>1258 rows × 5 columns</p>\n",
       "</div>"
      ],
      "text/plain": [
       "           date        high         low        open       close\n",
       "3773 2015-01-02  111.440002  107.349999  111.389999  109.330002\n",
       "3774 2015-01-05  108.650001  105.410004  108.290001  106.250000\n",
       "3775 2015-01-06  107.430000  104.629997  106.540001  106.260002\n",
       "3776 2015-01-07  108.199997  106.699997  107.199997  107.750000\n",
       "3777 2015-01-08  112.150001  108.699997  109.230003  111.889999\n",
       "...         ...         ...         ...         ...         ...\n",
       "5026 2019-12-24  284.890015  282.920013  284.690002  284.269989\n",
       "5027 2019-12-26  289.980011  284.700012  284.820007  289.910004\n",
       "5028 2019-12-27  293.970001  288.119995  291.119995  289.799988\n",
       "5029 2019-12-30  292.690002  285.220001  289.459992  291.519989\n",
       "5030 2019-12-31  293.679993  289.519989  289.929993  293.649994\n",
       "\n",
       "[1258 rows x 5 columns]"
      ]
     },
     "execution_count": 12,
     "metadata": {},
     "output_type": "execute_result"
    }
   ],
   "source": [
    "# 확인\n",
    "stock1519"
   ]
  },
  {
   "cell_type": "markdown",
   "metadata": {
    "colab_type": "text",
    "id": "xs-iHOLnlOpg"
   },
   "source": [
    "- 결과 확인을 위해 최소 날짜와 최대 날짜를 조회합니다."
   ]
  },
  {
   "cell_type": "code",
   "execution_count": 13,
   "metadata": {
    "colab": {
     "base_uri": "https://localhost:8080/",
     "height": 35
    },
    "colab_type": "code",
    "executionInfo": {
     "elapsed": 1493,
     "status": "ok",
     "timestamp": 1588915717507,
     "user": {
      "displayName": "이장래",
      "photoUrl": "https://lh3.googleusercontent.com/a-/AOh14GiAr2j2I1wKToLVmH4sVTSNBanYH4IL0jaxOtYU=s64",
      "userId": "01217686459280251442"
     },
     "user_tz": -540
    },
    "id": "gvbTtaetlOpg",
    "outputId": "09a3a343-e5d1-419f-a149-c96edb257cca"
   },
   "outputs": [
    {
     "name": "stdout",
     "output_type": "stream",
     "text": [
      "2015-01-02 00:00:00 2019-12-31 00:00:00\n"
     ]
    }
   ],
   "source": [
    "# 날짜 범위 확인\n",
    "print(stock1519['date'].min(), stock1519['date'].max())"
   ]
  },
  {
   "cell_type": "markdown",
   "metadata": {
    "colab_type": "text",
    "id": "Ajy0yW_plOpi"
   },
   "source": [
    "**4) 인덱스 초기화**\n",
    "\n",
    "- 일부 데이터만 가져와서 인덱스 값이 0부터 시작하지 않습니다.\n",
    "- **reset_index()** 메소드를 사용해 인덱스를 초기화 합니다."
   ]
  },
  {
   "cell_type": "code",
   "execution_count": 14,
   "metadata": {
    "colab": {},
    "colab_type": "code",
    "id": "8ITjfkP1lOpi"
   },
   "outputs": [
    {
     "data": {
      "text/html": [
       "<div>\n",
       "<style scoped>\n",
       "    .dataframe tbody tr th:only-of-type {\n",
       "        vertical-align: middle;\n",
       "    }\n",
       "\n",
       "    .dataframe tbody tr th {\n",
       "        vertical-align: top;\n",
       "    }\n",
       "\n",
       "    .dataframe thead th {\n",
       "        text-align: right;\n",
       "    }\n",
       "</style>\n",
       "<table border=\"1\" class=\"dataframe\">\n",
       "  <thead>\n",
       "    <tr style=\"text-align: right;\">\n",
       "      <th></th>\n",
       "      <th>date</th>\n",
       "      <th>high</th>\n",
       "      <th>low</th>\n",
       "      <th>open</th>\n",
       "      <th>close</th>\n",
       "    </tr>\n",
       "  </thead>\n",
       "  <tbody>\n",
       "    <tr>\n",
       "      <th>0</th>\n",
       "      <td>2015-01-02</td>\n",
       "      <td>111.440002</td>\n",
       "      <td>107.349999</td>\n",
       "      <td>111.389999</td>\n",
       "      <td>109.330002</td>\n",
       "    </tr>\n",
       "    <tr>\n",
       "      <th>1</th>\n",
       "      <td>2015-01-05</td>\n",
       "      <td>108.650001</td>\n",
       "      <td>105.410004</td>\n",
       "      <td>108.290001</td>\n",
       "      <td>106.250000</td>\n",
       "    </tr>\n",
       "    <tr>\n",
       "      <th>2</th>\n",
       "      <td>2015-01-06</td>\n",
       "      <td>107.430000</td>\n",
       "      <td>104.629997</td>\n",
       "      <td>106.540001</td>\n",
       "      <td>106.260002</td>\n",
       "    </tr>\n",
       "    <tr>\n",
       "      <th>3</th>\n",
       "      <td>2015-01-07</td>\n",
       "      <td>108.199997</td>\n",
       "      <td>106.699997</td>\n",
       "      <td>107.199997</td>\n",
       "      <td>107.750000</td>\n",
       "    </tr>\n",
       "    <tr>\n",
       "      <th>4</th>\n",
       "      <td>2015-01-08</td>\n",
       "      <td>112.150001</td>\n",
       "      <td>108.699997</td>\n",
       "      <td>109.230003</td>\n",
       "      <td>111.889999</td>\n",
       "    </tr>\n",
       "  </tbody>\n",
       "</table>\n",
       "</div>"
      ],
      "text/plain": [
       "        date        high         low        open       close\n",
       "0 2015-01-02  111.440002  107.349999  111.389999  109.330002\n",
       "1 2015-01-05  108.650001  105.410004  108.290001  106.250000\n",
       "2 2015-01-06  107.430000  104.629997  106.540001  106.260002\n",
       "3 2015-01-07  108.199997  106.699997  107.199997  107.750000\n",
       "4 2015-01-08  112.150001  108.699997  109.230003  111.889999"
      ]
     },
     "execution_count": 14,
     "metadata": {},
     "output_type": "execute_result"
    }
   ],
   "source": [
    "# 인덱스 초기화\n",
    "stock1519.reset_index(drop=True, inplace=True)\n",
    "\n",
    "# 확인\n",
    "stock1519.head()"
   ]
  },
  {
   "cell_type": "markdown",
   "metadata": {
    "colab_type": "text",
    "id": "xk1GmVv3lOpl"
   },
   "source": [
    "## 4. 데이터 추가\n",
    "\n",
    "- 분석에 필요한 데이터가 항상 제공되는 것은 아닙니다.\n",
    "- 분석을 위해 필요한 데이터를 직접 만들어야 하는 경우가 많습니다.\n",
    "- 기존 데이터를 사용해 새로운 데이터를 만들 수 있으면 좋습니다."
   ]
  },
  {
   "cell_type": "markdown",
   "metadata": {
    "colab_type": "text",
    "id": "2h63nTcElOpl"
   },
   "source": [
    "**1) year, month 열 추가**\n",
    "\n",
    "- 년, 월 분석을 위해 year, month 열을 추가합니다.\n",
    "- date 열이 datetime 형 데이터이므로 다음과 같이 날짜 정보를 쉽게 얻을 수 있습니다."
   ]
  },
  {
   "cell_type": "code",
   "execution_count": 15,
   "metadata": {
    "colab": {},
    "colab_type": "code",
    "id": "zAW_QCxllOpl",
    "scrolled": true
   },
   "outputs": [
    {
     "data": {
      "text/plain": [
       "0       2015\n",
       "1       2015\n",
       "2       2015\n",
       "3       2015\n",
       "4       2015\n",
       "        ... \n",
       "1253    2019\n",
       "1254    2019\n",
       "1255    2019\n",
       "1256    2019\n",
       "1257    2019\n",
       "Name: date, Length: 1258, dtype: int64"
      ]
     },
     "execution_count": 15,
     "metadata": {},
     "output_type": "execute_result"
    }
   ],
   "source": [
    "# 년\n",
    "stock1519['date'].dt.year"
   ]
  },
  {
   "cell_type": "code",
   "execution_count": 16,
   "metadata": {
    "colab": {},
    "colab_type": "code",
    "id": "S-N_S4TFlOpn",
    "scrolled": true
   },
   "outputs": [
    {
     "data": {
      "text/plain": [
       "0        1\n",
       "1        1\n",
       "2        1\n",
       "3        1\n",
       "4        1\n",
       "        ..\n",
       "1253    12\n",
       "1254    12\n",
       "1255    12\n",
       "1256    12\n",
       "1257    12\n",
       "Name: date, Length: 1258, dtype: int64"
      ]
     },
     "execution_count": 16,
     "metadata": {},
     "output_type": "execute_result"
    }
   ],
   "source": [
    "# 월\n",
    "stock1519['date'].dt.month"
   ]
  },
  {
   "cell_type": "code",
   "execution_count": 17,
   "metadata": {
    "colab": {},
    "colab_type": "code",
    "id": "rWw3uR-ZlOpq",
    "scrolled": true
   },
   "outputs": [
    {
     "data": {
      "text/plain": [
       "0        2\n",
       "1        5\n",
       "2        6\n",
       "3        7\n",
       "4        8\n",
       "        ..\n",
       "1253    24\n",
       "1254    26\n",
       "1255    27\n",
       "1256    30\n",
       "1257    31\n",
       "Name: date, Length: 1258, dtype: int64"
      ]
     },
     "execution_count": 17,
     "metadata": {},
     "output_type": "execute_result"
    }
   ],
   "source": [
    "# 일\n",
    "stock1519['date'].dt.day"
   ]
  },
  {
   "cell_type": "code",
   "execution_count": 18,
   "metadata": {
    "colab": {},
    "colab_type": "code",
    "id": "l_1uLyeSlOps",
    "scrolled": false
   },
   "outputs": [
    {
     "data": {
      "text/plain": [
       "0       4\n",
       "1       0\n",
       "2       1\n",
       "3       2\n",
       "4       3\n",
       "       ..\n",
       "1253    1\n",
       "1254    3\n",
       "1255    4\n",
       "1256    0\n",
       "1257    1\n",
       "Name: date, Length: 1258, dtype: int64"
      ]
     },
     "execution_count": 18,
     "metadata": {},
     "output_type": "execute_result"
    }
   ],
   "source": [
    "# 요일\n",
    "stock1519['date'].dt.weekday"
   ]
  },
  {
   "cell_type": "markdown",
   "metadata": {
    "colab_type": "text",
    "id": "XW3I9r1JlOpu"
   },
   "source": [
    "- 이제 stock1519 데이터프레임에 **year**, **month** 열을 추가합니다."
   ]
  },
  {
   "cell_type": "code",
   "execution_count": 19,
   "metadata": {
    "colab": {},
    "colab_type": "code",
    "id": "AMPkw-SMlOpv",
    "scrolled": false
   },
   "outputs": [],
   "source": [
    "# year, month 열 추가\n",
    "stock1519['year'] = stock1519['date'].dt.year\n",
    "stock1519['month'] = stock1519['date'].dt.day"
   ]
  },
  {
   "cell_type": "markdown",
   "metadata": {
    "colab_type": "text",
    "id": "capKWl8hlOpx"
   },
   "source": [
    "- 결과를 확인합니다."
   ]
  },
  {
   "cell_type": "code",
   "execution_count": 20,
   "metadata": {
    "colab": {},
    "colab_type": "code",
    "id": "L_TGDzTFlOpx"
   },
   "outputs": [
    {
     "data": {
      "text/html": [
       "<div>\n",
       "<style scoped>\n",
       "    .dataframe tbody tr th:only-of-type {\n",
       "        vertical-align: middle;\n",
       "    }\n",
       "\n",
       "    .dataframe tbody tr th {\n",
       "        vertical-align: top;\n",
       "    }\n",
       "\n",
       "    .dataframe thead th {\n",
       "        text-align: right;\n",
       "    }\n",
       "</style>\n",
       "<table border=\"1\" class=\"dataframe\">\n",
       "  <thead>\n",
       "    <tr style=\"text-align: right;\">\n",
       "      <th></th>\n",
       "      <th>date</th>\n",
       "      <th>high</th>\n",
       "      <th>low</th>\n",
       "      <th>open</th>\n",
       "      <th>close</th>\n",
       "      <th>year</th>\n",
       "      <th>month</th>\n",
       "    </tr>\n",
       "  </thead>\n",
       "  <tbody>\n",
       "    <tr>\n",
       "      <th>0</th>\n",
       "      <td>2015-01-02</td>\n",
       "      <td>111.440002</td>\n",
       "      <td>107.349999</td>\n",
       "      <td>111.389999</td>\n",
       "      <td>109.330002</td>\n",
       "      <td>2015</td>\n",
       "      <td>2</td>\n",
       "    </tr>\n",
       "    <tr>\n",
       "      <th>1</th>\n",
       "      <td>2015-01-05</td>\n",
       "      <td>108.650001</td>\n",
       "      <td>105.410004</td>\n",
       "      <td>108.290001</td>\n",
       "      <td>106.250000</td>\n",
       "      <td>2015</td>\n",
       "      <td>5</td>\n",
       "    </tr>\n",
       "    <tr>\n",
       "      <th>2</th>\n",
       "      <td>2015-01-06</td>\n",
       "      <td>107.430000</td>\n",
       "      <td>104.629997</td>\n",
       "      <td>106.540001</td>\n",
       "      <td>106.260002</td>\n",
       "      <td>2015</td>\n",
       "      <td>6</td>\n",
       "    </tr>\n",
       "    <tr>\n",
       "      <th>3</th>\n",
       "      <td>2015-01-07</td>\n",
       "      <td>108.199997</td>\n",
       "      <td>106.699997</td>\n",
       "      <td>107.199997</td>\n",
       "      <td>107.750000</td>\n",
       "      <td>2015</td>\n",
       "      <td>7</td>\n",
       "    </tr>\n",
       "    <tr>\n",
       "      <th>4</th>\n",
       "      <td>2015-01-08</td>\n",
       "      <td>112.150001</td>\n",
       "      <td>108.699997</td>\n",
       "      <td>109.230003</td>\n",
       "      <td>111.889999</td>\n",
       "      <td>2015</td>\n",
       "      <td>8</td>\n",
       "    </tr>\n",
       "  </tbody>\n",
       "</table>\n",
       "</div>"
      ],
      "text/plain": [
       "        date        high         low        open       close  year  month\n",
       "0 2015-01-02  111.440002  107.349999  111.389999  109.330002  2015      2\n",
       "1 2015-01-05  108.650001  105.410004  108.290001  106.250000  2015      5\n",
       "2 2015-01-06  107.430000  104.629997  106.540001  106.260002  2015      6\n",
       "3 2015-01-07  108.199997  106.699997  107.199997  107.750000  2015      7\n",
       "4 2015-01-08  112.150001  108.699997  109.230003  111.889999  2015      8"
      ]
     },
     "execution_count": 20,
     "metadata": {},
     "output_type": "execute_result"
    }
   ],
   "source": [
    "# 확인\n",
    "stock1519.head()"
   ]
  },
  {
   "cell_type": "markdown",
   "metadata": {
    "colab_type": "text",
    "id": "ciexM4HNlOpz"
   },
   "source": [
    "**2) 최고-최저가 추가**\n",
    "\n",
    "- high열과 low열 차이를 계산해 **diff_high_low** 열을 추가합니다."
   ]
  },
  {
   "cell_type": "code",
   "execution_count": 21,
   "metadata": {
    "colab": {},
    "colab_type": "code",
    "id": "TZl0_j0AlOpz"
   },
   "outputs": [],
   "source": [
    "# diff_high_low 열 추가\n",
    "stock1519['diff_high_low'] = stock1519['high'] - stock1519['low']"
   ]
  },
  {
   "cell_type": "markdown",
   "metadata": {
    "colab_type": "text",
    "id": "1Bb1ZBtQlOp1"
   },
   "source": [
    "- 결과를 확인합니다."
   ]
  },
  {
   "cell_type": "code",
   "execution_count": 22,
   "metadata": {
    "colab": {},
    "colab_type": "code",
    "id": "NMSGNCLulOp1"
   },
   "outputs": [
    {
     "data": {
      "text/html": [
       "<div>\n",
       "<style scoped>\n",
       "    .dataframe tbody tr th:only-of-type {\n",
       "        vertical-align: middle;\n",
       "    }\n",
       "\n",
       "    .dataframe tbody tr th {\n",
       "        vertical-align: top;\n",
       "    }\n",
       "\n",
       "    .dataframe thead th {\n",
       "        text-align: right;\n",
       "    }\n",
       "</style>\n",
       "<table border=\"1\" class=\"dataframe\">\n",
       "  <thead>\n",
       "    <tr style=\"text-align: right;\">\n",
       "      <th></th>\n",
       "      <th>date</th>\n",
       "      <th>high</th>\n",
       "      <th>low</th>\n",
       "      <th>open</th>\n",
       "      <th>close</th>\n",
       "      <th>year</th>\n",
       "      <th>month</th>\n",
       "      <th>diff_high_low</th>\n",
       "    </tr>\n",
       "  </thead>\n",
       "  <tbody>\n",
       "    <tr>\n",
       "      <th>0</th>\n",
       "      <td>2015-01-02</td>\n",
       "      <td>111.440002</td>\n",
       "      <td>107.349999</td>\n",
       "      <td>111.389999</td>\n",
       "      <td>109.330002</td>\n",
       "      <td>2015</td>\n",
       "      <td>2</td>\n",
       "      <td>4.090004</td>\n",
       "    </tr>\n",
       "    <tr>\n",
       "      <th>1</th>\n",
       "      <td>2015-01-05</td>\n",
       "      <td>108.650001</td>\n",
       "      <td>105.410004</td>\n",
       "      <td>108.290001</td>\n",
       "      <td>106.250000</td>\n",
       "      <td>2015</td>\n",
       "      <td>5</td>\n",
       "      <td>3.239998</td>\n",
       "    </tr>\n",
       "    <tr>\n",
       "      <th>2</th>\n",
       "      <td>2015-01-06</td>\n",
       "      <td>107.430000</td>\n",
       "      <td>104.629997</td>\n",
       "      <td>106.540001</td>\n",
       "      <td>106.260002</td>\n",
       "      <td>2015</td>\n",
       "      <td>6</td>\n",
       "      <td>2.800003</td>\n",
       "    </tr>\n",
       "    <tr>\n",
       "      <th>3</th>\n",
       "      <td>2015-01-07</td>\n",
       "      <td>108.199997</td>\n",
       "      <td>106.699997</td>\n",
       "      <td>107.199997</td>\n",
       "      <td>107.750000</td>\n",
       "      <td>2015</td>\n",
       "      <td>7</td>\n",
       "      <td>1.500000</td>\n",
       "    </tr>\n",
       "    <tr>\n",
       "      <th>4</th>\n",
       "      <td>2015-01-08</td>\n",
       "      <td>112.150001</td>\n",
       "      <td>108.699997</td>\n",
       "      <td>109.230003</td>\n",
       "      <td>111.889999</td>\n",
       "      <td>2015</td>\n",
       "      <td>8</td>\n",
       "      <td>3.450005</td>\n",
       "    </tr>\n",
       "  </tbody>\n",
       "</table>\n",
       "</div>"
      ],
      "text/plain": [
       "        date        high         low        open       close  year  month  \\\n",
       "0 2015-01-02  111.440002  107.349999  111.389999  109.330002  2015      2   \n",
       "1 2015-01-05  108.650001  105.410004  108.290001  106.250000  2015      5   \n",
       "2 2015-01-06  107.430000  104.629997  106.540001  106.260002  2015      6   \n",
       "3 2015-01-07  108.199997  106.699997  107.199997  107.750000  2015      7   \n",
       "4 2015-01-08  112.150001  108.699997  109.230003  111.889999  2015      8   \n",
       "\n",
       "   diff_high_low  \n",
       "0       4.090004  \n",
       "1       3.239998  \n",
       "2       2.800003  \n",
       "3       1.500000  \n",
       "4       3.450005  "
      ]
     },
     "execution_count": 22,
     "metadata": {},
     "output_type": "execute_result"
    }
   ],
   "source": [
    "# 확인\n",
    "stock1519.head()"
   ]
  },
  {
   "cell_type": "markdown",
   "metadata": {
    "colab_type": "text",
    "id": "9dqPBpIVlOp3"
   },
   "source": [
    "**2) 종가-시가 추가**\n",
    "\n",
    "- close열과 open열 차이를 계산해 **diff_close_open** 열을 추가합니다."
   ]
  },
  {
   "cell_type": "code",
   "execution_count": 23,
   "metadata": {
    "colab": {},
    "colab_type": "code",
    "id": "kC3pOc8mlOp4"
   },
   "outputs": [],
   "source": [
    "# diff_close_open 열 추가\n",
    "stock1519['diff_close_open'] = stock1519['close'] - stock1519['open']"
   ]
  },
  {
   "cell_type": "markdown",
   "metadata": {
    "colab_type": "text",
    "id": "HqoAnux5lOp7"
   },
   "source": [
    "- 결과를 확인합니다."
   ]
  },
  {
   "cell_type": "code",
   "execution_count": 24,
   "metadata": {
    "colab": {},
    "colab_type": "code",
    "id": "5l73p0O-lOp7"
   },
   "outputs": [
    {
     "data": {
      "text/html": [
       "<div>\n",
       "<style scoped>\n",
       "    .dataframe tbody tr th:only-of-type {\n",
       "        vertical-align: middle;\n",
       "    }\n",
       "\n",
       "    .dataframe tbody tr th {\n",
       "        vertical-align: top;\n",
       "    }\n",
       "\n",
       "    .dataframe thead th {\n",
       "        text-align: right;\n",
       "    }\n",
       "</style>\n",
       "<table border=\"1\" class=\"dataframe\">\n",
       "  <thead>\n",
       "    <tr style=\"text-align: right;\">\n",
       "      <th></th>\n",
       "      <th>date</th>\n",
       "      <th>high</th>\n",
       "      <th>low</th>\n",
       "      <th>open</th>\n",
       "      <th>close</th>\n",
       "      <th>year</th>\n",
       "      <th>month</th>\n",
       "      <th>diff_high_low</th>\n",
       "      <th>diff_close_open</th>\n",
       "    </tr>\n",
       "  </thead>\n",
       "  <tbody>\n",
       "    <tr>\n",
       "      <th>0</th>\n",
       "      <td>2015-01-02</td>\n",
       "      <td>111.440002</td>\n",
       "      <td>107.349999</td>\n",
       "      <td>111.389999</td>\n",
       "      <td>109.330002</td>\n",
       "      <td>2015</td>\n",
       "      <td>2</td>\n",
       "      <td>4.090004</td>\n",
       "      <td>-2.059998</td>\n",
       "    </tr>\n",
       "    <tr>\n",
       "      <th>1</th>\n",
       "      <td>2015-01-05</td>\n",
       "      <td>108.650001</td>\n",
       "      <td>105.410004</td>\n",
       "      <td>108.290001</td>\n",
       "      <td>106.250000</td>\n",
       "      <td>2015</td>\n",
       "      <td>5</td>\n",
       "      <td>3.239998</td>\n",
       "      <td>-2.040001</td>\n",
       "    </tr>\n",
       "    <tr>\n",
       "      <th>2</th>\n",
       "      <td>2015-01-06</td>\n",
       "      <td>107.430000</td>\n",
       "      <td>104.629997</td>\n",
       "      <td>106.540001</td>\n",
       "      <td>106.260002</td>\n",
       "      <td>2015</td>\n",
       "      <td>6</td>\n",
       "      <td>2.800003</td>\n",
       "      <td>-0.279999</td>\n",
       "    </tr>\n",
       "    <tr>\n",
       "      <th>3</th>\n",
       "      <td>2015-01-07</td>\n",
       "      <td>108.199997</td>\n",
       "      <td>106.699997</td>\n",
       "      <td>107.199997</td>\n",
       "      <td>107.750000</td>\n",
       "      <td>2015</td>\n",
       "      <td>7</td>\n",
       "      <td>1.500000</td>\n",
       "      <td>0.550003</td>\n",
       "    </tr>\n",
       "    <tr>\n",
       "      <th>4</th>\n",
       "      <td>2015-01-08</td>\n",
       "      <td>112.150001</td>\n",
       "      <td>108.699997</td>\n",
       "      <td>109.230003</td>\n",
       "      <td>111.889999</td>\n",
       "      <td>2015</td>\n",
       "      <td>8</td>\n",
       "      <td>3.450005</td>\n",
       "      <td>2.659996</td>\n",
       "    </tr>\n",
       "  </tbody>\n",
       "</table>\n",
       "</div>"
      ],
      "text/plain": [
       "        date        high         low        open       close  year  month  \\\n",
       "0 2015-01-02  111.440002  107.349999  111.389999  109.330002  2015      2   \n",
       "1 2015-01-05  108.650001  105.410004  108.290001  106.250000  2015      5   \n",
       "2 2015-01-06  107.430000  104.629997  106.540001  106.260002  2015      6   \n",
       "3 2015-01-07  108.199997  106.699997  107.199997  107.750000  2015      7   \n",
       "4 2015-01-08  112.150001  108.699997  109.230003  111.889999  2015      8   \n",
       "\n",
       "   diff_high_low  diff_close_open  \n",
       "0       4.090004        -2.059998  \n",
       "1       3.239998        -2.040001  \n",
       "2       2.800003        -0.279999  \n",
       "3       1.500000         0.550003  \n",
       "4       3.450005         2.659996  "
      ]
     },
     "execution_count": 24,
     "metadata": {},
     "output_type": "execute_result"
    }
   ],
   "source": [
    "# 확인\n",
    "stock1519.head()"
   ]
  },
  {
   "cell_type": "markdown",
   "metadata": {
    "colab_type": "text",
    "id": "ttL9MjiQlOp9"
   },
   "source": [
    "**3) 전일 종가 추가**\n",
    "\n",
    "- **shift()** 메소드를 사용해 전일 종가를 쉽게 얻을 수 있습니다.\n",
    "- close 열의 값을 **shift(1)** 하면 전일 종가가 됩니다.\n",
    "- 전일 종가는 **p_close** 열로 저장합니다."
   ]
  },
  {
   "cell_type": "code",
   "execution_count": 25,
   "metadata": {
    "colab": {},
    "colab_type": "code",
    "id": "EsayJ4IplOqA",
    "scrolled": true
   },
   "outputs": [
    {
     "data": {
      "text/html": [
       "<div>\n",
       "<style scoped>\n",
       "    .dataframe tbody tr th:only-of-type {\n",
       "        vertical-align: middle;\n",
       "    }\n",
       "\n",
       "    .dataframe tbody tr th {\n",
       "        vertical-align: top;\n",
       "    }\n",
       "\n",
       "    .dataframe thead th {\n",
       "        text-align: right;\n",
       "    }\n",
       "</style>\n",
       "<table border=\"1\" class=\"dataframe\">\n",
       "  <thead>\n",
       "    <tr style=\"text-align: right;\">\n",
       "      <th></th>\n",
       "      <th>date</th>\n",
       "      <th>high</th>\n",
       "      <th>low</th>\n",
       "      <th>open</th>\n",
       "      <th>close</th>\n",
       "      <th>year</th>\n",
       "      <th>month</th>\n",
       "      <th>diff_high_low</th>\n",
       "      <th>diff_close_open</th>\n",
       "      <th>p_close</th>\n",
       "    </tr>\n",
       "  </thead>\n",
       "  <tbody>\n",
       "    <tr>\n",
       "      <th>0</th>\n",
       "      <td>2015-01-02</td>\n",
       "      <td>111.440002</td>\n",
       "      <td>107.349999</td>\n",
       "      <td>111.389999</td>\n",
       "      <td>109.330002</td>\n",
       "      <td>2015</td>\n",
       "      <td>2</td>\n",
       "      <td>4.090004</td>\n",
       "      <td>-2.059998</td>\n",
       "      <td>NaN</td>\n",
       "    </tr>\n",
       "    <tr>\n",
       "      <th>1</th>\n",
       "      <td>2015-01-05</td>\n",
       "      <td>108.650001</td>\n",
       "      <td>105.410004</td>\n",
       "      <td>108.290001</td>\n",
       "      <td>106.250000</td>\n",
       "      <td>2015</td>\n",
       "      <td>5</td>\n",
       "      <td>3.239998</td>\n",
       "      <td>-2.040001</td>\n",
       "      <td>109.330002</td>\n",
       "    </tr>\n",
       "    <tr>\n",
       "      <th>2</th>\n",
       "      <td>2015-01-06</td>\n",
       "      <td>107.430000</td>\n",
       "      <td>104.629997</td>\n",
       "      <td>106.540001</td>\n",
       "      <td>106.260002</td>\n",
       "      <td>2015</td>\n",
       "      <td>6</td>\n",
       "      <td>2.800003</td>\n",
       "      <td>-0.279999</td>\n",
       "      <td>106.250000</td>\n",
       "    </tr>\n",
       "    <tr>\n",
       "      <th>3</th>\n",
       "      <td>2015-01-07</td>\n",
       "      <td>108.199997</td>\n",
       "      <td>106.699997</td>\n",
       "      <td>107.199997</td>\n",
       "      <td>107.750000</td>\n",
       "      <td>2015</td>\n",
       "      <td>7</td>\n",
       "      <td>1.500000</td>\n",
       "      <td>0.550003</td>\n",
       "      <td>106.260002</td>\n",
       "    </tr>\n",
       "    <tr>\n",
       "      <th>4</th>\n",
       "      <td>2015-01-08</td>\n",
       "      <td>112.150001</td>\n",
       "      <td>108.699997</td>\n",
       "      <td>109.230003</td>\n",
       "      <td>111.889999</td>\n",
       "      <td>2015</td>\n",
       "      <td>8</td>\n",
       "      <td>3.450005</td>\n",
       "      <td>2.659996</td>\n",
       "      <td>107.750000</td>\n",
       "    </tr>\n",
       "  </tbody>\n",
       "</table>\n",
       "</div>"
      ],
      "text/plain": [
       "        date        high         low        open       close  year  month  \\\n",
       "0 2015-01-02  111.440002  107.349999  111.389999  109.330002  2015      2   \n",
       "1 2015-01-05  108.650001  105.410004  108.290001  106.250000  2015      5   \n",
       "2 2015-01-06  107.430000  104.629997  106.540001  106.260002  2015      6   \n",
       "3 2015-01-07  108.199997  106.699997  107.199997  107.750000  2015      7   \n",
       "4 2015-01-08  112.150001  108.699997  109.230003  111.889999  2015      8   \n",
       "\n",
       "   diff_high_low  diff_close_open     p_close  \n",
       "0       4.090004        -2.059998         NaN  \n",
       "1       3.239998        -2.040001  109.330002  \n",
       "2       2.800003        -0.279999  106.250000  \n",
       "3       1.500000         0.550003  106.260002  \n",
       "4       3.450005         2.659996  107.750000  "
      ]
     },
     "execution_count": 25,
     "metadata": {},
     "output_type": "execute_result"
    }
   ],
   "source": [
    "# 전일 종가 추가\n",
    "stock1519['p_close'] = stock1519['close'].shift(1)\n",
    "\n",
    "# 확인\n",
    "stock1519.head()"
   ]
  },
  {
   "cell_type": "markdown",
   "metadata": {
    "colab_type": "text",
    "id": "di-xOUFSlOqB"
   },
   "source": [
    "**4) 최근 3일 종가 평균 추가**\n",
    "\n",
    "- **rolling()** 메소드를 사용해 이동 평균을 쉽게 구할 수 있습니다.\n",
    "- **shift(1)**을 지정하여 해당일은 포함하지 않게 합니다.\n",
    "- **min_periods=1**을 지정하면 3일을 묶을 수 없는 경우 1일만 되어도 집계를 합니다.\n",
    "- 최근 3일 종가 평균은 **l3_close** 열로 저장합니다."
   ]
  },
  {
   "cell_type": "code",
   "execution_count": 26,
   "metadata": {
    "colab": {},
    "colab_type": "code",
    "id": "INAHHFpHlOqD"
   },
   "outputs": [
    {
     "data": {
      "text/html": [
       "<div>\n",
       "<style scoped>\n",
       "    .dataframe tbody tr th:only-of-type {\n",
       "        vertical-align: middle;\n",
       "    }\n",
       "\n",
       "    .dataframe tbody tr th {\n",
       "        vertical-align: top;\n",
       "    }\n",
       "\n",
       "    .dataframe thead th {\n",
       "        text-align: right;\n",
       "    }\n",
       "</style>\n",
       "<table border=\"1\" class=\"dataframe\">\n",
       "  <thead>\n",
       "    <tr style=\"text-align: right;\">\n",
       "      <th></th>\n",
       "      <th>date</th>\n",
       "      <th>high</th>\n",
       "      <th>low</th>\n",
       "      <th>open</th>\n",
       "      <th>close</th>\n",
       "      <th>year</th>\n",
       "      <th>month</th>\n",
       "      <th>diff_high_low</th>\n",
       "      <th>diff_close_open</th>\n",
       "      <th>p_close</th>\n",
       "      <th>l3_close</th>\n",
       "    </tr>\n",
       "  </thead>\n",
       "  <tbody>\n",
       "    <tr>\n",
       "      <th>0</th>\n",
       "      <td>2015-01-02</td>\n",
       "      <td>111.440002</td>\n",
       "      <td>107.349999</td>\n",
       "      <td>111.389999</td>\n",
       "      <td>109.330002</td>\n",
       "      <td>2015</td>\n",
       "      <td>2</td>\n",
       "      <td>4.090004</td>\n",
       "      <td>-2.059998</td>\n",
       "      <td>NaN</td>\n",
       "      <td>NaN</td>\n",
       "    </tr>\n",
       "    <tr>\n",
       "      <th>1</th>\n",
       "      <td>2015-01-05</td>\n",
       "      <td>108.650001</td>\n",
       "      <td>105.410004</td>\n",
       "      <td>108.290001</td>\n",
       "      <td>106.250000</td>\n",
       "      <td>2015</td>\n",
       "      <td>5</td>\n",
       "      <td>3.239998</td>\n",
       "      <td>-2.040001</td>\n",
       "      <td>109.330002</td>\n",
       "      <td>109.330002</td>\n",
       "    </tr>\n",
       "    <tr>\n",
       "      <th>2</th>\n",
       "      <td>2015-01-06</td>\n",
       "      <td>107.430000</td>\n",
       "      <td>104.629997</td>\n",
       "      <td>106.540001</td>\n",
       "      <td>106.260002</td>\n",
       "      <td>2015</td>\n",
       "      <td>6</td>\n",
       "      <td>2.800003</td>\n",
       "      <td>-0.279999</td>\n",
       "      <td>106.250000</td>\n",
       "      <td>107.790001</td>\n",
       "    </tr>\n",
       "    <tr>\n",
       "      <th>3</th>\n",
       "      <td>2015-01-07</td>\n",
       "      <td>108.199997</td>\n",
       "      <td>106.699997</td>\n",
       "      <td>107.199997</td>\n",
       "      <td>107.750000</td>\n",
       "      <td>2015</td>\n",
       "      <td>7</td>\n",
       "      <td>1.500000</td>\n",
       "      <td>0.550003</td>\n",
       "      <td>106.260002</td>\n",
       "      <td>107.280001</td>\n",
       "    </tr>\n",
       "    <tr>\n",
       "      <th>4</th>\n",
       "      <td>2015-01-08</td>\n",
       "      <td>112.150001</td>\n",
       "      <td>108.699997</td>\n",
       "      <td>109.230003</td>\n",
       "      <td>111.889999</td>\n",
       "      <td>2015</td>\n",
       "      <td>8</td>\n",
       "      <td>3.450005</td>\n",
       "      <td>2.659996</td>\n",
       "      <td>107.750000</td>\n",
       "      <td>106.753334</td>\n",
       "    </tr>\n",
       "  </tbody>\n",
       "</table>\n",
       "</div>"
      ],
      "text/plain": [
       "        date        high         low        open       close  year  month  \\\n",
       "0 2015-01-02  111.440002  107.349999  111.389999  109.330002  2015      2   \n",
       "1 2015-01-05  108.650001  105.410004  108.290001  106.250000  2015      5   \n",
       "2 2015-01-06  107.430000  104.629997  106.540001  106.260002  2015      6   \n",
       "3 2015-01-07  108.199997  106.699997  107.199997  107.750000  2015      7   \n",
       "4 2015-01-08  112.150001  108.699997  109.230003  111.889999  2015      8   \n",
       "\n",
       "   diff_high_low  diff_close_open     p_close    l3_close  \n",
       "0       4.090004        -2.059998         NaN         NaN  \n",
       "1       3.239998        -2.040001  109.330002  109.330002  \n",
       "2       2.800003        -0.279999  106.250000  107.790001  \n",
       "3       1.500000         0.550003  106.260002  107.280001  \n",
       "4       3.450005         2.659996  107.750000  106.753334  "
      ]
     },
     "execution_count": 26,
     "metadata": {},
     "output_type": "execute_result"
    }
   ],
   "source": [
    "# 최근 3일 종가 평균 추가\n",
    "stock1519['l3_close'] = stock1519['close'].rolling(3, min_periods=1).mean().shift(1)\n",
    "\n",
    "# 확인\n",
    "stock1519.head()"
   ]
  },
  {
   "cell_type": "markdown",
   "metadata": {
    "colab_type": "text",
    "id": "YQXXSGVslOqG"
   },
   "source": [
    "**5) 최근 7일 종가 평균 추가**\n",
    "\n",
    "- **rolling()** 메소드를 사용해 이동 평균을 쉽게 구할 수 있습니다.\n",
    "- **shift(1)**을 지정하여 해당일은 포함하지 않게 합니다.\n",
    "- 최근 7일 종가 평균은 **l7_close** 열로 저장합니다."
   ]
  },
  {
   "cell_type": "code",
   "execution_count": 27,
   "metadata": {
    "colab": {},
    "colab_type": "code",
    "id": "ybLrBcoulOqI",
    "scrolled": true
   },
   "outputs": [
    {
     "data": {
      "text/html": [
       "<div>\n",
       "<style scoped>\n",
       "    .dataframe tbody tr th:only-of-type {\n",
       "        vertical-align: middle;\n",
       "    }\n",
       "\n",
       "    .dataframe tbody tr th {\n",
       "        vertical-align: top;\n",
       "    }\n",
       "\n",
       "    .dataframe thead th {\n",
       "        text-align: right;\n",
       "    }\n",
       "</style>\n",
       "<table border=\"1\" class=\"dataframe\">\n",
       "  <thead>\n",
       "    <tr style=\"text-align: right;\">\n",
       "      <th></th>\n",
       "      <th>date</th>\n",
       "      <th>high</th>\n",
       "      <th>low</th>\n",
       "      <th>open</th>\n",
       "      <th>close</th>\n",
       "      <th>year</th>\n",
       "      <th>month</th>\n",
       "      <th>diff_high_low</th>\n",
       "      <th>diff_close_open</th>\n",
       "      <th>p_close</th>\n",
       "      <th>l3_close</th>\n",
       "      <th>l7_close</th>\n",
       "    </tr>\n",
       "  </thead>\n",
       "  <tbody>\n",
       "    <tr>\n",
       "      <th>0</th>\n",
       "      <td>2015-01-02</td>\n",
       "      <td>111.440002</td>\n",
       "      <td>107.349999</td>\n",
       "      <td>111.389999</td>\n",
       "      <td>109.330002</td>\n",
       "      <td>2015</td>\n",
       "      <td>2</td>\n",
       "      <td>4.090004</td>\n",
       "      <td>-2.059998</td>\n",
       "      <td>NaN</td>\n",
       "      <td>NaN</td>\n",
       "      <td>NaN</td>\n",
       "    </tr>\n",
       "    <tr>\n",
       "      <th>1</th>\n",
       "      <td>2015-01-05</td>\n",
       "      <td>108.650001</td>\n",
       "      <td>105.410004</td>\n",
       "      <td>108.290001</td>\n",
       "      <td>106.250000</td>\n",
       "      <td>2015</td>\n",
       "      <td>5</td>\n",
       "      <td>3.239998</td>\n",
       "      <td>-2.040001</td>\n",
       "      <td>109.330002</td>\n",
       "      <td>109.330002</td>\n",
       "      <td>109.330002</td>\n",
       "    </tr>\n",
       "    <tr>\n",
       "      <th>2</th>\n",
       "      <td>2015-01-06</td>\n",
       "      <td>107.430000</td>\n",
       "      <td>104.629997</td>\n",
       "      <td>106.540001</td>\n",
       "      <td>106.260002</td>\n",
       "      <td>2015</td>\n",
       "      <td>6</td>\n",
       "      <td>2.800003</td>\n",
       "      <td>-0.279999</td>\n",
       "      <td>106.250000</td>\n",
       "      <td>107.790001</td>\n",
       "      <td>107.790001</td>\n",
       "    </tr>\n",
       "    <tr>\n",
       "      <th>3</th>\n",
       "      <td>2015-01-07</td>\n",
       "      <td>108.199997</td>\n",
       "      <td>106.699997</td>\n",
       "      <td>107.199997</td>\n",
       "      <td>107.750000</td>\n",
       "      <td>2015</td>\n",
       "      <td>7</td>\n",
       "      <td>1.500000</td>\n",
       "      <td>0.550003</td>\n",
       "      <td>106.260002</td>\n",
       "      <td>107.280001</td>\n",
       "      <td>107.280001</td>\n",
       "    </tr>\n",
       "    <tr>\n",
       "      <th>4</th>\n",
       "      <td>2015-01-08</td>\n",
       "      <td>112.150001</td>\n",
       "      <td>108.699997</td>\n",
       "      <td>109.230003</td>\n",
       "      <td>111.889999</td>\n",
       "      <td>2015</td>\n",
       "      <td>8</td>\n",
       "      <td>3.450005</td>\n",
       "      <td>2.659996</td>\n",
       "      <td>107.750000</td>\n",
       "      <td>106.753334</td>\n",
       "      <td>107.397501</td>\n",
       "    </tr>\n",
       "    <tr>\n",
       "      <th>5</th>\n",
       "      <td>2015-01-09</td>\n",
       "      <td>113.250000</td>\n",
       "      <td>110.209999</td>\n",
       "      <td>112.669998</td>\n",
       "      <td>112.010002</td>\n",
       "      <td>2015</td>\n",
       "      <td>9</td>\n",
       "      <td>3.040001</td>\n",
       "      <td>-0.659996</td>\n",
       "      <td>111.889999</td>\n",
       "      <td>108.633334</td>\n",
       "      <td>108.296001</td>\n",
       "    </tr>\n",
       "    <tr>\n",
       "      <th>6</th>\n",
       "      <td>2015-01-12</td>\n",
       "      <td>112.629997</td>\n",
       "      <td>108.800003</td>\n",
       "      <td>112.599999</td>\n",
       "      <td>109.250000</td>\n",
       "      <td>2015</td>\n",
       "      <td>12</td>\n",
       "      <td>3.829994</td>\n",
       "      <td>-3.349999</td>\n",
       "      <td>112.010002</td>\n",
       "      <td>110.550001</td>\n",
       "      <td>108.915001</td>\n",
       "    </tr>\n",
       "    <tr>\n",
       "      <th>7</th>\n",
       "      <td>2015-01-13</td>\n",
       "      <td>112.800003</td>\n",
       "      <td>108.910004</td>\n",
       "      <td>111.430000</td>\n",
       "      <td>110.220001</td>\n",
       "      <td>2015</td>\n",
       "      <td>13</td>\n",
       "      <td>3.889999</td>\n",
       "      <td>-1.209999</td>\n",
       "      <td>109.250000</td>\n",
       "      <td>111.050001</td>\n",
       "      <td>108.962858</td>\n",
       "    </tr>\n",
       "    <tr>\n",
       "      <th>8</th>\n",
       "      <td>2015-01-14</td>\n",
       "      <td>110.489998</td>\n",
       "      <td>108.500000</td>\n",
       "      <td>109.040001</td>\n",
       "      <td>109.800003</td>\n",
       "      <td>2015</td>\n",
       "      <td>14</td>\n",
       "      <td>1.989998</td>\n",
       "      <td>0.760002</td>\n",
       "      <td>110.220001</td>\n",
       "      <td>110.493334</td>\n",
       "      <td>109.090001</td>\n",
       "    </tr>\n",
       "    <tr>\n",
       "      <th>9</th>\n",
       "      <td>2015-01-15</td>\n",
       "      <td>110.059998</td>\n",
       "      <td>106.660004</td>\n",
       "      <td>110.000000</td>\n",
       "      <td>106.820000</td>\n",
       "      <td>2015</td>\n",
       "      <td>15</td>\n",
       "      <td>3.399994</td>\n",
       "      <td>-3.180000</td>\n",
       "      <td>109.800003</td>\n",
       "      <td>109.756668</td>\n",
       "      <td>109.597144</td>\n",
       "    </tr>\n",
       "  </tbody>\n",
       "</table>\n",
       "</div>"
      ],
      "text/plain": [
       "        date        high         low        open       close  year  month  \\\n",
       "0 2015-01-02  111.440002  107.349999  111.389999  109.330002  2015      2   \n",
       "1 2015-01-05  108.650001  105.410004  108.290001  106.250000  2015      5   \n",
       "2 2015-01-06  107.430000  104.629997  106.540001  106.260002  2015      6   \n",
       "3 2015-01-07  108.199997  106.699997  107.199997  107.750000  2015      7   \n",
       "4 2015-01-08  112.150001  108.699997  109.230003  111.889999  2015      8   \n",
       "5 2015-01-09  113.250000  110.209999  112.669998  112.010002  2015      9   \n",
       "6 2015-01-12  112.629997  108.800003  112.599999  109.250000  2015     12   \n",
       "7 2015-01-13  112.800003  108.910004  111.430000  110.220001  2015     13   \n",
       "8 2015-01-14  110.489998  108.500000  109.040001  109.800003  2015     14   \n",
       "9 2015-01-15  110.059998  106.660004  110.000000  106.820000  2015     15   \n",
       "\n",
       "   diff_high_low  diff_close_open     p_close    l3_close    l7_close  \n",
       "0       4.090004        -2.059998         NaN         NaN         NaN  \n",
       "1       3.239998        -2.040001  109.330002  109.330002  109.330002  \n",
       "2       2.800003        -0.279999  106.250000  107.790001  107.790001  \n",
       "3       1.500000         0.550003  106.260002  107.280001  107.280001  \n",
       "4       3.450005         2.659996  107.750000  106.753334  107.397501  \n",
       "5       3.040001        -0.659996  111.889999  108.633334  108.296001  \n",
       "6       3.829994        -3.349999  112.010002  110.550001  108.915001  \n",
       "7       3.889999        -1.209999  109.250000  111.050001  108.962858  \n",
       "8       1.989998         0.760002  110.220001  110.493334  109.090001  \n",
       "9       3.399994        -3.180000  109.800003  109.756668  109.597144  "
      ]
     },
     "execution_count": 27,
     "metadata": {},
     "output_type": "execute_result"
    }
   ],
   "source": [
    "# 최근 7일 이동 평균 추가\n",
    "stock1519['l7_close'] = stock1519['close'].rolling(7, min_periods=1).mean().shift(1)\n",
    "\n",
    "# 10개 행 확인\n",
    "stock1519.head(10)"
   ]
  },
  {
   "cell_type": "markdown",
   "metadata": {
    "colab_type": "text",
    "id": "YsLSewsdlOqK"
   },
   "source": [
    "## 5. [옵션] 데이터 시각화\n",
    "\n",
    "- 이제 전처리가 진행된 데이터를 시각화해서 분석합니다.\n",
    "- 본 실습에서는 간단한 Line Graph를 표시해 보는 것을 목표로 합니다."
   ]
  },
  {
   "cell_type": "markdown",
   "metadata": {
    "colab_type": "text",
    "id": "_qZG01EWlOqL"
   },
   "source": [
    "**1) 전 기간 종가 변화**\n",
    "\n",
    "- 2015~2019년 종가가 어떻게 변화하는지 라인 그래프로 분석해 봅니다.."
   ]
  },
  {
   "cell_type": "code",
   "execution_count": 28,
   "metadata": {
    "colab": {},
    "colab_type": "code",
    "id": "3CQNOYc2lOqL"
   },
   "outputs": [
    {
     "data": {
      "image/png": "[encoded data removed]",
      "text/plain": [
       "<Figure size 432x288 with 1 Axes>"
      ]
     },
     "metadata": {
      "image/png": {
       "height": 252,
       "width": 375
      },
      "needs_background": "light"
     },
     "output_type": "display_data"
    }
   ],
   "source": [
    "# 라인 그래프 표시\n",
    "stock1519.plot(kind='line', x='date',  y='close')\n",
    "plt.show()"
   ]
  },
  {
   "cell_type": "markdown",
   "metadata": {
    "colab_type": "text",
    "id": "cfj-RKV8lOqN"
   },
   "source": [
    "**2) 전일 종가와 같이 분석**\n",
    "\n",
    "- 전일 종가도 같이 표시해 봅니다.\n",
    "- **y=['close', 'p_close']**와 같이 두 열을 y 축 값으로 지정하면 됩니다."
   ]
  },
  {
   "cell_type": "code",
   "execution_count": 29,
   "metadata": {
    "colab": {},
    "colab_type": "code",
    "id": "oqNlFVsXlOqN"
   },
   "outputs": [
    {
     "data": {
      "image/png": "[encoded data removed]",
      "text/plain": [
       "<Figure size 432x288 with 1 Axes>"
      ]
     },
     "metadata": {
      "image/png": {
       "height": 252,
       "width": 375
      },
      "needs_background": "light"
     },
     "output_type": "display_data"
    }
   ],
   "source": [
    "# 종가, 전일 종가 라인 그래프 표시\n",
    "stock1519.plot(kind='line', x='date', y=['close', 'p_close'])\n",
    "plt.show()"
   ]
  },
  {
   "cell_type": "markdown",
   "metadata": {
    "colab_type": "text",
    "id": "hAuAhkTmlOqP"
   },
   "source": [
    "- 종가와 전일 종가 차이가 미세해 잘 구분되지 않습니다.\n",
    "- 2019년 12월 데이터만을 대상으로 하면 종가와 전일 종가가 구분될 것입니다.\n",
    "- 2019년 12월 데이터만을 갖는 stock1912 데이터프레임을 만들어 선 그래프를 표시해봅니다."
   ]
  },
  {
   "cell_type": "code",
   "execution_count": 31,
   "metadata": {
    "colab": {},
    "colab_type": "code",
    "id": "Kq3RB-b8lOqT"
   },
   "outputs": [
    {
     "data": {
      "image/png": "[encoded data removed]",
      "text/plain": [
       "<Figure size 432x288 with 1 Axes>"
      ]
     },
     "metadata": {
      "image/png": {
       "height": 270,
       "width": 399
      },
      "needs_background": "light"
     },
     "output_type": "display_data"
    }
   ],
   "source": [
    "# 2019-12 라인 그래프 표시\n",
    "stock1912 = stock1519[stock1519['date'].between('2019-12-01', '2019-12-31')]\n",
    "stock1912.plot(kind='line', x='date', y=['close', 'p_close'])\n",
    "plt.show()"
   ]
  },
  {
   "cell_type": "markdown",
   "metadata": {
    "colab_type": "text",
    "id": "WjCZVutwlOqV"
   },
   "source": [
    "**3) 최근 3일, 7일 종가 평균과 비교**\n",
    "\n",
    "- 2019년 12월 종가, 최근 3일 종가 평균, 7일 종가 평균을 같이 비교해 봅니다."
   ]
  },
  {
   "cell_type": "code",
   "execution_count": 32,
   "metadata": {
    "colab": {},
    "colab_type": "code",
    "id": "SkFZUMf3lOqV"
   },
   "outputs": [
    {
     "data": {
      "image/png": "[encoded data removed]",
      "text/plain": [
       "<Figure size 432x288 with 1 Axes>"
      ]
     },
     "metadata": {
      "image/png": {
       "height": 270,
       "width": 399
      },
      "needs_background": "light"
     },
     "output_type": "display_data"
    }
   ],
   "source": [
    "# 2019-12 라인 그래프 표시\n",
    "stock1912.plot(kind='line', x='date', y=['close', 'l3_close', 'l7_close'])\n",
    "plt.show()"
   ]
  },
  {
   "cell_type": "markdown",
   "metadata": {
    "colab_type": "text",
    "id": "lvFyZ3XflOqX"
   },
   "source": [
    "**4) 시가와 종가 비교**\n",
    "\n",
    "- 2019년 12월 시가와 종가 차이를 **막대 그래프**로 표시해 봅니다."
   ]
  },
  {
   "cell_type": "code",
   "execution_count": 33,
   "metadata": {
    "colab": {},
    "colab_type": "code",
    "id": "Ei9nfarGlOqY"
   },
   "outputs": [
    {
     "data": {
      "image/png": "[encoded data removed]",
      "text/plain": [
       "<Figure size 432x288 with 1 Axes>"
      ]
     },
     "metadata": {
      "image/png": {
       "height": 359,
       "width": 370
      },
      "needs_background": "light"
     },
     "output_type": "display_data"
    }
   ],
   "source": [
    "# 2019-12 라인 그래프 표시\n",
    "stock1912.plot(kind='bar', x='date', y=['diff_close_open'])\n",
    "plt.show()"
   ]
  },
  {
   "cell_type": "markdown",
   "metadata": {
    "colab_type": "text",
    "id": "j2koT79WlOqa"
   },
   "source": [
    "## 6. 의미 찾기"
   ]
  },
  {
   "cell_type": "markdown",
   "metadata": {
    "colab_type": "text",
    "id": "Mq7KhEeqlOqb"
   },
   "source": [
    "- 데이터 분석을 제대로 하려면 제대로된 데이터가 있어야 합니다.\n",
    "- 다양한 전처리 방법을 사용해 분석이 용이한 형태로 데이터를 변경해야 합니다.\n",
    "- 기존 데이터를 활용해 새로운 데이터를 만들 수 있어야 합니다.\n",
    "- 회사 주가를 사용해 위와 같은 과정으로 분석을 해보면 좋을 것입니다."
   ]
  },
  {
   "cell_type": "markdown",
   "metadata": {
    "colab_type": "text",
    "id": "KqOHu2W4C_0R"
   },
   "source": [
    "## <center>수고하셨습니다.</center>\n",
    "<center><img src='https://raw.githubusercontent.com/Jangrae/img/master/end.png' width=200/></center>"
   ]
  }
 ],
 "metadata": {
  "colab": {
   "collapsed_sections": [],
   "name": "CP2 [실습] 데이터 전처리 2 (주식종가).ipynb",
   "provenance": []
  },
  "kernelspec": {
   "display_name": "Python 3",
   "language": "python",
   "name": "python3"
  },
  "language_info": {
   "codemirror_mode": {
    "name": "ipython",
    "version": 3
   },
   "file_extension": ".py",
   "mimetype": "text/x-python",
   "name": "python",
   "nbconvert_exporter": "python",
   "pygments_lexer": "ipython3",
   "version": "3.7.6"
  }
 },
 "nbformat": 4,
 "nbformat_minor": 1
}
