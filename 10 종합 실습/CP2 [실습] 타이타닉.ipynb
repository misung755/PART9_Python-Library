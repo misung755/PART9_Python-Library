{
 "cells": [
  {
   "cell_type": "markdown",
   "metadata": {
    "colab_type": "text",
    "id": "E-qoYWgOC_yk"
   },
   "source": [
    "<center><img src='https://raw.githubusercontent.com/Jangrae/img/master/title.png' width=500/></center>"
   ]
  },
  {
   "cell_type": "markdown",
   "metadata": {
    "colab_type": "text",
    "id": "BFhIXgdYoYGp"
   },
   "source": [
    "<center><img src='https://raw.githubusercontent.com/Jangrae/img/master/practice.png' width=300/></center>"
   ]
  },
  {
   "cell_type": "markdown",
   "metadata": {
    "colab_type": "text",
    "id": "Nkw-jfYoFBTc"
   },
   "source": [
    "# CP2. [실습] 데이터 전처리와 시각화: 타이타닉"
   ]
  },
  {
   "cell_type": "markdown",
   "metadata": {
    "colab_type": "text",
    "id": "ohZv6V7m0Kb1"
   },
   "source": [
    "- 본 실습은 간단한 데이터 시각화 방법을 직접 체험하기 위한 것입니다.\n",
    "- 특히 결측치 확인과 처리, 데이터 집계를 다양하게 수행해 봄을 목표로 합니다.\n",
    "- 손쉽게 자동으로 집계해서 시각화 하는 방법이 있지만 사용하지 않기로 합니다.\n",
    "- 우선 다음과 같은 과정으로 데이터 시각화를 수행함으로 알고 진행하기 바랍니다."
   ]
  },
  {
   "cell_type": "markdown",
   "metadata": {
    "colab_type": "text",
    "id": "EPNs0yA80Kb3"
   },
   "source": [
    "<img src='https://raw.githubusercontent.com/Jangrae/img/master/visualization.png' width=\"650\" align=\"left\">"
   ]
  },
  {
   "cell_type": "code",
   "execution_count": null,
   "metadata": {
    "colab": {},
    "colab_type": "code",
    "id": "UoGi0wbYFFvO"
   },
   "outputs": [],
   "source": [
    "# 라이브러리 불러오기\n",
    "import numpy as np\n",
    "import pandas as pd\n",
    "import matplotlib.pyplot as plt"
   ]
  },
  {
   "cell_type": "markdown",
   "metadata": {
    "colab_type": "text",
    "id": "Sm2hVOhg0KcH"
   },
   "source": [
    "## 1. 데이터 불러오기\n",
    "\n",
    "- **read_csv()** 함수를 사용해 분석할 데이터를 csv 파일에서 불러옵니다.\n",
    "- titanic 데이터 셋은 타이타닉호 사망자와 생존자에 대한 정보입니다.\n",
    "- titanic_simple 버전이 아닌 정식 titanic 데이터 셋을 사용합니다.\n",
    "- 파일 경로: 'https://raw.githubusercontent.com/Jangrae/csv/master/titanic.csv'"
   ]
  },
  {
   "cell_type": "code",
   "execution_count": null,
   "metadata": {
    "colab": {},
    "colab_type": "code",
    "id": "enhGxkyt0KcI"
   },
   "outputs": [],
   "source": [
    "# titanic\n",
    "file_path = 'https://raw.githubusercontent.com/Jangrae/csv/master/titanic.csv'\n",
    "titanic = pd.read_csv(file_path)"
   ]
  },
  {
   "cell_type": "markdown",
   "metadata": {
    "colab_type": "text",
    "id": "1O_usuOg0KcP"
   },
   "source": [
    "## 2. 데이터 확인\n",
    "\n",
    "- 데이터를 알아야 데이터를 분석할 수 있습니다.\n",
    "- 우선 분석할 데이터가 어떤 형태의 데이터인지 확인합니다.\n",
    "\n",
    "**[참고] 열 정보**\n",
    "\n",
    "- survived: 생존 여부\n",
    "- pclass: 승객의 클래스\n",
    "- sex: 성별\n",
    "- sibsp: 형제 혹은 자매의 수\n",
    "- parch: 부모 혹은 자녀의 수\n",
    "- fare: 탑승 요금\n",
    "- embarked: 출발지의 고유 이니셜\n",
    "- class: 선실의 클래스\n",
    "- who: male, female을 man, woman으로 표기\n",
    "- adult_male: 성인 남성 인지 아닌지 여부\n",
    "- deck: 선실 고유 번호의 가장 앞자리 알파벳(A ~ G)\n",
    "- embark_town: 출발지\n",
    "- alive: 생존 여부 데이터를 yes 혹은 no로 표기\n",
    "- alone: 가족이 없는 경우 True"
   ]
  },
  {
   "cell_type": "markdown",
   "metadata": {
    "colab_type": "text",
    "id": "Lxus78Ii0KcR"
   },
   "source": [
    "**1) 상위/하위 데이터 확인**\n",
    "\n",
    "- head(), tail() 메소드로 상/하위 데이터를 확인합니다."
   ]
  },
  {
   "cell_type": "code",
   "execution_count": null,
   "metadata": {
    "colab": {},
    "colab_type": "code",
    "id": "L10e2SPG0KcS",
    "outputId": "fd0f02e1-1c5c-44ba-f5c3-37d61566eee7",
    "scrolled": true
   },
   "outputs": [],
   "source": [
    "# 상위 5개 행 확인\n"
   ]
  },
  {
   "cell_type": "code",
   "execution_count": null,
   "metadata": {
    "colab": {},
    "colab_type": "code",
    "id": "r6tiodOr0KcZ",
    "outputId": "bc4fe844-6dfe-431a-e152-4df676fb5740",
    "scrolled": true
   },
   "outputs": [],
   "source": [
    "# 하위 5개 행 확인\n"
   ]
  },
  {
   "cell_type": "markdown",
   "metadata": {
    "colab_type": "text",
    "id": "KXhMyTdu0Kcf"
   },
   "source": [
    "**2) 열 데이터 개수, NaN 값 여부 확인**\n",
    "\n",
    "- info() 메소드로 각 열의 값 개수, NaN 값 포함 여부를 확인합니다.\n",
    "- NaN값이 포함되어 있으면 결측치에 대한 해결(제거 또는 변경)이 필요합니다."
   ]
  },
  {
   "cell_type": "code",
   "execution_count": null,
   "metadata": {
    "colab": {},
    "colab_type": "code",
    "id": "1YeG0s8p0Kcg",
    "outputId": "b6abdce6-2ebc-4add-bdbd-564a6c0ac072",
    "scrolled": false
   },
   "outputs": [],
   "source": [
    "# 열 정보, NaN 값 포함 여부 확인\n"
   ]
  },
  {
   "cell_type": "markdown",
   "metadata": {
    "colab_type": "text",
    "id": "2vMu-5pp0Kco"
   },
   "source": [
    "**3) 기초 통계 정보 확인**\n",
    "\n",
    "- describe() 메소드를 사용해 기초 통계 정보를 확인합니다."
   ]
  },
  {
   "cell_type": "code",
   "execution_count": null,
   "metadata": {
    "colab": {},
    "colab_type": "code",
    "id": "mc-Itjzr0Kcp",
    "outputId": "7e37848e-bf0d-4f93-a2f4-d0756f4841c8",
    "scrolled": true
   },
   "outputs": [],
   "source": [
    "# 기초 통계 정보 확인\n"
   ]
  },
  {
   "cell_type": "markdown",
   "metadata": {
    "colab_type": "text",
    "id": "ACGsHu6V0Kcw"
   },
   "source": [
    "**4) 질문**\n",
    "\n",
    "- titanic 데이터가 분석하기에 적절한 형태인가요?\n",
    "- titanic 데이터에 대해 어떤 분석이 의미가 있을까요?\n",
    "- 분석에 걸림돌이 될 만한 것은 무엇일까요?\n",
    "- 분석을 위해 우선 어떤 처리를 해야 할까요?"
   ]
  },
  {
   "cell_type": "markdown",
   "metadata": {
    "colab_type": "text",
    "id": "zdyGta7S0Kcx"
   },
   "source": [
    "## 3. 데이터 전처리\n",
    "\n",
    "- NaN 값이 포함된 열이 있으면 제거하거나 다른 값으로 채워야 합니다.\n",
    "- 중복된 데이터는 정확한 분석을 방해하므로 제거해야 합니다.\n",
    "- 기타 데이터에 방해가 되는 요소를 전처리 과정에서 제거합니다."
   ]
  },
  {
   "cell_type": "markdown",
   "metadata": {
    "colab_type": "text",
    "id": "eIFnXi_b0Kcy"
   },
   "source": [
    "**1) 결측치 처리**\n",
    "\n",
    "- titanic 데이터 셋에는 NaN 값을 갖는 열이 많습니다.\n",
    "- 분석에 의미가 없는 열은 제거하고, 필요하면 다른 값으로 체워야 합니다.\n",
    "- 다음과 같이 막대 그래프로 결측치 상황을 확인할 수 있습니다."
   ]
  },
  {
   "cell_type": "code",
   "execution_count": null,
   "metadata": {
    "colab": {},
    "colab_type": "code",
    "id": "aoNxSzJ_0Kcz",
    "outputId": "d0d0988b-ece0-4079-d501-b1fd7c6d06d0",
    "scrolled": true
   },
   "outputs": [],
   "source": [
    "# 막대 그래프로 결측치 확인\n",
    "titanic.count().plot(kind='bar')\n",
    "plt.show()"
   ]
  },
  {
   "cell_type": "markdown",
   "metadata": {
    "colab_type": "text",
    "id": "lY6JT8-s0Kc9"
   },
   "source": [
    "- 또는 다음과 같이 isnull().sum()을 확인해도 됩니다."
   ]
  },
  {
   "cell_type": "code",
   "execution_count": null,
   "metadata": {
    "colab": {},
    "colab_type": "code",
    "id": "OqYvY4j70Kc_",
    "outputId": "46cd529e-00c0-4c54-e158-f1b31bcbf998"
   },
   "outputs": [],
   "source": [
    "# 결측치 확인\n",
    "titanic.isnull().sum()"
   ]
  },
  {
   "cell_type": "markdown",
   "metadata": {
    "colab_type": "text",
    "id": "FAC3Fk3j0KdJ"
   },
   "source": [
    "**deck열 삭제**\n",
    "\n",
    "- deck열은 결측치 비중이 너무 높으므로 삭제합니다."
   ]
  },
  {
   "cell_type": "code",
   "execution_count": null,
   "metadata": {
    "colab": {},
    "colab_type": "code",
    "id": "bvP5L5hB0KdK",
    "scrolled": true
   },
   "outputs": [],
   "source": [
    "# deck열 삭제\n"
   ]
  },
  {
   "cell_type": "code",
   "execution_count": null,
   "metadata": {
    "colab": {},
    "colab_type": "code",
    "id": "6_roW3xa0KdR",
    "outputId": "a2581a5f-615b-48a1-bee1-7d581fb0e474"
   },
   "outputs": [],
   "source": [
    "# 막대 그래프로 결측치 확인\n",
    "titanic.count().plot(kind='bar')\n",
    "plt.show()"
   ]
  },
  {
   "cell_type": "markdown",
   "metadata": {
    "colab_type": "text",
    "id": "Iwm3j9Qd0KdX"
   },
   "source": [
    "**age열 NaN 값인 행 삭제**\n",
    "\n",
    "- age열은 분석에 중요한 의미가 있으니 열을 제거하지 말고 NaN 값인 행을 제거합니다."
   ]
  },
  {
   "cell_type": "code",
   "execution_count": null,
   "metadata": {
    "colab": {},
    "colab_type": "code",
    "id": "rMvUoJbC0KdY",
    "scrolled": true
   },
   "outputs": [],
   "source": [
    "# age 열 NaN 값인 열 삭제\n"
   ]
  },
  {
   "cell_type": "code",
   "execution_count": null,
   "metadata": {
    "colab": {},
    "colab_type": "code",
    "id": "aDjzZYQu0Kde",
    "outputId": "d68b7be5-d19d-45e0-95d0-4e24f80341d5"
   },
   "outputs": [],
   "source": [
    "# 막대 그래프로 결측치 확인\n",
    "titanic.count().plot(kind='bar')\n",
    "plt.show()"
   ]
  },
  {
   "cell_type": "markdown",
   "metadata": {
    "colab_type": "text",
    "id": "YWmmuJWw0Kdt"
   },
   "source": [
    "**3) 불필요한 열 제거**\n",
    "\n",
    "- 분석에 불필요한 열은 과감히 제거합니다.\n",
    "- 본 실습에서는 survived, pclass, sex, age, fare 열만 사용하기로 합니다."
   ]
  },
  {
   "cell_type": "code",
   "execution_count": null,
   "metadata": {
    "colab": {},
    "colab_type": "code",
    "id": "DzraV9Mk0Kdu",
    "outputId": "8d4973a3-ce7c-4b54-c7ff-c5abe26c1395",
    "scrolled": true
   },
   "outputs": [],
   "source": [
    "# survived, pclass, sex, age, fare 열만 사용\n",
    "\n",
    "\n",
    "# 확인\n",
    "titanic.head()"
   ]
  },
  {
   "cell_type": "markdown",
   "metadata": {
    "colab_type": "text",
    "id": "XwKN2lh60Kd1"
   },
   "source": [
    "## 4. 데이터 추가\n",
    "\n",
    "- age 열의 값을 기준으로 10대, 20대, 30대...로 구분하는 열을 추가합니다.\n",
    "- age 열의 값을 10으로 나눈 몫에 다시 10을 곱하면 되며, 정수형이 되게 합니다.\n",
    "- 추가되는 열 이름은 **age2**로 합니다."
   ]
  },
  {
   "cell_type": "code",
   "execution_count": null,
   "metadata": {
    "colab": {},
    "colab_type": "code",
    "id": "wcizB7ca0Kd2",
    "outputId": "d7ee7b0c-016a-4ce2-f0f8-6671fc58ad9f"
   },
   "outputs": [],
   "source": [
    "# age2 열 추가\n",
    "\n",
    "\n",
    "# 확인\n",
    "titanic.head()"
   ]
  },
  {
   "cell_type": "markdown",
   "metadata": {
    "colab_type": "text",
    "id": "hRZwI0Hs0Kd9"
   },
   "source": [
    "## 5. [옵션] 데이터 시각화\n",
    "\n",
    "- 이제 전처리가 진행된 데이터를 시각화해서 분석합니다."
   ]
  },
  {
   "cell_type": "markdown",
   "metadata": {
    "colab_type": "text",
    "id": "LQUtU0lv0Kd-"
   },
   "source": [
    "**1) 남녀별 생존자 수 비교**\n",
    "\n",
    "- groupby() 메소드를 사용해 남녀별로 생존자 수를 집계하여 **bar chart**로 비교해 봅니다.\n",
    "- 생존자 수는 survived 열의 합으로 확인할 수 있습니다."
   ]
  },
  {
   "cell_type": "code",
   "execution_count": null,
   "metadata": {
    "colab": {},
    "colab_type": "code",
    "id": "Bv2kvl930Kd_",
    "outputId": "81872eb5-0f7c-4be4-f84e-e7975191b0b2"
   },
   "outputs": [],
   "source": [
    "# 남녀별 생존자수 비교\n",
    "titanic.groupby(by='sex')['survived'].sum().plot(kind='bar')\n",
    "plt.show()"
   ]
  },
  {
   "cell_type": "markdown",
   "metadata": {
    "colab_type": "text",
    "id": "NJMWwhIe0KeH"
   },
   "source": [
    "**2) 클래스별 생존자 수 비교**\n",
    "\n",
    "- groupby() 메소드를 사용해 클래스별로 생존자 수를 집계해 **bar chart**로 비교해 봅니다."
   ]
  },
  {
   "cell_type": "code",
   "execution_count": null,
   "metadata": {
    "colab": {},
    "colab_type": "code",
    "id": "Cr7a_Uic0KeI",
    "outputId": "bade58c2-9703-4b4a-dab9-a4506ec2c327"
   },
   "outputs": [],
   "source": [
    "# 클래스별 생존자수 비교\n",
    "titanic.groupby(by='pclass')['survived'].sum().plot(kind='bar')\n",
    "plt.show()"
   ]
  },
  {
   "cell_type": "markdown",
   "metadata": {
    "colab_type": "text",
    "id": "bb-zwIJt0KeO"
   },
   "source": [
    "**3) 클래스별 운임 비교**\n",
    "\n",
    "- groupby() 메소드를 사용해 클래스별로 운임 합을 집계해 **bar chart**로 비교해 봅니다."
   ]
  },
  {
   "cell_type": "code",
   "execution_count": null,
   "metadata": {
    "colab": {},
    "colab_type": "code",
    "id": "q9dVYis_0KeP",
    "outputId": "7964197a-f054-486b-9c25-599c99170eef"
   },
   "outputs": [],
   "source": [
    "# 클래스 별 생존자수 비교\n",
    "titanic.groupby(by='pclass')['fare'].sum().plot(kind='bar')\n",
    "plt.show()"
   ]
  },
  {
   "cell_type": "markdown",
   "metadata": {
    "colab_type": "text",
    "id": "EW47XzIw0KeU"
   },
   "source": [
    "**4) 연령별 생존자 수 비교**\n",
    "\n",
    "- groupby() 메소드를 사용해 연령별 생존자 수를 집계해 **bar chart**로 비교해 봅니다.\n",
    "- 앞에서 새로 추가한 age2 열을 사용합니다."
   ]
  },
  {
   "cell_type": "code",
   "execution_count": null,
   "metadata": {
    "colab": {},
    "colab_type": "code",
    "id": "7dRU-haQ0KeV",
    "outputId": "652937a0-382f-4b47-f872-ec2644b9a8aa"
   },
   "outputs": [],
   "source": [
    "# 연령별 생존자수 비교\n",
    "titanic.groupby(by=['age2'])['survived'].sum().plot(kind='bar')\n",
    "plt.show()"
   ]
  },
  {
   "cell_type": "markdown",
   "metadata": {
    "colab_type": "text",
    "id": "jb0litn40Keb"
   },
   "source": [
    "**5) 연령별 남녀별 생존자 수 비교**\n",
    "\n",
    "- 연령별 남녀 생존자 수가 궁금합니다.\n",
    "- 남자 연령별 생존자 수, 여자 연령별 생존자 수를 구해 합쳐봅니다.\n",
    "- 우선 남자 연령별 생존자 수를 갖는 **age_male** 데이터프레임을 만듭니다."
   ]
  },
  {
   "cell_type": "code",
   "execution_count": null,
   "metadata": {
    "colab": {},
    "colab_type": "code",
    "id": "h41kbOmZ0Kec",
    "outputId": "d7fb52ac-487a-489c-e221-2c3ebf456e85"
   },
   "outputs": [],
   "source": [
    "# 남자 연령별 생존자 수\n",
    "age_male = titanic[titanic['sex']=='male'].groupby(by=['age2'], as_index=False)['survived'].sum()\n",
    "\n",
    "# 확인\n",
    "age_male.head()"
   ]
  },
  {
   "cell_type": "markdown",
   "metadata": {
    "colab_type": "text",
    "id": "FcWONGSI0Ken"
   },
   "source": [
    "- 여자 생존자 수를 갖는 **age_female** 데이터프레임을 만듭니다."
   ]
  },
  {
   "cell_type": "code",
   "execution_count": null,
   "metadata": {
    "colab": {},
    "colab_type": "code",
    "id": "03k62GEf0Keo",
    "outputId": "fb0bf551-1000-4052-8a8a-a9a825229773"
   },
   "outputs": [],
   "source": [
    "# 여자 연령별 생존자 수\n",
    "age_female = titanic[titanic['sex']=='female'].groupby(by=['age2'], as_index=False)['survived'].sum()\n",
    "\n",
    "# 확인\n",
    "age_female.head()"
   ]
  },
  {
   "cell_type": "markdown",
   "metadata": {
    "colab_type": "text",
    "id": "ZJS-a6e30Ket"
   },
   "source": [
    "- 두 데이터프레임의 survived 열 이름이 같으니 구분되게 male_survived, female_survived로 각각 바꿉니다."
   ]
  },
  {
   "cell_type": "code",
   "execution_count": null,
   "metadata": {
    "colab": {},
    "colab_type": "code",
    "id": "MnYZC00S0Keu"
   },
   "outputs": [],
   "source": [
    "# 열 이름 변경\n",
    "age_male.rename(columns={'survived': 'male_survived'}, inplace=True)\n",
    "age_female.rename(columns={'survived': 'female_survived'}, inplace=True)"
   ]
  },
  {
   "cell_type": "markdown",
   "metadata": {
    "colab_type": "text",
    "id": "TGrOanfx0Ke1"
   },
   "source": [
    "- 두 데이터프레임을 concat() 함수로 연결해 **age_mf** 데이터프레임을 만듭니다."
   ]
  },
  {
   "cell_type": "code",
   "execution_count": null,
   "metadata": {
    "colab": {},
    "colab_type": "code",
    "id": "s3M75z6p0Ke3",
    "outputId": "8ee6375c-d7ea-4c18-eeed-25f6b136a49c"
   },
   "outputs": [],
   "source": [
    "# concat() 함수로 연결\n",
    "age_mf = pd.concat([age_male, age_female['female_survived']], axis=1)\n",
    "\n",
    "# 확인\n",
    "age_mf"
   ]
  },
  {
   "cell_type": "markdown",
   "metadata": {
    "colab_type": "text",
    "id": "XJQMxwtz0Ke_"
   },
   "source": [
    "- 이제 bar chart로 분석을 하면 됩니다."
   ]
  },
  {
   "cell_type": "code",
   "execution_count": null,
   "metadata": {
    "colab": {},
    "colab_type": "code",
    "id": "Gffbx6LD0KfA",
    "outputId": "590f72dc-a8d1-40fa-e799-29a72c520de8"
   },
   "outputs": [],
   "source": [
    "# 연령별 남녀별 생존자수 비교\n",
    "age_mf.plot(kind='bar', x='age2', y=['male_survived', 'female_survived'])\n",
    "plt.show()"
   ]
  },
  {
   "cell_type": "markdown",
   "metadata": {
    "colab_type": "text",
    "id": "y7yhDU3e0KfH"
   },
   "source": [
    "- 누적 막대그래프로 표시하면 의미가 있을 것 같습니다."
   ]
  },
  {
   "cell_type": "code",
   "execution_count": null,
   "metadata": {
    "colab": {},
    "colab_type": "code",
    "id": "EOp2U7j20KfJ",
    "outputId": "a12dc137-d714-4152-ea93-b83c33a49a3d"
   },
   "outputs": [],
   "source": [
    "# 누적 막대그래프 표시\n",
    "age_mf.plot(kind='bar', x='age2', y=['male_survived', 'female_survived'], stacked=True)\n",
    "plt.show()"
   ]
  },
  {
   "cell_type": "markdown",
   "metadata": {
    "colab_type": "text",
    "id": "hNvEMK4-0KfN"
   },
   "source": [
    "## 6. 의미 찾기\n",
    "\n",
    "- 데이터 분석을 제대로 하려면 제대로된 데이터가 있어야 합니다.\n",
    "- 다양한 전처리 방법을 사용해 분석이 용이한 형태로 데이터를 변경해야 합니다.\n",
    "- 기존 데이터를 활용해 새로운 데이터를 만들 수 있어야 합니다.\n",
    "- 원본 데이터를 대상으로 집계한 후 그 결과를 분석하는 것도 의미가 있습니다."
   ]
  },
  {
   "cell_type": "markdown",
   "metadata": {
    "colab_type": "text",
    "id": "KqOHu2W4C_0R"
   },
   "source": [
    "## <center>수고하셨습니다.</center>\n",
    "<center><img src='https://raw.githubusercontent.com/Jangrae/img/master/end.png' width=200/></center>"
   ]
  }
 ],
 "metadata": {
  "colab": {
   "collapsed_sections": [],
   "name": "CP1 [실습] 타이타닉.ipynb",
   "provenance": []
  },
  "kernelspec": {
   "display_name": "Python 3",
   "language": "python",
   "name": "python3"
  },
  "language_info": {
   "codemirror_mode": {
    "name": "ipython",
    "version": 3
   },
   "file_extension": ".py",
   "mimetype": "text/x-python",
   "name": "python",
   "nbconvert_exporter": "python",
   "pygments_lexer": "ipython3",
   "version": "3.7.6"
  }
 },
 "nbformat": 4,
 "nbformat_minor": 1
}
