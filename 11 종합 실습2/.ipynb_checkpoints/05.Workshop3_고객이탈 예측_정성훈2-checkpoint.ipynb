{
 "cells": [
  {
   "cell_type": "markdown",
   "metadata": {
    "colab_type": "text",
    "id": "w8C_iSSpYnVO"
   },
   "source": [
    "# 전처리 종합실습 평가\n",
    "\n",
    "#### 목표\n",
    "1. 간략히 가설수립을 합니다.\n",
    "2. 데이터를 탐색합니다.(역시 간략히)\n",
    "3. 가설로 도출된 요인들을 추가변수로 생성합니다.\n",
    "4. 모델링을 위한 전처리를 수행합니다.\n",
    "5. 준비된 모델링 코드로 성능을 확인합니다.\n",
    "\n",
    "#### 규칙\n",
    "1. 개념에 대한 질문, 문제의 이해를 위한 질문에 대해 답변을 드립니다.\n",
    "2. 오류에 대해서는 해결 방안과 힌트를 제공해 드립니다.\n",
    "3. 참조 가능한 자료는 동료들의 소스코드를 제외한 모든 자료를 참조할 수 있습니다. "
   ]
  },
  {
   "cell_type": "markdown",
   "metadata": {},
   "source": [
    "# 1단계: 비즈니스이해~ Labeling까지\n",
    "\n"
   ]
  },
  {
   "cell_type": "markdown",
   "metadata": {},
   "source": [
    "## 1. 비즈니스 이해"
   ]
  },
  {
   "cell_type": "markdown",
   "metadata": {},
   "source": [
    "문제 정의 : \n",
    "* 우리는 고객이 이탈할 것인지 사전에 예측하는 모델을 만들고자 합니다.\n",
    "* 이탈할 고객을 미리 예측할 수 있다면, 프로모션을 통해 이탈을 예방할 수 있습니다.\n",
    "* 그렇다면 고객의 이탈에 영향을 주는 요인은 무엇일까요?\n"
   ]
  },
  {
   "cell_type": "markdown",
   "metadata": {},
   "source": [
    "다음과 같이 구체적으로 문제를 정의하고자 한다.\n",
    "* 2016년12월말 기준으로\n",
    "* 이후 3개월 방문(구매) 안한 사람을 이탈로 보자.\n",
    "* 관심있는 고객은 \n",
    "    - 2015~2016년 신규 가입 고객 이면서,\n",
    "    - 2016년 하반기에 한번 이상 방문한 고객\n"
   ]
  },
  {
   "cell_type": "markdown",
   "metadata": {},
   "source": [
    "### 문제1 :  \n",
    "아래 셀에 이탈여부와 관련한 요인을 최소한 5가지 이상을 도출해 봅시다.  \n",
    "이 질문에 대한 답은 3.데이터준비단계를 수행하면서 다시 여기로 돌아와서 수정하거나 추가해야 할 수도 있습니다.\n"
   ]
  },
  {
   "cell_type": "markdown",
   "metadata": {},
   "source": [
    "예시1) 2016년에 4번이상 방문하고 10000만원 이상구매한 고객은 이탈하지 않을 것이다.  \n",
    "예시2) 남성고객이면서, 30대 고객은 고객은 이탈할 것이다.   \n",
    "    \n",
    "    \n",
    "    1) 반찬과 같이 유통기한이 짧고 즉시 사용되는 카테고리의 경우 연중 고르게 판매가 이루어질 것이다\n",
    "    2) 구매 횟수 / 가입일로부터 시간이 큰 고객일수록 이탈할 가능성이 낮은 충성 고객일 것이다.  \n",
    "    3) 가격이 큰 일회성 상품을 구매한 고객은 이탈할 가능성이 높을 것이다.\n",
    "    4) 싼 가격의 할인 물품을 산 고객들은 일회성으로 방문할 고객일 수 있으므로 이탈할 가능성이 높다.\n",
    "    5) 환불을 한 고객의 경우 이탈의 가능성이 높다(환불 : amt가 -인 경우로 추정)\n",
    "    6) 40대 이상의 여성 고객의 경우 이탈 가능성이 낮을 것이다. \n",
    "    7) 월별 구매액이 꾸준한 고객일수록 이탈 가능성이 낮다.\n",
    "    8) 특정 도서 지역(강원도 등)은 구매의 선택지가 낮아 이탈 가능성이 낮다.\n",
    "    9) 10대 고객의 경우 단발성 구매가 많아 이탈 가능성이 높다. \n",
    "    10) 2016년 30만원 이상 구매했으며, 4달 이상 구매한 기록이 있는 고객은 이탈하지 않을것이다.\n",
    "    \n"
   ]
  },
  {
   "cell_type": "markdown",
   "metadata": {
    "colab_type": "text",
    "id": "DFijIAllYnVQ"
   },
   "source": [
    "## 2.데이터 이해"
   ]
  },
  {
   "cell_type": "code",
   "execution_count": 1,
   "metadata": {
    "colab": {},
    "colab_type": "code",
    "id": "0wzhP3IXYnVQ"
   },
   "outputs": [],
   "source": [
    "import pandas as pd\n",
    "import numpy as np\n",
    "import matplotlib.pyplot as plt"
   ]
  },
  {
   "cell_type": "code",
   "execution_count": 2,
   "metadata": {},
   "outputs": [],
   "source": [
    "from plotnine import *"
   ]
  },
  {
   "cell_type": "code",
   "execution_count": 3,
   "metadata": {},
   "outputs": [
    {
     "data": {
      "text/html": [
       "<div>\n",
       "<style scoped>\n",
       "    .dataframe tbody tr th:only-of-type {\n",
       "        vertical-align: middle;\n",
       "    }\n",
       "\n",
       "    .dataframe tbody tr th {\n",
       "        vertical-align: top;\n",
       "    }\n",
       "\n",
       "    .dataframe thead th {\n",
       "        text-align: right;\n",
       "    }\n",
       "</style>\n",
       "<table border=\"1\" class=\"dataframe\">\n",
       "  <thead>\n",
       "    <tr style=\"text-align: right;\">\n",
       "      <th></th>\n",
       "      <th>CustomerID</th>\n",
       "      <th>RegisterDate</th>\n",
       "      <th>Address</th>\n",
       "      <th>Gender</th>\n",
       "      <th>BirthYear</th>\n",
       "      <th>Addr1</th>\n",
       "      <th>Addr2</th>\n",
       "    </tr>\n",
       "  </thead>\n",
       "  <tbody>\n",
       "    <tr>\n",
       "      <th>0</th>\n",
       "      <td>c328222</td>\n",
       "      <td>2014-09-25</td>\n",
       "      <td>강원 원주시 늘품로</td>\n",
       "      <td>F</td>\n",
       "      <td>1960</td>\n",
       "      <td>강원도</td>\n",
       "      <td>원주시</td>\n",
       "    </tr>\n",
       "    <tr>\n",
       "      <th>1</th>\n",
       "      <td>c281448</td>\n",
       "      <td>2013-06-18</td>\n",
       "      <td>강원 원주시 치악로</td>\n",
       "      <td>F</td>\n",
       "      <td>1974</td>\n",
       "      <td>강원도</td>\n",
       "      <td>원주시</td>\n",
       "    </tr>\n",
       "    <tr>\n",
       "      <th>2</th>\n",
       "      <td>c038336</td>\n",
       "      <td>2003-10-10</td>\n",
       "      <td>강원 춘천시 서부대성로</td>\n",
       "      <td>F</td>\n",
       "      <td>1968</td>\n",
       "      <td>강원도</td>\n",
       "      <td>춘천시</td>\n",
       "    </tr>\n",
       "    <tr>\n",
       "      <th>3</th>\n",
       "      <td>c084237</td>\n",
       "      <td>2007-03-09</td>\n",
       "      <td>강원도 강릉시 연곡면 황어대길</td>\n",
       "      <td>F</td>\n",
       "      <td>1982</td>\n",
       "      <td>강원도</td>\n",
       "      <td>강릉시</td>\n",
       "    </tr>\n",
       "    <tr>\n",
       "      <th>4</th>\n",
       "      <td>c162600</td>\n",
       "      <td>2010-06-14</td>\n",
       "      <td>강원도 속초시 농공단지길</td>\n",
       "      <td>F</td>\n",
       "      <td>1978</td>\n",
       "      <td>강원도</td>\n",
       "      <td>속초시</td>\n",
       "    </tr>\n",
       "  </tbody>\n",
       "</table>\n",
       "</div>"
      ],
      "text/plain": [
       "  CustomerID RegisterDate           Address Gender  BirthYear Addr1 Addr2\n",
       "0    c328222   2014-09-25        강원 원주시 늘품로      F       1960   강원도   원주시\n",
       "1    c281448   2013-06-18        강원 원주시 치악로      F       1974   강원도   원주시\n",
       "2    c038336   2003-10-10      강원 춘천시 서부대성로      F       1968   강원도   춘천시\n",
       "3    c084237   2007-03-09  강원도 강릉시 연곡면 황어대길      F       1982   강원도   강릉시\n",
       "4    c162600   2010-06-14     강원도 속초시 농공단지길      F       1978   강원도   속초시"
      ]
     },
     "execution_count": 3,
     "metadata": {},
     "output_type": "execute_result"
    }
   ],
   "source": [
    "customers = pd.read_csv('https://raw.githubusercontent.com/DA4BAM/dataset/master/customers.csv'\n",
    "                 , sep=',', skipinitialspace=True, encoding='CP949')  \n",
    "customers.head()"
   ]
  },
  {
   "cell_type": "code",
   "execution_count": 4,
   "metadata": {},
   "outputs": [
    {
     "data": {
      "text/html": [
       "<div>\n",
       "<style scoped>\n",
       "    .dataframe tbody tr th:only-of-type {\n",
       "        vertical-align: middle;\n",
       "    }\n",
       "\n",
       "    .dataframe tbody tr th {\n",
       "        vertical-align: top;\n",
       "    }\n",
       "\n",
       "    .dataframe thead th {\n",
       "        text-align: right;\n",
       "    }\n",
       "</style>\n",
       "<table border=\"1\" class=\"dataframe\">\n",
       "  <thead>\n",
       "    <tr style=\"text-align: right;\">\n",
       "      <th></th>\n",
       "      <th>ProductID</th>\n",
       "      <th>ProductName</th>\n",
       "      <th>Category</th>\n",
       "      <th>SubCategory</th>\n",
       "      <th>CategoryOrd</th>\n",
       "    </tr>\n",
       "  </thead>\n",
       "  <tbody>\n",
       "    <tr>\n",
       "      <th>0</th>\n",
       "      <td>p1052661</td>\n",
       "      <td>새우깡</td>\n",
       "      <td>간식</td>\n",
       "      <td>과자</td>\n",
       "      <td>3</td>\n",
       "    </tr>\n",
       "    <tr>\n",
       "      <th>1</th>\n",
       "      <td>p1054261</td>\n",
       "      <td>고구마스틱</td>\n",
       "      <td>간식</td>\n",
       "      <td>과자</td>\n",
       "      <td>3</td>\n",
       "    </tr>\n",
       "    <tr>\n",
       "      <th>2</th>\n",
       "      <td>p1097821</td>\n",
       "      <td>짱구</td>\n",
       "      <td>간식</td>\n",
       "      <td>과자</td>\n",
       "      <td>3</td>\n",
       "    </tr>\n",
       "    <tr>\n",
       "      <th>3</th>\n",
       "      <td>p1097831</td>\n",
       "      <td>감자칩</td>\n",
       "      <td>간식</td>\n",
       "      <td>과자</td>\n",
       "      <td>3</td>\n",
       "    </tr>\n",
       "    <tr>\n",
       "      <th>4</th>\n",
       "      <td>p1119071</td>\n",
       "      <td>뿌셔뿌셔</td>\n",
       "      <td>간식</td>\n",
       "      <td>과자</td>\n",
       "      <td>3</td>\n",
       "    </tr>\n",
       "  </tbody>\n",
       "</table>\n",
       "</div>"
      ],
      "text/plain": [
       "  ProductID ProductName Category SubCategory  CategoryOrd\n",
       "0  p1052661         새우깡       간식          과자            3\n",
       "1  p1054261       고구마스틱       간식          과자            3\n",
       "2  p1097821          짱구       간식          과자            3\n",
       "3  p1097831         감자칩       간식          과자            3\n",
       "4  p1119071        뿌셔뿌셔       간식          과자            3"
      ]
     },
     "execution_count": 4,
     "metadata": {},
     "output_type": "execute_result"
    }
   ],
   "source": [
    "products = pd.read_csv('https://raw.githubusercontent.com/DA4BAM/dataset/master/products.csv'\n",
    "                 , sep=',', skipinitialspace=True, encoding='CP949')  \n",
    "products.head()"
   ]
  },
  {
   "cell_type": "code",
   "execution_count": 5,
   "metadata": {},
   "outputs": [
    {
     "data": {
      "text/html": [
       "<div>\n",
       "<style scoped>\n",
       "    .dataframe tbody tr th:only-of-type {\n",
       "        vertical-align: middle;\n",
       "    }\n",
       "\n",
       "    .dataframe tbody tr th {\n",
       "        vertical-align: top;\n",
       "    }\n",
       "\n",
       "    .dataframe thead th {\n",
       "        text-align: right;\n",
       "    }\n",
       "</style>\n",
       "<table border=\"1\" class=\"dataframe\">\n",
       "  <thead>\n",
       "    <tr style=\"text-align: right;\">\n",
       "      <th></th>\n",
       "      <th>OrderID</th>\n",
       "      <th>Seq</th>\n",
       "      <th>OrderDate</th>\n",
       "      <th>ProductID</th>\n",
       "      <th>Qty</th>\n",
       "      <th>Amt</th>\n",
       "      <th>CustomerID</th>\n",
       "    </tr>\n",
       "  </thead>\n",
       "  <tbody>\n",
       "    <tr>\n",
       "      <th>0</th>\n",
       "      <td>107</td>\n",
       "      <td>2</td>\n",
       "      <td>2016-01-02</td>\n",
       "      <td>p1036481</td>\n",
       "      <td>2</td>\n",
       "      <td>2100</td>\n",
       "      <td>c150417</td>\n",
       "    </tr>\n",
       "    <tr>\n",
       "      <th>1</th>\n",
       "      <td>69</td>\n",
       "      <td>1</td>\n",
       "      <td>2016-01-02</td>\n",
       "      <td>p1152861</td>\n",
       "      <td>1</td>\n",
       "      <td>1091</td>\n",
       "      <td>c212716</td>\n",
       "    </tr>\n",
       "    <tr>\n",
       "      <th>2</th>\n",
       "      <td>69</td>\n",
       "      <td>7</td>\n",
       "      <td>2016-01-02</td>\n",
       "      <td>p1013161</td>\n",
       "      <td>1</td>\n",
       "      <td>2600</td>\n",
       "      <td>c212716</td>\n",
       "    </tr>\n",
       "    <tr>\n",
       "      <th>3</th>\n",
       "      <td>69</td>\n",
       "      <td>8</td>\n",
       "      <td>2016-01-02</td>\n",
       "      <td>p1005771</td>\n",
       "      <td>1</td>\n",
       "      <td>1650</td>\n",
       "      <td>c212716</td>\n",
       "    </tr>\n",
       "    <tr>\n",
       "      <th>4</th>\n",
       "      <td>69</td>\n",
       "      <td>11</td>\n",
       "      <td>2016-01-02</td>\n",
       "      <td>p1089531</td>\n",
       "      <td>1</td>\n",
       "      <td>2600</td>\n",
       "      <td>c212716</td>\n",
       "    </tr>\n",
       "  </tbody>\n",
       "</table>\n",
       "</div>"
      ],
      "text/plain": [
       "   OrderID  Seq   OrderDate ProductID  Qty   Amt CustomerID\n",
       "0      107    2  2016-01-02  p1036481    2  2100    c150417\n",
       "1       69    1  2016-01-02  p1152861    1  1091    c212716\n",
       "2       69    7  2016-01-02  p1013161    1  2600    c212716\n",
       "3       69    8  2016-01-02  p1005771    1  1650    c212716\n",
       "4       69   11  2016-01-02  p1089531    1  2600    c212716"
      ]
     },
     "execution_count": 5,
     "metadata": {},
     "output_type": "execute_result"
    }
   ],
   "source": [
    "sales = pd.read_csv('https://raw.githubusercontent.com/DA4BAM/dataset/master/sales.csv'\n",
    "                 , sep=',', skipinitialspace=True, encoding='CP949')  \n",
    "sales.head()"
   ]
  },
  {
   "cell_type": "code",
   "execution_count": null,
   "metadata": {},
   "outputs": [],
   "source": []
  },
  {
   "cell_type": "code",
   "execution_count": 6,
   "metadata": {},
   "outputs": [],
   "source": [
    "sales['OrderDate'] = pd.to_datetime(sales['OrderDate']) \n",
    "customers['RegisterDate'] = pd.to_datetime(customers['RegisterDate']) "
   ]
  },
  {
   "cell_type": "code",
   "execution_count": 7,
   "metadata": {},
   "outputs": [
    {
     "name": "stdout",
     "output_type": "stream",
     "text": [
      "(2243, 7)\n",
      "(62, 5)\n",
      "(70012, 7)\n"
     ]
    }
   ],
   "source": [
    "print(customers.shape)\n",
    "print(products.shape)\n",
    "print(sales.shape)"
   ]
  },
  {
   "cell_type": "markdown",
   "metadata": {},
   "source": [
    "**데이터 탐색은 3.데이터 준비 단계 후에 진행해 봅시다.**"
   ]
  },
  {
   "cell_type": "markdown",
   "metadata": {},
   "source": [
    "###  문제 2. 데이터 살펴보기"
   ]
  },
  {
   "cell_type": "markdown",
   "metadata": {},
   "source": [
    "2-1) 2016년 월별 매출액은?"
   ]
  },
  {
   "cell_type": "code",
   "execution_count": 8,
   "metadata": {},
   "outputs": [],
   "source": [
    "sales['year'] = pd.to_datetime(sales['OrderDate']).dt.year\n",
    "sales['month'] = pd.to_datetime(sales['OrderDate']).dt.month\n",
    "sales['day'] = pd.to_datetime(sales['OrderDate']).dt.day"
   ]
  },
  {
   "cell_type": "code",
   "execution_count": 9,
   "metadata": {},
   "outputs": [
    {
     "data": {
      "text/html": [
       "<div>\n",
       "<style scoped>\n",
       "    .dataframe tbody tr th:only-of-type {\n",
       "        vertical-align: middle;\n",
       "    }\n",
       "\n",
       "    .dataframe tbody tr th {\n",
       "        vertical-align: top;\n",
       "    }\n",
       "\n",
       "    .dataframe thead th {\n",
       "        text-align: right;\n",
       "    }\n",
       "</style>\n",
       "<table border=\"1\" class=\"dataframe\">\n",
       "  <thead>\n",
       "    <tr style=\"text-align: right;\">\n",
       "      <th></th>\n",
       "      <th>month</th>\n",
       "      <th>Amt</th>\n",
       "    </tr>\n",
       "  </thead>\n",
       "  <tbody>\n",
       "    <tr>\n",
       "      <th>0</th>\n",
       "      <td>1</td>\n",
       "      <td>14209990</td>\n",
       "    </tr>\n",
       "    <tr>\n",
       "      <th>1</th>\n",
       "      <td>2</td>\n",
       "      <td>14367451</td>\n",
       "    </tr>\n",
       "    <tr>\n",
       "      <th>2</th>\n",
       "      <td>3</td>\n",
       "      <td>17111120</td>\n",
       "    </tr>\n",
       "    <tr>\n",
       "      <th>3</th>\n",
       "      <td>4</td>\n",
       "      <td>15129917</td>\n",
       "    </tr>\n",
       "    <tr>\n",
       "      <th>4</th>\n",
       "      <td>5</td>\n",
       "      <td>13976941</td>\n",
       "    </tr>\n",
       "    <tr>\n",
       "      <th>5</th>\n",
       "      <td>6</td>\n",
       "      <td>13113610</td>\n",
       "    </tr>\n",
       "    <tr>\n",
       "      <th>6</th>\n",
       "      <td>7</td>\n",
       "      <td>10717743</td>\n",
       "    </tr>\n",
       "    <tr>\n",
       "      <th>7</th>\n",
       "      <td>8</td>\n",
       "      <td>10176702</td>\n",
       "    </tr>\n",
       "    <tr>\n",
       "      <th>8</th>\n",
       "      <td>9</td>\n",
       "      <td>10496653</td>\n",
       "    </tr>\n",
       "    <tr>\n",
       "      <th>9</th>\n",
       "      <td>10</td>\n",
       "      <td>10003648</td>\n",
       "    </tr>\n",
       "    <tr>\n",
       "      <th>10</th>\n",
       "      <td>11</td>\n",
       "      <td>9767765</td>\n",
       "    </tr>\n",
       "    <tr>\n",
       "      <th>11</th>\n",
       "      <td>12</td>\n",
       "      <td>13061191</td>\n",
       "    </tr>\n",
       "  </tbody>\n",
       "</table>\n",
       "</div>"
      ],
      "text/plain": [
       "    month       Amt\n",
       "0       1  14209990\n",
       "1       2  14367451\n",
       "2       3  17111120\n",
       "3       4  15129917\n",
       "4       5  13976941\n",
       "5       6  13113610\n",
       "6       7  10717743\n",
       "7       8  10176702\n",
       "8       9  10496653\n",
       "9      10  10003648\n",
       "10     11   9767765\n",
       "11     12  13061191"
      ]
     },
     "execution_count": 9,
     "metadata": {},
     "output_type": "execute_result"
    }
   ],
   "source": [
    "sales_2016 = sales.loc[sales.year == 2016]\n",
    "monthly_Amt_2016 = sales_2016.groupby('month').Amt.sum().reset_index()\n",
    "monthly_Amt_2016.columns = ['month', 'Amt']\n",
    "monthly_Amt_2016"
   ]
  },
  {
   "cell_type": "code",
   "execution_count": null,
   "metadata": {},
   "outputs": [],
   "source": []
  },
  {
   "cell_type": "markdown",
   "metadata": {},
   "source": [
    "2-2) 총 가입고객수는?"
   ]
  },
  {
   "cell_type": "code",
   "execution_count": 10,
   "metadata": {},
   "outputs": [
    {
     "data": {
      "text/plain": [
       "2243"
      ]
     },
     "execution_count": 10,
     "metadata": {},
     "output_type": "execute_result"
    }
   ],
   "source": [
    "customers['CustomerID'].nunique()"
   ]
  },
  {
   "cell_type": "code",
   "execution_count": null,
   "metadata": {},
   "outputs": [],
   "source": []
  },
  {
   "cell_type": "code",
   "execution_count": null,
   "metadata": {},
   "outputs": [],
   "source": []
  },
  {
   "cell_type": "markdown",
   "metadata": {},
   "source": [
    "2-3) 2015~2016에 가입한 고객은 총 몇명인가?"
   ]
  },
  {
   "cell_type": "code",
   "execution_count": 11,
   "metadata": {},
   "outputs": [],
   "source": [
    "customers['RegisterDate'] = pd.to_datetime(customers['RegisterDate'] )"
   ]
  },
  {
   "cell_type": "code",
   "execution_count": 12,
   "metadata": {},
   "outputs": [],
   "source": [
    "regit_201516 = customers.loc[(customers['RegisterDate'].dt.year==2015) | (customers['RegisterDate'].dt.year==2016) ]"
   ]
  },
  {
   "cell_type": "code",
   "execution_count": 13,
   "metadata": {},
   "outputs": [
    {
     "data": {
      "text/plain": [
       "485"
      ]
     },
     "execution_count": 13,
     "metadata": {},
     "output_type": "execute_result"
    }
   ],
   "source": [
    "regit_201516.CustomerID.nunique()"
   ]
  },
  {
   "cell_type": "markdown",
   "metadata": {},
   "source": [
    "2-4) 2016년 하반기에 구매한 적이 있는 고객의 수는?"
   ]
  },
  {
   "cell_type": "code",
   "execution_count": 14,
   "metadata": {},
   "outputs": [
    {
     "data": {
      "text/plain": [
       "2112"
      ]
     },
     "execution_count": 14,
     "metadata": {},
     "output_type": "execute_result"
    }
   ],
   "source": [
    "ex = sales.loc[(sales['year']==2016) | (sales['month']>=7) ]\n",
    "ex.CustomerID.nunique()"
   ]
  },
  {
   "cell_type": "code",
   "execution_count": null,
   "metadata": {},
   "outputs": [],
   "source": []
  },
  {
   "cell_type": "code",
   "execution_count": 15,
   "metadata": {},
   "outputs": [],
   "source": [
    "sales = sales.merge(products, on = 'ProductID', how = 'left')"
   ]
  },
  {
   "cell_type": "raw",
   "metadata": {},
   "source": [
    "2-5) 위에서 조회한 내용이 아닌 가설과 관련된 요인에 대해서 두가지를 조회하시오. \n",
    "가설의 내용을 그대로 조회하면 좋지만, 가설에 포함된 요인을 다양한 조건으로 조회해 보면 됩니다."
   ]
  },
  {
   "cell_type": "code",
   "execution_count": 16,
   "metadata": {},
   "outputs": [
    {
     "data": {
      "image/png": "[encoded data removed]",
      "text/plain": [
       "<Figure size 640x480 with 1 Axes>"
      ]
     },
     "metadata": {
      "needs_background": "light"
     },
     "output_type": "display_data"
    },
    {
     "name": "stdout",
     "output_type": "stream",
     "text": [
      "<ggplot: (7544909439)>\n"
     ]
    }
   ],
   "source": [
    "# 가설 1. 반찬과 같이 유통기한이 짧고 즉시 사용되는 카테고리의 경우 연중 고르게 판매가 이루어질 것이다.\n",
    "\n",
    "# 접근 방법\n",
    "###########################\n",
    "# 1) 2016년 월별, 카테고리의 판매 갯수를 추출\n",
    "# 2) 1) 내용을 월별 line chart로 구현\n",
    "###########################\n",
    "\n",
    "sales2016 = sales.loc[sales['year']==2016]\n",
    "ex = sales2016.groupby(['month','Category']).size().reset_index()\n",
    "ex.columns = ['month', 'Category', 'cnt']\n",
    "p = (ggplot(ex, aes('factor(month)', 'cnt', group = 'Category', fill ='Category', color ='Category' )) + \n",
    "     geom_line() + geom_point() + theme_minimal() + ggtitle('x = month, y = size, group = category'))\n",
    "print(p)"
   ]
  },
  {
   "cell_type": "markdown",
   "metadata": {},
   "source": [
    "- 반찬(초록색 라인)의 경우 연중 일정하게 구매가 이루어지는 편이며, 간식(빨간색 라인)또한 월별로 판매가 꾸준히 이루어짐\n",
    "- 유제품(파란색 라인)이 여름 이후 급속도로 구매가 급감했으며, 이는 아이스크림 등의 계절성 판매가 반영된것으로 추정\n",
    "- (한글이 깨져서... 가독성이 떨어지는점 죄송합니다)"
   ]
  },
  {
   "cell_type": "code",
   "execution_count": null,
   "metadata": {},
   "outputs": [],
   "source": []
  },
  {
   "cell_type": "code",
   "execution_count": 17,
   "metadata": {},
   "outputs": [],
   "source": [
    "# 가설 2. (구매 횟수 / 가입일로부터 시간)이 큰 고객일수록 이탈할 가능성이 낮은 충성 고객일 것이다.(향후에도 구매가 많을 것이다)  \n",
    "\n",
    "# 접근 방법\n",
    "######################################################################\n",
    "# 1) 2016년 상반기 구매 데이터만 추출하고, 고객별로 구매 횟수를 구함\n",
    "# 2) 2016년 6월 30일 기준으로 가입 시점 대비 며칠이 경과하였는지를 구하는 컬럼 제작\n",
    "# 3) 1)에서 2)을 나눈 값을 cnt_per_days로 저장 (이 값이 클수록 잦은 빈도로 구매했을 가능성이 있음)\n",
    "#    ==> 고객이 1회에 다수의 제품을 구입한 경우도 있을 수 있지만, 일단 현 가설에서는 해당 경우는 제외\n",
    "# 4) 위 1)~3)을 수행하게 된 대상 customerID를 바탕으로 2016년 하반기 구매 횟수를 구함\n",
    "# 3)과 4)의 scatter plot을 제작하여 상관관계를 파악\n",
    "######################################################################"
   ]
  },
  {
   "cell_type": "code",
   "execution_count": 18,
   "metadata": {},
   "outputs": [],
   "source": [
    "sales2016_half = sales.loc[(sales['year']==2016) & (sales['month']<=6) ]\n",
    "ex = sales2016_half.groupby('CustomerID').size().reset_index()\n",
    "ex.columns = ['CustomerID', 'cnt_2016_half']"
   ]
  },
  {
   "cell_type": "code",
   "execution_count": 19,
   "metadata": {},
   "outputs": [],
   "source": [
    "from datetime import datetime\n",
    "then = datetime(2016, 6, 30)"
   ]
  },
  {
   "cell_type": "code",
   "execution_count": 20,
   "metadata": {},
   "outputs": [],
   "source": [
    "ex2 = customers.merge(ex, on = 'CustomerID', how = 'right')\n",
    "ex2['time_diff'] = ((then - ex2['RegisterDate']) / pd.Timedelta(1, unit='d'))"
   ]
  },
  {
   "cell_type": "code",
   "execution_count": 21,
   "metadata": {},
   "outputs": [],
   "source": [
    "ex2['cnt_per_days'] = ex2['cnt_2016_half'] / ex2['time_diff']"
   ]
  },
  {
   "cell_type": "code",
   "execution_count": 22,
   "metadata": {},
   "outputs": [],
   "source": [
    "cusid = ex2['CustomerID'].unique()\n",
    "sales2016_last = sales.loc[((sales['year']==2016) & (sales['month']<=6)) & (sales['CustomerID'].isin(cusid)) ]"
   ]
  },
  {
   "cell_type": "code",
   "execution_count": 23,
   "metadata": {},
   "outputs": [],
   "source": [
    "ex3 = sales2016_last.groupby('CustomerID').size().reset_index()\n",
    "ex3.columns = ['CustomerID', 'cnt_2016_last']"
   ]
  },
  {
   "cell_type": "code",
   "execution_count": 24,
   "metadata": {},
   "outputs": [],
   "source": [
    "ex2 = ex2.merge(ex3, on = 'CustomerID', how = 'left')"
   ]
  },
  {
   "cell_type": "code",
   "execution_count": 25,
   "metadata": {},
   "outputs": [
    {
     "data": {
      "image/png": "[encoded data removed]",
      "text/plain": [
       "<Figure size 640x480 with 1 Axes>"
      ]
     },
     "metadata": {
      "needs_background": "light"
     },
     "output_type": "display_data"
    },
    {
     "name": "stdout",
     "output_type": "stream",
     "text": [
      "<ggplot: (-9223372029309439274)>\n",
      "0.5730228680170394\n"
     ]
    }
   ],
   "source": [
    "temp = ex2.loc[ex2['cnt_per_days']<0.1] # 일부 아웃라이어들로 인해 그래프 가독성이 떨어지는 관계로 0.1 미만 데이터만 subset\n",
    "p = ggplot(temp, aes('cnt_per_days', 'cnt_2016_last')) + geom_point(alpha = 0.5) + theme_minimal()\n",
    "print(p)\n",
    "print(np.corrcoef(temp['cnt_per_days'], temp['cnt_2016_last'])[0][1])"
   ]
  },
  {
   "cell_type": "markdown",
   "metadata": {},
   "source": [
    "- 2016년 상반기 cnt_per_days(구매 횟수를 가입후 경과기간으로 나눈 값)이 커질수록 2016년 하반기 구매 횟수가 커지는 경향을 보임"
   ]
  },
  {
   "cell_type": "markdown",
   "metadata": {},
   "source": [
    "## 3. 데이터 준비(Preprocessing)"
   ]
  },
  {
   "cell_type": "markdown",
   "metadata": {},
   "source": [
    "### 문제 3. Labeling"
   ]
  },
  {
   "cell_type": "markdown",
   "metadata": {},
   "source": [
    "우리는 고객이 이탈할 것인지 사전에 예측하는 모델을 만들고자 한다.  \n",
    "그렇다면 고객의 이탈을 어떻게 정의할 것인가?  "
   ]
  },
  {
   "cell_type": "markdown",
   "metadata": {},
   "source": [
    "* 2016년12월말 기준\n",
    "* 이후 3개월 방문 안한 사람을 이탈로 보자.\n",
    "* 관심있는 고객은 \n",
    "    - 2015~2016년 신규 가입 고객 이면서,\n",
    "    - 2016년 하반기에 한번 이상 방문한 고객\n"
   ]
  },
  {
   "cell_type": "markdown",
   "metadata": {},
   "source": [
    "3-1) 고객ID 조회 : \n",
    "    - 2016년 하반기에 한번 이상 방문한 고객 중 2015~2016년 신규 가입 고객을 조회하시오.\n",
    "    \n",
    "    * .between(     )\n",
    "    * .drop_duplications()"
   ]
  },
  {
   "cell_type": "code",
   "execution_count": 26,
   "metadata": {},
   "outputs": [
    {
     "name": "stdout",
     "output_type": "stream",
     "text": [
      "1711\n",
      "485\n"
     ]
    }
   ],
   "source": [
    "# 2016년 하반기에 한 번 이상 방문한 고객들의 unique id\n",
    "ex = sales.loc[(sales['year']==2016) & (sales['month']>=7) ]\n",
    "user_id1 = ex.CustomerID.unique()\n",
    "\n",
    "# 2015~2016년 신규 가입 고객 \n",
    "regit_201516 = customers.loc[(customers['RegisterDate'].dt.year==2015) | (customers['RegisterDate'].dt.year==2016) ]\n",
    "user_id2 = regit_201516.CustomerID.unique()\n",
    "\n",
    "target_user = list(set(user_id1) & set(user_id2))\n",
    "print(len(user_id1))\n",
    "print(len(user_id2))"
   ]
  },
  {
   "cell_type": "code",
   "execution_count": 27,
   "metadata": {},
   "outputs": [
    {
     "data": {
      "text/plain": [
       "354"
      ]
     },
     "execution_count": 27,
     "metadata": {},
     "output_type": "execute_result"
    }
   ],
   "source": [
    "len(target_user) # 총 463명의 유저가 우리가 보고자 하는 고객"
   ]
  },
  {
   "cell_type": "code",
   "execution_count": null,
   "metadata": {},
   "outputs": [],
   "source": []
  },
  {
   "cell_type": "code",
   "execution_count": 28,
   "metadata": {},
   "outputs": [
    {
     "data": {
      "text/html": [
       "<div>\n",
       "<style scoped>\n",
       "    .dataframe tbody tr th:only-of-type {\n",
       "        vertical-align: middle;\n",
       "    }\n",
       "\n",
       "    .dataframe tbody tr th {\n",
       "        vertical-align: top;\n",
       "    }\n",
       "\n",
       "    .dataframe thead th {\n",
       "        text-align: right;\n",
       "    }\n",
       "</style>\n",
       "<table border=\"1\" class=\"dataframe\">\n",
       "  <thead>\n",
       "    <tr style=\"text-align: right;\">\n",
       "      <th></th>\n",
       "      <th>OrderID</th>\n",
       "      <th>Seq</th>\n",
       "      <th>OrderDate</th>\n",
       "      <th>ProductID</th>\n",
       "      <th>Qty</th>\n",
       "      <th>Amt</th>\n",
       "      <th>CustomerID</th>\n",
       "      <th>year</th>\n",
       "      <th>month</th>\n",
       "      <th>day</th>\n",
       "      <th>ProductName</th>\n",
       "      <th>Category</th>\n",
       "      <th>SubCategory</th>\n",
       "      <th>CategoryOrd</th>\n",
       "    </tr>\n",
       "  </thead>\n",
       "  <tbody>\n",
       "    <tr>\n",
       "      <th>0</th>\n",
       "      <td>107</td>\n",
       "      <td>2</td>\n",
       "      <td>2016-01-02</td>\n",
       "      <td>p1036481</td>\n",
       "      <td>2</td>\n",
       "      <td>2100</td>\n",
       "      <td>c150417</td>\n",
       "      <td>2016</td>\n",
       "      <td>1</td>\n",
       "      <td>2</td>\n",
       "      <td>순두부</td>\n",
       "      <td>반찬류</td>\n",
       "      <td>두부</td>\n",
       "      <td>1</td>\n",
       "    </tr>\n",
       "    <tr>\n",
       "      <th>1</th>\n",
       "      <td>69</td>\n",
       "      <td>1</td>\n",
       "      <td>2016-01-02</td>\n",
       "      <td>p1152861</td>\n",
       "      <td>1</td>\n",
       "      <td>1091</td>\n",
       "      <td>c212716</td>\n",
       "      <td>2016</td>\n",
       "      <td>1</td>\n",
       "      <td>2</td>\n",
       "      <td>포토아이스크림</td>\n",
       "      <td>유제품</td>\n",
       "      <td>아이스크림</td>\n",
       "      <td>4</td>\n",
       "    </tr>\n",
       "    <tr>\n",
       "      <th>2</th>\n",
       "      <td>69</td>\n",
       "      <td>7</td>\n",
       "      <td>2016-01-02</td>\n",
       "      <td>p1013161</td>\n",
       "      <td>1</td>\n",
       "      <td>2600</td>\n",
       "      <td>c212716</td>\n",
       "      <td>2016</td>\n",
       "      <td>1</td>\n",
       "      <td>2</td>\n",
       "      <td>느타리버섯</td>\n",
       "      <td>채소</td>\n",
       "      <td>버섯</td>\n",
       "      <td>5</td>\n",
       "    </tr>\n",
       "    <tr>\n",
       "      <th>3</th>\n",
       "      <td>69</td>\n",
       "      <td>8</td>\n",
       "      <td>2016-01-02</td>\n",
       "      <td>p1005771</td>\n",
       "      <td>1</td>\n",
       "      <td>1650</td>\n",
       "      <td>c212716</td>\n",
       "      <td>2016</td>\n",
       "      <td>1</td>\n",
       "      <td>2</td>\n",
       "      <td>두부_소</td>\n",
       "      <td>반찬류</td>\n",
       "      <td>두부</td>\n",
       "      <td>1</td>\n",
       "    </tr>\n",
       "    <tr>\n",
       "      <th>4</th>\n",
       "      <td>69</td>\n",
       "      <td>11</td>\n",
       "      <td>2016-01-02</td>\n",
       "      <td>p1089531</td>\n",
       "      <td>1</td>\n",
       "      <td>2600</td>\n",
       "      <td>c212716</td>\n",
       "      <td>2016</td>\n",
       "      <td>1</td>\n",
       "      <td>2</td>\n",
       "      <td>감자칩</td>\n",
       "      <td>채소</td>\n",
       "      <td>뿌리채소</td>\n",
       "      <td>5</td>\n",
       "    </tr>\n",
       "  </tbody>\n",
       "</table>\n",
       "</div>"
      ],
      "text/plain": [
       "   OrderID  Seq  OrderDate ProductID  Qty   Amt CustomerID  year  month  day  \\\n",
       "0      107    2 2016-01-02  p1036481    2  2100    c150417  2016      1    2   \n",
       "1       69    1 2016-01-02  p1152861    1  1091    c212716  2016      1    2   \n",
       "2       69    7 2016-01-02  p1013161    1  2600    c212716  2016      1    2   \n",
       "3       69    8 2016-01-02  p1005771    1  1650    c212716  2016      1    2   \n",
       "4       69   11 2016-01-02  p1089531    1  2600    c212716  2016      1    2   \n",
       "\n",
       "  ProductName Category SubCategory  CategoryOrd  \n",
       "0         순두부      반찬류          두부            1  \n",
       "1     포토아이스크림      유제품       아이스크림            4  \n",
       "2       느타리버섯       채소          버섯            5  \n",
       "3        두부_소      반찬류          두부            1  \n",
       "4         감자칩       채소        뿌리채소            5  "
      ]
     },
     "execution_count": 28,
     "metadata": {},
     "output_type": "execute_result"
    }
   ],
   "source": [
    "sales.head()"
   ]
  },
  {
   "cell_type": "code",
   "execution_count": null,
   "metadata": {},
   "outputs": [],
   "source": []
  },
  {
   "cell_type": "code",
   "execution_count": null,
   "metadata": {},
   "outputs": [],
   "source": []
  },
  {
   "cell_type": "code",
   "execution_count": null,
   "metadata": {},
   "outputs": [],
   "source": []
  },
  {
   "cell_type": "markdown",
   "metadata": {},
   "source": [
    "3-2) 3-1)의 결과에 해당하는 고객ID 별로 2017년 1~3월 방문 여부(이탈여부) 데이터프레임 만들기\n",
    "    - 고객ID\n",
    "    - 이탈여부 : (주의)변수 이름을 반드시 Churn 으로 만들어 주세요. 1이 이탈, 0은 잔류 입니다.\n"
   ]
  },
  {
   "cell_type": "code",
   "execution_count": 29,
   "metadata": {},
   "outputs": [],
   "source": [
    "ex = sales.loc[(sales['year']==2017) & (sales['month']<=3) ]\n",
    "user_id_2017 = ex.CustomerID.unique() # 2017년 구매를 한 고객들의 unique 데이터"
   ]
  },
  {
   "cell_type": "code",
   "execution_count": 30,
   "metadata": {},
   "outputs": [
    {
     "data": {
      "text/plain": [
       "1388"
      ]
     },
     "execution_count": 30,
     "metadata": {},
     "output_type": "execute_result"
    }
   ],
   "source": [
    "len(user_id_2017)"
   ]
  },
  {
   "cell_type": "code",
   "execution_count": 31,
   "metadata": {},
   "outputs": [],
   "source": [
    "target_0_user = list(set(target_user) & set(user_id_2017)) # 2017년 구매를 한 데이터들이므로 잔존유저\n",
    "target_1_user = list(set(target_user) - set(target_0_user)) #  나머지 데이터는 이탈 유저"
   ]
  },
  {
   "cell_type": "code",
   "execution_count": 32,
   "metadata": {},
   "outputs": [
    {
     "name": "stdout",
     "output_type": "stream",
     "text": [
      "226\n",
      "128\n"
     ]
    }
   ],
   "source": [
    "print(len(target_0_user))\n",
    "print(len(target_1_user))"
   ]
  },
  {
   "cell_type": "code",
   "execution_count": 33,
   "metadata": {},
   "outputs": [],
   "source": [
    "target0 = pd.DataFrame(target_0_user, columns = ['CustomerID'] ).reset_index(drop = True)\n",
    "target0['Churn'] = 0\n",
    "target1 = pd.DataFrame(target_1_user, columns = ['CustomerID'] ).reset_index(drop = True)\n",
    "target1['Churn'] = 1\n",
    "\n",
    "target_id = pd.concat([target0, target1]).reset_index(drop = True)"
   ]
  },
  {
   "cell_type": "code",
   "execution_count": 34,
   "metadata": {},
   "outputs": [
    {
     "data": {
      "text/html": [
       "<div>\n",
       "<style scoped>\n",
       "    .dataframe tbody tr th:only-of-type {\n",
       "        vertical-align: middle;\n",
       "    }\n",
       "\n",
       "    .dataframe tbody tr th {\n",
       "        vertical-align: top;\n",
       "    }\n",
       "\n",
       "    .dataframe thead th {\n",
       "        text-align: right;\n",
       "    }\n",
       "</style>\n",
       "<table border=\"1\" class=\"dataframe\">\n",
       "  <thead>\n",
       "    <tr style=\"text-align: right;\">\n",
       "      <th></th>\n",
       "      <th>CustomerID</th>\n",
       "      <th>Churn</th>\n",
       "    </tr>\n",
       "  </thead>\n",
       "  <tbody>\n",
       "    <tr>\n",
       "      <th>0</th>\n",
       "      <td>c348709</td>\n",
       "      <td>0</td>\n",
       "    </tr>\n",
       "    <tr>\n",
       "      <th>1</th>\n",
       "      <td>c354434</td>\n",
       "      <td>0</td>\n",
       "    </tr>\n",
       "    <tr>\n",
       "      <th>2</th>\n",
       "      <td>c383761</td>\n",
       "      <td>0</td>\n",
       "    </tr>\n",
       "    <tr>\n",
       "      <th>3</th>\n",
       "      <td>c352409</td>\n",
       "      <td>0</td>\n",
       "    </tr>\n",
       "    <tr>\n",
       "      <th>4</th>\n",
       "      <td>c385259</td>\n",
       "      <td>0</td>\n",
       "    </tr>\n",
       "    <tr>\n",
       "      <th>...</th>\n",
       "      <td>...</td>\n",
       "      <td>...</td>\n",
       "    </tr>\n",
       "    <tr>\n",
       "      <th>349</th>\n",
       "      <td>c372227</td>\n",
       "      <td>1</td>\n",
       "    </tr>\n",
       "    <tr>\n",
       "      <th>350</th>\n",
       "      <td>c370258</td>\n",
       "      <td>1</td>\n",
       "    </tr>\n",
       "    <tr>\n",
       "      <th>351</th>\n",
       "      <td>c360613</td>\n",
       "      <td>1</td>\n",
       "    </tr>\n",
       "    <tr>\n",
       "      <th>352</th>\n",
       "      <td>c394007</td>\n",
       "      <td>1</td>\n",
       "    </tr>\n",
       "    <tr>\n",
       "      <th>353</th>\n",
       "      <td>c387126</td>\n",
       "      <td>1</td>\n",
       "    </tr>\n",
       "  </tbody>\n",
       "</table>\n",
       "<p>354 rows × 2 columns</p>\n",
       "</div>"
      ],
      "text/plain": [
       "    CustomerID  Churn\n",
       "0      c348709      0\n",
       "1      c354434      0\n",
       "2      c383761      0\n",
       "3      c352409      0\n",
       "4      c385259      0\n",
       "..         ...    ...\n",
       "349    c372227      1\n",
       "350    c370258      1\n",
       "351    c360613      1\n",
       "352    c394007      1\n",
       "353    c387126      1\n",
       "\n",
       "[354 rows x 2 columns]"
      ]
     },
     "execution_count": 34,
     "metadata": {},
     "output_type": "execute_result"
    }
   ],
   "source": [
    "target_id # 최종 대상 고객들을 담은 dataframe"
   ]
  },
  {
   "cell_type": "code",
   "execution_count": 35,
   "metadata": {},
   "outputs": [],
   "source": [
    "# target 데이터만 존재하는 customer, sales 데이터 추출\n",
    "# customers_2 = customers.merge(target_id, on = 'CustomerID')\n",
    "# sales_2 = sales.merge(target_id, on = 'CustomerID')"
   ]
  },
  {
   "cell_type": "code",
   "execution_count": 36,
   "metadata": {},
   "outputs": [],
   "source": [
    "#customers_2.head()"
   ]
  },
  {
   "cell_type": "markdown",
   "metadata": {},
   "source": [
    "# 여기까지 수행 후 1차 제출합니다.\n",
    "여기까지 수행한 후 파일이름 뒤에 **_자신의이름**  을 붙여서 제출합니다.  _\n",
    "\n",
    "같이 풀이후, 정답을 제공받아서 다음을 진행합니다.\n"
   ]
  },
  {
   "cell_type": "code",
   "execution_count": 37,
   "metadata": {},
   "outputs": [],
   "source": [
    "customer_churn = target_id"
   ]
  },
  {
   "cell_type": "markdown",
   "metadata": {},
   "source": []
  },
  {
   "cell_type": "markdown",
   "metadata": {},
   "source": [
    "# 2단계 : 변수 추가 ~ 모델링까지!"
   ]
  },
  {
   "cell_type": "markdown",
   "metadata": {},
   "source": [
    "### 문제 4. 변수 추가하기"
   ]
  },
  {
   "cell_type": "markdown",
   "metadata": {},
   "source": [
    "문제 1에서 도출된 요인들을 변수로 만들기  \n",
    "**3-2) 문제 결과에 변수들을 추가합니다.**\n",
    "\n",
    "아래 문제들을 풀고, 여러분의 변수들을 추가해 봅시다.\n",
    "\n",
    "현재를 2016년12월31일로 간주합니다."
   ]
  },
  {
   "cell_type": "markdown",
   "metadata": {},
   "source": [
    "4-1) 성별, 나이 추가하기  "
   ]
  },
  {
   "cell_type": "code",
   "execution_count": 38,
   "metadata": {},
   "outputs": [
    {
     "data": {
      "text/html": [
       "<div>\n",
       "<style scoped>\n",
       "    .dataframe tbody tr th:only-of-type {\n",
       "        vertical-align: middle;\n",
       "    }\n",
       "\n",
       "    .dataframe tbody tr th {\n",
       "        vertical-align: top;\n",
       "    }\n",
       "\n",
       "    .dataframe thead th {\n",
       "        text-align: right;\n",
       "    }\n",
       "</style>\n",
       "<table border=\"1\" class=\"dataframe\">\n",
       "  <thead>\n",
       "    <tr style=\"text-align: right;\">\n",
       "      <th></th>\n",
       "      <th>CustomerID</th>\n",
       "      <th>RegisterDate</th>\n",
       "      <th>Address</th>\n",
       "      <th>Gender</th>\n",
       "      <th>BirthYear</th>\n",
       "      <th>Addr1</th>\n",
       "      <th>Addr2</th>\n",
       "    </tr>\n",
       "  </thead>\n",
       "  <tbody>\n",
       "    <tr>\n",
       "      <th>0</th>\n",
       "      <td>c328222</td>\n",
       "      <td>2014-09-25</td>\n",
       "      <td>강원 원주시 늘품로</td>\n",
       "      <td>F</td>\n",
       "      <td>1960</td>\n",
       "      <td>강원도</td>\n",
       "      <td>원주시</td>\n",
       "    </tr>\n",
       "    <tr>\n",
       "      <th>1</th>\n",
       "      <td>c281448</td>\n",
       "      <td>2013-06-18</td>\n",
       "      <td>강원 원주시 치악로</td>\n",
       "      <td>F</td>\n",
       "      <td>1974</td>\n",
       "      <td>강원도</td>\n",
       "      <td>원주시</td>\n",
       "    </tr>\n",
       "    <tr>\n",
       "      <th>2</th>\n",
       "      <td>c038336</td>\n",
       "      <td>2003-10-10</td>\n",
       "      <td>강원 춘천시 서부대성로</td>\n",
       "      <td>F</td>\n",
       "      <td>1968</td>\n",
       "      <td>강원도</td>\n",
       "      <td>춘천시</td>\n",
       "    </tr>\n",
       "    <tr>\n",
       "      <th>3</th>\n",
       "      <td>c084237</td>\n",
       "      <td>2007-03-09</td>\n",
       "      <td>강원도 강릉시 연곡면 황어대길</td>\n",
       "      <td>F</td>\n",
       "      <td>1982</td>\n",
       "      <td>강원도</td>\n",
       "      <td>강릉시</td>\n",
       "    </tr>\n",
       "    <tr>\n",
       "      <th>4</th>\n",
       "      <td>c162600</td>\n",
       "      <td>2010-06-14</td>\n",
       "      <td>강원도 속초시 농공단지길</td>\n",
       "      <td>F</td>\n",
       "      <td>1978</td>\n",
       "      <td>강원도</td>\n",
       "      <td>속초시</td>\n",
       "    </tr>\n",
       "  </tbody>\n",
       "</table>\n",
       "</div>"
      ],
      "text/plain": [
       "  CustomerID RegisterDate           Address Gender  BirthYear Addr1 Addr2\n",
       "0    c328222   2014-09-25        강원 원주시 늘품로      F       1960   강원도   원주시\n",
       "1    c281448   2013-06-18        강원 원주시 치악로      F       1974   강원도   원주시\n",
       "2    c038336   2003-10-10      강원 춘천시 서부대성로      F       1968   강원도   춘천시\n",
       "3    c084237   2007-03-09  강원도 강릉시 연곡면 황어대길      F       1982   강원도   강릉시\n",
       "4    c162600   2010-06-14     강원도 속초시 농공단지길      F       1978   강원도   속초시"
      ]
     },
     "execution_count": 38,
     "metadata": {},
     "output_type": "execute_result"
    }
   ],
   "source": [
    "customers.head()"
   ]
  },
  {
   "cell_type": "code",
   "execution_count": 39,
   "metadata": {},
   "outputs": [
    {
     "data": {
      "text/html": [
       "<div>\n",
       "<style scoped>\n",
       "    .dataframe tbody tr th:only-of-type {\n",
       "        vertical-align: middle;\n",
       "    }\n",
       "\n",
       "    .dataframe tbody tr th {\n",
       "        vertical-align: top;\n",
       "    }\n",
       "\n",
       "    .dataframe thead th {\n",
       "        text-align: right;\n",
       "    }\n",
       "</style>\n",
       "<table border=\"1\" class=\"dataframe\">\n",
       "  <thead>\n",
       "    <tr style=\"text-align: right;\">\n",
       "      <th></th>\n",
       "      <th>CustomerID</th>\n",
       "      <th>Churn</th>\n",
       "    </tr>\n",
       "  </thead>\n",
       "  <tbody>\n",
       "    <tr>\n",
       "      <th>0</th>\n",
       "      <td>c348709</td>\n",
       "      <td>0</td>\n",
       "    </tr>\n",
       "    <tr>\n",
       "      <th>1</th>\n",
       "      <td>c354434</td>\n",
       "      <td>0</td>\n",
       "    </tr>\n",
       "    <tr>\n",
       "      <th>2</th>\n",
       "      <td>c383761</td>\n",
       "      <td>0</td>\n",
       "    </tr>\n",
       "    <tr>\n",
       "      <th>3</th>\n",
       "      <td>c352409</td>\n",
       "      <td>0</td>\n",
       "    </tr>\n",
       "    <tr>\n",
       "      <th>4</th>\n",
       "      <td>c385259</td>\n",
       "      <td>0</td>\n",
       "    </tr>\n",
       "  </tbody>\n",
       "</table>\n",
       "</div>"
      ],
      "text/plain": [
       "  CustomerID  Churn\n",
       "0    c348709      0\n",
       "1    c354434      0\n",
       "2    c383761      0\n",
       "3    c352409      0\n",
       "4    c385259      0"
      ]
     },
     "execution_count": 39,
     "metadata": {},
     "output_type": "execute_result"
    }
   ],
   "source": [
    "customer_churn.head()"
   ]
  },
  {
   "cell_type": "code",
   "execution_count": 40,
   "metadata": {},
   "outputs": [],
   "source": [
    "customer_churn = customer_churn.merge(customers[['CustomerID','Gender', 'BirthYear']], on = 'CustomerID', how = 'left')\n",
    "customer_churn['age'] = 2020 - customer_churn['BirthYear']\n",
    "customer_churn.drop('BirthYear', axis = 1, inplace = True)"
   ]
  },
  {
   "cell_type": "code",
   "execution_count": 41,
   "metadata": {},
   "outputs": [
    {
     "data": {
      "text/html": [
       "<div>\n",
       "<style scoped>\n",
       "    .dataframe tbody tr th:only-of-type {\n",
       "        vertical-align: middle;\n",
       "    }\n",
       "\n",
       "    .dataframe tbody tr th {\n",
       "        vertical-align: top;\n",
       "    }\n",
       "\n",
       "    .dataframe thead th {\n",
       "        text-align: right;\n",
       "    }\n",
       "</style>\n",
       "<table border=\"1\" class=\"dataframe\">\n",
       "  <thead>\n",
       "    <tr style=\"text-align: right;\">\n",
       "      <th></th>\n",
       "      <th>CustomerID</th>\n",
       "      <th>Churn</th>\n",
       "      <th>Gender</th>\n",
       "      <th>age</th>\n",
       "    </tr>\n",
       "  </thead>\n",
       "  <tbody>\n",
       "    <tr>\n",
       "      <th>0</th>\n",
       "      <td>c348709</td>\n",
       "      <td>0</td>\n",
       "      <td>F</td>\n",
       "      <td>41</td>\n",
       "    </tr>\n",
       "    <tr>\n",
       "      <th>1</th>\n",
       "      <td>c354434</td>\n",
       "      <td>0</td>\n",
       "      <td>F</td>\n",
       "      <td>58</td>\n",
       "    </tr>\n",
       "    <tr>\n",
       "      <th>2</th>\n",
       "      <td>c383761</td>\n",
       "      <td>0</td>\n",
       "      <td>F</td>\n",
       "      <td>41</td>\n",
       "    </tr>\n",
       "    <tr>\n",
       "      <th>3</th>\n",
       "      <td>c352409</td>\n",
       "      <td>0</td>\n",
       "      <td>F</td>\n",
       "      <td>35</td>\n",
       "    </tr>\n",
       "    <tr>\n",
       "      <th>4</th>\n",
       "      <td>c385259</td>\n",
       "      <td>0</td>\n",
       "      <td>F</td>\n",
       "      <td>26</td>\n",
       "    </tr>\n",
       "  </tbody>\n",
       "</table>\n",
       "</div>"
      ],
      "text/plain": [
       "  CustomerID  Churn Gender  age\n",
       "0    c348709      0      F   41\n",
       "1    c354434      0      F   58\n",
       "2    c383761      0      F   41\n",
       "3    c352409      0      F   35\n",
       "4    c385259      0      F   26"
      ]
     },
     "execution_count": 41,
     "metadata": {},
     "output_type": "execute_result"
    }
   ],
   "source": [
    "customer_churn.head()"
   ]
  },
  {
   "cell_type": "code",
   "execution_count": null,
   "metadata": {},
   "outputs": [],
   "source": []
  },
  {
   "cell_type": "markdown",
   "metadata": {},
   "source": [
    "4-2) 최근 3개월 구매액, 방문횟수"
   ]
  },
  {
   "cell_type": "code",
   "execution_count": 42,
   "metadata": {},
   "outputs": [],
   "source": [
    "sales['month_day'] = sales['month'].astype('str')+ \"_\"+ sales['day'].astype('str')"
   ]
  },
  {
   "cell_type": "code",
   "execution_count": 43,
   "metadata": {},
   "outputs": [],
   "source": [
    "temp = sales.loc[(sales['year']==2016) & (sales['month']>=10)]\n",
    "temp = temp.groupby('CustomerID').agg({'Amt':['sum'], 'month_day':['nunique']}).reset_index()\n",
    "temp.columns = ['CustomerID', 'lag_3month_amount', 'lag_3month_visit_cnt']\n",
    "temp.head()\n",
    "customer_churn = customer_churn.merge(temp, on = 'CustomerID', how= 'left')"
   ]
  },
  {
   "cell_type": "code",
   "execution_count": 44,
   "metadata": {},
   "outputs": [],
   "source": [
    "customer_churn['lag_3month_amount'].fillna(customer_churn['lag_3month_amount'].mean(), inplace = True)\n",
    "customer_churn['lag_3month_visit_cnt'].fillna(customer_churn['lag_3month_visit_cnt'].mean(), inplace = True)"
   ]
  },
  {
   "cell_type": "code",
   "execution_count": 45,
   "metadata": {},
   "outputs": [
    {
     "data": {
      "text/html": [
       "<div>\n",
       "<style scoped>\n",
       "    .dataframe tbody tr th:only-of-type {\n",
       "        vertical-align: middle;\n",
       "    }\n",
       "\n",
       "    .dataframe tbody tr th {\n",
       "        vertical-align: top;\n",
       "    }\n",
       "\n",
       "    .dataframe thead th {\n",
       "        text-align: right;\n",
       "    }\n",
       "</style>\n",
       "<table border=\"1\" class=\"dataframe\">\n",
       "  <thead>\n",
       "    <tr style=\"text-align: right;\">\n",
       "      <th></th>\n",
       "      <th>CustomerID</th>\n",
       "      <th>Churn</th>\n",
       "      <th>Gender</th>\n",
       "      <th>age</th>\n",
       "      <th>lag_3month_amount</th>\n",
       "      <th>lag_3month_visit_cnt</th>\n",
       "    </tr>\n",
       "  </thead>\n",
       "  <tbody>\n",
       "    <tr>\n",
       "      <th>0</th>\n",
       "      <td>c348709</td>\n",
       "      <td>0</td>\n",
       "      <td>F</td>\n",
       "      <td>41</td>\n",
       "      <td>49458.000000</td>\n",
       "      <td>6.000000</td>\n",
       "    </tr>\n",
       "    <tr>\n",
       "      <th>1</th>\n",
       "      <td>c354434</td>\n",
       "      <td>0</td>\n",
       "      <td>F</td>\n",
       "      <td>58</td>\n",
       "      <td>19074.765799</td>\n",
       "      <td>3.446097</td>\n",
       "    </tr>\n",
       "    <tr>\n",
       "      <th>2</th>\n",
       "      <td>c383761</td>\n",
       "      <td>0</td>\n",
       "      <td>F</td>\n",
       "      <td>41</td>\n",
       "      <td>22644.000000</td>\n",
       "      <td>3.000000</td>\n",
       "    </tr>\n",
       "    <tr>\n",
       "      <th>3</th>\n",
       "      <td>c352409</td>\n",
       "      <td>0</td>\n",
       "      <td>F</td>\n",
       "      <td>35</td>\n",
       "      <td>2000.000000</td>\n",
       "      <td>1.000000</td>\n",
       "    </tr>\n",
       "    <tr>\n",
       "      <th>4</th>\n",
       "      <td>c385259</td>\n",
       "      <td>0</td>\n",
       "      <td>F</td>\n",
       "      <td>26</td>\n",
       "      <td>55127.000000</td>\n",
       "      <td>12.000000</td>\n",
       "    </tr>\n",
       "  </tbody>\n",
       "</table>\n",
       "</div>"
      ],
      "text/plain": [
       "  CustomerID  Churn Gender  age  lag_3month_amount  lag_3month_visit_cnt\n",
       "0    c348709      0      F   41       49458.000000              6.000000\n",
       "1    c354434      0      F   58       19074.765799              3.446097\n",
       "2    c383761      0      F   41       22644.000000              3.000000\n",
       "3    c352409      0      F   35        2000.000000              1.000000\n",
       "4    c385259      0      F   26       55127.000000             12.000000"
      ]
     },
     "execution_count": 45,
     "metadata": {},
     "output_type": "execute_result"
    }
   ],
   "source": [
    "customer_churn.head()"
   ]
  },
  {
   "cell_type": "markdown",
   "metadata": {},
   "source": [
    "4-3) 최근 3개월 카테고리(category)별 구매액"
   ]
  },
  {
   "cell_type": "code",
   "execution_count": 46,
   "metadata": {},
   "outputs": [
    {
     "data": {
      "text/html": [
       "<div>\n",
       "<style scoped>\n",
       "    .dataframe tbody tr th:only-of-type {\n",
       "        vertical-align: middle;\n",
       "    }\n",
       "\n",
       "    .dataframe tbody tr th {\n",
       "        vertical-align: top;\n",
       "    }\n",
       "\n",
       "    .dataframe thead th {\n",
       "        text-align: right;\n",
       "    }\n",
       "</style>\n",
       "<table border=\"1\" class=\"dataframe\">\n",
       "  <thead>\n",
       "    <tr style=\"text-align: right;\">\n",
       "      <th></th>\n",
       "      <th>CustomerID</th>\n",
       "      <th>category1</th>\n",
       "      <th>category2</th>\n",
       "      <th>category3</th>\n",
       "      <th>category4</th>\n",
       "      <th>category5</th>\n",
       "    </tr>\n",
       "  </thead>\n",
       "  <tbody>\n",
       "    <tr>\n",
       "      <th>0</th>\n",
       "      <td>c017487</td>\n",
       "      <td>9546.0</td>\n",
       "      <td>0.0</td>\n",
       "      <td>8950.0</td>\n",
       "      <td>11960.0</td>\n",
       "      <td>13750.0</td>\n",
       "    </tr>\n",
       "    <tr>\n",
       "      <th>1</th>\n",
       "      <td>c017503</td>\n",
       "      <td>0.0</td>\n",
       "      <td>17600.0</td>\n",
       "      <td>0.0</td>\n",
       "      <td>2750.0</td>\n",
       "      <td>4050.0</td>\n",
       "    </tr>\n",
       "    <tr>\n",
       "      <th>2</th>\n",
       "      <td>c017517</td>\n",
       "      <td>12317.0</td>\n",
       "      <td>8000.0</td>\n",
       "      <td>6500.0</td>\n",
       "      <td>15704.0</td>\n",
       "      <td>15450.0</td>\n",
       "    </tr>\n",
       "    <tr>\n",
       "      <th>3</th>\n",
       "      <td>c017522</td>\n",
       "      <td>0.0</td>\n",
       "      <td>0.0</td>\n",
       "      <td>13477.0</td>\n",
       "      <td>0.0</td>\n",
       "      <td>8550.0</td>\n",
       "    </tr>\n",
       "    <tr>\n",
       "      <th>4</th>\n",
       "      <td>c017526</td>\n",
       "      <td>0.0</td>\n",
       "      <td>0.0</td>\n",
       "      <td>5800.0</td>\n",
       "      <td>0.0</td>\n",
       "      <td>3950.0</td>\n",
       "    </tr>\n",
       "    <tr>\n",
       "      <th>...</th>\n",
       "      <td>...</td>\n",
       "      <td>...</td>\n",
       "      <td>...</td>\n",
       "      <td>...</td>\n",
       "      <td>...</td>\n",
       "      <td>...</td>\n",
       "    </tr>\n",
       "    <tr>\n",
       "      <th>1377</th>\n",
       "      <td>c395401</td>\n",
       "      <td>864.0</td>\n",
       "      <td>0.0</td>\n",
       "      <td>0.0</td>\n",
       "      <td>8250.0</td>\n",
       "      <td>0.0</td>\n",
       "    </tr>\n",
       "    <tr>\n",
       "      <th>1378</th>\n",
       "      <td>c395638</td>\n",
       "      <td>1455.0</td>\n",
       "      <td>8370.0</td>\n",
       "      <td>5077.0</td>\n",
       "      <td>4600.0</td>\n",
       "      <td>5300.0</td>\n",
       "    </tr>\n",
       "    <tr>\n",
       "      <th>1379</th>\n",
       "      <td>c395673</td>\n",
       "      <td>0.0</td>\n",
       "      <td>4200.0</td>\n",
       "      <td>0.0</td>\n",
       "      <td>0.0</td>\n",
       "      <td>0.0</td>\n",
       "    </tr>\n",
       "    <tr>\n",
       "      <th>1380</th>\n",
       "      <td>c396022</td>\n",
       "      <td>1455.0</td>\n",
       "      <td>0.0</td>\n",
       "      <td>0.0</td>\n",
       "      <td>4150.0</td>\n",
       "      <td>2350.0</td>\n",
       "    </tr>\n",
       "    <tr>\n",
       "      <th>1381</th>\n",
       "      <td>c396059</td>\n",
       "      <td>0.0</td>\n",
       "      <td>8370.0</td>\n",
       "      <td>1950.0</td>\n",
       "      <td>0.0</td>\n",
       "      <td>0.0</td>\n",
       "    </tr>\n",
       "  </tbody>\n",
       "</table>\n",
       "<p>1382 rows × 6 columns</p>\n",
       "</div>"
      ],
      "text/plain": [
       "     CustomerID  category1  category2  category3  category4  category5\n",
       "0       c017487     9546.0        0.0     8950.0    11960.0    13750.0\n",
       "1       c017503        0.0    17600.0        0.0     2750.0     4050.0\n",
       "2       c017517    12317.0     8000.0     6500.0    15704.0    15450.0\n",
       "3       c017522        0.0        0.0    13477.0        0.0     8550.0\n",
       "4       c017526        0.0        0.0     5800.0        0.0     3950.0\n",
       "...         ...        ...        ...        ...        ...        ...\n",
       "1377    c395401      864.0        0.0        0.0     8250.0        0.0\n",
       "1378    c395638     1455.0     8370.0     5077.0     4600.0     5300.0\n",
       "1379    c395673        0.0     4200.0        0.0        0.0        0.0\n",
       "1380    c396022     1455.0        0.0        0.0     4150.0     2350.0\n",
       "1381    c396059        0.0     8370.0     1950.0        0.0        0.0\n",
       "\n",
       "[1382 rows x 6 columns]"
      ]
     },
     "execution_count": 46,
     "metadata": {},
     "output_type": "execute_result"
    }
   ],
   "source": [
    "temp = sales.loc[(sales['year']==2016) & (sales['month']>=10)]\n",
    "temp = temp.groupby(['CustomerID', 'Category']).Amt.sum().reset_index()\n",
    "temp.columns = ['CustomerID', 'Category', 'Amt_by_category']\n",
    "temp = temp.pivot(index='CustomerID', columns='Category', values = 'Amt_by_category')\n",
    "temp.reset_index(inplace = True)\n",
    "temp.columns = ['CustomerID', 'category1', 'category2', 'category3', 'category4', 'category5' ]\n",
    "temp.fillna(0, inplace = True)\n",
    "temp"
   ]
  },
  {
   "cell_type": "code",
   "execution_count": 47,
   "metadata": {},
   "outputs": [],
   "source": [
    "customer_churn = customer_churn.merge(temp, on = 'CustomerID', how= 'left')"
   ]
  },
  {
   "cell_type": "code",
   "execution_count": 48,
   "metadata": {},
   "outputs": [],
   "source": [
    "customer_churn.fillna(0, inplace = True)"
   ]
  },
  {
   "cell_type": "code",
   "execution_count": 49,
   "metadata": {},
   "outputs": [
    {
     "data": {
      "text/html": [
       "<div>\n",
       "<style scoped>\n",
       "    .dataframe tbody tr th:only-of-type {\n",
       "        vertical-align: middle;\n",
       "    }\n",
       "\n",
       "    .dataframe tbody tr th {\n",
       "        vertical-align: top;\n",
       "    }\n",
       "\n",
       "    .dataframe thead th {\n",
       "        text-align: right;\n",
       "    }\n",
       "</style>\n",
       "<table border=\"1\" class=\"dataframe\">\n",
       "  <thead>\n",
       "    <tr style=\"text-align: right;\">\n",
       "      <th></th>\n",
       "      <th>CustomerID</th>\n",
       "      <th>Churn</th>\n",
       "      <th>Gender</th>\n",
       "      <th>age</th>\n",
       "      <th>lag_3month_amount</th>\n",
       "      <th>lag_3month_visit_cnt</th>\n",
       "      <th>category1</th>\n",
       "      <th>category2</th>\n",
       "      <th>category3</th>\n",
       "      <th>category4</th>\n",
       "      <th>category5</th>\n",
       "    </tr>\n",
       "  </thead>\n",
       "  <tbody>\n",
       "    <tr>\n",
       "      <th>0</th>\n",
       "      <td>c348709</td>\n",
       "      <td>0</td>\n",
       "      <td>F</td>\n",
       "      <td>41</td>\n",
       "      <td>49458.000000</td>\n",
       "      <td>6.000000</td>\n",
       "      <td>7228.0</td>\n",
       "      <td>8370.0</td>\n",
       "      <td>18300.0</td>\n",
       "      <td>0.0</td>\n",
       "      <td>15560.0</td>\n",
       "    </tr>\n",
       "    <tr>\n",
       "      <th>1</th>\n",
       "      <td>c354434</td>\n",
       "      <td>0</td>\n",
       "      <td>F</td>\n",
       "      <td>58</td>\n",
       "      <td>19074.765799</td>\n",
       "      <td>3.446097</td>\n",
       "      <td>0.0</td>\n",
       "      <td>0.0</td>\n",
       "      <td>0.0</td>\n",
       "      <td>0.0</td>\n",
       "      <td>0.0</td>\n",
       "    </tr>\n",
       "    <tr>\n",
       "      <th>2</th>\n",
       "      <td>c383761</td>\n",
       "      <td>0</td>\n",
       "      <td>F</td>\n",
       "      <td>41</td>\n",
       "      <td>22644.000000</td>\n",
       "      <td>3.000000</td>\n",
       "      <td>6817.0</td>\n",
       "      <td>8400.0</td>\n",
       "      <td>3227.0</td>\n",
       "      <td>0.0</td>\n",
       "      <td>4200.0</td>\n",
       "    </tr>\n",
       "    <tr>\n",
       "      <th>3</th>\n",
       "      <td>c352409</td>\n",
       "      <td>0</td>\n",
       "      <td>F</td>\n",
       "      <td>35</td>\n",
       "      <td>2000.000000</td>\n",
       "      <td>1.000000</td>\n",
       "      <td>0.0</td>\n",
       "      <td>0.0</td>\n",
       "      <td>0.0</td>\n",
       "      <td>0.0</td>\n",
       "      <td>2000.0</td>\n",
       "    </tr>\n",
       "    <tr>\n",
       "      <th>4</th>\n",
       "      <td>c385259</td>\n",
       "      <td>0</td>\n",
       "      <td>F</td>\n",
       "      <td>26</td>\n",
       "      <td>55127.000000</td>\n",
       "      <td>12.000000</td>\n",
       "      <td>2000.0</td>\n",
       "      <td>0.0</td>\n",
       "      <td>19277.0</td>\n",
       "      <td>9200.0</td>\n",
       "      <td>24650.0</td>\n",
       "    </tr>\n",
       "  </tbody>\n",
       "</table>\n",
       "</div>"
      ],
      "text/plain": [
       "  CustomerID  Churn Gender  age  lag_3month_amount  lag_3month_visit_cnt  \\\n",
       "0    c348709      0      F   41       49458.000000              6.000000   \n",
       "1    c354434      0      F   58       19074.765799              3.446097   \n",
       "2    c383761      0      F   41       22644.000000              3.000000   \n",
       "3    c352409      0      F   35        2000.000000              1.000000   \n",
       "4    c385259      0      F   26       55127.000000             12.000000   \n",
       "\n",
       "   category1  category2  category3  category4  category5  \n",
       "0     7228.0     8370.0    18300.0        0.0    15560.0  \n",
       "1        0.0        0.0        0.0        0.0        0.0  \n",
       "2     6817.0     8400.0     3227.0        0.0     4200.0  \n",
       "3        0.0        0.0        0.0        0.0     2000.0  \n",
       "4     2000.0        0.0    19277.0     9200.0    24650.0  "
      ]
     },
     "execution_count": 49,
     "metadata": {},
     "output_type": "execute_result"
    }
   ],
   "source": [
    "customer_churn.head()"
   ]
  },
  {
   "cell_type": "markdown",
   "metadata": {},
   "source": [
    "- 모델 돌릴때 한글 변수를 사용 시 오류가 날것을 대비하여 category1~5로 변환합니다."
   ]
  },
  {
   "cell_type": "markdown",
   "metadata": {},
   "source": [
    "4-4) 가입 개월수  \n",
    "일수 : 날짜1 - 날짜2  \n",
    "개월수 : 일수 / np.timedelta64(1,'M'))"
   ]
  },
  {
   "cell_type": "code",
   "execution_count": 50,
   "metadata": {},
   "outputs": [],
   "source": [
    "from datetime import datetime\n",
    "then = datetime(2016, 12, 31)"
   ]
  },
  {
   "cell_type": "code",
   "execution_count": 51,
   "metadata": {},
   "outputs": [],
   "source": [
    "customers['days_to_register'] = ((then - customers['RegisterDate']) / pd.Timedelta(1, unit='d'))"
   ]
  },
  {
   "cell_type": "code",
   "execution_count": 52,
   "metadata": {},
   "outputs": [],
   "source": [
    "customer_churn = customer_churn.merge(customers[['CustomerID','days_to_register' ]], on = 'CustomerID', how= 'left')"
   ]
  },
  {
   "cell_type": "markdown",
   "metadata": {},
   "source": [
    "- 30으로 나누어서 개월수로 만들수 있으나, 모델에 days형식이 나을것 같아서 개월로 나누는 과정은 생략하고 진행하겠습니다."
   ]
  },
  {
   "cell_type": "code",
   "execution_count": 53,
   "metadata": {},
   "outputs": [
    {
     "data": {
      "text/html": [
       "<div>\n",
       "<style scoped>\n",
       "    .dataframe tbody tr th:only-of-type {\n",
       "        vertical-align: middle;\n",
       "    }\n",
       "\n",
       "    .dataframe tbody tr th {\n",
       "        vertical-align: top;\n",
       "    }\n",
       "\n",
       "    .dataframe thead th {\n",
       "        text-align: right;\n",
       "    }\n",
       "</style>\n",
       "<table border=\"1\" class=\"dataframe\">\n",
       "  <thead>\n",
       "    <tr style=\"text-align: right;\">\n",
       "      <th></th>\n",
       "      <th>CustomerID</th>\n",
       "      <th>Churn</th>\n",
       "      <th>Gender</th>\n",
       "      <th>age</th>\n",
       "      <th>lag_3month_amount</th>\n",
       "      <th>lag_3month_visit_cnt</th>\n",
       "      <th>category1</th>\n",
       "      <th>category2</th>\n",
       "      <th>category3</th>\n",
       "      <th>category4</th>\n",
       "      <th>category5</th>\n",
       "      <th>days_to_register</th>\n",
       "    </tr>\n",
       "  </thead>\n",
       "  <tbody>\n",
       "    <tr>\n",
       "      <th>0</th>\n",
       "      <td>c348709</td>\n",
       "      <td>0</td>\n",
       "      <td>F</td>\n",
       "      <td>41</td>\n",
       "      <td>49458.000000</td>\n",
       "      <td>6.000000</td>\n",
       "      <td>7228.0</td>\n",
       "      <td>8370.0</td>\n",
       "      <td>18300.0</td>\n",
       "      <td>0.0</td>\n",
       "      <td>15560.0</td>\n",
       "      <td>597.0</td>\n",
       "    </tr>\n",
       "    <tr>\n",
       "      <th>1</th>\n",
       "      <td>c354434</td>\n",
       "      <td>0</td>\n",
       "      <td>F</td>\n",
       "      <td>58</td>\n",
       "      <td>19074.765799</td>\n",
       "      <td>3.446097</td>\n",
       "      <td>0.0</td>\n",
       "      <td>0.0</td>\n",
       "      <td>0.0</td>\n",
       "      <td>0.0</td>\n",
       "      <td>0.0</td>\n",
       "      <td>533.0</td>\n",
       "    </tr>\n",
       "    <tr>\n",
       "      <th>2</th>\n",
       "      <td>c383761</td>\n",
       "      <td>0</td>\n",
       "      <td>F</td>\n",
       "      <td>41</td>\n",
       "      <td>22644.000000</td>\n",
       "      <td>3.000000</td>\n",
       "      <td>6817.0</td>\n",
       "      <td>8400.0</td>\n",
       "      <td>3227.0</td>\n",
       "      <td>0.0</td>\n",
       "      <td>4200.0</td>\n",
       "      <td>172.0</td>\n",
       "    </tr>\n",
       "    <tr>\n",
       "      <th>3</th>\n",
       "      <td>c352409</td>\n",
       "      <td>0</td>\n",
       "      <td>F</td>\n",
       "      <td>35</td>\n",
       "      <td>2000.000000</td>\n",
       "      <td>1.000000</td>\n",
       "      <td>0.0</td>\n",
       "      <td>0.0</td>\n",
       "      <td>0.0</td>\n",
       "      <td>0.0</td>\n",
       "      <td>2000.0</td>\n",
       "      <td>557.0</td>\n",
       "    </tr>\n",
       "    <tr>\n",
       "      <th>4</th>\n",
       "      <td>c385259</td>\n",
       "      <td>0</td>\n",
       "      <td>F</td>\n",
       "      <td>26</td>\n",
       "      <td>55127.000000</td>\n",
       "      <td>12.000000</td>\n",
       "      <td>2000.0</td>\n",
       "      <td>0.0</td>\n",
       "      <td>19277.0</td>\n",
       "      <td>9200.0</td>\n",
       "      <td>24650.0</td>\n",
       "      <td>152.0</td>\n",
       "    </tr>\n",
       "  </tbody>\n",
       "</table>\n",
       "</div>"
      ],
      "text/plain": [
       "  CustomerID  Churn Gender  age  lag_3month_amount  lag_3month_visit_cnt  \\\n",
       "0    c348709      0      F   41       49458.000000              6.000000   \n",
       "1    c354434      0      F   58       19074.765799              3.446097   \n",
       "2    c383761      0      F   41       22644.000000              3.000000   \n",
       "3    c352409      0      F   35        2000.000000              1.000000   \n",
       "4    c385259      0      F   26       55127.000000             12.000000   \n",
       "\n",
       "   category1  category2  category3  category4  category5  days_to_register  \n",
       "0     7228.0     8370.0    18300.0        0.0    15560.0             597.0  \n",
       "1        0.0        0.0        0.0        0.0        0.0             533.0  \n",
       "2     6817.0     8400.0     3227.0        0.0     4200.0             172.0  \n",
       "3        0.0        0.0        0.0        0.0     2000.0             557.0  \n",
       "4     2000.0        0.0    19277.0     9200.0    24650.0             152.0  "
      ]
     },
     "execution_count": 53,
     "metadata": {},
     "output_type": "execute_result"
    }
   ],
   "source": [
    "customer_churn.head()"
   ]
  },
  {
   "cell_type": "markdown",
   "metadata": {},
   "source": [
    "4-5) 그외 여러분이 도출한 가설에 포함된 요인을 추가 변수로 5개 이상 만드시오."
   ]
  },
  {
   "cell_type": "code",
   "execution_count": 54,
   "metadata": {},
   "outputs": [],
   "source": [
    "# feature 1. 3개월 사용 금액 / 등록일\n",
    "customer_churn['3month_amt_divide_reg'] = customer_churn['lag_3month_amount'] / (customer_churn['days_to_register'] + 1)"
   ]
  },
  {
   "cell_type": "code",
   "execution_count": 55,
   "metadata": {},
   "outputs": [],
   "source": [
    "# feature 2. 3개월 방문횟수 / 등록일\n",
    "customer_churn['lag_3month_visit_cnt_divide_reg'] = customer_churn['lag_3month_visit_cnt'] / (customer_churn['days_to_register'] + 1)"
   ]
  },
  {
   "cell_type": "code",
   "execution_count": 56,
   "metadata": {},
   "outputs": [],
   "source": [
    "# feature 3. 3개월동안 구매한 세부 상품의 nunque (산 상품이 다양할수록 이탈할 가능성이 낮지않을까?)\n",
    "temp = sales.loc[(sales['year']==2016) & (sales['month']>=10)]\n",
    "temp = temp.groupby('CustomerID').ProductName.nunique().reset_index()\n",
    "temp.columns = ['CustomerID', 'pro_nuniqe_cnt']\n",
    "temp.fillna(0, inplace = True)\n",
    "customer_churn = customer_churn.merge(temp, on = 'CustomerID', how = 'left')\n",
    "customer_churn.fillna(0, inplace = True)"
   ]
  },
  {
   "cell_type": "code",
   "execution_count": 57,
   "metadata": {},
   "outputs": [],
   "source": [
    "# feature 4,5 최근 1개월 사용 금액, 방문 횟수(12월) -  최근 2개월 사용금액, 방문횟수(11월)  \n",
    "# (전전달 대비 상품 구매가 늘었으면 이탈 가능성도 작지않을까?)"
   ]
  },
  {
   "cell_type": "markdown",
   "metadata": {},
   "source": [
    "- feature4, 5는 추가하였으나 스코어가 하락하여 최종 모델에서 제외했습니다.\n",
    "- (하단 score 기록 참고)"
   ]
  },
  {
   "cell_type": "code",
   "execution_count": 58,
   "metadata": {},
   "outputs": [
    {
     "data": {
      "text/plain": [
       "\"\\ntemp = sales.loc[(sales['year']==2016) & (sales['month']>=12)]\\ntemp = temp.groupby('CustomerID').agg({'Amt':['sum'], 'month_day':['nunique']}).reset_index()\\ntemp.columns = ['CustomerID', 'lag_3month_amount_12', 'lag_3month_visit_cnt_12']\\ntemp.head()\\ncustomer_churn = customer_churn.merge(temp, on = 'CustomerID', how= 'left')\\n\\ncustomer_churn['lag_3month_amount_12'].fillna(customer_churn['lag_3month_amount_12'].mean(), inplace = True)\\ncustomer_churn['lag_3month_visit_cnt_12'].fillna(customer_churn['lag_3month_visit_cnt_12'].mean(), inplace = True)\\n\\ntemp = sales.loc[(sales['year']==2016) & (sales['month']>=11) & (sales['month']<12)]\\ntemp = temp.groupby('CustomerID').agg({'Amt':['sum'], 'month_day':['nunique']}).reset_index()\\ntemp.columns = ['CustomerID', 'lag_3month_amount_11', 'lag_3month_visit_cnt_11']\\ntemp.head()\\ncustomer_churn = customer_churn.merge(temp, on = 'CustomerID', how= 'left')\\n\\ncustomer_churn['lag_3month_amount_11'].fillna(customer_churn['lag_3month_amount_11'].mean(), inplace = True)\\ncustomer_churn['lag_3month_visit_cnt_11'].fillna(customer_churn['lag_3month_visit_cnt_11'].mean(), inplace = True)\\n\""
      ]
     },
     "execution_count": 58,
     "metadata": {},
     "output_type": "execute_result"
    }
   ],
   "source": [
    "'''\n",
    "temp = sales.loc[(sales['year']==2016) & (sales['month']>=12)]\n",
    "temp = temp.groupby('CustomerID').agg({'Amt':['sum'], 'month_day':['nunique']}).reset_index()\n",
    "temp.columns = ['CustomerID', 'lag_3month_amount_12', 'lag_3month_visit_cnt_12']\n",
    "temp.head()\n",
    "customer_churn = customer_churn.merge(temp, on = 'CustomerID', how= 'left')\n",
    "\n",
    "customer_churn['lag_3month_amount_12'].fillna(customer_churn['lag_3month_amount_12'].mean(), inplace = True)\n",
    "customer_churn['lag_3month_visit_cnt_12'].fillna(customer_churn['lag_3month_visit_cnt_12'].mean(), inplace = True)\n",
    "\n",
    "temp = sales.loc[(sales['year']==2016) & (sales['month']>=11) & (sales['month']<12)]\n",
    "temp = temp.groupby('CustomerID').agg({'Amt':['sum'], 'month_day':['nunique']}).reset_index()\n",
    "temp.columns = ['CustomerID', 'lag_3month_amount_11', 'lag_3month_visit_cnt_11']\n",
    "temp.head()\n",
    "customer_churn = customer_churn.merge(temp, on = 'CustomerID', how= 'left')\n",
    "\n",
    "customer_churn['lag_3month_amount_11'].fillna(customer_churn['lag_3month_amount_11'].mean(), inplace = True)\n",
    "customer_churn['lag_3month_visit_cnt_11'].fillna(customer_churn['lag_3month_visit_cnt_11'].mean(), inplace = True)\n",
    "'''"
   ]
  },
  {
   "cell_type": "code",
   "execution_count": 59,
   "metadata": {},
   "outputs": [],
   "source": [
    "# customer_churn['diff_12_11_amt'] = customer_churn['lag_3month_amount_12'] - customer_churn['lag_3month_amount_11']\n",
    "# customer_churn['diff_12_11_visit'] = customer_churn['lag_3month_visit_cnt_12'] - customer_churn['lag_3month_visit_cnt_11']"
   ]
  },
  {
   "cell_type": "code",
   "execution_count": 60,
   "metadata": {},
   "outputs": [],
   "source": [
    "# customer_churn.drop(['lag_3month_amount_12', 'lag_3month_amount_11', 'lag_3month_visit_cnt_12', 'lag_3month_visit_cnt_11'], axis = 1, inplace = True)"
   ]
  },
  {
   "cell_type": "markdown",
   "metadata": {},
   "source": [
    "4-6) 위에서 만든 데이터프레임을 customer_churn 이름으로 만들기  \n",
    "**이 이름으로 만들어야 모델링 코드가 동작합니다.**"
   ]
  },
  {
   "cell_type": "code",
   "execution_count": 61,
   "metadata": {},
   "outputs": [
    {
     "data": {
      "text/plain": [
       "(354, 15)"
      ]
     },
     "execution_count": 61,
     "metadata": {},
     "output_type": "execute_result"
    }
   ],
   "source": [
    "customer_churn.shape"
   ]
  },
  {
   "cell_type": "code",
   "execution_count": 62,
   "metadata": {},
   "outputs": [
    {
     "data": {
      "text/html": [
       "<div>\n",
       "<style scoped>\n",
       "    .dataframe tbody tr th:only-of-type {\n",
       "        vertical-align: middle;\n",
       "    }\n",
       "\n",
       "    .dataframe tbody tr th {\n",
       "        vertical-align: top;\n",
       "    }\n",
       "\n",
       "    .dataframe thead th {\n",
       "        text-align: right;\n",
       "    }\n",
       "</style>\n",
       "<table border=\"1\" class=\"dataframe\">\n",
       "  <thead>\n",
       "    <tr style=\"text-align: right;\">\n",
       "      <th></th>\n",
       "      <th>CustomerID</th>\n",
       "      <th>Churn</th>\n",
       "      <th>Gender</th>\n",
       "      <th>age</th>\n",
       "      <th>lag_3month_amount</th>\n",
       "      <th>lag_3month_visit_cnt</th>\n",
       "      <th>category1</th>\n",
       "      <th>category2</th>\n",
       "      <th>category3</th>\n",
       "      <th>category4</th>\n",
       "      <th>category5</th>\n",
       "      <th>days_to_register</th>\n",
       "      <th>3month_amt_divide_reg</th>\n",
       "      <th>lag_3month_visit_cnt_divide_reg</th>\n",
       "      <th>pro_nuniqe_cnt</th>\n",
       "    </tr>\n",
       "  </thead>\n",
       "  <tbody>\n",
       "    <tr>\n",
       "      <th>0</th>\n",
       "      <td>c348709</td>\n",
       "      <td>0</td>\n",
       "      <td>F</td>\n",
       "      <td>41</td>\n",
       "      <td>49458.000000</td>\n",
       "      <td>6.000000</td>\n",
       "      <td>7228.0</td>\n",
       "      <td>8370.0</td>\n",
       "      <td>18300.0</td>\n",
       "      <td>0.0</td>\n",
       "      <td>15560.0</td>\n",
       "      <td>597.0</td>\n",
       "      <td>82.705686</td>\n",
       "      <td>0.010033</td>\n",
       "      <td>12.0</td>\n",
       "    </tr>\n",
       "    <tr>\n",
       "      <th>1</th>\n",
       "      <td>c354434</td>\n",
       "      <td>0</td>\n",
       "      <td>F</td>\n",
       "      <td>58</td>\n",
       "      <td>19074.765799</td>\n",
       "      <td>3.446097</td>\n",
       "      <td>0.0</td>\n",
       "      <td>0.0</td>\n",
       "      <td>0.0</td>\n",
       "      <td>0.0</td>\n",
       "      <td>0.0</td>\n",
       "      <td>533.0</td>\n",
       "      <td>35.720535</td>\n",
       "      <td>0.006453</td>\n",
       "      <td>0.0</td>\n",
       "    </tr>\n",
       "    <tr>\n",
       "      <th>2</th>\n",
       "      <td>c383761</td>\n",
       "      <td>0</td>\n",
       "      <td>F</td>\n",
       "      <td>41</td>\n",
       "      <td>22644.000000</td>\n",
       "      <td>3.000000</td>\n",
       "      <td>6817.0</td>\n",
       "      <td>8400.0</td>\n",
       "      <td>3227.0</td>\n",
       "      <td>0.0</td>\n",
       "      <td>4200.0</td>\n",
       "      <td>172.0</td>\n",
       "      <td>130.890173</td>\n",
       "      <td>0.017341</td>\n",
       "      <td>7.0</td>\n",
       "    </tr>\n",
       "    <tr>\n",
       "      <th>3</th>\n",
       "      <td>c352409</td>\n",
       "      <td>0</td>\n",
       "      <td>F</td>\n",
       "      <td>35</td>\n",
       "      <td>2000.000000</td>\n",
       "      <td>1.000000</td>\n",
       "      <td>0.0</td>\n",
       "      <td>0.0</td>\n",
       "      <td>0.0</td>\n",
       "      <td>0.0</td>\n",
       "      <td>2000.0</td>\n",
       "      <td>557.0</td>\n",
       "      <td>3.584229</td>\n",
       "      <td>0.001792</td>\n",
       "      <td>1.0</td>\n",
       "    </tr>\n",
       "    <tr>\n",
       "      <th>4</th>\n",
       "      <td>c385259</td>\n",
       "      <td>0</td>\n",
       "      <td>F</td>\n",
       "      <td>26</td>\n",
       "      <td>55127.000000</td>\n",
       "      <td>12.000000</td>\n",
       "      <td>2000.0</td>\n",
       "      <td>0.0</td>\n",
       "      <td>19277.0</td>\n",
       "      <td>9200.0</td>\n",
       "      <td>24650.0</td>\n",
       "      <td>152.0</td>\n",
       "      <td>360.307190</td>\n",
       "      <td>0.078431</td>\n",
       "      <td>12.0</td>\n",
       "    </tr>\n",
       "  </tbody>\n",
       "</table>\n",
       "</div>"
      ],
      "text/plain": [
       "  CustomerID  Churn Gender  age  lag_3month_amount  lag_3month_visit_cnt  \\\n",
       "0    c348709      0      F   41       49458.000000              6.000000   \n",
       "1    c354434      0      F   58       19074.765799              3.446097   \n",
       "2    c383761      0      F   41       22644.000000              3.000000   \n",
       "3    c352409      0      F   35        2000.000000              1.000000   \n",
       "4    c385259      0      F   26       55127.000000             12.000000   \n",
       "\n",
       "   category1  category2  category3  category4  category5  days_to_register  \\\n",
       "0     7228.0     8370.0    18300.0        0.0    15560.0             597.0   \n",
       "1        0.0        0.0        0.0        0.0        0.0             533.0   \n",
       "2     6817.0     8400.0     3227.0        0.0     4200.0             172.0   \n",
       "3        0.0        0.0        0.0        0.0     2000.0             557.0   \n",
       "4     2000.0        0.0    19277.0     9200.0    24650.0             152.0   \n",
       "\n",
       "   3month_amt_divide_reg  lag_3month_visit_cnt_divide_reg  pro_nuniqe_cnt  \n",
       "0              82.705686                         0.010033            12.0  \n",
       "1              35.720535                         0.006453             0.0  \n",
       "2             130.890173                         0.017341             7.0  \n",
       "3               3.584229                         0.001792             1.0  \n",
       "4             360.307190                         0.078431            12.0  "
      ]
     },
     "execution_count": 62,
     "metadata": {},
     "output_type": "execute_result"
    }
   ],
   "source": [
    "customer_churn.head()"
   ]
  },
  {
   "cell_type": "code",
   "execution_count": null,
   "metadata": {},
   "outputs": [],
   "source": []
  },
  {
   "cell_type": "markdown",
   "metadata": {},
   "source": [
    "### 문제 5. 데이터를 살펴봅시다.\n",
    "다시 데이터 이해로 돌아갑니다.  \n",
    "데이터 준비에서 정리한 데이터셋을 가지고, 가설이 참인지 거짓인지 살펴봅니다.  \n",
    "이때, 기초통계량과 차트를 이용하게 됩니다. 그리고 이 단계를 특별히 **'탐색적 데이터 분석(EDA)'** 이라고 부릅니다.  \n",
    "여기서는 몇가지 방법을 가지고 살펴보겠습니다."
   ]
  },
  {
   "cell_type": "markdown",
   "metadata": {},
   "source": [
    "5-1) 데이터셋에서 이탈한 고객과 이탈하지 않은 고객의 비율은?"
   ]
  },
  {
   "cell_type": "code",
   "execution_count": 63,
   "metadata": {},
   "outputs": [
    {
     "data": {
      "text/plain": [
       "0    0.638418\n",
       "1    0.361582\n",
       "Name: Churn, dtype: float64"
      ]
     },
     "execution_count": 63,
     "metadata": {},
     "output_type": "execute_result"
    }
   ],
   "source": [
    "customer_churn.Churn.value_counts(normalize = True)"
   ]
  },
  {
   "cell_type": "code",
   "execution_count": 64,
   "metadata": {},
   "outputs": [
    {
     "data": {
      "image/png": "[encoded data removed]",
      "text/plain": [
       "<Figure size 640x480 with 1 Axes>"
      ]
     },
     "metadata": {
      "needs_background": "light"
     },
     "output_type": "display_data"
    },
    {
     "name": "stdout",
     "output_type": "stream",
     "text": [
      "<ggplot: (7545214675)>\n"
     ]
    }
   ],
   "source": [
    "p = ggplot(customer_churn, aes('factor(Churn)', fill = 'factor(Churn)')) + geom_bar(alpha = 0.8) + theme_minimal()\n",
    "print(p)"
   ]
  },
  {
   "cell_type": "markdown",
   "metadata": {},
   "source": [
    "5-2) 성별 별로 이탈율를 조회하시오."
   ]
  },
  {
   "cell_type": "code",
   "execution_count": 65,
   "metadata": {},
   "outputs": [
    {
     "data": {
      "text/html": [
       "<div>\n",
       "<style scoped>\n",
       "    .dataframe tbody tr th:only-of-type {\n",
       "        vertical-align: middle;\n",
       "    }\n",
       "\n",
       "    .dataframe tbody tr th {\n",
       "        vertical-align: top;\n",
       "    }\n",
       "\n",
       "    .dataframe thead th {\n",
       "        text-align: right;\n",
       "    }\n",
       "</style>\n",
       "<table border=\"1\" class=\"dataframe\">\n",
       "  <thead>\n",
       "    <tr style=\"text-align: right;\">\n",
       "      <th></th>\n",
       "      <th>Gender</th>\n",
       "      <th>prop</th>\n",
       "    </tr>\n",
       "  </thead>\n",
       "  <tbody>\n",
       "    <tr>\n",
       "      <th>0</th>\n",
       "      <td>F</td>\n",
       "      <td>0.358209</td>\n",
       "    </tr>\n",
       "    <tr>\n",
       "      <th>1</th>\n",
       "      <td>M</td>\n",
       "      <td>0.421053</td>\n",
       "    </tr>\n",
       "  </tbody>\n",
       "</table>\n",
       "</div>"
      ],
      "text/plain": [
       "  Gender      prop\n",
       "0      F  0.358209\n",
       "1      M  0.421053"
      ]
     },
     "execution_count": 65,
     "metadata": {},
     "output_type": "execute_result"
    }
   ],
   "source": [
    "ex = customer_churn.groupby('Gender').Churn.mean().reset_index()\n",
    "ex.columns = ['Gender', 'prop']\n",
    "ex"
   ]
  },
  {
   "cell_type": "code",
   "execution_count": 66,
   "metadata": {},
   "outputs": [
    {
     "data": {
      "image/png": "[encoded data removed]",
      "text/plain": [
       "<Figure size 640x480 with 1 Axes>"
      ]
     },
     "metadata": {
      "needs_background": "light"
     },
     "output_type": "display_data"
    },
    {
     "name": "stdout",
     "output_type": "stream",
     "text": [
      "<ggplot: (-9223372029309561256)>\n"
     ]
    }
   ],
   "source": [
    "p = ggplot(ex, aes('factor(Gender)', 'prop',  fill = 'factor(Gender)')) + geom_col(alpha = 0.8) + theme_minimal()\n",
    "print(p)"
   ]
  },
  {
   "cell_type": "markdown",
   "metadata": {},
   "source": [
    "5-3) 나이의 분포를 히스토그램으로 그려봅시다."
   ]
  },
  {
   "cell_type": "code",
   "execution_count": 67,
   "metadata": {},
   "outputs": [
    {
     "name": "stderr",
     "output_type": "stream",
     "text": [
      "/Users/jeong/anaconda3/lib/python3.7/site-packages/plotnine/stats/stat_bin.py:93: UserWarning: 'stat_bin()' using 'bins = 19'. Pick better value with 'binwidth'.\n",
      "  warn(msg.format(params['bins']))\n"
     ]
    },
    {
     "data": {
      "image/png": "[encoded data removed]",
      "text/plain": [
       "<Figure size 640x480 with 1 Axes>"
      ]
     },
     "metadata": {
      "needs_background": "light"
     },
     "output_type": "display_data"
    },
    {
     "name": "stdout",
     "output_type": "stream",
     "text": [
      "<ggplot: (-9223372029305889192)>\n"
     ]
    }
   ],
   "source": [
    "p = ggplot(customer_churn, aes('age')) + geom_histogram(alpha = 0.8) + theme_minimal()\n",
    "print(p)"
   ]
  },
  {
   "cell_type": "code",
   "execution_count": null,
   "metadata": {},
   "outputs": [],
   "source": []
  },
  {
   "cell_type": "code",
   "execution_count": 68,
   "metadata": {},
   "outputs": [],
   "source": [
    "import seaborn as sns\n",
    "import warnings\n",
    "warnings.filterwarnings('ignore')"
   ]
  },
  {
   "cell_type": "markdown",
   "metadata": {},
   "source": [
    "5-4) 나이와 이탈여부와의 관계를 차트로 그리려면 코드는 다음과 같습니다.\n",
    "다음 코드를 수행해 봅시다."
   ]
  },
  {
   "cell_type": "code",
   "execution_count": 69,
   "metadata": {},
   "outputs": [
    {
     "data": {
      "image/png": "[encoded data removed]",
      "text/plain": [
       "<Figure size 360x360 with 1 Axes>"
      ]
     },
     "metadata": {
      "needs_background": "light"
     },
     "output_type": "display_data"
    }
   ],
   "source": [
    "sns.FacetGrid(customer_churn, hue='Churn', size = 5)\\\n",
    "    .map(sns.distplot, 'age', kde=True, hist=False)\n",
    "plt.show()"
   ]
  },
  {
   "cell_type": "markdown",
   "metadata": {},
   "source": [
    "다음의 조건에 대해서 차트를 그리시오,\n",
    "* 최근3개월 구매액과 이탈여부\n",
    "* 최근3개월 방문횟수와 이탈여부\n",
    "* 가입개월수와 이탈여부"
   ]
  },
  {
   "cell_type": "code",
   "execution_count": 70,
   "metadata": {},
   "outputs": [
    {
     "data": {
      "text/html": [
       "<div>\n",
       "<style scoped>\n",
       "    .dataframe tbody tr th:only-of-type {\n",
       "        vertical-align: middle;\n",
       "    }\n",
       "\n",
       "    .dataframe tbody tr th {\n",
       "        vertical-align: top;\n",
       "    }\n",
       "\n",
       "    .dataframe thead th {\n",
       "        text-align: right;\n",
       "    }\n",
       "</style>\n",
       "<table border=\"1\" class=\"dataframe\">\n",
       "  <thead>\n",
       "    <tr style=\"text-align: right;\">\n",
       "      <th></th>\n",
       "      <th>CustomerID</th>\n",
       "      <th>Churn</th>\n",
       "      <th>Gender</th>\n",
       "      <th>age</th>\n",
       "      <th>lag_3month_amount</th>\n",
       "      <th>lag_3month_visit_cnt</th>\n",
       "      <th>category1</th>\n",
       "      <th>category2</th>\n",
       "      <th>category3</th>\n",
       "      <th>category4</th>\n",
       "      <th>category5</th>\n",
       "      <th>days_to_register</th>\n",
       "      <th>3month_amt_divide_reg</th>\n",
       "      <th>lag_3month_visit_cnt_divide_reg</th>\n",
       "      <th>pro_nuniqe_cnt</th>\n",
       "    </tr>\n",
       "  </thead>\n",
       "  <tbody>\n",
       "    <tr>\n",
       "      <th>0</th>\n",
       "      <td>c348709</td>\n",
       "      <td>0</td>\n",
       "      <td>F</td>\n",
       "      <td>41</td>\n",
       "      <td>49458.000000</td>\n",
       "      <td>6.000000</td>\n",
       "      <td>7228.0</td>\n",
       "      <td>8370.0</td>\n",
       "      <td>18300.0</td>\n",
       "      <td>0.0</td>\n",
       "      <td>15560.0</td>\n",
       "      <td>597.0</td>\n",
       "      <td>82.705686</td>\n",
       "      <td>0.010033</td>\n",
       "      <td>12.0</td>\n",
       "    </tr>\n",
       "    <tr>\n",
       "      <th>1</th>\n",
       "      <td>c354434</td>\n",
       "      <td>0</td>\n",
       "      <td>F</td>\n",
       "      <td>58</td>\n",
       "      <td>19074.765799</td>\n",
       "      <td>3.446097</td>\n",
       "      <td>0.0</td>\n",
       "      <td>0.0</td>\n",
       "      <td>0.0</td>\n",
       "      <td>0.0</td>\n",
       "      <td>0.0</td>\n",
       "      <td>533.0</td>\n",
       "      <td>35.720535</td>\n",
       "      <td>0.006453</td>\n",
       "      <td>0.0</td>\n",
       "    </tr>\n",
       "    <tr>\n",
       "      <th>2</th>\n",
       "      <td>c383761</td>\n",
       "      <td>0</td>\n",
       "      <td>F</td>\n",
       "      <td>41</td>\n",
       "      <td>22644.000000</td>\n",
       "      <td>3.000000</td>\n",
       "      <td>6817.0</td>\n",
       "      <td>8400.0</td>\n",
       "      <td>3227.0</td>\n",
       "      <td>0.0</td>\n",
       "      <td>4200.0</td>\n",
       "      <td>172.0</td>\n",
       "      <td>130.890173</td>\n",
       "      <td>0.017341</td>\n",
       "      <td>7.0</td>\n",
       "    </tr>\n",
       "    <tr>\n",
       "      <th>3</th>\n",
       "      <td>c352409</td>\n",
       "      <td>0</td>\n",
       "      <td>F</td>\n",
       "      <td>35</td>\n",
       "      <td>2000.000000</td>\n",
       "      <td>1.000000</td>\n",
       "      <td>0.0</td>\n",
       "      <td>0.0</td>\n",
       "      <td>0.0</td>\n",
       "      <td>0.0</td>\n",
       "      <td>2000.0</td>\n",
       "      <td>557.0</td>\n",
       "      <td>3.584229</td>\n",
       "      <td>0.001792</td>\n",
       "      <td>1.0</td>\n",
       "    </tr>\n",
       "    <tr>\n",
       "      <th>4</th>\n",
       "      <td>c385259</td>\n",
       "      <td>0</td>\n",
       "      <td>F</td>\n",
       "      <td>26</td>\n",
       "      <td>55127.000000</td>\n",
       "      <td>12.000000</td>\n",
       "      <td>2000.0</td>\n",
       "      <td>0.0</td>\n",
       "      <td>19277.0</td>\n",
       "      <td>9200.0</td>\n",
       "      <td>24650.0</td>\n",
       "      <td>152.0</td>\n",
       "      <td>360.307190</td>\n",
       "      <td>0.078431</td>\n",
       "      <td>12.0</td>\n",
       "    </tr>\n",
       "  </tbody>\n",
       "</table>\n",
       "</div>"
      ],
      "text/plain": [
       "  CustomerID  Churn Gender  age  lag_3month_amount  lag_3month_visit_cnt  \\\n",
       "0    c348709      0      F   41       49458.000000              6.000000   \n",
       "1    c354434      0      F   58       19074.765799              3.446097   \n",
       "2    c383761      0      F   41       22644.000000              3.000000   \n",
       "3    c352409      0      F   35        2000.000000              1.000000   \n",
       "4    c385259      0      F   26       55127.000000             12.000000   \n",
       "\n",
       "   category1  category2  category3  category4  category5  days_to_register  \\\n",
       "0     7228.0     8370.0    18300.0        0.0    15560.0             597.0   \n",
       "1        0.0        0.0        0.0        0.0        0.0             533.0   \n",
       "2     6817.0     8400.0     3227.0        0.0     4200.0             172.0   \n",
       "3        0.0        0.0        0.0        0.0     2000.0             557.0   \n",
       "4     2000.0        0.0    19277.0     9200.0    24650.0             152.0   \n",
       "\n",
       "   3month_amt_divide_reg  lag_3month_visit_cnt_divide_reg  pro_nuniqe_cnt  \n",
       "0              82.705686                         0.010033            12.0  \n",
       "1              35.720535                         0.006453             0.0  \n",
       "2             130.890173                         0.017341             7.0  \n",
       "3               3.584229                         0.001792             1.0  \n",
       "4             360.307190                         0.078431            12.0  "
      ]
     },
     "execution_count": 70,
     "metadata": {},
     "output_type": "execute_result"
    }
   ],
   "source": [
    "customer_churn.head()"
   ]
  },
  {
   "cell_type": "code",
   "execution_count": 71,
   "metadata": {},
   "outputs": [
    {
     "data": {
      "image/png": "[encoded data removed]",
      "text/plain": [
       "<Figure size 640x480 with 1 Axes>"
      ]
     },
     "metadata": {
      "needs_background": "light"
     },
     "output_type": "display_data"
    },
    {
     "name": "stdout",
     "output_type": "stream",
     "text": [
      "<ggplot: (7548607173)>\n"
     ]
    },
    {
     "data": {
      "image/png": "[encoded data removed]",
      "text/plain": [
       "<Figure size 640x480 with 1 Axes>"
      ]
     },
     "metadata": {
      "needs_background": "light"
     },
     "output_type": "display_data"
    },
    {
     "name": "stdout",
     "output_type": "stream",
     "text": [
      "<ggplot: (7548614909)>\n"
     ]
    }
   ],
   "source": [
    "# 최근3개월 구매액과 이탈여부\n",
    "p = (ggplot(customer_churn, aes('factor(Churn)', 'lag_3month_amount', fill = 'factor(Churn)' )) + \n",
    "    geom_boxplot(alpha = 0.7) + theme_minimal() + ggtitle('lag_3month_amount versus Target') )\n",
    "print(p)\n",
    "p = (ggplot(customer_churn, aes('lag_3month_amount', fill = 'factor(Churn)' )) + \n",
    "    geom_density(alpha = 0.3) + theme_minimal() + ggtitle('lag_3month_amount versus Target densityplot') )\n",
    "print(p)"
   ]
  },
  {
   "cell_type": "code",
   "execution_count": 72,
   "metadata": {},
   "outputs": [
    {
     "data": {
      "image/png": "[encoded data removed]",
      "text/plain": [
       "<Figure size 640x480 with 1 Axes>"
      ]
     },
     "metadata": {
      "needs_background": "light"
     },
     "output_type": "display_data"
    },
    {
     "name": "stdout",
     "output_type": "stream",
     "text": [
      "<ggplot: (7548628207)>\n"
     ]
    },
    {
     "data": {
      "image/png": "[encoded data removed]",
      "text/plain": [
       "<Figure size 640x480 with 1 Axes>"
      ]
     },
     "metadata": {
      "needs_background": "light"
     },
     "output_type": "display_data"
    },
    {
     "name": "stdout",
     "output_type": "stream",
     "text": [
      "<ggplot: (-9223372029306182561)>\n"
     ]
    }
   ],
   "source": [
    "# 최근3개월 방문횟수와 이탈여부\n",
    "p = (ggplot(customer_churn, aes('factor(Churn)', 'lag_3month_visit_cnt', fill = 'factor(Churn)' )) + \n",
    "    geom_boxplot(alpha = 0.7) + theme_minimal() + ggtitle('lag_3month_visit_cnt versus Target') )\n",
    "print(p)\n",
    "p = (ggplot(customer_churn, aes('lag_3month_visit_cnt', fill = 'factor(Churn)' )) + \n",
    "    geom_density(alpha = 0.3) + theme_minimal() + ggtitle('lag_3month_visit_cnt versus Target densityplot') )\n",
    "print(p)"
   ]
  },
  {
   "cell_type": "code",
   "execution_count": 73,
   "metadata": {},
   "outputs": [
    {
     "data": {
      "image/png": "[encoded data removed]",
      "text/plain": [
       "<Figure size 640x480 with 1 Axes>"
      ]
     },
     "metadata": {
      "needs_background": "light"
     },
     "output_type": "display_data"
    },
    {
     "name": "stdout",
     "output_type": "stream",
     "text": [
      "<ggplot: (-9223372029311076983)>\n"
     ]
    },
    {
     "data": {
      "image/png": "[encoded data removed]",
      "text/plain": [
       "<Figure size 640x480 with 1 Axes>"
      ]
     },
     "metadata": {
      "needs_background": "light"
     },
     "output_type": "display_data"
    },
    {
     "name": "stdout",
     "output_type": "stream",
     "text": [
      "<ggplot: (-9223372029305020444)>\n"
     ]
    }
   ],
   "source": [
    "# 가입개월수와 이탈여부\n",
    "p = (ggplot(customer_churn, aes('factor(Churn)', 'days_to_register', fill = 'factor(Churn)' )) + \n",
    "    geom_boxplot(alpha = 0.7) + theme_minimal() + ggtitle('days_to_register versus Target') )\n",
    "print(p)\n",
    "p = (ggplot(customer_churn, aes('days_to_register', fill = 'factor(Churn)' )) + \n",
    "    geom_density(alpha = 0.3) + theme_minimal() + ggtitle('days_to_register versus Target densityplot') )\n",
    "print(p)"
   ]
  },
  {
   "cell_type": "markdown",
   "metadata": {},
   "source": [
    "## 4.모델링"
   ]
  },
  {
   "cell_type": "markdown",
   "metadata": {},
   "source": [
    "모델링을 위한 전처리\n",
    "    * Dummry Variable\n",
    "    * Scaling\n",
    "   "
   ]
  },
  {
   "cell_type": "markdown",
   "metadata": {},
   "source": [
    "### 문제 6. Dummy variable만들기\n"
   ]
  },
  {
   "cell_type": "markdown",
   "metadata": {},
   "source": [
    "범주형 변수들을 가변수화 합니다.(가변수화 이후 기존 변수는 제거합니다.)"
   ]
  },
  {
   "cell_type": "code",
   "execution_count": 74,
   "metadata": {},
   "outputs": [],
   "source": [
    "# Gender의 경우 가변수화 하여야 하지만, unique값이 2개밖에 없으므로 0, 1로 대체하였습니다.\n",
    "\n",
    "# dummy variable 만드는 식\n",
    "#temp = pd.get_dummies(customer_churn['Gender'])\n",
    "#pd.concat([customer_churn, temp], axis = 1, inplace = True)\n",
    "#customer_churn.drop('Temp', axis = 1, inplace = True)\n",
    "\n",
    "customer_churn['Gender'] = np.where(customer_churn['Gender']=='F', 1 ,0)\n"
   ]
  },
  {
   "cell_type": "code",
   "execution_count": null,
   "metadata": {},
   "outputs": [],
   "source": []
  },
  {
   "cell_type": "code",
   "execution_count": null,
   "metadata": {},
   "outputs": [],
   "source": []
  },
  {
   "cell_type": "markdown",
   "metadata": {},
   "source": [
    "불필요한 변수를 제거합니다."
   ]
  },
  {
   "cell_type": "code",
   "execution_count": 75,
   "metadata": {},
   "outputs": [],
   "source": [
    "customer_churn.drop('CustomerID', axis = 1, inplace = True)"
   ]
  },
  {
   "cell_type": "code",
   "execution_count": 76,
   "metadata": {},
   "outputs": [],
   "source": [
    "customer_churn.drop(['category1', 'category2', 'category3', 'category4', 'category5'], axis = 1, inplace = True)"
   ]
  },
  {
   "cell_type": "markdown",
   "metadata": {},
   "source": [
    "#### na값 체킹"
   ]
  },
  {
   "cell_type": "code",
   "execution_count": 77,
   "metadata": {},
   "outputs": [
    {
     "data": {
      "text/plain": [
       "Churn                              0\n",
       "Gender                             0\n",
       "age                                0\n",
       "lag_3month_amount                  0\n",
       "lag_3month_visit_cnt               0\n",
       "days_to_register                   0\n",
       "3month_amt_divide_reg              0\n",
       "lag_3month_visit_cnt_divide_reg    0\n",
       "pro_nuniqe_cnt                     0\n",
       "dtype: int64"
      ]
     },
     "execution_count": 77,
     "metadata": {},
     "output_type": "execute_result"
    }
   ],
   "source": [
    "customer_churn.isnull().sum()"
   ]
  },
  {
   "cell_type": "code",
   "execution_count": null,
   "metadata": {},
   "outputs": [],
   "source": []
  },
  {
   "cell_type": "code",
   "execution_count": null,
   "metadata": {},
   "outputs": [],
   "source": []
  },
  {
   "cell_type": "code",
   "execution_count": null,
   "metadata": {},
   "outputs": [],
   "source": []
  },
  {
   "cell_type": "code",
   "execution_count": null,
   "metadata": {},
   "outputs": [],
   "source": []
  },
  {
   "cell_type": "markdown",
   "metadata": {},
   "source": [
    "### Data Split"
   ]
  },
  {
   "cell_type": "code",
   "execution_count": 78,
   "metadata": {},
   "outputs": [],
   "source": [
    "# sklearn에서 제공하는 split 함수를 이용해보자. : train_test_split\n",
    "from sklearn.model_selection import train_test_split\n",
    "\n",
    "# features와 target 분리\n",
    "X = customer_churn.drop('Churn', axis=1)\n",
    "y = customer_churn.loc[:, 'Churn'] \n",
    "\n",
    "train_features, test_features, train_target, test_target \\\n",
    "    = train_test_split(X, y, test_size=0.2, random_state=1)"
   ]
  },
  {
   "cell_type": "markdown",
   "metadata": {},
   "source": [
    "### 문제 7. Scalinng\n",
    "\n",
    "숫자형 변수들을 스케일링 합니다."
   ]
  },
  {
   "cell_type": "code",
   "execution_count": 79,
   "metadata": {},
   "outputs": [],
   "source": [
    "# 필요한 함수 로딩\n",
    "from sklearn.preprocessing import MinMaxScaler\n",
    "\n",
    "# 선언하기\n",
    "minmax = MinMaxScaler()\n",
    "\n",
    "# train 데이터로 .fit ==> 모든변수의 min, max, 공식 도출.\n",
    "# 말하자면, scaling 하는 모델을 만드는 것!\n",
    "minmax.fit(train_features) # train min, max\n",
    "\n",
    "# 위 scaling 공식으로 적용하기(변환하기)\n",
    "train_features_sc = minmax.transform(train_features)\n",
    "test_features_sc = minmax.transform(test_features)"
   ]
  },
  {
   "cell_type": "code",
   "execution_count": 80,
   "metadata": {},
   "outputs": [],
   "source": [
    "train_target, test_target = train_target.values, test_target.values"
   ]
  },
  {
   "cell_type": "markdown",
   "metadata": {},
   "source": [
    "### 모델링\n",
    "다음 코드는 그대로 실행하여 결과를 확인해 봅시다."
   ]
  },
  {
   "cell_type": "code",
   "execution_count": 81,
   "metadata": {},
   "outputs": [
    {
     "name": "stdout",
     "output_type": "stream",
     "text": [
      "test 정확도 : 69.01%\n"
     ]
    }
   ],
   "source": [
    "# 필요한 라이브러리 가져오자\n",
    "from sklearn.neighbors import KNeighborsClassifier\n",
    "\n",
    "# confusion matrix\n",
    "from sklearn.metrics import accuracy_score\n",
    "from sklearn.metrics import confusion_matrix\n",
    "\n",
    "# 모델 준비\n",
    "knn_cl = KNeighborsClassifier(n_neighbors=3)\n",
    "knn_cl.fit(train_features, train_target)\n",
    "test_pred = knn_cl.predict(test_features)\n",
    "\n",
    "test_acc = accuracy_score(test_target, test_pred)\n",
    "print('test 정확도 : {:.2f}%'.format(test_acc*100))\n"
   ]
  },
  {
   "cell_type": "markdown",
   "metadata": {},
   "source": [
    "정 분류율(Accuracy)은 몇 % 인가요?  "
   ]
  },
  {
   "cell_type": "code",
   "execution_count": 82,
   "metadata": {},
   "outputs": [
    {
     "name": "stdout",
     "output_type": "stream",
     "text": [
      "[[35 11]\n",
      " [11 14]]\n"
     ]
    }
   ],
   "source": [
    "print(confusion_matrix(test_target, test_pred))"
   ]
  },
  {
   "cell_type": "markdown",
   "metadata": {},
   "source": [
    "### model score\n",
    "\n",
    "#### ver 1. (과제 수행을 한 뒤 얻은 feature들만으로 돌린 baseline)\n",
    "test 정확도 : 60.56%  \n",
    "[[30 16]  \n",
    " [12 13]]  \n",
    "\n",
    "\n",
    "#### ver 2. 변수 추가(feature1, feature2 추가)\n",
    "test 정확도 : 67.61%    \n",
    "[[33 13]  \n",
    " [10 15]]   \n",
    " \n",
    "#### ver 3. 변수 추가(feature3추가)\n",
    "test 정확도 : 71.83%    \n",
    "[[34 12]  \n",
    " [ 8 17]]   \n",
    " \n",
    "\n",
    "#### ver 4. 변수 추가(feature4, 5추가) -> 최종 feature에서 제외  \n",
    "test 정확도 : 61.97%     \n",
    "[[29 17]  \n",
    " [10 15]]   \n",
    " \n",
    " \n",
    "#### ver 4. 변수 제거(ver 3에서 category1~5 컬럼 제거)  \n",
    "test 정확도 : 74.65%    \n",
    "[[34 12]  \n",
    " [ 6 19]]  "
   ]
  },
  {
   "cell_type": "code",
   "execution_count": null,
   "metadata": {},
   "outputs": [],
   "source": []
  },
  {
   "cell_type": "code",
   "execution_count": null,
   "metadata": {},
   "outputs": [],
   "source": []
  },
  {
   "cell_type": "markdown",
   "metadata": {},
   "source": [
    "### 문제 8. 성능을 더 높이기 위해서 무엇을 하면 좋을까요?\n",
    "\n",
    "여러분의 의견을 아래 적어 봅시다."
   ]
  },
  {
   "cell_type": "markdown",
   "metadata": {},
   "source": [
    "- 1. 데이터 사이즈를 늘립니다. 특히 이탈을 한 데이터가 적으므로 해당 데이터들의 샘플을 더욱 확보합니다.\n",
    "- 2. 의미없는 데이터, 노이즈들을 제거합니다. \n",
    "- 3. Target 비율을 조정합니다. 1번과 비슷한 맥락이며, 많은 데이터의 라벨값을 샘플링할때 모델이 학습하기 더욱 용이할것입니다.\n",
    "- 4. 좋은 feature들을 많이 생성합니다. 고객의 과거 데이터들을 aggregation한 결과들이므로, 과거 패턴들을 피쳐화 할수있는 변수들을 더욱 발굴합니다.\n",
    "- 5. 다양한 모델에 학습시켜보고, validation을 정확하게 잡습니다. 이를통해 과적합을 예방합니다. "
   ]
  },
  {
   "cell_type": "code",
   "execution_count": null,
   "metadata": {},
   "outputs": [],
   "source": []
  },
  {
   "cell_type": "code",
   "execution_count": null,
   "metadata": {},
   "outputs": [],
   "source": []
  }
 ],
 "metadata": {
  "colab": {
   "collapsed_sections": [
    "DFijIAllYnVQ",
    "Bie5qwmkYnVT",
    "-RYoYWk-YnVc",
    "jPLYmNHQYnVy",
    "WUSoqSxcYnV5",
    "0kW6dzBFYnWW",
    "QiqL2q7spSvA",
    "0Cq3lmVb5oj2",
    "jdMTalYEHiAi"
   ],
   "name": "72.Pandas.ipynb",
   "provenance": [],
   "version": "0.3.2"
  },
  "kernelspec": {
   "display_name": "Python 3",
   "language": "python",
   "name": "python3"
  },
  "language_info": {
   "codemirror_mode": {
    "name": "ipython",
    "version": 3
   },
   "file_extension": ".py",
   "mimetype": "text/x-python",
   "name": "python",
   "nbconvert_exporter": "python",
   "pygments_lexer": "ipython3",
   "version": "3.7.6"
  }
 },
 "nbformat": 4,
 "nbformat_minor": 1
}
