{
 "cells": [
  {
   "cell_type": "markdown",
   "metadata": {
    "colab_type": "text",
    "id": "w8C_iSSpYnVO"
   },
   "source": [
    "# 전처리 종합실습 ②\n",
    "\n",
    "#### 목표\n",
    "주가를 예측하는 모델링을 수행하고자 할때,  \n",
    "모델링에 적합한 형태로 데이터를 만들어 봅시다."
   ]
  },
  {
   "cell_type": "markdown",
   "metadata": {
    "colab_type": "text",
    "id": "DFijIAllYnVQ"
   },
   "source": [
    "## 데이터 준비"
   ]
  },
  {
   "cell_type": "code",
   "execution_count": 37,
   "metadata": {
    "colab": {},
    "colab_type": "code",
    "id": "0wzhP3IXYnVQ"
   },
   "outputs": [],
   "source": [
    "import pandas as pd\n",
    "import numpy as np\n",
    "import matplotlib.pyplot as plt"
   ]
  },
  {
   "cell_type": "code",
   "execution_count": 38,
   "metadata": {},
   "outputs": [
    {
     "data": {
      "text/html": [
       "<div>\n",
       "<style scoped>\n",
       "    .dataframe tbody tr th:only-of-type {\n",
       "        vertical-align: middle;\n",
       "    }\n",
       "\n",
       "    .dataframe tbody tr th {\n",
       "        vertical-align: top;\n",
       "    }\n",
       "\n",
       "    .dataframe thead th {\n",
       "        text-align: right;\n",
       "    }\n",
       "</style>\n",
       "<table border=\"1\" class=\"dataframe\">\n",
       "  <thead>\n",
       "    <tr style=\"text-align: right;\">\n",
       "      <th></th>\n",
       "      <th>Date</th>\n",
       "      <th>Open</th>\n",
       "      <th>High</th>\n",
       "      <th>Low</th>\n",
       "      <th>Close</th>\n",
       "      <th>Adj Close</th>\n",
       "      <th>Volume</th>\n",
       "    </tr>\n",
       "  </thead>\n",
       "  <tbody>\n",
       "    <tr>\n",
       "      <th>0</th>\n",
       "      <td>2014-09-09</td>\n",
       "      <td>17.16</td>\n",
       "      <td>17.240000</td>\n",
       "      <td>17.070000</td>\n",
       "      <td>17.110001</td>\n",
       "      <td>15.917809</td>\n",
       "      <td>198700</td>\n",
       "    </tr>\n",
       "    <tr>\n",
       "      <th>1</th>\n",
       "      <td>2014-09-10</td>\n",
       "      <td>17.08</td>\n",
       "      <td>17.200001</td>\n",
       "      <td>16.959999</td>\n",
       "      <td>17.200001</td>\n",
       "      <td>16.001539</td>\n",
       "      <td>297900</td>\n",
       "    </tr>\n",
       "    <tr>\n",
       "      <th>2</th>\n",
       "      <td>2014-09-11</td>\n",
       "      <td>17.02</td>\n",
       "      <td>17.070000</td>\n",
       "      <td>16.959999</td>\n",
       "      <td>17.020000</td>\n",
       "      <td>15.834081</td>\n",
       "      <td>166500</td>\n",
       "    </tr>\n",
       "    <tr>\n",
       "      <th>3</th>\n",
       "      <td>2014-09-12</td>\n",
       "      <td>17.25</td>\n",
       "      <td>17.309999</td>\n",
       "      <td>17.219999</td>\n",
       "      <td>17.260000</td>\n",
       "      <td>16.057358</td>\n",
       "      <td>255000</td>\n",
       "    </tr>\n",
       "    <tr>\n",
       "      <th>4</th>\n",
       "      <td>2014-09-15</td>\n",
       "      <td>17.24</td>\n",
       "      <td>17.260000</td>\n",
       "      <td>17.139999</td>\n",
       "      <td>17.200001</td>\n",
       "      <td>16.001539</td>\n",
       "      <td>346200</td>\n",
       "    </tr>\n",
       "  </tbody>\n",
       "</table>\n",
       "</div>"
      ],
      "text/plain": [
       "        Date   Open       High        Low      Close  Adj Close  Volume\n",
       "0 2014-09-09  17.16  17.240000  17.070000  17.110001  15.917809  198700\n",
       "1 2014-09-10  17.08  17.200001  16.959999  17.200001  16.001539  297900\n",
       "2 2014-09-11  17.02  17.070000  16.959999  17.020000  15.834081  166500\n",
       "3 2014-09-12  17.25  17.309999  17.219999  17.260000  16.057358  255000\n",
       "4 2014-09-15  17.24  17.260000  17.139999  17.200001  16.001539  346200"
      ]
     },
     "execution_count": 38,
     "metadata": {},
     "output_type": "execute_result"
    }
   ],
   "source": [
    "stock = pd.read_csv('https://raw.githubusercontent.com/DA4BAM/dataset/master/KT.csv'\n",
    "                 , sep=',', skipinitialspace=True)  \n",
    "stock.Date = pd.to_datetime(stock.Date)\n",
    "stock.head()"
   ]
  },
  {
   "cell_type": "markdown",
   "metadata": {},
   "source": [
    "## 문제 1. 데이터 살펴보기"
   ]
  },
  {
   "cell_type": "markdown",
   "metadata": {},
   "source": [
    "1-1) 받은 데이터는 몇일부터 몇일까지의 주가 데이터인가요?"
   ]
  },
  {
   "cell_type": "code",
   "execution_count": 39,
   "metadata": {},
   "outputs": [
    {
     "name": "stdout",
     "output_type": "stream",
     "text": [
      "2014-09-09 00:00:00 2019-09-09 00:00:00\n"
     ]
    }
   ],
   "source": [
    "print(min(stock.Date), max(stock.Date))"
   ]
  },
  {
   "cell_type": "code",
   "execution_count": 42,
   "metadata": {},
   "outputs": [
    {
     "name": "stdout",
     "output_type": "stream",
     "text": [
      "2014-09-09 00:00:00\n"
     ]
    }
   ],
   "source": [
    "print(stock.Date.min())"
   ]
  },
  {
   "cell_type": "markdown",
   "metadata": {},
   "source": [
    "1-2) 기간 중 최고가와 최저가, 평균 주가는 얼마인가요?"
   ]
  },
  {
   "cell_type": "code",
   "execution_count": 4,
   "metadata": {},
   "outputs": [
    {
     "name": "stdout",
     "output_type": "stream",
     "text": [
      "18.6 10.97 14.06943605718823\n"
     ]
    }
   ],
   "source": [
    "print(stock.Close.max(), stock.Close.min(), stock.Close.mean() )"
   ]
  },
  {
   "cell_type": "markdown",
   "metadata": {},
   "source": [
    "1-3) 연도별 최저, 최고, 평균 주가를 조회하시오."
   ]
  },
  {
   "cell_type": "code",
   "execution_count": 23,
   "metadata": {},
   "outputs": [],
   "source": [
    "stock['Year'] = stock['Date'].dt.year"
   ]
  },
  {
   "cell_type": "code",
   "execution_count": 6,
   "metadata": {},
   "outputs": [
    {
     "data": {
      "text/html": [
       "<div>\n",
       "<style scoped>\n",
       "    .dataframe tbody tr th:only-of-type {\n",
       "        vertical-align: middle;\n",
       "    }\n",
       "\n",
       "    .dataframe tbody tr th {\n",
       "        vertical-align: top;\n",
       "    }\n",
       "\n",
       "    .dataframe thead th {\n",
       "        text-align: right;\n",
       "    }\n",
       "</style>\n",
       "<table border=\"1\" class=\"dataframe\">\n",
       "  <thead>\n",
       "    <tr style=\"text-align: right;\">\n",
       "      <th></th>\n",
       "      <th>max</th>\n",
       "      <th>min</th>\n",
       "      <th>mean</th>\n",
       "    </tr>\n",
       "    <tr>\n",
       "      <th>Year</th>\n",
       "      <th></th>\n",
       "      <th></th>\n",
       "      <th></th>\n",
       "    </tr>\n",
       "  </thead>\n",
       "  <tbody>\n",
       "    <tr>\n",
       "      <th>2014</th>\n",
       "      <td>17.459999</td>\n",
       "      <td>14.05</td>\n",
       "      <td>15.293250</td>\n",
       "    </tr>\n",
       "    <tr>\n",
       "      <th>2015</th>\n",
       "      <td>14.850000</td>\n",
       "      <td>11.83</td>\n",
       "      <td>13.113095</td>\n",
       "    </tr>\n",
       "    <tr>\n",
       "      <th>2016</th>\n",
       "      <td>16.730000</td>\n",
       "      <td>11.03</td>\n",
       "      <td>14.140794</td>\n",
       "    </tr>\n",
       "    <tr>\n",
       "      <th>2017</th>\n",
       "      <td>18.600000</td>\n",
       "      <td>13.84</td>\n",
       "      <td>15.735578</td>\n",
       "    </tr>\n",
       "    <tr>\n",
       "      <th>2018</th>\n",
       "      <td>16.010000</td>\n",
       "      <td>12.75</td>\n",
       "      <td>13.973426</td>\n",
       "    </tr>\n",
       "    <tr>\n",
       "      <th>2019</th>\n",
       "      <td>14.670000</td>\n",
       "      <td>10.97</td>\n",
       "      <td>12.514566</td>\n",
       "    </tr>\n",
       "  </tbody>\n",
       "</table>\n",
       "</div>"
      ],
      "text/plain": [
       "            max    min       mean\n",
       "Year                             \n",
       "2014  17.459999  14.05  15.293250\n",
       "2015  14.850000  11.83  13.113095\n",
       "2016  16.730000  11.03  14.140794\n",
       "2017  18.600000  13.84  15.735578\n",
       "2018  16.010000  12.75  13.973426\n",
       "2019  14.670000  10.97  12.514566"
      ]
     },
     "execution_count": 6,
     "metadata": {},
     "output_type": "execute_result"
    }
   ],
   "source": [
    "stock.groupby(by = 'Year', as_index = True)['Close'].agg(['max','min','mean'])"
   ]
  },
  {
   "cell_type": "markdown",
   "metadata": {},
   "source": [
    "1-4) 종가(Close)를 라인차트로 그려봅시다."
   ]
  },
  {
   "cell_type": "code",
   "execution_count": 7,
   "metadata": {},
   "outputs": [
    {
     "data": {
      "image/png": "[encoded data removed]",
      "text/plain": [
       "<Figure size 432x288 with 1 Axes>"
      ]
     },
     "metadata": {
      "needs_background": "light"
     },
     "output_type": "display_data"
    }
   ],
   "source": [
    "stock.Close.plot()\n",
    "plt.show()"
   ]
  },
  {
   "cell_type": "code",
   "execution_count": 8,
   "metadata": {},
   "outputs": [
    {
     "data": {
      "image/png": "[encoded data removed]",
      "text/plain": [
       "<Figure size 432x288 with 1 Axes>"
      ]
     },
     "metadata": {
      "needs_background": "light"
     },
     "output_type": "display_data"
    }
   ],
   "source": [
    "stock.groupby(by = 'Year', as_index = True)['Close'].agg(['max','min','mean']).plot()\n",
    "plt.show()"
   ]
  },
  {
   "cell_type": "markdown",
   "metadata": {},
   "source": [
    "## 문제 2. 데이터 셋 구성하기"
   ]
  },
  {
   "cell_type": "markdown",
   "metadata": {},
   "source": [
    "종가를 기준으로 익일 종가를 예측하는 모델을 만들고자 합니다.\n",
    "데이터프레임은 어떻게 구성되어야 할까요?"
   ]
  },
  {
   "cell_type": "markdown",
   "metadata": {},
   "source": [
    "2-1) 전일 종가 변수를 추가하시오."
   ]
  },
  {
   "cell_type": "code",
   "execution_count": 24,
   "metadata": {},
   "outputs": [],
   "source": [
    "stock['Close_lag1'] = stock['Close'].shift()"
   ]
  },
  {
   "cell_type": "code",
   "execution_count": 4,
   "metadata": {},
   "outputs": [
    {
     "data": {
      "text/html": [
       "<div>\n",
       "<style scoped>\n",
       "    .dataframe tbody tr th:only-of-type {\n",
       "        vertical-align: middle;\n",
       "    }\n",
       "\n",
       "    .dataframe tbody tr th {\n",
       "        vertical-align: top;\n",
       "    }\n",
       "\n",
       "    .dataframe thead th {\n",
       "        text-align: right;\n",
       "    }\n",
       "</style>\n",
       "<table border=\"1\" class=\"dataframe\">\n",
       "  <thead>\n",
       "    <tr style=\"text-align: right;\">\n",
       "      <th></th>\n",
       "      <th>Date</th>\n",
       "      <th>Open</th>\n",
       "      <th>High</th>\n",
       "      <th>Low</th>\n",
       "      <th>Close</th>\n",
       "      <th>Adj Close</th>\n",
       "      <th>Volume</th>\n",
       "      <th>Close_lag1</th>\n",
       "    </tr>\n",
       "  </thead>\n",
       "  <tbody>\n",
       "    <tr>\n",
       "      <th>0</th>\n",
       "      <td>2014-09-09</td>\n",
       "      <td>17.16</td>\n",
       "      <td>17.240000</td>\n",
       "      <td>17.070000</td>\n",
       "      <td>17.110001</td>\n",
       "      <td>15.917809</td>\n",
       "      <td>198700</td>\n",
       "      <td>NaN</td>\n",
       "    </tr>\n",
       "    <tr>\n",
       "      <th>1</th>\n",
       "      <td>2014-09-10</td>\n",
       "      <td>17.08</td>\n",
       "      <td>17.200001</td>\n",
       "      <td>16.959999</td>\n",
       "      <td>17.200001</td>\n",
       "      <td>16.001539</td>\n",
       "      <td>297900</td>\n",
       "      <td>17.110001</td>\n",
       "    </tr>\n",
       "    <tr>\n",
       "      <th>2</th>\n",
       "      <td>2014-09-11</td>\n",
       "      <td>17.02</td>\n",
       "      <td>17.070000</td>\n",
       "      <td>16.959999</td>\n",
       "      <td>17.020000</td>\n",
       "      <td>15.834081</td>\n",
       "      <td>166500</td>\n",
       "      <td>17.200001</td>\n",
       "    </tr>\n",
       "    <tr>\n",
       "      <th>3</th>\n",
       "      <td>2014-09-12</td>\n",
       "      <td>17.25</td>\n",
       "      <td>17.309999</td>\n",
       "      <td>17.219999</td>\n",
       "      <td>17.260000</td>\n",
       "      <td>16.057358</td>\n",
       "      <td>255000</td>\n",
       "      <td>17.020000</td>\n",
       "    </tr>\n",
       "    <tr>\n",
       "      <th>4</th>\n",
       "      <td>2014-09-15</td>\n",
       "      <td>17.24</td>\n",
       "      <td>17.260000</td>\n",
       "      <td>17.139999</td>\n",
       "      <td>17.200001</td>\n",
       "      <td>16.001539</td>\n",
       "      <td>346200</td>\n",
       "      <td>17.260000</td>\n",
       "    </tr>\n",
       "  </tbody>\n",
       "</table>\n",
       "</div>"
      ],
      "text/plain": [
       "        Date   Open       High        Low      Close  Adj Close  Volume  \\\n",
       "0 2014-09-09  17.16  17.240000  17.070000  17.110001  15.917809  198700   \n",
       "1 2014-09-10  17.08  17.200001  16.959999  17.200001  16.001539  297900   \n",
       "2 2014-09-11  17.02  17.070000  16.959999  17.020000  15.834081  166500   \n",
       "3 2014-09-12  17.25  17.309999  17.219999  17.260000  16.057358  255000   \n",
       "4 2014-09-15  17.24  17.260000  17.139999  17.200001  16.001539  346200   \n",
       "\n",
       "   Close_lag1  \n",
       "0         NaN  \n",
       "1   17.110001  \n",
       "2   17.200001  \n",
       "3   17.020000  \n",
       "4   17.260000  "
      ]
     },
     "execution_count": 4,
     "metadata": {},
     "output_type": "execute_result"
    }
   ],
   "source": [
    "stock.head()"
   ]
  },
  {
   "cell_type": "markdown",
   "metadata": {},
   "source": [
    "2-2) 전전일 종가대비 전일 종가 등락폭 변수"
   ]
  },
  {
   "cell_type": "code",
   "execution_count": 25,
   "metadata": {},
   "outputs": [],
   "source": [
    "stock['Close_diff'] = stock['Close_lag1'] - stock['Close'].shift(2)"
   ]
  },
  {
   "cell_type": "code",
   "execution_count": 6,
   "metadata": {},
   "outputs": [
    {
     "data": {
      "text/html": [
       "<div>\n",
       "<style scoped>\n",
       "    .dataframe tbody tr th:only-of-type {\n",
       "        vertical-align: middle;\n",
       "    }\n",
       "\n",
       "    .dataframe tbody tr th {\n",
       "        vertical-align: top;\n",
       "    }\n",
       "\n",
       "    .dataframe thead th {\n",
       "        text-align: right;\n",
       "    }\n",
       "</style>\n",
       "<table border=\"1\" class=\"dataframe\">\n",
       "  <thead>\n",
       "    <tr style=\"text-align: right;\">\n",
       "      <th></th>\n",
       "      <th>Date</th>\n",
       "      <th>Open</th>\n",
       "      <th>High</th>\n",
       "      <th>Low</th>\n",
       "      <th>Close</th>\n",
       "      <th>Adj Close</th>\n",
       "      <th>Volume</th>\n",
       "      <th>Close_lag1</th>\n",
       "      <th>Close_diff</th>\n",
       "    </tr>\n",
       "  </thead>\n",
       "  <tbody>\n",
       "    <tr>\n",
       "      <th>0</th>\n",
       "      <td>2014-09-09</td>\n",
       "      <td>17.16</td>\n",
       "      <td>17.240000</td>\n",
       "      <td>17.070000</td>\n",
       "      <td>17.110001</td>\n",
       "      <td>15.917809</td>\n",
       "      <td>198700</td>\n",
       "      <td>NaN</td>\n",
       "      <td>NaN</td>\n",
       "    </tr>\n",
       "    <tr>\n",
       "      <th>1</th>\n",
       "      <td>2014-09-10</td>\n",
       "      <td>17.08</td>\n",
       "      <td>17.200001</td>\n",
       "      <td>16.959999</td>\n",
       "      <td>17.200001</td>\n",
       "      <td>16.001539</td>\n",
       "      <td>297900</td>\n",
       "      <td>17.110001</td>\n",
       "      <td>NaN</td>\n",
       "    </tr>\n",
       "    <tr>\n",
       "      <th>2</th>\n",
       "      <td>2014-09-11</td>\n",
       "      <td>17.02</td>\n",
       "      <td>17.070000</td>\n",
       "      <td>16.959999</td>\n",
       "      <td>17.020000</td>\n",
       "      <td>15.834081</td>\n",
       "      <td>166500</td>\n",
       "      <td>17.200001</td>\n",
       "      <td>0.090000</td>\n",
       "    </tr>\n",
       "    <tr>\n",
       "      <th>3</th>\n",
       "      <td>2014-09-12</td>\n",
       "      <td>17.25</td>\n",
       "      <td>17.309999</td>\n",
       "      <td>17.219999</td>\n",
       "      <td>17.260000</td>\n",
       "      <td>16.057358</td>\n",
       "      <td>255000</td>\n",
       "      <td>17.020000</td>\n",
       "      <td>-0.180001</td>\n",
       "    </tr>\n",
       "    <tr>\n",
       "      <th>4</th>\n",
       "      <td>2014-09-15</td>\n",
       "      <td>17.24</td>\n",
       "      <td>17.260000</td>\n",
       "      <td>17.139999</td>\n",
       "      <td>17.200001</td>\n",
       "      <td>16.001539</td>\n",
       "      <td>346200</td>\n",
       "      <td>17.260000</td>\n",
       "      <td>0.240000</td>\n",
       "    </tr>\n",
       "  </tbody>\n",
       "</table>\n",
       "</div>"
      ],
      "text/plain": [
       "        Date   Open       High        Low      Close  Adj Close  Volume  \\\n",
       "0 2014-09-09  17.16  17.240000  17.070000  17.110001  15.917809  198700   \n",
       "1 2014-09-10  17.08  17.200001  16.959999  17.200001  16.001539  297900   \n",
       "2 2014-09-11  17.02  17.070000  16.959999  17.020000  15.834081  166500   \n",
       "3 2014-09-12  17.25  17.309999  17.219999  17.260000  16.057358  255000   \n",
       "4 2014-09-15  17.24  17.260000  17.139999  17.200001  16.001539  346200   \n",
       "\n",
       "   Close_lag1  Close_diff  \n",
       "0         NaN         NaN  \n",
       "1   17.110001         NaN  \n",
       "2   17.200001    0.090000  \n",
       "3   17.020000   -0.180001  \n",
       "4   17.260000    0.240000  "
      ]
     },
     "execution_count": 6,
     "metadata": {},
     "output_type": "execute_result"
    }
   ],
   "source": [
    "stock.head()"
   ]
  },
  {
   "cell_type": "markdown",
   "metadata": {},
   "source": [
    "2-3) 전일 고가대비 저가 등락폭 변수"
   ]
  },
  {
   "cell_type": "code",
   "execution_count": 26,
   "metadata": {},
   "outputs": [],
   "source": [
    "stock['Diff_lag1'] = stock['High'].shift() - stock['Low'].shift()"
   ]
  },
  {
   "cell_type": "code",
   "execution_count": 8,
   "metadata": {},
   "outputs": [
    {
     "data": {
      "text/html": [
       "<div>\n",
       "<style scoped>\n",
       "    .dataframe tbody tr th:only-of-type {\n",
       "        vertical-align: middle;\n",
       "    }\n",
       "\n",
       "    .dataframe tbody tr th {\n",
       "        vertical-align: top;\n",
       "    }\n",
       "\n",
       "    .dataframe thead th {\n",
       "        text-align: right;\n",
       "    }\n",
       "</style>\n",
       "<table border=\"1\" class=\"dataframe\">\n",
       "  <thead>\n",
       "    <tr style=\"text-align: right;\">\n",
       "      <th></th>\n",
       "      <th>Date</th>\n",
       "      <th>Open</th>\n",
       "      <th>High</th>\n",
       "      <th>Low</th>\n",
       "      <th>Close</th>\n",
       "      <th>Adj Close</th>\n",
       "      <th>Volume</th>\n",
       "      <th>Close_lag1</th>\n",
       "      <th>Close_diff</th>\n",
       "      <th>Diff_lag1</th>\n",
       "    </tr>\n",
       "  </thead>\n",
       "  <tbody>\n",
       "    <tr>\n",
       "      <th>0</th>\n",
       "      <td>2014-09-09</td>\n",
       "      <td>17.16</td>\n",
       "      <td>17.240000</td>\n",
       "      <td>17.070000</td>\n",
       "      <td>17.110001</td>\n",
       "      <td>15.917809</td>\n",
       "      <td>198700</td>\n",
       "      <td>NaN</td>\n",
       "      <td>NaN</td>\n",
       "      <td>NaN</td>\n",
       "    </tr>\n",
       "    <tr>\n",
       "      <th>1</th>\n",
       "      <td>2014-09-10</td>\n",
       "      <td>17.08</td>\n",
       "      <td>17.200001</td>\n",
       "      <td>16.959999</td>\n",
       "      <td>17.200001</td>\n",
       "      <td>16.001539</td>\n",
       "      <td>297900</td>\n",
       "      <td>17.110001</td>\n",
       "      <td>NaN</td>\n",
       "      <td>0.170000</td>\n",
       "    </tr>\n",
       "    <tr>\n",
       "      <th>2</th>\n",
       "      <td>2014-09-11</td>\n",
       "      <td>17.02</td>\n",
       "      <td>17.070000</td>\n",
       "      <td>16.959999</td>\n",
       "      <td>17.020000</td>\n",
       "      <td>15.834081</td>\n",
       "      <td>166500</td>\n",
       "      <td>17.200001</td>\n",
       "      <td>0.090000</td>\n",
       "      <td>0.240002</td>\n",
       "    </tr>\n",
       "    <tr>\n",
       "      <th>3</th>\n",
       "      <td>2014-09-12</td>\n",
       "      <td>17.25</td>\n",
       "      <td>17.309999</td>\n",
       "      <td>17.219999</td>\n",
       "      <td>17.260000</td>\n",
       "      <td>16.057358</td>\n",
       "      <td>255000</td>\n",
       "      <td>17.020000</td>\n",
       "      <td>-0.180001</td>\n",
       "      <td>0.110001</td>\n",
       "    </tr>\n",
       "    <tr>\n",
       "      <th>4</th>\n",
       "      <td>2014-09-15</td>\n",
       "      <td>17.24</td>\n",
       "      <td>17.260000</td>\n",
       "      <td>17.139999</td>\n",
       "      <td>17.200001</td>\n",
       "      <td>16.001539</td>\n",
       "      <td>346200</td>\n",
       "      <td>17.260000</td>\n",
       "      <td>0.240000</td>\n",
       "      <td>0.090000</td>\n",
       "    </tr>\n",
       "  </tbody>\n",
       "</table>\n",
       "</div>"
      ],
      "text/plain": [
       "        Date   Open       High        Low      Close  Adj Close  Volume  \\\n",
       "0 2014-09-09  17.16  17.240000  17.070000  17.110001  15.917809  198700   \n",
       "1 2014-09-10  17.08  17.200001  16.959999  17.200001  16.001539  297900   \n",
       "2 2014-09-11  17.02  17.070000  16.959999  17.020000  15.834081  166500   \n",
       "3 2014-09-12  17.25  17.309999  17.219999  17.260000  16.057358  255000   \n",
       "4 2014-09-15  17.24  17.260000  17.139999  17.200001  16.001539  346200   \n",
       "\n",
       "   Close_lag1  Close_diff  Diff_lag1  \n",
       "0         NaN         NaN        NaN  \n",
       "1   17.110001         NaN   0.170000  \n",
       "2   17.200001    0.090000   0.240002  \n",
       "3   17.020000   -0.180001   0.110001  \n",
       "4   17.260000    0.240000   0.090000  "
      ]
     },
     "execution_count": 8,
     "metadata": {},
     "output_type": "execute_result"
    }
   ],
   "source": [
    "stock.head()"
   ]
  },
  {
   "cell_type": "markdown",
   "metadata": {},
   "source": [
    "2-4) 7일 이동평균종가"
   ]
  },
  {
   "cell_type": "code",
   "execution_count": 27,
   "metadata": {},
   "outputs": [],
   "source": [
    "stock['Close_MA7_Lag1'] = stock['Close'].rolling(7,min_periods=1).mean().shift()"
   ]
  },
  {
   "cell_type": "code",
   "execution_count": 10,
   "metadata": {},
   "outputs": [
    {
     "data": {
      "text/html": [
       "<div>\n",
       "<style scoped>\n",
       "    .dataframe tbody tr th:only-of-type {\n",
       "        vertical-align: middle;\n",
       "    }\n",
       "\n",
       "    .dataframe tbody tr th {\n",
       "        vertical-align: top;\n",
       "    }\n",
       "\n",
       "    .dataframe thead th {\n",
       "        text-align: right;\n",
       "    }\n",
       "</style>\n",
       "<table border=\"1\" class=\"dataframe\">\n",
       "  <thead>\n",
       "    <tr style=\"text-align: right;\">\n",
       "      <th></th>\n",
       "      <th>Date</th>\n",
       "      <th>Open</th>\n",
       "      <th>High</th>\n",
       "      <th>Low</th>\n",
       "      <th>Close</th>\n",
       "      <th>Adj Close</th>\n",
       "      <th>Volume</th>\n",
       "      <th>Close_lag1</th>\n",
       "      <th>Close_diff</th>\n",
       "      <th>Diff_lag1</th>\n",
       "      <th>Close_MA7_Lag1</th>\n",
       "    </tr>\n",
       "  </thead>\n",
       "  <tbody>\n",
       "    <tr>\n",
       "      <th>0</th>\n",
       "      <td>2014-09-09</td>\n",
       "      <td>17.16</td>\n",
       "      <td>17.240000</td>\n",
       "      <td>17.070000</td>\n",
       "      <td>17.110001</td>\n",
       "      <td>15.917809</td>\n",
       "      <td>198700</td>\n",
       "      <td>NaN</td>\n",
       "      <td>NaN</td>\n",
       "      <td>NaN</td>\n",
       "      <td>NaN</td>\n",
       "    </tr>\n",
       "    <tr>\n",
       "      <th>1</th>\n",
       "      <td>2014-09-10</td>\n",
       "      <td>17.08</td>\n",
       "      <td>17.200001</td>\n",
       "      <td>16.959999</td>\n",
       "      <td>17.200001</td>\n",
       "      <td>16.001539</td>\n",
       "      <td>297900</td>\n",
       "      <td>17.110001</td>\n",
       "      <td>NaN</td>\n",
       "      <td>0.170000</td>\n",
       "      <td>17.110001</td>\n",
       "    </tr>\n",
       "    <tr>\n",
       "      <th>2</th>\n",
       "      <td>2014-09-11</td>\n",
       "      <td>17.02</td>\n",
       "      <td>17.070000</td>\n",
       "      <td>16.959999</td>\n",
       "      <td>17.020000</td>\n",
       "      <td>15.834081</td>\n",
       "      <td>166500</td>\n",
       "      <td>17.200001</td>\n",
       "      <td>0.090000</td>\n",
       "      <td>0.240002</td>\n",
       "      <td>17.155001</td>\n",
       "    </tr>\n",
       "    <tr>\n",
       "      <th>3</th>\n",
       "      <td>2014-09-12</td>\n",
       "      <td>17.25</td>\n",
       "      <td>17.309999</td>\n",
       "      <td>17.219999</td>\n",
       "      <td>17.260000</td>\n",
       "      <td>16.057358</td>\n",
       "      <td>255000</td>\n",
       "      <td>17.020000</td>\n",
       "      <td>-0.180001</td>\n",
       "      <td>0.110001</td>\n",
       "      <td>17.110001</td>\n",
       "    </tr>\n",
       "    <tr>\n",
       "      <th>4</th>\n",
       "      <td>2014-09-15</td>\n",
       "      <td>17.24</td>\n",
       "      <td>17.260000</td>\n",
       "      <td>17.139999</td>\n",
       "      <td>17.200001</td>\n",
       "      <td>16.001539</td>\n",
       "      <td>346200</td>\n",
       "      <td>17.260000</td>\n",
       "      <td>0.240000</td>\n",
       "      <td>0.090000</td>\n",
       "      <td>17.147500</td>\n",
       "    </tr>\n",
       "  </tbody>\n",
       "</table>\n",
       "</div>"
      ],
      "text/plain": [
       "        Date   Open       High        Low      Close  Adj Close  Volume  \\\n",
       "0 2014-09-09  17.16  17.240000  17.070000  17.110001  15.917809  198700   \n",
       "1 2014-09-10  17.08  17.200001  16.959999  17.200001  16.001539  297900   \n",
       "2 2014-09-11  17.02  17.070000  16.959999  17.020000  15.834081  166500   \n",
       "3 2014-09-12  17.25  17.309999  17.219999  17.260000  16.057358  255000   \n",
       "4 2014-09-15  17.24  17.260000  17.139999  17.200001  16.001539  346200   \n",
       "\n",
       "   Close_lag1  Close_diff  Diff_lag1  Close_MA7_Lag1  \n",
       "0         NaN         NaN        NaN             NaN  \n",
       "1   17.110001         NaN   0.170000       17.110001  \n",
       "2   17.200001    0.090000   0.240002       17.155001  \n",
       "3   17.020000   -0.180001   0.110001       17.110001  \n",
       "4   17.260000    0.240000   0.090000       17.147500  "
      ]
     },
     "execution_count": 10,
     "metadata": {},
     "output_type": "execute_result"
    }
   ],
   "source": [
    "stock.head()"
   ]
  },
  {
   "cell_type": "markdown",
   "metadata": {},
   "source": [
    "2-5) 요일 변수"
   ]
  },
  {
   "cell_type": "code",
   "execution_count": 28,
   "metadata": {},
   "outputs": [],
   "source": [
    "stock['WeekDays'] = stock['Date'].dt.dayofweek"
   ]
  },
  {
   "cell_type": "code",
   "execution_count": 29,
   "metadata": {},
   "outputs": [
    {
     "data": {
      "text/html": [
       "<div>\n",
       "<style scoped>\n",
       "    .dataframe tbody tr th:only-of-type {\n",
       "        vertical-align: middle;\n",
       "    }\n",
       "\n",
       "    .dataframe tbody tr th {\n",
       "        vertical-align: top;\n",
       "    }\n",
       "\n",
       "    .dataframe thead th {\n",
       "        text-align: right;\n",
       "    }\n",
       "</style>\n",
       "<table border=\"1\" class=\"dataframe\">\n",
       "  <thead>\n",
       "    <tr style=\"text-align: right;\">\n",
       "      <th></th>\n",
       "      <th>Date</th>\n",
       "      <th>Open</th>\n",
       "      <th>High</th>\n",
       "      <th>Low</th>\n",
       "      <th>Close</th>\n",
       "      <th>Adj Close</th>\n",
       "      <th>Volume</th>\n",
       "      <th>Year</th>\n",
       "      <th>Close_lag1</th>\n",
       "      <th>Close_diff</th>\n",
       "      <th>Diff_lag1</th>\n",
       "      <th>Close_MA7_Lag1</th>\n",
       "      <th>WeekDays</th>\n",
       "    </tr>\n",
       "  </thead>\n",
       "  <tbody>\n",
       "    <tr>\n",
       "      <th>0</th>\n",
       "      <td>2014-09-09</td>\n",
       "      <td>17.16</td>\n",
       "      <td>17.240000</td>\n",
       "      <td>17.070000</td>\n",
       "      <td>17.110001</td>\n",
       "      <td>15.917809</td>\n",
       "      <td>198700</td>\n",
       "      <td>2014</td>\n",
       "      <td>NaN</td>\n",
       "      <td>NaN</td>\n",
       "      <td>NaN</td>\n",
       "      <td>NaN</td>\n",
       "      <td>1</td>\n",
       "    </tr>\n",
       "    <tr>\n",
       "      <th>1</th>\n",
       "      <td>2014-09-10</td>\n",
       "      <td>17.08</td>\n",
       "      <td>17.200001</td>\n",
       "      <td>16.959999</td>\n",
       "      <td>17.200001</td>\n",
       "      <td>16.001539</td>\n",
       "      <td>297900</td>\n",
       "      <td>2014</td>\n",
       "      <td>17.110001</td>\n",
       "      <td>NaN</td>\n",
       "      <td>0.170000</td>\n",
       "      <td>17.110001</td>\n",
       "      <td>2</td>\n",
       "    </tr>\n",
       "    <tr>\n",
       "      <th>2</th>\n",
       "      <td>2014-09-11</td>\n",
       "      <td>17.02</td>\n",
       "      <td>17.070000</td>\n",
       "      <td>16.959999</td>\n",
       "      <td>17.020000</td>\n",
       "      <td>15.834081</td>\n",
       "      <td>166500</td>\n",
       "      <td>2014</td>\n",
       "      <td>17.200001</td>\n",
       "      <td>0.090000</td>\n",
       "      <td>0.240002</td>\n",
       "      <td>17.155001</td>\n",
       "      <td>3</td>\n",
       "    </tr>\n",
       "    <tr>\n",
       "      <th>3</th>\n",
       "      <td>2014-09-12</td>\n",
       "      <td>17.25</td>\n",
       "      <td>17.309999</td>\n",
       "      <td>17.219999</td>\n",
       "      <td>17.260000</td>\n",
       "      <td>16.057358</td>\n",
       "      <td>255000</td>\n",
       "      <td>2014</td>\n",
       "      <td>17.020000</td>\n",
       "      <td>-0.180001</td>\n",
       "      <td>0.110001</td>\n",
       "      <td>17.110001</td>\n",
       "      <td>4</td>\n",
       "    </tr>\n",
       "    <tr>\n",
       "      <th>4</th>\n",
       "      <td>2014-09-15</td>\n",
       "      <td>17.24</td>\n",
       "      <td>17.260000</td>\n",
       "      <td>17.139999</td>\n",
       "      <td>17.200001</td>\n",
       "      <td>16.001539</td>\n",
       "      <td>346200</td>\n",
       "      <td>2014</td>\n",
       "      <td>17.260000</td>\n",
       "      <td>0.240000</td>\n",
       "      <td>0.090000</td>\n",
       "      <td>17.147500</td>\n",
       "      <td>0</td>\n",
       "    </tr>\n",
       "  </tbody>\n",
       "</table>\n",
       "</div>"
      ],
      "text/plain": [
       "        Date   Open       High        Low      Close  Adj Close  Volume  Year  \\\n",
       "0 2014-09-09  17.16  17.240000  17.070000  17.110001  15.917809  198700  2014   \n",
       "1 2014-09-10  17.08  17.200001  16.959999  17.200001  16.001539  297900  2014   \n",
       "2 2014-09-11  17.02  17.070000  16.959999  17.020000  15.834081  166500  2014   \n",
       "3 2014-09-12  17.25  17.309999  17.219999  17.260000  16.057358  255000  2014   \n",
       "4 2014-09-15  17.24  17.260000  17.139999  17.200001  16.001539  346200  2014   \n",
       "\n",
       "   Close_lag1  Close_diff  Diff_lag1  Close_MA7_Lag1  WeekDays  \n",
       "0         NaN         NaN        NaN             NaN         1  \n",
       "1   17.110001         NaN   0.170000       17.110001         2  \n",
       "2   17.200001    0.090000   0.240002       17.155001         3  \n",
       "3   17.020000   -0.180001   0.110001       17.110001         4  \n",
       "4   17.260000    0.240000   0.090000       17.147500         0  "
      ]
     },
     "execution_count": 29,
     "metadata": {},
     "output_type": "execute_result"
    }
   ],
   "source": [
    "stock.head()"
   ]
  },
  {
   "cell_type": "markdown",
   "metadata": {},
   "source": [
    "위에서 만든 변수 이외에 추가로 5개 이상을 더 만드시오."
   ]
  },
  {
   "cell_type": "code",
   "execution_count": null,
   "metadata": {},
   "outputs": [],
   "source": [
    "d"
   ]
  },
  {
   "cell_type": "code",
   "execution_count": null,
   "metadata": {},
   "outputs": [],
   "source": []
  },
  {
   "cell_type": "code",
   "execution_count": null,
   "metadata": {},
   "outputs": [],
   "source": []
  },
  {
   "cell_type": "code",
   "execution_count": null,
   "metadata": {},
   "outputs": [],
   "source": []
  },
  {
   "cell_type": "code",
   "execution_count": null,
   "metadata": {},
   "outputs": [],
   "source": []
  },
  {
   "cell_type": "code",
   "execution_count": null,
   "metadata": {},
   "outputs": [],
   "source": []
  },
  {
   "cell_type": "code",
   "execution_count": null,
   "metadata": {},
   "outputs": [],
   "source": []
  },
  {
   "cell_type": "markdown",
   "metadata": {},
   "source": [
    "## 문제 3. 모델링을 위한 전처리"
   ]
  },
  {
   "cell_type": "markdown",
   "metadata": {
    "scrolled": false
   },
   "source": [
    "* dummy variable로 변환하시오"
   ]
  },
  {
   "cell_type": "code",
   "execution_count": 30,
   "metadata": {},
   "outputs": [
    {
     "data": {
      "text/html": [
       "<div>\n",
       "<style scoped>\n",
       "    .dataframe tbody tr th:only-of-type {\n",
       "        vertical-align: middle;\n",
       "    }\n",
       "\n",
       "    .dataframe tbody tr th {\n",
       "        vertical-align: top;\n",
       "    }\n",
       "\n",
       "    .dataframe thead th {\n",
       "        text-align: right;\n",
       "    }\n",
       "</style>\n",
       "<table border=\"1\" class=\"dataframe\">\n",
       "  <thead>\n",
       "    <tr style=\"text-align: right;\">\n",
       "      <th></th>\n",
       "      <th>Date</th>\n",
       "      <th>Open</th>\n",
       "      <th>High</th>\n",
       "      <th>Low</th>\n",
       "      <th>Close</th>\n",
       "      <th>Adj Close</th>\n",
       "      <th>Volume</th>\n",
       "      <th>Year</th>\n",
       "      <th>Close_lag1</th>\n",
       "      <th>Close_diff</th>\n",
       "      <th>Diff_lag1</th>\n",
       "      <th>Close_MA7_Lag1</th>\n",
       "      <th>WeekDays</th>\n",
       "      <th>WeekDays_0</th>\n",
       "      <th>WeekDays_1</th>\n",
       "      <th>WeekDays_2</th>\n",
       "      <th>WeekDays_3</th>\n",
       "      <th>WeekDays_4</th>\n",
       "    </tr>\n",
       "  </thead>\n",
       "  <tbody>\n",
       "    <tr>\n",
       "      <th>0</th>\n",
       "      <td>2014-09-09</td>\n",
       "      <td>17.16</td>\n",
       "      <td>17.240000</td>\n",
       "      <td>17.070000</td>\n",
       "      <td>17.110001</td>\n",
       "      <td>15.917809</td>\n",
       "      <td>198700</td>\n",
       "      <td>2014</td>\n",
       "      <td>NaN</td>\n",
       "      <td>NaN</td>\n",
       "      <td>NaN</td>\n",
       "      <td>NaN</td>\n",
       "      <td>1</td>\n",
       "      <td>0</td>\n",
       "      <td>1</td>\n",
       "      <td>0</td>\n",
       "      <td>0</td>\n",
       "      <td>0</td>\n",
       "    </tr>\n",
       "    <tr>\n",
       "      <th>1</th>\n",
       "      <td>2014-09-10</td>\n",
       "      <td>17.08</td>\n",
       "      <td>17.200001</td>\n",
       "      <td>16.959999</td>\n",
       "      <td>17.200001</td>\n",
       "      <td>16.001539</td>\n",
       "      <td>297900</td>\n",
       "      <td>2014</td>\n",
       "      <td>17.110001</td>\n",
       "      <td>NaN</td>\n",
       "      <td>0.170000</td>\n",
       "      <td>17.110001</td>\n",
       "      <td>2</td>\n",
       "      <td>0</td>\n",
       "      <td>0</td>\n",
       "      <td>1</td>\n",
       "      <td>0</td>\n",
       "      <td>0</td>\n",
       "    </tr>\n",
       "    <tr>\n",
       "      <th>2</th>\n",
       "      <td>2014-09-11</td>\n",
       "      <td>17.02</td>\n",
       "      <td>17.070000</td>\n",
       "      <td>16.959999</td>\n",
       "      <td>17.020000</td>\n",
       "      <td>15.834081</td>\n",
       "      <td>166500</td>\n",
       "      <td>2014</td>\n",
       "      <td>17.200001</td>\n",
       "      <td>0.090000</td>\n",
       "      <td>0.240002</td>\n",
       "      <td>17.155001</td>\n",
       "      <td>3</td>\n",
       "      <td>0</td>\n",
       "      <td>0</td>\n",
       "      <td>0</td>\n",
       "      <td>1</td>\n",
       "      <td>0</td>\n",
       "    </tr>\n",
       "    <tr>\n",
       "      <th>3</th>\n",
       "      <td>2014-09-12</td>\n",
       "      <td>17.25</td>\n",
       "      <td>17.309999</td>\n",
       "      <td>17.219999</td>\n",
       "      <td>17.260000</td>\n",
       "      <td>16.057358</td>\n",
       "      <td>255000</td>\n",
       "      <td>2014</td>\n",
       "      <td>17.020000</td>\n",
       "      <td>-0.180001</td>\n",
       "      <td>0.110001</td>\n",
       "      <td>17.110001</td>\n",
       "      <td>4</td>\n",
       "      <td>0</td>\n",
       "      <td>0</td>\n",
       "      <td>0</td>\n",
       "      <td>0</td>\n",
       "      <td>1</td>\n",
       "    </tr>\n",
       "    <tr>\n",
       "      <th>4</th>\n",
       "      <td>2014-09-15</td>\n",
       "      <td>17.24</td>\n",
       "      <td>17.260000</td>\n",
       "      <td>17.139999</td>\n",
       "      <td>17.200001</td>\n",
       "      <td>16.001539</td>\n",
       "      <td>346200</td>\n",
       "      <td>2014</td>\n",
       "      <td>17.260000</td>\n",
       "      <td>0.240000</td>\n",
       "      <td>0.090000</td>\n",
       "      <td>17.147500</td>\n",
       "      <td>0</td>\n",
       "      <td>1</td>\n",
       "      <td>0</td>\n",
       "      <td>0</td>\n",
       "      <td>0</td>\n",
       "      <td>0</td>\n",
       "    </tr>\n",
       "  </tbody>\n",
       "</table>\n",
       "</div>"
      ],
      "text/plain": [
       "        Date   Open       High        Low      Close  Adj Close  Volume  Year  \\\n",
       "0 2014-09-09  17.16  17.240000  17.070000  17.110001  15.917809  198700  2014   \n",
       "1 2014-09-10  17.08  17.200001  16.959999  17.200001  16.001539  297900  2014   \n",
       "2 2014-09-11  17.02  17.070000  16.959999  17.020000  15.834081  166500  2014   \n",
       "3 2014-09-12  17.25  17.309999  17.219999  17.260000  16.057358  255000  2014   \n",
       "4 2014-09-15  17.24  17.260000  17.139999  17.200001  16.001539  346200  2014   \n",
       "\n",
       "   Close_lag1  Close_diff  Diff_lag1  Close_MA7_Lag1  WeekDays  WeekDays_0  \\\n",
       "0         NaN         NaN        NaN             NaN         1           0   \n",
       "1   17.110001         NaN   0.170000       17.110001         2           0   \n",
       "2   17.200001    0.090000   0.240002       17.155001         3           0   \n",
       "3   17.020000   -0.180001   0.110001       17.110001         4           0   \n",
       "4   17.260000    0.240000   0.090000       17.147500         0           1   \n",
       "\n",
       "   WeekDays_1  WeekDays_2  WeekDays_3  WeekDays_4  \n",
       "0           1           0           0           0  \n",
       "1           0           1           0           0  \n",
       "2           0           0           1           0  \n",
       "3           0           0           0           1  \n",
       "4           0           0           0           0  "
      ]
     },
     "execution_count": 30,
     "metadata": {},
     "output_type": "execute_result"
    }
   ],
   "source": [
    "# 범주형(명목형) 변수를 가변수로 만들고 붙여봅시다.\n",
    "dummy_fields = ['WeekDays']\n",
    "for each in dummy_fields:\n",
    "    dummies = pd.get_dummies(stock[each], prefix=each, drop_first=False)\n",
    "    stock = pd.concat([stock, dummies], axis=1)\n",
    "\n",
    "stock.head()"
   ]
  },
  {
   "cell_type": "code",
   "execution_count": 31,
   "metadata": {
    "collapsed": true
   },
   "outputs": [
    {
     "data": {
      "text/html": [
       "<div>\n",
       "<style scoped>\n",
       "    .dataframe tbody tr th:only-of-type {\n",
       "        vertical-align: middle;\n",
       "    }\n",
       "\n",
       "    .dataframe tbody tr th {\n",
       "        vertical-align: top;\n",
       "    }\n",
       "\n",
       "    .dataframe thead th {\n",
       "        text-align: right;\n",
       "    }\n",
       "</style>\n",
       "<table border=\"1\" class=\"dataframe\">\n",
       "  <thead>\n",
       "    <tr style=\"text-align: right;\">\n",
       "      <th></th>\n",
       "      <th>Close</th>\n",
       "      <th>Close_lag1</th>\n",
       "      <th>Close_diff</th>\n",
       "      <th>Diff_lag1</th>\n",
       "      <th>Close_MA7_Lag1</th>\n",
       "      <th>WeekDays_0</th>\n",
       "      <th>WeekDays_1</th>\n",
       "      <th>WeekDays_2</th>\n",
       "      <th>WeekDays_3</th>\n",
       "      <th>WeekDays_4</th>\n",
       "    </tr>\n",
       "  </thead>\n",
       "  <tbody>\n",
       "    <tr>\n",
       "      <th>0</th>\n",
       "      <td>17.110001</td>\n",
       "      <td>NaN</td>\n",
       "      <td>NaN</td>\n",
       "      <td>NaN</td>\n",
       "      <td>NaN</td>\n",
       "      <td>0</td>\n",
       "      <td>1</td>\n",
       "      <td>0</td>\n",
       "      <td>0</td>\n",
       "      <td>0</td>\n",
       "    </tr>\n",
       "    <tr>\n",
       "      <th>1</th>\n",
       "      <td>17.200001</td>\n",
       "      <td>17.110001</td>\n",
       "      <td>NaN</td>\n",
       "      <td>0.170000</td>\n",
       "      <td>17.110001</td>\n",
       "      <td>0</td>\n",
       "      <td>0</td>\n",
       "      <td>1</td>\n",
       "      <td>0</td>\n",
       "      <td>0</td>\n",
       "    </tr>\n",
       "    <tr>\n",
       "      <th>2</th>\n",
       "      <td>17.020000</td>\n",
       "      <td>17.200001</td>\n",
       "      <td>0.090000</td>\n",
       "      <td>0.240002</td>\n",
       "      <td>17.155001</td>\n",
       "      <td>0</td>\n",
       "      <td>0</td>\n",
       "      <td>0</td>\n",
       "      <td>1</td>\n",
       "      <td>0</td>\n",
       "    </tr>\n",
       "    <tr>\n",
       "      <th>3</th>\n",
       "      <td>17.260000</td>\n",
       "      <td>17.020000</td>\n",
       "      <td>-0.180001</td>\n",
       "      <td>0.110001</td>\n",
       "      <td>17.110001</td>\n",
       "      <td>0</td>\n",
       "      <td>0</td>\n",
       "      <td>0</td>\n",
       "      <td>0</td>\n",
       "      <td>1</td>\n",
       "    </tr>\n",
       "    <tr>\n",
       "      <th>4</th>\n",
       "      <td>17.200001</td>\n",
       "      <td>17.260000</td>\n",
       "      <td>0.240000</td>\n",
       "      <td>0.090000</td>\n",
       "      <td>17.147500</td>\n",
       "      <td>1</td>\n",
       "      <td>0</td>\n",
       "      <td>0</td>\n",
       "      <td>0</td>\n",
       "      <td>0</td>\n",
       "    </tr>\n",
       "  </tbody>\n",
       "</table>\n",
       "</div>"
      ],
      "text/plain": [
       "       Close  Close_lag1  Close_diff  Diff_lag1  Close_MA7_Lag1  WeekDays_0  \\\n",
       "0  17.110001         NaN         NaN        NaN             NaN           0   \n",
       "1  17.200001   17.110001         NaN   0.170000       17.110001           0   \n",
       "2  17.020000   17.200001    0.090000   0.240002       17.155001           0   \n",
       "3  17.260000   17.020000   -0.180001   0.110001       17.110001           0   \n",
       "4  17.200001   17.260000    0.240000   0.090000       17.147500           1   \n",
       "\n",
       "   WeekDays_1  WeekDays_2  WeekDays_3  WeekDays_4  \n",
       "0           1           0           0           0  \n",
       "1           0           1           0           0  \n",
       "2           0           0           1           0  \n",
       "3           0           0           0           1  \n",
       "4           0           0           0           0  "
      ]
     },
     "execution_count": 31,
     "metadata": {},
     "output_type": "execute_result"
    }
   ],
   "source": [
    "# 불필요한 변수들 제거 : 가변수화 하기 전 변수, id, 일련번호 등.\n",
    "fields_to_drop = ['Date','Open', 'High','Low','Volume','Year','Adj Close', 'WeekDays']\n",
    "stock = stock.drop(fields_to_drop, axis=1)\n",
    "stock.head()"
   ]
  },
  {
   "cell_type": "code",
   "execution_count": 32,
   "metadata": {},
   "outputs": [
    {
     "data": {
      "text/html": [
       "<div>\n",
       "<style scoped>\n",
       "    .dataframe tbody tr th:only-of-type {\n",
       "        vertical-align: middle;\n",
       "    }\n",
       "\n",
       "    .dataframe tbody tr th {\n",
       "        vertical-align: top;\n",
       "    }\n",
       "\n",
       "    .dataframe thead th {\n",
       "        text-align: right;\n",
       "    }\n",
       "</style>\n",
       "<table border=\"1\" class=\"dataframe\">\n",
       "  <thead>\n",
       "    <tr style=\"text-align: right;\">\n",
       "      <th></th>\n",
       "      <th>Close</th>\n",
       "      <th>Close_lag1</th>\n",
       "      <th>Close_diff</th>\n",
       "      <th>Diff_lag1</th>\n",
       "      <th>Close_MA7_Lag1</th>\n",
       "      <th>WeekDays_0</th>\n",
       "      <th>WeekDays_1</th>\n",
       "      <th>WeekDays_2</th>\n",
       "      <th>WeekDays_3</th>\n",
       "      <th>WeekDays_4</th>\n",
       "    </tr>\n",
       "  </thead>\n",
       "  <tbody>\n",
       "    <tr>\n",
       "      <th>2</th>\n",
       "      <td>17.020000</td>\n",
       "      <td>17.200001</td>\n",
       "      <td>0.090000</td>\n",
       "      <td>0.240002</td>\n",
       "      <td>17.155001</td>\n",
       "      <td>0</td>\n",
       "      <td>0</td>\n",
       "      <td>0</td>\n",
       "      <td>1</td>\n",
       "      <td>0</td>\n",
       "    </tr>\n",
       "    <tr>\n",
       "      <th>3</th>\n",
       "      <td>17.260000</td>\n",
       "      <td>17.020000</td>\n",
       "      <td>-0.180001</td>\n",
       "      <td>0.110001</td>\n",
       "      <td>17.110001</td>\n",
       "      <td>0</td>\n",
       "      <td>0</td>\n",
       "      <td>0</td>\n",
       "      <td>0</td>\n",
       "      <td>1</td>\n",
       "    </tr>\n",
       "    <tr>\n",
       "      <th>4</th>\n",
       "      <td>17.200001</td>\n",
       "      <td>17.260000</td>\n",
       "      <td>0.240000</td>\n",
       "      <td>0.090000</td>\n",
       "      <td>17.147500</td>\n",
       "      <td>1</td>\n",
       "      <td>0</td>\n",
       "      <td>0</td>\n",
       "      <td>0</td>\n",
       "      <td>0</td>\n",
       "    </tr>\n",
       "    <tr>\n",
       "      <th>5</th>\n",
       "      <td>17.139999</td>\n",
       "      <td>17.200001</td>\n",
       "      <td>-0.059999</td>\n",
       "      <td>0.120001</td>\n",
       "      <td>17.158001</td>\n",
       "      <td>0</td>\n",
       "      <td>1</td>\n",
       "      <td>0</td>\n",
       "      <td>0</td>\n",
       "      <td>0</td>\n",
       "    </tr>\n",
       "    <tr>\n",
       "      <th>6</th>\n",
       "      <td>17.080000</td>\n",
       "      <td>17.139999</td>\n",
       "      <td>-0.060002</td>\n",
       "      <td>0.170000</td>\n",
       "      <td>17.155000</td>\n",
       "      <td>0</td>\n",
       "      <td>0</td>\n",
       "      <td>1</td>\n",
       "      <td>0</td>\n",
       "      <td>0</td>\n",
       "    </tr>\n",
       "  </tbody>\n",
       "</table>\n",
       "</div>"
      ],
      "text/plain": [
       "       Close  Close_lag1  Close_diff  Diff_lag1  Close_MA7_Lag1  WeekDays_0  \\\n",
       "2  17.020000   17.200001    0.090000   0.240002       17.155001           0   \n",
       "3  17.260000   17.020000   -0.180001   0.110001       17.110001           0   \n",
       "4  17.200001   17.260000    0.240000   0.090000       17.147500           1   \n",
       "5  17.139999   17.200001   -0.059999   0.120001       17.158001           0   \n",
       "6  17.080000   17.139999   -0.060002   0.170000       17.155000           0   \n",
       "\n",
       "   WeekDays_1  WeekDays_2  WeekDays_3  WeekDays_4  \n",
       "2           0           0           1           0  \n",
       "3           0           0           0           1  \n",
       "4           0           0           0           0  \n",
       "5           1           0           0           0  \n",
       "6           0           1           0           0  "
      ]
     },
     "execution_count": 32,
     "metadata": {},
     "output_type": "execute_result"
    }
   ],
   "source": [
    "stock.dropna(inplace = True)\n",
    "stock.head()"
   ]
  },
  {
   "cell_type": "markdown",
   "metadata": {},
   "source": [
    "**이하 코드는 이해가 안가면 일단 그냥 실행을 합시다**"
   ]
  },
  {
   "cell_type": "code",
   "execution_count": 33,
   "metadata": {},
   "outputs": [],
   "source": [
    "# asplit\n",
    "\n",
    "train_features = stock.iloc[:1200, 1: ]\n",
    "test_features = stock.iloc[1200:, 1: ]\n",
    "\n",
    "train_target = stock.iloc[:1200, :1 ]\n",
    "test_target = stock.iloc[1200:, :1 ]\n",
    "\n",
    "train_target, test_target = train_target.values, test_target.values"
   ]
  },
  {
   "cell_type": "markdown",
   "metadata": {},
   "source": [
    "* Scaling"
   ]
  },
  {
   "cell_type": "code",
   "execution_count": 34,
   "metadata": {},
   "outputs": [],
   "source": [
    "# 필요한 함수 로딩\n",
    "from sklearn.preprocessing import MinMaxScaler\n",
    "\n",
    "# 선언하기\n",
    "minmax = MinMaxScaler()\n",
    "\n",
    "# train 데이터로 .fit ==> 모든변수의 min, max, 공식 도출.\n",
    "# 말하자면, scaling 하는 모델을 만드는 것!\n",
    "minmax.fit(train_features) # train min, max\n",
    "\n",
    "# 위 scaling 공식으로 적용하기(변환하기)\n",
    "train_features_sc = minmax.transform(train_features)\n",
    "test_features_sc = minmax.transform(test_features)"
   ]
  },
  {
   "cell_type": "markdown",
   "metadata": {},
   "source": [
    "## 문제 4. 모델링"
   ]
  },
  {
   "cell_type": "markdown",
   "metadata": {},
   "source": [
    "아래 코드는 머신러닝 과정에서 배웁니다.  \n",
    "무작정 실행하고 결과를 확인하는 용도로만 사용합시다."
   ]
  },
  {
   "cell_type": "code",
   "execution_count": 35,
   "metadata": {},
   "outputs": [
    {
     "name": "stdout",
     "output_type": "stream",
     "text": [
      "Mean Absolute Percentage Error : 0.03090\n"
     ]
    },
    {
     "data": {
      "image/png": "[encoded data removed]",
      "text/plain": [
       "<Figure size 432x288 with 1 Axes>"
      ]
     },
     "metadata": {
      "needs_background": "light"
     },
     "output_type": "display_data"
    }
   ],
   "source": [
    "# Nearest-Neighbor Regression\n",
    "from sklearn.neighbors import KNeighborsRegressor\n",
    "from sklearn.metrics import mean_squared_error\n",
    "\n",
    "# 모델 준비\n",
    "knn_reg = KNeighborsRegressor(n_neighbors=10)\n",
    "\n",
    "# 모델 training\n",
    "# Test셋의 첫번째 컬럼(cnt)만 사용할 것이다. \n",
    "knn_reg.fit(train_features_sc , train_target  )\n",
    "\n",
    "# Training & Validation set에서의 예측값 준비\n",
    "test_pred = knn_reg.predict(test_features_sc)\n",
    "\n",
    "def mean_absolute_percentage_error(y_true, y_pred): \n",
    "    y_true, y_pred = np.array(y_true), np.array(y_pred)\n",
    "    return np.mean(np.abs((y_true - y_pred) / y_true))\n",
    "\n",
    "# 성능 확인\n",
    "print(\"Mean Absolute Percentage Error : {0:.5f}\".format(mean_absolute_percentage_error(test_target, test_pred) ))\n",
    "\n",
    "plt.plot(test_target, color = 'r')\n",
    "plt.plot(test_pred)\n",
    "plt.ylim(0,13)\n",
    "plt.show()"
   ]
  },
  {
   "cell_type": "markdown",
   "metadata": {},
   "source": [
    "성능을 더 높이기 위해서 무엇을 더 해볼 수 있을까요?  \n",
    "어떤 변수를 더 추가하면 성능향상에 도움이 될까요?"
   ]
  },
  {
   "cell_type": "code",
   "execution_count": null,
   "metadata": {},
   "outputs": [],
   "source": []
  },
  {
   "cell_type": "code",
   "execution_count": null,
   "metadata": {},
   "outputs": [],
   "source": []
  }
 ],
 "metadata": {
  "colab": {
   "collapsed_sections": [
    "DFijIAllYnVQ",
    "Bie5qwmkYnVT",
    "-RYoYWk-YnVc",
    "jPLYmNHQYnVy",
    "WUSoqSxcYnV5",
    "0kW6dzBFYnWW",
    "QiqL2q7spSvA",
    "0Cq3lmVb5oj2",
    "jdMTalYEHiAi"
   ],
   "name": "72.Pandas.ipynb",
   "provenance": [],
   "version": "0.3.2"
  },
  "kernelspec": {
   "display_name": "Python 3",
   "language": "python",
   "name": "python3"
  },
  "language_info": {
   "codemirror_mode": {
    "name": "ipython",
    "version": 3
   },
   "file_extension": ".py",
   "mimetype": "text/x-python",
   "name": "python",
   "nbconvert_exporter": "python",
   "pygments_lexer": "ipython3",
   "version": "3.7.6"
  }
 },
 "nbformat": 4,
 "nbformat_minor": 1
}
