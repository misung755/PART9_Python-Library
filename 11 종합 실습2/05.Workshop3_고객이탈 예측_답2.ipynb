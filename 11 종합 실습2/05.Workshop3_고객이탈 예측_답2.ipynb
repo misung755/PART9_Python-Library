{
 "cells": [
  {
   "cell_type": "markdown",
   "metadata": {
    "colab_type": "text",
    "id": "w8C_iSSpYnVO"
   },
   "source": [
    "# 전처리 종합실습 평가 ③\n",
    "\n",
    "#### 목표\n",
    "1. 간략히 가설수립을 합니다.\n",
    "2. 데이터를 탐색합니다.(역시 간략히)\n",
    "3. 가설로 도출된 요인들을 추가변수로 생성합니다.\n",
    "4. 모델링을 위한 전처리를 수행합니다.\n",
    "5. 준비된 모델링 코드로 성능을 확인합니다."
   ]
  },
  {
   "cell_type": "markdown",
   "metadata": {},
   "source": [
    "## 1. 비즈니스 이해"
   ]
  },
  {
   "cell_type": "markdown",
   "metadata": {},
   "source": [
    "문제 정의 : \n",
    "* 우리는 고객이 이탈할 것인지 사전에 예측하는 모델을 만들고자 합니다.\n",
    "* 이탈할 고객을 미리 예측할 수 있다면, 프로모션을 통해 이탈을 예방할 수 있습니다.\n",
    "* 그렇다면 고객의 이탈에 영향을 주는 요인은 무엇일까요?\n"
   ]
  },
  {
   "cell_type": "markdown",
   "metadata": {},
   "source": [
    "다음과 같이 구체적으로 문제를 정의하고자 한다.\n",
    "* 2016년12월말 기준으로\n",
    "* 이후 3개월 방문(구매) 안한 사람을 이탈로 보자.\n",
    "* 관심있는 고객은 \n",
    "    - 2015~2016년 신규 가입 고객 이면서,\n",
    "    - 2016년 하반기에 한번 이상 방문한 고객\n"
   ]
  },
  {
   "cell_type": "markdown",
   "metadata": {},
   "source": [
    "### 문제1 :  \n",
    "아래 셀에 이탈여부와 관련한 요인을 최소한 10가지 이상을 도출해 봅시다.  \n",
    "이 질문에 대한 답은 2.데이터이해 단계와 3.데이터준비단계를 수행하면서 다시 여기로 돌아와서 수정하거나 추가해야 할 수도 있습니다.\n"
   ]
  },
  {
   "cell_type": "markdown",
   "metadata": {},
   "source": [
    "예시1) 2016년에 4번이상 방문하고 10000만원 이상구매한 고객은 이탈하지 않을 것이다.  \n",
    "예시2) 남성고객이면서, 30대 고객은 고객은 이탈할 것이다.   \n",
    "    \n",
    "    \n",
    "    1)\n",
    "    2)\n",
    "    3)\n",
    "    4)\n",
    "    5)\n",
    "    6)\n",
    "    7)\n",
    "    8)\n",
    "    9)\n",
    "    10)\n"
   ]
  },
  {
   "cell_type": "markdown",
   "metadata": {
    "colab_type": "text",
    "id": "DFijIAllYnVQ"
   },
   "source": [
    "## 2.데이터 이해"
   ]
  },
  {
   "cell_type": "code",
   "execution_count": 35,
   "metadata": {
    "colab": {},
    "colab_type": "code",
    "id": "0wzhP3IXYnVQ"
   },
   "outputs": [],
   "source": [
    "import pandas as pd\n",
    "import numpy as np\n",
    "import matplotlib.pyplot as plt"
   ]
  },
  {
   "cell_type": "code",
   "execution_count": 36,
   "metadata": {},
   "outputs": [
    {
     "data": {
      "text/html": [
       "<div>\n",
       "<style scoped>\n",
       "    .dataframe tbody tr th:only-of-type {\n",
       "        vertical-align: middle;\n",
       "    }\n",
       "\n",
       "    .dataframe tbody tr th {\n",
       "        vertical-align: top;\n",
       "    }\n",
       "\n",
       "    .dataframe thead th {\n",
       "        text-align: right;\n",
       "    }\n",
       "</style>\n",
       "<table border=\"1\" class=\"dataframe\">\n",
       "  <thead>\n",
       "    <tr style=\"text-align: right;\">\n",
       "      <th></th>\n",
       "      <th>CustomerID</th>\n",
       "      <th>RegisterDate</th>\n",
       "      <th>Address</th>\n",
       "      <th>Gender</th>\n",
       "      <th>BirthYear</th>\n",
       "      <th>Addr1</th>\n",
       "      <th>Addr2</th>\n",
       "    </tr>\n",
       "  </thead>\n",
       "  <tbody>\n",
       "    <tr>\n",
       "      <th>0</th>\n",
       "      <td>c328222</td>\n",
       "      <td>2014-09-25</td>\n",
       "      <td>강원 원주시 늘품로</td>\n",
       "      <td>F</td>\n",
       "      <td>1960</td>\n",
       "      <td>강원도</td>\n",
       "      <td>원주시</td>\n",
       "    </tr>\n",
       "    <tr>\n",
       "      <th>1</th>\n",
       "      <td>c281448</td>\n",
       "      <td>2013-06-18</td>\n",
       "      <td>강원 원주시 치악로</td>\n",
       "      <td>F</td>\n",
       "      <td>1974</td>\n",
       "      <td>강원도</td>\n",
       "      <td>원주시</td>\n",
       "    </tr>\n",
       "    <tr>\n",
       "      <th>2</th>\n",
       "      <td>c038336</td>\n",
       "      <td>2003-10-10</td>\n",
       "      <td>강원 춘천시 서부대성로</td>\n",
       "      <td>F</td>\n",
       "      <td>1968</td>\n",
       "      <td>강원도</td>\n",
       "      <td>춘천시</td>\n",
       "    </tr>\n",
       "    <tr>\n",
       "      <th>3</th>\n",
       "      <td>c084237</td>\n",
       "      <td>2007-03-09</td>\n",
       "      <td>강원도 강릉시 연곡면 황어대길</td>\n",
       "      <td>F</td>\n",
       "      <td>1982</td>\n",
       "      <td>강원도</td>\n",
       "      <td>강릉시</td>\n",
       "    </tr>\n",
       "    <tr>\n",
       "      <th>4</th>\n",
       "      <td>c162600</td>\n",
       "      <td>2010-06-14</td>\n",
       "      <td>강원도 속초시 농공단지길</td>\n",
       "      <td>F</td>\n",
       "      <td>1978</td>\n",
       "      <td>강원도</td>\n",
       "      <td>속초시</td>\n",
       "    </tr>\n",
       "  </tbody>\n",
       "</table>\n",
       "</div>"
      ],
      "text/plain": [
       "  CustomerID RegisterDate           Address Gender  BirthYear Addr1 Addr2\n",
       "0    c328222   2014-09-25        강원 원주시 늘품로      F       1960   강원도   원주시\n",
       "1    c281448   2013-06-18        강원 원주시 치악로      F       1974   강원도   원주시\n",
       "2    c038336   2003-10-10      강원 춘천시 서부대성로      F       1968   강원도   춘천시\n",
       "3    c084237   2007-03-09  강원도 강릉시 연곡면 황어대길      F       1982   강원도   강릉시\n",
       "4    c162600   2010-06-14     강원도 속초시 농공단지길      F       1978   강원도   속초시"
      ]
     },
     "execution_count": 36,
     "metadata": {},
     "output_type": "execute_result"
    }
   ],
   "source": [
    "customers = pd.read_csv('https://raw.githubusercontent.com/DA4BAM/dataset/master/customers.csv'\n",
    "                 , sep=',', skipinitialspace=True, encoding='CP949')  \n",
    "customers.head()"
   ]
  },
  {
   "cell_type": "code",
   "execution_count": 37,
   "metadata": {},
   "outputs": [
    {
     "data": {
      "text/html": [
       "<div>\n",
       "<style scoped>\n",
       "    .dataframe tbody tr th:only-of-type {\n",
       "        vertical-align: middle;\n",
       "    }\n",
       "\n",
       "    .dataframe tbody tr th {\n",
       "        vertical-align: top;\n",
       "    }\n",
       "\n",
       "    .dataframe thead th {\n",
       "        text-align: right;\n",
       "    }\n",
       "</style>\n",
       "<table border=\"1\" class=\"dataframe\">\n",
       "  <thead>\n",
       "    <tr style=\"text-align: right;\">\n",
       "      <th></th>\n",
       "      <th>ProductID</th>\n",
       "      <th>ProductName</th>\n",
       "      <th>Category</th>\n",
       "      <th>SubCategory</th>\n",
       "      <th>CategoryOrd</th>\n",
       "    </tr>\n",
       "  </thead>\n",
       "  <tbody>\n",
       "    <tr>\n",
       "      <th>0</th>\n",
       "      <td>p1052661</td>\n",
       "      <td>새우깡</td>\n",
       "      <td>간식</td>\n",
       "      <td>과자</td>\n",
       "      <td>3</td>\n",
       "    </tr>\n",
       "    <tr>\n",
       "      <th>1</th>\n",
       "      <td>p1054261</td>\n",
       "      <td>고구마스틱</td>\n",
       "      <td>간식</td>\n",
       "      <td>과자</td>\n",
       "      <td>3</td>\n",
       "    </tr>\n",
       "    <tr>\n",
       "      <th>2</th>\n",
       "      <td>p1097821</td>\n",
       "      <td>짱구</td>\n",
       "      <td>간식</td>\n",
       "      <td>과자</td>\n",
       "      <td>3</td>\n",
       "    </tr>\n",
       "    <tr>\n",
       "      <th>3</th>\n",
       "      <td>p1097831</td>\n",
       "      <td>감자칩</td>\n",
       "      <td>간식</td>\n",
       "      <td>과자</td>\n",
       "      <td>3</td>\n",
       "    </tr>\n",
       "    <tr>\n",
       "      <th>4</th>\n",
       "      <td>p1119071</td>\n",
       "      <td>뿌셔뿌셔</td>\n",
       "      <td>간식</td>\n",
       "      <td>과자</td>\n",
       "      <td>3</td>\n",
       "    </tr>\n",
       "  </tbody>\n",
       "</table>\n",
       "</div>"
      ],
      "text/plain": [
       "  ProductID ProductName Category SubCategory  CategoryOrd\n",
       "0  p1052661         새우깡       간식          과자            3\n",
       "1  p1054261       고구마스틱       간식          과자            3\n",
       "2  p1097821          짱구       간식          과자            3\n",
       "3  p1097831         감자칩       간식          과자            3\n",
       "4  p1119071        뿌셔뿌셔       간식          과자            3"
      ]
     },
     "execution_count": 37,
     "metadata": {},
     "output_type": "execute_result"
    }
   ],
   "source": [
    "products = pd.read_csv('https://raw.githubusercontent.com/DA4BAM/dataset/master/products.csv'\n",
    "                 , sep=',', skipinitialspace=True, encoding='CP949')  \n",
    "products.head()"
   ]
  },
  {
   "cell_type": "code",
   "execution_count": 38,
   "metadata": {},
   "outputs": [
    {
     "data": {
      "text/html": [
       "<div>\n",
       "<style scoped>\n",
       "    .dataframe tbody tr th:only-of-type {\n",
       "        vertical-align: middle;\n",
       "    }\n",
       "\n",
       "    .dataframe tbody tr th {\n",
       "        vertical-align: top;\n",
       "    }\n",
       "\n",
       "    .dataframe thead th {\n",
       "        text-align: right;\n",
       "    }\n",
       "</style>\n",
       "<table border=\"1\" class=\"dataframe\">\n",
       "  <thead>\n",
       "    <tr style=\"text-align: right;\">\n",
       "      <th></th>\n",
       "      <th>OrderID</th>\n",
       "      <th>Seq</th>\n",
       "      <th>OrderDate</th>\n",
       "      <th>ProductID</th>\n",
       "      <th>Qty</th>\n",
       "      <th>Amt</th>\n",
       "      <th>CustomerID</th>\n",
       "    </tr>\n",
       "  </thead>\n",
       "  <tbody>\n",
       "    <tr>\n",
       "      <th>0</th>\n",
       "      <td>107</td>\n",
       "      <td>2</td>\n",
       "      <td>2016-01-02</td>\n",
       "      <td>p1036481</td>\n",
       "      <td>2</td>\n",
       "      <td>2100</td>\n",
       "      <td>c150417</td>\n",
       "    </tr>\n",
       "    <tr>\n",
       "      <th>1</th>\n",
       "      <td>69</td>\n",
       "      <td>1</td>\n",
       "      <td>2016-01-02</td>\n",
       "      <td>p1152861</td>\n",
       "      <td>1</td>\n",
       "      <td>1091</td>\n",
       "      <td>c212716</td>\n",
       "    </tr>\n",
       "    <tr>\n",
       "      <th>2</th>\n",
       "      <td>69</td>\n",
       "      <td>7</td>\n",
       "      <td>2016-01-02</td>\n",
       "      <td>p1013161</td>\n",
       "      <td>1</td>\n",
       "      <td>2600</td>\n",
       "      <td>c212716</td>\n",
       "    </tr>\n",
       "    <tr>\n",
       "      <th>3</th>\n",
       "      <td>69</td>\n",
       "      <td>8</td>\n",
       "      <td>2016-01-02</td>\n",
       "      <td>p1005771</td>\n",
       "      <td>1</td>\n",
       "      <td>1650</td>\n",
       "      <td>c212716</td>\n",
       "    </tr>\n",
       "    <tr>\n",
       "      <th>4</th>\n",
       "      <td>69</td>\n",
       "      <td>11</td>\n",
       "      <td>2016-01-02</td>\n",
       "      <td>p1089531</td>\n",
       "      <td>1</td>\n",
       "      <td>2600</td>\n",
       "      <td>c212716</td>\n",
       "    </tr>\n",
       "  </tbody>\n",
       "</table>\n",
       "</div>"
      ],
      "text/plain": [
       "   OrderID  Seq   OrderDate ProductID  Qty   Amt CustomerID\n",
       "0      107    2  2016-01-02  p1036481    2  2100    c150417\n",
       "1       69    1  2016-01-02  p1152861    1  1091    c212716\n",
       "2       69    7  2016-01-02  p1013161    1  2600    c212716\n",
       "3       69    8  2016-01-02  p1005771    1  1650    c212716\n",
       "4       69   11  2016-01-02  p1089531    1  2600    c212716"
      ]
     },
     "execution_count": 38,
     "metadata": {},
     "output_type": "execute_result"
    }
   ],
   "source": [
    "sales = pd.read_csv('https://raw.githubusercontent.com/DA4BAM/dataset/master/sales.csv'\n",
    "                 , sep=',', skipinitialspace=True, encoding='CP949')  \n",
    "sales.head()"
   ]
  },
  {
   "cell_type": "code",
   "execution_count": 39,
   "metadata": {},
   "outputs": [],
   "source": [
    "sales['OrderDate'] = pd.to_datetime(sales['OrderDate']) \n",
    "customers['RegisterDate'] = pd.to_datetime(customers['RegisterDate']) "
   ]
  },
  {
   "cell_type": "code",
   "execution_count": null,
   "metadata": {},
   "outputs": [],
   "source": []
  },
  {
   "cell_type": "markdown",
   "metadata": {},
   "source": [
    "**데이터 탐색은 3.데이터 준비 단계 후에 진행해 봅시다.**"
   ]
  },
  {
   "cell_type": "markdown",
   "metadata": {},
   "source": [
    "###  문제 2. 데이터 살펴보기"
   ]
  },
  {
   "cell_type": "markdown",
   "metadata": {},
   "source": [
    "2-1) 연도별, 월별 매출액은?"
   ]
  },
  {
   "cell_type": "code",
   "execution_count": 40,
   "metadata": {},
   "outputs": [],
   "source": [
    "sales['Year'] = sales.OrderDate.dt.year\n",
    "sales['Month'] = sales.OrderDate.dt.month"
   ]
  },
  {
   "cell_type": "code",
   "execution_count": 7,
   "metadata": {
    "scrolled": false
   },
   "outputs": [
    {
     "data": {
      "text/html": [
       "<div>\n",
       "<style scoped>\n",
       "    .dataframe tbody tr th:only-of-type {\n",
       "        vertical-align: middle;\n",
       "    }\n",
       "\n",
       "    .dataframe tbody tr th {\n",
       "        vertical-align: top;\n",
       "    }\n",
       "\n",
       "    .dataframe thead th {\n",
       "        text-align: right;\n",
       "    }\n",
       "</style>\n",
       "<table border=\"1\" class=\"dataframe\">\n",
       "  <thead>\n",
       "    <tr style=\"text-align: right;\">\n",
       "      <th></th>\n",
       "      <th>Year</th>\n",
       "      <th>Month</th>\n",
       "      <th>Amt</th>\n",
       "    </tr>\n",
       "  </thead>\n",
       "  <tbody>\n",
       "    <tr>\n",
       "      <th>0</th>\n",
       "      <td>2016</td>\n",
       "      <td>1</td>\n",
       "      <td>14209990</td>\n",
       "    </tr>\n",
       "    <tr>\n",
       "      <th>1</th>\n",
       "      <td>2016</td>\n",
       "      <td>2</td>\n",
       "      <td>14367451</td>\n",
       "    </tr>\n",
       "    <tr>\n",
       "      <th>2</th>\n",
       "      <td>2016</td>\n",
       "      <td>3</td>\n",
       "      <td>17111120</td>\n",
       "    </tr>\n",
       "    <tr>\n",
       "      <th>3</th>\n",
       "      <td>2016</td>\n",
       "      <td>4</td>\n",
       "      <td>15129917</td>\n",
       "    </tr>\n",
       "    <tr>\n",
       "      <th>4</th>\n",
       "      <td>2016</td>\n",
       "      <td>5</td>\n",
       "      <td>13976941</td>\n",
       "    </tr>\n",
       "    <tr>\n",
       "      <th>5</th>\n",
       "      <td>2016</td>\n",
       "      <td>6</td>\n",
       "      <td>13113610</td>\n",
       "    </tr>\n",
       "    <tr>\n",
       "      <th>6</th>\n",
       "      <td>2016</td>\n",
       "      <td>7</td>\n",
       "      <td>10717743</td>\n",
       "    </tr>\n",
       "    <tr>\n",
       "      <th>7</th>\n",
       "      <td>2016</td>\n",
       "      <td>8</td>\n",
       "      <td>10176702</td>\n",
       "    </tr>\n",
       "    <tr>\n",
       "      <th>8</th>\n",
       "      <td>2016</td>\n",
       "      <td>9</td>\n",
       "      <td>10496653</td>\n",
       "    </tr>\n",
       "    <tr>\n",
       "      <th>9</th>\n",
       "      <td>2016</td>\n",
       "      <td>10</td>\n",
       "      <td>10003648</td>\n",
       "    </tr>\n",
       "    <tr>\n",
       "      <th>10</th>\n",
       "      <td>2016</td>\n",
       "      <td>11</td>\n",
       "      <td>9767765</td>\n",
       "    </tr>\n",
       "    <tr>\n",
       "      <th>11</th>\n",
       "      <td>2016</td>\n",
       "      <td>12</td>\n",
       "      <td>13061191</td>\n",
       "    </tr>\n",
       "    <tr>\n",
       "      <th>12</th>\n",
       "      <td>2017</td>\n",
       "      <td>1</td>\n",
       "      <td>14721755</td>\n",
       "    </tr>\n",
       "    <tr>\n",
       "      <th>13</th>\n",
       "      <td>2017</td>\n",
       "      <td>2</td>\n",
       "      <td>12559903</td>\n",
       "    </tr>\n",
       "    <tr>\n",
       "      <th>14</th>\n",
       "      <td>2017</td>\n",
       "      <td>3</td>\n",
       "      <td>15585079</td>\n",
       "    </tr>\n",
       "  </tbody>\n",
       "</table>\n",
       "</div>"
      ],
      "text/plain": [
       "    Year  Month       Amt\n",
       "0   2016      1  14209990\n",
       "1   2016      2  14367451\n",
       "2   2016      3  17111120\n",
       "3   2016      4  15129917\n",
       "4   2016      5  13976941\n",
       "5   2016      6  13113610\n",
       "6   2016      7  10717743\n",
       "7   2016      8  10176702\n",
       "8   2016      9  10496653\n",
       "9   2016     10  10003648\n",
       "10  2016     11   9767765\n",
       "11  2016     12  13061191\n",
       "12  2017      1  14721755\n",
       "13  2017      2  12559903\n",
       "14  2017      3  15585079"
      ]
     },
     "execution_count": 7,
     "metadata": {},
     "output_type": "execute_result"
    }
   ],
   "source": [
    "sales.groupby(by=['Year', 'Month'], as_index = False)['Amt'].sum()"
   ]
  },
  {
   "cell_type": "markdown",
   "metadata": {},
   "source": [
    "2-2) 총 가입고객수는?"
   ]
  },
  {
   "cell_type": "code",
   "execution_count": 8,
   "metadata": {},
   "outputs": [
    {
     "data": {
      "text/plain": [
       "2243"
      ]
     },
     "execution_count": 8,
     "metadata": {},
     "output_type": "execute_result"
    }
   ],
   "source": [
    "customers.CustomerID.count()"
   ]
  },
  {
   "cell_type": "markdown",
   "metadata": {},
   "source": [
    "2-3) 2015~2016에 가입한 고객은 총 몇명인가?"
   ]
  },
  {
   "cell_type": "code",
   "execution_count": 9,
   "metadata": {},
   "outputs": [
    {
     "data": {
      "text/plain": [
       "CustomerID    485\n",
       "dtype: int64"
      ]
     },
     "execution_count": 9,
     "metadata": {},
     "output_type": "execute_result"
    }
   ],
   "source": [
    "customers.loc[customers.RegisterDate.between('2015-01-01', '2016-12-31'),['CustomerID']].count()"
   ]
  },
  {
   "cell_type": "code",
   "execution_count": 10,
   "metadata": {},
   "outputs": [
    {
     "data": {
      "text/plain": [
       "485"
      ]
     },
     "execution_count": 10,
     "metadata": {},
     "output_type": "execute_result"
    }
   ],
   "source": [
    "customers.loc[customers.RegisterDate.between('2015-01-01', '2016-12-31'),]['CustomerID'].count()"
   ]
  },
  {
   "cell_type": "markdown",
   "metadata": {},
   "source": [
    "2-4) 2016년 하반기에 구매한 적이 있는 고객의 수는?"
   ]
  },
  {
   "cell_type": "code",
   "execution_count": 11,
   "metadata": {},
   "outputs": [
    {
     "data": {
      "text/plain": [
       "1711"
      ]
     },
     "execution_count": 11,
     "metadata": {},
     "output_type": "execute_result"
    }
   ],
   "source": [
    "sales.loc[sales['OrderDate'].between('2016-07-01', '2016-12-31'),].CustomerID.unique().size"
   ]
  },
  {
   "cell_type": "code",
   "execution_count": null,
   "metadata": {},
   "outputs": [],
   "source": []
  },
  {
   "cell_type": "markdown",
   "metadata": {},
   "source": [
    "2-5) 위에서 조회한 내용이 아닌 가설 중 세가지를 조회하시오."
   ]
  },
  {
   "cell_type": "code",
   "execution_count": null,
   "metadata": {},
   "outputs": [],
   "source": [
    "# #번가설 :      \n",
    "\n",
    "\n"
   ]
  },
  {
   "cell_type": "code",
   "execution_count": null,
   "metadata": {},
   "outputs": [],
   "source": [
    "# #번가설 :      \n",
    "\n",
    "\n"
   ]
  },
  {
   "cell_type": "code",
   "execution_count": null,
   "metadata": {},
   "outputs": [],
   "source": [
    "# #번가설 :      \n",
    "\n",
    "\n"
   ]
  },
  {
   "cell_type": "markdown",
   "metadata": {},
   "source": [
    "## 3. 데이터 준비(Preprocessing)"
   ]
  },
  {
   "cell_type": "markdown",
   "metadata": {},
   "source": [
    "### 문제 3. Labeling"
   ]
  },
  {
   "cell_type": "markdown",
   "metadata": {},
   "source": [
    "우리는 고객이 이탈할 것인지 사전에 예측하는 모델을 만들고자 한다.  "
   ]
  },
  {
   "cell_type": "markdown",
   "metadata": {},
   "source": [
    "* 2016년12월말 기준\n",
    "* 이후 3개월 방문 안한 사람을 이탈로 보자.\n",
    "* 관심있는 고객은 \n",
    "    - 2015~2016년 신규 가입 고객 이면서,\n",
    "    - 2016년 하반기에 한번 이상 방문한 고객"
   ]
  },
  {
   "cell_type": "markdown",
   "metadata": {},
   "source": [
    "3-1) 고객ID 조회 : \n",
    "    - 2016년 하반기에 한번 이상 방문한 고객 중 2015~2016년 신규 가입 고객을 조회하시오."
   ]
  },
  {
   "cell_type": "code",
   "execution_count": 6,
   "metadata": {},
   "outputs": [
    {
     "data": {
      "text/html": [
       "<div>\n",
       "<style scoped>\n",
       "    .dataframe tbody tr th:only-of-type {\n",
       "        vertical-align: middle;\n",
       "    }\n",
       "\n",
       "    .dataframe tbody tr th {\n",
       "        vertical-align: top;\n",
       "    }\n",
       "\n",
       "    .dataframe thead th {\n",
       "        text-align: right;\n",
       "    }\n",
       "</style>\n",
       "<table border=\"1\" class=\"dataframe\">\n",
       "  <thead>\n",
       "    <tr style=\"text-align: right;\">\n",
       "      <th></th>\n",
       "      <th>OrderID</th>\n",
       "      <th>Seq</th>\n",
       "      <th>OrderDate</th>\n",
       "      <th>ProductID</th>\n",
       "      <th>Qty</th>\n",
       "      <th>Amt</th>\n",
       "      <th>CustomerID</th>\n",
       "    </tr>\n",
       "  </thead>\n",
       "  <tbody>\n",
       "    <tr>\n",
       "      <th>55976</th>\n",
       "      <td>5</td>\n",
       "      <td>2</td>\n",
       "      <td>2017-01-02</td>\n",
       "      <td>p1133371</td>\n",
       "      <td>7</td>\n",
       "      <td>7000</td>\n",
       "      <td>c271068</td>\n",
       "    </tr>\n",
       "    <tr>\n",
       "      <th>55977</th>\n",
       "      <td>5</td>\n",
       "      <td>6</td>\n",
       "      <td>2017-01-02</td>\n",
       "      <td>p1012751</td>\n",
       "      <td>1</td>\n",
       "      <td>1850</td>\n",
       "      <td>c271068</td>\n",
       "    </tr>\n",
       "    <tr>\n",
       "      <th>55978</th>\n",
       "      <td>5</td>\n",
       "      <td>10</td>\n",
       "      <td>2017-01-02</td>\n",
       "      <td>p1144661</td>\n",
       "      <td>1</td>\n",
       "      <td>1950</td>\n",
       "      <td>c271068</td>\n",
       "    </tr>\n",
       "    <tr>\n",
       "      <th>55979</th>\n",
       "      <td>5</td>\n",
       "      <td>11</td>\n",
       "      <td>2017-01-02</td>\n",
       "      <td>p1207281</td>\n",
       "      <td>1</td>\n",
       "      <td>3300</td>\n",
       "      <td>c271068</td>\n",
       "    </tr>\n",
       "    <tr>\n",
       "      <th>55980</th>\n",
       "      <td>5</td>\n",
       "      <td>12</td>\n",
       "      <td>2017-01-02</td>\n",
       "      <td>p1299491</td>\n",
       "      <td>1</td>\n",
       "      <td>1950</td>\n",
       "      <td>c271068</td>\n",
       "    </tr>\n",
       "    <tr>\n",
       "      <th>...</th>\n",
       "      <td>...</td>\n",
       "      <td>...</td>\n",
       "      <td>...</td>\n",
       "      <td>...</td>\n",
       "      <td>...</td>\n",
       "      <td>...</td>\n",
       "      <td>...</td>\n",
       "    </tr>\n",
       "    <tr>\n",
       "      <th>70007</th>\n",
       "      <td>53</td>\n",
       "      <td>4</td>\n",
       "      <td>2017-03-31</td>\n",
       "      <td>p1072601</td>\n",
       "      <td>1</td>\n",
       "      <td>4600</td>\n",
       "      <td>c337999</td>\n",
       "    </tr>\n",
       "    <tr>\n",
       "      <th>70008</th>\n",
       "      <td>53</td>\n",
       "      <td>6</td>\n",
       "      <td>2017-03-31</td>\n",
       "      <td>p1178011</td>\n",
       "      <td>1</td>\n",
       "      <td>8800</td>\n",
       "      <td>c337999</td>\n",
       "    </tr>\n",
       "    <tr>\n",
       "      <th>70009</th>\n",
       "      <td>55</td>\n",
       "      <td>6</td>\n",
       "      <td>2017-03-31</td>\n",
       "      <td>p1054261</td>\n",
       "      <td>1</td>\n",
       "      <td>2091</td>\n",
       "      <td>c088320</td>\n",
       "    </tr>\n",
       "    <tr>\n",
       "      <th>70010</th>\n",
       "      <td>59</td>\n",
       "      <td>4</td>\n",
       "      <td>2017-03-31</td>\n",
       "      <td>p1175481</td>\n",
       "      <td>1</td>\n",
       "      <td>1300</td>\n",
       "      <td>c238056</td>\n",
       "    </tr>\n",
       "    <tr>\n",
       "      <th>70011</th>\n",
       "      <td>59</td>\n",
       "      <td>5</td>\n",
       "      <td>2017-03-31</td>\n",
       "      <td>p1013161</td>\n",
       "      <td>1</td>\n",
       "      <td>2950</td>\n",
       "      <td>c238056</td>\n",
       "    </tr>\n",
       "  </tbody>\n",
       "</table>\n",
       "<p>14036 rows × 7 columns</p>\n",
       "</div>"
      ],
      "text/plain": [
       "       OrderID  Seq  OrderDate ProductID  Qty   Amt CustomerID\n",
       "55976        5    2 2017-01-02  p1133371    7  7000    c271068\n",
       "55977        5    6 2017-01-02  p1012751    1  1850    c271068\n",
       "55978        5   10 2017-01-02  p1144661    1  1950    c271068\n",
       "55979        5   11 2017-01-02  p1207281    1  3300    c271068\n",
       "55980        5   12 2017-01-02  p1299491    1  1950    c271068\n",
       "...        ...  ...        ...       ...  ...   ...        ...\n",
       "70007       53    4 2017-03-31  p1072601    1  4600    c337999\n",
       "70008       53    6 2017-03-31  p1178011    1  8800    c337999\n",
       "70009       55    6 2017-03-31  p1054261    1  2091    c088320\n",
       "70010       59    4 2017-03-31  p1175481    1  1300    c238056\n",
       "70011       59    5 2017-03-31  p1013161    1  2950    c238056\n",
       "\n",
       "[14036 rows x 7 columns]"
      ]
     },
     "execution_count": 6,
     "metadata": {},
     "output_type": "execute_result"
    }
   ],
   "source": [
    "sales.loc[sales['OrderDate'] >= '2017-01-01',]"
   ]
  },
  {
   "cell_type": "code",
   "execution_count": 7,
   "metadata": {
    "collapsed": true
   },
   "outputs": [
    {
     "data": {
      "text/html": [
       "<div>\n",
       "<style scoped>\n",
       "    .dataframe tbody tr th:only-of-type {\n",
       "        vertical-align: middle;\n",
       "    }\n",
       "\n",
       "    .dataframe tbody tr th {\n",
       "        vertical-align: top;\n",
       "    }\n",
       "\n",
       "    .dataframe thead th {\n",
       "        text-align: right;\n",
       "    }\n",
       "</style>\n",
       "<table border=\"1\" class=\"dataframe\">\n",
       "  <thead>\n",
       "    <tr style=\"text-align: right;\">\n",
       "      <th></th>\n",
       "      <th>OrderID</th>\n",
       "      <th>Seq</th>\n",
       "      <th>OrderDate</th>\n",
       "      <th>ProductID</th>\n",
       "      <th>Qty</th>\n",
       "      <th>Amt</th>\n",
       "      <th>CustomerID</th>\n",
       "    </tr>\n",
       "  </thead>\n",
       "  <tbody>\n",
       "    <tr>\n",
       "      <th>29519</th>\n",
       "      <td>89</td>\n",
       "      <td>1</td>\n",
       "      <td>2016-07-01</td>\n",
       "      <td>p1030071</td>\n",
       "      <td>1</td>\n",
       "      <td>2450</td>\n",
       "      <td>c127482</td>\n",
       "    </tr>\n",
       "    <tr>\n",
       "      <th>29520</th>\n",
       "      <td>89</td>\n",
       "      <td>2</td>\n",
       "      <td>2016-07-01</td>\n",
       "      <td>p1144371</td>\n",
       "      <td>1</td>\n",
       "      <td>1250</td>\n",
       "      <td>c127482</td>\n",
       "    </tr>\n",
       "    <tr>\n",
       "      <th>29521</th>\n",
       "      <td>89</td>\n",
       "      <td>4</td>\n",
       "      <td>2016-07-01</td>\n",
       "      <td>p1159481</td>\n",
       "      <td>1</td>\n",
       "      <td>1650</td>\n",
       "      <td>c127482</td>\n",
       "    </tr>\n",
       "    <tr>\n",
       "      <th>29522</th>\n",
       "      <td>101</td>\n",
       "      <td>1</td>\n",
       "      <td>2016-07-01</td>\n",
       "      <td>p1011291</td>\n",
       "      <td>1</td>\n",
       "      <td>273</td>\n",
       "      <td>c217179</td>\n",
       "    </tr>\n",
       "    <tr>\n",
       "      <th>29523</th>\n",
       "      <td>103</td>\n",
       "      <td>1</td>\n",
       "      <td>2016-07-01</td>\n",
       "      <td>p1175481</td>\n",
       "      <td>1</td>\n",
       "      <td>1300</td>\n",
       "      <td>c222561</td>\n",
       "    </tr>\n",
       "    <tr>\n",
       "      <th>...</th>\n",
       "      <td>...</td>\n",
       "      <td>...</td>\n",
       "      <td>...</td>\n",
       "      <td>...</td>\n",
       "      <td>...</td>\n",
       "      <td>...</td>\n",
       "      <td>...</td>\n",
       "    </tr>\n",
       "    <tr>\n",
       "      <th>55971</th>\n",
       "      <td>97</td>\n",
       "      <td>5</td>\n",
       "      <td>2016-12-31</td>\n",
       "      <td>p1005891</td>\n",
       "      <td>2</td>\n",
       "      <td>3900</td>\n",
       "      <td>c259362</td>\n",
       "    </tr>\n",
       "    <tr>\n",
       "      <th>55972</th>\n",
       "      <td>99</td>\n",
       "      <td>1</td>\n",
       "      <td>2016-12-31</td>\n",
       "      <td>p1012751</td>\n",
       "      <td>1</td>\n",
       "      <td>1850</td>\n",
       "      <td>c350918</td>\n",
       "    </tr>\n",
       "    <tr>\n",
       "      <th>55973</th>\n",
       "      <td>99</td>\n",
       "      <td>2</td>\n",
       "      <td>2016-12-31</td>\n",
       "      <td>p1159481</td>\n",
       "      <td>1</td>\n",
       "      <td>2200</td>\n",
       "      <td>c350918</td>\n",
       "    </tr>\n",
       "    <tr>\n",
       "      <th>55974</th>\n",
       "      <td>99</td>\n",
       "      <td>3</td>\n",
       "      <td>2016-12-31</td>\n",
       "      <td>p1207281</td>\n",
       "      <td>1</td>\n",
       "      <td>3300</td>\n",
       "      <td>c350918</td>\n",
       "    </tr>\n",
       "    <tr>\n",
       "      <th>55975</th>\n",
       "      <td>103</td>\n",
       "      <td>3</td>\n",
       "      <td>2016-12-31</td>\n",
       "      <td>p1002841</td>\n",
       "      <td>1</td>\n",
       "      <td>15800</td>\n",
       "      <td>c153641</td>\n",
       "    </tr>\n",
       "  </tbody>\n",
       "</table>\n",
       "<p>26457 rows × 7 columns</p>\n",
       "</div>"
      ],
      "text/plain": [
       "       OrderID  Seq  OrderDate ProductID  Qty    Amt CustomerID\n",
       "29519       89    1 2016-07-01  p1030071    1   2450    c127482\n",
       "29520       89    2 2016-07-01  p1144371    1   1250    c127482\n",
       "29521       89    4 2016-07-01  p1159481    1   1650    c127482\n",
       "29522      101    1 2016-07-01  p1011291    1    273    c217179\n",
       "29523      103    1 2016-07-01  p1175481    1   1300    c222561\n",
       "...        ...  ...        ...       ...  ...    ...        ...\n",
       "55971       97    5 2016-12-31  p1005891    2   3900    c259362\n",
       "55972       99    1 2016-12-31  p1012751    1   1850    c350918\n",
       "55973       99    2 2016-12-31  p1159481    1   2200    c350918\n",
       "55974       99    3 2016-12-31  p1207281    1   3300    c350918\n",
       "55975      103    3 2016-12-31  p1002841    1  15800    c153641\n",
       "\n",
       "[26457 rows x 7 columns]"
      ]
     },
     "execution_count": 7,
     "metadata": {},
     "output_type": "execute_result"
    }
   ],
   "source": [
    "sales.loc[sales['OrderDate'].between('2016-07-01', '2016-12-31'),]"
   ]
  },
  {
   "cell_type": "code",
   "execution_count": 14,
   "metadata": {},
   "outputs": [
    {
     "data": {
      "text/plain": [
       "array(['c271068', 'c146132', 'c226242', ..., 'c137369', 'c256672',\n",
       "       'c108482'], dtype=object)"
      ]
     },
     "execution_count": 14,
     "metadata": {},
     "output_type": "execute_result"
    }
   ],
   "source": [
    "sales.loc[sales['OrderDate'].between('2017-01-01', '2017-02-28'), 'CustomerID'].unique()"
   ]
  },
  {
   "cell_type": "code",
   "execution_count": 41,
   "metadata": {},
   "outputs": [],
   "source": [
    "customer1 = sales.loc[sales['OrderDate'].between('2016-07-01', '2016-12-31'), ['CustomerID']].drop_duplicates()"
   ]
  },
  {
   "cell_type": "code",
   "execution_count": 42,
   "metadata": {},
   "outputs": [],
   "source": [
    "customer2 = customers.loc[customers['RegisterDate'].between('2015-01-01', '2016-12-31'), ['CustomerID']]"
   ]
  },
  {
   "cell_type": "code",
   "execution_count": 43,
   "metadata": {},
   "outputs": [],
   "source": [
    "customer3 = customer1.merge(customer2)"
   ]
  },
  {
   "cell_type": "markdown",
   "metadata": {},
   "source": [
    "3-2) 3-1)의 결과에 해당하는 고객ID 별로 2017년 3월 방문 여부(이탈여부) 데이터프레임 만들기\n",
    "    - 고객ID\n",
    "    - 이탈여부\n"
   ]
  },
  {
   "cell_type": "code",
   "execution_count": 44,
   "metadata": {},
   "outputs": [],
   "source": [
    "customer4 = sales.loc[sales['OrderDate'].between('2017-01-01', '2017-03-31'), ['CustomerID']].drop_duplicates()\n",
    "customer4['Churn'] = 0"
   ]
  },
  {
   "cell_type": "code",
   "execution_count": 45,
   "metadata": {},
   "outputs": [
    {
     "data": {
      "text/html": [
       "<div>\n",
       "<style scoped>\n",
       "    .dataframe tbody tr th:only-of-type {\n",
       "        vertical-align: middle;\n",
       "    }\n",
       "\n",
       "    .dataframe tbody tr th {\n",
       "        vertical-align: top;\n",
       "    }\n",
       "\n",
       "    .dataframe thead th {\n",
       "        text-align: right;\n",
       "    }\n",
       "</style>\n",
       "<table border=\"1\" class=\"dataframe\">\n",
       "  <thead>\n",
       "    <tr style=\"text-align: right;\">\n",
       "      <th></th>\n",
       "      <th>CustomerID</th>\n",
       "      <th>Churn</th>\n",
       "    </tr>\n",
       "  </thead>\n",
       "  <tbody>\n",
       "    <tr>\n",
       "      <th>0</th>\n",
       "      <td>c373441</td>\n",
       "      <td>0.0</td>\n",
       "    </tr>\n",
       "    <tr>\n",
       "      <th>1</th>\n",
       "      <td>c337831</td>\n",
       "      <td>NaN</td>\n",
       "    </tr>\n",
       "    <tr>\n",
       "      <th>2</th>\n",
       "      <td>c337999</td>\n",
       "      <td>0.0</td>\n",
       "    </tr>\n",
       "    <tr>\n",
       "      <th>3</th>\n",
       "      <td>c341674</td>\n",
       "      <td>0.0</td>\n",
       "    </tr>\n",
       "    <tr>\n",
       "      <th>4</th>\n",
       "      <td>c349783</td>\n",
       "      <td>0.0</td>\n",
       "    </tr>\n",
       "    <tr>\n",
       "      <th>...</th>\n",
       "      <td>...</td>\n",
       "      <td>...</td>\n",
       "    </tr>\n",
       "    <tr>\n",
       "      <th>349</th>\n",
       "      <td>c396022</td>\n",
       "      <td>0.0</td>\n",
       "    </tr>\n",
       "    <tr>\n",
       "      <th>350</th>\n",
       "      <td>c396059</td>\n",
       "      <td>0.0</td>\n",
       "    </tr>\n",
       "    <tr>\n",
       "      <th>351</th>\n",
       "      <td>c392672</td>\n",
       "      <td>NaN</td>\n",
       "    </tr>\n",
       "    <tr>\n",
       "      <th>352</th>\n",
       "      <td>c345428</td>\n",
       "      <td>NaN</td>\n",
       "    </tr>\n",
       "    <tr>\n",
       "      <th>353</th>\n",
       "      <td>c394007</td>\n",
       "      <td>NaN</td>\n",
       "    </tr>\n",
       "  </tbody>\n",
       "</table>\n",
       "<p>354 rows × 2 columns</p>\n",
       "</div>"
      ],
      "text/plain": [
       "    CustomerID  Churn\n",
       "0      c373441    0.0\n",
       "1      c337831    NaN\n",
       "2      c337999    0.0\n",
       "3      c341674    0.0\n",
       "4      c349783    0.0\n",
       "..         ...    ...\n",
       "349    c396022    0.0\n",
       "350    c396059    0.0\n",
       "351    c392672    NaN\n",
       "352    c345428    NaN\n",
       "353    c394007    NaN\n",
       "\n",
       "[354 rows x 2 columns]"
      ]
     },
     "execution_count": 45,
     "metadata": {},
     "output_type": "execute_result"
    }
   ],
   "source": [
    "customer3.merge(customer4, how = 'left')"
   ]
  },
  {
   "cell_type": "code",
   "execution_count": 46,
   "metadata": {},
   "outputs": [],
   "source": [
    "customer_churn = customer3.merge(customer4, how = 'left').fillna(1)"
   ]
  },
  {
   "cell_type": "code",
   "execution_count": 47,
   "metadata": {},
   "outputs": [
    {
     "data": {
      "text/plain": [
       "0.0    226\n",
       "1.0    128\n",
       "Name: Churn, dtype: int64"
      ]
     },
     "execution_count": 47,
     "metadata": {},
     "output_type": "execute_result"
    }
   ],
   "source": [
    "customer_churn.Churn.value_counts()"
   ]
  },
  {
   "cell_type": "markdown",
   "metadata": {},
   "source": [
    "### 문제 4. 변수 추가하기"
   ]
  },
  {
   "cell_type": "markdown",
   "metadata": {},
   "source": [
    "문제 1에서 도출된 요인들을 변수로 만들기  \n",
    "3-2) 문제 결과에 변수들을 추가하기.\n",
    "\n",
    "아래 문제들을 풀고, 여러분의 변수들을 추가해 봅시다.  \n",
    "현재를 2016년12월31일로 간주합니다."
   ]
  },
  {
   "cell_type": "markdown",
   "metadata": {},
   "source": [
    "4-1) 성별, 나이 추가하기   \n",
    "현재를 2016년12월로 간주하여 나이를 계산한다."
   ]
  },
  {
   "cell_type": "code",
   "execution_count": 25,
   "metadata": {
    "collapsed": true
   },
   "outputs": [
    {
     "data": {
      "text/html": [
       "<div>\n",
       "<style scoped>\n",
       "    .dataframe tbody tr th:only-of-type {\n",
       "        vertical-align: middle;\n",
       "    }\n",
       "\n",
       "    .dataframe tbody tr th {\n",
       "        vertical-align: top;\n",
       "    }\n",
       "\n",
       "    .dataframe thead th {\n",
       "        text-align: right;\n",
       "    }\n",
       "</style>\n",
       "<table border=\"1\" class=\"dataframe\">\n",
       "  <thead>\n",
       "    <tr style=\"text-align: right;\">\n",
       "      <th></th>\n",
       "      <th>CustomerID</th>\n",
       "      <th>RegisterDate</th>\n",
       "      <th>Address</th>\n",
       "      <th>Gender</th>\n",
       "      <th>BirthYear</th>\n",
       "      <th>Addr1</th>\n",
       "      <th>Addr2</th>\n",
       "    </tr>\n",
       "  </thead>\n",
       "  <tbody>\n",
       "    <tr>\n",
       "      <th>0</th>\n",
       "      <td>c328222</td>\n",
       "      <td>2014-09-25</td>\n",
       "      <td>강원 원주시 늘품로</td>\n",
       "      <td>F</td>\n",
       "      <td>1960</td>\n",
       "      <td>강원도</td>\n",
       "      <td>원주시</td>\n",
       "    </tr>\n",
       "    <tr>\n",
       "      <th>1</th>\n",
       "      <td>c281448</td>\n",
       "      <td>2013-06-18</td>\n",
       "      <td>강원 원주시 치악로</td>\n",
       "      <td>F</td>\n",
       "      <td>1974</td>\n",
       "      <td>강원도</td>\n",
       "      <td>원주시</td>\n",
       "    </tr>\n",
       "    <tr>\n",
       "      <th>2</th>\n",
       "      <td>c038336</td>\n",
       "      <td>2003-10-10</td>\n",
       "      <td>강원 춘천시 서부대성로</td>\n",
       "      <td>F</td>\n",
       "      <td>1968</td>\n",
       "      <td>강원도</td>\n",
       "      <td>춘천시</td>\n",
       "    </tr>\n",
       "    <tr>\n",
       "      <th>3</th>\n",
       "      <td>c084237</td>\n",
       "      <td>2007-03-09</td>\n",
       "      <td>강원도 강릉시 연곡면 황어대길</td>\n",
       "      <td>F</td>\n",
       "      <td>1982</td>\n",
       "      <td>강원도</td>\n",
       "      <td>강릉시</td>\n",
       "    </tr>\n",
       "    <tr>\n",
       "      <th>4</th>\n",
       "      <td>c162600</td>\n",
       "      <td>2010-06-14</td>\n",
       "      <td>강원도 속초시 농공단지길</td>\n",
       "      <td>F</td>\n",
       "      <td>1978</td>\n",
       "      <td>강원도</td>\n",
       "      <td>속초시</td>\n",
       "    </tr>\n",
       "  </tbody>\n",
       "</table>\n",
       "</div>"
      ],
      "text/plain": [
       "  CustomerID RegisterDate           Address Gender  BirthYear Addr1 Addr2\n",
       "0    c328222   2014-09-25        강원 원주시 늘품로      F       1960   강원도   원주시\n",
       "1    c281448   2013-06-18        강원 원주시 치악로      F       1974   강원도   원주시\n",
       "2    c038336   2003-10-10      강원 춘천시 서부대성로      F       1968   강원도   춘천시\n",
       "3    c084237   2007-03-09  강원도 강릉시 연곡면 황어대길      F       1982   강원도   강릉시\n",
       "4    c162600   2010-06-14     강원도 속초시 농공단지길      F       1978   강원도   속초시"
      ]
     },
     "execution_count": 25,
     "metadata": {},
     "output_type": "execute_result"
    }
   ],
   "source": [
    "customers.head()"
   ]
  },
  {
   "cell_type": "code",
   "execution_count": 48,
   "metadata": {},
   "outputs": [],
   "source": [
    "customer_churn = customer_churn.merge(customers.loc[:, ['CustomerID','RegisterDate', 'Gender', 'BirthYear']])"
   ]
  },
  {
   "cell_type": "code",
   "execution_count": 49,
   "metadata": {},
   "outputs": [
    {
     "data": {
      "text/html": [
       "<div>\n",
       "<style scoped>\n",
       "    .dataframe tbody tr th:only-of-type {\n",
       "        vertical-align: middle;\n",
       "    }\n",
       "\n",
       "    .dataframe tbody tr th {\n",
       "        vertical-align: top;\n",
       "    }\n",
       "\n",
       "    .dataframe thead th {\n",
       "        text-align: right;\n",
       "    }\n",
       "</style>\n",
       "<table border=\"1\" class=\"dataframe\">\n",
       "  <thead>\n",
       "    <tr style=\"text-align: right;\">\n",
       "      <th></th>\n",
       "      <th>CustomerID</th>\n",
       "      <th>Churn</th>\n",
       "      <th>RegisterDate</th>\n",
       "      <th>Gender</th>\n",
       "      <th>BirthYear</th>\n",
       "    </tr>\n",
       "  </thead>\n",
       "  <tbody>\n",
       "    <tr>\n",
       "      <th>0</th>\n",
       "      <td>c373441</td>\n",
       "      <td>0.0</td>\n",
       "      <td>2016-03-17</td>\n",
       "      <td>F</td>\n",
       "      <td>1977</td>\n",
       "    </tr>\n",
       "    <tr>\n",
       "      <th>1</th>\n",
       "      <td>c337831</td>\n",
       "      <td>1.0</td>\n",
       "      <td>2015-01-09</td>\n",
       "      <td>F</td>\n",
       "      <td>1984</td>\n",
       "    </tr>\n",
       "    <tr>\n",
       "      <th>2</th>\n",
       "      <td>c337999</td>\n",
       "      <td>0.0</td>\n",
       "      <td>2015-01-12</td>\n",
       "      <td>F</td>\n",
       "      <td>1977</td>\n",
       "    </tr>\n",
       "    <tr>\n",
       "      <th>3</th>\n",
       "      <td>c341674</td>\n",
       "      <td>0.0</td>\n",
       "      <td>2015-02-28</td>\n",
       "      <td>M</td>\n",
       "      <td>1973</td>\n",
       "    </tr>\n",
       "    <tr>\n",
       "      <th>4</th>\n",
       "      <td>c349783</td>\n",
       "      <td>0.0</td>\n",
       "      <td>2015-05-26</td>\n",
       "      <td>F</td>\n",
       "      <td>1973</td>\n",
       "    </tr>\n",
       "  </tbody>\n",
       "</table>\n",
       "</div>"
      ],
      "text/plain": [
       "  CustomerID  Churn RegisterDate Gender  BirthYear\n",
       "0    c373441    0.0   2016-03-17      F       1977\n",
       "1    c337831    1.0   2015-01-09      F       1984\n",
       "2    c337999    0.0   2015-01-12      F       1977\n",
       "3    c341674    0.0   2015-02-28      M       1973\n",
       "4    c349783    0.0   2015-05-26      F       1973"
      ]
     },
     "execution_count": 49,
     "metadata": {},
     "output_type": "execute_result"
    }
   ],
   "source": [
    "customer_churn.head()"
   ]
  },
  {
   "cell_type": "code",
   "execution_count": 50,
   "metadata": {},
   "outputs": [],
   "source": [
    "customer_churn['Age'] = 2017 - customer_churn.BirthYear"
   ]
  },
  {
   "cell_type": "code",
   "execution_count": 51,
   "metadata": {},
   "outputs": [],
   "source": [
    "customer_churn.drop(['BirthYear'], axis='columns', inplace=True)"
   ]
  },
  {
   "cell_type": "code",
   "execution_count": 52,
   "metadata": {},
   "outputs": [
    {
     "data": {
      "text/html": [
       "<div>\n",
       "<style scoped>\n",
       "    .dataframe tbody tr th:only-of-type {\n",
       "        vertical-align: middle;\n",
       "    }\n",
       "\n",
       "    .dataframe tbody tr th {\n",
       "        vertical-align: top;\n",
       "    }\n",
       "\n",
       "    .dataframe thead th {\n",
       "        text-align: right;\n",
       "    }\n",
       "</style>\n",
       "<table border=\"1\" class=\"dataframe\">\n",
       "  <thead>\n",
       "    <tr style=\"text-align: right;\">\n",
       "      <th></th>\n",
       "      <th>CustomerID</th>\n",
       "      <th>Churn</th>\n",
       "      <th>RegisterDate</th>\n",
       "      <th>Gender</th>\n",
       "      <th>Age</th>\n",
       "    </tr>\n",
       "  </thead>\n",
       "  <tbody>\n",
       "    <tr>\n",
       "      <th>0</th>\n",
       "      <td>c373441</td>\n",
       "      <td>0.0</td>\n",
       "      <td>2016-03-17</td>\n",
       "      <td>F</td>\n",
       "      <td>40</td>\n",
       "    </tr>\n",
       "    <tr>\n",
       "      <th>1</th>\n",
       "      <td>c337831</td>\n",
       "      <td>1.0</td>\n",
       "      <td>2015-01-09</td>\n",
       "      <td>F</td>\n",
       "      <td>33</td>\n",
       "    </tr>\n",
       "    <tr>\n",
       "      <th>2</th>\n",
       "      <td>c337999</td>\n",
       "      <td>0.0</td>\n",
       "      <td>2015-01-12</td>\n",
       "      <td>F</td>\n",
       "      <td>40</td>\n",
       "    </tr>\n",
       "    <tr>\n",
       "      <th>3</th>\n",
       "      <td>c341674</td>\n",
       "      <td>0.0</td>\n",
       "      <td>2015-02-28</td>\n",
       "      <td>M</td>\n",
       "      <td>44</td>\n",
       "    </tr>\n",
       "    <tr>\n",
       "      <th>4</th>\n",
       "      <td>c349783</td>\n",
       "      <td>0.0</td>\n",
       "      <td>2015-05-26</td>\n",
       "      <td>F</td>\n",
       "      <td>44</td>\n",
       "    </tr>\n",
       "  </tbody>\n",
       "</table>\n",
       "</div>"
      ],
      "text/plain": [
       "  CustomerID  Churn RegisterDate Gender  Age\n",
       "0    c373441    0.0   2016-03-17      F   40\n",
       "1    c337831    1.0   2015-01-09      F   33\n",
       "2    c337999    0.0   2015-01-12      F   40\n",
       "3    c341674    0.0   2015-02-28      M   44\n",
       "4    c349783    0.0   2015-05-26      F   44"
      ]
     },
     "execution_count": 52,
     "metadata": {},
     "output_type": "execute_result"
    }
   ],
   "source": [
    "customer_churn.head()"
   ]
  },
  {
   "cell_type": "markdown",
   "metadata": {},
   "source": [
    "4-2) 최근 3개월 구매액, 방문횟수"
   ]
  },
  {
   "cell_type": "code",
   "execution_count": 53,
   "metadata": {},
   "outputs": [],
   "source": [
    "sales_1 = sales.loc[sales['OrderDate'].between('2016-10-01', '2016-12-31'), ]"
   ]
  },
  {
   "cell_type": "code",
   "execution_count": 54,
   "metadata": {},
   "outputs": [],
   "source": [
    "cust_sum = sales_1.groupby(by='CustomerID', as_index = False)[\"Amt\"].sum()"
   ]
  },
  {
   "cell_type": "code",
   "execution_count": 55,
   "metadata": {},
   "outputs": [
    {
     "data": {
      "text/html": [
       "<div>\n",
       "<style scoped>\n",
       "    .dataframe tbody tr th:only-of-type {\n",
       "        vertical-align: middle;\n",
       "    }\n",
       "\n",
       "    .dataframe tbody tr th {\n",
       "        vertical-align: top;\n",
       "    }\n",
       "\n",
       "    .dataframe thead th {\n",
       "        text-align: right;\n",
       "    }\n",
       "</style>\n",
       "<table border=\"1\" class=\"dataframe\">\n",
       "  <thead>\n",
       "    <tr style=\"text-align: right;\">\n",
       "      <th></th>\n",
       "      <th>CustomerID</th>\n",
       "      <th>Amt</th>\n",
       "    </tr>\n",
       "  </thead>\n",
       "  <tbody>\n",
       "    <tr>\n",
       "      <th>0</th>\n",
       "      <td>c017487</td>\n",
       "      <td>44206</td>\n",
       "    </tr>\n",
       "    <tr>\n",
       "      <th>1</th>\n",
       "      <td>c017503</td>\n",
       "      <td>24400</td>\n",
       "    </tr>\n",
       "    <tr>\n",
       "      <th>2</th>\n",
       "      <td>c017517</td>\n",
       "      <td>57971</td>\n",
       "    </tr>\n",
       "    <tr>\n",
       "      <th>3</th>\n",
       "      <td>c017522</td>\n",
       "      <td>22027</td>\n",
       "    </tr>\n",
       "    <tr>\n",
       "      <th>4</th>\n",
       "      <td>c017526</td>\n",
       "      <td>9750</td>\n",
       "    </tr>\n",
       "  </tbody>\n",
       "</table>\n",
       "</div>"
      ],
      "text/plain": [
       "  CustomerID    Amt\n",
       "0    c017487  44206\n",
       "1    c017503  24400\n",
       "2    c017517  57971\n",
       "3    c017522  22027\n",
       "4    c017526   9750"
      ]
     },
     "execution_count": 55,
     "metadata": {},
     "output_type": "execute_result"
    }
   ],
   "source": [
    "cust_sum.head()"
   ]
  },
  {
   "cell_type": "code",
   "execution_count": 56,
   "metadata": {},
   "outputs": [],
   "source": [
    "customer_churn = customer_churn.merge(cust_sum, how = 'left')"
   ]
  },
  {
   "cell_type": "code",
   "execution_count": 57,
   "metadata": {},
   "outputs": [
    {
     "data": {
      "text/html": [
       "<div>\n",
       "<style scoped>\n",
       "    .dataframe tbody tr th:only-of-type {\n",
       "        vertical-align: middle;\n",
       "    }\n",
       "\n",
       "    .dataframe tbody tr th {\n",
       "        vertical-align: top;\n",
       "    }\n",
       "\n",
       "    .dataframe thead th {\n",
       "        text-align: right;\n",
       "    }\n",
       "</style>\n",
       "<table border=\"1\" class=\"dataframe\">\n",
       "  <thead>\n",
       "    <tr style=\"text-align: right;\">\n",
       "      <th></th>\n",
       "      <th>sum</th>\n",
       "      <th>count</th>\n",
       "    </tr>\n",
       "    <tr>\n",
       "      <th>CustomerID</th>\n",
       "      <th></th>\n",
       "      <th></th>\n",
       "    </tr>\n",
       "  </thead>\n",
       "  <tbody>\n",
       "    <tr>\n",
       "      <th>c017487</th>\n",
       "      <td>44206</td>\n",
       "      <td>18</td>\n",
       "    </tr>\n",
       "    <tr>\n",
       "      <th>c017503</th>\n",
       "      <td>24400</td>\n",
       "      <td>5</td>\n",
       "    </tr>\n",
       "    <tr>\n",
       "      <th>c017517</th>\n",
       "      <td>57971</td>\n",
       "      <td>21</td>\n",
       "    </tr>\n",
       "    <tr>\n",
       "      <th>c017522</th>\n",
       "      <td>22027</td>\n",
       "      <td>11</td>\n",
       "    </tr>\n",
       "    <tr>\n",
       "      <th>c017526</th>\n",
       "      <td>9750</td>\n",
       "      <td>4</td>\n",
       "    </tr>\n",
       "    <tr>\n",
       "      <th>...</th>\n",
       "      <td>...</td>\n",
       "      <td>...</td>\n",
       "    </tr>\n",
       "    <tr>\n",
       "      <th>c395401</th>\n",
       "      <td>9114</td>\n",
       "      <td>3</td>\n",
       "    </tr>\n",
       "    <tr>\n",
       "      <th>c395638</th>\n",
       "      <td>24802</td>\n",
       "      <td>7</td>\n",
       "    </tr>\n",
       "    <tr>\n",
       "      <th>c395673</th>\n",
       "      <td>4200</td>\n",
       "      <td>1</td>\n",
       "    </tr>\n",
       "    <tr>\n",
       "      <th>c396022</th>\n",
       "      <td>7955</td>\n",
       "      <td>3</td>\n",
       "    </tr>\n",
       "    <tr>\n",
       "      <th>c396059</th>\n",
       "      <td>10320</td>\n",
       "      <td>2</td>\n",
       "    </tr>\n",
       "  </tbody>\n",
       "</table>\n",
       "<p>1382 rows × 2 columns</p>\n",
       "</div>"
      ],
      "text/plain": [
       "              sum  count\n",
       "CustomerID              \n",
       "c017487     44206     18\n",
       "c017503     24400      5\n",
       "c017517     57971     21\n",
       "c017522     22027     11\n",
       "c017526      9750      4\n",
       "...           ...    ...\n",
       "c395401      9114      3\n",
       "c395638     24802      7\n",
       "c395673      4200      1\n",
       "c396022      7955      3\n",
       "c396059     10320      2\n",
       "\n",
       "[1382 rows x 2 columns]"
      ]
     },
     "execution_count": 57,
     "metadata": {},
     "output_type": "execute_result"
    }
   ],
   "source": [
    "sales_1.groupby(by='CustomerID', as_index = False)[\"Amt\"].agg(['sum','count'])"
   ]
  },
  {
   "cell_type": "code",
   "execution_count": 58,
   "metadata": {},
   "outputs": [],
   "source": [
    "sales_2 = sales_1.loc[:, ['CustomerID','OrderDate']].drop_duplicates()"
   ]
  },
  {
   "cell_type": "code",
   "execution_count": 59,
   "metadata": {},
   "outputs": [
    {
     "data": {
      "text/html": [
       "<div>\n",
       "<style scoped>\n",
       "    .dataframe tbody tr th:only-of-type {\n",
       "        vertical-align: middle;\n",
       "    }\n",
       "\n",
       "    .dataframe tbody tr th {\n",
       "        vertical-align: top;\n",
       "    }\n",
       "\n",
       "    .dataframe thead th {\n",
       "        text-align: right;\n",
       "    }\n",
       "</style>\n",
       "<table border=\"1\" class=\"dataframe\">\n",
       "  <thead>\n",
       "    <tr style=\"text-align: right;\">\n",
       "      <th></th>\n",
       "      <th>CustomerID</th>\n",
       "      <th>OrderDate</th>\n",
       "    </tr>\n",
       "  </thead>\n",
       "  <tbody>\n",
       "    <tr>\n",
       "      <th>0</th>\n",
       "      <td>c017487</td>\n",
       "      <td>9</td>\n",
       "    </tr>\n",
       "    <tr>\n",
       "      <th>1</th>\n",
       "      <td>c017503</td>\n",
       "      <td>2</td>\n",
       "    </tr>\n",
       "    <tr>\n",
       "      <th>2</th>\n",
       "      <td>c017517</td>\n",
       "      <td>12</td>\n",
       "    </tr>\n",
       "    <tr>\n",
       "      <th>3</th>\n",
       "      <td>c017522</td>\n",
       "      <td>7</td>\n",
       "    </tr>\n",
       "    <tr>\n",
       "      <th>4</th>\n",
       "      <td>c017526</td>\n",
       "      <td>1</td>\n",
       "    </tr>\n",
       "    <tr>\n",
       "      <th>...</th>\n",
       "      <td>...</td>\n",
       "      <td>...</td>\n",
       "    </tr>\n",
       "    <tr>\n",
       "      <th>1377</th>\n",
       "      <td>c395401</td>\n",
       "      <td>2</td>\n",
       "    </tr>\n",
       "    <tr>\n",
       "      <th>1378</th>\n",
       "      <td>c395638</td>\n",
       "      <td>2</td>\n",
       "    </tr>\n",
       "    <tr>\n",
       "      <th>1379</th>\n",
       "      <td>c395673</td>\n",
       "      <td>1</td>\n",
       "    </tr>\n",
       "    <tr>\n",
       "      <th>1380</th>\n",
       "      <td>c396022</td>\n",
       "      <td>1</td>\n",
       "    </tr>\n",
       "    <tr>\n",
       "      <th>1381</th>\n",
       "      <td>c396059</td>\n",
       "      <td>1</td>\n",
       "    </tr>\n",
       "  </tbody>\n",
       "</table>\n",
       "<p>1382 rows × 2 columns</p>\n",
       "</div>"
      ],
      "text/plain": [
       "     CustomerID  OrderDate\n",
       "0       c017487          9\n",
       "1       c017503          2\n",
       "2       c017517         12\n",
       "3       c017522          7\n",
       "4       c017526          1\n",
       "...         ...        ...\n",
       "1377    c395401          2\n",
       "1378    c395638          2\n",
       "1379    c395673          1\n",
       "1380    c396022          1\n",
       "1381    c396059          1\n",
       "\n",
       "[1382 rows x 2 columns]"
      ]
     },
     "execution_count": 59,
     "metadata": {},
     "output_type": "execute_result"
    }
   ],
   "source": [
    "sales_2.groupby(by='CustomerID', as_index = False).count()"
   ]
  },
  {
   "cell_type": "code",
   "execution_count": 60,
   "metadata": {},
   "outputs": [],
   "source": [
    "sales_3 = sales_2.groupby(by='CustomerID', as_index = False).count().rename(columns={'OrderDate':'Count'})"
   ]
  },
  {
   "cell_type": "code",
   "execution_count": 61,
   "metadata": {},
   "outputs": [
    {
     "data": {
      "text/html": [
       "<div>\n",
       "<style scoped>\n",
       "    .dataframe tbody tr th:only-of-type {\n",
       "        vertical-align: middle;\n",
       "    }\n",
       "\n",
       "    .dataframe tbody tr th {\n",
       "        vertical-align: top;\n",
       "    }\n",
       "\n",
       "    .dataframe thead th {\n",
       "        text-align: right;\n",
       "    }\n",
       "</style>\n",
       "<table border=\"1\" class=\"dataframe\">\n",
       "  <thead>\n",
       "    <tr style=\"text-align: right;\">\n",
       "      <th></th>\n",
       "      <th>CustomerID</th>\n",
       "      <th>Count</th>\n",
       "    </tr>\n",
       "  </thead>\n",
       "  <tbody>\n",
       "    <tr>\n",
       "      <th>0</th>\n",
       "      <td>c017487</td>\n",
       "      <td>9</td>\n",
       "    </tr>\n",
       "    <tr>\n",
       "      <th>1</th>\n",
       "      <td>c017503</td>\n",
       "      <td>2</td>\n",
       "    </tr>\n",
       "    <tr>\n",
       "      <th>2</th>\n",
       "      <td>c017517</td>\n",
       "      <td>12</td>\n",
       "    </tr>\n",
       "    <tr>\n",
       "      <th>3</th>\n",
       "      <td>c017522</td>\n",
       "      <td>7</td>\n",
       "    </tr>\n",
       "    <tr>\n",
       "      <th>4</th>\n",
       "      <td>c017526</td>\n",
       "      <td>1</td>\n",
       "    </tr>\n",
       "    <tr>\n",
       "      <th>...</th>\n",
       "      <td>...</td>\n",
       "      <td>...</td>\n",
       "    </tr>\n",
       "    <tr>\n",
       "      <th>1377</th>\n",
       "      <td>c395401</td>\n",
       "      <td>2</td>\n",
       "    </tr>\n",
       "    <tr>\n",
       "      <th>1378</th>\n",
       "      <td>c395638</td>\n",
       "      <td>2</td>\n",
       "    </tr>\n",
       "    <tr>\n",
       "      <th>1379</th>\n",
       "      <td>c395673</td>\n",
       "      <td>1</td>\n",
       "    </tr>\n",
       "    <tr>\n",
       "      <th>1380</th>\n",
       "      <td>c396022</td>\n",
       "      <td>1</td>\n",
       "    </tr>\n",
       "    <tr>\n",
       "      <th>1381</th>\n",
       "      <td>c396059</td>\n",
       "      <td>1</td>\n",
       "    </tr>\n",
       "  </tbody>\n",
       "</table>\n",
       "<p>1382 rows × 2 columns</p>\n",
       "</div>"
      ],
      "text/plain": [
       "     CustomerID  Count\n",
       "0       c017487      9\n",
       "1       c017503      2\n",
       "2       c017517     12\n",
       "3       c017522      7\n",
       "4       c017526      1\n",
       "...         ...    ...\n",
       "1377    c395401      2\n",
       "1378    c395638      2\n",
       "1379    c395673      1\n",
       "1380    c396022      1\n",
       "1381    c396059      1\n",
       "\n",
       "[1382 rows x 2 columns]"
      ]
     },
     "execution_count": 61,
     "metadata": {},
     "output_type": "execute_result"
    }
   ],
   "source": [
    "sales_3"
   ]
  },
  {
   "cell_type": "code",
   "execution_count": 62,
   "metadata": {},
   "outputs": [],
   "source": [
    "customer_churn = customer_churn.merge(sales_3, how = \"left\")"
   ]
  },
  {
   "cell_type": "code",
   "execution_count": 63,
   "metadata": {},
   "outputs": [
    {
     "data": {
      "text/html": [
       "<div>\n",
       "<style scoped>\n",
       "    .dataframe tbody tr th:only-of-type {\n",
       "        vertical-align: middle;\n",
       "    }\n",
       "\n",
       "    .dataframe tbody tr th {\n",
       "        vertical-align: top;\n",
       "    }\n",
       "\n",
       "    .dataframe thead th {\n",
       "        text-align: right;\n",
       "    }\n",
       "</style>\n",
       "<table border=\"1\" class=\"dataframe\">\n",
       "  <thead>\n",
       "    <tr style=\"text-align: right;\">\n",
       "      <th></th>\n",
       "      <th>CustomerID</th>\n",
       "      <th>Churn</th>\n",
       "      <th>RegisterDate</th>\n",
       "      <th>Gender</th>\n",
       "      <th>Age</th>\n",
       "      <th>Amt</th>\n",
       "      <th>Count</th>\n",
       "    </tr>\n",
       "  </thead>\n",
       "  <tbody>\n",
       "    <tr>\n",
       "      <th>0</th>\n",
       "      <td>c373441</td>\n",
       "      <td>0.0</td>\n",
       "      <td>2016-03-17</td>\n",
       "      <td>F</td>\n",
       "      <td>40</td>\n",
       "      <td>17491.0</td>\n",
       "      <td>3</td>\n",
       "    </tr>\n",
       "    <tr>\n",
       "      <th>1</th>\n",
       "      <td>c337999</td>\n",
       "      <td>0.0</td>\n",
       "      <td>2015-01-12</td>\n",
       "      <td>F</td>\n",
       "      <td>40</td>\n",
       "      <td>93637.0</td>\n",
       "      <td>22</td>\n",
       "    </tr>\n",
       "    <tr>\n",
       "      <th>2</th>\n",
       "      <td>c341674</td>\n",
       "      <td>0.0</td>\n",
       "      <td>2015-02-28</td>\n",
       "      <td>M</td>\n",
       "      <td>44</td>\n",
       "      <td>86163.0</td>\n",
       "      <td>19</td>\n",
       "    </tr>\n",
       "    <tr>\n",
       "      <th>3</th>\n",
       "      <td>c349783</td>\n",
       "      <td>0.0</td>\n",
       "      <td>2015-05-26</td>\n",
       "      <td>F</td>\n",
       "      <td>44</td>\n",
       "      <td>7800.0</td>\n",
       "      <td>2</td>\n",
       "    </tr>\n",
       "    <tr>\n",
       "      <th>4</th>\n",
       "      <td>c371075</td>\n",
       "      <td>0.0</td>\n",
       "      <td>2016-02-19</td>\n",
       "      <td>F</td>\n",
       "      <td>49</td>\n",
       "      <td>23775.0</td>\n",
       "      <td>5</td>\n",
       "    </tr>\n",
       "  </tbody>\n",
       "</table>\n",
       "</div>"
      ],
      "text/plain": [
       "  CustomerID  Churn RegisterDate Gender  Age      Amt  Count\n",
       "0    c373441    0.0   2016-03-17      F   40  17491.0      3\n",
       "1    c337999    0.0   2015-01-12      F   40  93637.0     22\n",
       "2    c341674    0.0   2015-02-28      M   44  86163.0     19\n",
       "3    c349783    0.0   2015-05-26      F   44   7800.0      2\n",
       "4    c371075    0.0   2016-02-19      F   49  23775.0      5"
      ]
     },
     "execution_count": 63,
     "metadata": {},
     "output_type": "execute_result"
    }
   ],
   "source": [
    "customer_churn.head()"
   ]
  },
  {
   "cell_type": "code",
   "execution_count": null,
   "metadata": {},
   "outputs": [],
   "source": []
  },
  {
   "cell_type": "code",
   "execution_count": null,
   "metadata": {},
   "outputs": [],
   "source": []
  },
  {
   "cell_type": "markdown",
   "metadata": {},
   "source": [
    "4-3) 최근 3개월 카테고리별 구매액"
   ]
  },
  {
   "cell_type": "code",
   "execution_count": 64,
   "metadata": {},
   "outputs": [],
   "source": [
    "sales_prod_1 = sales_1.merge(products.loc[:,['ProductID', 'Category']])"
   ]
  },
  {
   "cell_type": "code",
   "execution_count": 65,
   "metadata": {},
   "outputs": [],
   "source": [
    "sales_prod_2 = sales_prod_1.groupby(by = ['CustomerID', 'Category'], as_index = False)['Amt'].sum()"
   ]
  },
  {
   "cell_type": "code",
   "execution_count": 66,
   "metadata": {},
   "outputs": [
    {
     "data": {
      "text/html": [
       "<div>\n",
       "<style scoped>\n",
       "    .dataframe tbody tr th:only-of-type {\n",
       "        vertical-align: middle;\n",
       "    }\n",
       "\n",
       "    .dataframe tbody tr th {\n",
       "        vertical-align: top;\n",
       "    }\n",
       "\n",
       "    .dataframe thead th {\n",
       "        text-align: right;\n",
       "    }\n",
       "</style>\n",
       "<table border=\"1\" class=\"dataframe\">\n",
       "  <thead>\n",
       "    <tr style=\"text-align: right;\">\n",
       "      <th></th>\n",
       "      <th>CustomerID</th>\n",
       "      <th>Category</th>\n",
       "      <th>Amt</th>\n",
       "    </tr>\n",
       "  </thead>\n",
       "  <tbody>\n",
       "    <tr>\n",
       "      <th>0</th>\n",
       "      <td>c017487</td>\n",
       "      <td>간식</td>\n",
       "      <td>9546</td>\n",
       "    </tr>\n",
       "    <tr>\n",
       "      <th>1</th>\n",
       "      <td>c017487</td>\n",
       "      <td>반찬류</td>\n",
       "      <td>8950</td>\n",
       "    </tr>\n",
       "    <tr>\n",
       "      <th>2</th>\n",
       "      <td>c017487</td>\n",
       "      <td>유제품</td>\n",
       "      <td>11960</td>\n",
       "    </tr>\n",
       "    <tr>\n",
       "      <th>3</th>\n",
       "      <td>c017487</td>\n",
       "      <td>채소</td>\n",
       "      <td>13750</td>\n",
       "    </tr>\n",
       "    <tr>\n",
       "      <th>4</th>\n",
       "      <td>c017503</td>\n",
       "      <td>과일</td>\n",
       "      <td>17600</td>\n",
       "    </tr>\n",
       "    <tr>\n",
       "      <th>...</th>\n",
       "      <td>...</td>\n",
       "      <td>...</td>\n",
       "      <td>...</td>\n",
       "    </tr>\n",
       "    <tr>\n",
       "      <th>3468</th>\n",
       "      <td>c396022</td>\n",
       "      <td>간식</td>\n",
       "      <td>1455</td>\n",
       "    </tr>\n",
       "    <tr>\n",
       "      <th>3469</th>\n",
       "      <td>c396022</td>\n",
       "      <td>유제품</td>\n",
       "      <td>4150</td>\n",
       "    </tr>\n",
       "    <tr>\n",
       "      <th>3470</th>\n",
       "      <td>c396022</td>\n",
       "      <td>채소</td>\n",
       "      <td>2350</td>\n",
       "    </tr>\n",
       "    <tr>\n",
       "      <th>3471</th>\n",
       "      <td>c396059</td>\n",
       "      <td>과일</td>\n",
       "      <td>8370</td>\n",
       "    </tr>\n",
       "    <tr>\n",
       "      <th>3472</th>\n",
       "      <td>c396059</td>\n",
       "      <td>반찬류</td>\n",
       "      <td>1950</td>\n",
       "    </tr>\n",
       "  </tbody>\n",
       "</table>\n",
       "<p>3473 rows × 3 columns</p>\n",
       "</div>"
      ],
      "text/plain": [
       "     CustomerID Category    Amt\n",
       "0       c017487       간식   9546\n",
       "1       c017487      반찬류   8950\n",
       "2       c017487      유제품  11960\n",
       "3       c017487       채소  13750\n",
       "4       c017503       과일  17600\n",
       "...         ...      ...    ...\n",
       "3468    c396022       간식   1455\n",
       "3469    c396022      유제품   4150\n",
       "3470    c396022       채소   2350\n",
       "3471    c396059       과일   8370\n",
       "3472    c396059      반찬류   1950\n",
       "\n",
       "[3473 rows x 3 columns]"
      ]
     },
     "execution_count": 66,
     "metadata": {},
     "output_type": "execute_result"
    }
   ],
   "source": [
    "sales_prod_2"
   ]
  },
  {
   "cell_type": "code",
   "execution_count": 68,
   "metadata": {},
   "outputs": [
    {
     "data": {
      "text/html": [
       "<div>\n",
       "<style scoped>\n",
       "    .dataframe tbody tr th:only-of-type {\n",
       "        vertical-align: middle;\n",
       "    }\n",
       "\n",
       "    .dataframe tbody tr th {\n",
       "        vertical-align: top;\n",
       "    }\n",
       "\n",
       "    .dataframe thead th {\n",
       "        text-align: right;\n",
       "    }\n",
       "</style>\n",
       "<table border=\"1\" class=\"dataframe\">\n",
       "  <thead>\n",
       "    <tr style=\"text-align: right;\">\n",
       "      <th>Category</th>\n",
       "      <th>간식</th>\n",
       "      <th>과일</th>\n",
       "      <th>반찬류</th>\n",
       "      <th>유제품</th>\n",
       "      <th>채소</th>\n",
       "    </tr>\n",
       "    <tr>\n",
       "      <th>CustomerID</th>\n",
       "      <th></th>\n",
       "      <th></th>\n",
       "      <th></th>\n",
       "      <th></th>\n",
       "      <th></th>\n",
       "    </tr>\n",
       "  </thead>\n",
       "  <tbody>\n",
       "    <tr>\n",
       "      <th>c017487</th>\n",
       "      <td>9546.0</td>\n",
       "      <td>NaN</td>\n",
       "      <td>8950.0</td>\n",
       "      <td>11960.0</td>\n",
       "      <td>13750.0</td>\n",
       "    </tr>\n",
       "    <tr>\n",
       "      <th>c017503</th>\n",
       "      <td>NaN</td>\n",
       "      <td>17600.0</td>\n",
       "      <td>NaN</td>\n",
       "      <td>2750.0</td>\n",
       "      <td>4050.0</td>\n",
       "    </tr>\n",
       "    <tr>\n",
       "      <th>c017517</th>\n",
       "      <td>12317.0</td>\n",
       "      <td>8000.0</td>\n",
       "      <td>6500.0</td>\n",
       "      <td>15704.0</td>\n",
       "      <td>15450.0</td>\n",
       "    </tr>\n",
       "    <tr>\n",
       "      <th>c017522</th>\n",
       "      <td>NaN</td>\n",
       "      <td>NaN</td>\n",
       "      <td>13477.0</td>\n",
       "      <td>NaN</td>\n",
       "      <td>8550.0</td>\n",
       "    </tr>\n",
       "    <tr>\n",
       "      <th>c017526</th>\n",
       "      <td>NaN</td>\n",
       "      <td>NaN</td>\n",
       "      <td>5800.0</td>\n",
       "      <td>NaN</td>\n",
       "      <td>3950.0</td>\n",
       "    </tr>\n",
       "  </tbody>\n",
       "</table>\n",
       "</div>"
      ],
      "text/plain": [
       "Category         간식       과일      반찬류      유제품       채소\n",
       "CustomerID                                             \n",
       "c017487      9546.0      NaN   8950.0  11960.0  13750.0\n",
       "c017503         NaN  17600.0      NaN   2750.0   4050.0\n",
       "c017517     12317.0   8000.0   6500.0  15704.0  15450.0\n",
       "c017522         NaN      NaN  13477.0      NaN   8550.0\n",
       "c017526         NaN      NaN   5800.0      NaN   3950.0"
      ]
     },
     "execution_count": 68,
     "metadata": {},
     "output_type": "execute_result"
    }
   ],
   "source": [
    "sales_prod_3 = sales_prod_2.pivot(\"CustomerID\", \"Category\", \"Amt\")\n",
    "sales_prod_3.head()"
   ]
  },
  {
   "cell_type": "code",
   "execution_count": 69,
   "metadata": {},
   "outputs": [
    {
     "data": {
      "text/html": [
       "<div>\n",
       "<style scoped>\n",
       "    .dataframe tbody tr th:only-of-type {\n",
       "        vertical-align: middle;\n",
       "    }\n",
       "\n",
       "    .dataframe tbody tr th {\n",
       "        vertical-align: top;\n",
       "    }\n",
       "\n",
       "    .dataframe thead th {\n",
       "        text-align: right;\n",
       "    }\n",
       "</style>\n",
       "<table border=\"1\" class=\"dataframe\">\n",
       "  <thead>\n",
       "    <tr style=\"text-align: right;\">\n",
       "      <th>Category</th>\n",
       "      <th>CustomerID</th>\n",
       "      <th>간식</th>\n",
       "      <th>과일</th>\n",
       "      <th>반찬류</th>\n",
       "      <th>유제품</th>\n",
       "      <th>채소</th>\n",
       "    </tr>\n",
       "  </thead>\n",
       "  <tbody>\n",
       "    <tr>\n",
       "      <th>0</th>\n",
       "      <td>c017487</td>\n",
       "      <td>9546.0</td>\n",
       "      <td>NaN</td>\n",
       "      <td>8950.0</td>\n",
       "      <td>11960.0</td>\n",
       "      <td>13750.0</td>\n",
       "    </tr>\n",
       "    <tr>\n",
       "      <th>1</th>\n",
       "      <td>c017503</td>\n",
       "      <td>NaN</td>\n",
       "      <td>17600.0</td>\n",
       "      <td>NaN</td>\n",
       "      <td>2750.0</td>\n",
       "      <td>4050.0</td>\n",
       "    </tr>\n",
       "    <tr>\n",
       "      <th>2</th>\n",
       "      <td>c017517</td>\n",
       "      <td>12317.0</td>\n",
       "      <td>8000.0</td>\n",
       "      <td>6500.0</td>\n",
       "      <td>15704.0</td>\n",
       "      <td>15450.0</td>\n",
       "    </tr>\n",
       "    <tr>\n",
       "      <th>3</th>\n",
       "      <td>c017522</td>\n",
       "      <td>NaN</td>\n",
       "      <td>NaN</td>\n",
       "      <td>13477.0</td>\n",
       "      <td>NaN</td>\n",
       "      <td>8550.0</td>\n",
       "    </tr>\n",
       "    <tr>\n",
       "      <th>4</th>\n",
       "      <td>c017526</td>\n",
       "      <td>NaN</td>\n",
       "      <td>NaN</td>\n",
       "      <td>5800.0</td>\n",
       "      <td>NaN</td>\n",
       "      <td>3950.0</td>\n",
       "    </tr>\n",
       "  </tbody>\n",
       "</table>\n",
       "</div>"
      ],
      "text/plain": [
       "Category CustomerID       간식       과일      반찬류      유제품       채소\n",
       "0           c017487   9546.0      NaN   8950.0  11960.0  13750.0\n",
       "1           c017503      NaN  17600.0      NaN   2750.0   4050.0\n",
       "2           c017517  12317.0   8000.0   6500.0  15704.0  15450.0\n",
       "3           c017522      NaN      NaN  13477.0      NaN   8550.0\n",
       "4           c017526      NaN      NaN   5800.0      NaN   3950.0"
      ]
     },
     "execution_count": 69,
     "metadata": {},
     "output_type": "execute_result"
    }
   ],
   "source": [
    "sales_prod_3.reset_index(level=0, inplace=True)\n",
    "sales_prod_3.head()"
   ]
  },
  {
   "cell_type": "code",
   "execution_count": 70,
   "metadata": {},
   "outputs": [],
   "source": [
    "customer_churn = customer_churn.merge(sales_prod_3, how='left')"
   ]
  },
  {
   "cell_type": "code",
   "execution_count": 71,
   "metadata": {},
   "outputs": [],
   "source": [
    "customer_churn.fillna(0, inplace = True)"
   ]
  },
  {
   "cell_type": "code",
   "execution_count": 72,
   "metadata": {},
   "outputs": [
    {
     "data": {
      "text/html": [
       "<div>\n",
       "<style scoped>\n",
       "    .dataframe tbody tr th:only-of-type {\n",
       "        vertical-align: middle;\n",
       "    }\n",
       "\n",
       "    .dataframe tbody tr th {\n",
       "        vertical-align: top;\n",
       "    }\n",
       "\n",
       "    .dataframe thead th {\n",
       "        text-align: right;\n",
       "    }\n",
       "</style>\n",
       "<table border=\"1\" class=\"dataframe\">\n",
       "  <thead>\n",
       "    <tr style=\"text-align: right;\">\n",
       "      <th></th>\n",
       "      <th>CustomerID</th>\n",
       "      <th>Churn</th>\n",
       "      <th>RegisterDate</th>\n",
       "      <th>Gender</th>\n",
       "      <th>Age</th>\n",
       "      <th>Amt</th>\n",
       "      <th>Count</th>\n",
       "      <th>간식</th>\n",
       "      <th>과일</th>\n",
       "      <th>반찬류</th>\n",
       "      <th>유제품</th>\n",
       "      <th>채소</th>\n",
       "    </tr>\n",
       "  </thead>\n",
       "  <tbody>\n",
       "    <tr>\n",
       "      <th>0</th>\n",
       "      <td>c373441</td>\n",
       "      <td>0.0</td>\n",
       "      <td>2016-03-17</td>\n",
       "      <td>F</td>\n",
       "      <td>40</td>\n",
       "      <td>17491.0</td>\n",
       "      <td>3</td>\n",
       "      <td>1091.0</td>\n",
       "      <td>13100.0</td>\n",
       "      <td>800.0</td>\n",
       "      <td>0.0</td>\n",
       "      <td>2500.0</td>\n",
       "    </tr>\n",
       "    <tr>\n",
       "      <th>1</th>\n",
       "      <td>c337999</td>\n",
       "      <td>0.0</td>\n",
       "      <td>2015-01-12</td>\n",
       "      <td>F</td>\n",
       "      <td>40</td>\n",
       "      <td>93637.0</td>\n",
       "      <td>22</td>\n",
       "      <td>6091.0</td>\n",
       "      <td>0.0</td>\n",
       "      <td>11400.0</td>\n",
       "      <td>53446.0</td>\n",
       "      <td>22700.0</td>\n",
       "    </tr>\n",
       "    <tr>\n",
       "      <th>2</th>\n",
       "      <td>c341674</td>\n",
       "      <td>0.0</td>\n",
       "      <td>2015-02-28</td>\n",
       "      <td>M</td>\n",
       "      <td>44</td>\n",
       "      <td>86163.0</td>\n",
       "      <td>19</td>\n",
       "      <td>6136.0</td>\n",
       "      <td>16720.0</td>\n",
       "      <td>11850.0</td>\n",
       "      <td>19927.0</td>\n",
       "      <td>31530.0</td>\n",
       "    </tr>\n",
       "    <tr>\n",
       "      <th>3</th>\n",
       "      <td>c349783</td>\n",
       "      <td>0.0</td>\n",
       "      <td>2015-05-26</td>\n",
       "      <td>F</td>\n",
       "      <td>44</td>\n",
       "      <td>7800.0</td>\n",
       "      <td>2</td>\n",
       "      <td>0.0</td>\n",
       "      <td>0.0</td>\n",
       "      <td>7800.0</td>\n",
       "      <td>0.0</td>\n",
       "      <td>0.0</td>\n",
       "    </tr>\n",
       "    <tr>\n",
       "      <th>4</th>\n",
       "      <td>c371075</td>\n",
       "      <td>0.0</td>\n",
       "      <td>2016-02-19</td>\n",
       "      <td>F</td>\n",
       "      <td>49</td>\n",
       "      <td>23775.0</td>\n",
       "      <td>5</td>\n",
       "      <td>1455.0</td>\n",
       "      <td>7920.0</td>\n",
       "      <td>7400.0</td>\n",
       "      <td>5500.0</td>\n",
       "      <td>1500.0</td>\n",
       "    </tr>\n",
       "  </tbody>\n",
       "</table>\n",
       "</div>"
      ],
      "text/plain": [
       "  CustomerID  Churn RegisterDate Gender  Age      Amt  Count      간식       과일  \\\n",
       "0    c373441    0.0   2016-03-17      F   40  17491.0      3  1091.0  13100.0   \n",
       "1    c337999    0.0   2015-01-12      F   40  93637.0     22  6091.0      0.0   \n",
       "2    c341674    0.0   2015-02-28      M   44  86163.0     19  6136.0  16720.0   \n",
       "3    c349783    0.0   2015-05-26      F   44   7800.0      2     0.0      0.0   \n",
       "4    c371075    0.0   2016-02-19      F   49  23775.0      5  1455.0   7920.0   \n",
       "\n",
       "       반찬류      유제품       채소  \n",
       "0    800.0      0.0   2500.0  \n",
       "1  11400.0  53446.0  22700.0  \n",
       "2  11850.0  19927.0  31530.0  \n",
       "3   7800.0      0.0      0.0  \n",
       "4   7400.0   5500.0   1500.0  "
      ]
     },
     "execution_count": 72,
     "metadata": {},
     "output_type": "execute_result"
    }
   ],
   "source": [
    "customer_churn.head()"
   ]
  },
  {
   "cell_type": "code",
   "execution_count": null,
   "metadata": {},
   "outputs": [],
   "source": []
  },
  {
   "cell_type": "markdown",
   "metadata": {},
   "source": [
    "4-4) 가입 개월수"
   ]
  },
  {
   "cell_type": "code",
   "execution_count": 74,
   "metadata": {},
   "outputs": [
    {
     "data": {
      "text/plain": [
       "0      654 days\n",
       "1     1084 days\n",
       "2     1037 days\n",
       "3      950 days\n",
       "4      681 days\n",
       "         ...   \n",
       "264    373 days\n",
       "265    372 days\n",
       "266    421 days\n",
       "267    998 days\n",
       "268    403 days\n",
       "Name: RegisterDate, Length: 269, dtype: timedelta64[ns]"
      ]
     },
     "execution_count": 74,
     "metadata": {},
     "output_type": "execute_result"
    }
   ],
   "source": [
    "pd.to_datetime('2017-12-31') -  customer_churn.RegisterDate"
   ]
  },
  {
   "cell_type": "code",
   "execution_count": 75,
   "metadata": {
    "scrolled": true
   },
   "outputs": [
    {
     "data": {
      "text/plain": [
       "0       9.495062\n",
       "1      23.622662\n",
       "2      22.078482\n",
       "3      19.220107\n",
       "4      10.382143\n",
       "         ...    \n",
       "264     0.262839\n",
       "265     0.229984\n",
       "266     1.839874\n",
       "267    20.797142\n",
       "268     1.248486\n",
       "Name: RegisterDate, Length: 269, dtype: float64"
      ]
     },
     "execution_count": 75,
     "metadata": {},
     "output_type": "execute_result"
    }
   ],
   "source": [
    "(pd.to_datetime('2016-12-31') - customer_churn.RegisterDate)/np.timedelta64(1,'M')"
   ]
  },
  {
   "cell_type": "code",
   "execution_count": 76,
   "metadata": {},
   "outputs": [
    {
     "data": {
      "text/plain": [
       "0       9\n",
       "1      23\n",
       "2      22\n",
       "3      19\n",
       "4      10\n",
       "       ..\n",
       "264     0\n",
       "265     0\n",
       "266     1\n",
       "267    20\n",
       "268     1\n",
       "Name: RegisterDate, Length: 269, dtype: int32"
      ]
     },
     "execution_count": 76,
     "metadata": {},
     "output_type": "execute_result"
    }
   ],
   "source": [
    "((pd.to_datetime('2016-12-31') -  customer_churn.RegisterDate)/np.timedelta64(1,'M')).astype(int)"
   ]
  },
  {
   "cell_type": "code",
   "execution_count": 77,
   "metadata": {},
   "outputs": [],
   "source": [
    "customer_churn['Regi_Month'] = ((pd.to_datetime('2016-12-31') -  customer_churn.RegisterDate)/np.timedelta64(1,'M')).astype(int)"
   ]
  },
  {
   "cell_type": "code",
   "execution_count": 78,
   "metadata": {},
   "outputs": [
    {
     "data": {
      "text/html": [
       "<div>\n",
       "<style scoped>\n",
       "    .dataframe tbody tr th:only-of-type {\n",
       "        vertical-align: middle;\n",
       "    }\n",
       "\n",
       "    .dataframe tbody tr th {\n",
       "        vertical-align: top;\n",
       "    }\n",
       "\n",
       "    .dataframe thead th {\n",
       "        text-align: right;\n",
       "    }\n",
       "</style>\n",
       "<table border=\"1\" class=\"dataframe\">\n",
       "  <thead>\n",
       "    <tr style=\"text-align: right;\">\n",
       "      <th></th>\n",
       "      <th>CustomerID</th>\n",
       "      <th>Churn</th>\n",
       "      <th>RegisterDate</th>\n",
       "      <th>Gender</th>\n",
       "      <th>Age</th>\n",
       "      <th>Amt</th>\n",
       "      <th>Count</th>\n",
       "      <th>간식</th>\n",
       "      <th>과일</th>\n",
       "      <th>반찬류</th>\n",
       "      <th>유제품</th>\n",
       "      <th>채소</th>\n",
       "      <th>Regi_Month</th>\n",
       "    </tr>\n",
       "  </thead>\n",
       "  <tbody>\n",
       "    <tr>\n",
       "      <th>0</th>\n",
       "      <td>c373441</td>\n",
       "      <td>0.0</td>\n",
       "      <td>2016-03-17</td>\n",
       "      <td>F</td>\n",
       "      <td>40</td>\n",
       "      <td>17491.0</td>\n",
       "      <td>3</td>\n",
       "      <td>1091.0</td>\n",
       "      <td>13100.0</td>\n",
       "      <td>800.0</td>\n",
       "      <td>0.0</td>\n",
       "      <td>2500.0</td>\n",
       "      <td>9</td>\n",
       "    </tr>\n",
       "    <tr>\n",
       "      <th>1</th>\n",
       "      <td>c337999</td>\n",
       "      <td>0.0</td>\n",
       "      <td>2015-01-12</td>\n",
       "      <td>F</td>\n",
       "      <td>40</td>\n",
       "      <td>93637.0</td>\n",
       "      <td>22</td>\n",
       "      <td>6091.0</td>\n",
       "      <td>0.0</td>\n",
       "      <td>11400.0</td>\n",
       "      <td>53446.0</td>\n",
       "      <td>22700.0</td>\n",
       "      <td>23</td>\n",
       "    </tr>\n",
       "    <tr>\n",
       "      <th>2</th>\n",
       "      <td>c341674</td>\n",
       "      <td>0.0</td>\n",
       "      <td>2015-02-28</td>\n",
       "      <td>M</td>\n",
       "      <td>44</td>\n",
       "      <td>86163.0</td>\n",
       "      <td>19</td>\n",
       "      <td>6136.0</td>\n",
       "      <td>16720.0</td>\n",
       "      <td>11850.0</td>\n",
       "      <td>19927.0</td>\n",
       "      <td>31530.0</td>\n",
       "      <td>22</td>\n",
       "    </tr>\n",
       "    <tr>\n",
       "      <th>3</th>\n",
       "      <td>c349783</td>\n",
       "      <td>0.0</td>\n",
       "      <td>2015-05-26</td>\n",
       "      <td>F</td>\n",
       "      <td>44</td>\n",
       "      <td>7800.0</td>\n",
       "      <td>2</td>\n",
       "      <td>0.0</td>\n",
       "      <td>0.0</td>\n",
       "      <td>7800.0</td>\n",
       "      <td>0.0</td>\n",
       "      <td>0.0</td>\n",
       "      <td>19</td>\n",
       "    </tr>\n",
       "    <tr>\n",
       "      <th>4</th>\n",
       "      <td>c371075</td>\n",
       "      <td>0.0</td>\n",
       "      <td>2016-02-19</td>\n",
       "      <td>F</td>\n",
       "      <td>49</td>\n",
       "      <td>23775.0</td>\n",
       "      <td>5</td>\n",
       "      <td>1455.0</td>\n",
       "      <td>7920.0</td>\n",
       "      <td>7400.0</td>\n",
       "      <td>5500.0</td>\n",
       "      <td>1500.0</td>\n",
       "      <td>10</td>\n",
       "    </tr>\n",
       "  </tbody>\n",
       "</table>\n",
       "</div>"
      ],
      "text/plain": [
       "  CustomerID  Churn RegisterDate Gender  Age      Amt  Count      간식       과일  \\\n",
       "0    c373441    0.0   2016-03-17      F   40  17491.0      3  1091.0  13100.0   \n",
       "1    c337999    0.0   2015-01-12      F   40  93637.0     22  6091.0      0.0   \n",
       "2    c341674    0.0   2015-02-28      M   44  86163.0     19  6136.0  16720.0   \n",
       "3    c349783    0.0   2015-05-26      F   44   7800.0      2     0.0      0.0   \n",
       "4    c371075    0.0   2016-02-19      F   49  23775.0      5  1455.0   7920.0   \n",
       "\n",
       "       반찬류      유제품       채소  Regi_Month  \n",
       "0    800.0      0.0   2500.0           9  \n",
       "1  11400.0  53446.0  22700.0          23  \n",
       "2  11850.0  19927.0  31530.0          22  \n",
       "3   7800.0      0.0      0.0          19  \n",
       "4   7400.0   5500.0   1500.0          10  "
      ]
     },
     "execution_count": 78,
     "metadata": {},
     "output_type": "execute_result"
    }
   ],
   "source": [
    "customer_churn.head()"
   ]
  },
  {
   "cell_type": "markdown",
   "metadata": {},
   "source": [
    "5) 그외 여러분이 도출한 요인을 추가 변수로 최소 5개 이상 만드시오."
   ]
  },
  {
   "cell_type": "code",
   "execution_count": null,
   "metadata": {},
   "outputs": [],
   "source": []
  },
  {
   "cell_type": "code",
   "execution_count": null,
   "metadata": {},
   "outputs": [],
   "source": []
  },
  {
   "cell_type": "code",
   "execution_count": null,
   "metadata": {},
   "outputs": [],
   "source": []
  },
  {
   "cell_type": "code",
   "execution_count": null,
   "metadata": {},
   "outputs": [],
   "source": []
  },
  {
   "cell_type": "code",
   "execution_count": null,
   "metadata": {},
   "outputs": [],
   "source": []
  },
  {
   "cell_type": "code",
   "execution_count": null,
   "metadata": {},
   "outputs": [],
   "source": []
  },
  {
   "cell_type": "markdown",
   "metadata": {},
   "source": [
    "## (추가) 2. 데이터 이해"
   ]
  },
  {
   "cell_type": "markdown",
   "metadata": {},
   "source": [
    "다시 데이터 이해로 돌아갑니다.  \n",
    "데이터 준비에서 정리한 데이터셋을 가지고, 가설이 참인지 거짓인지 살펴봅니다.  \n",
    "이때, 기초통계량과 차트를 이용하게 됩니다. 그리고 이 단계를 특별히 **'탐색적 데이터 분석(EDA)'** 이라고 부릅니다.  \n",
    "여기서는 몇가지 방법을 가지고 살펴보겠습니다.\n"
   ]
  },
  {
   "cell_type": "code",
   "execution_count": 79,
   "metadata": {},
   "outputs": [],
   "source": [
    "import seaborn as sns"
   ]
  },
  {
   "cell_type": "code",
   "execution_count": 80,
   "metadata": {},
   "outputs": [
    {
     "data": {
      "image/png": "[encoded data removed]",
      "text/plain": [
       "<Figure size 432x288 with 1 Axes>"
      ]
     },
     "metadata": {
      "needs_background": "light"
     },
     "output_type": "display_data"
    }
   ],
   "source": [
    "plt.hist(customer_churn['Age'], color = 'blue', edgecolor = 'black',bins = 20)\n",
    "plt.show()"
   ]
  },
  {
   "cell_type": "code",
   "execution_count": 81,
   "metadata": {
    "collapsed": true
   },
   "outputs": [
    {
     "name": "stderr",
     "output_type": "stream",
     "text": [
      "C:\\Users\\hanky\\anaconda3\\lib\\site-packages\\seaborn\\axisgrid.py:243: UserWarning: The `size` parameter has been renamed to `height`; please update your code.\n",
      "  warnings.warn(msg, UserWarning)\n"
     ]
    },
    {
     "data": {
      "image/png": "[encoded data removed]",
      "text/plain": [
       "<Figure size 360x360 with 1 Axes>"
      ]
     },
     "metadata": {
      "needs_background": "light"
     },
     "output_type": "display_data"
    }
   ],
   "source": [
    "sns.FacetGrid(customer_churn, hue='Churn', size = 5)\\\n",
    "    .map(sns.distplot, 'Age', kde=True, hist=False)\n",
    "plt.show()"
   ]
  },
  {
   "cell_type": "code",
   "execution_count": 59,
   "metadata": {
    "collapsed": true
   },
   "outputs": [
    {
     "name": "stderr",
     "output_type": "stream",
     "text": [
      "C:\\Users\\hanky\\Anaconda3\\lib\\site-packages\\seaborn\\axisgrid.py:243: UserWarning: The `size` parameter has been renamed to `height`; please update your code.\n",
      "  warnings.warn(msg, UserWarning)\n"
     ]
    },
    {
     "data": {
      "image/png": "[encoded data removed]",
      "text/plain": [
       "<Figure size 360x360 with 1 Axes>"
      ]
     },
     "metadata": {
      "needs_background": "light"
     },
     "output_type": "display_data"
    }
   ],
   "source": [
    "sns.FacetGrid(customer_churn, hue='Churn', size = 5)\\\n",
    "    .map(sns.distplot, 'Count', kde=True, hist=False)\n",
    "plt.show()"
   ]
  },
  {
   "cell_type": "code",
   "execution_count": 60,
   "metadata": {
    "collapsed": true
   },
   "outputs": [
    {
     "data": {
      "image/png": "[encoded data removed]",
      "text/plain": [
       "<Figure size 432x288 with 1 Axes>"
      ]
     },
     "metadata": {
      "needs_background": "light"
     },
     "output_type": "display_data"
    },
    {
     "data": {
      "image/png": "[encoded data removed]",
      "text/plain": [
       "<Figure size 432x288 with 1 Axes>"
      ]
     },
     "metadata": {
      "needs_background": "light"
     },
     "output_type": "display_data"
    }
   ],
   "source": [
    "gb_churn = customer_churn.groupby(\"Gender\")['Churn'].value_counts().unstack()\n",
    "gb_churn.plot(kind='bar', stacked='True')\n",
    "gb_churn.plot(kind='bar')\n",
    "plt.show()"
   ]
  },
  {
   "cell_type": "code",
   "execution_count": null,
   "metadata": {},
   "outputs": [],
   "source": []
  },
  {
   "cell_type": "code",
   "execution_count": null,
   "metadata": {},
   "outputs": [],
   "source": []
  },
  {
   "cell_type": "code",
   "execution_count": null,
   "metadata": {},
   "outputs": [],
   "source": []
  },
  {
   "cell_type": "code",
   "execution_count": null,
   "metadata": {},
   "outputs": [],
   "source": []
  },
  {
   "cell_type": "markdown",
   "metadata": {},
   "source": [
    "## 4.모델링"
   ]
  },
  {
   "cell_type": "markdown",
   "metadata": {},
   "source": [
    "모델링을 위한 전처리\n",
    "    * Dummry Variable\n",
    "    * Scaling\n",
    "   "
   ]
  },
  {
   "cell_type": "markdown",
   "metadata": {},
   "source": [
    "### 문제 5. Dummy variable만들기\n"
   ]
  },
  {
   "cell_type": "markdown",
   "metadata": {},
   "source": [
    "범주형 변수들을 가변수화 합니다."
   ]
  },
  {
   "cell_type": "code",
   "execution_count": 82,
   "metadata": {},
   "outputs": [
    {
     "data": {
      "text/html": [
       "<div>\n",
       "<style scoped>\n",
       "    .dataframe tbody tr th:only-of-type {\n",
       "        vertical-align: middle;\n",
       "    }\n",
       "\n",
       "    .dataframe tbody tr th {\n",
       "        vertical-align: top;\n",
       "    }\n",
       "\n",
       "    .dataframe thead th {\n",
       "        text-align: right;\n",
       "    }\n",
       "</style>\n",
       "<table border=\"1\" class=\"dataframe\">\n",
       "  <thead>\n",
       "    <tr style=\"text-align: right;\">\n",
       "      <th></th>\n",
       "      <th>CustomerID</th>\n",
       "      <th>Churn</th>\n",
       "      <th>RegisterDate</th>\n",
       "      <th>Gender</th>\n",
       "      <th>Age</th>\n",
       "      <th>Amt</th>\n",
       "      <th>Count</th>\n",
       "      <th>간식</th>\n",
       "      <th>과일</th>\n",
       "      <th>반찬류</th>\n",
       "      <th>유제품</th>\n",
       "      <th>채소</th>\n",
       "      <th>Regi_Month</th>\n",
       "      <th>Gender_F</th>\n",
       "      <th>Gender_M</th>\n",
       "    </tr>\n",
       "  </thead>\n",
       "  <tbody>\n",
       "    <tr>\n",
       "      <th>0</th>\n",
       "      <td>c373441</td>\n",
       "      <td>0.0</td>\n",
       "      <td>2016-03-17</td>\n",
       "      <td>F</td>\n",
       "      <td>40</td>\n",
       "      <td>17491.0</td>\n",
       "      <td>3</td>\n",
       "      <td>1091.0</td>\n",
       "      <td>13100.0</td>\n",
       "      <td>800.0</td>\n",
       "      <td>0.0</td>\n",
       "      <td>2500.0</td>\n",
       "      <td>9</td>\n",
       "      <td>1</td>\n",
       "      <td>0</td>\n",
       "    </tr>\n",
       "    <tr>\n",
       "      <th>1</th>\n",
       "      <td>c337999</td>\n",
       "      <td>0.0</td>\n",
       "      <td>2015-01-12</td>\n",
       "      <td>F</td>\n",
       "      <td>40</td>\n",
       "      <td>93637.0</td>\n",
       "      <td>22</td>\n",
       "      <td>6091.0</td>\n",
       "      <td>0.0</td>\n",
       "      <td>11400.0</td>\n",
       "      <td>53446.0</td>\n",
       "      <td>22700.0</td>\n",
       "      <td>23</td>\n",
       "      <td>1</td>\n",
       "      <td>0</td>\n",
       "    </tr>\n",
       "    <tr>\n",
       "      <th>2</th>\n",
       "      <td>c341674</td>\n",
       "      <td>0.0</td>\n",
       "      <td>2015-02-28</td>\n",
       "      <td>M</td>\n",
       "      <td>44</td>\n",
       "      <td>86163.0</td>\n",
       "      <td>19</td>\n",
       "      <td>6136.0</td>\n",
       "      <td>16720.0</td>\n",
       "      <td>11850.0</td>\n",
       "      <td>19927.0</td>\n",
       "      <td>31530.0</td>\n",
       "      <td>22</td>\n",
       "      <td>0</td>\n",
       "      <td>1</td>\n",
       "    </tr>\n",
       "    <tr>\n",
       "      <th>3</th>\n",
       "      <td>c349783</td>\n",
       "      <td>0.0</td>\n",
       "      <td>2015-05-26</td>\n",
       "      <td>F</td>\n",
       "      <td>44</td>\n",
       "      <td>7800.0</td>\n",
       "      <td>2</td>\n",
       "      <td>0.0</td>\n",
       "      <td>0.0</td>\n",
       "      <td>7800.0</td>\n",
       "      <td>0.0</td>\n",
       "      <td>0.0</td>\n",
       "      <td>19</td>\n",
       "      <td>1</td>\n",
       "      <td>0</td>\n",
       "    </tr>\n",
       "    <tr>\n",
       "      <th>4</th>\n",
       "      <td>c371075</td>\n",
       "      <td>0.0</td>\n",
       "      <td>2016-02-19</td>\n",
       "      <td>F</td>\n",
       "      <td>49</td>\n",
       "      <td>23775.0</td>\n",
       "      <td>5</td>\n",
       "      <td>1455.0</td>\n",
       "      <td>7920.0</td>\n",
       "      <td>7400.0</td>\n",
       "      <td>5500.0</td>\n",
       "      <td>1500.0</td>\n",
       "      <td>10</td>\n",
       "      <td>1</td>\n",
       "      <td>0</td>\n",
       "    </tr>\n",
       "  </tbody>\n",
       "</table>\n",
       "</div>"
      ],
      "text/plain": [
       "  CustomerID  Churn RegisterDate Gender  Age      Amt  Count      간식       과일  \\\n",
       "0    c373441    0.0   2016-03-17      F   40  17491.0      3  1091.0  13100.0   \n",
       "1    c337999    0.0   2015-01-12      F   40  93637.0     22  6091.0      0.0   \n",
       "2    c341674    0.0   2015-02-28      M   44  86163.0     19  6136.0  16720.0   \n",
       "3    c349783    0.0   2015-05-26      F   44   7800.0      2     0.0      0.0   \n",
       "4    c371075    0.0   2016-02-19      F   49  23775.0      5  1455.0   7920.0   \n",
       "\n",
       "       반찬류      유제품       채소  Regi_Month  Gender_F  Gender_M  \n",
       "0    800.0      0.0   2500.0           9         1         0  \n",
       "1  11400.0  53446.0  22700.0          23         1         0  \n",
       "2  11850.0  19927.0  31530.0          22         0         1  \n",
       "3   7800.0      0.0      0.0          19         1         0  \n",
       "4   7400.0   5500.0   1500.0          10         1         0  "
      ]
     },
     "execution_count": 82,
     "metadata": {},
     "output_type": "execute_result"
    }
   ],
   "source": [
    "# 범주형(명목형) 변수를 가변수로 만들고 붙여봅시다.\n",
    "dummy_fields = ['Gender']\n",
    "for each in dummy_fields:\n",
    "    dummies = pd.get_dummies(customer_churn[each], prefix=each, drop_first=False)\n",
    "    customer_churn = pd.concat([customer_churn, dummies], axis=1)\n",
    "\n",
    "customer_churn.head()"
   ]
  },
  {
   "cell_type": "code",
   "execution_count": 84,
   "metadata": {
    "collapsed": true
   },
   "outputs": [
    {
     "ename": "KeyError",
     "evalue": "\"['CustomerID' 'RegisterDate' 'Gender_F' 'Gender'] not found in axis\"",
     "output_type": "error",
     "traceback": [
      "\u001b[1;31m---------------------------------------------------------------------------\u001b[0m",
      "\u001b[1;31mKeyError\u001b[0m                                  Traceback (most recent call last)",
      "\u001b[1;32m<ipython-input-84-57cf325b48c3>\u001b[0m in \u001b[0;36m<module>\u001b[1;34m\u001b[0m\n\u001b[0;32m      1\u001b[0m \u001b[1;31m# 불필요한 변수들 제거 : 가변수화 하기 전 변수, id, 일련번호 등.\u001b[0m\u001b[1;33m\u001b[0m\u001b[1;33m\u001b[0m\u001b[1;33m\u001b[0m\u001b[0m\n\u001b[0;32m      2\u001b[0m \u001b[0mfields_to_drop\u001b[0m \u001b[1;33m=\u001b[0m \u001b[1;33m[\u001b[0m\u001b[1;34m'CustomerID'\u001b[0m\u001b[1;33m,\u001b[0m\u001b[1;34m'RegisterDate'\u001b[0m\u001b[1;33m,\u001b[0m \u001b[1;34m'Gender_F'\u001b[0m\u001b[1;33m,\u001b[0m\u001b[1;34m'Gender'\u001b[0m\u001b[1;33m]\u001b[0m\u001b[1;33m\u001b[0m\u001b[1;33m\u001b[0m\u001b[0m\n\u001b[1;32m----> 3\u001b[1;33m \u001b[0mcustomer_churn\u001b[0m \u001b[1;33m=\u001b[0m \u001b[0mcustomer_churn\u001b[0m\u001b[1;33m.\u001b[0m\u001b[0mdrop\u001b[0m\u001b[1;33m(\u001b[0m\u001b[0mfields_to_drop\u001b[0m\u001b[1;33m,\u001b[0m \u001b[0maxis\u001b[0m\u001b[1;33m=\u001b[0m\u001b[1;36m1\u001b[0m\u001b[1;33m)\u001b[0m\u001b[1;33m\u001b[0m\u001b[1;33m\u001b[0m\u001b[0m\n\u001b[0m\u001b[0;32m      4\u001b[0m \u001b[0mcustomer_churn\u001b[0m\u001b[1;33m.\u001b[0m\u001b[0mhead\u001b[0m\u001b[1;33m(\u001b[0m\u001b[1;33m)\u001b[0m\u001b[1;33m\u001b[0m\u001b[1;33m\u001b[0m\u001b[0m\n",
      "\u001b[1;32m~\\anaconda3\\lib\\site-packages\\pandas\\core\\frame.py\u001b[0m in \u001b[0;36mdrop\u001b[1;34m(self, labels, axis, index, columns, level, inplace, errors)\u001b[0m\n\u001b[0;32m   3995\u001b[0m             \u001b[0mlevel\u001b[0m\u001b[1;33m=\u001b[0m\u001b[0mlevel\u001b[0m\u001b[1;33m,\u001b[0m\u001b[1;33m\u001b[0m\u001b[1;33m\u001b[0m\u001b[0m\n\u001b[0;32m   3996\u001b[0m             \u001b[0minplace\u001b[0m\u001b[1;33m=\u001b[0m\u001b[0minplace\u001b[0m\u001b[1;33m,\u001b[0m\u001b[1;33m\u001b[0m\u001b[1;33m\u001b[0m\u001b[0m\n\u001b[1;32m-> 3997\u001b[1;33m             \u001b[0merrors\u001b[0m\u001b[1;33m=\u001b[0m\u001b[0merrors\u001b[0m\u001b[1;33m,\u001b[0m\u001b[1;33m\u001b[0m\u001b[1;33m\u001b[0m\u001b[0m\n\u001b[0m\u001b[0;32m   3998\u001b[0m         )\n\u001b[0;32m   3999\u001b[0m \u001b[1;33m\u001b[0m\u001b[0m\n",
      "\u001b[1;32m~\\anaconda3\\lib\\site-packages\\pandas\\core\\generic.py\u001b[0m in \u001b[0;36mdrop\u001b[1;34m(self, labels, axis, index, columns, level, inplace, errors)\u001b[0m\n\u001b[0;32m   3934\u001b[0m         \u001b[1;32mfor\u001b[0m \u001b[0maxis\u001b[0m\u001b[1;33m,\u001b[0m \u001b[0mlabels\u001b[0m \u001b[1;32min\u001b[0m \u001b[0maxes\u001b[0m\u001b[1;33m.\u001b[0m\u001b[0mitems\u001b[0m\u001b[1;33m(\u001b[0m\u001b[1;33m)\u001b[0m\u001b[1;33m:\u001b[0m\u001b[1;33m\u001b[0m\u001b[1;33m\u001b[0m\u001b[0m\n\u001b[0;32m   3935\u001b[0m             \u001b[1;32mif\u001b[0m \u001b[0mlabels\u001b[0m \u001b[1;32mis\u001b[0m \u001b[1;32mnot\u001b[0m \u001b[1;32mNone\u001b[0m\u001b[1;33m:\u001b[0m\u001b[1;33m\u001b[0m\u001b[1;33m\u001b[0m\u001b[0m\n\u001b[1;32m-> 3936\u001b[1;33m                 \u001b[0mobj\u001b[0m \u001b[1;33m=\u001b[0m \u001b[0mobj\u001b[0m\u001b[1;33m.\u001b[0m\u001b[0m_drop_axis\u001b[0m\u001b[1;33m(\u001b[0m\u001b[0mlabels\u001b[0m\u001b[1;33m,\u001b[0m \u001b[0maxis\u001b[0m\u001b[1;33m,\u001b[0m \u001b[0mlevel\u001b[0m\u001b[1;33m=\u001b[0m\u001b[0mlevel\u001b[0m\u001b[1;33m,\u001b[0m \u001b[0merrors\u001b[0m\u001b[1;33m=\u001b[0m\u001b[0merrors\u001b[0m\u001b[1;33m)\u001b[0m\u001b[1;33m\u001b[0m\u001b[1;33m\u001b[0m\u001b[0m\n\u001b[0m\u001b[0;32m   3937\u001b[0m \u001b[1;33m\u001b[0m\u001b[0m\n\u001b[0;32m   3938\u001b[0m         \u001b[1;32mif\u001b[0m \u001b[0minplace\u001b[0m\u001b[1;33m:\u001b[0m\u001b[1;33m\u001b[0m\u001b[1;33m\u001b[0m\u001b[0m\n",
      "\u001b[1;32m~\\anaconda3\\lib\\site-packages\\pandas\\core\\generic.py\u001b[0m in \u001b[0;36m_drop_axis\u001b[1;34m(self, labels, axis, level, errors)\u001b[0m\n\u001b[0;32m   3968\u001b[0m                 \u001b[0mnew_axis\u001b[0m \u001b[1;33m=\u001b[0m \u001b[0maxis\u001b[0m\u001b[1;33m.\u001b[0m\u001b[0mdrop\u001b[0m\u001b[1;33m(\u001b[0m\u001b[0mlabels\u001b[0m\u001b[1;33m,\u001b[0m \u001b[0mlevel\u001b[0m\u001b[1;33m=\u001b[0m\u001b[0mlevel\u001b[0m\u001b[1;33m,\u001b[0m \u001b[0merrors\u001b[0m\u001b[1;33m=\u001b[0m\u001b[0merrors\u001b[0m\u001b[1;33m)\u001b[0m\u001b[1;33m\u001b[0m\u001b[1;33m\u001b[0m\u001b[0m\n\u001b[0;32m   3969\u001b[0m             \u001b[1;32melse\u001b[0m\u001b[1;33m:\u001b[0m\u001b[1;33m\u001b[0m\u001b[1;33m\u001b[0m\u001b[0m\n\u001b[1;32m-> 3970\u001b[1;33m                 \u001b[0mnew_axis\u001b[0m \u001b[1;33m=\u001b[0m \u001b[0maxis\u001b[0m\u001b[1;33m.\u001b[0m\u001b[0mdrop\u001b[0m\u001b[1;33m(\u001b[0m\u001b[0mlabels\u001b[0m\u001b[1;33m,\u001b[0m \u001b[0merrors\u001b[0m\u001b[1;33m=\u001b[0m\u001b[0merrors\u001b[0m\u001b[1;33m)\u001b[0m\u001b[1;33m\u001b[0m\u001b[1;33m\u001b[0m\u001b[0m\n\u001b[0m\u001b[0;32m   3971\u001b[0m             \u001b[0mresult\u001b[0m \u001b[1;33m=\u001b[0m \u001b[0mself\u001b[0m\u001b[1;33m.\u001b[0m\u001b[0mreindex\u001b[0m\u001b[1;33m(\u001b[0m\u001b[1;33m**\u001b[0m\u001b[1;33m{\u001b[0m\u001b[0maxis_name\u001b[0m\u001b[1;33m:\u001b[0m \u001b[0mnew_axis\u001b[0m\u001b[1;33m}\u001b[0m\u001b[1;33m)\u001b[0m\u001b[1;33m\u001b[0m\u001b[1;33m\u001b[0m\u001b[0m\n\u001b[0;32m   3972\u001b[0m \u001b[1;33m\u001b[0m\u001b[0m\n",
      "\u001b[1;32m~\\anaconda3\\lib\\site-packages\\pandas\\core\\indexes\\base.py\u001b[0m in \u001b[0;36mdrop\u001b[1;34m(self, labels, errors)\u001b[0m\n\u001b[0;32m   5016\u001b[0m         \u001b[1;32mif\u001b[0m \u001b[0mmask\u001b[0m\u001b[1;33m.\u001b[0m\u001b[0many\u001b[0m\u001b[1;33m(\u001b[0m\u001b[1;33m)\u001b[0m\u001b[1;33m:\u001b[0m\u001b[1;33m\u001b[0m\u001b[1;33m\u001b[0m\u001b[0m\n\u001b[0;32m   5017\u001b[0m             \u001b[1;32mif\u001b[0m \u001b[0merrors\u001b[0m \u001b[1;33m!=\u001b[0m \u001b[1;34m\"ignore\"\u001b[0m\u001b[1;33m:\u001b[0m\u001b[1;33m\u001b[0m\u001b[1;33m\u001b[0m\u001b[0m\n\u001b[1;32m-> 5018\u001b[1;33m                 \u001b[1;32mraise\u001b[0m \u001b[0mKeyError\u001b[0m\u001b[1;33m(\u001b[0m\u001b[1;34mf\"{labels[mask]} not found in axis\"\u001b[0m\u001b[1;33m)\u001b[0m\u001b[1;33m\u001b[0m\u001b[1;33m\u001b[0m\u001b[0m\n\u001b[0m\u001b[0;32m   5019\u001b[0m             \u001b[0mindexer\u001b[0m \u001b[1;33m=\u001b[0m \u001b[0mindexer\u001b[0m\u001b[1;33m[\u001b[0m\u001b[1;33m~\u001b[0m\u001b[0mmask\u001b[0m\u001b[1;33m]\u001b[0m\u001b[1;33m\u001b[0m\u001b[1;33m\u001b[0m\u001b[0m\n\u001b[0;32m   5020\u001b[0m         \u001b[1;32mreturn\u001b[0m \u001b[0mself\u001b[0m\u001b[1;33m.\u001b[0m\u001b[0mdelete\u001b[0m\u001b[1;33m(\u001b[0m\u001b[0mindexer\u001b[0m\u001b[1;33m)\u001b[0m\u001b[1;33m\u001b[0m\u001b[1;33m\u001b[0m\u001b[0m\n",
      "\u001b[1;31mKeyError\u001b[0m: \"['CustomerID' 'RegisterDate' 'Gender_F' 'Gender'] not found in axis\""
     ]
    }
   ],
   "source": [
    "# 불필요한 변수들 제거 : 가변수화 하기 전 변수, id, 일련번호 등.\n",
    "fields_to_drop = ['CustomerID','RegisterDate', 'Gender_F','Gender']\n",
    "customer_churn = customer_churn.drop(fields_to_drop, axis=1)\n",
    "customer_churn.head()"
   ]
  },
  {
   "cell_type": "code",
   "execution_count": null,
   "metadata": {},
   "outputs": [],
   "source": []
  },
  {
   "cell_type": "markdown",
   "metadata": {},
   "source": [
    "### Data Split"
   ]
  },
  {
   "cell_type": "code",
   "execution_count": 85,
   "metadata": {},
   "outputs": [],
   "source": [
    "# sklearn에서 제공하는 split 함수를 이용해보자. : train_test_split\n",
    "from sklearn.model_selection import train_test_split\n",
    "\n",
    "# features와 target 분리\n",
    "X = customer_churn.drop('Churn', axis=1)\n",
    "y = customer_churn.loc[:, 'Churn'] \n",
    "\n",
    "train_features, test_features, train_target, test_target \\\n",
    "    = train_test_split(X, y, test_size=0.2, random_state=1)"
   ]
  },
  {
   "cell_type": "code",
   "execution_count": null,
   "metadata": {},
   "outputs": [],
   "source": []
  },
  {
   "cell_type": "markdown",
   "metadata": {},
   "source": [
    "### 문제 6. Scalinng\n",
    "\n",
    "숫자형 변수들을 스케일링 합니다."
   ]
  },
  {
   "cell_type": "code",
   "execution_count": 86,
   "metadata": {},
   "outputs": [],
   "source": [
    "# 필요한 함수 로딩\n",
    "from sklearn.preprocessing import MinMaxScaler\n",
    "\n",
    "# 선언하기\n",
    "minmax = MinMaxScaler()\n",
    "\n",
    "# train 데이터로 .fit ==> 모든변수의 min, max, 공식 도출.\n",
    "# 말하자면, scaling 하는 모델을 만드는 것!\n",
    "minmax.fit(train_features) # train min, max\n",
    "\n",
    "# 위 scaling 공식으로 적용하기(변환하기)\n",
    "train_features_sc = minmax.transform(train_features)\n",
    "test_features_sc = minmax.transform(test_features)"
   ]
  },
  {
   "cell_type": "code",
   "execution_count": 87,
   "metadata": {},
   "outputs": [],
   "source": [
    "train_target, test_target = train_target.values, test_target.values"
   ]
  },
  {
   "cell_type": "markdown",
   "metadata": {},
   "source": [
    "### 모델링\n",
    "다음 코드는 그대로 실행하여 결과를 확인해 봅시다."
   ]
  },
  {
   "cell_type": "code",
   "execution_count": 88,
   "metadata": {},
   "outputs": [
    {
     "name": "stdout",
     "output_type": "stream",
     "text": [
      "test 정확도 : 62.96%\n"
     ]
    }
   ],
   "source": [
    "# 필요한 라이브러리 가져오자\n",
    "from sklearn.neighbors import KNeighborsClassifier\n",
    "\n",
    "# confusion matrix\n",
    "from sklearn.metrics import accuracy_score\n",
    "from sklearn.metrics import confusion_matrix\n",
    "\n",
    "# 모델 준비\n",
    "knn_cl = KNeighborsClassifier(n_neighbors=4)\n",
    "knn_cl.fit(train_features_sc, train_target)\n",
    "test_pred = knn_cl.predict(test_features_sc)\n",
    "\n",
    "test_acc = accuracy_score(test_target, test_pred)\n",
    "print('test 정확도 : {:.2f}%'.format(test_acc*100))\n"
   ]
  },
  {
   "cell_type": "code",
   "execution_count": null,
   "metadata": {},
   "outputs": [],
   "source": []
  },
  {
   "cell_type": "markdown",
   "metadata": {},
   "source": [
    "정 분류율(Accuracy)은 몇 % 인가요?  \n",
    "높이기 위해서 더 해볼 수 있는 것은?"
   ]
  },
  {
   "cell_type": "code",
   "execution_count": 89,
   "metadata": {
    "collapsed": true
   },
   "outputs": [
    {
     "name": "stdout",
     "output_type": "stream",
     "text": [
      "[[32  4]\n",
      " [16  2]]\n"
     ]
    }
   ],
   "source": [
    "print(confusion_matrix(test_target, test_pred))"
   ]
  },
  {
   "cell_type": "code",
   "execution_count": null,
   "metadata": {},
   "outputs": [],
   "source": []
  }
 ],
 "metadata": {
  "colab": {
   "collapsed_sections": [
    "DFijIAllYnVQ",
    "Bie5qwmkYnVT",
    "-RYoYWk-YnVc",
    "jPLYmNHQYnVy",
    "WUSoqSxcYnV5",
    "0kW6dzBFYnWW",
    "QiqL2q7spSvA",
    "0Cq3lmVb5oj2",
    "jdMTalYEHiAi"
   ],
   "name": "72.Pandas.ipynb",
   "provenance": [],
   "version": "0.3.2"
  },
  "kernelspec": {
   "display_name": "Python 3",
   "language": "python",
   "name": "python3"
  },
  "language_info": {
   "codemirror_mode": {
    "name": "ipython",
    "version": 3
   },
   "file_extension": ".py",
   "mimetype": "text/x-python",
   "name": "python",
   "nbconvert_exporter": "python",
   "pygments_lexer": "ipython3",
   "version": "3.7.6"
  }
 },
 "nbformat": 4,
 "nbformat_minor": 1
}
