{
 "cells": [
  {
   "cell_type": "markdown",
   "metadata": {
    "colab_type": "text",
    "id": "1CVOOe62Vqvv"
   },
   "source": [
    "<center><img src='https://raw.githubusercontent.com/Jangrae/img/master/title.png' width=500/><center>"
   ]
  },
  {
   "cell_type": "markdown",
   "metadata": {},
   "source": [
    "<center>- Numpy의 모든 것을 배우지 않습니다. 데이터 전처리에 대한 부분만 학습 대상이 됩니다 -</center>"
   ]
  },
  {
   "cell_type": "markdown",
   "metadata": {
    "colab_type": "text",
    "id": "oGnAnpMVogxv"
   },
   "source": [
    "# 학습 목표\n",
    "\n",
    "- 불리안 방식과 정수 방식의 인덱싱을 이해합니다.\n",
    "- 인덱싱과 슬라이싱으로 원하는 데이터를 조회할 수 있습니다.\n"
   ]
  },
  {
   "cell_type": "markdown",
   "metadata": {
    "colab_type": "text",
    "id": "TeXXnBpvVqxn"
   },
   "source": [
    "# 2. 배열 인덱싱과 슬라이싱\n",
    "\n",
    "- 기본 자료형(리스트, 튜플 등) 보다 배열 인덱싱과 슬라이싱이 조금 어렵습니다.\n",
    "- 배열은 선형대수를 위해 많이 사용되므로 어려운 부분은 우선 생략하고 넘어가도 될 것입니다."
   ]
  },
  {
   "cell_type": "code",
   "execution_count": 2,
   "metadata": {
    "colab": {},
    "colab_type": "code",
    "id": "QBxfYJR8Vqv1"
   },
   "outputs": [],
   "source": [
    "# 라이브러리 불러오기\n",
    "import numpy as np"
   ]
  },
  {
   "cell_type": "markdown",
   "metadata": {
    "colab_type": "text",
    "id": "sb9jtyq2499a"
   },
   "source": [
    "**[기억할 것] 큰 차원을 따라갑니다**\n",
    "- 0차원과 0차원이 만나면 0차원\n",
    "- 0차원과 1차원이 만나면 1차원\n",
    "- 1차원과 1차원이 만나면 1차원\n",
    "- 2차원과 1차원이 만나면 2차원\n",
    "- 2차원과 2차원이 만나면 2차원\n",
    "- 0차원과 2차원이 만나면 1차원\n",
    "- 범위는 현재 배열의 차원"
   ]
  },
  {
   "cell_type": "markdown",
   "metadata": {
    "colab_type": "text",
    "id": "a0bmoimPogx6"
   },
   "source": [
    "## 2.1. 기본 인덱싱"
   ]
  },
  {
   "cell_type": "markdown",
   "metadata": {
    "colab_type": "text",
    "id": "41LrasjVogx7"
   },
   "source": [
    "**1) 1차원 배열**\n",
    "\n",
    "- 1차원 배열은 리스트와 같은 방법으로 인덱싱합니다.\n",
    "- 인덱스가 0부터 시작함을 꼭 기억하시기 바랍니다."
   ]
  },
  {
   "cell_type": "code",
   "execution_count": 3,
   "metadata": {
    "colab": {},
    "colab_type": "code",
    "id": "_dc-1WqAVqxy",
    "scrolled": true
   },
   "outputs": [
    {
     "name": "stdout",
     "output_type": "stream",
     "text": [
      "[1 2 3 4 5]\n"
     ]
    }
   ],
   "source": [
    "# 1차원 배열 만들기\n",
    "a = np.array([1, 2, 3, 4, 5])\n",
    "print(a)             "
   ]
  },
  {
   "cell_type": "code",
   "execution_count": 4,
   "metadata": {
    "colab": {},
    "colab_type": "code",
    "id": "tEsugIzrogyB"
   },
   "outputs": [
    {
     "name": "stdout",
     "output_type": "stream",
     "text": [
      "1\n"
     ]
    }
   ],
   "source": [
    "# 첫 번째 요소 확인\n",
    "print(a[0])"
   ]
  },
  {
   "cell_type": "code",
   "execution_count": 5,
   "metadata": {
    "colab": {},
    "colab_type": "code",
    "id": "ZjC0OA48ogyG"
   },
   "outputs": [
    {
     "name": "stdout",
     "output_type": "stream",
     "text": [
      "4\n"
     ]
    }
   ],
   "source": [
    "# 네 번째 요소 확인\n",
    "print(a[3])"
   ]
  },
  {
   "cell_type": "code",
   "execution_count": 6,
   "metadata": {
    "colab": {},
    "colab_type": "code",
    "id": "nfj0L6PkogyL"
   },
   "outputs": [
    {
     "name": "stdout",
     "output_type": "stream",
     "text": [
      "5\n"
     ]
    }
   ],
   "source": [
    "# 마지막 요소 확인\n",
    "print(a[-1])"
   ]
  },
  {
   "cell_type": "code",
   "execution_count": 7,
   "metadata": {
    "colab": {},
    "colab_type": "code",
    "id": "1sYosKkrogyQ"
   },
   "outputs": [
    {
     "name": "stdout",
     "output_type": "stream",
     "text": [
      "5\n"
     ]
    }
   ],
   "source": [
    "# len 함수로 마지막 요소 확인\n",
    "print(a[len(a) - 1])"
   ]
  },
  {
   "cell_type": "markdown",
   "metadata": {
    "colab_type": "text",
    "id": "xqWN9A3_ogyX"
   },
   "source": [
    "**2) 2차원 배열**\n",
    "\n",
    "- **배열[행,열]** 형태로 지정해 그 위치의 요소를 조회합니다.\n",
    "- a[1, 1]는 a 배열의 두 번째 행, 두 번째 열에 있는 요소를 조회합니다.\n",
    "- 인덱스는 0부터 시작함을 잊지 마세요."
   ]
  },
  {
   "cell_type": "code",
   "execution_count": 8,
   "metadata": {
    "colab": {},
    "colab_type": "code",
    "id": "3pEA6dweogyY",
    "scrolled": true
   },
   "outputs": [
    {
     "name": "stdout",
     "output_type": "stream",
     "text": [
      "[[1 2 3]\n",
      " [4 5 6]\n",
      " [7 8 9]]\n"
     ]
    }
   ],
   "source": [
    "# 3 x 3 형태의 2차원 배열 만들기\n",
    "a = np.array([[1, 2, 3],\n",
    "              [4, 5, 6], \n",
    "              [7, 8, 9]])\n",
    "print(a)             "
   ]
  },
  {
   "cell_type": "code",
   "execution_count": 10,
   "metadata": {
    "colab": {},
    "colab_type": "code",
    "id": "PV13QVnaogyd"
   },
   "outputs": [
    {
     "name": "stdout",
     "output_type": "stream",
     "text": [
      "1\n",
      "1\n"
     ]
    }
   ],
   "source": [
    "# 0행 0열 조회\n",
    "print(a[0, 0])\n",
    "print(a[0][0])"
   ]
  },
  {
   "cell_type": "code",
   "execution_count": 11,
   "metadata": {
    "colab": {},
    "colab_type": "code",
    "id": "PLzRJt1logyj"
   },
   "outputs": [
    {
     "name": "stdout",
     "output_type": "stream",
     "text": [
      "6\n"
     ]
    }
   ],
   "source": [
    "# 1행 2열 조회\n",
    "print(a[1, 2])"
   ]
  },
  {
   "cell_type": "code",
   "execution_count": 12,
   "metadata": {
    "colab": {},
    "colab_type": "code",
    "id": "DS2pl5Yoogyp"
   },
   "outputs": [
    {
     "name": "stdout",
     "output_type": "stream",
     "text": [
      "9\n"
     ]
    }
   ],
   "source": [
    "# 마지막 행, 마지막 열 조회\n",
    "print(a[-1, -1])"
   ]
  },
  {
   "cell_type": "markdown",
   "metadata": {
    "colab_type": "text",
    "id": "TivXqdM9Vqx2"
   },
   "source": [
    "**특정 행 조회**\n",
    "\n",
    "- **배열[[행번호], :]** 형태로 특정 행을 조회합니다.\n",
    "- 모든 열을 선택하는 경우는 열에 대한 선택 정보는 생략할 수 있습니다.\n",
    "- 그래서 **배열[[행번호]]** 형태로 지정하면 행 조회가 됩니다."
   ]
  },
  {
   "cell_type": "code",
   "execution_count": 13,
   "metadata": {
    "colab": {},
    "colab_type": "code",
    "id": "lSFMmjsDogy1",
    "scrolled": true
   },
   "outputs": [
    {
     "name": "stdout",
     "output_type": "stream",
     "text": [
      "[[1 2 3]\n",
      " [4 5 6]\n",
      " [7 8 9]]\n"
     ]
    }
   ],
   "source": [
    "# 3 x 3 형태의 2차원 배열 만들기\n",
    "a = np.array([[1, 2, 3],\n",
    "              [4, 5, 6], \n",
    "              [7, 8, 9]])\n",
    "print(a)             "
   ]
  },
  {
   "cell_type": "code",
   "execution_count": 16,
   "metadata": {
    "colab": {},
    "colab_type": "code",
    "id": "4o-IlSc_Vqx3",
    "scrolled": true
   },
   "outputs": [
    {
     "name": "stdout",
     "output_type": "stream",
     "text": [
      "[[1 2 3]\n",
      " [4 5 6]\n",
      " [7 8 9]]\n",
      "[[1 2 3]\n",
      " [4 5 6]\n",
      " [7 8 9]]\n"
     ]
    }
   ],
   "source": [
    "# 0, 1, 2 행 조회\n",
    "print(a[[0, 1, 2], :])\n",
    "print(a[[0, 1, 2]]) # : 생략가능"
   ]
  },
  {
   "cell_type": "code",
   "execution_count": 17,
   "metadata": {
    "colab": {},
    "colab_type": "code",
    "id": "p5159tFhVqx3",
    "scrolled": true
   },
   "outputs": [
    {
     "name": "stdout",
     "output_type": "stream",
     "text": [
      "[[1 2 3]\n",
      " [7 8 9]]\n"
     ]
    }
   ],
   "source": [
    "# 0, 2 행 조회\n",
    "print(a[[0, 2]])"
   ]
  },
  {
   "cell_type": "code",
   "execution_count": 18,
   "metadata": {
    "colab": {},
    "colab_type": "code",
    "id": "yPsWb2psVqx4"
   },
   "outputs": [
    {
     "name": "stdout",
     "output_type": "stream",
     "text": [
      "[[1 2 3]]\n"
     ]
    }
   ],
   "source": [
    "# 0행 조회\n",
    "print(a[[0]])"
   ]
  },
  {
   "cell_type": "code",
   "execution_count": 22,
   "metadata": {
    "colab": {},
    "colab_type": "code",
    "id": "yPsWb2psVqx4"
   },
   "outputs": [
    {
     "name": "stdout",
     "output_type": "stream",
     "text": [
      "[1 2 3]\n"
     ]
    }
   ],
   "source": [
    "# 0행 조회\n",
    "print(a[0, :])"
   ]
  },
  {
   "cell_type": "markdown",
   "metadata": {
    "colab_type": "text",
    "id": "NqrOxYdYVqx7"
   },
   "source": [
    "**특정 열 조회**\n",
    "\n",
    "- **배열[:,[열번호]]** 형태로 특정 열을 조회합니다.\n",
    "- 모든 행을 조회하는 경우라 하더라도 **행에 대한 선택 정보를 생략할 수 없습니다.**"
   ]
  },
  {
   "cell_type": "code",
   "execution_count": 23,
   "metadata": {
    "colab": {},
    "colab_type": "code",
    "id": "P47amznWVqx7"
   },
   "outputs": [
    {
     "name": "stdout",
     "output_type": "stream",
     "text": [
      "[[1 2 3]\n",
      " [4 5 6]\n",
      " [7 8 9]]\n"
     ]
    }
   ],
   "source": [
    "# 배열 확인\n",
    "print(a)"
   ]
  },
  {
   "cell_type": "code",
   "execution_count": 24,
   "metadata": {
    "colab": {},
    "colab_type": "code",
    "id": "5nk8io5EVqx8",
    "scrolled": false
   },
   "outputs": [
    {
     "name": "stdout",
     "output_type": "stream",
     "text": [
      "[[1]\n",
      " [4]\n",
      " [7]]\n"
     ]
    }
   ],
   "source": [
    "# 0열 조회\n",
    "print(a[:, [0]])"
   ]
  },
  {
   "cell_type": "code",
   "execution_count": 25,
   "metadata": {
    "colab": {},
    "colab_type": "code",
    "id": "k49W7HZtogzW",
    "scrolled": false
   },
   "outputs": [
    {
     "name": "stdout",
     "output_type": "stream",
     "text": [
      "[[2]\n",
      " [5]\n",
      " [8]]\n"
     ]
    }
   ],
   "source": [
    "# 1열 조회\n",
    "print(a[:, [1]])"
   ]
  },
  {
   "cell_type": "code",
   "execution_count": 26,
   "metadata": {
    "colab": {},
    "colab_type": "code",
    "id": "2VaCwGe0ogza",
    "scrolled": false
   },
   "outputs": [
    {
     "name": "stdout",
     "output_type": "stream",
     "text": [
      "[[1 2]\n",
      " [4 5]\n",
      " [7 8]]\n"
     ]
    }
   ],
   "source": [
    "# 0,1열 조회\n",
    "print(a[:, [0, 1]])"
   ]
  },
  {
   "cell_type": "markdown",
   "metadata": {
    "colab_type": "text",
    "id": "Qi3_faenVqx-"
   },
   "source": [
    "**특정 행, 특정 열 조회**\n",
    "\n",
    "- **배열[[행번호],[열번호]]** 형태로 특정 행의 특정 열을 조회합니다.\n"
   ]
  },
  {
   "cell_type": "code",
   "execution_count": 27,
   "metadata": {
    "colab": {},
    "colab_type": "code",
    "id": "48FLikidVqx-",
    "scrolled": true
   },
   "outputs": [
    {
     "name": "stdout",
     "output_type": "stream",
     "text": [
      "[[1 2 3]\n",
      " [4 5 6]\n",
      " [7 8 9]]\n"
     ]
    }
   ],
   "source": [
    "# 배열 확인\n",
    "print(a)"
   ]
  },
  {
   "cell_type": "code",
   "execution_count": 28,
   "metadata": {
    "colab": {},
    "colab_type": "code",
    "id": "OKBIosAuVqyC"
   },
   "outputs": [
    {
     "name": "stdout",
     "output_type": "stream",
     "text": [
      "[1]\n"
     ]
    }
   ],
   "source": [
    "# 0행 0열 조회\n",
    "print(a[[0], [0]])"
   ]
  },
  {
   "cell_type": "code",
   "execution_count": 29,
   "metadata": {
    "colab": {},
    "colab_type": "code",
    "id": "WtxlnFlzogzm"
   },
   "outputs": [
    {
     "name": "stdout",
     "output_type": "stream",
     "text": [
      "[5]\n"
     ]
    }
   ],
   "source": [
    "# 1행 1열 조회\n",
    "print(a[[1], [1]])"
   ]
  },
  {
   "cell_type": "code",
   "execution_count": 30,
   "metadata": {
    "colab": {},
    "colab_type": "code",
    "id": "NjWQiPULogzq"
   },
   "outputs": [
    {
     "name": "stdout",
     "output_type": "stream",
     "text": [
      "[8]\n"
     ]
    }
   ],
   "source": [
    "# 2행 1열 조회\n",
    "print(a[[2], [1]])"
   ]
  },
  {
   "cell_type": "code",
   "execution_count": 31,
   "metadata": {
    "colab": {},
    "colab_type": "code",
    "id": "ub7OT8QCwpXI"
   },
   "outputs": [
    {
     "name": "stdout",
     "output_type": "stream",
     "text": [
      "[[1 2 3]\n",
      " [4 5 6]\n",
      " [7 8 9]]\n"
     ]
    }
   ],
   "source": [
    "print(a)"
   ]
  },
  {
   "cell_type": "code",
   "execution_count": 32,
   "metadata": {
    "colab": {},
    "colab_type": "code",
    "id": "XMftV_T7Vqx_"
   },
   "outputs": [
    {
     "name": "stdout",
     "output_type": "stream",
     "text": [
      "[1 5]\n"
     ]
    }
   ],
   "source": [
    "# 0행 0열, 1행 1열 조회\n",
    "print(a[[0, 1], [0, 1]])"
   ]
  },
  {
   "cell_type": "code",
   "execution_count": 33,
   "metadata": {
    "colab": {},
    "colab_type": "code",
    "id": "yDtvGSsAogz1"
   },
   "outputs": [
    {
     "name": "stdout",
     "output_type": "stream",
     "text": [
      "[1 5 7]\n"
     ]
    }
   ],
   "source": [
    "# 0행 0열, 1행 1열, 2행 0열 조회\n",
    "print(a[[0, 1, 2], [0, 1, 0]])"
   ]
  },
  {
   "cell_type": "code",
   "execution_count": 34,
   "metadata": {
    "colab": {},
    "colab_type": "code",
    "id": "mmNGc2PNVqyD"
   },
   "outputs": [
    {
     "name": "stdout",
     "output_type": "stream",
     "text": [
      "[2 2]\n"
     ]
    }
   ],
   "source": [
    "# 0행 1열 두 번 가져옮\n",
    "print(a[[0, 0], [1, 1]]) "
   ]
  },
  {
   "cell_type": "markdown",
   "metadata": {
    "colab_type": "text",
    "id": "VfJQXOS2ogz_"
   },
   "source": [
    "## 2.2. 기본 슬라이싱\n",
    "\n",
    "- **배열[행범위,열범위]** 형태로 지정해 그 위치의 요소를 조회합니다.\n",
    "- 마지막 **범위 값은 대상에 포함되지 않습니다.**\n",
    "- 즉, **배열[1:m, 2:n]**이라면 1 ~ m-1행, 2 ~ n-1열이 조회 대상이 됩니다."
   ]
  },
  {
   "cell_type": "code",
   "execution_count": 35,
   "metadata": {
    "colab": {},
    "colab_type": "code",
    "id": "tQU7jXkMog0A",
    "scrolled": true
   },
   "outputs": [
    {
     "name": "stdout",
     "output_type": "stream",
     "text": [
      "[[1 2 3]\n",
      " [4 5 6]\n",
      " [7 8 9]]\n"
     ]
    }
   ],
   "source": [
    "# 3 x 3 형태의 2차원 배열 만들기\n",
    "a = np.array([[1, 2, 3],\n",
    "              [4, 5, 6], \n",
    "              [7, 8, 9]])\n",
    "print(a)             "
   ]
  },
  {
   "cell_type": "code",
   "execution_count": 36,
   "metadata": {
    "colab": {},
    "colab_type": "code",
    "id": "GQpT2IsVog0F"
   },
   "outputs": [
    {
     "name": "stdout",
     "output_type": "stream",
     "text": [
      "[[1 2 3]\n",
      " [4 5 6]]\n"
     ]
    }
   ],
   "source": [
    "# 0~1행 조회\n",
    "print(a[0:2])"
   ]
  },
  {
   "cell_type": "code",
   "execution_count": 37,
   "metadata": {
    "colab": {},
    "colab_type": "code",
    "id": "IoYezZTJog0L"
   },
   "outputs": [
    {
     "name": "stdout",
     "output_type": "stream",
     "text": [
      "[[1 2]\n",
      " [4 5]]\n"
     ]
    }
   ],
   "source": [
    "# 0~1행, 0~1열 조회\n",
    "print(a[0:2, 0:2])"
   ]
  },
  {
   "cell_type": "code",
   "execution_count": 38,
   "metadata": {
    "colab": {},
    "colab_type": "code",
    "id": "R7qsvTfdog0R"
   },
   "outputs": [
    {
     "name": "stdout",
     "output_type": "stream",
     "text": [
      "[[2 3]\n",
      " [5 6]\n",
      " [8 9]]\n"
     ]
    }
   ],
   "source": [
    "# 0~2열, 1~2행 조회\n",
    "print(a[0:3, 1:3])"
   ]
  },
  {
   "cell_type": "code",
   "execution_count": 39,
   "metadata": {
    "colab": {},
    "colab_type": "code",
    "id": "yyMWRXs6og0V"
   },
   "outputs": [
    {
     "name": "stdout",
     "output_type": "stream",
     "text": [
      "[[5 6]\n",
      " [8 9]]\n"
     ]
    }
   ],
   "source": [
    "# 1~끝열, 1~끝행 조회\n",
    "print(a[1:, 1:])"
   ]
  },
  {
   "cell_type": "markdown",
   "metadata": {
    "colab_type": "text",
    "id": "Sr7ZekOqyuaf"
   },
   "source": [
    "<img src='https://raw.githubusercontent.com/jangrae/img/master/practice_01.png' width=120 align = \"left\"/>"
   ]
  },
  {
   "cell_type": "markdown",
   "metadata": {
    "colab_type": "text",
    "id": "vq_EsxWuyuai"
   },
   "source": [
    "다음 코드를 실행하여 5x5 배열을 만드시고, 강사가 무작위로 요구하는 요소를 인덱싱 또는 슬라이싱 해보세요.\n",
    "\n",
    "**[기억할 것] 큰 차원을 따라갑니다**\n",
    "- 0차원과 0차원이 만나면 0차원\n",
    "- 0차원과 1차원이 만나면 1차원\n",
    "- 1차원과 1차원이 만나면 1차원\n",
    "- 2차원과 1차원이 만나면 2차원\n",
    "- 2차원과 2차원이 만나면 2차원\n",
    "- 0차원과 2차원이 만나면 1차원\n",
    "- 범위는 현재 배열의 차원"
   ]
  },
  {
   "cell_type": "code",
   "execution_count": null,
   "metadata": {
    "colab": {},
    "colab_type": "code",
    "id": "dOQnsrxyyuaj",
    "scrolled": true
   },
   "outputs": [],
   "source": [
    "a = np.array([[11, 12, 13, 14, 15],\n",
    "              [16, 17, 18, 19, 20],\n",
    "              [21, 22, 23, 24, 25],\n",
    "              [26, 27, 28, 29, 30],\n",
    "              [31, 32, 33, 34, 35]])\n",
    "print(a)"
   ]
  },
  {
   "cell_type": "code",
   "execution_count": null,
   "metadata": {
    "colab": {},
    "colab_type": "code",
    "id": "jPuLxwKMzSJM"
   },
   "outputs": [],
   "source": [
    "# 예 16을 찾으라 하면\n",
    "print(a[1,0])"
   ]
  },
  {
   "cell_type": "markdown",
   "metadata": {
    "colab_type": "text",
    "id": "Z6d-LPBYog0Z"
   },
   "source": [
    "## 2.3. 팬시 인덱싱\n",
    "\n",
    "- 조금 고급스런 인덱싱 방법이 있으며, 이것을 팬시 인덱싱이라 부릅니다.\n",
    "- **불리안 방식**과 **정수 방식**이 있습니다."
   ]
  },
  {
   "cell_type": "markdown",
   "metadata": {
    "colab_type": "text",
    "id": "XTXtDcxxVqxo"
   },
   "source": [
    "### 2.3.1. 불리안(Boolean) 방식 인덱싱\n",
    "\n",
    "- 조건을 지정해 그 **조건에 맞는 요소를 선택**하는 방식이 불리안 방식입니다.\n",
    "- 결과는 1차원이 됩니다."
   ]
  },
  {
   "cell_type": "markdown",
   "metadata": {
    "colab_type": "text",
    "id": "fcUOfk0eUwMh"
   },
   "source": [
    "<img src='https://raw.githubusercontent.com/jangrae/img/master/boolean.png' width=700 align = \"left\"/>"
   ]
  },
  {
   "cell_type": "markdown",
   "metadata": {
    "colab_type": "text",
    "id": "c7oKn2vgVqxp"
   },
   "source": [
    "**1) 1차원 배열**"
   ]
  },
  {
   "cell_type": "markdown",
   "metadata": {
    "colab_type": "text",
    "id": "zRAQqI4Vog0c"
   },
   "source": [
    "- 우선 1차원 배열을 만들어 봅니다."
   ]
  },
  {
   "cell_type": "code",
   "execution_count": 40,
   "metadata": {
    "colab": {},
    "colab_type": "code",
    "id": "qb2oc5P0Vqxp"
   },
   "outputs": [
    {
     "name": "stdout",
     "output_type": "stream",
     "text": [
      "(6,)\n",
      "[78 91 84 89 93 65]\n"
     ]
    }
   ],
   "source": [
    "# 1차원 배열 만들기\n",
    "score = np.array([78, 91, 84, 89, 93, 65])\n",
    "print(score.shape)\n",
    "print(score)"
   ]
  },
  {
   "cell_type": "markdown",
   "metadata": {
    "colab_type": "text",
    "id": "Ahtg6Q7Mog0g"
   },
   "source": [
    "- **score >= 90** 처럼 조회하고자 하는 조건을 먼저 확인합니다."
   ]
  },
  {
   "cell_type": "code",
   "execution_count": 41,
   "metadata": {
    "colab": {},
    "colab_type": "code",
    "id": "xTiRS9J1Vqxq",
    "scrolled": true
   },
   "outputs": [
    {
     "name": "stdout",
     "output_type": "stream",
     "text": [
      "[False  True False False  True False]\n"
     ]
    }
   ],
   "source": [
    "# 배열의 값이 지정한 조건에 맞는지 여부 확인\n",
    "print(score >= 90)"
   ]
  },
  {
   "cell_type": "markdown",
   "metadata": {
    "colab_type": "text",
    "id": "7VS6piRsog0m"
   },
   "source": [
    "- **배열[조건]** 형태로 해당 조건에 맞는 요소만 조회합니다.\n",
    "- **score[score >= 90]**의 경우 90 이상인 요소만 조회하게 됩니다."
   ]
  },
  {
   "cell_type": "code",
   "execution_count": 43,
   "metadata": {
    "colab": {},
    "colab_type": "code",
    "id": "v4LRftwNog0m",
    "scrolled": true
   },
   "outputs": [
    {
     "name": "stdout",
     "output_type": "stream",
     "text": [
      "[91 93]\n"
     ]
    }
   ],
   "source": [
    "# 조건에 맞는 요소 가져오기\n",
    "print(score[score >= 90])"
   ]
  },
  {
   "cell_type": "code",
   "execution_count": 44,
   "metadata": {},
   "outputs": [
    {
     "name": "stdout",
     "output_type": "stream",
     "text": [
      "[78 84]\n"
     ]
    }
   ],
   "source": [
    "# 짝수 가져오기\n",
    "print(score[score % 2 == 0])"
   ]
  },
  {
   "cell_type": "markdown",
   "metadata": {
    "colab_type": "text",
    "id": "SABaOkGKog0r"
   },
   "source": [
    "<img src='https://raw.githubusercontent.com/jangrae/img/master/practice_01.png' width=120 align = \"left\"/>"
   ]
  },
  {
   "cell_type": "markdown",
   "metadata": {
    "colab_type": "text",
    "id": "MkD9M9K-og0s"
   },
   "source": [
    "다음 코드를 실행하고 그 의미를 확인해 보세요."
   ]
  },
  {
   "cell_type": "code",
   "execution_count": 45,
   "metadata": {
    "colab": {},
    "colab_type": "code",
    "id": "wDE0q1gzVqxr",
    "scrolled": true
   },
   "outputs": [
    {
     "data": {
      "text/plain": [
       "[21, 20, 25, 29]"
      ]
     },
     "execution_count": 45,
     "metadata": {},
     "output_type": "execute_result"
    }
   ],
   "source": [
    "a = [10, 21, 13, 20, 25, 16, 29, 8, 12]\n",
    "a = np.array(a)\n",
    "a = list(a[a >= 20])\n",
    "a"
   ]
  },
  {
   "cell_type": "markdown",
   "metadata": {
    "colab_type": "text",
    "id": "gGPDWVo8Vqxs"
   },
   "source": [
    "**2) 2차원 배열**\n",
    "\n",
    "- 1차원과 같은 방법으로 조회합니다.\n",
    "- 단 여러 행이 있으므로 행에 대한 조건 조회를 할 수 있습니다."
   ]
  },
  {
   "cell_type": "code",
   "execution_count": 46,
   "metadata": {
    "colab": {},
    "colab_type": "code",
    "id": "3gZ8CZCSVqxs",
    "scrolled": true
   },
   "outputs": [
    {
     "name": "stdout",
     "output_type": "stream",
     "text": [
      "(2, 6)\n",
      "[[78 91 84 89 93 65]\n",
      " [82 87 96 79 91 73]]\n"
     ]
    }
   ],
   "source": [
    "# 2차원 배열 만들기\n",
    "score= np.array([[78, 91, 84, 89, 93, 65],\n",
    "                 [82, 87, 96, 79, 91, 73]])\n",
    "\n",
    "# 확인\n",
    "print(score.shape) \n",
    "print(score)"
   ]
  },
  {
   "cell_type": "markdown",
   "metadata": {
    "colab_type": "text",
    "id": "3owUdxuL8-rt"
   },
   "source": [
    "**모든 행에 대한 조건**"
   ]
  },
  {
   "cell_type": "code",
   "execution_count": 47,
   "metadata": {
    "colab": {},
    "colab_type": "code",
    "id": "eJZrj22jVqxw",
    "scrolled": true
   },
   "outputs": [
    {
     "name": "stdout",
     "output_type": "stream",
     "text": [
      "[[False  True False False  True False]\n",
      " [False False  True False  True False]]\n"
     ]
    }
   ],
   "source": [
    "# 모든 행의 모든 열 값이 90 이상인지 여부\n",
    "print(score >= 90)"
   ]
  },
  {
   "cell_type": "code",
   "execution_count": 48,
   "metadata": {
    "colab": {},
    "colab_type": "code",
    "id": "FvhaimHaog1b",
    "scrolled": true
   },
   "outputs": [
    {
     "name": "stdout",
     "output_type": "stream",
     "text": [
      "[91 93 96 91]\n"
     ]
    }
   ],
   "source": [
    "# 모든 행의 열 값이 90 이상인 값만 가져오기\n",
    "print(score[score >= 90])"
   ]
  },
  {
   "cell_type": "markdown",
   "metadata": {
    "colab_type": "text",
    "id": "HGQtNmmN86wi"
   },
   "source": [
    "**특정 행에 대한 조건**"
   ]
  },
  {
   "cell_type": "code",
   "execution_count": 49,
   "metadata": {
    "colab": {},
    "colab_type": "code",
    "id": "VYHy_0YZVqxt"
   },
   "outputs": [
    {
     "name": "stdout",
     "output_type": "stream",
     "text": [
      "[78 91 84 89 93 65]\n"
     ]
    }
   ],
   "source": [
    "# 0행 확인\n",
    "print(score[0]) "
   ]
  },
  {
   "cell_type": "code",
   "execution_count": 50,
   "metadata": {
    "colab": {},
    "colab_type": "code",
    "id": "oe6kVqMIog07"
   },
   "outputs": [
    {
     "name": "stdout",
     "output_type": "stream",
     "text": [
      "[False  True False False  True False]\n"
     ]
    }
   ],
   "source": [
    "# 0행의 모든 열 값이 90 이상인지 여부\n",
    "print(score[0] >= 90)"
   ]
  },
  {
   "cell_type": "code",
   "execution_count": 51,
   "metadata": {
    "colab": {},
    "colab_type": "code",
    "id": "wI6rV1SOog0_",
    "scrolled": true
   },
   "outputs": [
    {
     "name": "stdout",
     "output_type": "stream",
     "text": [
      "[91 93]\n"
     ]
    }
   ],
   "source": [
    "# 0행의 열 값이 90 이상인 값만 가져오기\n",
    "print(score[0][score[0] >= 90]) "
   ]
  },
  {
   "cell_type": "code",
   "execution_count": 52,
   "metadata": {
    "colab": {},
    "colab_type": "code",
    "id": "ewHcMKrxVqxu"
   },
   "outputs": [
    {
     "name": "stdout",
     "output_type": "stream",
     "text": [
      "[82 87 96 79 91 73]\n"
     ]
    }
   ],
   "source": [
    "# 1행 확인\n",
    "print(score[1])"
   ]
  },
  {
   "cell_type": "code",
   "execution_count": 53,
   "metadata": {
    "colab": {},
    "colab_type": "code",
    "id": "frRdBganog1K"
   },
   "outputs": [
    {
     "name": "stdout",
     "output_type": "stream",
     "text": [
      "[False False  True False  True False]\n"
     ]
    }
   ],
   "source": [
    "# 1행의 모든 열 값이 90 이상인지 여부\n",
    "print(score[1] >= 90)"
   ]
  },
  {
   "cell_type": "code",
   "execution_count": 54,
   "metadata": {
    "colab": {},
    "colab_type": "code",
    "id": "FAIsSW3qog1Q",
    "scrolled": true
   },
   "outputs": [
    {
     "name": "stdout",
     "output_type": "stream",
     "text": [
      "[96 91]\n"
     ]
    }
   ],
   "source": [
    "# 1행의 열 값이 90 이상인 값만 가져오기\n",
    "print(score[1][score[1] >= 90])"
   ]
  },
  {
   "cell_type": "markdown",
   "metadata": {
    "colab_type": "text",
    "id": "MNpMhuYd9Cgq"
   },
   "source": [
    "**복수 조건**\n",
    "\n",
    "- 여러 조건을 **&** 와 **|** 로 연결하여 조회할 수 있습니다."
   ]
  },
  {
   "cell_type": "code",
   "execution_count": 55,
   "metadata": {
    "colab": {},
    "colab_type": "code",
    "id": "966NMFcf8deb"
   },
   "outputs": [
    {
     "name": "stdout",
     "output_type": "stream",
     "text": [
      "[[False  True False False  True False]\n",
      " [False False False False  True False]]\n"
     ]
    }
   ],
   "source": [
    "# 모든 행의 모든 열 값이 90 이상인지 여부\n",
    "print((score >= 90) & (score <= 95))"
   ]
  },
  {
   "cell_type": "code",
   "execution_count": 56,
   "metadata": {
    "colab": {},
    "colab_type": "code",
    "id": "VnpEJYUEog1j"
   },
   "outputs": [
    {
     "name": "stdout",
     "output_type": "stream",
     "text": [
      "[91 93 91]\n"
     ]
    }
   ],
   "source": [
    "# 모든 행의 열 값이 90 이상인 값만 가져오기\n",
    "print(score[(score >= 90) & (score <= 95)])"
   ]
  },
  {
   "cell_type": "markdown",
   "metadata": {
    "colab_type": "text",
    "id": "V4SYoejWog1n"
   },
   "source": [
    "<img src='https://raw.githubusercontent.com/jangrae/img/master/practice_01.png' width=120 align = \"left\"/>"
   ]
  },
  {
   "cell_type": "markdown",
   "metadata": {
    "colab_type": "text",
    "id": "gVnNqLBmog1o"
   },
   "source": [
    "다음 배열에서 짝수만 추출해 보세요."
   ]
  },
  {
   "cell_type": "code",
   "execution_count": 59,
   "metadata": {
    "colab": {},
    "colab_type": "code",
    "id": "QOp675xbUwMb"
   },
   "outputs": [
    {
     "name": "stdout",
     "output_type": "stream",
     "text": [
      "[[78 91 84 89 93 65]\n",
      " [82 87 96 79 91 73]]\n"
     ]
    }
   ],
   "source": [
    "# 2차원 배열 만들기\n",
    "score= np.array([[78, 91, 84, 89, 93, 65],\n",
    "                 [82, 87, 96, 79, 91, 73]])\n",
    "\n",
    "# 확인\n",
    "print(score)"
   ]
  },
  {
   "cell_type": "code",
   "execution_count": 61,
   "metadata": {
    "colab": {},
    "colab_type": "code",
    "id": "ieL3ClqgUFM4"
   },
   "outputs": [
    {
     "name": "stdout",
     "output_type": "stream",
     "text": [
      "[[ True False  True False False False]\n",
      " [ True False  True False False False]]\n",
      "[78 84 82 96]\n"
     ]
    }
   ],
   "source": [
    "# 짝수만 추출\n",
    "print(score % 2 == 0)\n",
    "print(score[score % 2 == 0])"
   ]
  },
  {
   "cell_type": "markdown",
   "metadata": {
    "colab_type": "text",
    "id": "KNv0rcuXVqxx"
   },
   "source": [
    "### 2.3.2. 정수 방식 인덱싱\n",
    "\n",
    "- 정수형 위치 인덱스를 지정해 그 위치의 요소를 조회하는 방식입니다.\n",
    "- 이미 사용하고 있는 방식이니, 요소 위치를 배열로 선언해 조회하는 방법을 살펴봅니다."
   ]
  },
  {
   "cell_type": "markdown",
   "metadata": {
    "colab_type": "text",
    "id": "LKZET5oLog11"
   },
   "source": [
    "<img src='https://raw.githubusercontent.com/jangrae/img/master/integer.png' width=500 align = \"left\"/>"
   ]
  },
  {
   "cell_type": "code",
   "execution_count": 62,
   "metadata": {
    "colab": {},
    "colab_type": "code",
    "id": "M92idPGcog11",
    "scrolled": true
   },
   "outputs": [
    {
     "name": "stdout",
     "output_type": "stream",
     "text": [
      "(4, 4)\n",
      "[[78 91 84 89]\n",
      " [82 87 96 79]\n",
      " [85 75 80 90]\n",
      " [75 85 70 80]]\n"
     ]
    }
   ],
   "source": [
    "# 2차원 배열 만들기\n",
    "score = np.array([[78, 91, 84, 89],\n",
    "                  [82, 87, 96, 79],\n",
    "                  [85, 75, 80, 90],\n",
    "                  [75, 85, 70, 80]])\n",
    "\n",
    "# 확인\n",
    "print(score.shape) \n",
    "print(score)"
   ]
  },
  {
   "cell_type": "markdown",
   "metadata": {
    "colab_type": "text",
    "id": "Q--5cGyZog17"
   },
   "source": [
    "- 조회할 요소의 위치를 갖는 배열을 만들어 조회할 수 있습니다.\n",
    "- 특정 위치의 요소를 자주 조회할 경우 그 위치를 배열로 선언해 두면 좋을 것입니다.\n",
    "- 요소 위치를 꼭 배열로 선언하지 않고 리스트로 선언해도 됩니다."
   ]
  },
  {
   "cell_type": "code",
   "execution_count": 65,
   "metadata": {
    "colab": {},
    "colab_type": "code",
    "id": "uNk3VX4hog2B",
    "scrolled": true
   },
   "outputs": [
    {
     "name": "stdout",
     "output_type": "stream",
     "text": [
      "[1 2]\n",
      "[[82 87 96 79]\n",
      " [85 75 80 90]]\n"
     ]
    }
   ],
   "source": [
    "# 1, 2행 조회\n",
    "idx1 = np.array([1, 2])\n",
    "print(idx1)\n",
    "print(score[idx1])"
   ]
  },
  {
   "cell_type": "markdown",
   "metadata": {
    "colab_type": "text",
    "id": "m0dFg9t7og2J"
   },
   "source": [
    "- 위 코드는 다음 코드와 같은 의미를 가집니다."
   ]
  },
  {
   "cell_type": "code",
   "execution_count": 64,
   "metadata": {
    "colab": {},
    "colab_type": "code",
    "id": "TLw3j09Rog2K",
    "scrolled": true
   },
   "outputs": [
    {
     "name": "stdout",
     "output_type": "stream",
     "text": [
      "[[82 87 96 79]\n",
      " [85 75 80 90]]\n"
     ]
    }
   ],
   "source": [
    "# 1, 2행 조회\n",
    "print(score[[1, 2]])"
   ]
  },
  {
   "cell_type": "markdown",
   "metadata": {
    "colab_type": "text",
    "id": "yTndkIRsog2T"
   },
   "source": [
    "- 다음과 같이 열 조회도 가능합니다."
   ]
  },
  {
   "cell_type": "code",
   "execution_count": 66,
   "metadata": {
    "colab": {},
    "colab_type": "code",
    "id": "VzXHixUgog2V",
    "scrolled": true
   },
   "outputs": [
    {
     "name": "stdout",
     "output_type": "stream",
     "text": [
      "[[91 84]\n",
      " [87 96]\n",
      " [75 80]\n",
      " [85 70]]\n"
     ]
    }
   ],
   "source": [
    "# 1, 2열 조회\n",
    "idx1 = np.array([1, 2])\n",
    "print(score[:, idx1])"
   ]
  },
  {
   "cell_type": "markdown",
   "metadata": {
    "colab_type": "text",
    "id": "_i_PaKurog2Z"
   },
   "source": [
    "- 위 코드는 다음 코드와 같은 의미를 가집니다."
   ]
  },
  {
   "cell_type": "code",
   "execution_count": 67,
   "metadata": {
    "colab": {},
    "colab_type": "code",
    "id": "zgOaapw6og2Z",
    "scrolled": true
   },
   "outputs": [
    {
     "name": "stdout",
     "output_type": "stream",
     "text": [
      "[[91 84]\n",
      " [87 96]\n",
      " [75 80]\n",
      " [85 70]]\n"
     ]
    }
   ],
   "source": [
    "# 1, 2행 조회\n",
    "print(score[:, [1, 2]])"
   ]
  },
  {
   "cell_type": "markdown",
   "metadata": {
    "colab_type": "text",
    "id": "8NE3_j1Rog2e"
   },
   "source": [
    "- 행과 열 위치에 모두 배열을 사용할 수 있습니다."
   ]
  },
  {
   "cell_type": "code",
   "execution_count": null,
   "metadata": {
    "colab": {},
    "colab_type": "code",
    "id": "V-V1o653og2f",
    "scrolled": true
   },
   "outputs": [],
   "source": [
    "# 1, 2행 조회\n",
    "idx1 = np.array([1, 2])\n",
    "idx2 = np.array([2, 3])\n",
    "print(score[idx1, idx2])"
   ]
  },
  {
   "cell_type": "code",
   "execution_count": null,
   "metadata": {
    "colab": {},
    "colab_type": "code",
    "id": "MrdTK8bJog2k",
    "scrolled": true
   },
   "outputs": [],
   "source": [
    "# 1, 2행 조회\n",
    "idx1 = np.array([1, 2, 3])\n",
    "idx2 = np.array([1, 2, 3])\n",
    "print(score[idx1, idx2])"
   ]
  },
  {
   "cell_type": "markdown",
   "metadata": {
    "colab_type": "text",
    "id": "kFNboA32JzMw"
   },
   "source": [
    "## <center>수고하셨습니다.</center>\n",
    "<center><img src='https://raw.githubusercontent.com/Jangrae/img/master/end.png' width=200/></center>"
   ]
  }
 ],
 "metadata": {
  "colab": {
   "collapsed_sections": [],
   "name": "02 넘파이 배열 인덱싱과 슬라이싱.ipynb",
   "provenance": []
  },
  "kernelspec": {
   "display_name": "Python 3",
   "language": "python",
   "name": "python3"
  },
  "language_info": {
   "codemirror_mode": {
    "name": "ipython",
    "version": 3
   },
   "file_extension": ".py",
   "mimetype": "text/x-python",
   "name": "python",
   "nbconvert_exporter": "python",
   "pygments_lexer": "ipython3",
   "version": "3.7.6"
  }
 },
 "nbformat": 4,
 "nbformat_minor": 1
}
