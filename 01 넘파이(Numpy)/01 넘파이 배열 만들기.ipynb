{
 "cells": [
  {
   "cell_type": "markdown",
   "metadata": {
    "colab_type": "text",
    "id": "1CVOOe62Vqvv"
   },
   "source": [
    "<center><img src='https://raw.githubusercontent.com/Jangrae/img/master/title.png' width=500/><center>"
   ]
  },
  {
   "cell_type": "markdown",
   "metadata": {},
   "source": [
    "<center>- Numpy의 모든 것을 배우지 않습니다. 데이터 전처리에 대한 부분만 학습 대상이 됩니다 -</center>"
   ]
  },
  {
   "cell_type": "markdown",
   "metadata": {
    "colab_type": "text",
    "id": "knW4AvmePAtI"
   },
   "source": [
    "# 학습 목표\n",
    "\n",
    "- Numpy 배열의 기본 개념을 이해합니다.\n",
    "- 1차원, 2차원, 3차원 배열을 만들 수 있습니다.\n",
    "- Reshape 기능을 사용해 배열 형태를 바꿀 수 있습니다.\n",
    "- 배열을 만드는 다양한 함수를 활용할 수 있습니다.\n",
    "- 기존 배열의 데이터 형식을 변경할 수 있습니다."
   ]
  },
  {
   "cell_type": "markdown",
   "metadata": {
    "colab_type": "text",
    "id": "1QmK9QLhVqv1"
   },
   "source": [
    "# 0. 라이브러리 불러오기\n",
    "\n",
    "- Numpy를 사용하려면 우선 **numpy** 라이브러리를 불러와야 합니다.\n",
    "- numpy 라이브러리는 일반적으로 **np** 별칭을 붙여 불러옵니다."
   ]
  },
  {
   "cell_type": "code",
   "execution_count": 4,
   "metadata": {
    "colab": {},
    "colab_type": "code",
    "id": "QBxfYJR8Vqv1"
   },
   "outputs": [],
   "source": [
    "# 라이브러리 불러오기\n",
    "import numpy as np"
   ]
  },
  {
   "cell_type": "markdown",
   "metadata": {
    "colab_type": "text",
    "id": "HS5jdd-JPAtQ"
   },
   "source": [
    "## [참고] 왜 배열?"
   ]
  },
  {
   "cell_type": "markdown",
   "metadata": {
    "colab_type": "text",
    "id": "xd4IOz_yPAtR"
   },
   "source": [
    "**문제1**: 다음 리스트 각 요소에 2를 곱하세요."
   ]
  },
  {
   "cell_type": "code",
   "execution_count": 5,
   "metadata": {
    "colab": {},
    "colab_type": "code",
    "id": "Ug8fQ6bZPAtR"
   },
   "outputs": [],
   "source": [
    "# 리스트\n",
    "a = [1, 2, 3, 4, 5, 6, 7, 8, 9]"
   ]
  },
  {
   "cell_type": "code",
   "execution_count": 6,
   "metadata": {
    "colab": {},
    "colab_type": "code",
    "id": "NrtzkDziPAtV"
   },
   "outputs": [
    {
     "name": "stdout",
     "output_type": "stream",
     "text": [
      "[1, 2, 3, 4, 5, 6, 7, 8, 9, 1, 2, 3, 4, 5, 6, 7, 8, 9]\n"
     ]
    }
   ],
   "source": [
    "# 2 곱하기 ?\n",
    "a = a * 2\n",
    "print(a)"
   ]
  },
  {
   "cell_type": "markdown",
   "metadata": {
    "colab_type": "text",
    "id": "6dIdBQ2QPAtY"
   },
   "source": [
    "**문제2**: 다음 리스트 요소 중에서 짝수만 표시하세요."
   ]
  },
  {
   "cell_type": "code",
   "execution_count": 7,
   "metadata": {
    "colab": {},
    "colab_type": "code",
    "id": "HA89-TdsPAtZ"
   },
   "outputs": [],
   "source": [
    "# 리스트\n",
    "a = [1, 2, 3, 4, 5, 6, 7, 8, 9]"
   ]
  },
  {
   "cell_type": "code",
   "execution_count": null,
   "metadata": {
    "colab": {},
    "colab_type": "code",
    "id": "ytTretjIPAtb"
   },
   "outputs": [],
   "source": [
    "# 짝수만 표시...몰라요ㅜ.ㅜ\n"
   ]
  },
  {
   "cell_type": "markdown",
   "metadata": {
    "colab_type": "text",
    "id": "d6BM-w4sPAtd"
   },
   "source": [
    "**문제3**: 다음 배열 각 요소에 2를 곱하세요."
   ]
  },
  {
   "cell_type": "code",
   "execution_count": 8,
   "metadata": {
    "colab": {},
    "colab_type": "code",
    "id": "B4DGWLgkPAte"
   },
   "outputs": [],
   "source": [
    "# 배열\n",
    "a = np.array([1, 2, 3, 4, 5, 6, 7, 8, 9])"
   ]
  },
  {
   "cell_type": "code",
   "execution_count": 9,
   "metadata": {
    "colab": {},
    "colab_type": "code",
    "id": "U-XKK-HiPAtg"
   },
   "outputs": [
    {
     "name": "stdout",
     "output_type": "stream",
     "text": [
      "[ 2  4  6  8 10 12 14 16 18]\n"
     ]
    }
   ],
   "source": [
    "# 2 곱하기\n",
    "a = a * 2\n",
    "print(a)"
   ]
  },
  {
   "cell_type": "markdown",
   "metadata": {
    "colab_type": "text",
    "id": "WV4U5CInPAtj"
   },
   "source": [
    "**문제3**: 다음 배열 요소 중에서 짝수만 표시하세요."
   ]
  },
  {
   "cell_type": "code",
   "execution_count": 10,
   "metadata": {
    "colab": {},
    "colab_type": "code",
    "id": "Hpndy576PAtk"
   },
   "outputs": [],
   "source": [
    "# 배열\n",
    "a = np.array([1, 2, 3, 4, 5, 6, 7, 8, 9])"
   ]
  },
  {
   "cell_type": "code",
   "execution_count": 12,
   "metadata": {
    "colab": {},
    "colab_type": "code",
    "id": "r5-hc-EqPAtm"
   },
   "outputs": [
    {
     "name": "stdout",
     "output_type": "stream",
     "text": [
      "[2 4 6 8]\n"
     ]
    }
   ],
   "source": [
    "# 짝수만 표시\n",
    "print(a[a % 2 == 0])"
   ]
  },
  {
   "cell_type": "markdown",
   "metadata": {
    "colab_type": "text",
    "id": "XPklNj6HVqwF"
   },
   "source": [
    "# 1. 배열 만들기\n",
    "\n",
    "- 편의를 위해 **Numpy 배열**을 그냥 **배열**이라고 부르기로 합니다.\n",
    "- 이후 데이터 처리시 배열로 변환해 연산을 하거나, 결과가 배열로 표시되는 경우가 있습니다.\n",
    "- 배열에 대한 개념은 정확히 파악해 두기를 권고합니다.\n",
    "- 우선 배열에 대한 낯선 용어들을 이해할 필요가 있습니다.\n",
    "- 리스트에서 배열을 만들거나, 파일을 불러와 배열을 만들 수 있습니다.\n",
    "- 간단한 형태의 배열을 만들 수 있는 다양한 함수가 제공됩니다."
   ]
  },
  {
   "cell_type": "markdown",
   "metadata": {
    "colab_type": "text",
    "id": "aPhtjq5SVqwG"
   },
   "source": [
    "## 1.1. 용어 정의"
   ]
  },
  {
   "cell_type": "markdown",
   "metadata": {
    "colab_type": "text",
    "id": "SCZ06y9XVqwG"
   },
   "source": [
    "<img src='https://raw.githubusercontent.com/Jangrae/img/master/array.png' width=260 align=\"left\"/>"
   ]
  },
  {
   "cell_type": "markdown",
   "metadata": {
    "colab_type": "text",
    "id": "v6_mxJENNgqI"
   },
   "source": [
    "**[용어]**\n",
    "- axis: 배열의 각 축\n",
    "- rank: 축의 개수\n",
    "- shape: 축의 길이, 배열의 크기\n",
    "\n",
    "  \n",
    "**[3 x 4 배열의 경우]**\n",
    "- axis 0 과 axis 1 을 갖는 2차원 배열\n",
    "- rank 2 array \n",
    "- 첫번째 축의 길이는 3, 두번째 축의 길이는 4\n",
    "- shape는 (3, 4)"
   ]
  },
  {
   "cell_type": "markdown",
   "metadata": {},
   "source": [
    "**[1, 2, 3차원 배열]**"
   ]
  },
  {
   "cell_type": "markdown",
   "metadata": {
    "colab_type": "text",
    "id": "SCZ06y9XVqwG"
   },
   "source": [
    "<img src='https://raw.githubusercontent.com/Jangrae/img/master/array_123.png' width=400 align=\"left\"/>"
   ]
  },
  {
   "cell_type": "markdown",
   "metadata": {
    "colab_type": "text",
    "id": "d1nVJucfVqwI"
   },
   "source": [
    "## 1.2. 배열 만들기\n",
    "\n",
    "- **np.array() 함수**를 사용해서 배열을 만듭니다.\n",
    "- 대부분 **리스트**로부터 배열을 만들거나, 대상 데이터를 **파일**에서 불러옵니다."
   ]
  },
  {
   "cell_type": "markdown",
   "metadata": {
    "colab_type": "text",
    "id": "vxMxUvQIVqwI"
   },
   "source": [
    "### 1.2.1. 1차원 배열 만들기"
   ]
  },
  {
   "cell_type": "markdown",
   "metadata": {
    "colab_type": "text",
    "id": "rhmYp3hkIjgK"
   },
   "source": [
    "**[복습] 리스트 자료형**\n",
    "\n",
    "- 다음은 가장 일반적인 형태의 리스트입니다."
   ]
  },
  {
   "cell_type": "code",
   "execution_count": 11,
   "metadata": {
    "colab": {},
    "colab_type": "code",
    "id": "KgQhge_uIWjW",
    "scrolled": true
   },
   "outputs": [
    {
     "name": "stdout",
     "output_type": "stream",
     "text": [
      "[1, 2, 3, 4, 5]\n"
     ]
    }
   ],
   "source": [
    "# 리스트 만들기\n",
    "a1 = [1, 2, 3, 4, 5]\n",
    "print(a1)"
   ]
  },
  {
   "cell_type": "markdown",
   "metadata": {
    "colab_type": "text",
    "id": "xNZLmB8CVqwJ"
   },
   "source": [
    "**1) 1차원 배열 만들기**\n",
    "\n",
    "- 위 a1 리스트 형태를 가지고 만든 배열이 1차원 배열이 됩니다."
   ]
  },
  {
   "cell_type": "code",
   "execution_count": 14,
   "metadata": {
    "colab": {},
    "colab_type": "code",
    "id": "L2OWcxP0VqwJ",
    "scrolled": false
   },
   "outputs": [
    {
     "data": {
      "text/plain": [
       "array([1, 2, 3, 4, 5])"
      ]
     },
     "execution_count": 14,
     "metadata": {},
     "output_type": "execute_result"
    }
   ],
   "source": [
    "# 1차원 배열 만들기\n",
    "a = np.array([1, 2, 3, 4, 5])\n",
    "a"
   ]
  },
  {
   "cell_type": "markdown",
   "metadata": {
    "colab_type": "text",
    "id": "bGW10uX_PAtw"
   },
   "source": [
    "- 당연히 다음과 같이 a1 리스트를 배열로 변환할 수 있습니다."
   ]
  },
  {
   "cell_type": "code",
   "execution_count": 15,
   "metadata": {
    "colab": {},
    "colab_type": "code",
    "id": "nGGMJEdMPAtw",
    "scrolled": false
   },
   "outputs": [
    {
     "data": {
      "text/plain": [
       "array([1, 2, 3, 4, 5])"
      ]
     },
     "execution_count": 15,
     "metadata": {},
     "output_type": "execute_result"
    }
   ],
   "source": [
    "# 1차원 배열 만들기\n",
    "a = np.array(a1)\n",
    "a"
   ]
  },
  {
   "cell_type": "markdown",
   "metadata": {
    "colab_type": "text",
    "id": "zjxAq56PMmfz"
   },
   "source": [
    "- **print()** 함수를 사용하면 배열의 요소가 좀더 인식하기 쉬운 형태로 표시 됩니다.\n",
    "- 그러므로 이후 부터는 배열 확인을 위해 print() 함수를 사용할 것입니다."
   ]
  },
  {
   "cell_type": "code",
   "execution_count": 16,
   "metadata": {
    "colab": {},
    "colab_type": "code",
    "id": "YF16FYfCMgzx",
    "scrolled": true
   },
   "outputs": [
    {
     "name": "stdout",
     "output_type": "stream",
     "text": [
      "[1 2 3 4 5]\n"
     ]
    }
   ],
   "source": [
    "# 배열 만들고 print() 함수로 확인\n",
    "a = np.array([1, 2, 3, 4, 5])\n",
    "print(a) "
   ]
  },
  {
   "cell_type": "code",
   "execution_count": 17,
   "metadata": {},
   "outputs": [
    {
     "name": "stdout",
     "output_type": "stream",
     "text": [
      "[0 1 2 3 4 5 6 7 8 9]\n"
     ]
    }
   ],
   "source": [
    "a = np.array(range(10))\n",
    "print(a)"
   ]
  },
  {
   "cell_type": "markdown",
   "metadata": {
    "colab_type": "text",
    "id": "bkOl2EjnyMYO"
   },
   "source": [
    "**배열 정보 확인**\n",
    "\n",
    "- 배열 정보를 확인하는 다음 속성들을 기억하시기 바랍니다.(특히 shape)"
   ]
  },
  {
   "cell_type": "code",
   "execution_count": 20,
   "metadata": {
    "colab": {},
    "colab_type": "code",
    "id": "FxXWyFPyx3P-",
    "scrolled": true
   },
   "outputs": [
    {
     "name": "stdout",
     "output_type": "stream",
     "text": [
      "<class 'numpy.ndarray'>\n",
      "1\n",
      "(5,)\n",
      "int32\n"
     ]
    }
   ],
   "source": [
    "a = np.array([1, 2, 3, 4, 5])\n",
    "\n",
    "# 데이터 형식 확인\n",
    "print(type(a))\n",
    "\n",
    "# 차원 확인\n",
    "print(a.ndim)\n",
    "\n",
    "# 형태(크기) 확인\n",
    "print(a.shape) \n",
    "\n",
    "# 요소 데이터 형식 확인\n",
    "print(a.dtype) "
   ]
  },
  {
   "cell_type": "markdown",
   "metadata": {
    "colab_type": "text",
    "id": "O7V_CL-H6zRc"
   },
   "source": [
    "<img src='https://raw.githubusercontent.com/jangrae/img/master/practice_01.png' width=120 align=\"left\"/>"
   ]
  },
  {
   "cell_type": "markdown",
   "metadata": {
    "colab_type": "text",
    "id": "lP-D4JwORo9w"
   },
   "source": [
    "이미 불러왔으니 필요 없지만, 익숙해 지기 위해서 numpy 라이브러리를 np 별칭을 주어 불러오세요."
   ]
  },
  {
   "cell_type": "code",
   "execution_count": null,
   "metadata": {
    "colab": {},
    "colab_type": "code",
    "id": "4kL9ztRaSJJj"
   },
   "outputs": [],
   "source": [
    "# 라이브러리 불러오기\n",
    "import numpy as np\n"
   ]
  },
  {
   "cell_type": "markdown",
   "metadata": {
    "colab_type": "text",
    "id": "kUQxv1BpNlar"
   },
   "source": [
    "다음에 주어진 데이터를 갖는 1차원 배열을 만든 후 type, ndim, shape, dtype을 확인해 보세요."
   ]
  },
  {
   "cell_type": "code",
   "execution_count": 22,
   "metadata": {
    "colab": {},
    "colab_type": "code",
    "id": "9pACMW_t7CBN"
   },
   "outputs": [],
   "source": [
    "# 10, 11, 12, 13, 14, 15\n",
    "\n",
    "# 배열 만들기\n",
    "my_array = np.array([10, 11, 12, 13, 14, 15])\n"
   ]
  },
  {
   "cell_type": "code",
   "execution_count": 23,
   "metadata": {
    "colab": {},
    "colab_type": "code",
    "id": "GDe3SpVe9myp"
   },
   "outputs": [
    {
     "name": "stdout",
     "output_type": "stream",
     "text": [
      "<class 'numpy.ndarray'>\n",
      "1\n",
      "(6,)\n",
      "int32\n"
     ]
    }
   ],
   "source": [
    "# 정보 확인\n",
    "print(type(my_array))\n",
    "\n",
    "print(my_array.ndim)\n",
    "\n",
    "print(my_array.shape) \n",
    "\n",
    "print(my_array.dtype) "
   ]
  },
  {
   "cell_type": "markdown",
   "metadata": {
    "colab_type": "text",
    "id": "VEVLE5-tSJJh"
   },
   "source": [
    "**range()** 함수를 사용해 1 ~ 10 범위의 정수를 갖는 1차원 배열을 만든 후 type, ndim, shape, dtype을 확인해 보세요.\\"
   ]
  },
  {
   "cell_type": "code",
   "execution_count": 24,
   "metadata": {
    "colab": {},
    "colab_type": "code",
    "id": "fh4nURr4Ro9x"
   },
   "outputs": [
    {
     "name": "stdout",
     "output_type": "stream",
     "text": [
      "[ 1  2  3  4  5  6  7  8  9 10]\n"
     ]
    }
   ],
   "source": [
    "# 배열 만들기\n",
    "my_array2 = np.array(range(1,11))\n",
    "print(my_array2)"
   ]
  },
  {
   "cell_type": "code",
   "execution_count": 25,
   "metadata": {
    "colab": {},
    "colab_type": "code",
    "id": "unwejKjuRo94"
   },
   "outputs": [
    {
     "name": "stdout",
     "output_type": "stream",
     "text": [
      "<class 'numpy.ndarray'>\n",
      "1\n",
      "(10,)\n",
      "int32\n"
     ]
    }
   ],
   "source": [
    "# 정보 확인\n",
    "print(type(my_array2))\n",
    "\n",
    "print(my_array2.ndim)\n",
    "\n",
    "print(my_array2.shape) \n",
    "\n",
    "print(my_array2.dtype) \n",
    "\n",
    "\n"
   ]
  },
  {
   "cell_type": "markdown",
   "metadata": {
    "colab_type": "text",
    "id": "XblwhWWcS3_1"
   },
   "source": [
    "자유롭게 1차원 배열을 만들어 보면서 np.array() 함수를 익혀 보세요."
   ]
  },
  {
   "cell_type": "code",
   "execution_count": 33,
   "metadata": {
    "colab": {},
    "colab_type": "code",
    "id": "zAGfWDGhS3_3"
   },
   "outputs": [
    {
     "name": "stdout",
     "output_type": "stream",
     "text": [
      "['안녕하세요' '1' '2' '5']\n",
      "<U5\n",
      "['안녕하세요' 'hohoh' 'repla' '5']\n"
     ]
    }
   ],
   "source": [
    "# 배열 만들기\n",
    "my_array3 = np.array(['안녕하세요', 1, '2', 5])\n",
    "print(my_array3)\n",
    "print(my_array3.dtype)\n",
    "\n",
    "my_array3[1] = 'hohoho'\n",
    "my_array3[2] = 'replace'\n",
    "print(my_array3)"
   ]
  },
  {
   "cell_type": "code",
   "execution_count": 37,
   "metadata": {},
   "outputs": [
    {
     "name": "stdout",
     "output_type": "stream",
     "text": [
      "[[1.5, 2.5, 3.2], [4.2, 5.7, 6.4]]\n"
     ]
    }
   ],
   "source": [
    "# 리스트를 요소로 가지는 리스트 만들기\n",
    "a2 = [[1.5, 2.5, 3.2], [4.2, 5.7, 6.4]]\n",
    "print(a2)"
   ]
  },
  {
   "cell_type": "code",
   "execution_count": 35,
   "metadata": {},
   "outputs": [
    {
     "data": {
      "text/plain": [
       "4.2"
      ]
     },
     "execution_count": 35,
     "metadata": {},
     "output_type": "execute_result"
    }
   ],
   "source": [
    "a2[1][0]"
   ]
  },
  {
   "cell_type": "markdown",
   "metadata": {
    "colab_type": "text",
    "id": "vZ4PIhwEVqwO"
   },
   "source": [
    "### 1.2.2. 2차원 배열 만들기"
   ]
  },
  {
   "cell_type": "markdown",
   "metadata": {
    "colab_type": "text",
    "id": "_GMSk7S8IuUT"
   },
   "source": [
    "**[복습] 리스트**\n",
    "\n",
    "- 다음은 리스트를 요소로 갖는 리스트(List of List)의 예입니다."
   ]
  },
  {
   "cell_type": "code",
   "execution_count": 38,
   "metadata": {
    "colab": {},
    "colab_type": "code",
    "id": "e_wUxcA6ItS0",
    "scrolled": true
   },
   "outputs": [
    {
     "name": "stdout",
     "output_type": "stream",
     "text": [
      "[[1.5 2.5 3.2]\n",
      " [4.2 5.7 6.4]]\n"
     ]
    }
   ],
   "source": [
    "# 리스트를 요소로 갖는 리스트 만들기\n",
    "a2 = np.array([[1.5, 2.5, 3.2], \n",
    "      [4.2, 5.7, 6.4]])\n",
    "print(a2)"
   ]
  },
  {
   "cell_type": "markdown",
   "metadata": {
    "colab_type": "text",
    "id": "sgAsT12vVqwO"
   },
   "source": [
    "**1) 2차원 배열 만들기**\n",
    "\n",
    "- 위 a2 리스트 형태를 가지고 만든 배열이 2차원 배열이 됩니다.\n",
    "- 아래 코드와 같이 두 번째 행을 한 줄 내려서 쓰면 보기 좋습니다."
   ]
  },
  {
   "cell_type": "code",
   "execution_count": 40,
   "metadata": {
    "colab": {},
    "colab_type": "code",
    "id": "2p9BKSqsVqwP"
   },
   "outputs": [
    {
     "name": "stdout",
     "output_type": "stream",
     "text": [
      "[[1.5 2.5 3.2]\n",
      " [4.2 5.7 6.4]]\n"
     ]
    }
   ],
   "source": [
    "# 2차원 배열 만들기\n",
    "a = np.array([[1.5, 2.5, 3.2], \n",
    "              [4.2, 5.7, 6.4]])\n",
    "print(a) "
   ]
  },
  {
   "cell_type": "markdown",
   "metadata": {
    "colab_type": "text",
    "id": "pF3rcRqdzpx-"
   },
   "source": [
    "**배열 정보 확인**"
   ]
  },
  {
   "cell_type": "code",
   "execution_count": 41,
   "metadata": {
    "colab": {},
    "colab_type": "code",
    "id": "w6kduG-tzn5T",
    "scrolled": true
   },
   "outputs": [
    {
     "name": "stdout",
     "output_type": "stream",
     "text": [
      "2\n",
      "(2, 3)\n",
      "float64\n"
     ]
    }
   ],
   "source": [
    "# 정보 확인\n",
    "print(a.ndim)\n",
    "print(a.shape)\n",
    "print(a.dtype)"
   ]
  },
  {
   "cell_type": "markdown",
   "metadata": {
    "colab_type": "text",
    "id": "fkGEM6jh8_OU"
   },
   "source": [
    "<img src='https://raw.githubusercontent.com/jangrae/img/master/practice_01.png' width=120 align=\"left\"/>"
   ]
  },
  {
   "cell_type": "markdown",
   "metadata": {
    "colab_type": "text",
    "id": "Gbr9D4OhTac9"
   },
   "source": [
    "이미 불러왔으니 필요 없지만, 익숙해 지기 위해서 numpy 라이브러리를 np 별칭을 주어 불러오세요."
   ]
  },
  {
   "cell_type": "code",
   "execution_count": 42,
   "metadata": {
    "colab": {},
    "colab_type": "code",
    "id": "yEtM9yDWTac-"
   },
   "outputs": [],
   "source": [
    "# 라이브러리 불러오기\n",
    "import numpy as np\n"
   ]
  },
  {
   "cell_type": "markdown",
   "metadata": {
    "colab_type": "text",
    "id": "YrBtd57cNpK4"
   },
   "source": [
    "다음에 주어진 데이터를 요소로 갖는 리스트 a를 만든 후, 리스트 a를 사용해 배열 b를 만드세요.리스트를 요소로 갖는 2차원 배열을 만든 후 ndim, shape, dtype을 확인해 보세요"
   ]
  },
  {
   "cell_type": "code",
   "execution_count": 46,
   "metadata": {
    "colab": {},
    "colab_type": "code",
    "id": "C9GwieJP8_Oe",
    "scrolled": true
   },
   "outputs": [
    {
     "name": "stdout",
     "output_type": "stream",
     "text": [
      "[[11 12 13 14]\n",
      " [15 16 17 18]\n",
      " [19 20 21 22]]\n"
     ]
    }
   ],
   "source": [
    "#[[11, 12, 13, 14], [15, 16, 17, 18], [19, 20, 21, 22]]\n",
    "\n",
    "# 리스트 만들기\n",
    "a = [[11, 12, 13, 14], [15, 16, 17, 18], [19, 20, 21, 22]]\n",
    "\n",
    "# 배열 만들기\n",
    "b = np.array(a)\n",
    "print(b)\n"
   ]
  },
  {
   "cell_type": "code",
   "execution_count": 47,
   "metadata": {
    "colab": {},
    "colab_type": "code",
    "id": "gcwqI7-c9j8E",
    "scrolled": true
   },
   "outputs": [
    {
     "name": "stdout",
     "output_type": "stream",
     "text": [
      "2\n",
      "(3, 4)\n",
      "int32\n"
     ]
    }
   ],
   "source": [
    "# 정보 확인\n",
    "print(b.ndim)\n",
    "print(b.shape)\n",
    "print(b.dtype)"
   ]
  },
  {
   "cell_type": "markdown",
   "metadata": {
    "colab_type": "text",
    "id": "gjoNx8o7TvUo"
   },
   "source": [
    "자유롭게 2차원 배열을 만들어 보면서 np.array() 함수를 익혀 보세요."
   ]
  },
  {
   "cell_type": "code",
   "execution_count": null,
   "metadata": {
    "colab": {},
    "colab_type": "code",
    "id": "23jo-Gl9TvUr"
   },
   "outputs": [],
   "source": [
    "# 배열 만들기\n",
    "\n"
   ]
  },
  {
   "cell_type": "markdown",
   "metadata": {
    "colab_type": "text",
    "id": "zu-MwlMDVqwT"
   },
   "source": [
    "### 1.2.3. 3차원 배열 만들기\n",
    "\n",
    "- 3차원 배열은 이미 예상이 되시죠?\n",
    "- 리스트를 요소로 갖는 리스트를 요소로 갖는 리스트로 배열을 만들면 3차원 배열이 됩니다."
   ]
  },
  {
   "cell_type": "code",
   "execution_count": 48,
   "metadata": {
    "colab": {},
    "colab_type": "code",
    "id": "kjPmSP2zVqwU",
    "scrolled": true
   },
   "outputs": [
    {
     "name": "stdout",
     "output_type": "stream",
     "text": [
      "[[[1 3 1]\n",
      "  [4 7 6]\n",
      "  [8 3 4]]\n",
      "\n",
      " [[6 2 4]\n",
      "  [8 1 5]\n",
      "  [3 5 9]]]\n"
     ]
    }
   ],
   "source": [
    "# 3차원 배열 만들기\n",
    "a = np.array([[[1, 3, 1],\n",
    "               [4, 7, 6],\n",
    "               [8, 3, 4]],\n",
    "              [[6, 2, 4],  \n",
    "               [8, 1, 5],\n",
    "               [3, 5, 9]]])\n",
    "print(a)"
   ]
  },
  {
   "cell_type": "code",
   "execution_count": 49,
   "metadata": {
    "colab": {},
    "colab_type": "code",
    "id": "Vf6SOsLr1Yj8",
    "scrolled": true
   },
   "outputs": [
    {
     "name": "stdout",
     "output_type": "stream",
     "text": [
      "3\n",
      "(2, 3, 3)\n",
      "int32\n"
     ]
    }
   ],
   "source": [
    "# 배열 정보 확인                     \n",
    "print(a.ndim)\n",
    "print(a.shape)\n",
    "print(a.dtype)"
   ]
  },
  {
   "cell_type": "markdown",
   "metadata": {
    "colab_type": "text",
    "id": "T90fbLEsVqwV"
   },
   "source": [
    "## 1.3. Reshape\n",
    "\n",
    "- 배열을 사용할 때 다양한 형태(Shape)로 변환할 필요가 있습니다.\n",
    "- 배열에 포함된 **요소가 사라지지 않는 형태**라면 자유롭게 변환할 수 있습니다.\n",
    "- 3 x 4 → 2 x 6 → 4 x 3 → 12 x 1 → 6 x 2 등등 요소 개수만 변하지 않으면 됩니다."
   ]
  },
  {
   "cell_type": "markdown",
   "metadata": {
    "colab_type": "text",
    "id": "ZrloBAixVqwV"
   },
   "source": [
    "### 1.3.1. 1차원 배열"
   ]
  },
  {
   "cell_type": "code",
   "execution_count": 50,
   "metadata": {
    "colab": {},
    "colab_type": "code",
    "id": "m1a8aY8kVqwW"
   },
   "outputs": [
    {
     "name": "stdout",
     "output_type": "stream",
     "text": [
      "(6,)\n",
      "[1 2 3 4 5 6]\n"
     ]
    }
   ],
   "source": [
    "# 1차원 배열 만들기\n",
    "a = np.array([1, 2, 3, 4, 5, 6])\n",
    "print(a.shape)\n",
    "print(a)"
   ]
  },
  {
   "cell_type": "markdown",
   "metadata": {
    "colab_type": "text",
    "id": "oR8RzejyVqwZ"
   },
   "source": [
    "**1) 1차원 배열 → 2차원 배열**\n",
    "\n",
    "- a.**reshape(*m*, *n*)** 형태로 지정해서 m x n 형태의 2차원 배열로 바꿀 수 있습니다. "
   ]
  },
  {
   "cell_type": "code",
   "execution_count": 51,
   "metadata": {
    "colab": {},
    "colab_type": "code",
    "id": "azJc8WfDAl4w"
   },
   "outputs": [
    {
     "name": "stdout",
     "output_type": "stream",
     "text": [
      "(1, 6)\n",
      "[[1 2 3 4 5 6]]\n"
     ]
    }
   ],
   "source": [
    "# 1 x 6 형태의 2차원 배열로 Reshape #1\n",
    "b = a.reshape(1, 6)\n",
    "print(b.shape)\n",
    "print(b)"
   ]
  },
  {
   "cell_type": "code",
   "execution_count": 53,
   "metadata": {
    "colab": {},
    "colab_type": "code",
    "id": "HFjy0n6BVqwb"
   },
   "outputs": [
    {
     "name": "stdout",
     "output_type": "stream",
     "text": [
      "(3, 2)\n",
      "[[1 2]\n",
      " [3 4]\n",
      " [5 6]]\n"
     ]
    }
   ],
   "source": [
    "# 3 x 2 형태의 2차원 배열로 Reshape\n",
    "c = a.reshape(3, 2)\n",
    "print(c.shape)\n",
    "print(c)"
   ]
  },
  {
   "cell_type": "markdown",
   "metadata": {
    "colab_type": "text",
    "id": "UD6_2OKtA6gM"
   },
   "source": [
    "**2) np.reshape() 함수 사용**\n",
    "\n",
    "- **np.reshape(a, (*m*, *n*))** 형태로 지정해서 m x n 형태의 2차원 배열로 바꿀 수 있습니다.\n",
    "\n",
    "- 이 방법 보다는 위 방법을 사용하기를 권고합니다.(위 구문이 더 단순함)"
   ]
  },
  {
   "cell_type": "code",
   "execution_count": null,
   "metadata": {
    "colab": {},
    "colab_type": "code",
    "id": "-p-osKBzA8cx"
   },
   "outputs": [],
   "source": [
    "# 배열 만들기\n",
    "a = np.array([1, 2, 3, 4, 5, 6])\n",
    "\n",
    "# 2 x 3 형태의 2차원 배열로 Reshape\n",
    "b = np.reshape(a, (2, 3))\n",
    "print(b.shape)\n",
    "print(b)"
   ]
  },
  {
   "cell_type": "markdown",
   "metadata": {
    "colab_type": "text",
    "id": "fJINuELNVqwe"
   },
   "source": [
    "### 1.3.2. 2차원 배열"
   ]
  },
  {
   "cell_type": "code",
   "execution_count": 54,
   "metadata": {
    "colab": {},
    "colab_type": "code",
    "id": "75VTZ0vqVqwf"
   },
   "outputs": [
    {
     "name": "stdout",
     "output_type": "stream",
     "text": [
      "(2, 3)\n",
      "[[1 2 3]\n",
      " [4 5 6]]\n"
     ]
    }
   ],
   "source": [
    "# 2 x 3 형태의 2차원 배열 만들기\n",
    "a = np.array([[1, 2, 3], \n",
    "              [4, 5, 6]])\n",
    "print(a.shape)\n",
    "print(a)"
   ]
  },
  {
   "cell_type": "markdown",
   "metadata": {
    "colab_type": "text",
    "id": "foYfLnZaVqwf"
   },
   "source": [
    "**1) 2차원 배열 → 다른 형태의 2차원 배열**"
   ]
  },
  {
   "cell_type": "code",
   "execution_count": 55,
   "metadata": {
    "colab": {},
    "colab_type": "code",
    "id": "4ZGXjZEKVqwj"
   },
   "outputs": [
    {
     "name": "stdout",
     "output_type": "stream",
     "text": [
      "(3, 2)\n",
      "[[1 2]\n",
      " [3 4]\n",
      " [5 6]]\n"
     ]
    }
   ],
   "source": [
    "# 메소드를 사용해 3 x 2 형태의 2차원 배열로 Reshape\n",
    "c = a.reshape(3, 2)\n",
    "print(c.shape)\n",
    "print(c)"
   ]
  },
  {
   "cell_type": "markdown",
   "metadata": {
    "colab_type": "text",
    "id": "lDGU9KuXVqwk"
   },
   "source": [
    "**2) 2차원 배열 → 1차원 배열**"
   ]
  },
  {
   "cell_type": "code",
   "execution_count": 57,
   "metadata": {
    "colab": {},
    "colab_type": "code",
    "id": "2JY0g6WAVqwk"
   },
   "outputs": [
    {
     "name": "stdout",
     "output_type": "stream",
     "text": [
      "(6,)\n",
      "[1 2 3 4 5 6]\n"
     ]
    }
   ],
   "source": [
    "# 1차원 배열로 Reshape\n",
    "#d = a.reshape(6,)\n",
    "d = a.reshape(6)\n",
    "print(d.shape)\n",
    "print(d)"
   ]
  },
  {
   "cell_type": "markdown",
   "metadata": {
    "colab_type": "text",
    "id": "pzyFKxilVqwm"
   },
   "source": [
    "**3) -1의 편리성**\n",
    "\n",
    "- **(*m*, -1)** 또는 **(-1, *n*)** 처럼 사용해 행 또는 열 크기 한 쪽만 지정할 수 있습니다."
   ]
  },
  {
   "cell_type": "code",
   "execution_count": null,
   "metadata": {
    "colab": {},
    "colab_type": "code",
    "id": "rFyQiMDJVqwn"
   },
   "outputs": [],
   "source": [
    "# 2 x 3 형태의 2차원 배열 만들기\n",
    "a = np.array([[1, 2, 3], \n",
    "              [4, 5, 6]])\n",
    "print(a)"
   ]
  },
  {
   "cell_type": "code",
   "execution_count": 60,
   "metadata": {
    "colab": {},
    "colab_type": "code",
    "id": "sCjMu_Dv3P7s"
   },
   "outputs": [
    {
     "name": "stdout",
     "output_type": "stream",
     "text": [
      "[[1 2 3 4 5 6]]\n",
      "\n",
      "[[1 2 3]\n",
      " [4 5 6]]\n",
      "\n",
      "[[1 2]\n",
      " [3 4]\n",
      " [5 6]]\n",
      "\n",
      "[[1]\n",
      " [2]\n",
      " [3]\n",
      " [4]\n",
      " [5]\n",
      " [6]]\n"
     ]
    }
   ],
   "source": [
    "# reshape(m, -1) 형태로 지정하여 Reshape 가능\n",
    "print(a.reshape(1, -1))\n",
    "print()\n",
    "\n",
    "print(a.reshape(2, -1))\n",
    "print()\n",
    "\n",
    "print(a.reshape(3, -1))\n",
    "print()\n",
    "\n",
    "#print(a.reshape(4, -1))\n",
    "#print(a.reshape(5, -1))\n",
    "\n",
    "print(a.reshape(6, -1))"
   ]
  },
  {
   "cell_type": "markdown",
   "metadata": {
    "colab_type": "text",
    "id": "-hv9haY7DLyU"
   },
   "source": [
    "<img src='https://raw.githubusercontent.com/jangrae/img/master/practice_01.png' width=120 align=\"left\"/>"
   ]
  },
  {
   "cell_type": "markdown",
   "metadata": {
    "colab_type": "text",
    "id": "rNl0nrGhN8Fn"
   },
   "source": [
    "다음에 주어진 배열의 형태(shape)를 확인한 후 요구되는 형태로 바꿔 보세요."
   ]
  },
  {
   "cell_type": "code",
   "execution_count": 73,
   "metadata": {
    "colab": {},
    "colab_type": "code",
    "id": "-fsZhQe8DLyf"
   },
   "outputs": [
    {
     "data": {
      "text/plain": [
       "(3, 4)"
      ]
     },
     "execution_count": 73,
     "metadata": {},
     "output_type": "execute_result"
    }
   ],
   "source": [
    "# 배열 만들기\n",
    "a = np.array([[11, 12, 13, 14], \n",
    "              [15, 16, 17, 18], \n",
    "              [19, 20, 21, 22]])\n",
    "\n",
    "# 배열 형태 확인\n",
    "a.shape"
   ]
  },
  {
   "cell_type": "code",
   "execution_count": 62,
   "metadata": {
    "colab": {},
    "colab_type": "code",
    "id": "mD9peXuuDgNz",
    "scrolled": true
   },
   "outputs": [
    {
     "name": "stdout",
     "output_type": "stream",
     "text": [
      "[[11 12 13]\n",
      " [14 15 16]\n",
      " [17 18 19]\n",
      " [20 21 22]]\n"
     ]
    }
   ],
   "source": [
    "# 4 X ? 형태의 2차원 배열\n",
    "print(a.reshape(4, -1))\n"
   ]
  },
  {
   "cell_type": "code",
   "execution_count": 63,
   "metadata": {
    "colab": {},
    "colab_type": "code",
    "id": "t6TFutyUD4j0"
   },
   "outputs": [
    {
     "name": "stdout",
     "output_type": "stream",
     "text": [
      "[[11 12 13 14 15 16]\n",
      " [17 18 19 20 21 22]]\n"
     ]
    }
   ],
   "source": [
    "# 2 x ? 형태의 2차원 배열\n",
    "print(a.reshape(2, -1))\n"
   ]
  },
  {
   "cell_type": "code",
   "execution_count": 64,
   "metadata": {
    "colab": {},
    "colab_type": "code",
    "id": "t6TFutyUD4j0",
    "scrolled": true
   },
   "outputs": [
    {
     "name": "stdout",
     "output_type": "stream",
     "text": [
      "[[11 12 13 14]\n",
      " [15 16 17 18]\n",
      " [19 20 21 22]]\n"
     ]
    }
   ],
   "source": [
    "# 3 x ? 형태의 2차원 배열\n",
    "print(a.reshape(3, -1))\n"
   ]
  },
  {
   "cell_type": "code",
   "execution_count": 65,
   "metadata": {
    "colab": {},
    "colab_type": "code",
    "id": "t6TFutyUD4j0"
   },
   "outputs": [
    {
     "name": "stdout",
     "output_type": "stream",
     "text": [
      "[[11 12 13 14 15 16 17 18 19 20 21 22]]\n"
     ]
    }
   ],
   "source": [
    "# 1 x ? 형태의 2차원 배열\n",
    "print(a.reshape(1, -1))\n"
   ]
  },
  {
   "cell_type": "code",
   "execution_count": 78,
   "metadata": {
    "colab": {},
    "colab_type": "code",
    "id": "t6TFutyUD4j0",
    "scrolled": true
   },
   "outputs": [
    {
     "name": "stdout",
     "output_type": "stream",
     "text": [
      "1\n",
      "(12,)\n",
      "[11 12 13 14 15 16 17 18 19 20 21 22]\n"
     ]
    }
   ],
   "source": [
    "# 1차원 배열\n",
    "e = a.reshape(12)\n",
    "print(e.ndim)\n",
    "print(e.shape)\n",
    "print(e)\n"
   ]
  },
  {
   "cell_type": "markdown",
   "metadata": {
    "colab_type": "text",
    "id": "_iEwosFqVqwp"
   },
   "source": [
    "### 1.3.3. 3차원 배열"
   ]
  },
  {
   "cell_type": "markdown",
   "metadata": {
    "colab_type": "text",
    "id": "YAr0GE-YVqwp"
   },
   "source": [
    "**1) 3차원 배열 → 다른 형태의 3차원 배열**\n",
    "\n",
    "- **np.zeros()** 함수를 사용해 **0으로 채워진 배열**을 만들 수 있습니다."
   ]
  },
  {
   "cell_type": "code",
   "execution_count": 79,
   "metadata": {
    "colab": {},
    "colab_type": "code",
    "id": "Lo3Q2XgUVqwq",
    "scrolled": true
   },
   "outputs": [
    {
     "name": "stdout",
     "output_type": "stream",
     "text": [
      "(2, 4, 3)\n",
      "[[[0. 0. 0.]\n",
      "  [0. 0. 0.]\n",
      "  [0. 0. 0.]\n",
      "  [0. 0. 0.]]\n",
      "\n",
      " [[0. 0. 0.]\n",
      "  [0. 0. 0.]\n",
      "  [0. 0. 0.]\n",
      "  [0. 0. 0.]]]\n"
     ]
    }
   ],
   "source": [
    "# 2 x 4 x 3 형태로 0으로 채워진 3차원 배열 만들기\n",
    "a = np.zeros((2, 4, 3)) \n",
    "print(a.shape)\n",
    "print(a)"
   ]
  },
  {
   "cell_type": "code",
   "execution_count": 80,
   "metadata": {
    "colab": {},
    "colab_type": "code",
    "id": "_D405yYhVqwr"
   },
   "outputs": [
    {
     "name": "stdout",
     "output_type": "stream",
     "text": [
      "[[[0. 0. 0. 0. 0. 0.]\n",
      "  [0. 0. 0. 0. 0. 0.]\n",
      "  [0. 0. 0. 0. 0. 0.]\n",
      "  [0. 0. 0. 0. 0. 0.]]]\n"
     ]
    }
   ],
   "source": [
    "# 1 x 4 x ? 형태의 3차원 배열로 Reshape --> 1 x 4 x 6\n",
    "print(a.reshape(1, 4, -1))"
   ]
  },
  {
   "cell_type": "markdown",
   "metadata": {
    "colab_type": "text",
    "id": "49LQzSVHVqwt"
   },
   "source": [
    "**2) 3차원 배열 → 2차원 배열**"
   ]
  },
  {
   "cell_type": "code",
   "execution_count": 81,
   "metadata": {
    "colab": {},
    "colab_type": "code",
    "id": "ZK9uXYLvVqwt"
   },
   "outputs": [
    {
     "name": "stdout",
     "output_type": "stream",
     "text": [
      "[[0. 0. 0. 0. 0. 0.]\n",
      " [0. 0. 0. 0. 0. 0.]\n",
      " [0. 0. 0. 0. 0. 0.]\n",
      " [0. 0. 0. 0. 0. 0.]]\n"
     ]
    }
   ],
   "source": [
    "# 4 x ? 형태의 2차원 배열로 Reshape --> 4 x 6\n",
    "print(a.reshape(4, -1))"
   ]
  },
  {
   "cell_type": "markdown",
   "metadata": {
    "colab_type": "text",
    "id": "kGcQky_zVqw1"
   },
   "source": [
    "## 1.4. 참고: Reshape 활용\n",
    "\n",
    "- 배열 Reshape가 왜 필요한 지 경험해 봅시다."
   ]
  },
  {
   "cell_type": "markdown",
   "metadata": {
    "colab_type": "text",
    "id": "XrHBttCmuqJj"
   },
   "source": [
    "**[참고] MNIST?**\n",
    "\n",
    "- Modified National Institute of Standards and Technology database의 약어 입니다.\n",
    "- MNIST는 손으로 쓴 숫자들로 이루어진 대형 데이터베이스입니다.\n",
    "- 다양한 화상 처리 시스템을 트레이닝하기 위해 일반적으로 사용됩니다."
   ]
  },
  {
   "cell_type": "markdown",
   "metadata": {
    "colab_type": "text",
    "id": "-hv9haY7DLyU"
   },
   "source": [
    "<img src='https://raw.githubusercontent.com/jangrae/img/master/mnist_6.png' width=250 align=\"left\"/>"
   ]
  },
  {
   "cell_type": "markdown",
   "metadata": {
    "colab_type": "text",
    "id": "_aAQtwYiVqw2"
   },
   "source": [
    "**1) 파일에서 데이터 불러오기**"
   ]
  },
  {
   "cell_type": "code",
   "execution_count": 82,
   "metadata": {
    "colab": {},
    "colab_type": "code",
    "id": "fMS4pq0vVqw2",
    "scrolled": true
   },
   "outputs": [
    {
     "name": "stdout",
     "output_type": "stream",
     "text": [
      "<class 'numpy.ndarray'>\n",
      "(100, 785)\n",
      "[[7. 0. 0. ... 0. 0. 0.]\n",
      " [2. 0. 0. ... 0. 0. 0.]\n",
      " [1. 0. 0. ... 0. 0. 0.]\n",
      " ...\n",
      " [7. 0. 0. ... 0. 0. 0.]\n",
      " [6. 0. 0. ... 0. 0. 0.]\n",
      " [9. 0. 0. ... 0. 0. 0.]]\n"
     ]
    }
   ],
   "source": [
    "# MNIST 샘플 데이터를 불러오기\n",
    "file_path = 'https://raw.githubusercontent.com/Jangrae/csv/master/MNIST_Sample_100_28x28.csv'\n",
    "mnist = np.genfromtxt(file_path, delimiter=',', skip_header=True)\n",
    "print(type(mnist))\n",
    "print(mnist.shape)\n",
    "print(mnist)"
   ]
  },
  {
   "cell_type": "markdown",
   "metadata": {
    "colab_type": "text",
    "id": "EYsIt13XVqw4"
   },
   "source": [
    "- 정리(전처리)가 잘 된 데이터 셋입니다.\n",
    "- 첫번째 칼럼은 어떤 숫자의 이미지인지 구분하는 라벨이며 0~9 사이의 값을 갖습니다.\n",
    "- 각 행이 하나의 이미지 파일의 픽셀값을 일렬로 만들어 놓은 것입니다."
   ]
  },
  {
   "cell_type": "markdown",
   "metadata": {
    "colab_type": "text",
    "id": "028nHbDHVqw4"
   },
   "source": [
    "**2) 배열 처리**"
   ]
  },
  {
   "cell_type": "code",
   "execution_count": 83,
   "metadata": {
    "colab": {},
    "colab_type": "code",
    "id": "xhEU1WP3Vqw5"
   },
   "outputs": [],
   "source": [
    "# 라벨과 픽셀 값 분리\n",
    "mnist_labels = mnist[:, 0]          # 첫 칼럼은 레이블로 모아두고 --> Rank 1 Array\n",
    "mnist_pixels = mnist[:, 1:]         # 나머지 칼럼(픽셀값들)을 따로 저장 --> Rank 2 Array"
   ]
  },
  {
   "cell_type": "code",
   "execution_count": 84,
   "metadata": {
    "colab": {},
    "colab_type": "code",
    "id": "Xj9w1iKkVI7O"
   },
   "outputs": [
    {
     "name": "stdout",
     "output_type": "stream",
     "text": [
      "(100,)\n",
      "[7. 2. 1. 0. 4. 1. 4. 9. 5. 9. 0. 6. 9. 0. 1. 5. 9. 7. 3. 4. 9. 6. 6. 5.\n",
      " 4. 0. 7. 4. 0. 1. 3. 1. 3. 4. 7. 2. 7. 1. 2. 1. 1. 7. 4. 2. 3. 5. 1. 2.\n",
      " 4. 4. 6. 3. 5. 5. 6. 0. 4. 1. 9. 5. 7. 8. 9. 3. 7. 4. 6. 4. 3. 0. 7. 0.\n",
      " 2. 9. 1. 7. 3. 2. 9. 7. 7. 6. 2. 7. 8. 4. 7. 3. 6. 1. 3. 6. 9. 3. 1. 4.\n",
      " 1. 7. 6. 9.]\n"
     ]
    }
   ],
   "source": [
    "# 확인\n",
    "print(mnist_labels.shape)\n",
    "print(mnist_labels)"
   ]
  },
  {
   "cell_type": "code",
   "execution_count": 85,
   "metadata": {
    "colab": {},
    "colab_type": "code",
    "id": "Dg7IQ_HRVLrK"
   },
   "outputs": [
    {
     "name": "stdout",
     "output_type": "stream",
     "text": [
      "(100, 784)\n",
      "[[0. 0. 0. ... 0. 0. 0.]\n",
      " [0. 0. 0. ... 0. 0. 0.]\n",
      " [0. 0. 0. ... 0. 0. 0.]\n",
      " ...\n",
      " [0. 0. 0. ... 0. 0. 0.]\n",
      " [0. 0. 0. ... 0. 0. 0.]\n",
      " [0. 0. 0. ... 0. 0. 0.]]\n"
     ]
    }
   ],
   "source": [
    "print(mnist_pixels.shape)\n",
    "print(mnist_pixels)"
   ]
  },
  {
   "cell_type": "code",
   "execution_count": 86,
   "metadata": {
    "colab": {},
    "colab_type": "code",
    "id": "yMM83ncQVqw6"
   },
   "outputs": [
    {
     "name": "stdout",
     "output_type": "stream",
     "text": [
      "(100, 28, 28)\n",
      "[[[0. 0. 0. ... 0. 0. 0.]\n",
      "  [0. 0. 0. ... 0. 0. 0.]\n",
      "  [0. 0. 0. ... 0. 0. 0.]\n",
      "  ...\n",
      "  [0. 0. 0. ... 0. 0. 0.]\n",
      "  [0. 0. 0. ... 0. 0. 0.]\n",
      "  [0. 0. 0. ... 0. 0. 0.]]\n",
      "\n",
      " [[0. 0. 0. ... 0. 0. 0.]\n",
      "  [0. 0. 0. ... 0. 0. 0.]\n",
      "  [0. 0. 0. ... 0. 0. 0.]\n",
      "  ...\n",
      "  [0. 0. 0. ... 0. 0. 0.]\n",
      "  [0. 0. 0. ... 0. 0. 0.]\n",
      "  [0. 0. 0. ... 0. 0. 0.]]\n",
      "\n",
      " [[0. 0. 0. ... 0. 0. 0.]\n",
      "  [0. 0. 0. ... 0. 0. 0.]\n",
      "  [0. 0. 0. ... 0. 0. 0.]\n",
      "  ...\n",
      "  [0. 0. 0. ... 0. 0. 0.]\n",
      "  [0. 0. 0. ... 0. 0. 0.]\n",
      "  [0. 0. 0. ... 0. 0. 0.]]\n",
      "\n",
      " ...\n",
      "\n",
      " [[0. 0. 0. ... 0. 0. 0.]\n",
      "  [0. 0. 0. ... 0. 0. 0.]\n",
      "  [0. 0. 0. ... 0. 0. 0.]\n",
      "  ...\n",
      "  [0. 0. 0. ... 0. 0. 0.]\n",
      "  [0. 0. 0. ... 0. 0. 0.]\n",
      "  [0. 0. 0. ... 0. 0. 0.]]\n",
      "\n",
      " [[0. 0. 0. ... 0. 0. 0.]\n",
      "  [0. 0. 0. ... 0. 0. 0.]\n",
      "  [0. 0. 0. ... 0. 0. 0.]\n",
      "  ...\n",
      "  [0. 0. 0. ... 0. 0. 0.]\n",
      "  [0. 0. 0. ... 0. 0. 0.]\n",
      "  [0. 0. 0. ... 0. 0. 0.]]\n",
      "\n",
      " [[0. 0. 0. ... 0. 0. 0.]\n",
      "  [0. 0. 0. ... 0. 0. 0.]\n",
      "  [0. 0. 0. ... 0. 0. 0.]\n",
      "  ...\n",
      "  [0. 0. 0. ... 0. 0. 0.]\n",
      "  [0. 0. 0. ... 0. 0. 0.]\n",
      "  [0. 0. 0. ... 0. 0. 0.]]]\n"
     ]
    }
   ],
   "source": [
    "# 원본 이미지 형태로 픽셀을 Reshape하여 mnist_pixels2에 담기\n",
    "# 2차원 배열 --> 3차원 배열\n",
    "# 100 x 784 --> 100 x 28 X 28\n",
    "mnist_pixels2 = mnist_pixels.reshape([100, 28, 28])\n",
    "print(mnist_pixels2.shape)\n",
    "print(mnist_pixels2)"
   ]
  },
  {
   "cell_type": "markdown",
   "metadata": {
    "colab_type": "text",
    "id": "IfvUcAx_Vqw9"
   },
   "source": [
    "**3) 이미지 확인**"
   ]
  },
  {
   "cell_type": "code",
   "execution_count": 91,
   "metadata": {
    "colab": {},
    "colab_type": "code",
    "id": "WdAM-MSOVqw-"
   },
   "outputs": [
    {
     "name": "stdout",
     "output_type": "stream",
     "text": [
      "9.0\n"
     ]
    },
    {
     "data": {
      "text/plain": [
       "<matplotlib.image.AxesImage at 0x189ff6f99c8>"
      ]
     },
     "execution_count": 91,
     "metadata": {},
     "output_type": "execute_result"
    },
    {
     "data": {
      "image/png": "[encoded data removed]",
      "text/plain": [
       "<Figure size 432x288 with 1 Axes>"
      ]
     },
     "metadata": {
      "needs_background": "light"
     },
     "output_type": "display_data"
    }
   ],
   "source": [
    "import matplotlib.pyplot as plt\n",
    "\n",
    "# 특정 이미지의 픽셀값을 진짜 이미지로 나타내기\n",
    "image_no = 99\n",
    "print(mnist_labels[image_no])\n",
    "plt.imshow(mnist_pixels2[image_no, : , : ], cmap='Greys')\n",
    "# plt.show()"
   ]
  },
  {
   "cell_type": "code",
   "execution_count": 92,
   "metadata": {
    "colab": {},
    "colab_type": "code",
    "id": "jeuQi3amVqxA",
    "scrolled": true
   },
   "outputs": [
    {
     "data": {
      "image/png": "[encoded data removed]",
      "text/plain": [
       "<Figure size 432x288 with 1 Axes>"
      ]
     },
     "metadata": {
      "needs_background": "light"
     },
     "output_type": "display_data"
    }
   ],
   "source": [
    "# 전체 다 가져올 거라면 뒤 부분 생략 가능\n",
    "image_no = 80\n",
    "plt.imshow(mnist_pixels2[image_no], cmap='Greys')\n",
    "plt.show()"
   ]
  },
  {
   "cell_type": "code",
   "execution_count": 93,
   "metadata": {
    "colab": {},
    "colab_type": "code",
    "id": "R1tTOh49VqxB"
   },
   "outputs": [
    {
     "name": "stdout",
     "output_type": "stream",
     "text": [
      "6.0\n"
     ]
    },
    {
     "data": {
      "image/png": "[encoded data removed]",
      "text/plain": [
       "<Figure size 432x288 with 1 Axes>"
      ]
     },
     "metadata": {
      "needs_background": "light"
     },
     "output_type": "display_data"
    }
   ],
   "source": [
    "# 하나 더 확인\n",
    "image_no = 50\n",
    "print(mnist_labels[image_no])\n",
    "plt.imshow(mnist_pixels2[image_no], cmap='Greys')\n",
    "plt.show()"
   ]
  },
  {
   "cell_type": "markdown",
   "metadata": {
    "colab_type": "text",
    "id": "Vtl5bjbUVqxE"
   },
   "source": [
    "## 1.5. 배열을 만드는 여러 함수들\n",
    "\n",
    "- 배열을 쉽게 만들 수 있는 함수들이 있습니다."
   ]
  },
  {
   "cell_type": "markdown",
   "metadata": {
    "colab_type": "text",
    "id": "EKSi-HE8VqxE"
   },
   "source": [
    "### 1.5.1. zeros(), ones(), full() 함수"
   ]
  },
  {
   "cell_type": "markdown",
   "metadata": {
    "colab_type": "text",
    "id": "9JHxJjs8VqxE"
   },
   "source": [
    "**1) np.zeros() 함수**\n",
    "\n",
    "- 모든 요소를 0으로 채워서 배열을 만듭니다."
   ]
  },
  {
   "cell_type": "code",
   "execution_count": 94,
   "metadata": {
    "colab": {},
    "colab_type": "code",
    "id": "MyFMwkqmVqxF"
   },
   "outputs": [
    {
     "name": "stdout",
     "output_type": "stream",
     "text": [
      "[[0. 0. 0.]\n",
      " [0. 0. 0.]\n",
      " [0. 0. 0.]]\n"
     ]
    }
   ],
   "source": [
    "# 0으로 채워진 3 x 3 형태의 2차원 배열 만들기\n",
    "a = np.zeros((3, 3))\n",
    "print(a)"
   ]
  },
  {
   "cell_type": "markdown",
   "metadata": {
    "colab_type": "text",
    "id": "dg0vERCrVqxI"
   },
   "source": [
    "**2) np.ones() 함수**\n",
    "\n",
    "- 모든 요소를 1로 채워서 배열을 만듭니다."
   ]
  },
  {
   "cell_type": "code",
   "execution_count": 95,
   "metadata": {
    "colab": {},
    "colab_type": "code",
    "id": "Ima3Ke_BVqxJ"
   },
   "outputs": [
    {
     "name": "stdout",
     "output_type": "stream",
     "text": [
      "[[1. 1. 1.]\n",
      " [1. 1. 1.]\n",
      " [1. 1. 1.]]\n"
     ]
    }
   ],
   "source": [
    "# 1로 채워진 3 x 3 형태의 2차원 배열 반들기\n",
    "b = np.ones((3, 3)) \n",
    "print(b)"
   ]
  },
  {
   "cell_type": "markdown",
   "metadata": {
    "colab_type": "text",
    "id": "VDtisSEqVqxL"
   },
   "source": [
    "**3) np.full() 함수**\n",
    "\n",
    "- 모든 요소를 지정한 값으로 채워서 배열을 만듭니다."
   ]
  },
  {
   "cell_type": "code",
   "execution_count": 96,
   "metadata": {
    "colab": {},
    "colab_type": "code",
    "id": "0hfptc6ZVqxL"
   },
   "outputs": [
    {
     "name": "stdout",
     "output_type": "stream",
     "text": [
      "[[10 10 10]\n",
      " [10 10 10]\n",
      " [10 10 10]]\n"
     ]
    }
   ],
   "source": [
    "# 특정 값으로 채워진 3 x 3 형태의 2차원 배열 만들기\n",
    "c = np.full((3, 3), 10)  \n",
    "print(c)"
   ]
  },
  {
   "cell_type": "markdown",
   "metadata": {
    "colab_type": "text",
    "id": "Dxy1X3RPEn_v"
   },
   "source": [
    "<img src='https://raw.githubusercontent.com/jangrae/img/master/practice_01.png' width=120 align=\"left\"/>"
   ]
  },
  {
   "cell_type": "markdown",
   "metadata": {
    "colab_type": "text",
    "id": "BOK8MVIVOO8T"
   },
   "source": [
    "1로 채워진 5 x 4 형태의 2차원 배열믈 만들어 보세요."
   ]
  },
  {
   "cell_type": "code",
   "execution_count": 100,
   "metadata": {
    "colab": {},
    "colab_type": "code",
    "id": "qyJqGgECEn_y"
   },
   "outputs": [
    {
     "name": "stdout",
     "output_type": "stream",
     "text": [
      "[[1. 1. 1. 1.]\n",
      " [1. 1. 1. 1.]\n",
      " [1. 1. 1. 1.]\n",
      " [1. 1. 1. 1.]\n",
      " [1. 1. 1. 1.]]\n",
      "(5, 4)\n"
     ]
    }
   ],
   "source": [
    "# 배열 만들기\n",
    "d = np.ones((5,4))\n",
    "print(d)\n",
    "\n",
    "# 배열 형태 확인\n",
    "print(d.shape)"
   ]
  },
  {
   "cell_type": "markdown",
   "metadata": {
    "colab_type": "text",
    "id": "BOK8MVIVOO8T"
   },
   "source": [
    "0으로 채워진 4 x 5 형태의 2차원 배열믈 만들어 보세요."
   ]
  },
  {
   "cell_type": "code",
   "execution_count": 102,
   "metadata": {
    "colab": {},
    "colab_type": "code",
    "id": "qyJqGgECEn_y"
   },
   "outputs": [
    {
     "name": "stdout",
     "output_type": "stream",
     "text": [
      "[[0. 0. 0. 0. 0.]\n",
      " [0. 0. 0. 0. 0.]\n",
      " [0. 0. 0. 0. 0.]\n",
      " [0. 0. 0. 0. 0.]]\n",
      "(4, 5)\n"
     ]
    }
   ],
   "source": [
    "# 배열 만들기\n",
    "e = np.zeros((4,5))\n",
    "print(e)\n",
    "\n",
    "# 배열 형태 확인\n",
    "print(e.shape)\n"
   ]
  },
  {
   "cell_type": "markdown",
   "metadata": {
    "colab_type": "text",
    "id": "BOK8MVIVOO8T"
   },
   "source": [
    "5로 채워진 6 x 6 형태의 2차원 배열믈 만들어 보세요."
   ]
  },
  {
   "cell_type": "code",
   "execution_count": 104,
   "metadata": {
    "colab": {},
    "colab_type": "code",
    "id": "qyJqGgECEn_y"
   },
   "outputs": [
    {
     "name": "stdout",
     "output_type": "stream",
     "text": [
      "[[5 5 5 5 5 5]\n",
      " [5 5 5 5 5 5]\n",
      " [5 5 5 5 5 5]\n",
      " [5 5 5 5 5 5]\n",
      " [5 5 5 5 5 5]\n",
      " [5 5 5 5 5 5]]\n",
      "(6, 6)\n"
     ]
    }
   ],
   "source": [
    "# 배열 만들기\n",
    "f = np.full((6,6),5)\n",
    "print(f)\n",
    "\n",
    "# 배열 형태 확인\n",
    "print(f.shape)\n"
   ]
  },
  {
   "cell_type": "markdown",
   "metadata": {
    "colab_type": "text",
    "id": "BWXtPYOttKI5"
   },
   "source": [
    "### 1.5.2. random(), seed() 함수"
   ]
  },
  {
   "cell_type": "markdown",
   "metadata": {
    "colab_type": "text",
    "id": "CGg4Jm29VqxT"
   },
   "source": [
    "**1) np.random.random() 함수**\n",
    "\n",
    "- 임의의 값으로 채운 배열을 만듭니다."
   ]
  },
  {
   "cell_type": "code",
   "execution_count": 107,
   "metadata": {
    "colab": {},
    "colab_type": "code",
    "id": "za-UNpIcVqxU",
    "scrolled": true
   },
   "outputs": [
    {
     "name": "stdout",
     "output_type": "stream",
     "text": [
      "[0.55690628 0.06420232 0.65955947 0.04567468 0.34653298]\n"
     ]
    }
   ],
   "source": [
    "# 5개의 임의의 요소로 채운 1차원 배열 만들기\n",
    "a = np.random.random(5)  \n",
    "print(a)"
   ]
  },
  {
   "cell_type": "code",
   "execution_count": 109,
   "metadata": {
    "colab": {},
    "colab_type": "code",
    "id": "za-UNpIcVqxU",
    "scrolled": true
   },
   "outputs": [
    {
     "name": "stdout",
     "output_type": "stream",
     "text": [
      "[[0.10828585 0.97605782 0.63969284]\n",
      " [0.5118039  0.48632957 0.81511464]\n",
      " [0.57607334 0.84526271 0.86288924]]\n"
     ]
    }
   ],
   "source": [
    "# 3 x 3 형태의 랜덤값으로 채운 2차원 배열 만들기\n",
    "a = np.random.random((3, 3))  \n",
    "print(a)"
   ]
  },
  {
   "cell_type": "markdown",
   "metadata": {
    "colab_type": "text",
    "id": "dIB6EYUmw7oZ"
   },
   "source": [
    "**2) np.random.seed() 함수**\n",
    "\n",
    "- seed 값을 지정하면 다음에 다른 PC에서 실행해도 같은 임의의 값을 갖게 됩니다.\n",
    "- 다음에 아래 코드를 실행하면 제가 지금 확인한 다음과 같은 배열이 될 것입니다.\n",
    "\n",
    "~~~\n",
    "[[0.3051895  0.8090249 ]\n",
    " [0.70315185 0.37396003]]\n",
    "~~~"
   ]
  },
  {
   "cell_type": "code",
   "execution_count": 118,
   "metadata": {
    "colab": {},
    "colab_type": "code",
    "id": "4De99nlnVqxV"
   },
   "outputs": [
    {
     "name": "stdout",
     "output_type": "stream",
     "text": [
      "[[0.3051895  0.8090249 ]\n",
      " [0.70315185 0.37396003]]\n"
     ]
    }
   ],
   "source": [
    "# seed 값을 지정하면 항상 동일한 값으로 샘플링 됨\n",
    "np.random.seed(1102)\n",
    "e = np.random.random((2, 2))\n",
    "print(e)"
   ]
  },
  {
   "cell_type": "code",
   "execution_count": 117,
   "metadata": {
    "colab": {},
    "colab_type": "code",
    "id": "CZWpewk6VqxW"
   },
   "outputs": [
    {
     "name": "stdout",
     "output_type": "stream",
     "text": [
      "[[0.63461781 0.86853157]\n",
      " [0.33688866 0.37870435]]\n"
     ]
    }
   ],
   "source": [
    "# 이 코드를 몇 번 실행한 후 다시 위 코드를 실행 해보면...\n",
    "e = np.random.random((2, 2))\n",
    "print(e)"
   ]
  },
  {
   "cell_type": "markdown",
   "metadata": {
    "colab_type": "text",
    "id": "m-8J-nB1NLSx"
   },
   "source": [
    "<img src='https://raw.githubusercontent.com/jangrae/img/master/practice_01.png' width=120 align=\"left\"/>"
   ]
  },
  {
   "cell_type": "markdown",
   "metadata": {
    "colab_type": "text",
    "id": "WRMbieS8OYQr"
   },
   "source": [
    "임의의 값으로 채워진 6 x 3 형태의 2차원 배열믈 만들어 보세요."
   ]
  },
  {
   "cell_type": "code",
   "execution_count": 120,
   "metadata": {
    "colab": {},
    "colab_type": "code",
    "id": "697M7WNJE4Yb"
   },
   "outputs": [
    {
     "name": "stdout",
     "output_type": "stream",
     "text": [
      "[[0.33917795 0.80823823 0.6794556 ]\n",
      " [0.41107305 0.83169073 0.29707778]\n",
      " [0.40662188 0.63562079 0.59752904]\n",
      " [0.77632061 0.78703096 0.48263792]\n",
      " [0.31802467 0.25300997 0.32674863]\n",
      " [0.47329009 0.94424787 0.52583376]]\n"
     ]
    }
   ],
   "source": [
    "# 배열 만들기\n",
    "my_random = np.random.random((6,3))\n",
    "print(my_random)\n",
    "\n",
    "# 배열 형태 확인\n",
    "\n"
   ]
  },
  {
   "cell_type": "markdown",
   "metadata": {
    "colab_type": "text",
    "id": "qtNymz6lVqyq"
   },
   "source": [
    "## 1.6. 데이터 형식 지정"
   ]
  },
  {
   "cell_type": "markdown",
   "metadata": {
    "colab_type": "text",
    "id": "Z899Q316EzvZ"
   },
   "source": [
    "**1) 데이터 형식 확인**"
   ]
  },
  {
   "cell_type": "code",
   "execution_count": null,
   "metadata": {
    "colab": {},
    "colab_type": "code",
    "id": "njkuGJaVVqyq"
   },
   "outputs": [],
   "source": [
    "# 정수 값을 갖는 1차원 배열 만들기\n",
    "a = np.array([1, 2])\n",
    "print(a.dtype)"
   ]
  },
  {
   "cell_type": "code",
   "execution_count": null,
   "metadata": {
    "colab": {},
    "colab_type": "code",
    "id": "F-yJWHGyPAvN"
   },
   "outputs": [],
   "source": [
    "# 실수 값을 갖는 1차원 배열 만들기\n",
    "a = np.array([1.0, 2.0])\n",
    "print(a.dtype)"
   ]
  },
  {
   "cell_type": "code",
   "execution_count": null,
   "metadata": {
    "colab": {},
    "colab_type": "code",
    "id": "dQ3_VLaQVqys"
   },
   "outputs": [],
   "source": [
    "# 다음 배열이 dtype은? \n",
    "a = np.array([1, 2.0])\n",
    "print(a.dtype)"
   ]
  },
  {
   "cell_type": "markdown",
   "metadata": {
    "colab_type": "text",
    "id": "AbFN7_8uNLNH"
   },
   "source": [
    "- 배열은 **한 가지 데이터 형식**만 가질 수 있습니다."
   ]
  },
  {
   "cell_type": "code",
   "execution_count": null,
   "metadata": {
    "colab": {},
    "colab_type": "code",
    "id": "YRm2mvddVqyt"
   },
   "outputs": [],
   "source": [
    "# 확인\n",
    "print(a)"
   ]
  },
  {
   "cell_type": "markdown",
   "metadata": {
    "colab_type": "text",
    "id": "hEXRbWSGE6Ac"
   },
   "source": [
    "**2) 데이터 형식 지정과 변경**\n",
    "\n",
    "- 배열을 만들 때 **dtype=<데이터 형식>** 형태로 데이터 형식을 지정할 수 있습니다."
   ]
  },
  {
   "cell_type": "code",
   "execution_count": 121,
   "metadata": {
    "colab": {},
    "colab_type": "code",
    "id": "eqES5kkvVqyu"
   },
   "outputs": [
    {
     "name": "stdout",
     "output_type": "stream",
     "text": [
      "int32\n",
      "[1 8]\n"
     ]
    }
   ],
   "source": [
    "# 정수 데이터 형식 지정하기\n",
    "a = np.array([1.9, 8.0], dtype=np.int32)   \n",
    "print(a.dtype)                    \n",
    "print(a) "
   ]
  },
  {
   "cell_type": "markdown",
   "metadata": {
    "colab_type": "text",
    "id": "PCpHw3sLVqyu"
   },
   "source": [
    "- int32 : –2,147,483,648 ~ 2,147,483,647 <br>\n",
    "- int64 : –9,223,372,036,854,775,808 ~ 9,223,372,036,854,775,807"
   ]
  },
  {
   "cell_type": "code",
   "execution_count": 122,
   "metadata": {
    "colab": {},
    "colab_type": "code",
    "id": "hduwzzgtPAvV"
   },
   "outputs": [
    {
     "name": "stdout",
     "output_type": "stream",
     "text": [
      "<U10\n",
      "['1.9' '8.0']\n"
     ]
    }
   ],
   "source": [
    "# 문자열 데이터 형식 지정하기\n",
    "a = np.array([1.9, 8.0], np.dtype('U10')) # 문자 10글자\n",
    "print(a.dtype) \n",
    "print(a) "
   ]
  },
  {
   "cell_type": "markdown",
   "metadata": {
    "colab_type": "text",
    "id": "gflVCLEnPAvW"
   },
   "source": [
    "- 기존 배열의 데이터 형식은 **astype()** 메소드로 변경합니다."
   ]
  },
  {
   "cell_type": "code",
   "execution_count": 124,
   "metadata": {
    "colab": {},
    "colab_type": "code",
    "id": "OVNKnD8yPAvX"
   },
   "outputs": [
    {
     "name": "stdout",
     "output_type": "stream",
     "text": [
      "int32\n",
      "[123 345]\n"
     ]
    }
   ],
   "source": [
    "# 배열 만들기\n",
    "a = np.array([123, 345]) \n",
    "print(a.dtype) \n",
    "print(a) "
   ]
  },
  {
   "cell_type": "code",
   "execution_count": 123,
   "metadata": {
    "colab": {},
    "colab_type": "code",
    "id": "3sIhpp1kPAvY"
   },
   "outputs": [
    {
     "name": "stdout",
     "output_type": "stream",
     "text": [
      "<U10\n",
      "['1.9' '8.0']\n"
     ]
    }
   ],
   "source": [
    "# 데이터 형식 변경\n",
    "b = a.astype(np.str)\n",
    "print(b.dtype) \n",
    "print(b) "
   ]
  },
  {
   "cell_type": "markdown",
   "metadata": {
    "colab_type": "text",
    "id": "bkwI-jQitI4u"
   },
   "source": [
    "# <img src='https://raw.githubusercontent.com/jangrae/img/master/practice_01.png' width=120 align=\"left\"/>"
   ]
  },
  {
   "cell_type": "markdown",
   "metadata": {
    "colab_type": "text",
    "id": "wkAZpouIcyou"
   },
   "source": [
    "아래 주어진 배열을 **round()** 함수를 사용해 소수점 2자리 실수로 변경해 보세요."
   ]
  },
  {
   "cell_type": "code",
   "execution_count": 131,
   "metadata": {
    "colab": {},
    "colab_type": "code",
    "id": "EBneYGk3shsx"
   },
   "outputs": [
    {
     "data": {
      "text/plain": [
       "array([1.923, 2.316, 4.718])"
      ]
     },
     "execution_count": 131,
     "metadata": {},
     "output_type": "execute_result"
    }
   ],
   "source": [
    "# 배열 만들기\n",
    "a = np.array([1.923, 2.316, 4.718])\n",
    "a"
   ]
  },
  {
   "cell_type": "code",
   "execution_count": 132,
   "metadata": {
    "colab": {},
    "colab_type": "code",
    "id": "2FoZZm97s1ns"
   },
   "outputs": [
    {
     "name": "stdout",
     "output_type": "stream",
     "text": [
      "[1.92 2.32 4.72]\n"
     ]
    }
   ],
   "source": [
    "# 소수점 두 자리로 바꾸기\n",
    "# a = a.astype(np.int32)\n",
    "a = a.round(2)\n",
    "print(a)\n",
    "\n",
    "# 확인\n",
    "\n"
   ]
  },
  {
   "cell_type": "markdown",
   "metadata": {
    "colab_type": "text",
    "id": "KqOHu2W4C_0R"
   },
   "source": [
    "## <center>수고하셨습니다.</center>\n",
    "<center><img src='https://raw.githubusercontent.com/Jangrae/img/master/end.png' width=200/></center>"
   ]
  }
 ],
 "metadata": {
  "colab": {
   "collapsed_sections": [],
   "name": "01 넘파이 배열 만들기.ipynb",
   "provenance": []
  },
  "kernelspec": {
   "display_name": "Python 3",
   "language": "python",
   "name": "python3"
  },
  "language_info": {
   "codemirror_mode": {
    "name": "ipython",
    "version": 3
   },
   "file_extension": ".py",
   "mimetype": "text/x-python",
   "name": "python",
   "nbconvert_exporter": "python",
   "pygments_lexer": "ipython3",
   "version": "3.7.6"
  }
 },
 "nbformat": 4,
 "nbformat_minor": 1
}
