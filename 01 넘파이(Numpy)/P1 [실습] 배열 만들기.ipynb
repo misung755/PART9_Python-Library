{
 "cells": [
  {
   "cell_type": "markdown",
   "metadata": {
    "colab_type": "text",
    "id": "1CVOOe62Vqvv"
   },
   "source": [
    "<center><img src='https://raw.githubusercontent.com/Jangrae/img/master/title.png' width=500/><center>"
   ]
  },
  {
   "cell_type": "markdown",
   "metadata": {
    "colab_type": "text",
    "id": "BFhIXgdYoYGp"
   },
   "source": [
    "<center><img src='https://raw.githubusercontent.com/Jangrae/img/master/practice.png' width=300/></center>"
   ]
  },
  {
   "cell_type": "markdown",
   "metadata": {
    "colab_type": "text",
    "id": "0k4oSwxPBwXi"
   },
   "source": [
    "# 실습 목표\n",
    "\n",
    "- 1, 2, 3차원 배열을 만들 수 있습니다.\n",
    "- 배열의 크기(Shape)를 확인할 수 있습니다.\n",
    "- Reshape 기능으로 배열 크기를 바꿀 수 있습니다."
   ]
  },
  {
   "cell_type": "markdown",
   "metadata": {
    "colab_type": "text",
    "id": "IAxTpJCOVqxX"
   },
   "source": [
    "# P1. [실습] 배열 만들기"
   ]
  },
  {
   "cell_type": "markdown",
   "metadata": {
    "colab_type": "text",
    "id": "sh0fGNc7VqxY"
   },
   "source": [
    "1) numpy 라이브러리를 np 별칭을 주어 불러오세요."
   ]
  },
  {
   "cell_type": "code",
   "execution_count": 1,
   "metadata": {
    "colab": {},
    "colab_type": "code",
    "id": "QBxfYJR8Vqv1"
   },
   "outputs": [],
   "source": [
    "# 라이브러리 불러오기\n",
    "import numpy as np\n"
   ]
  },
  {
   "cell_type": "markdown",
   "metadata": {
    "colab_type": "text",
    "id": "sh0fGNc7VqxY"
   },
   "source": [
    "2) a 리스트를 사용해 **np_01** 배열을 생성하세요"
   ]
  },
  {
   "cell_type": "code",
   "execution_count": 3,
   "metadata": {
    "colab": {},
    "colab_type": "code",
    "id": "WaJlK_bZVqxZ"
   },
   "outputs": [
    {
     "name": "stdout",
     "output_type": "stream",
     "text": [
      "[1 2 3 4 5 6]\n"
     ]
    }
   ],
   "source": [
    "# 리스트 만들기\n",
    "a = [1, 2, 3, 4, 5, 6]\n",
    "\n",
    "# 배열 만들기\n",
    "np_01 = np.array(a)\n",
    "\n",
    "# 확인\n",
    "print(np_01)\n"
   ]
  },
  {
   "cell_type": "markdown",
   "metadata": {
    "colab_type": "text",
    "id": "06rhCgTeVqxb"
   },
   "source": [
    "3) np_01의 크기를 확인하세요."
   ]
  },
  {
   "cell_type": "code",
   "execution_count": 5,
   "metadata": {
    "colab": {},
    "colab_type": "code",
    "id": "zzhPeZH_Vqxd"
   },
   "outputs": [
    {
     "name": "stdout",
     "output_type": "stream",
     "text": [
      "(6,)\n"
     ]
    }
   ],
   "source": [
    "# 배열 크기 확인\n",
    "print(np_01.shape)\n"
   ]
  },
  {
   "cell_type": "markdown",
   "metadata": {
    "colab_type": "text",
    "id": "IbfCrjDCVqxf"
   },
   "source": [
    "4) np_01의 크기를 **(6, 1)**로 변환하여 **np_02**에 넣으세요."
   ]
  },
  {
   "cell_type": "code",
   "execution_count": 7,
   "metadata": {
    "colab": {},
    "colab_type": "code",
    "id": "IhQKfajCVqxf"
   },
   "outputs": [
    {
     "name": "stdout",
     "output_type": "stream",
     "text": [
      "[[1]\n",
      " [2]\n",
      " [3]\n",
      " [4]\n",
      " [5]\n",
      " [6]]\n"
     ]
    }
   ],
   "source": [
    "# 6 x 1 형태로 변경\n",
    "np_02 = np_01.reshape(6,1)\n",
    "print(np_02)"
   ]
  },
  {
   "cell_type": "markdown",
   "metadata": {
    "colab_type": "text",
    "id": "wMUQ2lITVqxg"
   },
   "source": [
    "5) np_01의 크기를 **(1, 6)**로 변환하여 **np_03**에 넣으세요."
   ]
  },
  {
   "cell_type": "code",
   "execution_count": 8,
   "metadata": {
    "colab": {},
    "colab_type": "code",
    "id": "pqHytlceVqxh"
   },
   "outputs": [
    {
     "name": "stdout",
     "output_type": "stream",
     "text": [
      "[[1 2 3 4 5 6]]\n"
     ]
    }
   ],
   "source": [
    "# 1 x 6 형태로 변경\n",
    "np_03 = np_01.reshape(1,6)\n",
    "print(np_03)"
   ]
  },
  {
   "cell_type": "markdown",
   "metadata": {
    "colab_type": "text",
    "id": "nfM56Zl1Vqxi"
   },
   "source": [
    "6) np_01의 크기를 **(-1, 2)**로 변환하여 **np_04**에 넣으세요."
   ]
  },
  {
   "cell_type": "code",
   "execution_count": 10,
   "metadata": {
    "colab": {},
    "colab_type": "code",
    "id": "pfe0BGtQVqxi"
   },
   "outputs": [
    {
     "name": "stdout",
     "output_type": "stream",
     "text": [
      "[[1 2]\n",
      " [3 4]\n",
      " [5 6]]\n"
     ]
    }
   ],
   "source": [
    "# -1 x 2 형태로 변경\n",
    "np_04 = np_01.reshape(-1,2)\n",
    "print(np_04)"
   ]
  },
  {
   "cell_type": "markdown",
   "metadata": {
    "colab_type": "text",
    "id": "go-F8CLFVqxj"
   },
   "source": [
    "7) np_01, np_02, np_03, np_04의 **크기**와 **값**을 확인하세요."
   ]
  },
  {
   "cell_type": "code",
   "execution_count": 16,
   "metadata": {
    "colab": {},
    "colab_type": "code",
    "id": "b5-10lNbVqxk"
   },
   "outputs": [
    {
     "name": "stdout",
     "output_type": "stream",
     "text": [
      "(6,)\n",
      "[1 2 3 4 5 6]\n"
     ]
    }
   ],
   "source": [
    "# np_01 크기 확인\n",
    "print(np_01.shape)\n",
    "\n",
    "# np_01 값 확인\n",
    "print(np_01)"
   ]
  },
  {
   "cell_type": "code",
   "execution_count": 18,
   "metadata": {
    "colab": {},
    "colab_type": "code",
    "id": "IZC0Ne-cBwYu"
   },
   "outputs": [
    {
     "name": "stdout",
     "output_type": "stream",
     "text": [
      "(6, 1)\n",
      "[[1]\n",
      " [2]\n",
      " [3]\n",
      " [4]\n",
      " [5]\n",
      " [6]]\n"
     ]
    }
   ],
   "source": [
    "# np_02 크기 확인\n",
    "print(np_02.shape)\n",
    "\n",
    "# np_02 값 확인\n",
    "print(np_02)\n"
   ]
  },
  {
   "cell_type": "code",
   "execution_count": 19,
   "metadata": {
    "colab": {},
    "colab_type": "code",
    "id": "n-uK8-vjBwY4"
   },
   "outputs": [
    {
     "name": "stdout",
     "output_type": "stream",
     "text": [
      "(1, 6)\n",
      "[[1 2 3 4 5 6]]\n"
     ]
    }
   ],
   "source": [
    "# np_03 크기 확인\n",
    "print(np_03.shape)\n",
    "\n",
    "# np_03 값 확인\n",
    "print(np_03)\n"
   ]
  },
  {
   "cell_type": "code",
   "execution_count": 17,
   "metadata": {
    "colab": {},
    "colab_type": "code",
    "id": "2-ZSCEdEBwZE"
   },
   "outputs": [
    {
     "name": "stdout",
     "output_type": "stream",
     "text": [
      "(3, 2)\n",
      "[[1 2]\n",
      " [3 4]\n",
      " [5 6]]\n"
     ]
    }
   ],
   "source": [
    "# np_04 크기 확인\n",
    "print(np_04.shape)\n",
    "\n",
    "# np_04 값 확인\n",
    "print(np_04)\n"
   ]
  },
  {
   "cell_type": "markdown",
   "metadata": {
    "colab_type": "text",
    "id": "06VKstxBVqxm"
   },
   "source": [
    "8) 랜덤값으로 채운 **12 x 6** 형태의 2차원 배열을 생성하여 **np_sample** 변수로 선언하세요."
   ]
  },
  {
   "cell_type": "code",
   "execution_count": 21,
   "metadata": {
    "colab": {},
    "colab_type": "code",
    "id": "xITAWrqaVqxm",
    "scrolled": false
   },
   "outputs": [
    {
     "name": "stdout",
     "output_type": "stream",
     "text": [
      "(12, 6)\n",
      "[[0.78142911 0.73209098 0.13310644 0.24935845 0.74768389 0.46649641]\n",
      " [0.65276958 0.36210345 0.58984768 0.05343668 0.9855075  0.71627968]\n",
      " [0.11761189 0.50939914 0.07508842 0.80759227 0.30535679 0.57236933]\n",
      " [0.72251604 0.44692299 0.29492753 0.35244608 0.85650787 0.67155394]\n",
      " [0.90122615 0.19804962 0.67210182 0.20852898 0.46121824 0.28279485]\n",
      " [0.47881379 0.24623052 0.85822695 0.65639202 0.06289075 0.13415775]\n",
      " [0.12692333 0.1971376  0.37296763 0.27835362 0.66123092 0.51275925]\n",
      " [0.49090048 0.62291378 0.04389932 0.42848765 0.45286707 0.3013649 ]\n",
      " [0.02383892 0.38610186 0.795354   0.3145091  0.0767255  0.4782691 ]\n",
      " [0.04726653 0.15369572 0.0816607  0.98084031 0.95120951 0.59282126]\n",
      " [0.05761193 0.17962552 0.39525873 0.64840715 0.32608979 0.80823501]\n",
      " [0.87141278 0.49112863 0.16867117 0.18121366 0.54132456 0.59938188]]\n"
     ]
    }
   ],
   "source": [
    "# 12 x 6 형태의 2차원 배열 만들기\n",
    "np_sample = np.random.random((12,6))\n",
    "\n",
    "# 크기 확인\n",
    "print(np_sample.shape)\n",
    "\n",
    "# 값 확인\n",
    "print(np_sample)\n"
   ]
  },
  {
   "cell_type": "markdown",
   "metadata": {
    "colab_type": "text",
    "id": "UpTF21pTCbZy"
   },
   "source": [
    "9) np_sample 배열을 24 x ? 형태로 변경하세요."
   ]
  },
  {
   "cell_type": "code",
   "execution_count": 22,
   "metadata": {
    "colab": {},
    "colab_type": "code",
    "id": "U4u-jtjhCbZ2",
    "scrolled": false
   },
   "outputs": [
    {
     "name": "stdout",
     "output_type": "stream",
     "text": [
      "(24, 3)\n",
      "[[0.78142911 0.73209098 0.13310644]\n",
      " [0.24935845 0.74768389 0.46649641]\n",
      " [0.65276958 0.36210345 0.58984768]\n",
      " [0.05343668 0.9855075  0.71627968]\n",
      " [0.11761189 0.50939914 0.07508842]\n",
      " [0.80759227 0.30535679 0.57236933]\n",
      " [0.72251604 0.44692299 0.29492753]\n",
      " [0.35244608 0.85650787 0.67155394]\n",
      " [0.90122615 0.19804962 0.67210182]\n",
      " [0.20852898 0.46121824 0.28279485]\n",
      " [0.47881379 0.24623052 0.85822695]\n",
      " [0.65639202 0.06289075 0.13415775]\n",
      " [0.12692333 0.1971376  0.37296763]\n",
      " [0.27835362 0.66123092 0.51275925]\n",
      " [0.49090048 0.62291378 0.04389932]\n",
      " [0.42848765 0.45286707 0.3013649 ]\n",
      " [0.02383892 0.38610186 0.795354  ]\n",
      " [0.3145091  0.0767255  0.4782691 ]\n",
      " [0.04726653 0.15369572 0.0816607 ]\n",
      " [0.98084031 0.95120951 0.59282126]\n",
      " [0.05761193 0.17962552 0.39525873]\n",
      " [0.64840715 0.32608979 0.80823501]\n",
      " [0.87141278 0.49112863 0.16867117]\n",
      " [0.18121366 0.54132456 0.59938188]]\n"
     ]
    }
   ],
   "source": [
    "# 24 x ? 형태의 2차원 배열 만들기\n",
    "np_sample = np_sample.reshape(24,-1)\n",
    "\n",
    "# 크기 확인\n",
    "print(np_sample.shape)\n",
    "\n",
    "# 값 확인\n",
    "print(np_sample)\n"
   ]
  },
  {
   "cell_type": "markdown",
   "metadata": {
    "colab_type": "text",
    "id": "KqOHu2W4C_0R"
   },
   "source": [
    "## <center>수고하셨습니다.</center>\n",
    "<center><img src='https://raw.githubusercontent.com/Jangrae/img/master/end.png' width=200/></center>"
   ]
  }
 ],
 "metadata": {
  "colab": {
   "collapsed_sections": [],
   "name": "P1 [실습] 배열 만들기.ipynb",
   "provenance": []
  },
  "kernelspec": {
   "display_name": "Python 3",
   "language": "python",
   "name": "python3"
  },
  "language_info": {
   "codemirror_mode": {
    "name": "ipython",
    "version": 3
   },
   "file_extension": ".py",
   "mimetype": "text/x-python",
   "name": "python",
   "nbconvert_exporter": "python",
   "pygments_lexer": "ipython3",
   "version": "3.7.6"
  }
 },
 "nbformat": 4,
 "nbformat_minor": 1
}
