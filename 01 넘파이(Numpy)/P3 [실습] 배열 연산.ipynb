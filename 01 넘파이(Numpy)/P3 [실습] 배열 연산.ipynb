{
 "cells": [
  {
   "cell_type": "markdown",
   "metadata": {
    "colab_type": "text",
    "id": "1CVOOe62Vqvv"
   },
   "source": [
    "<center><img src='https://raw.githubusercontent.com/Jangrae/img/master/title.png' width=500/><center>"
   ]
  },
  {
   "cell_type": "markdown",
   "metadata": {
    "colab_type": "text",
    "id": "BFhIXgdYoYGp"
   },
   "source": [
    "<center><img src='https://raw.githubusercontent.com/Jangrae/img/master/practice.png' width=300/></center>"
   ]
  },
  {
   "cell_type": "markdown",
   "metadata": {
    "colab_type": "text",
    "id": "19WpU3wYEw2d"
   },
   "source": [
    "# 실습 목표\n",
    "\n",
    "- 배열 크기를 확인할 수 있습니다.\n",
    "- 배열을 분할할 수 있습니다.\n",
    "- 배열 요소를 섞을 수 있습니다.\n",
    "- 임의 요소를 샘플링할 수 있습니다."
   ]
  },
  {
   "cell_type": "markdown",
   "metadata": {
    "colab_type": "text",
    "id": "Jq2QsizDVqzp"
   },
   "source": [
    "# P3. [실습] 배열 연산"
   ]
  },
  {
   "cell_type": "code",
   "execution_count": 1,
   "metadata": {
    "colab": {},
    "colab_type": "code",
    "id": "YtH2WpCwVqzp"
   },
   "outputs": [],
   "source": [
    "# 라이브러리 불러오기\n",
    "import numpy as np "
   ]
  },
  {
   "cell_type": "code",
   "execution_count": 2,
   "metadata": {
    "colab": {},
    "colab_type": "code",
    "id": "BcS3fbgUVqzq"
   },
   "outputs": [],
   "source": [
    "# 파일에서 읽어와 배열 만들기\n",
    "file_path = 'https://raw.githubusercontent.com/Jangrae/csv/master/Graduate_apply.csv'\n",
    "apply = np.genfromtxt(file_path, delimiter = ',', names = True)"
   ]
  },
  {
   "cell_type": "markdown",
   "metadata": {
    "colab_type": "text",
    "id": "4aue0C74Vqzr"
   },
   "source": [
    "1) apply의 요소 개수를 확인하세요."
   ]
  },
  {
   "cell_type": "code",
   "execution_count": 3,
   "metadata": {
    "colab": {},
    "colab_type": "code",
    "id": "u6-6EW-AVqzr"
   },
   "outputs": [
    {
     "name": "stdout",
     "output_type": "stream",
     "text": [
      "(400,)\n"
     ]
    }
   ],
   "source": [
    "# 배열 크기 확인\n",
    "print(apply.shape)\n"
   ]
  },
  {
   "cell_type": "markdown",
   "metadata": {
    "colab_type": "text",
    "id": "H-bNeAx5Vqzs"
   },
   "source": [
    "2) apply의 요소들 중 **0 ~ 300** 까지의 행은 **train** 변수에, **301 ~ 마지막** 까지의 행은 **test** 변수에 담으세요."
   ]
  },
  {
   "cell_type": "code",
   "execution_count": 5,
   "metadata": {
    "colab": {},
    "colab_type": "code",
    "id": "0n3bk5-mVqzs"
   },
   "outputs": [
    {
     "name": "stdout",
     "output_type": "stream",
     "text": [
      "(301,)\n",
      "(99,)\n"
     ]
    }
   ],
   "source": [
    "# 배열 분할\n",
    "train, test = apply[:301], apply[301: ]\n",
    "\n",
    "# 배열 크기 확인\n",
    "print(train.shape)\n",
    "print(test.shape)"
   ]
  },
  {
   "cell_type": "markdown",
   "metadata": {
    "colab_type": "text",
    "id": "QWq1UJfgVqzt"
   },
   "source": [
    "3) **train**에 담겨있는 데이터를 **suffle()** 메소드로 섞은 후 **상위 5개** 요소를 조회하세요."
   ]
  },
  {
   "cell_type": "code",
   "execution_count": 19,
   "metadata": {
    "colab": {},
    "colab_type": "code",
    "id": "qi5NQWM5Vqzt",
    "scrolled": true
   },
   "outputs": [
    {
     "name": "stdout",
     "output_type": "stream",
     "text": [
      "[(0., 560., 2.95, 2.) (0., 380., 2.91, 4.) (1., 740., 4.  , 3.)\n",
      " (1., 520., 3.19, 3.) (0., 460., 2.87, 2.)]\n"
     ]
    }
   ],
   "source": [
    "# 배열 섞기\n",
    "np.random.shuffle(train)\n",
    "print(train[0:5])"
   ]
  },
  {
   "cell_type": "markdown",
   "metadata": {
    "colab_type": "text",
    "id": "2d1pcbE3Vqzu"
   },
   "source": [
    "4) **0 ~ 100** 까지의 숫자를 **1차원** 배열 **arr**로 선언하세요."
   ]
  },
  {
   "cell_type": "code",
   "execution_count": 41,
   "metadata": {
    "colab": {},
    "colab_type": "code",
    "id": "_zgRKUjcVqzu"
   },
   "outputs": [
    {
     "name": "stdout",
     "output_type": "stream",
     "text": [
      "[40 37 20 73 28 99 33 19 82 25 50 29 15 11 60 34 85 51 42 72 71 62 93 18\n",
      " 27 98 88 59 66  3 90 17 91  7 61  6 38 41 47 49 67 80 46 35 54  9 13 76\n",
      " 30 56  2 70 96 64 63 52  1 95  4 23 87 84 94 83 32 74 57  5 81  8 45 69\n",
      " 58 21 92 12 68 36 14 53 48 55 78 26 89 77 16 39 86 79  0 44 97 75 65 31\n",
      " 24 43 22 10]\n",
      "(100,)\n"
     ]
    }
   ],
   "source": [
    "# 임의 정수를 갖는 배열 만들기\n",
    "arr = np.arange(100)\n",
    "np.random.shuffle(arr)\n",
    "\n",
    "# 크기 확인\n",
    "print(arr)\n",
    "print(arr.shape)\n"
   ]
  },
  {
   "cell_type": "markdown",
   "metadata": {
    "colab_type": "text",
    "id": "HUbG9gjwVqzv"
   },
   "source": [
    "5) 4번에서 만든 **arr**에서 10개의 값을 무작위로 추출하세요. 단, **비복원 추출** 방식을 사용하세요."
   ]
  },
  {
   "cell_type": "code",
   "execution_count": 42,
   "metadata": {
    "colab": {},
    "colab_type": "code",
    "id": "F2E0pG9YVqzv"
   },
   "outputs": [
    {
     "name": "stdout",
     "output_type": "stream",
     "text": [
      "[31 77 53 69 19  9 22 98 18 67]\n"
     ]
    }
   ],
   "source": [
    "#  비복원 추출\n",
    "print(np.random.choice(arr, 10, replace=False))"
   ]
  },
  {
   "cell_type": "markdown",
   "metadata": {
    "colab_type": "text",
    "id": "Gkda6zPYVqzw"
   },
   "source": [
    "6) arr에서 10개의 값을 무작위로 추출하세요. 단, **복원 추출** 방식을 사용하세요."
   ]
  },
  {
   "cell_type": "code",
   "execution_count": 44,
   "metadata": {
    "colab": {},
    "colab_type": "code",
    "id": "IXZJ3lCVVqzw"
   },
   "outputs": [
    {
     "name": "stdout",
     "output_type": "stream",
     "text": [
      "[31 45  6 44 56 47 60 60 30  3]\n"
     ]
    }
   ],
   "source": [
    "# 복원 추출\n",
    "print(np.random.choice(arr, 10))"
   ]
  },
  {
   "cell_type": "markdown",
   "metadata": {
    "colab_type": "text",
    "id": "G7A9XGOEVqzy"
   },
   "source": [
    "7) arr에서 5개의 값을 무작위로 추출하세요. 단, **다른 컴퓨터**에서도 **동일한 값**으로 추출되도록 코드를 작성하세요."
   ]
  },
  {
   "cell_type": "code",
   "execution_count": 48,
   "metadata": {
    "colab": {},
    "colab_type": "code",
    "id": "5o4Emq_LVqzy"
   },
   "outputs": [
    {
     "name": "stdout",
     "output_type": "stream",
     "text": [
      "[ 9 31 68  3 66]\n"
     ]
    }
   ],
   "source": [
    "# Seed 사용\n",
    "np.random.seed(1102)\n",
    "e = np.random.choice(arr, 5)\n",
    "print(e)"
   ]
  },
  {
   "cell_type": "markdown",
   "metadata": {
    "colab_type": "text",
    "id": "KqOHu2W4C_0R"
   },
   "source": [
    "## <center>수고하셨습니다.</center>\n",
    "<center><img src='https://raw.githubusercontent.com/Jangrae/img/master/end.png' width=200/></center>"
   ]
  }
 ],
 "metadata": {
  "colab": {
   "collapsed_sections": [],
   "name": "P3 [실습] 배열 연산.ipynb",
   "provenance": []
  },
  "kernelspec": {
   "display_name": "Python 3",
   "language": "python",
   "name": "python3"
  },
  "language_info": {
   "codemirror_mode": {
    "name": "ipython",
    "version": 3
   },
   "file_extension": ".py",
   "mimetype": "text/x-python",
   "name": "python",
   "nbconvert_exporter": "python",
   "pygments_lexer": "ipython3",
   "version": "3.7.6"
  }
 },
 "nbformat": 4,
 "nbformat_minor": 1
}
